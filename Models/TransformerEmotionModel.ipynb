{
  "nbformat": 4,
  "nbformat_minor": 0,
  "metadata": {
    "interpreter": {
      "hash": "c3f8fda74879b412ae12a7fcfacd263e49d2c0235f8973285177a5382391be39"
    },
    "kernelspec": {
      "display_name": "Python 3.8.8 64-bit (conda)",
      "language": "python",
      "name": "python3"
    },
    "language_info": {
      "codemirror_mode": {
        "name": "ipython",
        "version": 3
      },
      "file_extension": ".py",
      "mimetype": "text/x-python",
      "name": "python",
      "nbconvert_exporter": "python",
      "pygments_lexer": "ipython3",
      "version": "3.8.8"
    },
    "orig_nbformat": 4,
    "colab": {
      "name": "TransformerEmotionModel.ipynb",
      "provenance": []
    },
    "accelerator": "GPU"
  },
  "cells": [
    {
      "cell_type": "code",
      "metadata": {
        "id": "aA_M_8KaKlvP"
      },
      "source": [
        "!pip install -q transformers"
      ],
      "execution_count": 105,
      "outputs": []
    },
    {
      "cell_type": "code",
      "metadata": {
        "id": "KSlNUc9dLB25"
      },
      "source": [
        "from transformers import DistilBertTokenizerFast\n",
        "from transformers import TFDistilBertForSequenceClassification\n",
        "\n",
        "import tensorflow as tf\n",
        "import json\n",
        "\n",
        "import numpy as np\n",
        "import pandas as pd\n",
        "\n",
        "import os\n",
        "import re"
      ],
      "execution_count": 106,
      "outputs": []
    },
    {
      "cell_type": "code",
      "metadata": {
        "id": "B4iP6SE4Lk-E"
      },
      "source": [
        "jsonDataString = \"{\"\n",
        "DataTypes = []\n",
        "EmotionData= []\n",
        "dataDir = [\"data/\"]\n",
        "for dataList in dataDir:\n",
        "  for dirNames in os.listdir(os.path.join(dataList)):\n",
        "    jsonDataString+=dirNames+':[{'\n",
        "    temp2 = \"\"\n",
        "    for emoDir in os.listdir(os.path.join(dataList,dirNames)):\n",
        "      jsonDataString += emoDir+':['\n",
        "      for filesName in os.listdir(os.path.join(dataList,dirNames,emoDir)):\n",
        "        with open(os.path.join(dataList,dirNames,emoDir, filesName) ,'r') as f:\n",
        "          jsonDataString+=re.sub(r\"\\n\", \"\", f.read())+','\n",
        "          \n",
        "      jsonDataString = jsonDataString[0:len(jsonDataString)-1]+'],'\n",
        "    jsonDataString =jsonDataString[0:len(jsonDataString)-1]+'}],'\n",
        "  \n",
        "\n",
        "      # for filesName in os.listdir(os.path.join(dataList,dirNames,emoDir)):\n",
        "      #   print('',end='')\n",
        "    #with open(os.path.join(os.getcwd(), filename), 'r') as f:\n",
        "jsonDataString = jsonDataString[0:len(jsonDataString)-1]+'}' \n",
        "print(jsonDataString)"
      ],
      "execution_count": 107,
      "outputs": []
    },
    {
      "cell_type": "code",
      "metadata": {
        "colab": {
          "base_uri": "https://localhost:8080/",
          "height": 204
        },
        "id": "48h2U60fLEfw",
        "outputId": "79b35675-f263-4002-b768-ebd33092cab8"
      },
      "source": [
        "TestTrainData = json.load(open('/home/data.json'))\n",
        "TrainData = TestTrainData['train'][0]\n",
        "TestData = TestTrainData['test'][0]\n",
        "FormattedTrainData=[]\n",
        "FormattedTrainLabel=[]\n",
        "FormattedTestData=[]\n",
        "FormattedTestLabel=[]\n",
        "\n",
        "for i in ((TestData)):\n",
        "  # if((list((TestData.keys())).index(i))<2):\n",
        "  for ii in TestData[i]:\n",
        "      FormattedTestData.append([(list((TestData.keys())).index(i)),ii])\n",
        "      FormattedTestLabel.append(((list((TrainData.keys())).index(i))))\n",
        "\n",
        "for i in ((TrainData)):\n",
        "  # if((list((TrainData.keys())).index(i))<2):\n",
        "  for ii in TrainData[i]:\n",
        "        FormattedTrainData.append([(list(TrainData.keys()).index(i)),ii])\n",
        "        FormattedTrainLabel.append((list(TrainData.keys()).index(i)))\n",
        "\n",
        "FormattedTrainData = pd.DataFrame(np.array((FormattedTrainData)), columns = ['label','message']).sample(frac = 1)\n",
        "FormattedTestData =  pd.DataFrame(np.array((FormattedTestData)), columns = ['label','message']).sample(frac = 1)\n",
        "FormattedTrainData.head()\n",
        "FormattedTestData.head()"
      ],
      "execution_count": 108,
      "outputs": [
        {
          "output_type": "execute_result",
          "data": {
            "text/html": [
              "<div>\n",
              "<style scoped>\n",
              "    .dataframe tbody tr th:only-of-type {\n",
              "        vertical-align: middle;\n",
              "    }\n",
              "\n",
              "    .dataframe tbody tr th {\n",
              "        vertical-align: top;\n",
              "    }\n",
              "\n",
              "    .dataframe thead th {\n",
              "        text-align: right;\n",
              "    }\n",
              "</style>\n",
              "<table border=\"1\" class=\"dataframe\">\n",
              "  <thead>\n",
              "    <tr style=\"text-align: right;\">\n",
              "      <th></th>\n",
              "      <th>label</th>\n",
              "      <th>message</th>\n",
              "    </tr>\n",
              "  </thead>\n",
              "  <tbody>\n",
              "    <tr>\n",
              "      <th>545</th>\n",
              "      <td>2</td>\n",
              "      <td>i get frustrated that unresolved issues from m...</td>\n",
              "    </tr>\n",
              "    <tr>\n",
              "      <th>286</th>\n",
              "      <td>1</td>\n",
              "      <td>ive got to learn to be mindful of how i feel a...</td>\n",
              "    </tr>\n",
              "    <tr>\n",
              "      <th>490</th>\n",
              "      <td>2</td>\n",
              "      <td>i didnt want to be spending my days working in...</td>\n",
              "    </tr>\n",
              "    <tr>\n",
              "      <th>256</th>\n",
              "      <td>1</td>\n",
              "      <td>i feel agitated and annoyed more than worried ...</td>\n",
              "    </tr>\n",
              "    <tr>\n",
              "      <th>90</th>\n",
              "      <td>0</td>\n",
              "      <td>i feel that i am supporting the troops by dema...</td>\n",
              "    </tr>\n",
              "  </tbody>\n",
              "</table>\n",
              "</div>"
            ],
            "text/plain": [
              "    label                                            message\n",
              "545     2  i get frustrated that unresolved issues from m...\n",
              "286     1  ive got to learn to be mindful of how i feel a...\n",
              "490     2  i didnt want to be spending my days working in...\n",
              "256     1  i feel agitated and annoyed more than worried ...\n",
              "90      0  i feel that i am supporting the troops by dema..."
            ]
          },
          "metadata": {},
          "execution_count": 108
        }
      ]
    },
    {
      "cell_type": "code",
      "metadata": {
        "colab": {
          "base_uri": "https://localhost:8080/"
        },
        "id": "VCi5x9B3LGnS",
        "outputId": "c41685ea-76d1-4a23-c00c-6f9b4d77db39"
      },
      "source": [
        "print(FormattedTrainData['label'])\n"
      ],
      "execution_count": 109,
      "outputs": [
        {
          "output_type": "stream",
          "name": "stdout",
          "text": [
            "766     0\n",
            "6710    3\n",
            "8327    3\n",
            "3209    1\n",
            "7193    3\n",
            "       ..\n",
            "2655    1\n",
            "2354    1\n",
            "6067    3\n",
            "7209    3\n",
            "6945    3\n",
            "Name: label, Length: 8687, dtype: object\n"
          ]
        }
      ]
    },
    {
      "cell_type": "code",
      "metadata": {
        "colab": {
          "base_uri": "https://localhost:8080/"
        },
        "id": "w8jLsKjkLIqm",
        "outputId": "fcd5f7ef-ca9c-472c-ea96-693beedbb99d"
      },
      "source": [
        "training_sentences = list(FormattedTrainData['message'])\n",
        "validation_sentences = list(FormattedTestData['message'])\n",
        "training_labels = list(pd.to_numeric(FormattedTrainData['label'], downcast='integer'))\n",
        "validation_labels =  list(pd.to_numeric(FormattedTestData['label'], downcast='integer'))\n",
        "\n",
        "print(type(training_labels[0]))"
      ],
      "execution_count": 110,
      "outputs": [
        {
          "output_type": "stream",
          "name": "stdout",
          "text": [
            "<class 'int'>\n"
          ]
        }
      ]
    },
    {
      "cell_type": "code",
      "metadata": {
        "id": "Af0kY73KLLk1"
      },
      "source": [
        "tokenizer = DistilBertTokenizerFast.from_pretrained('distilbert-base-uncased')\n",
        "train_encodings = tokenizer(training_sentences,\n",
        "                            truncation=True,\n",
        "                            padding=True)\n",
        "val_encodings = tokenizer(validation_sentences,\n",
        "                            truncation=True,\n",
        "                            padding=True)\n"
      ],
      "execution_count": 111,
      "outputs": []
    },
    {
      "cell_type": "code",
      "metadata": {
        "id": "6A_Ak1YkLPUW"
      },
      "source": [
        "train_dataset = tf.data.Dataset.from_tensor_slices((\n",
        "    dict(train_encodings),\n",
        "    training_labels\n",
        "))\n",
        "\n",
        "val_dataset = tf.data.Dataset.from_tensor_slices((\n",
        "    dict(val_encodings),\n",
        "    validation_labels\n",
        "))\n"
      ],
      "execution_count": 112,
      "outputs": []
    },
    {
      "cell_type": "code",
      "metadata": {
        "colab": {
          "base_uri": "https://localhost:8080/"
        },
        "id": "6HHRvzegLReq",
        "outputId": "a09caebc-b173-499f-b96a-d9df93499db8"
      },
      "source": [
        "model = TFDistilBertForSequenceClassification.from_pretrained('distilbert-base-uncased',num_labels=4)"
      ],
      "execution_count": 113,
      "outputs": [
        {
          "output_type": "stream",
          "name": "stderr",
          "text": [
            "Some layers from the model checkpoint at distilbert-base-uncased were not used when initializing TFDistilBertForSequenceClassification: ['vocab_projector', 'vocab_transform', 'activation_13', 'vocab_layer_norm']\n",
            "- This IS expected if you are initializing TFDistilBertForSequenceClassification from the checkpoint of a model trained on another task or with another architecture (e.g. initializing a BertForSequenceClassification model from a BertForPreTraining model).\n",
            "- This IS NOT expected if you are initializing TFDistilBertForSequenceClassification from the checkpoint of a model that you expect to be exactly identical (initializing a BertForSequenceClassification model from a BertForSequenceClassification model).\n",
            "Some layers of TFDistilBertForSequenceClassification were not initialized from the model checkpoint at distilbert-base-uncased and are newly initialized: ['dropout_59', 'pre_classifier', 'classifier']\n",
            "You should probably TRAIN this model on a down-stream task to be able to use it for predictions and inference.\n"
          ]
        }
      ]
    },
    {
      "cell_type": "code",
      "metadata": {
        "colab": {
          "base_uri": "https://localhost:8080/"
        },
        "id": "34_Q-8hjLTs0",
        "outputId": "bee306d7-88af-467f-df32-373e6d1b9b4e"
      },
      "source": [
        "optimizer = tf.keras.optimizers.Adam(learning_rate=5e-5)\n",
        "model.compile(optimizer=optimizer, loss=tf.keras.losses.SparseCategoricalCrossentropy(from_logits=True), metrics=['accuracy'])\n",
        "hist = model.fit(train_dataset.batch(128),\n",
        "          epochs=1,\n",
        "          batch_size=128,\n",
        "          validation_data=val_dataset.shuffle(100).batch(128))"
      ],
      "execution_count": 114,
      "outputs": [
        {
          "output_type": "stream",
          "name": "stdout",
          "text": [
            "68/68 [==============================] - 146s 2s/step - loss: 0.7028 - accuracy: 0.7202 - val_loss: 0.1916 - val_accuracy: 0.9380\n"
          ]
        }
      ]
    },
    {
      "cell_type": "code",
      "metadata": {
        "colab": {
          "base_uri": "https://localhost:8080/"
        },
        "id": "zvRO8rhILUb0",
        "outputId": "03a7d71b-3608-4b5e-a22f-97f47ab34c18"
      },
      "source": [
        "model.summary()\n",
        "\n",
        "model.save_pretrained('/home/emotion_Model')"
      ],
      "execution_count": 115,
      "outputs": [
        {
          "output_type": "stream",
          "name": "stdout",
          "text": [
            "Model: \"tf_distil_bert_for_sequence_classification_2\"\n",
            "_________________________________________________________________\n",
            " Layer (type)                Output Shape              Param #   \n",
            "=================================================================\n",
            " distilbert (TFDistilBertMai  multiple                 66362880  \n",
            " nLayer)                                                         \n",
            "                                                                 \n",
            " pre_classifier (Dense)      multiple                  590592    \n",
            "                                                                 \n",
            " classifier (Dense)          multiple                  3076      \n",
            "                                                                 \n",
            " dropout_59 (Dropout)        multiple                  0         \n",
            "                                                                 \n",
            "=================================================================\n",
            "Total params: 66,956,548\n",
            "Trainable params: 66,956,548\n",
            "Non-trainable params: 0\n",
            "_________________________________________________________________\n"
          ]
        }
      ]
    },
    {
      "cell_type": "code",
      "metadata": {
        "id": "RkanQP5YV5G3",
        "outputId": "7a862579-938e-4b9c-917f-e2a7c9babb25",
        "colab": {
          "base_uri": "https://localhost:8080/"
        }
      },
      "source": [
        "loaded_model = TFDistilBertForSequenceClassification.from_pretrained(\"/home/emotion_Model\")"
      ],
      "execution_count": 116,
      "outputs": [
        {
          "output_type": "stream",
          "name": "stderr",
          "text": [
            "Some layers from the model checkpoint at /home/emotion_Model were not used when initializing TFDistilBertForSequenceClassification: ['dropout_59']\n",
            "- This IS expected if you are initializing TFDistilBertForSequenceClassification from the checkpoint of a model trained on another task or with another architecture (e.g. initializing a BertForSequenceClassification model from a BertForPreTraining model).\n",
            "- This IS NOT expected if you are initializing TFDistilBertForSequenceClassification from the checkpoint of a model that you expect to be exactly identical (initializing a BertForSequenceClassification model from a BertForSequenceClassification model).\n",
            "Some layers of TFDistilBertForSequenceClassification were not initialized from the model checkpoint at /home/emotion_Model and are newly initialized: ['dropout_79']\n",
            "You should probably TRAIN this model on a down-stream task to be able to use it for predictions and inference.\n"
          ]
        }
      ]
    },
    {
      "cell_type": "code",
      "metadata": {
        "id": "Rdxe4GzGV4O5",
        "outputId": "17d2b339-ae7d-4823-b3b8-03dabcb7eec9",
        "colab": {
          "base_uri": "https://localhost:8080/"
        }
      },
      "source": [
        "\n",
        "predict_output=[]\n",
        "for i in validation_sentences:\n",
        "  predict_input = tokenizer.encode(i,\n",
        "                                  truncation=True,\n",
        "                                  padding=True,\n",
        "                                  return_tensors=\"tf\")\n",
        "  tf_output = loaded_model.predict(predict_input)[0]\n",
        "  tf_prediction = list(tf.nn.softmax(tf_output)[0].numpy())\n",
        "  predition = tf_prediction.index(max(list(tf_prediction)))\n",
        "  predict_output.append(list(TestData)[predition])\n",
        "print(predict_output)"
      ],
      "execution_count": 117,
      "outputs": [
        {
          "output_type": "stream",
          "name": "stdout",
          "text": [
            "['Anger', 'Fear', 'Sadness', 'Anger', 'Love', 'Sadness', 'Fear', 'Fear', 'Anger', 'Sadness', 'Sadness', 'Sadness', 'Love', 'Anger', 'Sadness', 'Anger', 'Anger', 'Anger', 'Sadness', 'Anger', 'Sadness', 'Sadness', 'Fear', 'Sadness', 'Fear', 'Sadness', 'Anger', 'Fear', 'Anger', 'Anger', 'Sadness', 'Anger', 'Love', 'Love', 'Anger', 'Sadness', 'Sadness', 'Sadness', 'Anger', 'Sadness', 'Anger', 'Fear', 'Anger', 'Sadness', 'Fear', 'Sadness', 'Anger', 'Anger', 'Anger', 'Sadness', 'Sadness', 'Love', 'Sadness', 'Anger', 'Fear', 'Sadness', 'Sadness', 'Love', 'Sadness', 'Anger', 'Fear', 'Love', 'Anger', 'Fear', 'Sadness', 'Sadness', 'Sadness', 'Love', 'Sadness', 'Fear', 'Love', 'Fear', 'Fear', 'Sadness', 'Love', 'Sadness', 'Love', 'Sadness', 'Love', 'Sadness', 'Anger', 'Sadness', 'Anger', 'Fear', 'Love', 'Sadness', 'Love', 'Anger', 'Fear', 'Anger', 'Fear', 'Sadness', 'Sadness', 'Love', 'Sadness', 'Love', 'Anger', 'Sadness', 'Sadness', 'Fear', 'Sadness', 'Sadness', 'Fear', 'Sadness', 'Sadness', 'Sadness', 'Love', 'Fear', 'Fear', 'Sadness', 'Sadness', 'Sadness', 'Love', 'Sadness', 'Fear', 'Fear', 'Love', 'Sadness', 'Sadness', 'Sadness', 'Anger', 'Love', 'Anger', 'Anger', 'Fear', 'Anger', 'Sadness', 'Anger', 'Sadness', 'Anger', 'Love', 'Anger', 'Anger', 'Anger', 'Sadness', 'Anger', 'Fear', 'Sadness', 'Sadness', 'Anger', 'Sadness', 'Anger', 'Sadness', 'Anger', 'Sadness', 'Anger', 'Love', 'Sadness', 'Sadness', 'Sadness', 'Love', 'Love', 'Anger', 'Sadness', 'Sadness', 'Sadness', 'Sadness', 'Sadness', 'Anger', 'Anger', 'Anger', 'Anger', 'Sadness', 'Fear', 'Anger', 'Sadness', 'Sadness', 'Sadness', 'Anger', 'Sadness', 'Fear', 'Fear', 'Anger', 'Fear', 'Sadness', 'Sadness', 'Sadness', 'Anger', 'Fear', 'Sadness', 'Anger', 'Sadness', 'Sadness', 'Anger', 'Fear', 'Sadness', 'Love', 'Fear', 'Sadness', 'Anger', 'Anger', 'Sadness', 'Fear', 'Sadness', 'Anger', 'Sadness', 'Sadness', 'Sadness', 'Sadness', 'Anger', 'Love', 'Sadness', 'Sadness', 'Sadness', 'Sadness', 'Sadness', 'Love', 'Fear', 'Love', 'Anger', 'Love', 'Sadness', 'Anger', 'Anger', 'Love', 'Anger', 'Sadness', 'Sadness', 'Fear', 'Sadness', 'Sadness', 'Anger', 'Fear', 'Fear', 'Sadness', 'Sadness', 'Love', 'Love', 'Anger', 'Anger', 'Sadness', 'Sadness', 'Love', 'Love', 'Fear', 'Sadness', 'Fear', 'Sadness', 'Anger', 'Fear', 'Sadness', 'Anger', 'Sadness', 'Sadness', 'Anger', 'Sadness', 'Love', 'Sadness', 'Sadness', 'Fear', 'Sadness', 'Sadness', 'Sadness', 'Sadness', 'Love', 'Love', 'Fear', 'Sadness', 'Sadness', 'Sadness', 'Fear', 'Fear', 'Sadness', 'Sadness', 'Sadness', 'Fear', 'Anger', 'Fear', 'Sadness', 'Sadness', 'Sadness', 'Sadness', 'Fear', 'Love', 'Anger', 'Anger', 'Fear', 'Love', 'Sadness', 'Sadness', 'Sadness', 'Fear', 'Sadness', 'Sadness', 'Anger', 'Sadness', 'Anger', 'Fear', 'Sadness', 'Anger', 'Sadness', 'Anger', 'Sadness', 'Sadness', 'Sadness', 'Anger', 'Sadness', 'Love', 'Anger', 'Love', 'Sadness', 'Fear', 'Sadness', 'Sadness', 'Love', 'Love', 'Sadness', 'Sadness', 'Anger', 'Sadness', 'Anger', 'Fear', 'Fear', 'Fear', 'Fear', 'Anger', 'Love', 'Love', 'Fear', 'Love', 'Love', 'Sadness', 'Sadness', 'Sadness', 'Sadness', 'Sadness', 'Anger', 'Love', 'Sadness', 'Love', 'Sadness', 'Fear', 'Anger', 'Fear', 'Sadness', 'Fear', 'Anger', 'Sadness', 'Sadness', 'Love', 'Sadness', 'Sadness', 'Sadness', 'Sadness', 'Sadness', 'Love', 'Fear', 'Anger', 'Fear', 'Love', 'Sadness', 'Sadness', 'Love', 'Sadness', 'Fear', 'Sadness', 'Anger', 'Sadness', 'Love', 'Sadness', 'Fear', 'Anger', 'Sadness', 'Sadness', 'Anger', 'Sadness', 'Anger', 'Sadness', 'Sadness', 'Anger', 'Sadness', 'Sadness', 'Anger', 'Sadness', 'Love', 'Fear', 'Anger', 'Anger', 'Fear', 'Fear', 'Love', 'Sadness', 'Sadness', 'Sadness', 'Love', 'Sadness', 'Sadness', 'Fear', 'Anger', 'Sadness', 'Fear', 'Love', 'Love', 'Anger', 'Anger', 'Anger', 'Anger', 'Sadness', 'Sadness', 'Fear', 'Fear', 'Sadness', 'Fear', 'Anger', 'Sadness', 'Fear', 'Sadness', 'Sadness', 'Anger', 'Fear', 'Love', 'Sadness', 'Love', 'Fear', 'Sadness', 'Sadness', 'Fear', 'Love', 'Sadness', 'Anger', 'Anger', 'Fear', 'Love', 'Fear', 'Anger', 'Love', 'Anger', 'Love', 'Anger', 'Fear', 'Anger', 'Sadness', 'Fear', 'Sadness', 'Sadness', 'Anger', 'Fear', 'Love', 'Fear', 'Sadness', 'Love', 'Fear', 'Sadness', 'Anger', 'Fear', 'Anger', 'Anger', 'Sadness', 'Sadness', 'Love', 'Anger', 'Sadness', 'Fear', 'Fear', 'Sadness', 'Fear', 'Fear', 'Love', 'Sadness', 'Love', 'Sadness', 'Fear', 'Sadness', 'Anger', 'Anger', 'Fear', 'Sadness', 'Anger', 'Anger', 'Fear', 'Fear', 'Sadness', 'Anger', 'Sadness', 'Anger', 'Sadness', 'Love', 'Love', 'Sadness', 'Anger', 'Sadness', 'Fear', 'Fear', 'Sadness', 'Fear', 'Anger', 'Love', 'Fear', 'Love', 'Love', 'Sadness', 'Anger', 'Sadness', 'Love', 'Anger', 'Anger', 'Love', 'Sadness', 'Fear', 'Anger', 'Sadness', 'Fear', 'Anger', 'Sadness', 'Sadness', 'Sadness', 'Anger', 'Fear', 'Sadness', 'Sadness', 'Anger', 'Sadness', 'Love', 'Sadness', 'Love', 'Sadness', 'Sadness', 'Sadness', 'Sadness', 'Sadness', 'Anger', 'Fear', 'Sadness', 'Sadness', 'Sadness', 'Sadness', 'Fear', 'Anger', 'Anger', 'Sadness', 'Love', 'Fear', 'Fear', 'Fear', 'Love', 'Anger', 'Anger', 'Sadness', 'Sadness', 'Sadness', 'Love', 'Sadness', 'Sadness', 'Sadness', 'Sadness', 'Sadness', 'Sadness', 'Sadness', 'Anger', 'Anger', 'Love', 'Sadness', 'Sadness', 'Love', 'Sadness', 'Sadness', 'Sadness', 'Sadness', 'Sadness', 'Anger', 'Love', 'Sadness', 'Sadness', 'Sadness', 'Sadness', 'Love', 'Anger', 'Fear', 'Sadness', 'Fear', 'Anger', 'Sadness', 'Sadness', 'Sadness', 'Anger', 'Sadness', 'Anger', 'Anger', 'Fear', 'Sadness', 'Love', 'Fear', 'Anger', 'Sadness', 'Sadness', 'Fear', 'Anger', 'Sadness', 'Love', 'Sadness', 'Fear', 'Sadness', 'Anger', 'Fear', 'Sadness', 'Sadness', 'Sadness', 'Sadness', 'Sadness', 'Anger', 'Anger', 'Fear', 'Fear', 'Love', 'Love', 'Anger', 'Anger', 'Anger', 'Anger', 'Love', 'Fear', 'Sadness', 'Fear', 'Sadness', 'Anger', 'Sadness', 'Anger', 'Sadness', 'Fear', 'Sadness', 'Sadness', 'Fear', 'Anger', 'Sadness', 'Sadness', 'Sadness', 'Sadness', 'Anger', 'Sadness', 'Sadness', 'Anger', 'Sadness', 'Sadness', 'Anger', 'Sadness', 'Sadness', 'Fear', 'Sadness', 'Sadness', 'Sadness', 'Sadness', 'Sadness', 'Sadness', 'Fear', 'Anger', 'Love', 'Sadness', 'Fear', 'Love', 'Sadness', 'Anger', 'Sadness', 'Sadness', 'Sadness', 'Sadness', 'Love', 'Fear', 'Anger', 'Sadness', 'Fear', 'Love', 'Anger', 'Sadness', 'Anger', 'Fear', 'Sadness', 'Anger', 'Sadness', 'Love', 'Sadness', 'Love', 'Sadness', 'Sadness', 'Anger', 'Anger', 'Fear', 'Sadness', 'Fear', 'Fear', 'Sadness', 'Love', 'Sadness', 'Fear', 'Love', 'Sadness', 'Fear', 'Fear', 'Sadness', 'Anger', 'Sadness', 'Love', 'Sadness', 'Sadness', 'Fear', 'Sadness', 'Love', 'Fear', 'Love', 'Sadness', 'Anger', 'Sadness', 'Sadness', 'Sadness', 'Fear', 'Anger', 'Sadness', 'Anger', 'Love', 'Fear', 'Anger', 'Anger', 'Sadness', 'Anger', 'Anger', 'Anger', 'Sadness', 'Sadness', 'Sadness', 'Sadness', 'Sadness', 'Love', 'Fear', 'Fear', 'Anger', 'Fear', 'Sadness', 'Sadness', 'Fear', 'Sadness', 'Sadness', 'Anger', 'Sadness', 'Anger', 'Fear', 'Sadness', 'Sadness', 'Fear', 'Sadness', 'Anger', 'Fear', 'Anger', 'Love', 'Anger', 'Sadness', 'Sadness', 'Love', 'Anger', 'Fear', 'Sadness', 'Sadness', 'Sadness', 'Anger', 'Sadness', 'Anger', 'Sadness', 'Fear', 'Fear', 'Sadness', 'Sadness', 'Love', 'Love', 'Anger', 'Sadness', 'Sadness', 'Anger', 'Anger', 'Love', 'Fear', 'Sadness', 'Sadness', 'Love', 'Fear', 'Sadness', 'Sadness', 'Love', 'Sadness', 'Anger', 'Sadness', 'Sadness', 'Sadness', 'Sadness', 'Anger', 'Fear', 'Anger', 'Anger', 'Love', 'Sadness', 'Fear', 'Anger', 'Fear', 'Sadness', 'Fear', 'Sadness', 'Love', 'Anger', 'Anger', 'Fear', 'Fear', 'Fear', 'Love', 'Sadness', 'Fear', 'Love', 'Sadness', 'Sadness', 'Sadness', 'Sadness', 'Fear', 'Sadness', 'Sadness', 'Sadness', 'Anger', 'Fear', 'Anger', 'Sadness', 'Sadness', 'Anger', 'Sadness', 'Sadness', 'Fear', 'Sadness', 'Sadness', 'Anger', 'Sadness', 'Sadness', 'Anger', 'Sadness', 'Sadness', 'Love', 'Love', 'Fear', 'Love', 'Sadness', 'Sadness', 'Sadness', 'Sadness', 'Fear', 'Fear', 'Sadness', 'Anger', 'Love', 'Fear', 'Sadness', 'Love', 'Fear', 'Sadness', 'Fear', 'Sadness', 'Anger', 'Sadness', 'Sadness', 'Sadness', 'Anger', 'Sadness', 'Fear', 'Sadness', 'Sadness', 'Anger', 'Love', 'Anger', 'Sadness', 'Fear', 'Fear', 'Fear', 'Sadness', 'Anger', 'Anger', 'Sadness', 'Sadness', 'Sadness', 'Fear', 'Sadness', 'Fear', 'Sadness', 'Sadness', 'Fear', 'Sadness', 'Anger', 'Sadness', 'Sadness', 'Fear', 'Sadness', 'Love', 'Love', 'Love', 'Sadness', 'Sadness', 'Love', 'Sadness', 'Sadness', 'Sadness', 'Love', 'Sadness', 'Sadness', 'Sadness', 'Sadness', 'Sadness', 'Sadness', 'Fear', 'Anger', 'Fear', 'Anger', 'Sadness', 'Fear', 'Anger', 'Sadness', 'Sadness', 'Anger', 'Sadness', 'Anger', 'Sadness', 'Anger', 'Sadness', 'Sadness', 'Sadness', 'Sadness', 'Sadness', 'Fear', 'Sadness', 'Sadness', 'Love', 'Love', 'Sadness', 'Sadness', 'Sadness', 'Anger', 'Anger', 'Sadness', 'Sadness', 'Love', 'Fear', 'Sadness', 'Fear', 'Sadness', 'Sadness', 'Sadness', 'Sadness', 'Sadness', 'Anger', 'Anger', 'Anger', 'Sadness', 'Love', 'Sadness', 'Fear', 'Anger', 'Love', 'Anger', 'Anger', 'Sadness', 'Sadness', 'Sadness', 'Fear', 'Sadness', 'Anger', 'Fear', 'Sadness', 'Fear', 'Love', 'Sadness', 'Sadness', 'Fear', 'Love', 'Anger', 'Anger', 'Sadness', 'Love', 'Love', 'Sadness', 'Sadness', 'Sadness', 'Sadness', 'Fear', 'Sadness', 'Anger', 'Anger', 'Sadness', 'Sadness', 'Fear', 'Sadness', 'Anger', 'Sadness', 'Sadness', 'Sadness', 'Sadness', 'Fear', 'Anger', 'Love', 'Love', 'Fear', 'Sadness', 'Fear', 'Sadness', 'Sadness', 'Sadness', 'Sadness', 'Sadness', 'Sadness', 'Sadness', 'Sadness', 'Fear', 'Fear', 'Sadness', 'Sadness', 'Anger', 'Anger', 'Sadness', 'Sadness', 'Anger', 'Fear', 'Anger', 'Love', 'Sadness', 'Sadness', 'Sadness', 'Sadness', 'Sadness', 'Sadness', 'Sadness', 'Fear', 'Anger', 'Anger', 'Sadness', 'Love', 'Love', 'Fear', 'Anger', 'Fear', 'Fear', 'Sadness', 'Anger', 'Sadness', 'Sadness', 'Anger', 'Anger', 'Anger', 'Sadness', 'Love', 'Fear', 'Sadness', 'Fear', 'Fear', 'Anger', 'Sadness', 'Sadness', 'Sadness', 'Fear', 'Fear', 'Sadness', 'Sadness', 'Sadness', 'Anger', 'Anger', 'Fear', 'Fear', 'Sadness', 'Anger', 'Love', 'Sadness', 'Sadness', 'Fear', 'Sadness', 'Love', 'Sadness', 'Anger', 'Fear', 'Love', 'Anger', 'Love', 'Fear', 'Anger', 'Anger', 'Sadness', 'Fear', 'Fear', 'Love', 'Fear', 'Fear', 'Anger', 'Fear', 'Fear', 'Sadness', 'Sadness', 'Sadness', 'Fear', 'Anger', 'Anger', 'Sadness', 'Love', 'Sadness', 'Sadness', 'Sadness', 'Sadness', 'Anger', 'Sadness', 'Sadness', 'Sadness', 'Anger', 'Sadness', 'Anger', 'Sadness', 'Fear', 'Sadness', 'Love', 'Sadness', 'Fear', 'Anger', 'Sadness', 'Anger', 'Sadness', 'Sadness', 'Sadness', 'Anger', 'Fear', 'Sadness', 'Love', 'Sadness', 'Love', 'Anger', 'Sadness', 'Sadness', 'Sadness', 'Love', 'Love', 'Fear', 'Fear', 'Fear', 'Sadness', 'Sadness', 'Anger', 'Sadness', 'Sadness', 'Anger', 'Sadness', 'Fear', 'Anger', 'Sadness', 'Sadness', 'Sadness', 'Anger', 'Sadness', 'Fear', 'Sadness', 'Sadness', 'Anger', 'Fear', 'Fear', 'Fear', 'Fear', 'Sadness', 'Love', 'Anger', 'Sadness', 'Sadness', 'Sadness', 'Sadness', 'Sadness', 'Sadness', 'Sadness', 'Love', 'Anger', 'Sadness', 'Sadness', 'Anger', 'Anger', 'Anger', 'Sadness', 'Love', 'Sadness', 'Sadness', 'Sadness', 'Fear', 'Sadness', 'Love', 'Sadness', 'Sadness', 'Love', 'Fear', 'Anger', 'Anger', 'Anger', 'Sadness', 'Love', 'Sadness', 'Anger', 'Fear', 'Sadness', 'Anger', 'Sadness', 'Anger', 'Love', 'Love', 'Love', 'Anger', 'Fear', 'Anger', 'Sadness', 'Sadness', 'Sadness', 'Sadness', 'Fear', 'Sadness', 'Anger', 'Sadness', 'Anger', 'Sadness', 'Fear', 'Sadness', 'Sadness', 'Fear', 'Love', 'Sadness', 'Love', 'Fear', 'Fear', 'Fear', 'Fear', 'Love', 'Anger', 'Anger', 'Fear', 'Sadness', 'Sadness', 'Sadness', 'Love', 'Fear', 'Love', 'Sadness', 'Sadness', 'Sadness', 'Sadness', 'Love', 'Anger', 'Sadness', 'Sadness', 'Sadness', 'Sadness', 'Anger', 'Sadness', 'Anger', 'Fear', 'Anger']\n"
          ]
        }
      ]
    },
    {
      "cell_type": "code",
      "metadata": {
        "id": "d5xIeynaWVjY",
        "outputId": "506d9492-406b-4bf2-9342-9156b4e7f274",
        "colab": {
          "base_uri": "https://localhost:8080/"
        }
      },
      "source": [
        "true_output = []\n",
        "for i in list(pd.to_numeric(validation_labels)):\n",
        "  true_output.append(list(TestData)[i])\n",
        "print(true_output)\n",
        "\n",
        "# print(tf_prediction)\n",
        "# print(TestData.keys())\n",
        "# print(TrainData.keys())"
      ],
      "execution_count": 118,
      "outputs": [
        {
          "output_type": "stream",
          "name": "stdout",
          "text": [
            "['Anger', 'Fear', 'Anger', 'Fear', 'Love', 'Sadness', 'Anger', 'Fear', 'Anger', 'Sadness', 'Love', 'Sadness', 'Sadness', 'Anger', 'Sadness', 'Anger', 'Anger', 'Anger', 'Sadness', 'Anger', 'Sadness', 'Sadness', 'Fear', 'Sadness', 'Fear', 'Sadness', 'Anger', 'Fear', 'Sadness', 'Anger', 'Sadness', 'Anger', 'Love', 'Love', 'Anger', 'Sadness', 'Sadness', 'Sadness', 'Anger', 'Sadness', 'Anger', 'Fear', 'Anger', 'Sadness', 'Fear', 'Sadness', 'Anger', 'Anger', 'Anger', 'Sadness', 'Sadness', 'Love', 'Sadness', 'Anger', 'Fear', 'Sadness', 'Sadness', 'Love', 'Sadness', 'Sadness', 'Fear', 'Love', 'Anger', 'Fear', 'Sadness', 'Sadness', 'Sadness', 'Love', 'Sadness', 'Fear', 'Love', 'Fear', 'Fear', 'Sadness', 'Love', 'Sadness', 'Love', 'Sadness', 'Love', 'Sadness', 'Anger', 'Sadness', 'Sadness', 'Fear', 'Love', 'Sadness', 'Love', 'Anger', 'Fear', 'Sadness', 'Fear', 'Sadness', 'Sadness', 'Love', 'Sadness', 'Love', 'Anger', 'Sadness', 'Sadness', 'Fear', 'Sadness', 'Sadness', 'Fear', 'Sadness', 'Sadness', 'Sadness', 'Love', 'Fear', 'Fear', 'Sadness', 'Sadness', 'Sadness', 'Love', 'Sadness', 'Fear', 'Fear', 'Love', 'Sadness', 'Sadness', 'Sadness', 'Anger', 'Anger', 'Anger', 'Anger', 'Fear', 'Anger', 'Sadness', 'Anger', 'Sadness', 'Anger', 'Love', 'Anger', 'Anger', 'Anger', 'Sadness', 'Anger', 'Fear', 'Sadness', 'Sadness', 'Anger', 'Sadness', 'Anger', 'Sadness', 'Anger', 'Sadness', 'Anger', 'Love', 'Sadness', 'Anger', 'Sadness', 'Love', 'Love', 'Anger', 'Sadness', 'Sadness', 'Sadness', 'Sadness', 'Sadness', 'Anger', 'Anger', 'Anger', 'Anger', 'Sadness', 'Fear', 'Anger', 'Sadness', 'Sadness', 'Sadness', 'Anger', 'Sadness', 'Fear', 'Sadness', 'Anger', 'Fear', 'Sadness', 'Sadness', 'Sadness', 'Anger', 'Fear', 'Sadness', 'Sadness', 'Sadness', 'Sadness', 'Anger', 'Fear', 'Sadness', 'Love', 'Fear', 'Sadness', 'Anger', 'Anger', 'Sadness', 'Fear', 'Sadness', 'Anger', 'Sadness', 'Sadness', 'Sadness', 'Sadness', 'Anger', 'Love', 'Sadness', 'Sadness', 'Sadness', 'Sadness', 'Sadness', 'Love', 'Fear', 'Anger', 'Anger', 'Love', 'Sadness', 'Anger', 'Sadness', 'Love', 'Anger', 'Sadness', 'Sadness', 'Fear', 'Sadness', 'Sadness', 'Anger', 'Fear', 'Fear', 'Sadness', 'Sadness', 'Love', 'Love', 'Anger', 'Anger', 'Sadness', 'Sadness', 'Love', 'Love', 'Sadness', 'Sadness', 'Anger', 'Sadness', 'Anger', 'Fear', 'Sadness', 'Anger', 'Sadness', 'Sadness', 'Anger', 'Sadness', 'Love', 'Sadness', 'Sadness', 'Fear', 'Sadness', 'Sadness', 'Sadness', 'Sadness', 'Sadness', 'Love', 'Fear', 'Sadness', 'Anger', 'Sadness', 'Sadness', 'Anger', 'Sadness', 'Sadness', 'Sadness', 'Fear', 'Anger', 'Fear', 'Sadness', 'Sadness', 'Sadness', 'Sadness', 'Fear', 'Love', 'Anger', 'Anger', 'Fear', 'Love', 'Sadness', 'Sadness', 'Sadness', 'Fear', 'Sadness', 'Sadness', 'Anger', 'Sadness', 'Anger', 'Sadness', 'Sadness', 'Anger', 'Sadness', 'Anger', 'Sadness', 'Sadness', 'Sadness', 'Fear', 'Sadness', 'Love', 'Anger', 'Love', 'Sadness', 'Anger', 'Sadness', 'Sadness', 'Love', 'Sadness', 'Sadness', 'Sadness', 'Anger', 'Sadness', 'Anger', 'Fear', 'Fear', 'Fear', 'Fear', 'Anger', 'Love', 'Love', 'Fear', 'Love', 'Love', 'Sadness', 'Sadness', 'Sadness', 'Sadness', 'Sadness', 'Anger', 'Love', 'Sadness', 'Love', 'Sadness', 'Fear', 'Anger', 'Fear', 'Sadness', 'Fear', 'Anger', 'Sadness', 'Sadness', 'Love', 'Sadness', 'Sadness', 'Sadness', 'Sadness', 'Sadness', 'Love', 'Fear', 'Anger', 'Fear', 'Love', 'Sadness', 'Sadness', 'Love', 'Sadness', 'Fear', 'Sadness', 'Anger', 'Sadness', 'Love', 'Sadness', 'Fear', 'Anger', 'Sadness', 'Sadness', 'Anger', 'Sadness', 'Anger', 'Sadness', 'Sadness', 'Anger', 'Sadness', 'Sadness', 'Anger', 'Sadness', 'Love', 'Fear', 'Anger', 'Anger', 'Fear', 'Fear', 'Love', 'Sadness', 'Sadness', 'Sadness', 'Love', 'Sadness', 'Sadness', 'Fear', 'Anger', 'Sadness', 'Fear', 'Love', 'Love', 'Anger', 'Anger', 'Anger', 'Anger', 'Sadness', 'Sadness', 'Fear', 'Fear', 'Sadness', 'Fear', 'Anger', 'Sadness', 'Sadness', 'Sadness', 'Sadness', 'Anger', 'Fear', 'Love', 'Sadness', 'Love', 'Fear', 'Sadness', 'Sadness', 'Fear', 'Love', 'Sadness', 'Anger', 'Anger', 'Fear', 'Love', 'Fear', 'Anger', 'Love', 'Anger', 'Love', 'Anger', 'Fear', 'Anger', 'Sadness', 'Fear', 'Sadness', 'Anger', 'Anger', 'Fear', 'Love', 'Fear', 'Sadness', 'Love', 'Fear', 'Sadness', 'Anger', 'Fear', 'Anger', 'Anger', 'Sadness', 'Sadness', 'Love', 'Anger', 'Sadness', 'Fear', 'Fear', 'Sadness', 'Fear', 'Anger', 'Love', 'Sadness', 'Sadness', 'Sadness', 'Fear', 'Sadness', 'Anger', 'Anger', 'Fear', 'Sadness', 'Anger', 'Anger', 'Fear', 'Fear', 'Sadness', 'Anger', 'Sadness', 'Anger', 'Sadness', 'Love', 'Love', 'Sadness', 'Anger', 'Sadness', 'Fear', 'Fear', 'Sadness', 'Fear', 'Anger', 'Love', 'Fear', 'Love', 'Love', 'Sadness', 'Anger', 'Sadness', 'Love', 'Anger', 'Anger', 'Love', 'Sadness', 'Fear', 'Anger', 'Sadness', 'Sadness', 'Anger', 'Sadness', 'Sadness', 'Sadness', 'Anger', 'Fear', 'Sadness', 'Sadness', 'Anger', 'Sadness', 'Love', 'Sadness', 'Sadness', 'Sadness', 'Sadness', 'Sadness', 'Sadness', 'Sadness', 'Anger', 'Fear', 'Sadness', 'Sadness', 'Sadness', 'Sadness', 'Fear', 'Anger', 'Anger', 'Sadness', 'Love', 'Fear', 'Sadness', 'Sadness', 'Anger', 'Anger', 'Anger', 'Sadness', 'Sadness', 'Sadness', 'Love', 'Sadness', 'Sadness', 'Sadness', 'Sadness', 'Sadness', 'Sadness', 'Sadness', 'Anger', 'Anger', 'Sadness', 'Sadness', 'Sadness', 'Love', 'Sadness', 'Sadness', 'Sadness', 'Sadness', 'Sadness', 'Anger', 'Love', 'Fear', 'Sadness', 'Sadness', 'Anger', 'Love', 'Anger', 'Fear', 'Sadness', 'Fear', 'Anger', 'Sadness', 'Sadness', 'Sadness', 'Anger', 'Sadness', 'Anger', 'Anger', 'Fear', 'Sadness', 'Love', 'Fear', 'Sadness', 'Sadness', 'Sadness', 'Fear', 'Anger', 'Sadness', 'Love', 'Sadness', 'Fear', 'Sadness', 'Anger', 'Fear', 'Sadness', 'Sadness', 'Sadness', 'Sadness', 'Sadness', 'Anger', 'Anger', 'Fear', 'Anger', 'Love', 'Love', 'Anger', 'Fear', 'Anger', 'Anger', 'Love', 'Fear', 'Anger', 'Fear', 'Sadness', 'Sadness', 'Sadness', 'Fear', 'Sadness', 'Fear', 'Sadness', 'Sadness', 'Anger', 'Love', 'Sadness', 'Sadness', 'Sadness', 'Sadness', 'Anger', 'Anger', 'Sadness', 'Anger', 'Sadness', 'Sadness', 'Anger', 'Sadness', 'Sadness', 'Fear', 'Sadness', 'Sadness', 'Sadness', 'Sadness', 'Sadness', 'Sadness', 'Fear', 'Sadness', 'Love', 'Sadness', 'Fear', 'Love', 'Sadness', 'Anger', 'Sadness', 'Sadness', 'Sadness', 'Sadness', 'Love', 'Fear', 'Anger', 'Sadness', 'Fear', 'Love', 'Anger', 'Sadness', 'Sadness', 'Fear', 'Sadness', 'Anger', 'Sadness', 'Love', 'Sadness', 'Love', 'Sadness', 'Sadness', 'Anger', 'Anger', 'Fear', 'Sadness', 'Fear', 'Fear', 'Sadness', 'Love', 'Sadness', 'Fear', 'Love', 'Sadness', 'Fear', 'Fear', 'Sadness', 'Anger', 'Sadness', 'Love', 'Sadness', 'Sadness', 'Fear', 'Sadness', 'Love', 'Fear', 'Sadness', 'Sadness', 'Anger', 'Sadness', 'Sadness', 'Sadness', 'Fear', 'Anger', 'Sadness', 'Anger', 'Love', 'Fear', 'Anger', 'Anger', 'Sadness', 'Anger', 'Anger', 'Anger', 'Sadness', 'Sadness', 'Sadness', 'Sadness', 'Sadness', 'Love', 'Sadness', 'Fear', 'Anger', 'Fear', 'Sadness', 'Sadness', 'Fear', 'Sadness', 'Sadness', 'Anger', 'Sadness', 'Anger', 'Fear', 'Sadness', 'Sadness', 'Fear', 'Sadness', 'Anger', 'Fear', 'Anger', 'Love', 'Anger', 'Sadness', 'Sadness', 'Love', 'Anger', 'Fear', 'Sadness', 'Sadness', 'Sadness', 'Anger', 'Sadness', 'Anger', 'Sadness', 'Anger', 'Fear', 'Sadness', 'Sadness', 'Love', 'Love', 'Anger', 'Sadness', 'Sadness', 'Anger', 'Anger', 'Love', 'Fear', 'Sadness', 'Sadness', 'Love', 'Fear', 'Sadness', 'Sadness', 'Love', 'Sadness', 'Anger', 'Sadness', 'Sadness', 'Sadness', 'Sadness', 'Anger', 'Fear', 'Anger', 'Anger', 'Love', 'Sadness', 'Fear', 'Fear', 'Fear', 'Sadness', 'Fear', 'Sadness', 'Love', 'Anger', 'Fear', 'Fear', 'Fear', 'Fear', 'Love', 'Sadness', 'Sadness', 'Love', 'Sadness', 'Sadness', 'Sadness', 'Sadness', 'Fear', 'Sadness', 'Sadness', 'Sadness', 'Anger', 'Fear', 'Anger', 'Sadness', 'Sadness', 'Anger', 'Sadness', 'Sadness', 'Fear', 'Sadness', 'Sadness', 'Sadness', 'Sadness', 'Sadness', 'Anger', 'Sadness', 'Sadness', 'Love', 'Love', 'Fear', 'Love', 'Sadness', 'Sadness', 'Sadness', 'Sadness', 'Fear', 'Fear', 'Sadness', 'Anger', 'Love', 'Fear', 'Sadness', 'Love', 'Fear', 'Sadness', 'Fear', 'Sadness', 'Anger', 'Sadness', 'Sadness', 'Sadness', 'Anger', 'Sadness', 'Fear', 'Sadness', 'Anger', 'Anger', 'Love', 'Anger', 'Sadness', 'Fear', 'Fear', 'Fear', 'Anger', 'Anger', 'Anger', 'Sadness', 'Sadness', 'Sadness', 'Fear', 'Sadness', 'Fear', 'Sadness', 'Sadness', 'Fear', 'Sadness', 'Anger', 'Sadness', 'Sadness', 'Fear', 'Sadness', 'Love', 'Love', 'Love', 'Sadness', 'Sadness', 'Love', 'Sadness', 'Fear', 'Sadness', 'Love', 'Sadness', 'Sadness', 'Sadness', 'Sadness', 'Sadness', 'Sadness', 'Fear', 'Anger', 'Fear', 'Fear', 'Sadness', 'Fear', 'Anger', 'Sadness', 'Sadness', 'Anger', 'Sadness', 'Anger', 'Sadness', 'Sadness', 'Sadness', 'Sadness', 'Sadness', 'Sadness', 'Sadness', 'Fear', 'Sadness', 'Anger', 'Love', 'Love', 'Sadness', 'Sadness', 'Sadness', 'Anger', 'Anger', 'Sadness', 'Sadness', 'Love', 'Fear', 'Sadness', 'Sadness', 'Sadness', 'Fear', 'Sadness', 'Sadness', 'Sadness', 'Anger', 'Anger', 'Anger', 'Sadness', 'Love', 'Sadness', 'Fear', 'Anger', 'Love', 'Anger', 'Anger', 'Sadness', 'Sadness', 'Sadness', 'Fear', 'Sadness', 'Anger', 'Fear', 'Sadness', 'Fear', 'Love', 'Sadness', 'Fear', 'Fear', 'Love', 'Anger', 'Anger', 'Sadness', 'Love', 'Love', 'Sadness', 'Sadness', 'Sadness', 'Sadness', 'Anger', 'Sadness', 'Anger', 'Fear', 'Sadness', 'Sadness', 'Fear', 'Sadness', 'Anger', 'Sadness', 'Sadness', 'Sadness', 'Sadness', 'Sadness', 'Anger', 'Love', 'Love', 'Fear', 'Sadness', 'Fear', 'Sadness', 'Sadness', 'Sadness', 'Sadness', 'Sadness', 'Sadness', 'Sadness', 'Sadness', 'Fear', 'Fear', 'Sadness', 'Sadness', 'Anger', 'Anger', 'Sadness', 'Sadness', 'Anger', 'Fear', 'Anger', 'Love', 'Sadness', 'Sadness', 'Sadness', 'Sadness', 'Sadness', 'Sadness', 'Sadness', 'Fear', 'Anger', 'Anger', 'Sadness', 'Love', 'Love', 'Fear', 'Anger', 'Fear', 'Fear', 'Sadness', 'Anger', 'Sadness', 'Sadness', 'Anger', 'Anger', 'Anger', 'Sadness', 'Love', 'Fear', 'Sadness', 'Fear', 'Fear', 'Anger', 'Sadness', 'Sadness', 'Sadness', 'Fear', 'Fear', 'Sadness', 'Sadness', 'Sadness', 'Anger', 'Anger', 'Fear', 'Fear', 'Sadness', 'Anger', 'Love', 'Sadness', 'Sadness', 'Fear', 'Sadness', 'Love', 'Sadness', 'Anger', 'Sadness', 'Love', 'Anger', 'Love', 'Fear', 'Anger', 'Anger', 'Sadness', 'Fear', 'Fear', 'Love', 'Fear', 'Fear', 'Anger', 'Anger', 'Fear', 'Sadness', 'Sadness', 'Sadness', 'Fear', 'Anger', 'Anger', 'Sadness', 'Love', 'Sadness', 'Sadness', 'Sadness', 'Sadness', 'Anger', 'Anger', 'Sadness', 'Sadness', 'Anger', 'Sadness', 'Anger', 'Sadness', 'Fear', 'Sadness', 'Love', 'Sadness', 'Fear', 'Anger', 'Sadness', 'Anger', 'Sadness', 'Sadness', 'Sadness', 'Anger', 'Fear', 'Sadness', 'Love', 'Sadness', 'Love', 'Anger', 'Sadness', 'Sadness', 'Sadness', 'Love', 'Love', 'Fear', 'Fear', 'Fear', 'Sadness', 'Sadness', 'Anger', 'Sadness', 'Sadness', 'Anger', 'Sadness', 'Fear', 'Anger', 'Sadness', 'Sadness', 'Sadness', 'Anger', 'Sadness', 'Fear', 'Sadness', 'Sadness', 'Anger', 'Fear', 'Fear', 'Fear', 'Fear', 'Sadness', 'Love', 'Love', 'Sadness', 'Sadness', 'Sadness', 'Sadness', 'Sadness', 'Sadness', 'Sadness', 'Love', 'Anger', 'Sadness', 'Sadness', 'Anger', 'Anger', 'Love', 'Sadness', 'Love', 'Sadness', 'Sadness', 'Sadness', 'Fear', 'Sadness', 'Love', 'Sadness', 'Sadness', 'Love', 'Fear', 'Anger', 'Anger', 'Anger', 'Sadness', 'Love', 'Sadness', 'Anger', 'Fear', 'Sadness', 'Sadness', 'Sadness', 'Anger', 'Sadness', 'Love', 'Love', 'Anger', 'Fear', 'Anger', 'Sadness', 'Anger', 'Sadness', 'Sadness', 'Fear', 'Sadness', 'Anger', 'Sadness', 'Anger', 'Sadness', 'Fear', 'Sadness', 'Sadness', 'Fear', 'Love', 'Sadness', 'Love', 'Fear', 'Fear', 'Fear', 'Fear', 'Love', 'Anger', 'Anger', 'Fear', 'Sadness', 'Sadness', 'Sadness', 'Love', 'Fear', 'Love', 'Sadness', 'Sadness', 'Sadness', 'Sadness', 'Love', 'Anger', 'Sadness', 'Sadness', 'Fear', 'Sadness', 'Anger', 'Sadness', 'Sadness', 'Fear', 'Anger']\n"
          ]
        }
      ]
    },
    {
      "cell_type": "code",
      "metadata": {
        "id": "aylrY67NlSaW",
        "outputId": "9c546444-6237-424f-b9ea-5a043cfe4553",
        "colab": {
          "base_uri": "https://localhost:8080/"
        }
      },
      "source": [
        "from sklearn.metrics import f1_score\n",
        "f1_score(true_output, pimport matplotlib.pyplot as pltredict_output, average='macro')"
      ],
      "execution_count": 119,
      "outputs": [
        {
          "output_type": "execute_result",
          "data": {
            "text/plain": [
              "0.9347499127624602"
            ]
          },
          "metadata": {},
          "execution_count": 119
        }
      ]
    },
    {
      "cell_type": "code",
      "metadata": {
        "id": "akgGaWQPnjlO",
        "outputId": "ffaec705-2d47-4d83-84d5-4b7a01e737b6",
        "colab": {
          "base_uri": "https://localhost:8080/"
        }
      },
      "source": [
        "!pip install --upgrade seaborn\n",
        "from matplotlib import pyplot as plt\n",
        "from sklearn.metrics import confusion_matrix , classification_report\n",
        "import pandas as pd\n",
        "import seaborn as sns\n",
        "\n",
        "\n",
        "# Source code credit for this function: https://gist.github.com/shaypal5/94c53d765083101efc0240d776a23823\n",
        "def print_confusion_matrix(confusion_matrix, class_names, figsize = (10,7), fontsize=14):\n",
        "    \"\"\"Prints a confusion matrix, as returned by sklearn.metrics.confusion_matrix, as a heatmap.\n",
        "    \n",
        "    Arguments\n",
        "    ---------\n",
        "    confusion_matrix: numpy.ndarray\n",
        "        The numpy.ndarray object returned from a call to sklearn.metrics.confusion_matrix. \n",
        "        Similarly constructed ndarrays can also be used.\n",
        "    class_names: list\n",
        "        An ordered list of class names, in the order they index the given confusion matrix.\n",
        "    figsize: tuple\n",
        "        A 2-long tuple, the first value determining the horizontal size of the ouputted figure,\n",
        "        the second determining the vertical size. Defaults to (10,7).\n",
        "    fontsize: int\n",
        "        Font size for axes labels. Defaults to 14.\n",
        "        \n",
        "    Returns\n",
        "    -------\n",
        "    matplotlib.figure.Figure\n",
        "        The resulting confusion matrix figure\n",
        "    \"\"\"\n",
        "    df_cm = pd.DataFrame(\n",
        "        confusion_matrix, index=class_names, columns=class_names, \n",
        "    )\n",
        "    fig = plt.figure(figsize=figsize)\n",
        "    try:\n",
        "        heatmap = sns.heatmap(df_cm, annot=True, fmt=\"d\")\n",
        "    except ValueError:\n",
        "        raise ValueError(\"Confusion matrix values must be integers.\")\n",
        "    heatmap.yaxis.set_ticklabels(heatmap.yaxis.get_ticklabels(), rotation=0, ha='right', fontsize=fontsize)\n",
        "    heatmap.xaxis.set_ticklabels(heatmap.xaxis.get_ticklabels(), rotation=45, ha='right', fontsize=fontsize)\n",
        "    plt.ylabel('Truth')\n",
        "    plt.xlabel('Prediction')\n",
        "\n"
      ],
      "execution_count": 132,
      "outputs": [
        {
          "output_type": "stream",
          "name": "stdout",
          "text": [
            "Requirement already satisfied: seaborn in /usr/local/lib/python3.7/dist-packages (0.11.2)\n",
            "Requirement already satisfied: numpy>=1.15 in /usr/local/lib/python3.7/dist-packages (from seaborn) (1.19.5)\n",
            "Requirement already satisfied: matplotlib>=2.2 in /usr/local/lib/python3.7/dist-packages (from seaborn) (3.2.2)\n",
            "Requirement already satisfied: scipy>=1.0 in /usr/local/lib/python3.7/dist-packages (from seaborn) (1.4.1)\n",
            "Requirement already satisfied: pandas>=0.23 in /usr/local/lib/python3.7/dist-packages (from seaborn) (1.1.5)\n",
            "Requirement already satisfied: python-dateutil>=2.1 in /usr/local/lib/python3.7/dist-packages (from matplotlib>=2.2->seaborn) (2.8.2)\n",
            "Requirement already satisfied: kiwisolver>=1.0.1 in /usr/local/lib/python3.7/dist-packages (from matplotlib>=2.2->seaborn) (1.3.2)\n",
            "Requirement already satisfied: pyparsing!=2.0.4,!=2.1.2,!=2.1.6,>=2.0.1 in /usr/local/lib/python3.7/dist-packages (from matplotlib>=2.2->seaborn) (3.0.6)\n",
            "Requirement already satisfied: cycler>=0.10 in /usr/local/lib/python3.7/dist-packages (from matplotlib>=2.2->seaborn) (0.11.0)\n",
            "Requirement already satisfied: pytz>=2017.2 in /usr/local/lib/python3.7/dist-packages (from pandas>=0.23->seaborn) (2018.9)\n",
            "Requirement already satisfied: six>=1.5 in /usr/local/lib/python3.7/dist-packages (from python-dateutil>=2.1->matplotlib>=2.2->seaborn) (1.15.0)\n"
          ]
        }
      ]
    },
    {
      "cell_type": "code",
      "metadata": {
        "id": "_RuUONSio85W",
        "outputId": "6611d363-6745-410c-9e59-8e7e74d479e3",
        "colab": {
          "base_uri": "https://localhost:8080/",
          "height": 484
        }
      },
      "source": [
        "val = confusion_matrix(true_output,predict_output)  \n",
        "print_confusion_matrix(val,TestData.keys())"
      ],
      "execution_count": 133,
      "outputs": [
        {
          "output_type": "display_data",
          "data": {
            "image/png": "[encoded data removed]",
            "text/plain": [
              "<Figure size 720x504 with 2 Axes>"
            ]
          },
          "metadata": {
            "needs_background": "light"
          }
        }
      ]
    }
  ]
}