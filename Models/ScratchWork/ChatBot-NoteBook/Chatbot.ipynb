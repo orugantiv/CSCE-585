{
 "cells": [
  {
   "cell_type": "code",
   "execution_count": 1,
   "id": "97f467f3-d793-4e95-ab7a-922126a88645",
   "metadata": {},
   "outputs": [],
   "source": [
    "# Required Installs : numpy nltk pandas tensorflow numpy pydot\n",
    "# pip install numpy nltk pandas tensorflow numpy pydot"
   ]
  },
  {
   "cell_type": "code",
   "execution_count": 34,
   "id": "6c91a257-1853-4b65-ba9d-7ddabbe45493",
   "metadata": {},
   "outputs": [
    {
     "name": "stderr",
     "output_type": "stream",
     "text": [
      "[nltk_data] Downloading package punkt to /home/anirudh/nltk_data...\n",
      "[nltk_data]   Package punkt is already up-to-date!\n",
      "[nltk_data] Downloading package wordnet to /home/anirudh/nltk_data...\n",
      "[nltk_data]   Package wordnet is already up-to-date!\n"
     ]
    }
   ],
   "source": [
    "# Imports \n",
    "import os\n",
    "import numpy as np\n",
    "import json\n",
    "import pickle\n",
    "import random\n",
    "import nltk\n",
    "import tensorflow as tf\n",
    "import matplotlib.pyplot as plt\n",
    "\n",
    "import fileinput\n",
    "import re\n",
    "nltk.download('punkt')\n",
    "nltk.download('wordnet')\n",
    "\n",
    "from tensorflow.keras.models import Sequential\n",
    "from tensorflow.keras.layers import Dense, Input, Dropout, LSTM, Activation, Bidirectional,Embedding\n",
    "from tensorflow.keras.optimizers import SGD\n",
    "from tensorflow.keras.models import load_model\n",
    "\n",
    "from nltk.stem import WordNetLemmatizer\n",
    "from nltk.tokenize import sent_tokenize\n",
    "\n",
    "\n",
    "\n",
    "import pandas as pd\n",
    "from sklearn.feature_extraction.text import CountVectorizer, TfidfVectorizer\n",
    "from sklearn.metrics import ConfusionMatrixDisplay\n",
    "from sklearn.metrics import confusion_matrix"
   ]
  },
  {
   "cell_type": "code",
   "execution_count": 51,
   "id": "77d41ba6",
   "metadata": {},
   "outputs": [],
   "source": [
    "def read_text_file(file_path,arryText):\n",
    "    with open(file_path, 'r') as f:\n",
    "        text = f.read()\n",
    "        text = re.sub(r\"(\\n)\\1{2,}\", \"\", text).strip()\n",
    "        arryText.append(text)\n",
    "def toArray(arr1,arr2):\n",
    "    temp = []\n",
    "    for i in len(arr1):\n",
    "        temp.append(arr1[i],arr2[i][:])\n",
    "    return temp"
   ]
  },
  {
   "cell_type": "code",
   "execution_count": 70,
   "id": "c4aa9dd8-0328-4f75-85c6-2656a61a93c7",
   "metadata": {},
   "outputs": [
    {
     "name": "stdout",
     "output_type": "stream",
     "text": [
      "Anger\n"
     ]
    }
   ],
   "source": [
    "os.chdir('/home/anirudh/Documents/CSCE 585/ML_chatbot_csce585')\n",
    "data_file = open('data/intentData/data_small.json').read()\n",
    "#smallData = json.loads(data_file)\n",
    "\n",
    "filenames = []\n",
    "textData = []\n",
    "directories = [\n",
    "    \"data/EmoData/train\"]\n",
    "for dir in directories:\n",
    "  for f in os.listdir(dir):\n",
    "    filenames.append(f)\n",
    "    temp = []\n",
    "    for f1 in os.listdir(os.path.join(dir, f)):\n",
    "        file_path = f\"{dir}/{f}/{f1}\"\n",
    "        read_text_file(file_path,temp)\n",
    "    textData.append(temp)\n",
    "trainData = np.concatenate((filenames, textData))\n",
    "print(trainData[0])\n",
    "#smallDataDocument =np.array(tf.random.shuffle((smallData['train'])))\n",
    "#testDataDocument = np.array(tf.random.shuffle(smallData['test']))\n"
   ]
  },
  {
   "cell_type": "code",
   "execution_count": 4,
   "id": "8c551f88-a127-466a-a5e7-92d975ded044",
   "metadata": {},
   "outputs": [],
   "source": [
    "# Removes all duplicated words\n",
    "intentTypeVector = CountVectorizer(analyzer = \"word\", tokenizer = None,lowercase=True, preprocessor = None, stop_words = None)\n",
    "intentVectorData = intentTypeVector.fit_transform(smallDataDocument[:,1])\n",
    "\n",
    "textVector = CountVectorizer(analyzer = \"word\", tokenizer = None,lowercase=True, preprocessor = None, stop_words = None)\n",
    "textVectorData= textVector.fit_transform(smallDataDocument[:,0])\n",
    "\n",
    "testDataDocument = np.array(tf.random.shuffle(smallData['test']))\n",
    "testTextX=textVector.transform(testDataDocument[:,0]).toarray()\n",
    "testTextY=intentTypeVector.transform(testDataDocument[:,1]).toarray()\n",
    "\n",
    "trainDataX = textVectorData.toarray()\n",
    "trainDataY = intentVectorData.toarray()\n",
    "\n",
    "\n",
    "# cv_dataframe=pd.DataFrame(Count_data.toarray(),columns=CountVec.get_feature_names())\n",
    "# print(cv_dataframe)\n",
    "    "
   ]
  },
  {
   "cell_type": "code",
   "execution_count": 5,
   "id": "01ee4982-296d-4063-8f31-897f7e39dae3",
   "metadata": {},
   "outputs": [
    {
     "name": "stdout",
     "output_type": "stream",
     "text": [
      "Model: \"sequential\"\n",
      "_________________________________________________________________\n",
      "Layer (type)                 Output Shape              Param #   \n",
      "=================================================================\n",
      "dense (Dense)                (None, 400)               1463600   \n",
      "_________________________________________________________________\n",
      "dropout (Dropout)            (None, 400)               0         \n",
      "_________________________________________________________________\n",
      "dense_1 (Dense)              (None, 200)               80200     \n",
      "_________________________________________________________________\n",
      "layer2 (Dense)               (None, 150)               30150     \n",
      "=================================================================\n",
      "Total params: 1,573,950\n",
      "Trainable params: 1,573,950\n",
      "Non-trainable params: 0\n",
      "_________________________________________________________________\n",
      "Epoch 1/50\n",
      "59/59 [==============================] - 2s 21ms/step - loss: 4.4600 - accuracy: 0.1747 - val_loss: 3.4427 - val_accuracy: 0.3709\n",
      "Epoch 2/50\n",
      "59/59 [==============================] - 1s 18ms/step - loss: 2.4606 - accuracy: 0.5239 - val_loss: 1.6433 - val_accuracy: 0.6782\n",
      "Epoch 3/50\n",
      "59/59 [==============================] - 1s 17ms/step - loss: 1.2116 - accuracy: 0.7484 - val_loss: 0.9607 - val_accuracy: 0.7829\n",
      "Epoch 4/50\n",
      "59/59 [==============================] - 1s 17ms/step - loss: 0.7308 - accuracy: 0.8387 - val_loss: 0.7084 - val_accuracy: 0.8307\n",
      "Epoch 5/50\n",
      "59/59 [==============================] - 1s 18ms/step - loss: 0.4913 - accuracy: 0.8933 - val_loss: 0.5845 - val_accuracy: 0.8569\n",
      "Epoch 6/50\n",
      "59/59 [==============================] - 1s 19ms/step - loss: 0.3752 - accuracy: 0.9165 - val_loss: 0.5218 - val_accuracy: 0.8718\n",
      "Epoch 7/50\n",
      "59/59 [==============================] - 1s 18ms/step - loss: 0.2958 - accuracy: 0.9335 - val_loss: 0.4899 - val_accuracy: 0.8760\n",
      "Epoch 8/50\n",
      "59/59 [==============================] - 1s 18ms/step - loss: 0.2306 - accuracy: 0.9513 - val_loss: 0.4676 - val_accuracy: 0.8793\n",
      "Epoch 9/50\n",
      "59/59 [==============================] - 1s 19ms/step - loss: 0.1972 - accuracy: 0.9560 - val_loss: 0.4542 - val_accuracy: 0.8804\n",
      "Epoch 10/50\n",
      "59/59 [==============================] - 1s 18ms/step - loss: 0.1621 - accuracy: 0.9653 - val_loss: 0.4392 - val_accuracy: 0.8893\n",
      "Epoch 11/50\n",
      "59/59 [==============================] - 1s 18ms/step - loss: 0.1441 - accuracy: 0.9700 - val_loss: 0.4426 - val_accuracy: 0.8824\n",
      "Epoch 12/50\n",
      "59/59 [==============================] - 1s 18ms/step - loss: 0.1233 - accuracy: 0.9752 - val_loss: 0.4363 - val_accuracy: 0.8873\n",
      "Epoch 13/50\n",
      "59/59 [==============================] - 1s 21ms/step - loss: 0.1119 - accuracy: 0.9796 - val_loss: 0.4283 - val_accuracy: 0.8873\n",
      "Epoch 14/50\n",
      "59/59 [==============================] - 1s 18ms/step - loss: 0.0960 - accuracy: 0.9835 - val_loss: 0.4240 - val_accuracy: 0.8887\n",
      "Epoch 15/50\n",
      "59/59 [==============================] - 1s 19ms/step - loss: 0.0799 - accuracy: 0.9860 - val_loss: 0.4236 - val_accuracy: 0.8927\n",
      "Epoch 16/50\n",
      "59/59 [==============================] - 1s 18ms/step - loss: 0.0790 - accuracy: 0.9857 - val_loss: 0.4331 - val_accuracy: 0.8918\n",
      "Epoch 17/50\n",
      "59/59 [==============================] - 1s 18ms/step - loss: 0.0688 - accuracy: 0.9881 - val_loss: 0.4165 - val_accuracy: 0.8936\n",
      "Epoch 18/50\n",
      "59/59 [==============================] - 1s 18ms/step - loss: 0.0645 - accuracy: 0.9888 - val_loss: 0.4176 - val_accuracy: 0.8922\n",
      "Epoch 19/50\n",
      "59/59 [==============================] - 1s 18ms/step - loss: 0.0572 - accuracy: 0.9916 - val_loss: 0.4303 - val_accuracy: 0.8927\n",
      "Epoch 20/50\n",
      "59/59 [==============================] - 1s 18ms/step - loss: 0.0522 - accuracy: 0.9921 - val_loss: 0.4228 - val_accuracy: 0.8953\n",
      "Epoch 21/50\n",
      "59/59 [==============================] - 1s 18ms/step - loss: 0.0490 - accuracy: 0.9932 - val_loss: 0.4303 - val_accuracy: 0.8964\n",
      "Epoch 22/50\n",
      "59/59 [==============================] - 1s 18ms/step - loss: 0.0494 - accuracy: 0.9916 - val_loss: 0.4145 - val_accuracy: 0.8987\n",
      "Epoch 23/50\n",
      "59/59 [==============================] - 1s 18ms/step - loss: 0.0430 - accuracy: 0.9924 - val_loss: 0.4173 - val_accuracy: 0.8984\n",
      "Epoch 24/50\n",
      "59/59 [==============================] - 1s 18ms/step - loss: 0.0405 - accuracy: 0.9941 - val_loss: 0.4214 - val_accuracy: 0.8989\n",
      "Epoch 25/50\n",
      "59/59 [==============================] - 1s 19ms/step - loss: 0.0350 - accuracy: 0.9947 - val_loss: 0.4266 - val_accuracy: 0.8973\n",
      "Epoch 26/50\n",
      "59/59 [==============================] - 1s 18ms/step - loss: 0.0354 - accuracy: 0.9948 - val_loss: 0.4306 - val_accuracy: 0.8991\n",
      "Epoch 27/50\n",
      "59/59 [==============================] - 1s 19ms/step - loss: 0.0331 - accuracy: 0.9951 - val_loss: 0.4230 - val_accuracy: 0.8991\n",
      "Epoch 28/50\n",
      "59/59 [==============================] - 1s 19ms/step - loss: 0.0337 - accuracy: 0.9944 - val_loss: 0.4337 - val_accuracy: 0.8962\n",
      "Epoch 29/50\n",
      "59/59 [==============================] - 1s 19ms/step - loss: 0.0327 - accuracy: 0.9941 - val_loss: 0.4347 - val_accuracy: 0.8989\n",
      "Epoch 30/50\n",
      "59/59 [==============================] - 1s 19ms/step - loss: 0.0294 - accuracy: 0.9956 - val_loss: 0.4369 - val_accuracy: 0.8973\n",
      "Epoch 31/50\n",
      "59/59 [==============================] - 1s 19ms/step - loss: 0.0272 - accuracy: 0.9972 - val_loss: 0.4300 - val_accuracy: 0.8976\n",
      "Epoch 32/50\n",
      "59/59 [==============================] - 1s 18ms/step - loss: 0.0256 - accuracy: 0.9972 - val_loss: 0.4307 - val_accuracy: 0.8969\n",
      "Epoch 33/50\n",
      "59/59 [==============================] - 1s 18ms/step - loss: 0.0240 - accuracy: 0.9961 - val_loss: 0.4315 - val_accuracy: 0.8980\n",
      "Epoch 34/50\n",
      "59/59 [==============================] - 1s 19ms/step - loss: 0.0233 - accuracy: 0.9971 - val_loss: 0.4325 - val_accuracy: 0.8987\n",
      "Epoch 35/50\n",
      "59/59 [==============================] - 1s 21ms/step - loss: 0.0228 - accuracy: 0.9965 - val_loss: 0.4380 - val_accuracy: 0.8987\n",
      "Epoch 36/50\n",
      "59/59 [==============================] - 1s 19ms/step - loss: 0.0233 - accuracy: 0.9961 - val_loss: 0.4364 - val_accuracy: 0.8978\n",
      "Epoch 37/50\n",
      "59/59 [==============================] - 1s 19ms/step - loss: 0.0197 - accuracy: 0.9971 - val_loss: 0.4334 - val_accuracy: 0.8980\n",
      "Epoch 38/50\n",
      "59/59 [==============================] - 1s 19ms/step - loss: 0.0210 - accuracy: 0.9977 - val_loss: 0.4418 - val_accuracy: 0.9009\n",
      "Epoch 39/50\n",
      "59/59 [==============================] - 1s 19ms/step - loss: 0.0200 - accuracy: 0.9976 - val_loss: 0.4441 - val_accuracy: 0.9007\n",
      "Epoch 40/50\n",
      "59/59 [==============================] - 1s 18ms/step - loss: 0.0213 - accuracy: 0.9973 - val_loss: 0.4373 - val_accuracy: 0.8991\n",
      "Epoch 41/50\n",
      "59/59 [==============================] - 1s 19ms/step - loss: 0.0196 - accuracy: 0.9980 - val_loss: 0.4423 - val_accuracy: 0.9002\n",
      "Epoch 42/50\n",
      "59/59 [==============================] - 1s 20ms/step - loss: 0.0188 - accuracy: 0.9979 - val_loss: 0.4337 - val_accuracy: 0.8987\n",
      "Epoch 43/50\n",
      "59/59 [==============================] - 1s 19ms/step - loss: 0.0173 - accuracy: 0.9975 - val_loss: 0.4364 - val_accuracy: 0.8980\n",
      "Epoch 44/50\n",
      "59/59 [==============================] - 1s 19ms/step - loss: 0.0173 - accuracy: 0.9976 - val_loss: 0.4417 - val_accuracy: 0.8998\n",
      "Epoch 45/50\n",
      "59/59 [==============================] - 1s 19ms/step - loss: 0.0156 - accuracy: 0.9981 - val_loss: 0.4403 - val_accuracy: 0.8984\n",
      "Epoch 46/50\n",
      "59/59 [==============================] - 1s 20ms/step - loss: 0.0160 - accuracy: 0.9981 - val_loss: 0.4411 - val_accuracy: 0.9009\n",
      "Epoch 47/50\n",
      "59/59 [==============================] - 1s 18ms/step - loss: 0.0146 - accuracy: 0.9981 - val_loss: 0.4397 - val_accuracy: 0.9002\n",
      "Epoch 48/50\n",
      "59/59 [==============================] - 1s 18ms/step - loss: 0.0136 - accuracy: 0.9987 - val_loss: 0.4384 - val_accuracy: 0.9002\n",
      "Epoch 49/50\n",
      "59/59 [==============================] - 1s 18ms/step - loss: 0.0147 - accuracy: 0.9983 - val_loss: 0.4439 - val_accuracy: 0.8998\n",
      "Epoch 50/50\n",
      "59/59 [==============================] - 1s 19ms/step - loss: 0.0146 - accuracy: 0.9985 - val_loss: 0.4447 - val_accuracy: 0.9011\n"
     ]
    }
   ],
   "source": [
    "\n",
    "\n",
    "# High Learning Rate \n",
    "model = Sequential()\n",
    "model.add(Dense(400, input_shape=(len(trainDataX[0]),), activation='tanh'))\n",
    "model.add(Dropout(0.7))\n",
    "model.add(Dense(200, activation='tanh'))\n",
    "model.add(Dense(len(trainDataY[0]), activation='softmax',name='layer2'))\n",
    "sgd = SGD(learning_rate=0.1, decay=1e-6, momentum=0.9, nesterov=True)\n",
    "model.compile(loss='categorical_crossentropy', optimizer=sgd, metrics=['accuracy'])\n",
    "model.summary()\n",
    "history = model.fit(np.array(trainDataX), np.array(trainDataY), shuffle=True,epochs=50, batch_size=128, verbose=1, validation_data=(testTextX,testTextY))\n",
    "model.save('model/Intent_model_lr_high.h5', history)\n",
    "\n",
    "\n",
    "\n"
   ]
  },
  {
   "cell_type": "code",
   "execution_count": 6,
   "id": "900947e3",
   "metadata": {},
   "outputs": [
    {
     "data": {
      "image/png": "[encoded data removed]",
      "text/plain": [
       "<Figure size 432x288 with 1 Axes>"
      ]
     },
     "metadata": {
      "needs_background": "light"
     },
     "output_type": "display_data"
    },
    {
     "data": {
      "image/png": "[encoded data removed]",
      "text/plain": [
       "<Figure size 432x288 with 1 Axes>"
      ]
     },
     "metadata": {
      "needs_background": "light"
     },
     "output_type": "display_data"
    }
   ],
   "source": [
    "plt.plot(history.history['accuracy'])\n",
    "plt.plot(history.history['val_accuracy'])\n",
    "plt.title('model accuracy')\n",
    "plt.ylabel('accuracy')\n",
    "plt.xlabel('epoch')\n",
    "plt.legend(['train', 'test'], loc='upper left')\n",
    "plt.show()\n",
    "\n",
    "\n",
    "plt.plot(history.history['loss'])\n",
    "plt.plot(history.history['val_loss'])\n",
    "plt.title('model loss')\n",
    "plt.ylabel('loss')\n",
    "plt.xlabel('epoch')\n",
    "plt.legend(['train', 'test'], loc='upper left')\n",
    "plt.show()"
   ]
  },
  {
   "cell_type": "code",
   "execution_count": null,
   "id": "ba9eaa95",
   "metadata": {},
   "outputs": [
    {
     "data": {
      "image/png": "[encoded data removed]",
      "text/plain": [
       "<Figure size 432x288 with 1 Axes>"
      ]
     },
     "metadata": {
      "needs_background": "light"
     },
     "output_type": "display_data"
    },
    {
     "name": "stdout",
     "output_type": "stream",
     "text": [
      "You:"
     ]
    },
    {
     "name": "stdout",
     "output_type": "stream",
     "text": [
      " hello\n"
     ]
    },
    {
     "name": "stdout",
     "output_type": "stream",
     "text": [
      "\n",
      "ChatBot: greeting\n",
      "You:"
     ]
    },
    {
     "name": "stdout",
     "output_type": "stream",
     "text": [
      " how are you doing?\n"
     ]
    },
    {
     "name": "stdout",
     "output_type": "stream",
     "text": [
      "\n",
      "ChatBot: greeting\n",
      "You:"
     ]
    },
    {
     "name": "stdout",
     "output_type": "stream",
     "text": [
      " when does my class start\n"
     ]
    },
    {
     "name": "stdout",
     "output_type": "stream",
     "text": [
      "\n",
      "ChatBot: flight_status\n",
      "You:"
     ]
    },
    {
     "name": "stdout",
     "output_type": "stream",
     "text": [
      " where is usc\n"
     ]
    },
    {
     "name": "stdout",
     "output_type": "stream",
     "text": [
      "\n",
      "ChatBot: w2\n",
      "You:"
     ]
    },
    {
     "name": "stdout",
     "output_type": "stream",
     "text": [
      " who am i?\n"
     ]
    },
    {
     "name": "stdout",
     "output_type": "stream",
     "text": [
      "\n",
      "ChatBot: who_do_you_work_for\n",
      "You:"
     ]
    },
    {
     "name": "stdout",
     "output_type": "stream",
     "text": [
      " when are my taxes due\n"
     ]
    },
    {
     "name": "stdout",
     "output_type": "stream",
     "text": [
      "\n",
      "ChatBot: bill_due\n",
      "You:"
     ]
    },
    {
     "name": "stdout",
     "output_type": "stream",
     "text": [
      " where is the nearest restaurant\n"
     ]
    },
    {
     "name": "stdout",
     "output_type": "stream",
     "text": [
      "\n",
      "ChatBot: restaurant_suggestion\n",
      "You:"
     ]
    },
    {
     "name": "stdout",
     "output_type": "stream",
     "text": [
      " what is the healthiest food\n"
     ]
    },
    {
     "name": "stdout",
     "output_type": "stream",
     "text": [
      "\n",
      "ChatBot: calculator\n",
      "You:"
     ]
    },
    {
     "name": "stdout",
     "output_type": "stream",
     "text": [
      " what is sin(45)\n"
     ]
    },
    {
     "name": "stdout",
     "output_type": "stream",
     "text": [
      "\n",
      "ChatBot: calculator\n",
      "You:"
     ]
    },
    {
     "name": "stdout",
     "output_type": "stream",
     "text": [
      " 78*36\n"
     ]
    },
    {
     "name": "stdout",
     "output_type": "stream",
     "text": [
      "\n",
      "ChatBot: yes\n",
      "You:"
     ]
    },
    {
     "name": "stdout",
     "output_type": "stream",
     "text": [
      " what is six times five\n"
     ]
    },
    {
     "name": "stdout",
     "output_type": "stream",
     "text": [
      "\n",
      "ChatBot: calculator\n",
      "You:"
     ]
    }
   ],
   "source": [
    "model = load_model('model/Intent_model_lr_high.h5')\n",
    "\n",
    "right = 0\n",
    "wrong = 0\n",
    "testDataDocument = np.array((smallData['test']))\n",
    "testTextX=textVector.transform(testDataDocument[:,0]).toarray()\n",
    "testTextY=intentTypeVector.transform(testDataDocument[:,1]).toarray()\n",
    "\n",
    "prediction = model.predict(testTextX)\n",
    "Labels = intentTypeVector.get_feature_names()\n",
    "\n",
    "for i in range(len(testDataDocument)):\n",
    "    pred = prediction[i].argmax()\n",
    "\n",
    "    if Labels[pred] == testDataDocument[i,1]:\n",
    "        right +=1\n",
    "    else:\n",
    "        wrong +=1\n",
    "\n",
    "plt.bar(['Right','Wrong'], [right,wrong])\n",
    "plt.title('Intent Accuracy')\n",
    "plt.show()\n",
    "while True:\n",
    "    print(\"You:\",end='')\n",
    "    text = input()\n",
    "    testTextX=textVector.transform([text]).toarray()\n",
    "    prediction = model.predict(testTextX)\n",
    "    print(\"\\nChatBot:\",Labels[prediction[0].argmax()])\n",
    "\n"
   ]
  },
  {
   "cell_type": "code",
   "execution_count": null,
   "id": "6411f41b-c4c8-4fd9-ad95-2ea654ec8cfa",
   "metadata": {},
   "outputs": [],
   "source": []
  },
  {
   "cell_type": "code",
   "execution_count": null,
   "id": "dcbb4b5a-15b0-488a-a579-ee3051fea29d",
   "metadata": {},
   "outputs": [],
   "source": []
  }
 ],
 "metadata": {
  "interpreter": {
   "hash": "c3f8fda74879b412ae12a7fcfacd263e49d2c0235f8973285177a5382391be39"
  },
  "kernelspec": {
   "display_name": "Python 3.8.8 64-bit (conda)",
   "language": "python",
   "name": "python3"
  },
  "language_info": {
   "codemirror_mode": {
    "name": "ipython",
    "version": 3
   },
   "file_extension": ".py",
   "mimetype": "text/x-python",
   "name": "python",
   "nbconvert_exporter": "python",
   "pygments_lexer": "ipython3",
   "version": "3.8.8"
  }
 },
 "nbformat": 4,
 "nbformat_minor": 5
}
