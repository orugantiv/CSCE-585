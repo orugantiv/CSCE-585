{
 "cells": [
  {
   "cell_type": "code",
   "execution_count": 18,
   "id": "bc496eef",
   "metadata": {},
   "outputs": [
    {
     "name": "stdout",
     "output_type": "stream",
     "text": [
      "Defaulting to user installation because normal site-packages is not writeable\n",
      "Requirement already satisfied: tensorflow-text in /home/anirudh/.local/lib/python3.9/site-packages (2.6.0)\n",
      "Collecting tf-models-official\n",
      "  Downloading tf_models_official-2.6.0-py2.py3-none-any.whl (1.8 MB)\n",
      "     |████████████████████████████████| 1.8 MB 2.1 MB/s            \n",
      "\u001b[?25hRequirement already satisfied: tensorflow<2.7,>=2.6.0 in /home/anirudh/.local/lib/python3.9/site-packages (from tensorflow-text) (2.6.0)\n",
      "Requirement already satisfied: tensorflow-hub>=0.8.0 in /home/anirudh/.local/lib/python3.9/site-packages (from tensorflow-text) (0.12.0)\n",
      "Requirement already satisfied: wheel~=0.35 in /home/anirudh/.local/lib/python3.9/site-packages (from tensorflow<2.7,>=2.6.0->tensorflow-text) (0.37.0)\n",
      "Requirement already satisfied: tensorflow-estimator~=2.6 in /home/anirudh/.local/lib/python3.9/site-packages (from tensorflow<2.7,>=2.6.0->tensorflow-text) (2.6.0)\n",
      "Requirement already satisfied: astunparse~=1.6.3 in /home/anirudh/.local/lib/python3.9/site-packages (from tensorflow<2.7,>=2.6.0->tensorflow-text) (1.6.3)\n",
      "Requirement already satisfied: protobuf>=3.9.2 in /home/anirudh/.local/lib/python3.9/site-packages (from tensorflow<2.7,>=2.6.0->tensorflow-text) (3.18.0)\n",
      "Requirement already satisfied: keras-preprocessing~=1.1.2 in /home/anirudh/.local/lib/python3.9/site-packages (from tensorflow<2.7,>=2.6.0->tensorflow-text) (1.1.2)\n",
      "Requirement already satisfied: google-pasta~=0.2 in /home/anirudh/.local/lib/python3.9/site-packages (from tensorflow<2.7,>=2.6.0->tensorflow-text) (0.2.0)\n",
      "Requirement already satisfied: six~=1.15.0 in /home/anirudh/.local/lib/python3.9/site-packages (from tensorflow<2.7,>=2.6.0->tensorflow-text) (1.15.0)\n",
      "Requirement already satisfied: numpy~=1.19.2 in /home/anirudh/.local/lib/python3.9/site-packages (from tensorflow<2.7,>=2.6.0->tensorflow-text) (1.19.5)\n",
      "Requirement already satisfied: h5py~=3.1.0 in /home/anirudh/.local/lib/python3.9/site-packages (from tensorflow<2.7,>=2.6.0->tensorflow-text) (3.1.0)\n",
      "Requirement already satisfied: opt-einsum~=3.3.0 in /home/anirudh/.local/lib/python3.9/site-packages (from tensorflow<2.7,>=2.6.0->tensorflow-text) (3.3.0)\n",
      "Requirement already satisfied: keras~=2.6 in /home/anirudh/.local/lib/python3.9/site-packages (from tensorflow<2.7,>=2.6.0->tensorflow-text) (2.6.0)\n",
      "Requirement already satisfied: tensorboard~=2.6 in /home/anirudh/.local/lib/python3.9/site-packages (from tensorflow<2.7,>=2.6.0->tensorflow-text) (2.6.0)\n",
      "Requirement already satisfied: flatbuffers~=1.12.0 in /home/anirudh/.local/lib/python3.9/site-packages (from tensorflow<2.7,>=2.6.0->tensorflow-text) (1.12)\n",
      "Requirement already satisfied: absl-py~=0.10 in /home/anirudh/.local/lib/python3.9/site-packages (from tensorflow<2.7,>=2.6.0->tensorflow-text) (0.14.0)\n",
      "Requirement already satisfied: grpcio<2.0,>=1.37.0 in /home/anirudh/.local/lib/python3.9/site-packages (from tensorflow<2.7,>=2.6.0->tensorflow-text) (1.41.0)\n",
      "Requirement already satisfied: termcolor~=1.1.0 in /home/anirudh/.local/lib/python3.9/site-packages (from tensorflow<2.7,>=2.6.0->tensorflow-text) (1.1.0)\n",
      "Requirement already satisfied: gast==0.4.0 in /home/anirudh/.local/lib/python3.9/site-packages (from tensorflow<2.7,>=2.6.0->tensorflow-text) (0.4.0)\n",
      "Requirement already satisfied: typing-extensions~=3.7.4 in /home/anirudh/.local/lib/python3.9/site-packages (from tensorflow<2.7,>=2.6.0->tensorflow-text) (3.7.4.3)\n",
      "Requirement already satisfied: clang~=5.0 in /home/anirudh/.local/lib/python3.9/site-packages (from tensorflow<2.7,>=2.6.0->tensorflow-text) (5.0)\n",
      "Requirement already satisfied: wrapt~=1.12.1 in /home/anirudh/.local/lib/python3.9/site-packages (from tensorflow<2.7,>=2.6.0->tensorflow-text) (1.12.1)\n",
      "Requirement already satisfied: tensorboard-plugin-wit>=1.6.0 in /home/anirudh/.local/lib/python3.9/site-packages (from tensorboard~=2.6->tensorflow<2.7,>=2.6.0->tensorflow-text) (1.8.0)\n",
      "Requirement already satisfied: werkzeug>=0.11.15 in /home/anirudh/.local/lib/python3.9/site-packages (from tensorboard~=2.6->tensorflow<2.7,>=2.6.0->tensorflow-text) (2.0.1)\n",
      "Requirement already satisfied: tensorboard-data-server<0.7.0,>=0.6.0 in /home/anirudh/.local/lib/python3.9/site-packages (from tensorboard~=2.6->tensorflow<2.7,>=2.6.0->tensorflow-text) (0.6.1)\n",
      "Requirement already satisfied: requests<3,>=2.21.0 in /usr/lib/python3.9/site-packages (from tensorboard~=2.6->tensorflow<2.7,>=2.6.0->tensorflow-text) (2.26.0)\n",
      "Requirement already satisfied: google-auth<2,>=1.6.3 in /home/anirudh/.local/lib/python3.9/site-packages (from tensorboard~=2.6->tensorflow<2.7,>=2.6.0->tensorflow-text) (1.35.0)\n",
      "Requirement already satisfied: google-auth-oauthlib<0.5,>=0.4.1 in /home/anirudh/.local/lib/python3.9/site-packages (from tensorboard~=2.6->tensorflow<2.7,>=2.6.0->tensorflow-text) (0.4.6)\n",
      "Requirement already satisfied: setuptools>=41.0.0 in /usr/lib/python3.9/site-packages (from tensorboard~=2.6->tensorflow<2.7,>=2.6.0->tensorflow-text) (57.4.0)\n",
      "Requirement already satisfied: markdown>=2.6.8 in /usr/lib/python3.9/site-packages (from tensorboard~=2.6->tensorflow<2.7,>=2.6.0->tensorflow-text) (3.3.4)\n",
      "Requirement already satisfied: cachetools<5.0,>=2.0.0 in /home/anirudh/.local/lib/python3.9/site-packages (from google-auth<2,>=1.6.3->tensorboard~=2.6->tensorflow<2.7,>=2.6.0->tensorflow-text) (4.2.4)\n",
      "Requirement already satisfied: pyasn1-modules>=0.2.1 in /home/anirudh/.local/lib/python3.9/site-packages (from google-auth<2,>=1.6.3->tensorboard~=2.6->tensorflow<2.7,>=2.6.0->tensorflow-text) (0.2.8)\n",
      "Requirement already satisfied: rsa<5,>=3.1.4 in /home/anirudh/.local/lib/python3.9/site-packages (from google-auth<2,>=1.6.3->tensorboard~=2.6->tensorflow<2.7,>=2.6.0->tensorflow-text) (4.7.2)\n",
      "Requirement already satisfied: requests-oauthlib>=0.7.0 in /home/anirudh/.local/lib/python3.9/site-packages (from google-auth-oauthlib<0.5,>=0.4.1->tensorboard~=2.6->tensorflow<2.7,>=2.6.0->tensorflow-text) (1.3.0)\n",
      "Requirement already satisfied: pyasn1<0.5.0,>=0.4.6 in /home/anirudh/.local/lib/python3.9/site-packages (from pyasn1-modules>=0.2.1->google-auth<2,>=1.6.3->tensorboard~=2.6->tensorflow<2.7,>=2.6.0->tensorflow-text) (0.4.8)\n",
      "Requirement already satisfied: chardet>=3.0.2 in /usr/lib/python3.9/site-packages (from requests<3,>=2.21.0->tensorboard~=2.6->tensorflow<2.7,>=2.6.0->tensorflow-text) (4.0.0)\n",
      "Requirement already satisfied: idna>=2.5 in /usr/lib/python3.9/site-packages (from requests<3,>=2.21.0->tensorboard~=2.6->tensorflow<2.7,>=2.6.0->tensorflow-text) (3.3)\n",
      "Requirement already satisfied: urllib3>=1.21.1 in /usr/lib/python3.9/site-packages (from requests<3,>=2.21.0->tensorboard~=2.6->tensorflow<2.7,>=2.6.0->tensorflow-text) (1.26.7)\n",
      "Requirement already satisfied: oauthlib>=3.0.0 in /home/anirudh/.local/lib/python3.9/site-packages (from requests-oauthlib>=0.7.0->google-auth-oauthlib<0.5,>=0.4.1->tensorboard~=2.6->tensorflow<2.7,>=2.6.0->tensorflow-text) (3.1.1)\n",
      "Collecting scipy>=0.19.1\n",
      "  Downloading scipy-1.7.2-cp39-cp39-manylinux_2_17_x86_64.manylinux2014_x86_64.whl (39.8 MB)\n",
      "     |████████████████████████████████| 39.8 MB 1.6 MB/s            \n",
      "\u001b[?25hRequirement already satisfied: pyyaml>=5.1 in /usr/lib/python3.9/site-packages (from tf-models-official) (5.4.1)\n",
      "Collecting Cython\n",
      "  Downloading Cython-0.29.24-cp39-cp39-manylinux1_x86_64.whl (1.9 MB)\n",
      "     |████████████████████████████████| 1.9 MB 1.0 MB/s            \n",
      "\u001b[?25hCollecting tf-slim>=1.1.0\n",
      "  Downloading tf_slim-1.1.0-py2.py3-none-any.whl (352 kB)\n",
      "     |████████████████████████████████| 352 kB 1.4 MB/s            \n",
      "\u001b[?25hRequirement already satisfied: pandas>=0.22.0 in /home/anirudh/.local/lib/python3.9/site-packages (from tf-models-official) (1.3.4)\n",
      "Collecting seqeval\n",
      "  Downloading seqeval-1.2.2.tar.gz (43 kB)\n",
      "     |████████████████████████████████| 43 kB 647 kB/s            \n",
      "\u001b[?25hCollecting oauth2client\n",
      "  Downloading oauth2client-4.1.3-py2.py3-none-any.whl (98 kB)\n",
      "     |████████████████████████████████| 98 kB 1.3 MB/s            \n",
      "\u001b[?25hCollecting google-api-python-client>=1.6.7\n",
      "  Downloading google_api_python_client-2.30.0-py2.py3-none-any.whl (7.8 MB)\n",
      "     |████████████████████████████████| 7.8 MB 1.4 MB/s            \n",
      "\u001b[?25hCollecting gin-config\n",
      "  Downloading gin_config-0.5.0-py3-none-any.whl (61 kB)\n",
      "     |████████████████████████████████| 61 kB 576 kB/s             \n",
      "\u001b[?25hCollecting opencv-python-headless\n",
      "  Downloading opencv_python_headless-4.5.4.58-cp39-cp39-manylinux_2_17_x86_64.manylinux2014_x86_64.whl (47.6 MB)\n",
      "     |████████████████████████████████| 47.6 MB 518 kB/s            \n",
      "\u001b[?25hRequirement already satisfied: Pillow in /usr/lib/python3.9/site-packages (from tf-models-official) (8.4.0)\n",
      "Requirement already satisfied: psutil>=5.4.3 in /usr/lib/python3.9/site-packages (from tf-models-official) (5.8.0)\n",
      "Collecting py-cpuinfo>=3.3.0\n",
      "  Downloading py-cpuinfo-8.0.0.tar.gz (99 kB)\n",
      "     |████████████████████████████████| 99 kB 711 kB/s            \n",
      "\u001b[?25hCollecting sentencepiece\n",
      "  Downloading sentencepiece-0.1.96-cp39-cp39-manylinux_2_17_x86_64.manylinux2014_x86_64.whl (1.2 MB)\n",
      "     |████████████████████████████████| 1.2 MB 737 kB/s            \n",
      "\u001b[?25hCollecting matplotlib\n",
      "  Downloading matplotlib-3.4.3-cp39-cp39-manylinux1_x86_64.whl (10.3 MB)\n",
      "     |████████████████████████████████| 10.3 MB 1.2 MB/s            \n",
      "\u001b[?25hCollecting pycocotools\n",
      "  Downloading pycocotools-2.0.2.tar.gz (23 kB)\n",
      "Collecting tensorflow-addons\n",
      "  Downloading tensorflow_addons-0.15.0-cp39-cp39-manylinux_2_12_x86_64.manylinux2010_x86_64.whl (1.1 MB)\n",
      "     |████████████████████████████████| 1.1 MB 405 kB/s            \n",
      "\u001b[?25hCollecting tensorflow-datasets\n",
      "  Downloading tensorflow_datasets-4.4.0-py3-none-any.whl (4.0 MB)\n",
      "     |████████████████████████████████| 4.0 MB 619 kB/s            \n",
      "\u001b[?25hCollecting kaggle>=1.3.9\n",
      "  Downloading kaggle-1.5.12.tar.gz (58 kB)\n",
      "     |████████████████████████████████| 58 kB 593 kB/s            \n",
      "\u001b[?25hCollecting tensorflow-model-optimization>=0.4.1\n",
      "  Downloading tensorflow_model_optimization-0.7.0-py2.py3-none-any.whl (213 kB)\n",
      "     |████████████████████████████████| 213 kB 591 kB/s            \n",
      "\u001b[?25hCollecting sacrebleu\n",
      "  Downloading sacrebleu-2.0.0-py3-none-any.whl (90 kB)\n",
      "     |████████████████████████████████| 90 kB 549 kB/s            \n",
      "\u001b[?25hCollecting google-api-core<3.0.0dev,>=1.21.0\n",
      "  Downloading google_api_core-2.2.2-py2.py3-none-any.whl (95 kB)\n",
      "     |████████████████████████████████| 95 kB 360 kB/s            \n",
      "\u001b[?25hCollecting google-auth-httplib2>=0.1.0\n",
      "  Downloading google_auth_httplib2-0.1.0-py2.py3-none-any.whl (9.3 kB)\n",
      "Requirement already satisfied: httplib2<1dev,>=0.15.0 in /usr/lib/python3.9/site-packages (from google-api-python-client>=1.6.7->tf-models-official) (0.19.1)\n",
      "Collecting uritemplate<5,>=3.0.0\n",
      "  Downloading uritemplate-4.1.1-py2.py3-none-any.whl (10 kB)\n",
      "Collecting googleapis-common-protos<2.0dev,>=1.52.0\n",
      "  Downloading googleapis_common_protos-1.53.0-py2.py3-none-any.whl (198 kB)\n",
      "     |████████████████████████████████| 198 kB 569 kB/s            \n",
      "\u001b[?25hRequirement already satisfied: pyparsing<3,>=2.4.2 in /usr/lib/python3.9/site-packages (from httplib2<1dev,>=0.15.0->google-api-python-client>=1.6.7->tf-models-official) (2.4.7)\n",
      "Collecting certifi\n",
      "  Using cached certifi-2021.10.8-py2.py3-none-any.whl (149 kB)\n",
      "Requirement already satisfied: python-dateutil in /home/anirudh/.local/lib/python3.9/site-packages (from kaggle>=1.3.9->tf-models-official) (2.8.2)\n",
      "Requirement already satisfied: tqdm in /home/anirudh/.local/lib/python3.9/site-packages (from kaggle>=1.3.9->tf-models-official) (4.62.2)\n",
      "Collecting python-slugify\n",
      "  Downloading python_slugify-5.0.2-py2.py3-none-any.whl (6.7 kB)\n",
      "Requirement already satisfied: pytz>=2017.3 in /home/anirudh/.local/lib/python3.9/site-packages (from pandas>=0.22.0->tf-models-official) (2021.3)\n",
      "Collecting dm-tree~=0.1.1\n",
      "  Downloading dm_tree-0.1.6-cp39-cp39-manylinux_2_24_x86_64.whl (94 kB)\n",
      "     |████████████████████████████████| 94 kB 712 kB/s            \n",
      "\u001b[?25hCollecting cycler>=0.10\n",
      "  Downloading cycler-0.11.0-py3-none-any.whl (6.4 kB)\n",
      "Collecting kiwisolver>=1.0.1\n",
      "  Downloading kiwisolver-1.3.2-cp39-cp39-manylinux_2_12_x86_64.manylinux2010_x86_64.whl (1.6 MB)\n",
      "     |████████████████████████████████| 1.6 MB 584 kB/s            \n",
      "\u001b[?25hCollecting text-unidecode>=1.3\n",
      "  Downloading text_unidecode-1.3-py2.py3-none-any.whl (78 kB)\n",
      "     |████████████████████████████████| 78 kB 416 kB/s            \n",
      "\u001b[?25hRequirement already satisfied: regex in /home/anirudh/.local/lib/python3.9/site-packages (from sacrebleu->tf-models-official) (2021.10.8)\n",
      "Requirement already satisfied: colorama in /usr/lib/python3.9/site-packages (from sacrebleu->tf-models-official) (0.4.4)\n",
      "Collecting portalocker\n",
      "  Downloading portalocker-2.3.2-py2.py3-none-any.whl (15 kB)\n",
      "Collecting tabulate>=0.8.9\n",
      "  Using cached tabulate-0.8.9-py3-none-any.whl (25 kB)\n",
      "Collecting scikit-learn>=0.21.3\n",
      "  Downloading scikit_learn-1.0.1-cp39-cp39-manylinux_2_12_x86_64.manylinux2010_x86_64.whl (24.7 MB)\n",
      "     |████████████████████████████████| 24.7 MB 411 kB/s            \n",
      "\u001b[?25hCollecting threadpoolctl>=2.0.0\n",
      "  Downloading threadpoolctl-3.0.0-py3-none-any.whl (14 kB)\n",
      "Requirement already satisfied: joblib>=0.11 in /home/anirudh/.local/lib/python3.9/site-packages (from scikit-learn>=0.21.3->seqeval->tf-models-official) (1.1.0)\n",
      "Collecting typeguard>=2.7\n",
      "  Downloading typeguard-2.13.0-py3-none-any.whl (17 kB)\n",
      "Collecting promise\n",
      "  Downloading promise-2.3.tar.gz (19 kB)\n",
      "Collecting future\n",
      "  Downloading future-0.18.2.tar.gz (829 kB)\n",
      "     |████████████████████████████████| 829 kB 1.3 MB/s            \n",
      "\u001b[?25hCollecting tensorflow-metadata\n",
      "  Downloading tensorflow_metadata-1.4.0-py3-none-any.whl (48 kB)\n",
      "     |████████████████████████████████| 48 kB 1.0 MB/s            \n",
      "\u001b[?25hRequirement already satisfied: dill in /home/anirudh/.local/lib/python3.9/site-packages (from tensorflow-datasets->tf-models-official) (0.3.4)\n",
      "Requirement already satisfied: attrs>=18.1.0 in /home/anirudh/.local/lib/python3.9/site-packages (from tensorflow-datasets->tf-models-official) (21.2.0)\n",
      "Collecting absl-py~=0.10\n",
      "  Downloading absl_py-0.12.0-py3-none-any.whl (129 kB)\n",
      "     |████████████████████████████████| 129 kB 497 kB/s            \n",
      "\u001b[?25hBuilding wheels for collected packages: kaggle, py-cpuinfo, pycocotools, seqeval, future, promise\n",
      "  Building wheel for kaggle (setup.py) ... \u001b[?25ldone\n",
      "\u001b[?25h  Created wheel for kaggle: filename=kaggle-1.5.12-py3-none-any.whl size=73051 sha256=38184189acc476502a4ff24c21bbd9ab141bbdd59436b14029e92bec27b67c9f\n",
      "  Stored in directory: /home/anirudh/.cache/pip/wheels/ac/b2/c3/fa4706d469b5879105991d1c8be9a3c2ef329ba9fe2ce5085e\n",
      "  Building wheel for py-cpuinfo (setup.py) ... \u001b[?25ldone\n",
      "\u001b[?25h  Created wheel for py-cpuinfo: filename=py_cpuinfo-8.0.0-py3-none-any.whl size=22258 sha256=c0975ce160b988556895bb2263bd5bb0bd05fbb2e2148aa708eb7b2754036c48\n",
      "  Stored in directory: /home/anirudh/.cache/pip/wheels/a9/33/c2/bcf6550ff9c95f699d7b2f261c8520b42b7f7c33b6e6920e29\n",
      "  Building wheel for pycocotools (setup.py) ... \u001b[?25ldone\n",
      "\u001b[?25h  Created wheel for pycocotools: filename=pycocotools-2.0.2-cp39-cp39-linux_x86_64.whl size=407519 sha256=cf11615ef5473e79c9756f9120cf2871db5d1ebccf8d698b1b16f51f3f30036b\n",
      "  Stored in directory: /home/anirudh/.cache/pip/wheels/bd/e5/d1/edfadda887ee02abb3c95e4f511e8ad9c7ae29988d2e57a117\n",
      "  Building wheel for seqeval (setup.py) ... \u001b[?25ldone\n",
      "\u001b[?25h  Created wheel for seqeval: filename=seqeval-1.2.2-py3-none-any.whl size=16181 sha256=87107659bbac4932c6a63d7a4cb0e12d1a443e9272020d4d860364d3587e2ca8\n",
      "  Stored in directory: /home/anirudh/.cache/pip/wheels/e2/a5/92/2c80d1928733611c2747a9820e1324a6835524d9411510c142\n",
      "  Building wheel for future (setup.py) ... \u001b[?25ldone\n",
      "\u001b[?25h  Created wheel for future: filename=future-0.18.2-py3-none-any.whl size=491070 sha256=c50611bccdfa6f9fc5eb2db658d4aa7456c75ef6c69e859373095ed4d2514bdf\n",
      "  Stored in directory: /home/anirudh/.cache/pip/wheels/2f/a0/d3/4030d9f80e6b3be787f19fc911b8e7aa462986a40ab1e4bb94\n",
      "  Building wheel for promise (setup.py) ... \u001b[?25ldone\n",
      "\u001b[?25h  Created wheel for promise: filename=promise-2.3-py3-none-any.whl size=21502 sha256=da30348dd18e483cef3965b744da512246eabe5450e27bd88ebb4d39b3538da4\n",
      "  Stored in directory: /home/anirudh/.cache/pip/wheels/e1/e8/83/ddea66100678d139b14bc87692ece57c6a2a937956d2532608\n",
      "Successfully built kaggle py-cpuinfo pycocotools seqeval future promise\n",
      "Installing collected packages: absl-py, threadpoolctl, text-unidecode, scipy, kiwisolver, googleapis-common-protos, cycler, uritemplate, typeguard, tensorflow-metadata, tabulate, scikit-learn, python-slugify, promise, portalocker, matplotlib, google-auth-httplib2, google-api-core, future, dm-tree, Cython, certifi, tf-slim, tensorflow-model-optimization, tensorflow-datasets, tensorflow-addons, seqeval, sentencepiece, sacrebleu, pycocotools, py-cpuinfo, opencv-python-headless, oauth2client, kaggle, google-api-python-client, gin-config, tf-models-official\n",
      "  Attempting uninstall: absl-py\n",
      "    Found existing installation: absl-py 0.14.0\n",
      "    Uninstalling absl-py-0.14.0:\n",
      "      Successfully uninstalled absl-py-0.14.0\n",
      "Successfully installed Cython-0.29.24 absl-py-0.12.0 certifi-2021.10.8 cycler-0.11.0 dm-tree-0.1.6 future-0.18.2 gin-config-0.5.0 google-api-core-2.2.2 google-api-python-client-2.30.0 google-auth-httplib2-0.1.0 googleapis-common-protos-1.53.0 kaggle-1.5.12 kiwisolver-1.3.2 matplotlib-3.4.3 oauth2client-4.1.3 opencv-python-headless-4.5.4.58 portalocker-2.3.2 promise-2.3 py-cpuinfo-8.0.0 pycocotools-2.0.2 python-slugify-5.0.2 sacrebleu-2.0.0 scikit-learn-1.0.1 scipy-1.7.2 sentencepiece-0.1.96 seqeval-1.2.2 tabulate-0.8.9 tensorflow-addons-0.15.0 tensorflow-datasets-4.4.0 tensorflow-metadata-1.4.0 tensorflow-model-optimization-0.7.0 text-unidecode-1.3 tf-models-official-2.6.0 tf-slim-1.1.0 threadpoolctl-3.0.0 typeguard-2.13.0 uritemplate-4.1.1\n",
      "Note: you may need to restart the kernel to use updated packages.\n"
     ]
    }
   ],
   "source": [
    "pip install tensorflow-text tf-models-official"
   ]
  },
  {
   "cell_type": "code",
   "execution_count": 17,
   "id": "603ab89e-bdb2-4d82-b55b-16de7313d16e",
   "metadata": {},
   "outputs": [
    {
     "ename": "ModuleNotFoundError",
     "evalue": "No module named 'official'",
     "output_type": "error",
     "traceback": [
      "\u001b[0;31m---------------------------------------------------------------------------\u001b[0m",
      "\u001b[0;31mModuleNotFoundError\u001b[0m                       Traceback (most recent call last)",
      "\u001b[0;32m/tmp/ipykernel_55703/1755326064.py\u001b[0m in \u001b[0;36m<module>\u001b[0;34m\u001b[0m\n\u001b[1;32m      5\u001b[0m \u001b[0;32mimport\u001b[0m \u001b[0mtensorflow_hub\u001b[0m \u001b[0;32mas\u001b[0m \u001b[0mhub\u001b[0m\u001b[0;34m\u001b[0m\u001b[0;34m\u001b[0m\u001b[0m\n\u001b[1;32m      6\u001b[0m \u001b[0;32mimport\u001b[0m \u001b[0mtensorflow_text\u001b[0m \u001b[0;32mas\u001b[0m \u001b[0mtext\u001b[0m\u001b[0;34m\u001b[0m\u001b[0;34m\u001b[0m\u001b[0m\n\u001b[0;32m----> 7\u001b[0;31m \u001b[0;32mfrom\u001b[0m \u001b[0mofficial\u001b[0m\u001b[0;34m.\u001b[0m\u001b[0mnlp\u001b[0m \u001b[0;32mimport\u001b[0m \u001b[0moptimization\u001b[0m\u001b[0;34m\u001b[0m\u001b[0;34m\u001b[0m\u001b[0m\n\u001b[0m\u001b[1;32m      8\u001b[0m \u001b[0;34m\u001b[0m\u001b[0m\n\u001b[1;32m      9\u001b[0m \u001b[0;32mimport\u001b[0m \u001b[0mmatplotlib\u001b[0m\u001b[0;34m.\u001b[0m\u001b[0mpyplot\u001b[0m \u001b[0;32mas\u001b[0m \u001b[0mplt\u001b[0m\u001b[0;34m\u001b[0m\u001b[0;34m\u001b[0m\u001b[0m\n",
      "\u001b[0;31mModuleNotFoundError\u001b[0m: No module named 'official'"
     ]
    }
   ],
   "source": [
    "import os\n",
    "import shutil\n",
    "\n",
    "import tensorflow as tf\n",
    "import tensorflow_hub as hub\n",
    "import tensorflow_text as text\n",
    "from official.nlp import optimization\n",
    "\n",
    "import matplotlib.pyplot as plt\n",
    "\n",
    "tf.get_logger().setLevel('ERROR')"
   ]
  },
  {
   "cell_type": "code",
   "execution_count": null,
   "id": "8447929a-208b-4a9b-a33f-d1079701d2c8",
   "metadata": {},
   "outputs": [],
   "source": [
    "dataset_dir = os.path.join(os.path.dirname('data'))\n",
    "\n",
    "train_dir = os.path.join(dataset_dir, 'train')"
   ]
  },
  {
   "cell_type": "code",
   "execution_count": null,
   "id": "0372197f-3eab-4ae6-b9f0-f697cb294e8d",
   "metadata": {},
   "outputs": [
    {
     "name": "stdout",
     "output_type": "stream",
     "text": [
      "Found 10642 files belonging to 6 classes.\n",
      "Using 8514 files for training.\n",
      "Found 10642 files belonging to 6 classes.\n",
      "Using 2128 files for validation.\n",
      "Found 1309 files belonging to 6 classes.\n"
     ]
    }
   ],
   "source": [
    "AUTOTUNE = tf.data.AUTOTUNE\n",
    "batch_size = 128\n",
    "seed = 42\n",
    "\n",
    "raw_train_ds = tf.keras.preprocessing.text_dataset_from_directory(\n",
    "    'data/train',\n",
    "    batch_size=batch_size,\n",
    "    validation_split=0.2,\n",
    "    subset='training',\n",
    "    seed=seed)\n",
    "\n",
    "class_names = raw_train_ds.class_names\n",
    "train_ds = raw_train_ds.cache().prefetch(buffer_size=AUTOTUNE)\n",
    "\n",
    "val_ds = tf.keras.preprocessing.text_dataset_from_directory(\n",
    "    'data/train',\n",
    "    batch_size=batch_size,\n",
    "    validation_split=0.2,\n",
    "    subset='validation',\n",
    "    seed=seed)\n",
    "\n",
    "val_ds = val_ds.cache().prefetch(buffer_size=AUTOTUNE)\n",
    "\n",
    "test_ds = tf.keras.preprocessing.text_dataset_from_directory(\n",
    "    'data/test',\n",
    "    batch_size=batch_size)\n",
    "\n",
    "test_ds = test_ds.cache().prefetch(buffer_size=AUTOTUNE)"
   ]
  },
  {
   "cell_type": "code",
   "execution_count": 6,
   "id": "0a532d34-8271-46d4-82ca-7b59374ca9f6",
   "metadata": {},
   "outputs": [
    {
     "name": "stdout",
     "output_type": "stream",
     "text": [
      "Review: b'i do these days that makes me feel a little uncertain about the future the pressures that pierce me deep the feeling of being completely isolated from the world i used to glory in and all the thrills that go with it\\r\\n'\n",
      "Label : 1(Fear)\n",
      "Review: b'i feel badly enough about myself and everything thats going on and some of these people that are supposed to be helping me arent particularly sympathetic\\r\\n'\n",
      "Label : 3(Love)\n",
      "Review: b'i go to bed feeling very distraught otherwise\\r\\n'\n",
      "Label : 1(Fear)\n"
     ]
    }
   ],
   "source": [
    "for text_batch, label_batch in train_ds.take(1):\n",
    "    for i in range(3):\n",
    "        print(f'Review: {text_batch.numpy()[i]}')\n",
    "        label = label_batch.numpy()[i]\n",
    "        print(f'Label : {label}({class_names[label]})')"
   ]
  },
  {
   "cell_type": "code",
   "execution_count": 9,
   "id": "1a5f63d4-5376-47e6-b01e-1c712ff03a0b",
   "metadata": {},
   "outputs": [
    {
     "name": "stdout",
     "output_type": "stream",
     "text": [
      "BERT model selected           : https://tfhub.dev/tensorflow/small_bert/bert_en_uncased_L-4_H-512_A-8/1\n",
      "Preprocess model auto-selected: https://tfhub.dev/tensorflow/bert_en_uncased_preprocess/3\n"
     ]
    }
   ],
   "source": [
    "bert_model_name = 'small_bert/bert_en_uncased_L-4_H-512_A-8' \n",
    "\n",
    "map_name_to_handle = {\n",
    "    'small_bert/bert_en_uncased_L-4_H-512_A-8':\n",
    "        'https://tfhub.dev/tensorflow/small_bert/bert_en_uncased_L-4_H-512_A-8/1'\n",
    "}\n",
    "\n",
    "map_model_to_preprocess = {\n",
    "    'small_bert/bert_en_uncased_L-4_H-512_A-8':\n",
    "        'https://tfhub.dev/tensorflow/bert_en_uncased_preprocess/3'\n",
    "}\n",
    "\n",
    "tfhub_handle_encoder = map_name_to_handle[bert_model_name]\n",
    "tfhub_handle_preprocess = map_model_to_preprocess[bert_model_name]\n",
    "\n",
    "print(f'BERT model selected           : {tfhub_handle_encoder}')\n",
    "print(f'Preprocess model auto-selected: {tfhub_handle_preprocess}')"
   ]
  },
  {
   "cell_type": "code",
   "execution_count": 11,
   "id": "21e9a57a-d40d-460b-942f-f2b854b80bf6",
   "metadata": {},
   "outputs": [],
   "source": [
    "bert_preprocess_model = hub.KerasLayer(tfhub_handle_preprocess)"
   ]
  },
  {
   "cell_type": "code",
   "execution_count": 14,
   "id": "0fba86fc-7ec8-4236-85b9-d04b822d0aa1",
   "metadata": {},
   "outputs": [
    {
     "name": "stdout",
     "output_type": "stream",
     "text": [
      "Keys : ['input_type_ids', 'input_mask', 'input_word_ids']\n",
      "Shape      : (1, 128)\n",
      "Word Ids   : [ 101 1045 2572 2200 3407  999  102    0    0    0    0    0]\n",
      "Input Mask : [1 1 1 1 1 1 1 0 0 0 0 0]\n",
      "Type Ids   : [0 0 0 0 0 0 0 0 0 0 0 0]\n"
     ]
    }
   ],
   "source": [
    "text_test = ['i am very happy!']\n",
    "text_preprocessed = bert_preprocess_model(text_test)\n",
    "\n",
    "print(f'Keys : {list(text_preprocessed.keys())}')\n",
    "print(f'Shape      : {text_preprocessed[\"input_word_ids\"].shape}')\n",
    "print(f'Word Ids   : {text_preprocessed[\"input_word_ids\"][0, :12]}')\n",
    "print(f'Input Mask : {text_preprocessed[\"input_mask\"][0, :12]}')\n",
    "print(f'Type Ids   : {text_preprocessed[\"input_type_ids\"][0, :12]}')"
   ]
  },
  {
   "cell_type": "code",
   "execution_count": 15,
   "id": "f428a3af-e0fc-4548-912d-80ca1f896c77",
   "metadata": {},
   "outputs": [],
   "source": [
    "bert_model = hub.KerasLayer(tfhub_handle_encoder)"
   ]
  },
  {
   "cell_type": "code",
   "execution_count": 16,
   "id": "1be9cfe1-1f24-499b-9490-0cc4077d2891",
   "metadata": {},
   "outputs": [
    {
     "name": "stdout",
     "output_type": "stream",
     "text": [
      "Loaded BERT: https://tfhub.dev/tensorflow/small_bert/bert_en_uncased_L-4_H-512_A-8/1\n",
      "Pooled Outputs Shape:(1, 512)\n",
      "Pooled Outputs Values:[ 0.24941826  0.9915464  -0.4749972   0.27724522  0.5778725   0.90980035\n",
      "  0.9993191  -0.97961843 -0.397511   -0.9999336   0.2814727  -0.9883225 ]\n",
      "Sequence Outputs Shape:(1, 128, 512)\n",
      "Sequence Outputs Values:[[ 0.865002   -0.43479046  0.23863408 ... -0.66000634  0.72703046\n",
      "  -0.03641245]\n",
      " [ 0.6866704   0.6730187   0.23620787 ... -1.012538    0.19366297\n",
      "  -0.39518255]\n",
      " [ 0.45706603  0.609636   -0.6904862  ... -1.044126   -0.94939023\n",
      "  -0.49390918]\n",
      " ...\n",
      " [ 0.30389774 -0.6682589  -0.73892057 ... -0.43571913  0.91625154\n",
      "   0.19610333]\n",
      " [ 0.68979114 -0.37165576 -0.271005   ... -0.11636052  0.884899\n",
      "  -0.04511157]\n",
      " [ 0.48176616 -0.96007544 -0.2895785  ... -0.23374471  1.0972216\n",
      "   0.01789726]]\n"
     ]
    }
   ],
   "source": [
    "bert_results = bert_model(text_preprocessed)\n",
    "\n",
    "print(f'Loaded BERT: {tfhub_handle_encoder}')\n",
    "print(f'Pooled Outputs Shape:{bert_results[\"pooled_output\"].shape}')\n",
    "print(f'Pooled Outputs Values:{bert_results[\"pooled_output\"][0, :12]}')\n",
    "print(f'Sequence Outputs Shape:{bert_results[\"sequence_output\"].shape}')\n",
    "print(f'Sequence Outputs Values:{bert_results[\"sequence_output\"][0, :12]}')"
   ]
  },
  {
   "cell_type": "code",
   "execution_count": 17,
   "id": "de5035d1-e086-433e-b0ba-dd451ac26083",
   "metadata": {},
   "outputs": [],
   "source": [
    "def build_classifier_model():\n",
    "    text_input = tf.keras.layers.Input(shape=(), dtype=tf.string, name='text')\n",
    "    preprocessing_layer = hub.KerasLayer(tfhub_handle_preprocess, name='preprocessing')\n",
    "    encoder_inputs = preprocessing_layer(text_input)\n",
    "    encoder = hub.KerasLayer(tfhub_handle_encoder, trainable=True, name='BERT_encoder')\n",
    "    outputs = encoder(encoder_inputs)\n",
    "    net = outputs['pooled_output']\n",
    "    net = tf.keras.layers.Dropout(0.1)(net)\n",
    "    net = tf.keras.layers.Dense(1, activation=None, name='classifier')(net)\n",
    "    return tf.keras.Model(text_input, net)"
   ]
  },
  {
   "cell_type": "code",
   "execution_count": 18,
   "id": "c7363c26-0d4f-4bab-8b11-5b9f83fdb156",
   "metadata": {},
   "outputs": [
    {
     "name": "stdout",
     "output_type": "stream",
     "text": [
      "tf.Tensor([[0.2853806]], shape=(1, 1), dtype=float32)\n"
     ]
    }
   ],
   "source": [
    "classifier_model = build_classifier_model()\n",
    "bert_raw_result = classifier_model(tf.constant(text_test))\n",
    "print(tf.sigmoid(bert_raw_result))"
   ]
  },
  {
   "cell_type": "code",
   "execution_count": 19,
   "id": "1558166d-991c-412a-a19b-f407f9bad310",
   "metadata": {},
   "outputs": [
    {
     "data": {
      "image/png": "[encoded data removed]",
      "text/plain": [
       "<IPython.core.display.Image object>"
      ]
     },
     "execution_count": 19,
     "metadata": {},
     "output_type": "execute_result"
    }
   ],
   "source": [
    "tf.keras.utils.plot_model(classifier_model)"
   ]
  },
  {
   "cell_type": "code",
   "execution_count": 20,
   "id": "9574b52b-834e-4eb3-bb41-325d7e7b3934",
   "metadata": {},
   "outputs": [],
   "source": [
    "loss = tf.keras.losses.BinaryCrossentropy(from_logits=True)\n",
    "metrics = tf.metrics.BinaryAccuracy()"
   ]
  },
  {
   "cell_type": "code",
   "execution_count": 21,
   "id": "bbcac212-564f-44de-bfac-a87ed338a25e",
   "metadata": {},
   "outputs": [],
   "source": [
    "epochs = 5\n",
    "steps_per_epoch = tf.data.experimental.cardinality(train_ds).numpy()\n",
    "num_train_steps = steps_per_epoch * epochs\n",
    "num_warmup_steps = int(0.1*num_train_steps)\n",
    "\n",
    "init_lr = 3e-5\n",
    "optimizer = optimization.create_optimizer(init_lr=init_lr,\n",
    "                                          num_train_steps=num_train_steps,\n",
    "                                          num_warmup_steps=num_warmup_steps,\n",
    "                                          optimizer_type='adamw')"
   ]
  },
  {
   "cell_type": "code",
   "execution_count": 22,
   "id": "e3c69267-8c1c-4c4b-b7a4-8ef97c58a552",
   "metadata": {},
   "outputs": [],
   "source": [
    "classifier_model.compile(optimizer=optimizer,\n",
    "                         loss=loss,\n",
    "                         metrics=metrics)"
   ]
  },
  {
   "cell_type": "code",
   "execution_count": 24,
   "id": "a95155c0-d760-4a87-a3f4-05cf67fb2a88",
   "metadata": {},
   "outputs": [
    {
     "name": "stdout",
     "output_type": "stream",
     "text": [
      "Training model with https://tfhub.dev/tensorflow/small_bert/bert_en_uncased_L-4_H-512_A-8/1\n",
      "Epoch 1/5\n",
      "267/267 [==============================] - 1796s 7s/step - loss: -29.8900 - binary_accuracy: 0.1866 - val_loss: -49.3229 - val_binary_accuracy: 0.1706\n",
      "Epoch 2/5\n",
      "267/267 [==============================] - 8519s 32s/step - loss: -51.4421 - binary_accuracy: 0.1850 - val_loss: -56.1708 - val_binary_accuracy: 0.1706\n",
      "Epoch 3/5\n",
      "267/267 [==============================] - 1624s 6s/step - loss: -56.4607 - binary_accuracy: 0.1850 - val_loss: -59.9406 - val_binary_accuracy: 0.1706\n",
      "Epoch 4/5\n",
      "267/267 [==============================] - 1675s 6s/step - loss: -59.3593 - binary_accuracy: 0.1850 - val_loss: -62.0740 - val_binary_accuracy: 0.1706\n",
      "Epoch 5/5\n",
      "267/267 [==============================] - 1626s 6s/step - loss: -60.7046 - binary_accuracy: 0.1850 - val_loss: -62.7703 - val_binary_accuracy: 0.1706\n"
     ]
    }
   ],
   "source": [
    "print(f'Training model with {tfhub_handle_encoder}')\n",
    "history = classifier_model.fit(x=train_ds,\n",
    "                               validation_data=val_ds,\n",
    "                               epochs=epochs)"
   ]
  },
  {
   "cell_type": "code",
   "execution_count": 25,
   "id": "b206bae0-410c-4af5-a999-21653b43b0ba",
   "metadata": {},
   "outputs": [
    {
     "name": "stdout",
     "output_type": "stream",
     "text": [
      "41/41 [==============================] - 103s 2s/step - loss: -61.2084 - binary_accuracy: 0.1719\n",
      "Loss: -61.208370208740234\n",
      "Accuracy: 0.17188693583011627\n"
     ]
    }
   ],
   "source": [
    "loss, accuracy = classifier_model.evaluate(test_ds)\n",
    "\n",
    "print(f'Loss: {loss}')\n",
    "print(f'Accuracy: {accuracy}')"
   ]
  },
  {
   "cell_type": "code",
   "execution_count": 26,
   "id": "977b9a9d-7c6e-42bf-a360-31a9a80add67",
   "metadata": {},
   "outputs": [
    {
     "name": "stdout",
     "output_type": "stream",
     "text": [
      "dict_keys(['loss', 'binary_accuracy', 'val_loss', 'val_binary_accuracy'])\n"
     ]
    },
    {
     "data": {
      "text/plain": [
       "<matplotlib.legend.Legend at 0x16d862c0ac0>"
      ]
     },
     "execution_count": 26,
     "metadata": {},
     "output_type": "execute_result"
    },
    {
     "data": {
      "image/png": "[encoded data removed]",
      "text/plain": [
       "<Figure size 720x432 with 2 Axes>"
      ]
     },
     "metadata": {
      "needs_background": "light"
     },
     "output_type": "display_data"
    }
   ],
   "source": [
    "history_dict = history.history\n",
    "print(history_dict.keys())\n",
    "\n",
    "acc = history_dict['binary_accuracy']\n",
    "val_acc = history_dict['val_binary_accuracy']\n",
    "loss = history_dict['loss']\n",
    "val_loss = history_dict['val_loss']\n",
    "\n",
    "epochs = range(1, len(acc) + 1)\n",
    "fig = plt.figure(figsize=(10, 6))\n",
    "fig.tight_layout()\n",
    "\n",
    "plt.subplot(2, 1, 1)\n",
    "# r is for \"solid red line\"\n",
    "plt.plot(epochs, loss, 'r', label='Training loss')\n",
    "# b is for \"solid blue line\"\n",
    "plt.plot(epochs, val_loss, 'b', label='Validation loss')\n",
    "plt.title('Training and validation loss')\n",
    "# plt.xlabel('Epochs')\n",
    "plt.ylabel('Loss')\n",
    "plt.legend()\n",
    "\n",
    "plt.subplot(2, 1, 2)\n",
    "plt.plot(epochs, acc, 'r', label='Training acc')\n",
    "plt.plot(epochs, val_acc, 'b', label='Validation acc')\n",
    "plt.title('Training and validation accuracy')\n",
    "plt.xlabel('Epochs')\n",
    "plt.ylabel('Accuracy')\n",
    "plt.legend(loc='lower right')"
   ]
  },
  {
   "cell_type": "code",
   "execution_count": 27,
   "id": "7c86c32a-2f34-4b79-b18b-fb40c14f8c0f",
   "metadata": {},
   "outputs": [
    {
     "name": "stderr",
     "output_type": "stream",
     "text": [
      "WARNING:absl:Found untraced functions such as restored_function_body, restored_function_body, restored_function_body, restored_function_body, restored_function_body while saving (showing 5 of 310). These functions will not be directly callable after loading.\n"
     ]
    }
   ],
   "source": [
    "dataset_name = 'data'\n",
    "saved_model_path = './{}_bert'.format(dataset_name.replace('/', '_'))\n",
    "\n",
    "classifier_model.save(saved_model_path, include_optimizer=False)"
   ]
  },
  {
   "cell_type": "code",
   "execution_count": 28,
   "id": "94d6f434-1ac0-4314-89d4-a0f3305ed439",
   "metadata": {},
   "outputs": [],
   "source": [
    "reloaded_model = tf.saved_model.load(saved_model_path)"
   ]
  },
  {
   "cell_type": "code",
   "execution_count": 29,
   "id": "0613e5d2-fbfb-4931-a912-bc5af7ab89e0",
   "metadata": {},
   "outputs": [
    {
     "name": "stdout",
     "output_type": "stream",
     "text": [
      "Results from the saved model:\n",
      "input: i am happy!                    : score: 1.000000\n",
      "input: i am afraid!                   : score: 1.000000\n",
      "input: i want you!                    : score: 1.000000\n",
      "input: i am upset!                    : score: 1.000000\n",
      "input: i am shocked!                  : score: 1.000000\n",
      "\n",
      "Results from the model in memory:\n",
      "input: i am happy!                    : score: 1.000000\n",
      "input: i am afraid!                   : score: 1.000000\n",
      "input: i want you!                    : score: 1.000000\n",
      "input: i am upset!                    : score: 1.000000\n",
      "input: i am shocked!                  : score: 1.000000\n",
      "\n"
     ]
    }
   ],
   "source": [
    "def print_my_examples(inputs, results):\n",
    "  result_for_printing = \\\n",
    "    [f'input: {inputs[i]:<30} : score: {results[i][0]:.6f}'\n",
    "                         for i in range(len(inputs))]\n",
    "  print(*result_for_printing, sep='\\n')\n",
    "  print()\n",
    "\n",
    "\n",
    "examples = [\n",
    "    'i am happy!',  # this is the same sentence tried earlier\n",
    "    'i am afraid!',\n",
    "    'i want you!',\n",
    "    'i am upset!',\n",
    "    'i am shocked!'\n",
    "]\n",
    "\n",
    "reloaded_results = tf.sigmoid(reloaded_model(tf.constant(examples)))\n",
    "original_results = tf.sigmoid(classifier_model(tf.constant(examples)))\n",
    "\n",
    "print('Results from the saved model:')\n",
    "print_my_examples(examples, reloaded_results)\n",
    "print('Results from the model in memory:')\n",
    "print_my_examples(examples, original_results)"
   ]
  },
  {
   "cell_type": "code",
   "execution_count": 30,
   "id": "4fd721d1-fe67-47f9-848b-c2cb83139f8b",
   "metadata": {},
   "outputs": [
    {
     "name": "stdout",
     "output_type": "stream",
     "text": [
      "input: i am happy!                    : score: 1.000000\n",
      "input: i am afraid!                   : score: 1.000000\n",
      "input: i want you!                    : score: 1.000000\n",
      "input: i am upset!                    : score: 1.000000\n",
      "input: i am shocked!                  : score: 1.000000\n",
      "\n"
     ]
    }
   ],
   "source": [
    "serving_results = reloaded_model \\\n",
    "            .signatures['serving_default'](tf.constant(examples))\n",
    "\n",
    "serving_results = tf.sigmoid(serving_results['classifier'])\n",
    "\n",
    "print_my_examples(examples, serving_results)"
   ]
  },
  {
   "cell_type": "code",
   "execution_count": null,
   "id": "66070cda-5722-4a5d-a461-fec8125cc543",
   "metadata": {},
   "outputs": [],
   "source": []
  }
 ],
 "metadata": {
  "kernelspec": {
   "display_name": "Python 3 (ipykernel)",
   "language": "python",
   "name": "python3"
  },
  "language_info": {
   "codemirror_mode": {
    "name": "ipython",
    "version": 3
   },
   "file_extension": ".py",
   "mimetype": "text/x-python",
   "name": "python",
   "nbconvert_exporter": "python",
   "pygments_lexer": "ipython3",
   "version": "3.9.7"
  }
 },
 "nbformat": 4,
 "nbformat_minor": 5
}
