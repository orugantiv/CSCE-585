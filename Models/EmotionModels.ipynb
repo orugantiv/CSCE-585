{
  "nbformat": 4,
  "nbformat_minor": 0,
  "metadata": {
    "orig_nbformat": 4,
    "colab": {
      "name": "EmotionModels.ipynb",
      "provenance": []
    },
    "language_info": {
      "name": "python"
    },
    "kernelspec": {
      "name": "python3",
      "display_name": "Python 3"
    },
    "accelerator": "GPU"
  },
  "cells": [
    {
      "cell_type": "markdown",
      "metadata": {
        "id": "Yl9Ht2uggCQw"
      },
      "source": [
        "# **Required Downloads**"
      ]
    },
    {
      "cell_type": "code",
      "metadata": {
        "id": "JNdlEs3mgCQz"
      },
      "source": [
        "!pip install -q transformers\n",
        "!pip install -q contractions\n",
        "!pip install -q autocorrect"
      ],
      "execution_count": 22,
      "outputs": []
    },
    {
      "cell_type": "markdown",
      "metadata": {
        "id": "hwMqdpb2gCQ2"
      },
      "source": [
        "# **Required Imports**"
      ]
    },
    {
      "cell_type": "code",
      "metadata": {
        "id": "adjxCh2igCQ3"
      },
      "source": [
        "\n",
        "from transformers import BertTokenizer, TFBertForSequenceClassification\n",
        "from transformers import DistilBertTokenizer, TFDistilBertForSequenceClassification\n",
        "from transformers import RobertaTokenizer,TFRobertaForSequenceClassification\n",
        "from transformers import XLNetTokenizer, TFXLNetForSequenceClassification\n",
        "from transformers import ElectraTokenizer,TFElectraForSequenceClassification\n",
        "from transformers import GPT2Tokenizer,TFGPT2ForSequenceClassification\n",
        "from transformers import FlaubertTokenizer,TFFlaubertForSequenceClassification\n",
        "from transformers import DebertaTokenizer,TFDebertaForSequenceClassification\n",
        "from transformers import AutoTokenizer, TFAutoModel\n",
        "\n",
        "\n",
        "from matplotlib import pyplot as plt\n",
        "from sklearn.metrics import confusion_matrix , classification_report\n",
        "import pandas as pd\n",
        "import seaborn as sns\n",
        "\n",
        "import tensorflow as tf\n",
        "import json\n",
        "\n",
        "import numpy as np\n",
        "import pandas as pd\n",
        "\n",
        "\n",
        "import os\n",
        "import re\n",
        "\n",
        "from nltk.stem import WordNetLemmatizer\n",
        "from nltk.tokenize import sent_tokenize\n",
        "\n",
        "import contractions\n",
        "from textblob import TextBlob\n",
        "from sklearn.feature_extraction.text import CountVectorizer, TfidfVectorizer\n"
      ],
      "execution_count": 178,
      "outputs": []
    },
    {
      "cell_type": "markdown",
      "metadata": {
        "id": "47pKS2lxhB3C"
      },
      "source": [
        "# **Data Prepration**"
      ]
    },
    {
      "cell_type": "markdown",
      "metadata": {
        "id": "Bz-Rx6FJokN-"
      },
      "source": [
        "## Importing Data\n",
        "- The following cell is importing data from google drive and storing the files to /home/Emotiondata directory.\n",
        "- Data Source: \n",
        "> https://www.kaggle.com/praveengovi/emotions-dataset-for-nlp"
      ]
    },
    {
      "cell_type": "code",
      "metadata": {
        "colab": {
          "base_uri": "https://localhost:8080/"
        },
        "id": "DAEtK1AGhGD7",
        "outputId": "56b40bf8-6b10-4175-f222-5ae75ce538be"
      },
      "source": [
        "from google.colab import drive\n",
        "drive.mount('/content/drive')"
      ],
      "execution_count": 163,
      "outputs": [
        {
          "output_type": "stream",
          "name": "stdout",
          "text": [
            "Drive already mounted at /content/drive; to attempt to forcibly remount, call drive.mount(\"/content/drive\", force_remount=True).\n"
          ]
        }
      ]
    },
    {
      "cell_type": "code",
      "metadata": {
        "colab": {
          "base_uri": "https://localhost:8080/"
        },
        "id": "szJKMtjzqqah",
        "outputId": "22ef42a9-28e2-4c03-bd03-829603ce9a06"
      },
      "source": [
        "DataDir = '/home/EmotionData/'\n",
        "!mkdir /home/EmotionData\n",
        "!unzip /content/drive/MyDrive/archive.zip \n",
        "!mv /content/*.txt /home/EmotionData"
      ],
      "execution_count": 164,
      "outputs": [
        {
          "output_type": "stream",
          "name": "stdout",
          "text": [
            "Archive:  /content/drive/MyDrive/archive.zip\n",
            "  inflating: test.txt                \n",
            "  inflating: train.txt               \n",
            "  inflating: val.txt                 \n"
          ]
        }
      ]
    },
    {
      "cell_type": "markdown",
      "metadata": {
        "id": "Qx8Kr2o-sWO-"
      },
      "source": [
        "## Loading Data\n",
        "- The Following cell loads train, validation and test data to variables \n",
        "- Used Sources: \n",
        ">https://stackoverflow.com/questions/21546739/load-data-from-txt-with-pandas"
      ]
    },
    {
      "cell_type": "code",
      "metadata": {
        "colab": {
          "base_uri": "https://localhost:8080/",
          "height": 0
        },
        "id": "ZedJaw-rsZ16",
        "outputId": "158a2bd0-5a5a-4cef-9cb3-45545d695441"
      },
      "source": [
        "def readDataEmotionData1(dataPath):\n",
        "  data = pd.read_csv(DataDir+dataPath, sep=\";\", header=None, names = ['Text','Label'])\n",
        "  return data;\n",
        "\n",
        "trainData = readDataEmotionData1('train.txt')\n",
        "valData = readDataEmotionData1('val.txt')\n",
        "testData = readDataEmotionData1('test.txt')\n",
        "# Shows how the data looks in the padas DataFrame after loading \n",
        "trainData.head()"
      ],
      "execution_count": 165,
      "outputs": [
        {
          "output_type": "execute_result",
          "data": {
            "text/html": [
              "<div>\n",
              "<style scoped>\n",
              "    .dataframe tbody tr th:only-of-type {\n",
              "        vertical-align: middle;\n",
              "    }\n",
              "\n",
              "    .dataframe tbody tr th {\n",
              "        vertical-align: top;\n",
              "    }\n",
              "\n",
              "    .dataframe thead th {\n",
              "        text-align: right;\n",
              "    }\n",
              "</style>\n",
              "<table border=\"1\" class=\"dataframe\">\n",
              "  <thead>\n",
              "    <tr style=\"text-align: right;\">\n",
              "      <th></th>\n",
              "      <th>Text</th>\n",
              "      <th>Label</th>\n",
              "    </tr>\n",
              "  </thead>\n",
              "  <tbody>\n",
              "    <tr>\n",
              "      <th>0</th>\n",
              "      <td>i didnt feel humiliated</td>\n",
              "      <td>sadness</td>\n",
              "    </tr>\n",
              "    <tr>\n",
              "      <th>1</th>\n",
              "      <td>i can go from feeling so hopeless to so damned...</td>\n",
              "      <td>sadness</td>\n",
              "    </tr>\n",
              "    <tr>\n",
              "      <th>2</th>\n",
              "      <td>im grabbing a minute to post i feel greedy wrong</td>\n",
              "      <td>anger</td>\n",
              "    </tr>\n",
              "    <tr>\n",
              "      <th>3</th>\n",
              "      <td>i am ever feeling nostalgic about the fireplac...</td>\n",
              "      <td>love</td>\n",
              "    </tr>\n",
              "    <tr>\n",
              "      <th>4</th>\n",
              "      <td>i am feeling grouchy</td>\n",
              "      <td>anger</td>\n",
              "    </tr>\n",
              "  </tbody>\n",
              "</table>\n",
              "</div>"
            ],
            "text/plain": [
              "                                                Text    Label\n",
              "0                            i didnt feel humiliated  sadness\n",
              "1  i can go from feeling so hopeless to so damned...  sadness\n",
              "2   im grabbing a minute to post i feel greedy wrong    anger\n",
              "3  i am ever feeling nostalgic about the fireplac...     love\n",
              "4                               i am feeling grouchy    anger"
            ]
          },
          "metadata": {},
          "execution_count": 165
        }
      ]
    },
    {
      "cell_type": "markdown",
      "metadata": {
        "id": "M_p5AhGUxSXz"
      },
      "source": [
        "## About the Data\n"
      ]
    },
    {
      "cell_type": "code",
      "metadata": {
        "colab": {
          "base_uri": "https://localhost:8080/",
          "height": 0
        },
        "id": "_XbCgkxK0HOV",
        "outputId": "8306a031-d7dc-46d7-f4e5-364909022719"
      },
      "source": [
        "# The following function adds length coloum to pandas Dataframe\n",
        "def addTextLength(dataFrame):\n",
        "  lengthData = []\n",
        "  for i in dataFrame['Text']:\n",
        "    lengthData.append(len(i))\n",
        "  dataFrame=dataFrame.assign(Length=lengthData)\n",
        "  return dataFrame\n",
        "trainData = addTextLength(trainData)\n",
        "valData = addTextLength(valData)\n",
        "testData = addTextLength(testData)\n",
        "valData.head()"
      ],
      "execution_count": 166,
      "outputs": [
        {
          "output_type": "execute_result",
          "data": {
            "text/html": [
              "<div>\n",
              "<style scoped>\n",
              "    .dataframe tbody tr th:only-of-type {\n",
              "        vertical-align: middle;\n",
              "    }\n",
              "\n",
              "    .dataframe tbody tr th {\n",
              "        vertical-align: top;\n",
              "    }\n",
              "\n",
              "    .dataframe thead th {\n",
              "        text-align: right;\n",
              "    }\n",
              "</style>\n",
              "<table border=\"1\" class=\"dataframe\">\n",
              "  <thead>\n",
              "    <tr style=\"text-align: right;\">\n",
              "      <th></th>\n",
              "      <th>Text</th>\n",
              "      <th>Label</th>\n",
              "      <th>Length</th>\n",
              "    </tr>\n",
              "  </thead>\n",
              "  <tbody>\n",
              "    <tr>\n",
              "      <th>0</th>\n",
              "      <td>im feeling quite sad and sorry for myself but ...</td>\n",
              "      <td>sadness</td>\n",
              "      <td>69</td>\n",
              "    </tr>\n",
              "    <tr>\n",
              "      <th>1</th>\n",
              "      <td>i feel like i am still looking at a blank canv...</td>\n",
              "      <td>sadness</td>\n",
              "      <td>70</td>\n",
              "    </tr>\n",
              "    <tr>\n",
              "      <th>2</th>\n",
              "      <td>i feel like a faithful servant</td>\n",
              "      <td>love</td>\n",
              "      <td>30</td>\n",
              "    </tr>\n",
              "    <tr>\n",
              "      <th>3</th>\n",
              "      <td>i am just feeling cranky and blue</td>\n",
              "      <td>anger</td>\n",
              "      <td>33</td>\n",
              "    </tr>\n",
              "    <tr>\n",
              "      <th>4</th>\n",
              "      <td>i can have for a treat or if i am feeling festive</td>\n",
              "      <td>joy</td>\n",
              "      <td>49</td>\n",
              "    </tr>\n",
              "  </tbody>\n",
              "</table>\n",
              "</div>"
            ],
            "text/plain": [
              "                                                Text    Label  Length\n",
              "0  im feeling quite sad and sorry for myself but ...  sadness      69\n",
              "1  i feel like i am still looking at a blank canv...  sadness      70\n",
              "2                     i feel like a faithful servant     love      30\n",
              "3                  i am just feeling cranky and blue    anger      33\n",
              "4  i can have for a treat or if i am feeling festive      joy      49"
            ]
          },
          "metadata": {},
          "execution_count": 166
        }
      ]
    },
    {
      "cell_type": "code",
      "metadata": {
        "colab": {
          "base_uri": "https://localhost:8080/",
          "height": 0
        },
        "id": "Ac0ziLoN3NBV",
        "outputId": "d3d7e39d-3c7b-4fa6-ae56-28d0b139d4ae"
      },
      "source": [
        "# This shows the distrubution of the number of characters length of the Text.\n",
        "def plotDestrubrition(data,name):\n",
        "  sns.set_style('darkgrid')\n",
        "  plt.figure(figsize=(5,5))\n",
        "  plt.title(name)\n",
        "  sns.distplot(data)\n",
        "plotDestrubrition(trainData['Length'],'Train Data')"
      ],
      "execution_count": 167,
      "outputs": [
        {
          "output_type": "stream",
          "name": "stderr",
          "text": [
            "/usr/local/lib/python3.7/dist-packages/seaborn/distributions.py:2619: FutureWarning: `distplot` is a deprecated function and will be removed in a future version. Please adapt your code to use either `displot` (a figure-level function with similar flexibility) or `histplot` (an axes-level function for histograms).\n",
            "  warnings.warn(msg, FutureWarning)\n"
          ]
        },
        {
          "output_type": "display_data",
          "data": {
            "image/png": "[encoded data removed]",
            "text/plain": [
              "<Figure size 360x360 with 1 Axes>"
            ]
          },
          "metadata": {}
        }
      ]
    },
    {
      "cell_type": "code",
      "metadata": {
        "colab": {
          "base_uri": "https://localhost:8080/",
          "height": 0
        },
        "id": "dfWMCFyR6bjQ",
        "outputId": "51769141-cabc-4877-e008-28c4737d6a76"
      },
      "source": [
        "maxSentanceLength = 300\n",
        "trainData.describe()"
      ],
      "execution_count": 168,
      "outputs": [
        {
          "output_type": "execute_result",
          "data": {
            "text/html": [
              "<div>\n",
              "<style scoped>\n",
              "    .dataframe tbody tr th:only-of-type {\n",
              "        vertical-align: middle;\n",
              "    }\n",
              "\n",
              "    .dataframe tbody tr th {\n",
              "        vertical-align: top;\n",
              "    }\n",
              "\n",
              "    .dataframe thead th {\n",
              "        text-align: right;\n",
              "    }\n",
              "</style>\n",
              "<table border=\"1\" class=\"dataframe\">\n",
              "  <thead>\n",
              "    <tr style=\"text-align: right;\">\n",
              "      <th></th>\n",
              "      <th>Length</th>\n",
              "    </tr>\n",
              "  </thead>\n",
              "  <tbody>\n",
              "    <tr>\n",
              "      <th>count</th>\n",
              "      <td>16000.000000</td>\n",
              "    </tr>\n",
              "    <tr>\n",
              "      <th>mean</th>\n",
              "      <td>96.845812</td>\n",
              "    </tr>\n",
              "    <tr>\n",
              "      <th>std</th>\n",
              "      <td>55.904953</td>\n",
              "    </tr>\n",
              "    <tr>\n",
              "      <th>min</th>\n",
              "      <td>7.000000</td>\n",
              "    </tr>\n",
              "    <tr>\n",
              "      <th>25%</th>\n",
              "      <td>53.000000</td>\n",
              "    </tr>\n",
              "    <tr>\n",
              "      <th>50%</th>\n",
              "      <td>86.000000</td>\n",
              "    </tr>\n",
              "    <tr>\n",
              "      <th>75%</th>\n",
              "      <td>129.000000</td>\n",
              "    </tr>\n",
              "    <tr>\n",
              "      <th>max</th>\n",
              "      <td>300.000000</td>\n",
              "    </tr>\n",
              "  </tbody>\n",
              "</table>\n",
              "</div>"
            ],
            "text/plain": [
              "             Length\n",
              "count  16000.000000\n",
              "mean      96.845812\n",
              "std       55.904953\n",
              "min        7.000000\n",
              "25%       53.000000\n",
              "50%       86.000000\n",
              "75%      129.000000\n",
              "max      300.000000"
            ]
          },
          "metadata": {},
          "execution_count": 168
        }
      ]
    },
    {
      "cell_type": "markdown",
      "metadata": {
        "id": "ZJpbHnHp70gU"
      },
      "source": [
        "## Text Prepration\n",
        "- Decontracted: https://www.geeksforgeeks.org/nlp-expand-contractions-in-text-processing/\n",
        "- Spell check\n",
        "- About Formatted Data\n",
        "- Labels One hot enconding\n",
        "- Text Enconding using Model specific, ex. BertTokenizer, RobertaTokenizer,etc."
      ]
    },
    {
      "cell_type": "code",
      "metadata": {
        "colab": {
          "base_uri": "https://localhost:8080/"
        },
        "id": "fyCHlYHO76Ya",
        "outputId": "69853d6d-e2ff-47e7-862d-b5330b121d80"
      },
      "source": [
        "def Decontracted(DataFrame):\n",
        "  for i, text in enumerate(DataFrame['Text']):\n",
        "    DataFrame['Text'][i] = contractions.fix(text)\n",
        "  return DataFrame\n",
        "trainData = Decontracted(trainData)\n",
        "valData = Decontracted(valData)\n",
        "testData = Decontracted(testData)"
      ],
      "execution_count": 169,
      "outputs": [
        {
          "output_type": "stream",
          "name": "stderr",
          "text": [
            "/usr/local/lib/python3.7/dist-packages/ipykernel_launcher.py:3: SettingWithCopyWarning: \n",
            "A value is trying to be set on a copy of a slice from a DataFrame\n",
            "\n",
            "See the caveats in the documentation: https://pandas.pydata.org/pandas-docs/stable/user_guide/indexing.html#returning-a-view-versus-a-copy\n",
            "  This is separate from the ipykernel package so we can avoid doing imports until\n"
          ]
        }
      ]
    },
    {
      "cell_type": "code",
      "metadata": {
        "id": "2rcM-5tCHYYk"
      },
      "source": [
        "# from autocorrect import Speller\n",
        "# def SpellCheck(DataFrame):\n",
        "#   spell = Speller(lang='en')\n",
        "#   for i, text in enumerate(DataFrame['Text']):\n",
        "#       DataFrame['Text'][i] = str(spell(text))\n",
        "#   return DataFrame\n",
        "\n",
        "# trainData = SpellCheck(trainData)\n",
        "# valData = SpellCheck(valData)\n",
        "# testData = SpellCheck(testData)"
      ],
      "execution_count": 170,
      "outputs": []
    },
    {
      "cell_type": "code",
      "metadata": {
        "colab": {
          "base_uri": "https://localhost:8080/"
        },
        "id": "h5eELCHFPqCg",
        "outputId": "c707cd64-6761-453f-bf3b-c434f9228e76"
      },
      "source": [
        "def LabelEncoding(DataFrame):\n",
        "  labels = []\n",
        "  encodeVectorizer = CountVectorizer(analyzer = \"word\", tokenizer = None,lowercase=True, preprocessor = None, stop_words = None)\n",
        "  encodedLabels = encodeVectorizer.fit_transform(DataFrame['Label'])\n",
        "  LabelsNames = list(encodeVectorizer.get_feature_names())\n",
        "  for i in DataFrame['Label']:\n",
        "    labels.append((list(LabelsNames).index(i)))\n",
        "  return labels,LabelsNames\n",
        "encodedTrainLabels,TrainLabelFeatureNames = LabelEncoding(trainData)\n",
        "print(encodedTrainLabels)\n",
        "encodedValLabels,ValLabelFeatureNames = LabelEncoding(valData)\n",
        "encodedTestLabels,TestLabelFeatureNames = LabelEncoding(testData)"
      ],
      "execution_count": 171,
      "outputs": [
        {
          "output_type": "stream",
          "name": "stdout",
          "text": [
            "[4, 4, 0, 3, 0, 4, 5, 1, 2, 3, 4, 2, 0, 4, 2, 2, 4, 4, 4, 1, 0, 1, 2, 2, 0, 4, 4, 4, 0, 2, 2, 1, 5, 0, 2, 2, 2, 2, 0, 2, 2, 2, 2, 2, 4, 4, 2, 3, 2, 0, 2, 4, 0, 1, 2, 4, 4, 5, 2, 2, 2, 3, 1, 1, 5, 0, 0, 4, 3, 2, 4, 4, 2, 4, 4, 4, 2, 2, 2, 0, 4, 0, 0, 0, 2, 2, 2, 2, 4, 1, 3, 0, 4, 0, 3, 4, 2, 2, 4, 0, 3, 2, 2, 2, 4, 2, 2, 2, 2, 4, 2, 2, 3, 4, 4, 2, 2, 4, 2, 2, 1, 1, 1, 4, 3, 2, 2, 3, 1, 5, 2, 2, 2, 2, 0, 1, 2, 0, 3, 0, 4, 2, 4, 0, 2, 5, 4, 0, 0, 4, 2, 1, 2, 2, 1, 4, 5, 5, 2, 0, 1, 0, 4, 0, 4, 1, 4, 2, 5, 1, 2, 0, 2, 0, 2, 1, 1, 4, 2, 2, 4, 5, 2, 1, 2, 4, 2, 2, 2, 1, 2, 5, 2, 0, 4, 4, 2, 0, 4, 2, 2, 5, 2, 1, 2, 1, 4, 1, 3, 4, 1, 3, 4, 4, 0, 2, 3, 0, 4, 5, 0, 2, 4, 0, 2, 2, 2, 2, 2, 4, 2, 3, 2, 4, 0, 5, 2, 0, 2, 3, 4, 4, 2, 4, 4, 2, 4, 2, 2, 2, 1, 4, 0, 4, 0, 3, 2, 3, 4, 2, 2, 2, 4, 2, 4, 0, 3, 4, 3, 4, 4, 4, 4, 4, 4, 1, 2, 4, 4, 2, 3, 4, 0, 4, 3, 2, 2, 2, 4, 2, 4, 2, 2, 2, 4, 4, 4, 3, 1, 4, 1, 2, 2, 1, 2, 0, 0, 3, 4, 5, 2, 0, 4, 4, 0, 3, 5, 4, 3, 2, 0, 2, 4, 4, 2, 2, 1, 4, 0, 2, 3, 2, 2, 2, 2, 2, 3, 2, 1, 1, 2, 2, 0, 2, 2, 2, 4, 5, 2, 2, 4, 5, 2, 1, 2, 0, 3, 0, 1, 5, 2, 0, 4, 4, 4, 1, 2, 1, 2, 0, 4, 3, 0, 4, 3, 3, 2, 4, 2, 2, 0, 2, 3, 2, 2, 4, 5, 2, 2, 4, 5, 0, 2, 2, 3, 2, 3, 3, 2, 4, 2, 4, 1, 0, 4, 0, 2, 1, 5, 3, 4, 4, 2, 5, 3, 4, 4, 2, 1, 2, 2, 2, 3, 1, 4, 4, 1, 3, 2, 4, 2, 4, 2, 4, 2, 4, 2, 2, 0, 4, 1, 4, 4, 0, 5, 5, 2, 5, 1, 3, 0, 2, 1, 4, 0, 4, 2, 1, 2, 2, 2, 2, 5, 0, 4, 2, 4, 0, 3, 4, 3, 0, 3, 3, 2, 2, 4, 2, 4, 2, 0, 2, 1, 4, 2, 4, 5, 2, 2, 3, 2, 4, 0, 2, 4, 4, 4, 2, 2, 2, 4, 4, 0, 0, 2, 4, 5, 2, 2, 4, 0, 2, 0, 2, 2, 3, 0, 2, 2, 2, 2, 2, 2, 2, 1, 2, 1, 4, 0, 0, 4, 3, 4, 4, 4, 5, 1, 4, 4, 2, 1, 2, 4, 4, 0, 4, 0, 0, 3, 2, 2, 4, 2, 2, 2, 3, 3, 3, 2, 5, 1, 4, 0, 4, 1, 2, 0, 2, 2, 4, 2, 1, 2, 0, 4, 0, 2, 3, 3, 4, 1, 4, 4, 4, 1, 4, 0, 2, 2, 4, 1, 1, 0, 0, 4, 4, 0, 0, 2, 1, 4, 4, 1, 2, 1, 4, 4, 2, 4, 0, 4, 3, 5, 2, 2, 2, 2, 2, 4, 4, 3, 1, 0, 2, 3, 2, 2, 1, 0, 1, 4, 0, 0, 0, 1, 2, 3, 0, 1, 0, 2, 1, 4, 4, 0, 2, 0, 1, 1, 5, 4, 2, 2, 2, 3, 4, 2, 4, 0, 2, 2, 1, 1, 2, 1, 0, 0, 0, 2, 4, 2, 2, 2, 0, 1, 0, 2, 4, 2, 1, 2, 4, 0, 4, 4, 2, 2, 4, 3, 2, 4, 0, 3, 4, 2, 2, 1, 0, 2, 2, 3, 5, 1, 1, 0, 0, 3, 4, 4, 2, 3, 0, 2, 0, 2, 2, 2, 1, 1, 3, 4, 3, 2, 2, 4, 4, 0, 0, 0, 0, 4, 2, 4, 2, 1, 4, 2, 4, 2, 5, 1, 2, 2, 1, 1, 4, 4, 0, 4, 3, 2, 5, 2, 5, 2, 1, 2, 2, 2, 2, 5, 3, 4, 3, 2, 4, 2, 2, 4, 2, 2, 2, 2, 1, 1, 1, 1, 0, 3, 4, 2, 2, 4, 4, 4, 4, 2, 4, 4, 1, 2, 0, 2, 2, 1, 0, 2, 0, 0, 0, 0, 0, 2, 1, 4, 3, 4, 1, 3, 2, 5, 2, 2, 2, 2, 4, 5, 2, 0, 0, 0, 2, 2, 4, 3, 4, 2, 0, 0, 0, 1, 2, 2, 1, 4, 5, 2, 3, 4, 2, 2, 4, 4, 4, 0, 2, 4, 4, 4, 4, 2, 5, 2, 0, 3, 2, 0, 4, 2, 0, 4, 1, 1, 4, 4, 1, 4, 3, 1, 2, 2, 1, 2, 0, 2, 2, 0, 2, 2, 3, 0, 2, 2, 2, 0, 2, 3, 1, 0, 3, 4, 1, 4, 4, 3, 2, 1, 3, 2, 2, 4, 2, 4, 1, 2, 4, 3, 4, 3, 4, 4, 0, 3, 0, 2, 0, 4, 4, 2, 2, 0, 4, 5, 2, 3, 4, 0, 1, 3, 2, 2, 0, 2, 4, 2, 2, 2, 3, 2, 4, 3, 1, 4, 2, 4, 0, 2, 2, 4, 2, 3, 2, 2, 2, 0, 1, 4, 2, 4, 4, 3, 0, 2, 3, 4, 2, 1, 4, 2, 2, 4, 4, 3, 2, 4, 4, 4, 4, 0, 4, 2, 4, 2, 4, 3, 0, 2, 1, 4, 4, 2, 2, 0, 1, 3, 2, 4, 0, 4, 2, 4, 2, 2, 4, 3, 2, 2, 4, 0, 4, 0, 4, 2, 4, 0, 2, 5, 4, 1, 4, 1, 4, 0, 0, 2, 0, 2, 2, 2, 4, 1, 2, 2, 0, 2, 1, 2, 3, 4, 4, 4, 4, 2, 3, 1, 2, 0, 4, 2, 1, 2, 2, 4, 1, 4, 2, 4, 4, 4, 4, 3, 4, 1, 1, 2, 3, 4, 4, 3, 2, 4, 4, 4, 4, 3, 2, 2, 4, 1, 2, 2, 2, 2, 2, 0, 1, 3, 2, 0, 3, 3, 2, 4, 4, 0, 2, 2, 1, 2, 2, 4, 4, 3, 2, 2, 2, 2, 2, 4, 2, 3, 2, 1, 2, 4, 2, 2, 1, 2, 4, 1, 2, 4, 2, 4, 1, 2, 2, 1, 4, 4, 2, 2, 2, 2, 1, 2, 2, 1, 2, 1, 5, 2, 1, 5, 1, 2, 2, 5, 4, 4, 2, 2, 2, 2, 2, 2, 2, 2, 1, 4, 0, 2, 4, 2, 1, 3, 3, 1, 4, 4, 2, 1, 4, 3, 0, 2, 4, 2, 2, 4, 1, 4, 2, 4, 4, 2, 4, 4, 4, 1, 2, 0, 4, 4, 2, 2, 2, 2, 3, 2, 1, 2, 2, 2, 1, 4, 4, 2, 4, 4, 2, 4, 4, 4, 2, 4, 1, 0, 4, 2, 1, 2, 4, 2, 2, 1, 1, 4, 2, 5, 2, 0, 3, 4, 4, 3, 0, 1, 1, 2, 4, 3, 4, 4, 2, 2, 4, 3, 2, 2, 2, 2, 0, 5, 3, 0, 4, 4, 2, 4, 2, 2, 2, 4, 0, 4, 4, 4, 2, 0, 2, 4, 4, 2, 0, 2, 2, 3, 4, 2, 4, 5, 0, 2, 4, 1, 2, 2, 0, 2, 2, 4, 0, 3, 2, 4, 5, 3, 3, 4, 4, 4, 3, 4, 3, 2, 2, 4, 3, 2, 0, 4, 2, 0, 4, 0, 2, 3, 2, 1, 0, 2, 4, 1, 4, 4, 4, 4, 4, 1, 3, 4, 4, 2, 4, 3, 0, 2, 5, 2, 1, 4, 1, 4, 2, 0, 0, 5, 2, 3, 4, 5, 2, 2, 5, 4, 3, 2, 0, 1, 4, 4, 4, 4, 4, 0, 2, 2, 2, 4, 5, 5, 0, 2, 2, 1, 2, 4, 1, 0, 0, 1, 3, 1, 0, 0, 0, 4, 1, 2, 2, 1, 1, 0, 2, 0, 2, 2, 3, 0, 4, 1, 2, 0, 4, 0, 4, 3, 0, 1, 2, 1, 4, 4, 0, 2, 1, 4, 3, 3, 4, 0, 0, 2, 4, 0, 4, 4, 1, 2, 4, 4, 2, 0, 4, 2, 2, 0, 2, 2, 0, 0, 4, 2, 0, 4, 1, 4, 1, 2, 1, 2, 2, 2, 2, 4, 0, 4, 2, 1, 2, 4, 2, 1, 2, 2, 2, 2, 4, 2, 0, 2, 2, 2, 2, 1, 2, 1, 4, 3, 2, 2, 2, 2, 0, 2, 1, 4, 0, 2, 2, 4, 5, 5, 2, 4, 4, 3, 1, 2, 3, 3, 2, 4, 4, 2, 0, 2, 2, 2, 1, 1, 2, 4, 5, 2, 2, 2, 2, 2, 4, 0, 1, 0, 4, 2, 0, 1, 3, 4, 3, 2, 4, 3, 4, 2, 2, 3, 4, 3, 0, 2, 3, 2, 1, 4, 4, 5, 4, 2, 2, 2, 0, 4, 2, 2, 4, 2, 2, 4, 4, 2, 0, 2, 1, 0, 2, 2, 2, 1, 4, 2, 1, 4, 4, 0, 4, 2, 2, 0, 4, 4, 4, 4, 2, 2, 2, 4, 2, 2, 2, 4, 1, 3, 1, 1, 1, 0, 0, 4, 2, 4, 4, 4, 4, 1, 2, 4, 2, 1, 1, 4, 0, 1, 4, 4, 2, 0, 4, 4, 2, 4, 1, 0, 0, 2, 2, 4, 2, 2, 4, 4, 2, 4, 1, 2, 4, 4, 4, 1, 2, 5, 4, 2, 3, 2, 0, 5, 2, 2, 4, 4, 2, 2, 1, 2, 0, 2, 2, 2, 1, 2, 0, 2, 0, 4, 2, 4, 4, 2, 1, 2, 2, 1, 4, 4, 3, 4, 0, 4, 4, 0, 0, 4, 3, 4, 3, 2, 4, 2, 3, 1, 2, 1, 2, 0, 2, 4, 2, 2, 1, 5, 4, 2, 4, 5, 4, 4, 4, 4, 2, 1, 4, 4, 0, 2, 4, 3, 1, 0, 4, 1, 4, 2, 2, 2, 5, 2, 4, 2, 0, 2, 2, 0, 0, 4, 5, 1, 5, 2, 1, 4, 3, 2, 2, 0, 4, 3, 4, 4, 2, 0, 4, 4, 0, 5, 2, 0, 4, 0, 0, 4, 2, 5, 1, 2, 2, 1, 2, 0, 4, 4, 2, 2, 4, 2, 4, 1, 0, 4, 2, 0, 0, 3, 2, 2, 2, 2, 0, 2, 2, 4, 2, 2, 2, 2, 1, 4, 4, 4, 2, 2, 4, 4, 2, 2, 3, 4, 0, 4, 3, 2, 4, 2, 4, 2, 0, 2, 4, 4, 4, 5, 0, 2, 4, 4, 0, 2, 2, 4, 1, 2, 3, 4, 0, 1, 1, 3, 4, 3, 2, 3, 4, 4, 2, 3, 1, 4, 2, 2, 4, 4, 3, 2, 1, 1, 0, 2, 1, 1, 5, 4, 2, 1, 2, 1, 2, 4, 3, 2, 2, 0, 4, 2, 2, 0, 4, 4, 2, 2, 1, 2, 1, 2, 2, 2, 1, 2, 0, 0, 2, 1, 4, 2, 4, 4, 0, 4, 0, 4, 4, 2, 4, 1, 4, 3, 1, 2, 4, 1, 3, 2, 1, 4, 4, 4, 2, 2, 2, 2, 4, 0, 1, 2, 2, 2, 4, 5, 1, 2, 2, 4, 2, 3, 2, 4, 1, 2, 0, 2, 2, 0, 1, 3, 5, 0, 2, 4, 4, 4, 4, 4, 0, 5, 1, 2, 4, 4, 2, 4, 2, 3, 0, 4, 1, 4, 2, 4, 3, 2, 4, 3, 3, 4, 1, 2, 2, 3, 2, 2, 4, 2, 4, 3, 3, 0, 4, 2, 4, 1, 2, 4, 2, 1, 4, 2, 5, 5, 2, 4, 0, 1, 0, 4, 4, 5, 2, 4, 0, 4, 1, 3, 2, 2, 5, 2, 4, 0, 1, 4, 2, 2, 1, 2, 2, 2, 4, 0, 2, 0, 4, 2, 4, 4, 1, 3, 1, 2, 2, 2, 2, 1, 0, 5, 2, 4, 4, 2, 1, 4, 2, 4, 2, 4, 2, 2, 2, 3, 1, 2, 4, 4, 5, 3, 1, 0, 0, 4, 4, 2, 3, 2, 3, 2, 1, 4, 3, 4, 4, 4, 4, 0, 4, 4, 2, 4, 4, 4, 3, 0, 0, 4, 4, 2, 1, 0, 4, 2, 2, 5, 3, 2, 0, 2, 2, 4, 5, 4, 2, 5, 0, 2, 4, 2, 3, 2, 2, 1, 5, 2, 1, 2, 0, 1, 2, 4, 4, 4, 2, 0, 2, 3, 4, 4, 2, 0, 4, 2, 2, 5, 4, 2, 4, 4, 3, 0, 0, 2, 5, 0, 3, 3, 0, 4, 0, 4, 0, 2, 4, 1, 2, 3, 1, 2, 2, 2, 2, 4, 4, 1, 2, 0, 4, 4, 0, 4, 0, 4, 1, 5, 4, 2, 2, 2, 0, 4, 2, 4, 2, 2, 4, 1, 4, 2, 5, 2, 3, 2, 1, 0, 4, 2, 2, 2, 0, 4, 4, 0, 1, 4, 0, 4, 4, 0, 2, 5, 4, 1, 4, 1, 1, 1, 4, 2, 3, 2, 2, 4, 0, 0, 0, 5, 2, 5, 1, 2, 0, 4, 1, 2, 1, 2, 3, 4, 4, 4, 4, 5, 4, 2, 2, 4, 2, 2, 1, 2, 3, 0, 1, 2, 4, 0, 4, 3, 2, 2, 5, 0, 4, 2, 2, 2, 4, 2, 3, 0, 2, 2, 0, 0, 4, 3, 4, 2, 2, 0, 2, 2, 4, 3, 3, 2, 0, 2, 2, 5, 4, 4, 2, 0, 4, 0, 4, 2, 2, 2, 2, 4, 1, 2, 4, 4, 0, 0, 2, 2, 4, 1, 4, 4, 0, 1, 0, 0, 2, 4, 2, 2, 5, 1, 2, 4, 2, 1, 5, 0, 2, 4, 1, 1, 0, 3, 2, 0, 2, 4, 5, 4, 0, 4, 5, 1, 4, 4, 4, 0, 4, 2, 1, 2, 2, 4, 4, 3, 0, 2, 4, 3, 4, 2, 2, 2, 1, 3, 2, 2, 1, 2, 0, 4, 3, 4, 0, 0, 2, 3, 4, 4, 2, 4, 2, 5, 2, 0, 1, 0, 2, 4, 2, 4, 0, 1, 4, 4, 4, 0, 2, 1, 0, 4, 0, 2, 4, 1, 1, 2, 4, 3, 5, 1, 2, 0, 2, 2, 4, 2, 2, 2, 4, 0, 2, 0, 2, 0, 3, 3, 3, 5, 4, 2, 2, 4, 2, 1, 2, 3, 2, 4, 4, 2, 1, 2, 4, 2, 1, 4, 2, 4, 5, 2, 1, 2, 4, 4, 4, 4, 4, 1, 2, 2, 0, 1, 0, 2, 2, 2, 0, 0, 4, 4, 4, 0, 3, 4, 0, 2, 0, 4, 2, 2, 2, 2, 4, 2, 4, 4, 2, 4, 2, 1, 2, 0, 2, 4, 4, 5, 2, 2, 2, 0, 2, 0, 2, 2, 2, 2, 5, 4, 2, 3, 2, 4, 4, 5, 0, 0, 3, 2, 0, 0, 0, 1, 4, 1, 2, 1, 3, 2, 0, 4, 3, 4, 5, 4, 2, 2, 4, 2, 2, 4, 2, 2, 1, 2, 2, 0, 2, 2, 4, 4, 4, 2, 4, 4, 1, 1, 3, 2, 2, 2, 1, 4, 0, 4, 4, 4, 2, 4, 4, 4, 4, 4, 2, 2, 0, 0, 0, 4, 0, 2, 4, 4, 1, 4, 2, 2, 0, 4, 1, 1, 4, 3, 4, 2, 4, 4, 1, 5, 4, 2, 5, 0, 4, 0, 0, 4, 0, 5, 2, 2, 4, 4, 2, 2, 2, 4, 2, 2, 2, 4, 4, 2, 3, 2, 1, 4, 2, 2, 4, 0, 2, 2, 2, 4, 4, 2, 4, 2, 2, 4, 4, 4, 2, 0, 5, 1, 2, 1, 4, 2, 4, 4, 4, 2, 1, 2, 4, 2, 2, 2, 4, 4, 2, 2, 1, 2, 0, 0, 2, 4, 2, 4, 4, 4, 4, 2, 1, 4, 4, 4, 0, 2, 3, 3, 2, 4, 4, 3, 4, 0, 4, 1, 2, 4, 4, 3, 4, 2, 4, 0, 5, 2, 5, 1, 2, 1, 4, 0, 2, 2, 2, 0, 1, 2, 4, 0, 4, 2, 4, 2, 2, 2, 0, 4, 2, 4, 4, 0, 2, 1, 2, 0, 1, 4, 0, 2, 0, 2, 2, 4, 2, 3, 5, 2, 1, 1, 2, 4, 2, 2, 2, 3, 4, 3, 0, 4, 4, 1, 2, 2, 0, 4, 2, 1, 1, 3, 0, 0, 3, 4, 0, 4, 3, 2, 1, 2, 2, 4, 2, 2, 0, 2, 2, 2, 2, 0, 2, 0, 4, 4, 4, 2, 4, 0, 4, 3, 0, 2, 4, 2, 0, 1, 3, 0, 2, 2, 4, 1, 1, 4, 4, 5, 2, 4, 2, 3, 0, 4, 3, 4, 4, 5, 2, 4, 4, 4, 0, 4, 4, 2, 0, 4, 4, 1, 4, 2, 4, 2, 0, 2, 4, 4, 0, 4, 0, 3, 2, 1, 4, 1, 1, 4, 1, 3, 4, 5, 0, 0, 1, 1, 1, 1, 4, 2, 4, 1, 4, 0, 2, 4, 3, 2, 4, 4, 0, 4, 2, 2, 1, 0, 4, 4, 4, 4, 2, 4, 2, 2, 4, 2, 0, 2, 2, 4, 4, 4, 0, 1, 4, 4, 0, 2, 2, 2, 4, 4, 4, 1, 2, 2, 1, 2, 4, 2, 2, 2, 0, 5, 0, 2, 2, 3, 4, 2, 4, 3, 2, 4, 0, 3, 0, 4, 4, 4, 2, 2, 2, 1, 3, 2, 2, 3, 0, 2, 1, 4, 3, 2, 2, 2, 5, 4, 2, 4, 4, 2, 4, 2, 2, 1, 4, 4, 4, 2, 2, 4, 2, 2, 2, 2, 4, 3, 0, 2, 3, 4, 2, 0, 4, 2, 5, 1, 3, 2, 2, 4, 0, 4, 2, 4, 2, 1, 1, 2, 2, 1, 0, 2, 2, 4, 4, 0, 4, 2, 2, 0, 4, 2, 2, 4, 2, 2, 4, 0, 2, 0, 0, 4, 1, 5, 1, 2, 4, 4, 2, 4, 4, 3, 1, 3, 1, 4, 2, 4, 2, 4, 3, 2, 4, 4, 0, 2, 0, 1, 4, 4, 4, 3, 2, 2, 4, 1, 4, 0, 4, 2, 3, 2, 2, 0, 2, 1, 4, 2, 2, 1, 0, 1, 2, 4, 4, 1, 4, 4, 2, 5, 1, 1, 2, 4, 2, 1, 4, 1, 4, 0, 2, 0, 2, 3, 3, 2, 2, 2, 4, 4, 3, 1, 2, 4, 0, 1, 2, 4, 2, 2, 4, 1, 4, 2, 4, 0, 1, 1, 1, 4, 3, 5, 0, 3, 0, 4, 4, 2, 2, 4, 3, 1, 1, 2, 1, 4, 1, 3, 4, 1, 4, 0, 0, 4, 4, 4, 1, 2, 0, 2, 1, 4, 2, 1, 3, 1, 4, 2, 1, 2, 5, 2, 2, 2, 4, 2, 2, 2, 4, 0, 0, 2, 5, 0, 2, 1, 3, 4, 0, 5, 4, 2, 0, 2, 0, 4, 2, 1, 4, 5, 2, 0, 4, 2, 0, 4, 4, 3, 0, 4, 0, 4, 1, 0, 4, 2, 3, 0, 1, 2, 3, 4, 0, 4, 2, 2, 4, 1, 3, 1, 2, 3, 3, 2, 3, 2, 2, 2, 4, 0, 4, 2, 4, 2, 1, 2, 4, 4, 4, 4, 3, 5, 2, 2, 4, 4, 0, 3, 2, 2, 4, 5, 1, 3, 2, 2, 1, 4, 2, 4, 0, 4, 4, 4, 2, 4, 1, 4, 2, 2, 2, 2, 2, 2, 2, 2, 4, 0, 0, 4, 2, 2, 3, 0, 3, 0, 2, 4, 3, 4, 4, 4, 4, 0, 2, 2, 4, 2, 2, 1, 4, 2, 2, 4, 1, 3, 2, 2, 1, 4, 3, 1, 1, 1, 4, 3, 2, 2, 4, 3, 2, 1, 2, 2, 2, 2, 0, 1, 4, 4, 4, 0, 2, 2, 1, 2, 1, 0, 4, 4, 2, 1, 2, 2, 4, 2, 4, 4, 3, 2, 4, 4, 0, 2, 5, 4, 4, 4, 2, 4, 2, 2, 4, 4, 3, 2, 2, 2, 2, 3, 0, 2, 2, 1, 2, 4, 2, 2, 2, 4, 2, 4, 4, 1, 2, 2, 2, 0, 2, 1, 2, 0, 3, 4, 4, 2, 2, 0, 4, 2, 1, 2, 0, 0, 4, 4, 2, 4, 4, 0, 2, 0, 4, 4, 4, 4, 0, 2, 4, 4, 2, 2, 2, 4, 4, 5, 4, 4, 4, 0, 2, 2, 4, 4, 2, 4, 4, 4, 4, 1, 3, 0, 2, 5, 5, 1, 4, 0, 2, 4, 1, 4, 1, 5, 1, 4, 4, 0, 4, 4, 3, 0, 2, 2, 2, 1, 4, 4, 2, 4, 2, 2, 4, 1, 4, 2, 0, 4, 1, 1, 1, 2, 4, 2, 4, 4, 2, 4, 4, 2, 2, 1, 3, 2, 2, 4, 4, 0, 4, 2, 2, 2, 2, 1, 2, 4, 4, 5, 2, 3, 0, 1, 0, 0, 2, 4, 2, 5, 2, 2, 4, 4, 3, 2, 4, 3, 4, 1, 2, 4, 2, 2, 2, 2, 4, 4, 0, 2, 4, 4, 4, 3, 4, 3, 1, 4, 2, 0, 0, 1, 2, 3, 2, 1, 5, 4, 2, 1, 1, 0, 4, 4, 1, 2, 2, 4, 4, 0, 3, 2, 1, 3, 2, 0, 2, 0, 2, 4, 0, 1, 2, 4, 3, 3, 2, 4, 0, 2, 2, 4, 2, 0, 1, 0, 5, 0, 5, 4, 1, 3, 3, 0, 3, 3, 2, 4, 4, 3, 4, 4, 0, 5, 4, 2, 1, 5, 4, 0, 3, 4, 1, 4, 0, 2, 4, 4, 3, 4, 3, 2, 1, 3, 2, 3, 4, 4, 4, 1, 2, 1, 1, 3, 2, 4, 1, 4, 2, 1, 4, 4, 0, 2, 2, 2, 3, 3, 2, 4, 2, 2, 0, 2, 2, 4, 2, 3, 4, 2, 4, 2, 4, 0, 2, 2, 2, 4, 2, 4, 2, 2, 1, 4, 1, 4, 0, 4, 4, 1, 4, 1, 2, 4, 1, 0, 4, 5, 2, 0, 2, 0, 2, 5, 4, 2, 2, 1, 3, 3, 2, 4, 4, 2, 1, 2, 0, 4, 1, 0, 4, 0, 4, 2, 2, 0, 2, 1, 3, 4, 3, 2, 4, 0, 2, 4, 1, 2, 2, 0, 1, 2, 2, 0, 2, 2, 2, 0, 1, 0, 2, 2, 2, 2, 0, 5, 2, 2, 2, 4, 2, 0, 2, 2, 4, 0, 4, 2, 0, 2, 2, 4, 2, 2, 2, 2, 2, 0, 1, 1, 1, 4, 4, 3, 3, 1, 1, 4, 2, 2, 2, 1, 4, 0, 0, 4, 0, 4, 4, 2, 4, 4, 1, 4, 0, 3, 4, 4, 2, 3, 4, 4, 0, 4, 2, 2, 4, 2, 2, 3, 0, 2, 4, 4, 3, 1, 5, 4, 0, 2, 4, 4, 0, 3, 0, 4, 2, 3, 4, 4, 2, 2, 1, 4, 2, 2, 0, 1, 1, 2, 2, 2, 4, 5, 1, 0, 0, 0, 4, 4, 2, 4, 4, 4, 4, 4, 5, 4, 0, 0, 4, 2, 2, 2, 5, 1, 2, 0, 2, 0, 3, 2, 4, 4, 2, 4, 4, 3, 1, 4, 2, 2, 4, 2, 4, 2, 3, 1, 2, 1, 4, 2, 2, 3, 3, 4, 2, 2, 4, 4, 2, 0, 2, 1, 0, 2, 1, 0, 2, 2, 1, 1, 4, 0, 0, 4, 3, 1, 2, 0, 2, 1, 2, 1, 1, 4, 2, 2, 2, 2, 0, 4, 2, 4, 0, 2, 0, 2, 2, 2, 2, 0, 2, 1, 2, 2, 0, 4, 4, 3, 0, 4, 2, 2, 2, 4, 5, 1, 2, 4, 4, 4, 2, 5, 4, 2, 4, 5, 4, 2, 0, 2, 5, 2, 2, 2, 0, 2, 4, 2, 5, 5, 2, 2, 4, 2, 4, 1, 1, 4, 2, 4, 4, 1, 4, 2, 2, 2, 2, 2, 2, 5, 1, 3, 1, 4, 2, 4, 1, 4, 0, 4, 4, 4, 4, 4, 2, 3, 2, 2, 4, 1, 2, 2, 3, 3, 4, 2, 5, 3, 4, 2, 2, 4, 0, 2, 0, 2, 2, 1, 1, 4, 4, 1, 2, 0, 4, 4, 2, 1, 4, 2, 2, 4, 3, 3, 2, 2, 5, 0, 5, 2, 2, 5, 4, 5, 4, 4, 1, 4, 3, 4, 2, 2, 4, 0, 4, 1, 1, 2, 0, 2, 2, 4, 2, 3, 2, 3, 0, 2, 1, 4, 2, 2, 3, 4, 2, 4, 1, 2, 2, 2, 4, 0, 4, 1, 2, 3, 0, 4, 4, 2, 4, 4, 1, 0, 4, 2, 2, 2, 3, 0, 2, 1, 0, 1, 2, 2, 2, 0, 4, 4, 4, 1, 2, 1, 2, 4, 2, 3, 2, 2, 2, 2, 2, 2, 2, 4, 0, 4, 3, 4, 3, 4, 2, 4, 1, 2, 0, 2, 1, 0, 4, 4, 4, 4, 2, 2, 2, 4, 2, 2, 0, 4, 2, 2, 1, 0, 4, 4, 4, 4, 4, 0, 2, 4, 2, 4, 4, 4, 4, 2, 2, 1, 4, 3, 0, 0, 2, 4, 4, 2, 0, 3, 2, 1, 2, 0, 2, 2, 2, 4, 4, 4, 0, 2, 3, 2, 2, 0, 5, 2, 4, 2, 2, 1, 5, 4, 4, 2, 0, 1, 2, 2, 4, 2, 5, 4, 5, 3, 3, 2, 4, 1, 4, 5, 4, 2, 5, 4, 3, 2, 2, 2, 2, 2, 2, 4, 3, 2, 4, 5, 1, 0, 4, 2, 2, 4, 0, 3, 4, 4, 1, 2, 2, 0, 1, 4, 4, 4, 3, 4, 2, 1, 2, 2, 4, 4, 2, 3, 4, 2, 4, 4, 0, 1, 4, 1, 1, 2, 1, 4, 0, 2, 2, 4, 2, 2, 1, 0, 4, 0, 3, 4, 1, 1, 1, 2, 3, 1, 0, 2, 0, 2, 3, 4, 2, 1, 1, 2, 2, 4, 2, 2, 1, 0, 4, 0, 1, 2, 4, 3, 2, 4, 2, 3, 4, 2, 2, 4, 0, 3, 2, 0, 4, 2, 4, 2, 4, 2, 4, 5, 0, 2, 2, 2, 0, 4, 3, 4, 1, 2, 4, 2, 1, 2, 2, 1, 1, 0, 4, 2, 0, 2, 4, 4, 4, 2, 2, 2, 3, 2, 1, 2, 4, 3, 2, 1, 4, 2, 4, 1, 3, 0, 4, 2, 2, 4, 2, 4, 2, 2, 4, 4, 2, 2, 2, 4, 2, 4, 4, 4, 2, 4, 2, 2, 1, 4, 4, 2, 0, 4, 5, 3, 4, 1, 5, 4, 0, 2, 1, 0, 4, 0, 2, 1, 2, 2, 3, 2, 4, 4, 2, 2, 1, 2, 2, 4, 0, 0, 0, 2, 3, 4, 1, 5, 4, 0, 2, 2, 4, 2, 4, 2, 2, 2, 1, 0, 2, 2, 2, 5, 1, 1, 4, 2, 3, 3, 2, 1, 4, 4, 4, 4, 2, 4, 2, 4, 0, 4, 3, 2, 3, 1, 4, 4, 2, 2, 3, 4, 2, 3, 1, 2, 4, 2, 2, 2, 1, 4, 2, 4, 2, 2, 1, 4, 3, 4, 2, 1, 3, 4, 4, 4, 3, 3, 0, 2, 1, 2, 2, 0, 2, 5, 4, 2, 3, 1, 4, 0, 0, 4, 4, 2, 4, 4, 3, 4, 4, 2, 4, 2, 1, 2, 2, 0, 2, 4, 2, 0, 5, 4, 2, 0, 2, 4, 1, 4, 4, 0, 4, 0, 2, 2, 2, 0, 1, 1, 4, 2, 0, 2, 3, 4, 4, 2, 2, 0, 4, 4, 2, 4, 4, 2, 4, 4, 2, 4, 4, 1, 4, 2, 4, 3, 2, 5, 0, 4, 2, 4, 5, 0, 1, 0, 4, 3, 4, 0, 2, 2, 1, 3, 1, 5, 4, 1, 4, 2, 4, 2, 2, 5, 0, 4, 0, 2, 0, 4, 4, 2, 4, 5, 3, 0, 4, 1, 2, 2, 4, 4, 4, 2, 2, 4, 4, 1, 1, 1, 4, 0, 0, 4, 0, 4, 4, 4, 4, 2, 4, 5, 2, 0, 3, 4, 0, 0, 2, 2, 0, 2, 4, 0, 4, 0, 4, 0, 2, 5, 5, 4, 4, 1, 0, 1, 2, 2, 2, 2, 2, 5, 2, 0, 4, 2, 1, 2, 2, 2, 4, 1, 4, 4, 2, 2, 0, 4, 2, 2, 0, 2, 4, 2, 4, 2, 3, 0, 3, 4, 3, 0, 0, 0, 1, 1, 3, 2, 0, 2, 4, 2, 4, 0, 3, 4, 4, 4, 2, 3, 0, 5, 5, 3, 4, 0, 4, 2, 4, 4, 4, 4, 3, 2, 4, 0, 2, 2, 4, 4, 2, 0, 1, 4, 3, 3, 0, 2, 4, 5, 5, 0, 2, 2, 5, 2, 3, 0, 2, 4, 0, 2, 2, 3, 2, 4, 2, 2, 3, 2, 4, 0, 1, 2, 2, 2, 0, 5, 1, 0, 1, 1, 0, 2, 0, 2, 2, 2, 4, 0, 1, 2, 2, 2, 4, 2, 2, 1, 4, 2, 2, 0, 5, 2, 0, 5, 4, 5, 4, 4, 2, 4, 2, 5, 1, 4, 2, 5, 4, 4, 2, 2, 2, 2, 2, 0, 2, 2, 3, 4, 2, 2, 2, 4, 2, 2, 4, 2, 4, 4, 4, 4, 4, 2, 4, 3, 2, 3, 4, 3, 5, 0, 3, 1, 4, 2, 4, 1, 1, 1, 4, 4, 4, 1, 4, 4, 5, 3, 2, 1, 0, 2, 4, 2, 2, 1, 0, 0, 3, 2, 4, 4, 4, 5, 2, 2, 2, 0, 0, 2, 0, 2, 1, 4, 4, 4, 4, 1, 4, 4, 1, 1, 0, 4, 4, 2, 4, 2, 1, 2, 4, 4, 1, 4, 2, 3, 4, 4, 2, 2, 2, 0, 2, 4, 4, 2, 1, 5, 2, 4, 4, 4, 4, 2, 1, 2, 0, 4, 4, 2, 2, 4, 0, 1, 2, 0, 1, 0, 2, 2, 2, 2, 4, 0, 4, 4, 2, 0, 0, 0, 0, 2, 2, 0, 2, 1, 2, 0, 2, 4, 2, 4, 5, 1, 2, 5, 1, 4, 3, 2, 2, 1, 3, 2, 5, 5, 2, 4, 2, 4, 4, 0, 4, 2, 2, 4, 5, 2, 3, 0, 2, 0, 2, 4, 2, 4, 2, 2, 0, 4, 3, 4, 0, 2, 2, 4, 4, 4, 4, 1, 4, 4, 2, 2, 1, 4, 2, 5, 3, 4, 3, 5, 4, 4, 2, 1, 2, 2, 2, 3, 4, 4, 5, 1, 2, 4, 2, 1, 2, 4, 2, 4, 3, 1, 1, 4, 2, 0, 0, 4, 0, 2, 2, 2, 2, 4, 2, 1, 4, 0, 0, 4, 1, 4, 2, 2, 2, 2, 2, 1, 2, 1, 5, 5, 4, 4, 2, 2, 4, 1, 3, 2, 4, 5, 1, 2, 4, 4, 4, 2, 2, 4, 3, 3, 3, 2, 5, 3, 2, 2, 4, 5, 2, 4, 2, 2, 4, 2, 0, 2, 4, 4, 1, 4, 1, 2, 2, 1, 4, 4, 0, 0, 4, 4, 2, 1, 4, 2, 4, 4, 3, 0, 1, 4, 2, 2, 2, 2, 2, 2, 4, 4, 0, 2, 4, 4, 2, 0, 5, 5, 4, 2, 2, 4, 1, 4, 0, 2, 2, 4, 4, 5, 3, 2, 3, 2, 2, 4, 0, 3, 4, 0, 4, 1, 4, 0, 2, 3, 2, 4, 2, 5, 2, 2, 2, 1, 2, 4, 4, 5, 3, 0, 4, 4, 4, 1, 0, 4, 1, 0, 1, 4, 0, 4, 2, 5, 4, 2, 2, 3, 4, 4, 0, 0, 3, 4, 4, 2, 3, 2, 2, 2, 2, 4, 4, 2, 2, 2, 1, 0, 1, 2, 2, 2, 4, 4, 5, 4, 4, 2, 3, 0, 3, 2, 4, 1, 0, 0, 4, 1, 2, 2, 4, 2, 2, 0, 5, 4, 2, 4, 4, 4, 2, 2, 1, 4, 4, 4, 2, 1, 2, 2, 1, 2, 4, 4, 1, 2, 2, 4, 2, 4, 2, 4, 1, 4, 4, 3, 4, 2, 1, 0, 1, 1, 2, 3, 2, 5, 2, 2, 3, 4, 4, 1, 2, 2, 2, 0, 0, 4, 0, 2, 2, 3, 1, 2, 4, 3, 3, 4, 1, 2, 2, 5, 4, 2, 3, 3, 2, 3, 2, 4, 0, 2, 1, 2, 0, 5, 2, 1, 4, 4, 0, 4, 1, 3, 4, 2, 4, 5, 2, 4, 4, 3, 4, 0, 3, 4, 2, 2, 2, 1, 2, 2, 2, 2, 0, 2, 1, 0, 4, 4, 0, 0, 4, 3, 2, 2, 0, 2, 4, 2, 0, 4, 3, 0, 2, 2, 2, 0, 4, 2, 4, 4, 4, 4, 4, 2, 5, 1, 1, 0, 2, 4, 0, 4, 5, 2, 2, 3, 1, 0, 4, 3, 4, 4, 5, 2, 2, 2, 2, 4, 4, 2, 1, 0, 0, 1, 2, 5, 4, 1, 2, 2, 1, 2, 2, 4, 1, 0, 0, 2, 4, 4, 5, 2, 0, 2, 3, 2, 1, 0, 1, 1, 2, 4, 4, 0, 2, 1, 1, 0, 1, 1, 2, 2, 0, 5, 3, 4, 4, 2, 2, 2, 4, 1, 3, 0, 2, 5, 2, 1, 3, 1, 0, 4, 2, 4, 2, 4, 5, 3, 2, 0, 0, 1, 0, 4, 2, 0, 2, 2, 0, 1, 2, 4, 5, 2, 2, 4, 2, 4, 4, 4, 0, 0, 0, 2, 4, 4, 2, 4, 1, 2, 0, 1, 2, 5, 4, 0, 4, 2, 1, 4, 1, 0, 4, 2, 1, 2, 2, 1, 3, 4, 4, 1, 1, 2, 2, 2, 0, 4, 2, 3, 4, 4, 0, 4, 4, 3, 3, 4, 0, 2, 0, 0, 0, 2, 3, 4, 3, 2, 3, 2, 3, 3, 4, 3, 2, 4, 3, 2, 4, 3, 2, 4, 1, 2, 4, 1, 2, 2, 0, 1, 4, 2, 2, 1, 1, 3, 4, 2, 2, 1, 4, 2, 0, 2, 0, 0, 4, 0, 4, 1, 1, 5, 1, 2, 0, 5, 4, 4, 4, 2, 3, 3, 0, 2, 4, 0, 4, 0, 2, 1, 4, 4, 0, 2, 2, 3, 2, 0, 1, 0, 4, 4, 4, 4, 2, 3, 2, 3, 4, 2, 2, 3, 4, 4, 4, 2, 4, 4, 4, 3, 4, 4, 4, 2, 4, 0, 0, 2, 4, 2, 2, 4, 1, 2, 1, 4, 3, 4, 4, 2, 5, 4, 2, 1, 4, 1, 2, 2, 2, 1, 0, 4, 4, 2, 2, 0, 2, 2, 1, 2, 2, 2, 4, 4, 4, 0, 2, 0, 2, 4, 1, 0, 3, 1, 0, 2, 5, 0, 1, 0, 4, 4, 4, 2, 3, 4, 2, 2, 3, 4, 4, 0, 2, 4, 4, 4, 2, 3, 2, 2, 3, 2, 4, 2, 1, 4, 2, 1, 0, 2, 4, 0, 1, 2, 5, 4, 1, 1, 1, 4, 4, 2, 2, 4, 4, 1, 4, 2, 4, 2, 2, 2, 3, 5, 2, 4, 4, 3, 4, 2, 2, 2, 2, 0, 2, 4, 2, 4, 1, 5, 4, 2, 2, 1, 4, 0, 2, 2, 2, 3, 5, 2, 2, 3, 2, 3, 3, 4, 4, 3, 5, 0, 4, 4, 4, 2, 0, 2, 2, 2, 0, 4, 2, 4, 2, 1, 2, 2, 1, 1, 4, 2, 0, 0, 2, 3, 2, 4, 0, 2, 5, 4, 1, 2, 2, 2, 4, 3, 4, 2, 1, 5, 4, 2, 0, 2, 1, 2, 4, 0, 3, 1, 2, 0, 5, 2, 2, 1, 1, 4, 2, 4, 2, 2, 0, 2, 2, 4, 2, 2, 3, 4, 3, 2, 4, 4, 3, 2, 1, 2, 2, 4, 0, 2, 4, 2, 4, 4, 2, 2, 4, 0, 2, 4, 4, 1, 1, 3, 2, 2, 2, 1, 4, 3, 1, 3, 2, 2, 4, 4, 5, 2, 4, 0, 4, 5, 4, 2, 1, 3, 4, 0, 2, 2, 4, 3, 3, 4, 1, 1, 2, 4, 4, 1, 2, 4, 4, 0, 4, 4, 0, 2, 1, 4, 0, 4, 4, 3, 2, 2, 3, 4, 0, 4, 2, 0, 4, 1, 2, 0, 4, 2, 1, 4, 2, 1, 4, 2, 2, 0, 4, 0, 1, 0, 4, 5, 0, 1, 1, 2, 0, 2, 2, 4, 1, 2, 2, 2, 4, 0, 1, 2, 0, 2, 4, 3, 1, 1, 1, 0, 0, 4, 0, 1, 2, 2, 4, 3, 4, 2, 2, 2, 1, 3, 4, 1, 4, 1, 4, 4, 2, 1, 2, 0, 2, 4, 2, 2, 2, 5, 4, 5, 1, 4, 4, 3, 4, 3, 1, 3, 2, 2, 0, 2, 2, 0, 4, 1, 0, 4, 4, 0, 0, 4, 4, 0, 3, 2, 4, 2, 0, 3, 4, 0, 1, 2, 4, 2, 0, 2, 2, 1, 4, 2, 4, 2, 1, 4, 4, 2, 5, 2, 0, 5, 5, 2, 2, 4, 4, 0, 1, 2, 4, 3, 1, 4, 4, 2, 3, 1, 0, 2, 1, 4, 1, 5, 4, 4, 2, 4, 1, 0, 3, 4, 1, 2, 2, 3, 4, 0, 1, 4, 4, 1, 2, 4, 4, 1, 2, 4, 4, 2, 4, 4, 0, 4, 2, 0, 1, 4, 2, 4, 2, 2, 1, 0, 2, 5, 0, 4, 2, 1, 4, 3, 3, 4, 5, 2, 1, 3, 0, 5, 4, 0, 0, 2, 2, 1, 2, 2, 0, 4, 4, 2, 0, 4, 2, 4, 3, 0, 1, 4, 2, 1, 0, 2, 2, 2, 4, 2, 2, 2, 2, 0, 2, 4, 2, 4, 2, 4, 4, 4, 4, 1, 0, 2, 2, 0, 3, 4, 1, 2, 2, 2, 1, 4, 4, 3, 4, 4, 1, 4, 2, 0, 1, 2, 4, 4, 0, 2, 2, 1, 4, 1, 1, 4, 0, 2, 0, 1, 1, 2, 2, 2, 1, 4, 2, 2, 0, 4, 2, 4, 5, 0, 2, 1, 0, 4, 0, 1, 4, 3, 1, 4, 3, 3, 1, 0, 2, 2, 4, 2, 3, 4, 3, 5, 4, 0, 3, 2, 4, 1, 5, 2, 4, 3, 2, 4, 4, 2, 2, 1, 0, 2, 4, 2, 4, 3, 2, 1, 4, 2, 4, 4, 5, 5, 4, 4, 2, 2, 0, 4, 4, 0, 4, 1, 1, 2, 2, 4, 2, 4, 0, 4, 3, 4, 2, 4, 0, 2, 2, 0, 2, 2, 0, 2, 3, 0, 2, 0, 4, 1, 4, 3, 4, 1, 0, 0, 0, 4, 2, 4, 2, 2, 5, 4, 3, 4, 2, 1, 3, 2, 0, 5, 2, 5, 0, 2, 4, 0, 2, 3, 0, 2, 0, 4, 3, 4, 2, 4, 4, 4, 0, 4, 4, 2, 2, 2, 3, 4, 1, 4, 1, 4, 2, 2, 4, 4, 2, 4, 1, 4, 2, 1, 1, 4, 2, 4, 4, 4, 0, 2, 2, 0, 4, 4, 4, 0, 4, 2, 4, 2, 4, 3, 0, 4, 5, 4, 2, 2, 0, 0, 4, 1, 1, 4, 4, 2, 3, 0, 2, 2, 2, 3, 3, 4, 0, 1, 2, 5, 1, 2, 4, 2, 0, 0, 4, 0, 4, 1, 4, 4, 4, 3, 5, 2, 0, 2, 2, 3, 0, 2, 4, 4, 1, 2, 1, 0, 2, 0, 0, 0, 2, 3, 2, 2, 0, 0, 4, 1, 2, 1, 4, 2, 0, 2, 1, 0, 2, 4, 0, 2, 0, 2, 4, 3, 2, 2, 0, 4, 3, 2, 0, 2, 4, 2, 1, 0, 2, 4, 2, 4, 2, 4, 5, 2, 0, 4, 1, 2, 0, 2, 2, 2, 4, 2, 4, 0, 4, 4, 2, 0, 4, 4, 2, 2, 1, 2, 5, 0, 0, 2, 2, 1, 1, 2, 2, 1, 0, 0, 2, 4, 1, 2, 3, 1, 4, 1, 1, 5, 4, 2, 1, 2, 4, 4, 2, 1, 0, 4, 0, 2, 2, 2, 4, 2, 2, 2, 0, 3, 3, 4, 3, 0, 4, 0, 4, 0, 2, 4, 2, 1, 1, 1, 3, 4, 0, 4, 1, 4, 1, 4, 3, 2, 2, 5, 2, 1, 3, 2, 2, 4, 1, 2, 3, 1, 0, 2, 0, 2, 2, 4, 2, 3, 4, 0, 2, 1, 4, 4, 2, 2, 2, 2, 2, 4, 4, 2, 3, 5, 2, 2, 1, 2, 3, 4, 3, 4, 1, 4, 2, 4, 4, 2, 4, 4, 2, 5, 2, 2, 0, 0, 2, 4, 4, 2, 2, 2, 4, 2, 4, 2, 4, 4, 2, 4, 4, 2, 1, 4, 4, 4, 2, 0, 4, 1, 0, 4, 2, 4, 4, 2, 2, 2, 2, 4, 4, 3, 3, 4, 2, 3, 0, 5, 2, 4, 4, 1, 4, 4, 1, 4, 0, 2, 0, 2, 5, 4, 4, 4, 1, 0, 2, 0, 0, 2, 4, 2, 4, 2, 0, 4, 1, 0, 3, 4, 2, 0, 1, 2, 4, 3, 2, 3, 4, 2, 0, 0, 4, 1, 4, 1, 0, 2, 5, 0, 1, 1, 2, 0, 2, 2, 1, 5, 1, 2, 2, 0, 2, 2, 3, 4, 4, 0, 2, 4, 4, 3, 3, 1, 4, 4, 2, 2, 2, 0, 4, 2, 0, 2, 2, 4, 0, 4, 2, 2, 0, 2, 2, 0, 4, 0, 4, 1, 4, 2, 3, 4, 0, 4, 2, 3, 2, 2, 2, 2, 0, 4, 2, 4, 3, 2, 2, 0, 2, 2, 2, 2, 0, 1, 4, 4, 4, 3, 3, 0, 4, 1, 0, 2, 3, 4, 0, 3, 4, 0, 1, 4, 1, 2, 2, 5, 2, 2, 3, 4, 4, 1, 3, 2, 5, 4, 5, 2, 4, 2, 0, 4, 2, 0, 4, 0, 5, 4, 4, 0, 2, 4, 1, 0, 1, 2, 4, 2, 5, 3, 4, 3, 2, 5, 2, 0, 2, 0, 5, 4, 2, 2, 2, 1, 2, 2, 2, 2, 4, 2, 2, 4, 2, 2, 5, 2, 2, 5, 1, 2, 2, 1, 2, 2, 5, 4, 4, 3, 2, 0, 0, 1, 2, 4, 4, 3, 2, 4, 2, 2, 5, 2, 4, 4, 2, 4, 4, 4, 4, 0, 3, 4, 2, 2, 2, 2, 0, 3, 4, 1, 3, 3, 2, 2, 2, 2, 0, 4, 2, 0, 4, 1, 0, 2, 1, 4, 2, 2, 2, 4, 2, 2, 2, 4, 2, 1, 2, 4, 1, 1, 3, 1, 3, 2, 3, 1, 0, 4, 4, 0, 1, 2, 2, 4, 4, 5, 2, 1, 4, 0, 2, 0, 0, 4, 4, 4, 2, 1, 4, 4, 4, 4, 2, 2, 2, 4, 0, 0, 2, 2, 4, 2, 0, 4, 1, 3, 4, 0, 2, 5, 2, 2, 2, 2, 3, 3, 4, 2, 2, 3, 4, 2, 4, 4, 4, 2, 2, 2, 2, 2, 2, 4, 2, 4, 3, 3, 4, 4, 1, 4, 0, 2, 4, 0, 2, 4, 2, 4, 2, 4, 4, 0, 0, 0, 4, 1, 4, 0, 4, 1, 1, 4, 1, 4, 2, 4, 2, 2, 2, 1, 3, 2, 2, 1, 4, 2, 4, 1, 4, 4, 0, 1, 2, 2, 2, 3, 0, 1, 4, 2, 1, 2, 3, 3, 4, 3, 0, 4, 4, 4, 5, 2, 0, 2, 4, 1, 0, 2, 5, 2, 2, 2, 2, 4, 2, 4, 4, 3, 4, 3, 4, 4, 2, 2, 0, 0, 4, 1, 0, 2, 4, 2, 0, 3, 2, 1, 2, 2, 2, 0, 0, 1, 5, 2, 0, 0, 2, 1, 4, 1, 3, 4, 3, 2, 2, 1, 4, 0, 2, 4, 1, 2, 4, 2, 1, 2, 0, 2, 2, 2, 5, 2, 0, 4, 1, 4, 4, 2, 2, 4, 0, 4, 2, 5, 2, 2, 4, 2, 2, 2, 4, 2, 4, 4, 0, 0, 0, 0, 0, 4, 0, 4, 2, 0, 3, 0, 2, 2, 3, 3, 3, 4, 4, 4, 3, 2, 4, 0, 2, 3, 2, 2, 3, 3, 2, 4, 1, 2, 4, 2, 0, 4, 2, 2, 0, 1, 1, 0, 3, 4, 1, 1, 2, 4, 3, 4, 2, 2, 4, 0, 4, 2, 3, 4, 2, 2, 0, 4, 0, 2, 2, 2, 2, 3, 4, 2, 1, 2, 4, 3, 4, 4, 2, 4, 2, 2, 4, 1, 2, 1, 4, 4, 4, 2, 4, 1, 5, 4, 2, 4, 0, 4, 3, 4, 2, 2, 4, 0, 4, 3, 4, 2, 4, 2, 0, 4, 2, 2, 4, 4, 0, 2, 5, 1, 4, 0, 4, 2, 4, 0, 0, 5, 0, 2, 0, 4, 3, 2, 4, 2, 1, 4, 2, 0, 0, 4, 2, 0, 2, 4, 2, 2, 2, 3, 2, 3, 2, 2, 2, 0, 2, 2, 0, 2, 0, 2, 2, 2, 2, 0, 4, 2, 4, 4, 2, 4, 2, 4, 1, 2, 1, 4, 4, 1, 5, 0, 5, 4, 2, 0, 2, 5, 4, 0, 4, 3, 4, 4, 0, 2, 4, 4, 4, 1, 0, 2, 5, 2, 5, 2, 0, 3, 4, 0, 1, 2, 3, 4, 2, 2, 2, 2, 0, 4, 0, 2, 2, 0, 4, 4, 0, 2, 4, 0, 0, 2, 4, 4, 4, 2, 1, 0, 4, 3, 2, 5, 1, 1, 4, 3, 2, 4, 1, 3, 2, 1, 2, 4, 1, 2, 2, 1, 2, 2, 2, 4, 4, 4, 2, 1, 0, 4, 4, 3, 4, 5, 5, 3, 2, 3, 4, 4, 0, 2, 2, 4, 1, 2, 4, 2, 4, 1, 0, 1, 1, 2, 4, 2, 0, 0, 2, 2, 3, 2, 2, 2, 2, 1, 2, 4, 4, 2, 2, 3, 2, 2, 4, 0, 2, 2, 4, 2, 2, 2, 2, 5, 4, 2, 3, 0, 2, 2, 3, 3, 4, 2, 2, 4, 5, 4, 2, 4, 3, 0, 1, 4, 0, 2, 3, 4, 4, 4, 1, 4, 4, 3, 4, 2, 2, 1, 2, 4, 2, 4, 2, 2, 1, 4, 4, 4, 4, 0, 4, 2, 5, 1, 4, 0, 3, 0, 4, 1, 5, 4, 2, 1, 2, 4, 4, 3, 0, 2, 2, 0, 5, 3, 2, 2, 2, 2, 1, 2, 2, 4, 2, 3, 4, 3, 4, 1, 1, 2, 4, 4, 5, 4, 0, 4, 4, 2, 3, 1, 4, 4, 4, 0, 2, 0, 1, 4, 4, 1, 4, 0, 4, 4, 0, 3, 1, 3, 5, 4, 0, 2, 2, 4, 3, 4, 4, 0, 2, 4, 2, 2, 3, 0, 2, 4, 3, 0, 4, 4, 4, 2, 2, 2, 2, 0, 2, 4, 0, 2, 4, 4, 4, 0, 3, 1, 1, 1, 4, 4, 4, 1, 4, 2, 4, 5, 3, 4, 4, 0, 3, 5, 4, 1, 0, 4, 2, 2, 2, 2, 0, 3, 3, 2, 2, 2, 0, 1, 4, 4, 4, 1, 2, 5, 2, 2, 2, 2, 4, 4, 4, 1, 4, 2, 2, 2, 4, 4, 2, 2, 4, 3, 2, 4, 3, 2, 2, 1, 4, 3, 0, 2, 3, 0, 2, 3, 0, 0, 3, 4, 0, 3, 4, 2, 2, 3, 4, 1, 2, 4, 2, 2, 4, 4, 2, 5, 4, 3, 2, 5, 4, 1, 5, 4, 2, 3, 4, 2, 3, 2, 2, 0, 2, 2, 4, 2, 4, 0, 2, 2, 0, 2, 2, 2, 2, 2, 1, 3, 2, 2, 0, 2, 2, 4, 4, 2, 5, 1, 4, 1, 4, 4, 1, 4, 3, 1, 2, 2, 2, 4, 0, 0, 4, 2, 1, 4, 2, 4, 2, 4, 0, 1, 2, 4, 0, 1, 4, 2, 2, 4, 4, 4, 0, 0, 1, 4, 2, 2, 2, 0, 0, 3, 1, 0, 4, 2, 5, 2, 1, 2, 2, 2, 4, 2, 2, 2, 4, 4, 1, 4, 2, 2, 4, 2, 2, 3, 2, 0, 0, 1, 2, 4, 1, 2, 2, 0, 4, 3, 2, 2, 3, 2, 4, 2, 2, 2, 4, 2, 5, 2, 4, 3, 4, 4, 0, 4, 2, 3, 3, 2, 2, 2, 4, 2, 2, 0, 4, 2, 0, 4, 2, 1, 0, 2, 3, 3, 2, 3, 2, 2, 2, 2, 0, 2, 1, 0, 1, 2, 0, 1, 4, 2, 4, 1, 4, 4, 2, 2, 2, 2, 2, 4, 0, 2, 2, 5, 4, 4, 2, 2, 4, 4, 2, 2, 0, 2, 2, 4, 4, 4, 1, 1, 4, 5, 2, 2, 2, 1, 2, 4, 2, 2, 4, 4, 1, 0, 4, 2, 1, 0, 2, 2, 4, 2, 3, 4, 1, 0, 1, 3, 2, 0, 4, 2, 5, 0, 4, 0, 2, 4, 2, 4, 1, 4, 2, 4, 2, 5, 4, 0, 4, 2, 2, 2, 2, 2, 2, 4, 2, 1, 3, 2, 4, 2, 4, 2, 2, 2, 1, 4, 0, 1, 0, 2, 0, 4, 3, 4, 4, 1, 2, 2, 4, 2, 5, 0, 2, 4, 4, 3, 4, 4, 2, 4, 2, 0, 4, 1, 4, 4, 0, 0, 2, 1, 2, 4, 1, 1, 2, 4, 0, 0, 4, 3, 0, 0, 4, 4, 2, 5, 0, 4, 5, 1, 0, 0, 0, 4, 4, 0, 3, 4, 1, 4, 2, 1, 4, 2, 0, 2, 3, 2, 2, 4, 2, 1, 4, 4, 4, 2, 2, 2, 2, 2, 1, 4, 1, 4, 3, 0, 2, 2, 0, 2, 0, 2, 4, 4, 4, 5, 1, 3, 4, 2, 3, 5, 4, 1, 2, 3, 4, 0, 4, 2, 4, 4, 2, 1, 4, 4, 3, 2, 2, 2, 2, 4, 3, 1, 3, 4, 1, 4, 4, 4, 0, 4, 1, 2, 4, 4, 2, 2, 4, 2, 1, 4, 2, 4, 4, 3, 4, 2, 2, 0, 4, 4, 2, 2, 1, 4, 2, 2, 2, 1, 4, 4, 4, 2, 2, 1, 4, 2, 1, 0, 2, 2, 2, 4, 5, 0, 2, 2, 4, 1, 3, 2, 1, 2, 0, 4, 4, 2, 1, 1, 0, 4, 1, 4, 4, 1, 1, 2, 3, 0, 1, 2, 2, 1, 3, 3, 4, 2, 5, 2, 4, 0, 3, 4, 2, 2, 2, 2, 2, 2, 2, 4, 4, 0, 4, 1, 0, 4, 0, 3, 1, 2, 4, 2, 4, 3, 2, 0, 3, 1, 0, 2, 1, 4, 3, 4, 4, 4, 2, 4, 2, 2, 0, 2, 0, 2, 0, 4, 0, 1, 5, 2, 2, 2, 0, 2, 2, 1, 5, 4, 1, 2, 2, 0, 1, 2, 3, 4, 2, 1, 2, 5, 2, 4, 2, 5, 0, 4, 0, 4, 2, 2, 2, 2, 2, 3, 3, 0, 2, 3, 3, 3, 1, 4, 4, 2, 4, 4, 2, 4, 2, 4, 0, 2, 4, 2, 2, 4, 2, 2, 0, 3, 2, 2, 2, 1, 4, 0, 0, 4, 2, 4, 2, 2, 4, 2, 0, 4, 4, 4, 2, 3, 0, 2, 2, 2, 2, 4, 1, 2, 2, 2, 4, 4, 2, 2, 4, 2, 2, 4, 4, 2, 2, 2, 0, 1, 2, 2, 2, 4, 4, 2, 4, 2, 2, 2, 3, 3, 4, 4, 2, 3, 1, 2, 2, 4, 2, 4, 2, 2, 2, 2, 0, 2, 4, 2, 4, 2, 4, 0, 2, 2, 4, 3, 1, 1, 1, 4, 1, 2, 4, 2, 3, 1, 3, 1, 0, 4, 2, 3, 4, 4, 2, 0, 5, 4, 4, 0, 2, 2, 1, 2, 4, 2, 2, 4, 2, 0, 4, 2, 4, 2, 2, 4, 4, 2, 2, 4, 2, 4, 4, 3, 4, 2, 4, 2, 3, 4, 3, 3, 4, 4, 3, 4, 1, 0, 2, 2, 0, 0, 2, 2, 0, 2, 4, 2, 2, 3, 2, 3, 5, 4, 4, 2, 4, 2, 4, 0, 2, 1, 2, 1, 1, 1, 2, 4, 0, 4, 5, 4, 4, 2, 2, 4, 4, 2, 1, 4, 0, 3, 0, 0, 0, 4, 2, 4, 5, 0, 4, 4, 4, 4, 4, 3, 4, 0, 2, 2, 4, 2, 3, 2, 0, 3, 2, 2, 2, 5, 2, 2, 4, 2, 1, 2, 5, 2, 2, 1, 2, 0, 1, 4, 0, 4, 3, 2, 0, 2, 0, 1, 3, 4, 4, 3, 1, 4, 4, 0, 4, 0, 2, 2, 4, 2, 4, 0, 2, 4, 5, 0, 0, 2, 2, 4, 4, 4, 4, 2, 0, 4, 2, 4, 4, 1, 0, 0, 3, 4, 4, 4, 1, 2, 1, 2, 5, 2, 4, 4, 1, 4, 3, 4, 2, 4, 0, 4, 2, 0, 3, 2, 2, 4, 4, 2, 4, 0, 2, 4, 4, 4, 0, 3, 0, 0, 4, 2, 3, 4, 2, 1, 2, 2, 3, 4, 3, 2, 2, 0, 5, 2, 4, 1, 4, 4, 1, 1, 2, 4, 4, 4, 4, 4, 0, 1, 4, 1, 4, 2, 2, 4, 1, 1, 2, 0, 0, 1, 2, 2, 4, 2, 2, 4, 4, 3, 4, 2, 1, 0, 1, 0, 2, 1, 4, 0, 4, 4, 2, 4, 0, 2, 2, 4, 4, 4, 1, 2, 4, 2, 4, 4, 4, 4, 3, 1, 4, 5, 3, 1, 1, 2, 4, 2, 4, 0, 2, 5, 1, 1, 4, 2, 4, 4, 0, 4, 1, 1, 2, 2, 4, 0, 2, 1, 0, 2, 2, 2, 1, 2, 2, 2, 1, 4, 0, 2, 1, 4, 0, 2, 2, 4, 4, 3, 2, 0, 0, 4, 2, 1, 2, 2, 2, 2, 1, 4, 2, 3, 2, 2, 3, 4, 2, 1, 2, 4, 2, 0, 4, 4, 2, 2, 2, 2, 1, 4, 4, 2, 0, 4, 2, 2, 4, 2, 4, 4, 2, 2, 0, 2, 1, 4, 4, 3, 2, 0, 4, 0, 1, 1, 2, 4, 4, 4, 4, 2, 2, 0, 4, 1, 3, 5, 4, 1, 0, 1, 4, 3, 4, 4, 1, 2, 3, 4, 4, 3, 5, 4, 3, 2, 2, 3, 4, 3, 2, 2, 2, 4, 2, 2, 4, 4, 4, 2, 3, 2, 3, 2, 1, 2, 1, 2, 2, 2, 4, 4, 1, 2, 2, 4, 2, 2, 4, 2, 0, 1, 4, 4, 4, 4, 1, 2, 2, 3, 1, 2, 2, 4, 1, 5, 2, 4, 4, 4, 2, 4, 3, 3, 1, 2, 1, 0, 0, 1, 0, 0, 2, 4, 4, 3, 2, 2, 3, 2, 3, 4, 5, 2, 4, 2, 0, 4, 1, 4, 1, 2, 1, 2, 0, 1, 1, 4, 4, 2, 0, 0, 2, 2, 2, 4, 2, 1, 2, 4, 4, 4, 2, 3, 0, 2, 0, 2, 0, 2, 1, 2, 0, 0, 2, 1, 4, 2, 1, 4, 1, 2, 2, 2, 2, 2, 4, 0, 4, 2, 0, 0, 2, 2, 4, 4, 1, 2, 1, 2, 4, 4, 3, 2, 2, 1, 1, 4, 2, 1, 2, 4, 3, 0, 2, 4, 3, 3, 2, 2, 1, 1, 4, 2, 2, 4, 0, 1, 4, 1, 2, 5, 4, 4, 1, 4, 2, 4, 0, 4, 1, 2, 1, 4, 3, 4, 4, 2, 2, 2, 4, 2, 4, 5, 4, 0, 2, 4, 2, 2, 4, 0, 3, 0, 1, 2, 4, 2, 1, 3, 4, 2, 4, 4, 2, 1, 4, 3, 4, 4, 2, 3, 4, 3, 2, 1, 0, 1, 4, 1, 1, 4, 4, 1, 2, 2, 2, 0, 3, 1, 4, 2, 4, 0, 4, 2, 3, 2, 4, 2, 4, 4, 4, 4, 2, 0, 3, 4, 2, 4, 3, 2, 2, 2, 4, 1, 2, 4, 2, 2, 5, 2, 1, 1, 0, 1, 4, 4, 4, 1, 4, 0, 2, 0, 4, 4, 0, 1, 0, 1, 3, 0, 3, 2, 1, 0, 2, 3, 2, 4, 3, 2, 3, 1, 2, 1, 1, 4, 4, 2, 3, 4, 2, 4, 4, 3, 4, 4, 1, 2, 4, 2, 0, 2, 1, 4, 2, 2, 3, 5, 2, 0, 3, 0, 4, 2, 2, 2, 3, 4, 3, 2, 4, 2, 2, 0, 0, 2, 4, 1, 4, 2, 1, 2, 0, 4, 2, 2, 2, 1, 1, 4, 2, 4, 4, 2, 2, 4, 2, 1, 0, 2, 4, 1, 2, 4, 3, 0, 4, 2, 5, 2, 2, 1, 0, 1, 1, 0, 2, 0, 0, 5, 0, 1, 4, 2, 2, 2, 4, 3, 4, 2, 4, 2, 1, 4, 2, 1, 0, 2, 0, 4, 2, 0, 2, 4, 1, 2, 2, 4, 4, 0, 3, 4, 4, 2, 2, 0, 3, 0, 4, 4, 2, 4, 5, 5, 4, 1, 2, 2, 2, 1, 4, 2, 1, 4, 2, 1, 2, 2, 4, 1, 2, 0, 1, 4, 2, 0, 4, 2, 4, 4, 4, 4, 4, 3, 4, 0, 1, 4, 2, 4, 4, 3, 1, 0, 0, 2, 1, 2, 2, 4, 4, 4, 4, 4, 0, 1, 4, 3, 2, 4, 2, 2, 1, 1, 2, 4, 3, 4, 4, 3, 1, 0, 0, 2, 4, 4, 2, 0, 2, 4, 4, 4, 4, 1, 4, 0, 2, 2, 0, 0, 3, 2, 1, 2, 4, 4, 5, 2, 2, 2, 4, 2, 4, 0, 0, 2, 4, 4, 4, 2, 4, 3, 2, 5, 4, 4, 2, 0, 4, 4, 1, 1, 4, 4, 2, 2, 2, 3, 3, 3, 2, 1, 1, 2, 4, 0, 2, 2, 0, 0, 0, 4, 3, 2, 4, 5, 4, 4, 4, 4, 4, 0, 4, 0, 3, 0, 2, 0, 1, 1, 4, 1, 1, 2, 0, 2, 2, 4, 4, 2, 4, 4, 1, 4, 2, 2, 5, 4, 3, 4, 3, 2, 4, 2, 0, 2, 0, 1, 2, 3, 4, 4, 3, 4, 2, 2, 0, 2, 0, 3, 4, 0, 2, 4, 2, 4, 2, 0, 0, 4, 3, 2, 2, 4, 3, 3, 5, 2, 2, 2, 2, 2, 4, 2, 0, 1, 0, 3, 4, 2, 4, 2, 2, 2, 5, 2, 2, 5, 4, 4, 3, 0, 2, 3, 1, 3, 1, 2, 4, 0, 4, 2, 2, 4, 2, 2, 2, 2, 2, 4, 4, 4, 3, 4, 4, 0, 2, 2, 0, 2, 2, 2, 1, 4, 3, 4, 0, 4, 2, 2, 4, 4, 4, 4, 2, 0, 2, 2, 4, 4, 0, 0, 4, 2, 1, 4, 1, 2, 4, 0, 2, 2, 1, 2, 4, 4, 4, 2, 2, 4, 4, 1, 4, 2, 3, 4, 4, 4, 2, 1, 1, 4, 0, 0, 2, 2, 4, 1, 2, 0, 1, 0, 4, 2, 4, 2, 4, 0, 4, 2, 2, 2, 0, 4, 5, 4, 3, 2, 2, 1, 4, 3, 2, 2, 4, 3, 2, 1, 5, 2, 2, 2, 1, 2, 0, 4, 2, 4, 4, 4, 2, 2, 1, 1, 4, 4, 0, 2, 4, 2, 4, 5, 2, 0, 3, 1, 4, 3, 0, 2, 3, 4, 2, 2, 4, 3, 3, 3, 0, 4, 1, 4, 2, 1, 2, 3, 4, 4, 2, 2, 3, 0, 0, 1, 2, 2, 2, 0, 4, 2, 1, 1, 4, 1, 0, 3, 2, 4, 4, 1, 2, 2, 4, 2, 2, 2, 2, 3, 0, 2, 2, 4, 1, 1, 1, 2, 2, 2, 0, 2, 2, 1, 4, 4, 4, 4, 0, 4, 1, 4, 5, 4, 1, 0, 0, 1, 4, 1, 3, 3, 2, 5, 4, 2, 0, 0, 4, 0, 1, 1, 3, 5, 4, 2, 2, 2, 4, 4, 4, 1, 4, 2, 2, 1, 2, 1, 3, 5, 2, 0, 2, 3, 1, 1, 4, 5, 2, 1, 4, 2, 4, 2, 4, 3, 5, 0, 2, 2, 4, 4, 2, 0, 2, 2, 2, 2, 1, 2, 0, 3, 1, 4, 4, 2, 0, 5, 2, 0, 4, 2, 3, 2, 0, 4, 2, 2, 4, 1, 4, 0, 4, 3, 4, 2, 5, 4, 2, 1, 2, 2, 2, 4, 1, 1, 4, 4, 0, 0, 2, 2, 2, 2, 4, 2, 2, 0, 2, 2, 0, 2, 0, 2, 4, 1, 4, 2, 0, 3, 1, 2, 0, 1, 1, 2, 4, 4, 0, 2, 0, 2, 2, 2, 1, 4, 4, 4, 1, 2, 0, 4, 1, 4, 2, 4, 0, 0, 0, 2, 4, 4, 2, 4, 1, 4, 4, 4, 4, 4, 5, 2, 2, 4, 3, 2, 2, 2, 0, 0, 2, 2, 4, 2, 3, 2, 3, 4, 0, 1, 2, 4, 4, 5, 3, 2, 2, 2, 1, 4, 2, 4, 2, 5, 2, 1, 2, 2, 5, 4, 4, 4, 0, 4, 2, 4, 3, 0, 2, 4, 2, 2, 3, 4, 4, 2, 1, 3, 2, 4, 3, 2, 2, 1, 2, 2, 2, 0, 3, 4, 2, 2, 2, 4, 2, 4, 5, 4, 2, 2, 2, 3, 1, 4, 2, 4, 2, 4, 3, 2, 3, 4, 1, 0, 5, 2, 4, 1, 4, 4, 2, 4, 2, 2, 4, 2, 0, 4, 1, 2, 2, 2, 5, 4, 2, 1, 2, 4, 4, 4, 2, 0, 4, 2, 1, 2, 2, 2, 2, 4, 4, 4, 3, 2, 1, 3, 4, 0, 4, 2, 2, 3, 4, 3, 2, 2, 2, 2, 4, 4, 1, 4, 4, 2, 4, 2, 3, 3, 3, 2, 3, 2, 2, 2, 2, 2, 3, 4, 2, 4, 2, 0, 4, 2, 2, 1, 1, 2, 2, 0, 4, 3, 1, 4, 2, 2, 0, 1, 1, 0, 1, 1, 0, 2, 1, 5, 1, 4, 2, 3, 2, 0, 1, 2, 2, 2, 2, 2, 1, 4, 4, 4, 1, 2, 5, 0, 2, 2, 1, 4, 2, 2, 0, 1, 1, 2, 4, 2, 2, 4, 1, 2, 4, 2, 4, 2, 4, 0, 2, 3, 4, 4, 1, 2, 4, 4, 3, 4, 1, 0, 4, 0, 2, 4, 0, 0, 2, 1, 3, 2, 4, 2, 4, 2, 2, 4, 4, 4, 1, 1, 3, 1, 2, 3, 0, 4, 4, 2, 0, 2, 4, 2, 2, 3, 0, 0, 3, 4, 0, 2, 0, 2, 1, 2, 2, 1, 4, 4, 2, 2, 2, 2, 2, 2, 4, 4, 4, 2, 5, 2, 3, 2, 0, 3, 4, 2, 2, 2, 2, 4, 4, 4, 3, 4, 0, 2, 4, 4, 2, 2, 4, 4, 3, 1, 2, 4, 4, 2, 4, 3, 0, 3, 0, 4, 2, 0, 0, 3, 1, 4, 4, 2, 2, 2, 4, 2, 4, 4, 2, 2, 4, 2, 2, 2, 2, 4, 4, 5, 2, 0, 1, 2, 2, 4, 2, 2, 2, 2, 5, 2, 5, 2, 1, 4, 2, 2, 5, 0, 1, 4, 0, 1, 2, 4, 1, 3, 2, 4, 4, 4, 4, 2, 4, 2, 1, 4, 4, 4, 2, 0, 2, 4, 2, 4, 2, 4, 4, 2, 4, 2, 2, 0, 4, 2, 2, 0, 0, 2, 3, 2, 0, 1, 4, 3, 4, 3, 4, 4, 4, 2, 4, 1, 2, 0, 4, 4, 4, 3, 2, 0, 2, 2, 1, 2, 4, 2, 4, 1, 3, 3, 2, 2, 4, 2, 2, 2, 4, 1, 2, 2, 4, 1, 2, 4, 0, 3, 0, 4, 5, 1, 0, 5, 5, 4, 0, 1, 2, 2, 2, 0, 1, 4, 2, 2, 3, 2, 0, 2, 1, 2, 4, 2, 2, 4, 2, 4, 0, 0, 2, 4, 2, 2, 4, 0, 0, 4, 2, 2, 3, 2, 2, 2, 3, 3, 2, 1, 4, 1, 4, 4, 0, 4, 2, 0, 1, 0, 0, 0, 3, 2, 4, 4, 4, 1, 2, 2, 0, 4, 0, 2, 0, 2, 2, 0, 2, 4, 2, 1, 2, 3, 3, 4, 4, 1, 0, 2, 0, 2, 2, 0, 4, 2, 2, 5, 1, 2, 3, 3, 4, 4, 4, 4, 0, 4, 4, 2, 1, 3, 0, 0, 1, 2, 1, 4, 4, 0, 4, 2, 2, 4, 1, 0, 4, 0, 4, 2, 4, 2, 1, 4, 4, 2, 4, 4, 2, 2, 2, 2, 4, 1, 4, 3, 2, 2, 2, 2, 4, 4, 2, 4, 2, 2, 0, 2, 2, 2, 2, 1, 2, 4, 2, 4, 4, 2, 2, 1, 4, 1, 4, 4, 4, 4, 0, 2, 1, 2, 2, 1, 2, 4, 4, 2, 0, 4, 2, 1, 4, 2, 2, 1, 0, 2, 0, 4, 0, 3, 4, 2, 0, 4, 4, 2, 2, 2, 2, 4, 1, 4, 1, 2, 0, 0, 2, 4, 2, 2, 0, 4, 4, 2, 4, 3, 1, 1, 2, 3, 2, 2, 1, 4, 4, 1, 3, 4, 2, 2, 1, 3, 1, 4, 2, 4, 3, 1, 4, 2, 2, 4, 4, 3, 2, 2, 2, 1, 4, 1, 4, 4, 1, 1, 3, 4, 5, 4, 2, 1, 3, 3, 2, 3, 1, 4, 0, 2, 4, 4, 3, 2, 4, 4, 2, 3, 4, 0, 4, 1, 4, 4, 2, 2, 2, 2, 1, 2, 4, 4, 1, 2, 1, 4, 0, 4, 2, 4, 4, 2, 4, 2, 4, 2, 2, 2, 2, 1, 4, 0, 2, 1, 2, 2, 4, 4, 4, 4, 1, 0, 2, 4, 2, 1, 0, 4, 0, 4, 4, 2, 4, 3, 4, 1, 2, 2, 2, 2, 2, 0, 4, 4, 0, 4, 4, 2, 0, 0, 2, 2, 1, 3, 0, 4, 4, 1, 4, 2, 1, 5, 4, 1, 4, 3, 1, 4, 4, 4, 2, 4, 3, 1, 0, 0, 2, 2, 2, 2, 4, 4, 2, 2, 0, 2, 0, 2, 4, 2, 2, 0, 4, 4, 2, 4, 2, 3, 0, 2, 0, 2, 0, 4, 4, 3, 4, 0, 2, 3, 2, 0, 4, 2, 4, 0, 0, 4, 2, 1, 0, 3, 4, 0, 4, 1, 2, 4, 4, 0, 0, 1, 5, 1, 4, 2, 2, 3, 2, 3, 2, 4, 3, 2, 2, 2, 4, 2, 4, 2, 0, 2, 3, 2, 4, 4, 4, 0, 1, 3, 2, 0, 4, 4, 2, 1, 2, 1, 3, 3, 0, 0, 4, 1, 4, 4, 5, 3, 2, 2, 3, 4, 2, 2, 1, 4, 0, 0, 4, 3, 1, 1, 0, 0, 2, 4, 4, 2, 2, 1, 4, 2, 3, 1, 0, 4, 2, 0, 5, 1, 2, 2, 3, 1, 4, 2, 0, 1, 0, 4, 4, 4, 0, 4, 1, 2, 0, 0, 4, 1, 2, 0, 1, 4, 2, 1, 2, 3, 0, 1, 1, 1, 1, 2, 0, 0, 4, 2, 4, 2, 4, 4, 2, 4, 1, 1, 2, 4, 2, 4, 2, 1, 0, 4, 2, 0, 2, 2, 4, 2, 2, 0, 0, 2, 2, 2, 4, 2, 2, 2, 0, 0, 2, 3, 2, 3, 2, 2, 2, 4, 2, 4, 5, 4, 0, 0, 0, 1, 1, 2, 1, 1, 2, 0, 2, 2, 2, 3, 2, 1, 4, 4, 5, 4, 4, 0, 2, 3, 1, 2, 0, 2, 5, 0, 1, 4, 2, 4, 2, 4, 3, 1, 4, 4, 5, 2, 0, 0, 4, 5, 0, 2, 1, 4, 1, 2, 2, 1, 4, 2, 2, 2, 1, 4, 3, 1, 3, 4, 0, 3, 4, 2, 2, 2, 1, 4, 0, 1, 3, 2, 3, 0, 4, 2, 2, 3, 4, 2, 4, 2, 4, 4, 1, 0, 2, 4, 2, 4, 2, 2, 4, 5, 2, 2, 0, 2, 2, 1, 2, 4, 4, 1, 0, 4, 2, 4, 4, 2, 0, 4, 4, 1, 4, 2, 5, 4, 2, 4, 0, 0, 1, 2, 2, 1, 1, 3, 4, 3, 2, 4, 2, 2, 2, 0, 5, 2, 0, 0, 0, 2, 4, 1, 0, 2, 4, 4, 1, 2, 2, 0, 4, 2, 1, 2, 4, 4, 2, 2, 4, 4, 4, 5, 3, 5, 2, 2, 2, 2, 3, 2, 4, 1, 1, 4, 0, 2, 2, 1, 4, 4, 4, 1, 2, 3, 0, 4, 2, 2, 2, 4, 3, 4, 2, 2, 4, 2, 2, 4, 4, 2, 1, 4, 2, 2, 4, 2, 4, 4, 2, 3, 2, 4, 4, 4, 3, 2, 2, 2, 5, 2, 0, 2, 4, 2, 2, 1, 0, 2, 4, 2, 4, 4, 4, 2, 2, 4, 2, 5, 2, 4, 5, 1, 2, 2, 4, 4, 5, 4, 1, 1, 0, 5, 3, 5, 0, 2, 2, 2, 4, 2, 2, 4, 0, 4, 4, 4, 2, 1, 2, 2, 2, 4, 2, 4, 2, 4, 4, 1, 2, 2, 4, 2, 2, 0, 2, 2, 4, 2, 4, 1, 0, 2, 2, 0, 2, 4, 3, 0, 2, 4, 3, 1, 0, 2, 4, 4, 2, 2, 1, 4, 4, 3, 4, 0, 2, 4, 0, 4, 4, 2, 1, 5, 1, 2, 4, 2, 0, 5, 4, 0, 0, 1, 4, 4, 2, 4, 1, 4, 0, 4, 2, 0, 2, 3, 0, 1, 3, 3, 4, 4, 0, 2, 3, 4, 2, 4, 4, 1, 1, 1, 4, 3, 2, 3, 4, 1, 2, 1, 2, 2, 0, 2, 1, 2, 2, 4, 0, 4, 2, 0, 1, 5, 2, 4, 1, 4, 2, 2, 0, 4, 3, 1, 0, 4, 4, 3, 4, 3, 2, 2, 4, 4, 1, 2, 2, 2, 2, 2, 4, 2, 2, 3, 0, 2, 1, 1, 3, 1, 4, 2, 4, 4, 2, 0, 2, 2, 2, 4, 4, 3, 4, 4, 4, 1, 0, 0, 0, 4, 4, 3, 0, 1, 2, 2, 3, 2, 1, 4, 0, 3, 2, 2, 5, 4, 2, 4, 4, 4, 4, 2, 2, 4, 3, 4, 4, 1, 2, 4, 2, 2, 4, 1, 1, 2, 2, 2, 2, 0, 4, 4, 1, 1, 4, 4, 0, 2, 2, 4, 2, 1, 1, 4, 0, 2, 2, 1, 2, 2, 0, 4, 0, 1, 4, 5, 2, 4, 5, 4, 0, 2, 4, 1, 1, 1, 2, 0, 3, 0, 0, 0, 2, 0, 0, 2, 0, 1, 2, 4, 3, 4, 0, 1, 4, 2, 2, 0, 2, 2, 2, 0, 4, 4, 4, 2, 4, 3, 4, 2, 1, 2, 0, 4, 0, 1, 4, 0, 2, 0, 4, 2, 1, 4, 4, 1, 2, 1, 1, 1, 4, 2, 5, 2, 2, 4, 2, 3, 1, 2, 1, 2, 3, 4, 4, 0, 3, 2, 4, 3, 0, 2, 0, 4, 1, 4, 5, 5, 2, 3, 0, 1, 2, 4, 4, 2, 4, 4, 2, 2, 3, 4, 1, 3, 0, 2, 2, 4, 2, 2, 2, 5, 2, 1, 3, 2, 1, 4, 1, 3, 2, 1, 4, 1, 4, 2, 4, 4, 4, 0, 2, 2, 2, 3, 1, 4, 0, 0, 4, 1, 1, 3, 1, 4, 1, 0, 2, 0, 4, 0, 2, 0, 4, 0, 4, 4, 2, 2, 0, 1, 4, 0, 4, 3, 4, 4, 4, 0, 3, 4, 2, 0, 3, 2, 4, 0, 4, 1, 3, 4, 4, 0, 3, 2, 5, 1, 0, 4, 4, 1, 1, 4, 1, 4, 0, 1, 0, 4, 2, 5, 1, 3, 4, 0, 4, 2, 3, 4, 0, 1, 3, 2, 2, 2, 2, 2, 0, 3, 1, 2, 2, 2, 0, 4, 4, 4, 2, 2, 4, 2, 1, 4, 4, 4, 4, 1, 1, 4, 2, 0, 2, 5, 4, 4, 4, 4, 2, 0, 3, 4, 2, 4, 4, 2, 2, 4, 4, 4, 0, 5, 4, 0, 2, 3, 3, 0, 3, 1, 2, 1, 2, 3, 2, 2, 1, 1, 0, 2, 0, 1, 3, 1, 4, 0, 1, 1, 2, 2, 4, 4, 3, 4, 4, 2, 4, 4, 1, 4, 2, 1, 2, 2, 4, 4, 0, 1, 4, 5, 5, 5, 4, 4, 2, 4, 0, 4, 4, 2, 4, 2, 4, 4, 0, 2, 0, 2, 5, 0, 4, 5, 1, 0, 4, 2, 4, 3, 2, 4, 4, 2, 2, 5, 2, 2, 2, 2, 2, 2, 0, 4, 1, 0, 1, 4, 2, 5, 2, 0, 1, 4, 3, 2, 4, 2, 2, 2, 4, 2, 0, 0, 2, 2, 4, 4, 4, 2, 2, 4, 4, 0, 2, 2, 4, 4, 0, 1, 2, 4, 3, 2, 4, 4, 4, 4, 0, 4, 2, 5, 3, 2, 5, 3, 2, 2, 2, 2, 2, 0, 2, 2, 0, 3, 2, 5, 0, 0, 4, 1, 1, 2, 2, 4, 4, 2, 0, 2, 4, 2, 4, 2, 2, 2, 4, 3, 2, 4, 3, 0, 3, 2, 2, 4, 1, 2, 1, 4, 2, 2, 3, 0, 0, 0, 3, 0, 0, 1, 2, 2, 4, 4, 4, 2, 0, 5, 2, 4, 4, 2, 2, 3, 0, 2, 2, 1, 2, 0, 1, 0, 4, 2, 4, 2, 4, 2, 4, 4, 0, 1, 2, 4, 3, 0, 4, 4, 2, 0, 1, 5, 3, 4, 5, 5, 3, 4, 2, 2, 0, 4, 4, 3, 0, 1, 1, 2, 1, 2, 4, 4, 2, 2, 4, 1, 3, 4, 2, 4, 5, 2, 2, 0, 2, 2, 0, 2, 4, 4, 0, 2, 1, 1, 4, 2, 4, 4, 4, 0, 2, 0, 0, 2, 2, 2, 2, 2, 2, 4, 2, 2, 2, 2, 2, 2, 1, 0, 3, 4, 4, 2, 4, 1, 2, 0, 1, 4, 2, 4, 3, 2, 2, 2, 2, 1, 2, 1, 0, 3, 0, 4, 1, 4, 4, 2, 2, 4, 4, 4, 2, 2, 2, 3, 0, 5, 4, 4, 4, 2, 5, 5, 3, 1, 3, 1, 0, 2, 2, 4, 2, 4, 4, 2, 4, 2, 3, 1, 4, 2, 2, 4, 2, 4, 0, 2, 4, 3, 4, 1, 2, 1, 3, 2, 0, 2, 2, 1, 2, 2, 2, 2, 2, 2, 4, 2, 1, 5, 4, 0, 4, 4, 2, 1, 1, 0, 2, 3, 1, 2, 4, 1, 3, 4, 2, 2, 4, 4, 2, 4, 2, 4, 2, 0, 3, 1, 2, 2, 5, 2, 4, 2, 2, 2, 1, 1, 2, 4, 4, 2, 2, 2, 3, 4, 3, 2, 2, 1, 4, 4, 3, 4, 4, 4, 2, 4, 4, 4, 3, 1, 2, 2, 1, 2, 4, 0, 4, 2, 2, 4, 0, 2, 4, 3, 2, 0, 2, 1, 2, 5, 4, 4, 0, 1, 4, 1, 4, 2, 1, 0, 2, 4, 2, 4, 2, 4, 0, 1, 4, 2, 0, 4, 0, 1, 2, 0, 2, 4, 1, 2, 2, 4, 4, 4, 3, 4, 4, 2, 1, 2, 4, 0, 2, 4, 3, 1, 2, 2, 4, 2, 4, 2, 3, 5, 4, 4, 2, 1, 4, 4, 4, 3, 2, 2, 1, 4, 1, 4, 2, 2, 5, 4, 2, 4, 0, 2, 0, 2, 0, 4, 4, 0, 2, 4, 4, 1, 0, 1, 4, 1, 2, 1, 2, 0, 2, 4, 5, 0, 4, 4, 1, 1, 2, 4, 4, 4, 2, 2, 5, 0, 0, 0, 2, 0, 4, 4, 2, 3, 2, 2, 4, 0, 2, 3, 2, 2, 2, 2, 2, 2, 1, 2, 3, 2, 2, 3, 2, 1, 4, 2, 3, 3, 2, 4, 2, 2, 2, 0, 4, 2, 1, 2, 4, 4, 2, 1, 0, 0, 2, 0, 2, 3, 2, 2, 2, 2, 4, 2, 2, 2, 2, 0, 2, 5, 4, 2, 4, 0, 0, 4, 4, 4, 3, 0, 0, 4, 4, 2, 4, 4, 2, 2, 1, 2, 2, 2, 1, 5, 4, 4, 2, 1, 1, 2, 2, 4, 1, 2, 4, 4, 4, 1, 1, 4, 5, 4, 2, 4, 1, 2, 2, 2, 1, 1, 2, 2, 0, 1, 4, 4, 2, 0, 1, 4, 4, 4, 4, 2, 3, 2, 2, 0, 3, 0, 2, 4, 5, 4, 0, 4, 1, 4, 0, 0, 4, 2, 4, 0, 3, 2, 4, 4, 4, 0, 2, 1, 2, 0, 1, 2, 1, 4, 1, 2, 2, 2, 4, 1, 4, 4, 4, 4, 2, 4, 2, 3, 3, 4, 2, 3, 3, 2, 0, 4, 2, 1, 4, 4, 2, 0, 1, 4, 5, 0, 4, 4, 2, 2, 4, 4, 2, 2, 4, 2, 5, 0, 0, 2, 2, 2, 2, 2, 4, 4, 4, 0, 0, 4, 2, 1, 4, 1, 4, 4, 2, 2, 2, 0, 2, 2, 2, 4, 2, 0, 1, 0, 1, 0, 4, 2, 0, 4, 0, 0, 2, 4, 2, 3, 2, 4, 4, 1, 2, 2, 4, 2, 5, 2, 2, 0, 4, 0, 2, 4, 2, 2, 3, 2, 0, 0, 4, 2, 4, 4, 2, 4, 3, 5, 2, 2, 4, 4, 4, 3, 4, 3, 4, 2, 4, 2, 0, 1, 2, 3, 0, 4, 0, 2, 5, 4, 2, 1, 4, 1, 2, 1, 2, 0, 1, 2, 0, 2, 2, 4, 4, 2, 4, 4, 3, 4, 1, 0, 0, 2, 0, 4, 2, 2, 2, 2, 4, 2, 2, 3, 4, 1, 2, 4, 2, 0, 0, 0, 2, 2, 4, 2, 0, 0, 4, 2, 2, 2, 0, 3, 4, 2, 4, 2, 4, 4, 1, 4, 1, 4, 4, 4, 2, 2, 2, 4, 4, 4, 3, 4, 1, 5, 4, 4, 2, 2, 2, 0, 0, 5, 3, 4, 2, 0, 4, 0, 0, 1, 1, 2, 2, 2, 2, 2, 4, 0, 3, 2, 4, 1, 2, 4, 2, 1, 0, 0, 2, 1, 4, 2, 3, 3, 2, 2, 0, 4, 1, 2, 1, 3, 4, 4, 4, 0, 5, 4, 0, 4, 4, 1, 5, 3, 2, 2, 4, 2, 0, 2, 3, 0, 2, 5, 1, 0, 2, 2, 3, 2, 3, 4, 2, 4, 2, 2, 2, 2, 2, 4, 0, 2, 1, 4, 2, 4, 4, 4, 2, 2, 1, 1, 2, 5, 0, 4, 4, 2, 2, 2, 0, 2, 2, 0, 1, 2, 2, 1, 1, 1, 2, 4, 2, 0, 2, 4, 4, 4, 4, 5, 2, 2, 4, 2, 4, 4, 5, 2, 1, 0, 0, 2, 4, 2, 2, 2, 4, 2, 0, 4, 2, 2, 4, 4, 4, 1, 2, 4, 0, 0, 4, 2, 2, 4, 2, 0, 3, 5, 4, 2, 4, 0, 2, 5, 3, 4, 0, 4, 2, 4, 3, 3, 2, 4, 4, 4, 2, 4, 0, 4, 1, 4, 2, 3, 4, 4, 4, 2, 1, 4, 2, 4, 4, 2, 2, 2, 4, 4, 4, 5, 1, 2, 4, 0, 4, 2, 1, 5, 3, 5, 2, 2, 2, 4, 2, 1, 4, 1, 4, 4, 1, 3, 4, 2, 4, 0, 2, 4, 3, 2, 2, 4, 2, 4, 4, 1, 3, 0, 4, 4, 0, 2, 4, 3, 2, 4, 1, 2, 1, 2, 4, 4, 0, 1, 2, 2, 4, 2, 4, 0, 2, 0, 0, 4, 2, 4, 2, 4, 4, 4, 2, 5, 2, 3, 5, 4, 2, 2, 4, 2, 2, 2, 0, 2, 4, 4, 2, 2, 2, 1, 4, 0, 4, 2, 4, 2, 3, 4, 4, 4, 0, 1, 0, 1, 2, 0, 2, 2, 0, 2, 4, 0, 2, 0, 0, 2, 2, 5, 0, 1, 0, 1, 2, 4, 2, 4, 4, 2, 1, 2, 4, 1, 4, 3, 4, 5, 2, 0, 2, 0, 4, 1, 2, 1, 0, 4, 4, 3, 2, 2, 4, 2, 4, 2, 2, 0, 4, 4, 1, 2, 4, 2, 0, 4, 2, 4, 4, 3, 0, 2, 1, 4, 0, 0, 5, 0, 4, 0, 0, 0, 0, 2, 2, 3, 2, 4, 4, 4, 2, 1, 1, 2, 2, 0, 4, 0, 1, 2, 0, 4, 4, 2, 0, 2, 0, 5, 3, 2, 0, 4, 2, 4, 2, 4, 4, 1, 0, 0, 4, 1, 4, 4, 4, 3, 2, 0, 2, 3, 0, 3, 2, 2, 3, 4, 4, 0, 2, 4, 1, 5, 4, 1, 4, 0, 4, 2, 1, 3, 2, 4, 2, 0, 4, 1, 2, 2, 2, 2, 3, 4, 2, 2, 2, 1, 2, 2, 4, 3, 4, 4, 0, 2, 4, 0, 2, 4, 2, 5, 2, 1, 4, 1, 2, 3, 0, 2, 3, 2, 2, 2, 0, 3, 4, 1, 4, 2, 4, 4, 2, 2, 0, 0, 2, 3, 2, 4, 4, 0, 0, 4, 0, 3, 4, 1, 2, 2, 2, 4, 2, 0, 0, 1, 2, 2, 1, 2, 5, 4, 0, 5, 1, 2, 2, 2, 4, 2, 2, 1, 5, 2, 4, 2, 3, 4, 4, 0, 2, 4, 4, 3, 1, 0, 2, 0, 4, 2, 4, 4, 4, 2, 3, 2, 4, 2, 2, 0, 1, 4, 3, 4, 4, 0, 4, 2, 3, 2, 3, 1, 2, 2, 4, 2, 2, 2, 3, 0, 2, 4, 2, 2, 2, 4, 2, 2, 1, 0, 4, 0, 3, 2, 2, 2, 4, 1, 2, 1, 4, 2, 2, 2, 4, 2, 2, 2, 4, 0, 2, 2, 4, 2, 0, 1, 2, 4, 2, 4, 0, 2, 4, 4, 1, 3, 4, 2, 3, 2, 1, 4, 0, 2, 1, 4, 4, 0, 0, 1, 1, 3, 0, 2, 4, 3, 2, 4, 5, 0, 2, 2, 1, 4, 2, 3, 4, 0, 2, 0, 1, 4, 0, 4, 2, 2, 4, 1, 2, 0, 1, 4, 1, 0, 2, 4, 2, 1, 2, 4, 4, 4, 2, 1, 4, 1, 2, 3, 2, 2, 2, 2, 2, 2, 1, 2, 2, 4, 1, 2, 4, 4, 2, 2, 4, 4, 2, 2, 4, 4, 3, 2, 5, 4, 4, 3, 4, 3, 3, 2, 3, 0, 1, 2, 2, 4, 1, 1, 1, 2, 2, 0, 2, 2, 0, 3, 1, 0, 4, 4, 1, 4, 4, 0, 0, 0, 2, 2, 2, 2, 2, 2, 3, 2, 0, 4, 2, 1, 4, 3, 3, 1, 2, 4, 5, 4, 1, 1, 0, 4, 4, 2, 2, 2, 2, 4, 4, 1, 2, 2, 2, 2, 4, 2, 2, 1, 4, 2, 2, 3, 2, 4, 4, 0, 2, 2, 4, 5, 2, 1, 5, 1, 2, 2, 1, 2, 0, 3, 4, 2, 4, 3, 4, 2, 0, 1, 4, 3, 3, 2, 4, 2, 2, 4, 4, 2, 4, 4, 1, 4, 2, 4, 2, 2, 1, 2, 2, 3, 2, 2, 2, 0, 3, 2, 2, 4, 2, 4, 4, 4, 1, 4, 2, 4, 1, 2, 1, 4, 4, 1, 2, 3, 2, 3, 2, 2, 1, 4, 2, 2, 3, 0, 2, 0, 2, 4, 4, 1, 2, 4, 5, 1, 2, 4, 2, 3, 2, 2, 2, 4, 5, 5, 1, 4, 2, 1, 4, 4, 0, 1, 5, 1, 4, 2, 2, 2, 2, 4, 4, 2, 1, 0, 0, 4, 4, 5, 4, 1, 0, 2, 1, 0, 1, 2, 4, 0, 3, 1, 2, 2, 4, 2, 4, 2, 2, 0, 3, 1, 2, 4, 2, 4, 4, 4, 4, 2, 0, 3, 0, 2, 2, 2, 4, 2, 4, 0, 2, 2, 4, 2, 2, 4, 0, 0, 2, 2, 4, 4, 2, 1, 3, 4, 2, 1, 2, 1, 3, 2, 2, 2, 2, 4, 2, 4, 2, 4, 1, 4, 2, 1, 2, 4, 2, 3, 3, 3, 2, 4, 2, 4, 4, 4, 0, 1, 5, 1, 2, 2, 0, 4, 2, 2, 2, 0, 0, 2, 4, 4, 4, 0, 1, 4, 2, 0, 2, 1, 0, 2, 0, 4, 2, 0, 4, 4, 1, 2, 2, 1, 4, 2, 2, 2, 4, 2, 1, 3, 0, 2, 2, 2, 4, 2, 4, 4, 0, 2, 0, 0, 2, 3, 4, 1, 1, 0, 1, 1, 4, 2, 4, 2, 4, 1, 3, 5, 3, 2, 4, 2, 1, 4, 2, 2, 4, 4, 0, 0, 1, 3, 2, 2, 2, 4, 4, 4, 4, 2, 3, 2, 1, 2, 4, 4, 1, 4, 4, 4, 0, 0, 2, 4, 4, 0, 4, 3, 1, 0, 4, 2, 2, 2, 3, 0, 0, 0, 1, 1, 2, 3, 1, 1, 5, 2, 2, 1, 4, 4, 4, 3, 5, 2, 3, 2, 2, 3, 2, 3, 5, 4, 2, 2, 2, 2, 0, 4, 2, 0, 3, 2, 1, 1, 4, 3, 4, 4, 4, 2, 4, 4, 3, 2, 4, 4, 2, 5, 0, 4, 4, 4, 2, 3, 1, 4, 4, 4, 2, 4, 4, 2, 4, 5, 3, 5, 4, 4, 3, 0, 4, 2, 0, 4, 2, 2, 2, 4, 0, 5, 2, 4, 1, 4, 2, 2, 4, 2, 4, 2, 4, 1, 5, 2, 5, 3, 2, 3, 2, 4, 1, 0, 2, 1, 4, 3, 4, 4, 4, 4, 2, 2, 4, 1, 0, 2, 4, 4, 5, 4, 5, 4, 1, 3, 3, 4, 1, 4, 4, 4, 2, 4, 2, 2, 4, 3, 2, 2, 0, 4, 2, 2, 4, 4, 2, 4, 4, 4, 4, 4, 0, 0, 0, 4, 3, 3, 4, 0, 4, 3, 4, 4, 2, 1, 3, 2, 1, 4, 2, 2, 4, 4, 0, 3, 2, 3, 2, 3, 2, 3, 2, 2, 4, 1, 5, 4, 2, 1, 4, 2, 1, 4, 4, 4, 0, 4, 2, 2, 3, 1, 3, 5, 4, 4, 2, 5, 0, 1, 2, 2, 4, 2, 4, 5, 1, 0, 2, 2, 1, 2, 4, 4, 2, 0, 4, 1, 1, 0, 0, 4, 0, 4, 4, 4, 2, 1, 3, 4, 4, 4, 1, 1, 4, 2, 2, 0, 4, 3, 2, 1, 4, 1, 3, 4, 4, 2, 4, 2, 2, 3, 2, 4, 2, 4, 1, 4, 2, 2, 0, 0, 0, 1, 0, 2, 5, 4, 4, 0, 2, 1, 0, 4, 2, 0, 4, 2, 1, 0, 1, 0, 2, 1, 0, 2, 0, 0, 0, 0, 1, 2, 2, 5, 4, 1, 2, 4, 4, 4, 2, 4, 4, 2, 0, 0, 2, 1, 3, 4, 2, 2, 0, 4, 2, 1, 1, 2, 4, 4, 0, 2, 3, 0, 4, 5, 2, 2, 4, 4, 4, 0, 4, 2, 4, 2, 0, 2, 2, 0, 2, 2, 4, 4, 2, 0, 2, 3, 1, 5, 4, 3, 5, 4, 0, 1, 1, 0, 0, 2, 0, 0, 3, 1, 3, 2, 0, 2, 0, 2, 4, 5, 1, 2, 2, 4, 4, 0, 2, 3, 4, 4, 4, 2, 1, 2, 1, 0, 3, 1, 0, 2, 4, 2, 3, 2, 1, 4, 2, 4, 2, 2, 2, 2, 2, 2, 2, 3, 4, 0, 2, 4, 2, 3, 4, 2, 4, 2, 4, 0, 1, 5, 4, 4, 4, 4, 2, 1, 4, 3, 2, 4, 4, 2, 0, 5, 0, 4, 3, 3, 3, 3, 1, 3, 2, 4, 5, 4, 4, 2, 4, 1, 2, 2, 4, 4, 2, 0, 4, 2, 2, 2, 1, 1, 1, 2, 2, 2, 1, 4, 4, 4, 2, 0, 3, 2, 0, 2, 4, 3, 2, 4, 3, 4, 3, 1, 0, 4, 4, 4, 4, 4, 4, 4, 0, 4, 2, 2, 4, 4, 1, 1, 2, 2, 0, 2, 3, 2, 2, 4, 4, 2, 2, 0, 4, 4, 4, 4, 4, 1, 4, 2, 4, 4, 1, 4, 1, 4, 2, 4, 4, 4, 1, 1, 0, 1, 1, 2, 0, 4, 0, 2, 0, 4, 2, 3, 2, 2, 4, 4, 2, 4, 4, 0, 4, 4, 0, 0, 2, 0, 4, 1, 0, 1, 4, 0, 2, 4, 1, 4, 4, 2, 5, 4, 1, 1, 5, 4, 2, 4, 4, 2, 2, 4, 1, 1, 1, 1, 3, 2, 5, 4, 2, 0, 4, 4, 4, 0, 4, 0, 4, 2, 2, 4, 2, 4, 4, 2, 2, 4, 2, 2, 2, 1, 4, 2, 2, 3, 2, 0, 2, 2, 0, 4, 2, 2, 0, 4, 0, 0, 5, 4, 4, 4, 4, 0, 2, 1, 4, 0, 0, 4, 4, 2, 4, 2, 2, 1, 2, 3, 4, 4, 0, 1, 0, 4, 2, 3, 0, 2, 4, 4, 2, 5, 1, 2, 2, 4, 1, 4, 2, 2, 3, 2, 4, 4, 5, 0, 4, 0, 4, 4, 4, 0, 4, 4, 2, 5, 4, 0, 5, 2, 2, 2, 3, 4, 4, 4, 4, 2, 4, 4, 4, 1, 4, 0, 4, 1, 3, 0, 2, 3, 4, 4, 1, 4, 4, 0, 4, 2, 1, 0, 0, 2, 2, 2, 2, 1, 4, 2, 5, 0, 2, 4, 4, 4, 3, 4, 2, 2, 2, 2, 2, 5, 2, 1, 1, 5, 2, 2, 0, 4, 2, 4, 0, 2, 0, 2, 0, 3, 0, 0, 4, 2, 1, 2, 2, 4, 3, 4, 4, 2, 2, 2, 2, 2, 2, 1, 0, 4, 2, 4, 2, 2, 4, 4, 2, 4, 2, 2, 0, 2, 4, 2, 2, 2, 0, 2, 2, 4, 1, 4, 2, 4, 0, 1, 4, 4, 4, 4, 3, 4, 2, 0, 4, 0, 4, 3, 4, 1, 1, 5, 2, 4, 1, 4, 3, 2, 4, 2, 0, 5, 4, 2, 2, 0, 3, 1, 2, 0, 4, 4, 3, 0, 4, 4, 2, 4, 2, 2, 4, 4, 0, 2, 2, 0, 4, 2, 2, 1, 4, 2, 4, 4, 4, 4, 2, 1, 4, 3, 3, 4, 1, 1, 2, 4, 2, 0, 4, 4, 4, 4, 1, 4, 4, 2, 4, 2, 2, 4, 3, 2, 4, 0, 0, 2, 2, 2, 5, 0, 1, 4, 4, 2, 4, 1, 4, 2, 1, 4, 0, 2, 2, 0, 2, 0, 0, 1, 2, 5, 1, 0, 0, 2, 2, 4, 4, 4, 2, 0, 5, 4, 0, 4, 2, 0, 2, 1, 2, 1, 2, 4, 4, 2, 2, 4, 2, 4, 4, 2, 4, 2, 4, 4, 0, 2, 0, 4, 2, 2, 1, 0, 0, 3, 2, 4, 2, 2, 0, 4, 0, 4, 4, 0, 0, 3, 1, 1, 2, 3, 4, 2, 2, 4, 2, 4, 4, 4, 4, 1, 4, 2, 0, 0, 1, 2, 3, 2, 2, 2, 2, 2, 4, 1, 2, 2, 3, 0, 2, 2, 4, 2, 4, 4, 1, 2, 2, 5, 2, 4, 2, 4, 2, 2, 4, 4, 2, 4, 0, 4, 4, 2, 2, 0, 2, 2, 2, 1, 1, 4, 4, 0, 4, 4, 0, 2, 1, 2, 0, 4, 3, 3, 4, 4, 4, 3, 2, 4, 2, 4, 0, 0, 2, 0, 2, 3, 2, 2, 3, 0, 1, 2, 0, 3, 3, 1, 2, 0, 2, 4, 3, 1, 2, 2, 4, 1, 2, 1, 2, 4, 3, 1, 2, 4, 4, 4, 4, 2, 2, 3, 4, 2, 1, 2, 2, 2, 2, 3, 4, 4, 0, 4, 0, 4, 2, 4, 4, 0, 2, 2, 2, 1, 2, 0, 2, 3, 1, 3, 1, 0, 2, 4, 4, 2, 3, 2, 3, 1, 3, 4, 1, 2, 0, 1, 1, 3, 4, 2, 1, 4, 2, 2, 4, 4, 0, 2, 4, 1, 4, 4, 1, 1, 4, 2, 2, 2, 4, 2, 0, 0, 2, 1, 2, 2, 2, 2, 3, 2, 2, 1, 0, 2, 2, 4, 4, 4, 2, 4, 0, 4, 2, 5, 3, 1, 5, 1, 0, 3, 2, 3, 0, 0, 4, 3, 4, 0, 4, 4, 4, 2, 4, 4, 2, 4, 2, 1, 4, 4, 0, 4, 1, 2, 4, 4, 4, 2, 2, 4, 0, 2, 2, 3, 0, 4, 0, 4, 2, 4, 1, 2, 2, 1, 0, 1, 4, 4, 3, 2, 1, 0, 4, 2, 4, 3, 3, 1, 0, 4, 2, 0, 3, 4, 0, 2, 5, 4, 2, 4, 4, 4, 2, 5, 0, 1, 0, 4, 4, 1, 4, 5, 2, 3, 4, 4, 4, 1, 3, 5, 2, 2, 4, 4, 4, 4, 2, 4, 1, 4, 0, 3, 2, 0, 4, 3, 2, 4, 1, 2, 2, 3, 4, 2, 1, 0, 4, 4, 2, 4, 4, 2, 3, 4, 0, 2, 0, 2, 4, 1, 0, 4, 1, 2, 2, 2, 2, 4, 2, 3, 0, 3, 4, 2, 1, 4, 2, 1, 4, 3, 4, 5, 5, 0, 1, 2, 2, 2, 4, 4, 2, 5, 2, 2, 2, 4, 2, 0, 1, 2, 4, 2, 4, 0, 4, 3, 3, 1, 1, 5, 4, 4, 2, 0, 0, 4, 1, 2, 4, 2, 0, 2, 5, 2, 5, 4, 2, 2, 4, 4, 2, 2, 4, 4, 2, 1, 4, 3, 0, 0, 4, 3, 3, 4, 5, 1, 4, 1, 2, 2, 0, 4, 1, 4, 2, 0, 2, 1, 0, 2, 1, 4, 3, 2, 2, 3, 2, 4, 2, 2, 0, 4, 2, 3, 2, 4, 2, 1, 1, 5, 0, 5, 1, 4, 4, 3, 4, 0, 0, 2, 0, 2, 3, 2, 2, 0, 2, 4, 4, 2, 2, 2, 0, 4, 4, 1, 4, 3, 4, 1, 2, 4, 2, 3, 2, 4, 4, 1, 1, 5, 0, 4, 1, 4, 1, 2, 0, 2, 2, 2, 1, 0, 2, 4, 2, 2, 3, 1, 4, 1, 4, 4, 2, 2, 2, 1, 4, 4, 4, 1, 0, 2, 4, 4, 5, 2, 3, 5, 2, 4, 2, 4, 0, 3, 2, 0, 0, 1, 2, 0, 4, 2, 2, 2, 2, 4, 4, 2, 2, 4, 2, 1, 1, 0, 0, 5, 4, 2, 2, 2, 2, 2, 4, 0, 2, 4, 2, 2, 2, 4, 2, 1, 4, 3, 3, 4, 4, 0, 2, 4, 2, 2, 2, 2, 1, 3, 4, 2, 4, 4, 1, 1, 4, 3, 0, 4, 4, 2, 4, 0, 4, 4, 4, 2, 5, 1, 4, 1, 2, 1, 0, 4, 3, 0, 1, 0, 4, 4, 2, 4, 2, 4, 2, 2, 0, 2, 4, 1, 1, 4, 2, 4, 4, 4, 3, 3, 2, 3, 4, 2, 2, 4, 1, 4, 1, 2, 4, 1, 4, 2, 4, 4, 1, 0, 1, 1, 2, 2, 2, 4, 2, 2, 4, 2, 2, 0, 3, 1, 1, 2, 2, 4, 4, 2, 2, 2, 1, 2, 2, 2, 2, 3, 2, 0, 4, 3, 2, 0, 4, 1, 4, 2, 1, 4, 0, 0, 0, 0, 3, 1, 4, 1, 4, 2, 2, 2, 2, 2, 0, 2, 4, 4, 2, 2, 1, 4, 1, 4, 2, 0, 4, 2, 0, 1, 3, 3, 2, 2, 0, 1, 0, 2, 2, 2, 4, 5, 4, 3, 2, 1, 2, 4, 4, 3, 0, 2, 3, 0, 2, 2, 4, 2, 4, 4, 0, 1, 1, 2, 4, 1, 4, 3, 2, 1, 3, 2, 0, 0, 0, 5, 2, 2, 2, 0, 2, 0, 4, 2, 2, 2, 0, 0, 2, 2, 1, 4, 3, 2, 1, 2, 4, 4, 4, 2, 5, 0, 2, 0, 2, 2, 0, 1, 2, 1, 3, 2, 5, 3, 1, 2, 2, 0, 1, 2, 4, 2, 4, 2, 4, 3, 1, 4, 4, 4, 2, 3, 4, 2, 2, 4, 1, 0, 4, 4, 4, 4, 2, 4, 2, 4, 0, 0, 2, 2, 1, 1, 0, 1, 2, 4, 4, 2, 5, 4, 3, 3, 3, 0, 2, 0, 1, 1, 4, 0, 4, 4, 2, 2, 4, 2, 1, 2, 0, 4, 1, 1, 0, 2, 3, 0, 3, 0, 2, 0, 2, 0, 4, 4, 1, 4, 4, 4, 2, 2, 3, 1, 4, 4, 4, 4, 4, 4, 2, 1, 2, 4, 1, 2, 2, 2, 4, 2, 2, 2, 2, 4, 4, 3, 4, 4, 4, 2, 4, 1, 5, 1, 1, 2, 2, 0, 2, 0, 2, 0, 4, 0, 2, 2, 0, 3, 2, 4, 0, 1, 3, 0, 2, 4, 0, 4, 4, 5, 3, 4, 2, 5, 1, 4, 0, 1, 1, 2, 2, 0, 1, 2, 2, 2, 2, 4, 5, 2, 4, 0, 2, 3, 4, 4, 2, 0, 4]\n"
          ]
        },
        {
          "output_type": "stream",
          "name": "stderr",
          "text": [
            "/usr/local/lib/python3.7/dist-packages/sklearn/utils/deprecation.py:87: FutureWarning: Function get_feature_names is deprecated; get_feature_names is deprecated in 1.0 and will be removed in 1.2. Please use get_feature_names_out instead.\n",
            "  warnings.warn(msg, category=FutureWarning)\n"
          ]
        }
      ]
    },
    {
      "cell_type": "code",
      "metadata": {
        "id": "1_ri2vPcjaa8"
      },
      "source": [
        "def TextEncoding(tokenizerType,\n",
        "                 dataTextList, \n",
        "                 LabelList, \n",
        "                 batchSize,\n",
        "                 shufflingParameter,\n",
        "                 maxLen):\n",
        "  tokenizer = AutoTokenizer.from_pretrained(tokenizerType)\n",
        "  textEncodings = tokenizer(dataTextList,\n",
        "                            truncation=True, \n",
        "                            max_length = maxLen,\n",
        "                            padding=\"max_length\", \n",
        "                            return_tensors='tf')\n",
        "  \n",
        "  dataset = tf.data.Dataset.from_tensor_slices((\n",
        "    dict(textEncodings),\n",
        "    LabelList\n",
        "    ))\n",
        "  # dataset = dataset.shuffle(shufflingParameter).batch(batchSize)\n",
        "  return dataset,tokenizer"
      ],
      "execution_count": 172,
      "outputs": []
    },
    {
      "cell_type": "markdown",
      "metadata": {
        "id": "8dN3hq8nn3IJ"
      },
      "source": [
        "# **Model Bulding and Training**"
      ]
    },
    {
      "cell_type": "code",
      "metadata": {
        "id": "fFYHDS4vozRo"
      },
      "source": [
        "def CreateModel(model,\n",
        "                numLabels,\n",
        "                maxSentanceLength):\n",
        "  input_ids = tf.keras.layers.Input(shape=(100,),name=\"input_ids\", dtype='int32')\n",
        "  mask = tf.keras.layers.Input(shape=(100,),name=\"attention_mask\",dtype='int32')\n",
        "  embeddings = model(input_ids,attention_mask=mask)[0]\n",
        "  layer = tf.keras.layers.Dropout(0.1)(embeddings)\n",
        "  layer = tf.keras.layers.BatchNormalization()(layer)\n",
        "  layer = tf.keras.layers.Dense(728,activation='relu')(layer)\n",
        "  layer = tf.keras.layers.Dropout(0.2)(layer)\n",
        "  layer = tf.keras.layers.Dense(128,activation='relu')(layer)\n",
        "  layer = tf.keras.layers.Dropout(0.1)(layer)\n",
        "  outputLayer = tf.keras.layers.Dense(6,activation='softmax',name='outputs')(layer)\n",
        "  testModel = tf.keras.Model(inputs=[input_ids,mask],outputs=outputLayer)\n",
        "  return testModel"
      ],
      "execution_count": 173,
      "outputs": []
    },
    {
      "cell_type": "code",
      "metadata": {
        "id": "bIyUN9F8SY1U"
      },
      "source": [
        "def plotEpochs(his, modelName):\n",
        "  plt.plot(hist.history['accuracy'])\n",
        "  plt.plot(hist.history['val_accuracy'])\n",
        "  plt.title(modelName + ' model accuracy')\n",
        "  plt.ylabel('accuracy')\n",
        "  plt.xlabel('epoch')\n",
        "  plt.legend(['train', 'test'], loc='upper left')\n",
        "  plt.show()\n",
        "\n",
        "  plt.plot(hist.history['loss'])\n",
        "  plt.plot(hist.history['val_loss'])\n",
        "  plt.title(modelName + ' model loss')\n",
        "  plt.ylabel('loss')\n",
        "  plt.xlabel('epoch')\n",
        "  plt.legend(['train', 'test'], loc='upper left')\n",
        "  plt.show()"
      ],
      "execution_count": 174,
      "outputs": []
    },
    {
      "cell_type": "code",
      "metadata": {
        "id": "RFsyOOkxTRTL"
      },
      "source": [
        "#Train Parameters\n",
        "maxSentanceLength = 100\n",
        "BatchSize = 16\n",
        "shufflingParameter = 1000\n",
        "Learning_rate=5e-5\n",
        "Epochs=4"
      ],
      "execution_count": 175,
      "outputs": []
    },
    {
      "cell_type": "code",
      "metadata": {
        "id": "r9io9paZQFuy"
      },
      "source": [
        "# Roberta Model\n",
        "trainDataSet,tokenizer = TextEncoding(\"roberta-base\",list(trainData['Text']),encodedTrainLabels,BatchSize,shufflingParameter,maxSentanceLength)\n",
        "valDataSet,tokenizer = TextEncoding(\"roberta-base\",list(valData['Text']),encodedValLabels,BatchSize,shufflingParameter,maxSentanceLength)\n",
        "testDataSet,tokenizer = TextEncoding(\"roberta-base\",list(testData['Text']),encodedTestLabels,BatchSize,shufflingParameter,maxSentanceLength)"
      ],
      "execution_count": 176,
      "outputs": []
    },
    {
      "cell_type": "code",
      "metadata": {
        "id": "DZtHUx3MkBdj",
        "colab": {
          "base_uri": "https://localhost:8080/",
          "height": 790
        },
        "outputId": "1b84b5cd-b46e-4631-a8d0-5e08cae75082"
      },
      "source": [
        "model = TFRobertaForSequenceClassification.from_pretrained('roberta-base',num_labels=6)\n",
        "model = CreateModel(model,6,100)\n",
        "model.compile(optimizer=tf.keras.optimizers.Adam(learning_rate=5e-5), loss=tf.keras.losses.SparseCategoricalCrossentropy(), \n",
        "              metrics=['accuracy'])\n",
        "hist = model.fit(trainDataSet.batch(16),\n",
        "          epochs=1,\n",
        "          batch_size=16,\n",
        "          validation_data =valDataSet.batch(16))"
      ],
      "execution_count": 179,
      "outputs": [
        {
          "output_type": "error",
          "ename": "ResourceExhaustedError",
          "evalue": "ignored",
          "traceback": [
            "\u001b[0;31m---------------------------------------------------------------------------\u001b[0m",
            "\u001b[0;31mResourceExhaustedError\u001b[0m                    Traceback (most recent call last)",
            "\u001b[0;32m<ipython-input-179-b23868e460dc>\u001b[0m in \u001b[0;36m<module>\u001b[0;34m()\u001b[0m\n\u001b[0;32m----> 1\u001b[0;31m \u001b[0mmodel\u001b[0m \u001b[0;34m=\u001b[0m \u001b[0mTFRobertaForSequenceClassification\u001b[0m\u001b[0;34m.\u001b[0m\u001b[0mfrom_pretrained\u001b[0m\u001b[0;34m(\u001b[0m\u001b[0;34m'roberta-base'\u001b[0m\u001b[0;34m,\u001b[0m\u001b[0mnum_labels\u001b[0m\u001b[0;34m=\u001b[0m\u001b[0;36m6\u001b[0m\u001b[0;34m)\u001b[0m\u001b[0;34m\u001b[0m\u001b[0;34m\u001b[0m\u001b[0m\n\u001b[0m\u001b[1;32m      2\u001b[0m \u001b[0mmodel\u001b[0m \u001b[0;34m=\u001b[0m \u001b[0mCreateModel\u001b[0m\u001b[0;34m(\u001b[0m\u001b[0mmodel\u001b[0m\u001b[0;34m,\u001b[0m\u001b[0;36m6\u001b[0m\u001b[0;34m,\u001b[0m\u001b[0;36m100\u001b[0m\u001b[0;34m)\u001b[0m\u001b[0;34m\u001b[0m\u001b[0;34m\u001b[0m\u001b[0m\n\u001b[1;32m      3\u001b[0m model.compile(optimizer=tf.keras.optimizers.Adam(learning_rate=5e-5), loss=tf.keras.losses.SparseCategoricalCrossentropy(), \n\u001b[1;32m      4\u001b[0m               metrics=['accuracy'])\n\u001b[1;32m      5\u001b[0m hist = model.fit(trainDataSet.batch(16),\n",
            "\u001b[0;32m/usr/local/lib/python3.7/dist-packages/transformers/modeling_tf_utils.py\u001b[0m in \u001b[0;36mfrom_pretrained\u001b[0;34m(cls, pretrained_model_name_or_path, *model_args, **kwargs)\u001b[0m\n\u001b[1;32m   1465\u001b[0m                 \u001b[0mmodel\u001b[0m\u001b[0;34m(\u001b[0m\u001b[0mmodel\u001b[0m\u001b[0;34m.\u001b[0m\u001b[0mdummy_inputs\u001b[0m\u001b[0;34m)\u001b[0m  \u001b[0;31m# build the network with dummy inputs\u001b[0m\u001b[0;34m\u001b[0m\u001b[0;34m\u001b[0m\u001b[0m\n\u001b[1;32m   1466\u001b[0m         \u001b[0;32melse\u001b[0m\u001b[0;34m:\u001b[0m\u001b[0;34m\u001b[0m\u001b[0;34m\u001b[0m\u001b[0m\n\u001b[0;32m-> 1467\u001b[0;31m             \u001b[0mmodel\u001b[0m\u001b[0;34m(\u001b[0m\u001b[0mmodel\u001b[0m\u001b[0;34m.\u001b[0m\u001b[0mdummy_inputs\u001b[0m\u001b[0;34m)\u001b[0m  \u001b[0;31m# build the network with dummy inputs\u001b[0m\u001b[0;34m\u001b[0m\u001b[0;34m\u001b[0m\u001b[0m\n\u001b[0m\u001b[1;32m   1468\u001b[0m \u001b[0;34m\u001b[0m\u001b[0m\n\u001b[1;32m   1469\u001b[0m         \u001b[0;32massert\u001b[0m \u001b[0mos\u001b[0m\u001b[0;34m.\u001b[0m\u001b[0mpath\u001b[0m\u001b[0;34m.\u001b[0m\u001b[0misfile\u001b[0m\u001b[0;34m(\u001b[0m\u001b[0mresolved_archive_file\u001b[0m\u001b[0;34m)\u001b[0m\u001b[0;34m,\u001b[0m \u001b[0;34mf\"Error retrieving file {resolved_archive_file}\"\u001b[0m\u001b[0;34m\u001b[0m\u001b[0;34m\u001b[0m\u001b[0m\n",
            "\u001b[0;32m/usr/local/lib/python3.7/dist-packages/keras/utils/traceback_utils.py\u001b[0m in \u001b[0;36merror_handler\u001b[0;34m(*args, **kwargs)\u001b[0m\n\u001b[1;32m     65\u001b[0m     \u001b[0;32mexcept\u001b[0m \u001b[0mException\u001b[0m \u001b[0;32mas\u001b[0m \u001b[0me\u001b[0m\u001b[0;34m:\u001b[0m  \u001b[0;31m# pylint: disable=broad-except\u001b[0m\u001b[0;34m\u001b[0m\u001b[0;34m\u001b[0m\u001b[0m\n\u001b[1;32m     66\u001b[0m       \u001b[0mfiltered_tb\u001b[0m \u001b[0;34m=\u001b[0m \u001b[0m_process_traceback_frames\u001b[0m\u001b[0;34m(\u001b[0m\u001b[0me\u001b[0m\u001b[0;34m.\u001b[0m\u001b[0m__traceback__\u001b[0m\u001b[0;34m)\u001b[0m\u001b[0;34m\u001b[0m\u001b[0;34m\u001b[0m\u001b[0m\n\u001b[0;32m---> 67\u001b[0;31m       \u001b[0;32mraise\u001b[0m \u001b[0me\u001b[0m\u001b[0;34m.\u001b[0m\u001b[0mwith_traceback\u001b[0m\u001b[0;34m(\u001b[0m\u001b[0mfiltered_tb\u001b[0m\u001b[0;34m)\u001b[0m \u001b[0;32mfrom\u001b[0m \u001b[0;32mNone\u001b[0m\u001b[0;34m\u001b[0m\u001b[0;34m\u001b[0m\u001b[0m\n\u001b[0m\u001b[1;32m     68\u001b[0m     \u001b[0;32mfinally\u001b[0m\u001b[0;34m:\u001b[0m\u001b[0;34m\u001b[0m\u001b[0;34m\u001b[0m\u001b[0m\n\u001b[1;32m     69\u001b[0m       \u001b[0;32mdel\u001b[0m \u001b[0mfiltered_tb\u001b[0m\u001b[0;34m\u001b[0m\u001b[0;34m\u001b[0m\u001b[0m\n",
            "\u001b[0;32m/usr/local/lib/python3.7/dist-packages/transformers/models/roberta/modeling_tf_roberta.py\u001b[0m in \u001b[0;36mcall\u001b[0;34m(self, input_ids, attention_mask, token_type_ids, position_ids, head_mask, inputs_embeds, output_attentions, output_hidden_states, return_dict, labels, training, **kwargs)\u001b[0m\n\u001b[1;32m   1445\u001b[0m             \u001b[0moutput_hidden_states\u001b[0m\u001b[0;34m=\u001b[0m\u001b[0minputs\u001b[0m\u001b[0;34m[\u001b[0m\u001b[0;34m\"output_hidden_states\"\u001b[0m\u001b[0;34m]\u001b[0m\u001b[0;34m,\u001b[0m\u001b[0;34m\u001b[0m\u001b[0;34m\u001b[0m\u001b[0m\n\u001b[1;32m   1446\u001b[0m             \u001b[0mreturn_dict\u001b[0m\u001b[0;34m=\u001b[0m\u001b[0minputs\u001b[0m\u001b[0;34m[\u001b[0m\u001b[0;34m\"return_dict\"\u001b[0m\u001b[0;34m]\u001b[0m\u001b[0;34m,\u001b[0m\u001b[0;34m\u001b[0m\u001b[0;34m\u001b[0m\u001b[0m\n\u001b[0;32m-> 1447\u001b[0;31m             \u001b[0mtraining\u001b[0m\u001b[0;34m=\u001b[0m\u001b[0minputs\u001b[0m\u001b[0;34m[\u001b[0m\u001b[0;34m\"training\"\u001b[0m\u001b[0;34m]\u001b[0m\u001b[0;34m,\u001b[0m\u001b[0;34m\u001b[0m\u001b[0;34m\u001b[0m\u001b[0m\n\u001b[0m\u001b[1;32m   1448\u001b[0m         )\n\u001b[1;32m   1449\u001b[0m         \u001b[0msequence_output\u001b[0m \u001b[0;34m=\u001b[0m \u001b[0moutputs\u001b[0m\u001b[0;34m[\u001b[0m\u001b[0;36m0\u001b[0m\u001b[0;34m]\u001b[0m\u001b[0;34m\u001b[0m\u001b[0;34m\u001b[0m\u001b[0m\n",
            "\u001b[0;32m/usr/local/lib/python3.7/dist-packages/transformers/models/roberta/modeling_tf_roberta.py\u001b[0m in \u001b[0;36mcall\u001b[0;34m(self, input_ids, attention_mask, token_type_ids, position_ids, head_mask, inputs_embeds, encoder_hidden_states, encoder_attention_mask, past_key_values, use_cache, output_attentions, output_hidden_states, return_dict, training, **kwargs)\u001b[0m\n\u001b[1;32m    680\u001b[0m             \u001b[0minputs_embeds\u001b[0m\u001b[0;34m=\u001b[0m\u001b[0minputs\u001b[0m\u001b[0;34m[\u001b[0m\u001b[0;34m\"inputs_embeds\"\u001b[0m\u001b[0;34m]\u001b[0m\u001b[0;34m,\u001b[0m\u001b[0;34m\u001b[0m\u001b[0;34m\u001b[0m\u001b[0m\n\u001b[1;32m    681\u001b[0m             \u001b[0mpast_key_values_length\u001b[0m\u001b[0;34m=\u001b[0m\u001b[0mpast_key_values_length\u001b[0m\u001b[0;34m,\u001b[0m\u001b[0;34m\u001b[0m\u001b[0;34m\u001b[0m\u001b[0m\n\u001b[0;32m--> 682\u001b[0;31m             \u001b[0mtraining\u001b[0m\u001b[0;34m=\u001b[0m\u001b[0minputs\u001b[0m\u001b[0;34m[\u001b[0m\u001b[0;34m\"training\"\u001b[0m\u001b[0;34m]\u001b[0m\u001b[0;34m,\u001b[0m\u001b[0;34m\u001b[0m\u001b[0;34m\u001b[0m\u001b[0m\n\u001b[0m\u001b[1;32m    683\u001b[0m         )\n\u001b[1;32m    684\u001b[0m \u001b[0;34m\u001b[0m\u001b[0m\n",
            "\u001b[0;32m/usr/local/lib/python3.7/dist-packages/transformers/models/roberta/modeling_tf_roberta.py\u001b[0m in \u001b[0;36mbuild\u001b[0;34m(self, input_shape)\u001b[0m\n\u001b[1;32m     97\u001b[0m                 \u001b[0mname\u001b[0m\u001b[0;34m=\u001b[0m\u001b[0;34m\"weight\"\u001b[0m\u001b[0;34m,\u001b[0m\u001b[0;34m\u001b[0m\u001b[0;34m\u001b[0m\u001b[0m\n\u001b[1;32m     98\u001b[0m                 \u001b[0mshape\u001b[0m\u001b[0;34m=\u001b[0m\u001b[0;34m[\u001b[0m\u001b[0mself\u001b[0m\u001b[0;34m.\u001b[0m\u001b[0mvocab_size\u001b[0m\u001b[0;34m,\u001b[0m \u001b[0mself\u001b[0m\u001b[0;34m.\u001b[0m\u001b[0mhidden_size\u001b[0m\u001b[0;34m]\u001b[0m\u001b[0;34m,\u001b[0m\u001b[0;34m\u001b[0m\u001b[0;34m\u001b[0m\u001b[0m\n\u001b[0;32m---> 99\u001b[0;31m                 \u001b[0minitializer\u001b[0m\u001b[0;34m=\u001b[0m\u001b[0mget_initializer\u001b[0m\u001b[0;34m(\u001b[0m\u001b[0mself\u001b[0m\u001b[0;34m.\u001b[0m\u001b[0minitializer_range\u001b[0m\u001b[0;34m)\u001b[0m\u001b[0;34m,\u001b[0m\u001b[0;34m\u001b[0m\u001b[0;34m\u001b[0m\u001b[0m\n\u001b[0m\u001b[1;32m    100\u001b[0m             )\n\u001b[1;32m    101\u001b[0m \u001b[0;34m\u001b[0m\u001b[0m\n",
            "\u001b[0;31mResourceExhaustedError\u001b[0m: Exception encountered when calling layer \"roberta\" (type TFRobertaMainLayer).\n\nOOM when allocating tensor with shape[50265,768] and type float on /job:localhost/replica:0/task:0/device:GPU:0 by allocator GPU_0_bfc [Op:TruncatedNormal]\n\nCall arguments received:\n  • input_ids=tf.Tensor(shape=(3, 5), dtype=int32)\n  • attention_mask=None\n  • token_type_ids=None\n  • position_ids=None\n  • head_mask=None\n  • inputs_embeds=None\n  • encoder_hidden_states=None\n  • encoder_attention_mask=None\n  • past_key_values=None\n  • use_cache=None\n  • output_attentions=False\n  • output_hidden_states=False\n  • return_dict=True\n  • training=False\n  • kwargs=<class 'inspect._empty'>"
          ]
        }
      ]
    },
    {
      "cell_type": "code",
      "metadata": {
        "id": "DYtpPU4368a6"
      },
      "source": [
        "!rm -rf /home/*\n",
        "model.save_weights('/home/Roberta-Trained.h5')\n",
        "model.save_spec()\n",
        "# tf.saved_model.save(model, '/home/Roberta-Trained3')"
      ],
      "execution_count": 139,
      "outputs": []
    },
    {
      "cell_type": "code",
      "metadata": {
        "id": "G-CQ9-rn7M7D",
        "colab": {
          "base_uri": "https://localhost:8080/"
        },
        "outputId": "e9a651cb-c5e8-460e-e7e6-677ec33c478d"
      },
      "source": [
        "model = TFRobertaForSequenceClassification.from_pretrained('roberta-base',num_labels=6)\n",
        "model = CreateModel(model,6,100)\n",
        "model.load_weights('/home/Roberta-Trained.h5')\n",
        "# new_moedl = tf.keras.models.load_model(\n",
        "#     \"/home/Roberta-Trained4\"\n",
        "# )"
      ],
      "execution_count": 140,
      "outputs": [
        {
          "output_type": "stream",
          "name": "stderr",
          "text": [
            "All model checkpoint layers were used when initializing TFRobertaForSequenceClassification.\n",
            "\n",
            "Some layers of TFRobertaForSequenceClassification were not initialized from the model checkpoint at roberta-base and are newly initialized: ['classifier']\n",
            "You should probably TRAIN this model on a down-stream task to be able to use it for predictions and inference.\n"
          ]
        }
      ]
    },
    {
      "cell_type": "code",
      "metadata": {
        "id": "wqnYeTfcbL1-"
      },
      "source": [
        ""
      ],
      "execution_count": null,
      "outputs": []
    },
    {
      "cell_type": "code",
      "metadata": {
        "id": "F_0-Vnj-7oy0"
      },
      "source": [
        "from tensorflow.keras.models import load_model\n",
        "model = load_model('Roberta-Trained1.h5')"
      ],
      "execution_count": null,
      "outputs": []
    },
    {
      "cell_type": "code",
      "metadata": {
        "id": "CKD8bHS57tSr"
      },
      "source": [
        "def preData(text):\n",
        "  textEncodings=tokenizer.encode_plus(text,\n",
        "                              truncation=True, \n",
        "                              max_length = 100,\n",
        "                              padding=\"max_length\", \n",
        "                              return_tensors='tf')\n",
        "  return {\n",
        "      'input_ids': tf.cast(textEncodings['input_ids'],tf.int32),\n",
        "      'attention_mask': tf.cast(textEncodings['attention_mask'],tf.int32)\n",
        "  }\n"
      ],
      "execution_count": 141,
      "outputs": []
    },
    {
      "cell_type": "code",
      "metadata": {
        "id": "8O1Z4PZ8_zED"
      },
      "source": [
        "sent = 'surprise.'\n",
        "tok=preData(sent)\n",
        "probs = model.predict(tok)"
      ],
      "execution_count": 156,
      "outputs": []
    },
    {
      "cell_type": "code",
      "metadata": {
        "id": "yZz4n762w_wv",
        "outputId": "89d2ef02-4599-4b8a-bafe-df5b9ebc03d7",
        "colab": {
          "base_uri": "https://localhost:8080/"
        }
      },
      "source": [
        "print(testDataSet."
      ],
      "execution_count": 159,
      "outputs": [
        {
          "output_type": "stream",
          "name": "stdout",
          "text": [
            "<TakeDataset shapes: ({input_ids: (100,), attention_mask: (100,)}, ()), types: ({input_ids: tf.int32, attention_mask: tf.int32}, tf.int32)>\n"
          ]
        }
      ]
    },
    {
      "cell_type": "code",
      "metadata": {
        "id": "LoiZMlLIA-yO",
        "colab": {
          "base_uri": "https://localhost:8080/"
        },
        "outputId": "9049eabf-e01e-4786-8ce5-5e079e3fb5c8"
      },
      "source": [
        "np.argmax(probs[0])\n"
      ],
      "execution_count": 157,
      "outputs": [
        {
          "output_type": "execute_result",
          "data": {
            "text/plain": [
              "2"
            ]
          },
          "metadata": {},
          "execution_count": 157
        }
      ]
    },
    {
      "cell_type": "code",
      "metadata": {
        "id": "CYcFqh8RBJuQ",
        "colab": {
          "base_uri": "https://localhost:8080/"
        },
        "outputId": "7ffb7a3c-c42a-457e-f908-3ad5760204b9"
      },
      "source": [
        "TrainLabelFeatureNames\n"
      ],
      "execution_count": 149,
      "outputs": [
        {
          "output_type": "execute_result",
          "data": {
            "text/plain": [
              "['anger', 'fear', 'joy', 'love', 'sadness', 'surprise']"
            ]
          },
          "metadata": {},
          "execution_count": 149
        }
      ]
    },
    {
      "cell_type": "code",
      "metadata": {
        "id": "5PDQ0ifZYi7P"
      },
      "source": [
        "!transformers-cli login\n"
      ],
      "execution_count": null,
      "outputs": []
    },
    {
      "cell_type": "code",
      "metadata": {
        "id": "wsbhWnrdYrQu"
      },
      "source": [
        "!sudo apt-get install git-lfs"
      ],
      "execution_count": null,
      "outputs": []
    },
    {
      "cell_type": "code",
      "metadata": {
        "id": "511d3TlQYwH_"
      },
      "source": [
        "\n",
        "from transformers import AutoModel\n",
        "model"
      ],
      "execution_count": null,
      "outputs": []
    }
  ]
}