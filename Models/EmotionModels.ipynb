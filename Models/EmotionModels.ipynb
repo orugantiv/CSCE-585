{
  "nbformat": 4,
  "nbformat_minor": 0,
  "metadata": {
    "orig_nbformat": 4,
    "colab": {
      "name": "EmotionModels.ipynb",
      "provenance": [],
      "toc_visible": true
    },
    "language_info": {
      "name": "python"
    },
    "kernelspec": {
      "name": "python3",
      "display_name": "Python 3"
    },
    "accelerator": "GPU",
    "widgets": {
      "application/vnd.jupyter.widget-state+json": {
        "c07519c2eb8041c6bbda71b63d600093": {
          "model_module": "@jupyter-widgets/controls",
          "model_name": "HBoxModel",
          "model_module_version": "1.5.0",
          "state": {
            "_view_name": "HBoxView",
            "_dom_classes": [],
            "_model_name": "HBoxModel",
            "_view_module": "@jupyter-widgets/controls",
            "_model_module_version": "1.5.0",
            "_view_count": null,
            "_view_module_version": "1.5.0",
            "box_style": "",
            "layout": "IPY_MODEL_2fb3c00694874500a8de08ebdfcdf128",
            "_model_module": "@jupyter-widgets/controls",
            "children": [
              "IPY_MODEL_143d4df31b8d465ea5029dcd00274962",
              "IPY_MODEL_0e38c7a0a9b749f2abdd7cbf7e2c17f4",
              "IPY_MODEL_1b53d90a6e0144729106e216e1c1fbba"
            ]
          }
        },
        "2fb3c00694874500a8de08ebdfcdf128": {
          "model_module": "@jupyter-widgets/base",
          "model_name": "LayoutModel",
          "model_module_version": "1.2.0",
          "state": {
            "_view_name": "LayoutView",
            "grid_template_rows": null,
            "right": null,
            "justify_content": null,
            "_view_module": "@jupyter-widgets/base",
            "overflow": null,
            "_model_module_version": "1.2.0",
            "_view_count": null,
            "flex_flow": null,
            "width": null,
            "min_width": null,
            "border": null,
            "align_items": null,
            "bottom": null,
            "_model_module": "@jupyter-widgets/base",
            "top": null,
            "grid_column": null,
            "overflow_y": null,
            "overflow_x": null,
            "grid_auto_flow": null,
            "grid_area": null,
            "grid_template_columns": null,
            "flex": null,
            "_model_name": "LayoutModel",
            "justify_items": null,
            "grid_row": null,
            "max_height": null,
            "align_content": null,
            "visibility": null,
            "align_self": null,
            "height": null,
            "min_height": null,
            "padding": null,
            "grid_auto_rows": null,
            "grid_gap": null,
            "max_width": null,
            "order": null,
            "_view_module_version": "1.2.0",
            "grid_template_areas": null,
            "object_position": null,
            "object_fit": null,
            "grid_auto_columns": null,
            "margin": null,
            "display": null,
            "left": null
          }
        },
        "143d4df31b8d465ea5029dcd00274962": {
          "model_module": "@jupyter-widgets/controls",
          "model_name": "HTMLModel",
          "model_module_version": "1.5.0",
          "state": {
            "_view_name": "HTMLView",
            "style": "IPY_MODEL_b88542fa616640629af676a9210b9f19",
            "_dom_classes": [],
            "description": "",
            "_model_name": "HTMLModel",
            "placeholder": "​",
            "_view_module": "@jupyter-widgets/controls",
            "_model_module_version": "1.5.0",
            "value": "Downloading: 100%",
            "_view_count": null,
            "_view_module_version": "1.5.0",
            "description_tooltip": null,
            "_model_module": "@jupyter-widgets/controls",
            "layout": "IPY_MODEL_4c63c1494ebb4861b5676e5fb7dc62bd"
          }
        },
        "0e38c7a0a9b749f2abdd7cbf7e2c17f4": {
          "model_module": "@jupyter-widgets/controls",
          "model_name": "FloatProgressModel",
          "model_module_version": "1.5.0",
          "state": {
            "_view_name": "ProgressView",
            "style": "IPY_MODEL_93d106f207b74683b7e14bc7e0db1af3",
            "_dom_classes": [],
            "description": "",
            "_model_name": "FloatProgressModel",
            "bar_style": "success",
            "max": 28,
            "_view_module": "@jupyter-widgets/controls",
            "_model_module_version": "1.5.0",
            "value": 28,
            "_view_count": null,
            "_view_module_version": "1.5.0",
            "orientation": "horizontal",
            "min": 0,
            "description_tooltip": null,
            "_model_module": "@jupyter-widgets/controls",
            "layout": "IPY_MODEL_603b05e109904d098b82d2e8311adcb5"
          }
        },
        "1b53d90a6e0144729106e216e1c1fbba": {
          "model_module": "@jupyter-widgets/controls",
          "model_name": "HTMLModel",
          "model_module_version": "1.5.0",
          "state": {
            "_view_name": "HTMLView",
            "style": "IPY_MODEL_fa73f35eac8641b8b74665f966393092",
            "_dom_classes": [],
            "description": "",
            "_model_name": "HTMLModel",
            "placeholder": "​",
            "_view_module": "@jupyter-widgets/controls",
            "_model_module_version": "1.5.0",
            "value": " 28.0/28.0 [00:00&lt;00:00, 655B/s]",
            "_view_count": null,
            "_view_module_version": "1.5.0",
            "description_tooltip": null,
            "_model_module": "@jupyter-widgets/controls",
            "layout": "IPY_MODEL_d786dc9e47a144e0b171cd2cf55bbb69"
          }
        },
        "b88542fa616640629af676a9210b9f19": {
          "model_module": "@jupyter-widgets/controls",
          "model_name": "DescriptionStyleModel",
          "model_module_version": "1.5.0",
          "state": {
            "_view_name": "StyleView",
            "_model_name": "DescriptionStyleModel",
            "description_width": "",
            "_view_module": "@jupyter-widgets/base",
            "_model_module_version": "1.5.0",
            "_view_count": null,
            "_view_module_version": "1.2.0",
            "_model_module": "@jupyter-widgets/controls"
          }
        },
        "4c63c1494ebb4861b5676e5fb7dc62bd": {
          "model_module": "@jupyter-widgets/base",
          "model_name": "LayoutModel",
          "model_module_version": "1.2.0",
          "state": {
            "_view_name": "LayoutView",
            "grid_template_rows": null,
            "right": null,
            "justify_content": null,
            "_view_module": "@jupyter-widgets/base",
            "overflow": null,
            "_model_module_version": "1.2.0",
            "_view_count": null,
            "flex_flow": null,
            "width": null,
            "min_width": null,
            "border": null,
            "align_items": null,
            "bottom": null,
            "_model_module": "@jupyter-widgets/base",
            "top": null,
            "grid_column": null,
            "overflow_y": null,
            "overflow_x": null,
            "grid_auto_flow": null,
            "grid_area": null,
            "grid_template_columns": null,
            "flex": null,
            "_model_name": "LayoutModel",
            "justify_items": null,
            "grid_row": null,
            "max_height": null,
            "align_content": null,
            "visibility": null,
            "align_self": null,
            "height": null,
            "min_height": null,
            "padding": null,
            "grid_auto_rows": null,
            "grid_gap": null,
            "max_width": null,
            "order": null,
            "_view_module_version": "1.2.0",
            "grid_template_areas": null,
            "object_position": null,
            "object_fit": null,
            "grid_auto_columns": null,
            "margin": null,
            "display": null,
            "left": null
          }
        },
        "93d106f207b74683b7e14bc7e0db1af3": {
          "model_module": "@jupyter-widgets/controls",
          "model_name": "ProgressStyleModel",
          "model_module_version": "1.5.0",
          "state": {
            "_view_name": "StyleView",
            "_model_name": "ProgressStyleModel",
            "description_width": "",
            "_view_module": "@jupyter-widgets/base",
            "_model_module_version": "1.5.0",
            "_view_count": null,
            "_view_module_version": "1.2.0",
            "bar_color": null,
            "_model_module": "@jupyter-widgets/controls"
          }
        },
        "603b05e109904d098b82d2e8311adcb5": {
          "model_module": "@jupyter-widgets/base",
          "model_name": "LayoutModel",
          "model_module_version": "1.2.0",
          "state": {
            "_view_name": "LayoutView",
            "grid_template_rows": null,
            "right": null,
            "justify_content": null,
            "_view_module": "@jupyter-widgets/base",
            "overflow": null,
            "_model_module_version": "1.2.0",
            "_view_count": null,
            "flex_flow": null,
            "width": null,
            "min_width": null,
            "border": null,
            "align_items": null,
            "bottom": null,
            "_model_module": "@jupyter-widgets/base",
            "top": null,
            "grid_column": null,
            "overflow_y": null,
            "overflow_x": null,
            "grid_auto_flow": null,
            "grid_area": null,
            "grid_template_columns": null,
            "flex": null,
            "_model_name": "LayoutModel",
            "justify_items": null,
            "grid_row": null,
            "max_height": null,
            "align_content": null,
            "visibility": null,
            "align_self": null,
            "height": null,
            "min_height": null,
            "padding": null,
            "grid_auto_rows": null,
            "grid_gap": null,
            "max_width": null,
            "order": null,
            "_view_module_version": "1.2.0",
            "grid_template_areas": null,
            "object_position": null,
            "object_fit": null,
            "grid_auto_columns": null,
            "margin": null,
            "display": null,
            "left": null
          }
        },
        "fa73f35eac8641b8b74665f966393092": {
          "model_module": "@jupyter-widgets/controls",
          "model_name": "DescriptionStyleModel",
          "model_module_version": "1.5.0",
          "state": {
            "_view_name": "StyleView",
            "_model_name": "DescriptionStyleModel",
            "description_width": "",
            "_view_module": "@jupyter-widgets/base",
            "_model_module_version": "1.5.0",
            "_view_count": null,
            "_view_module_version": "1.2.0",
            "_model_module": "@jupyter-widgets/controls"
          }
        },
        "d786dc9e47a144e0b171cd2cf55bbb69": {
          "model_module": "@jupyter-widgets/base",
          "model_name": "LayoutModel",
          "model_module_version": "1.2.0",
          "state": {
            "_view_name": "LayoutView",
            "grid_template_rows": null,
            "right": null,
            "justify_content": null,
            "_view_module": "@jupyter-widgets/base",
            "overflow": null,
            "_model_module_version": "1.2.0",
            "_view_count": null,
            "flex_flow": null,
            "width": null,
            "min_width": null,
            "border": null,
            "align_items": null,
            "bottom": null,
            "_model_module": "@jupyter-widgets/base",
            "top": null,
            "grid_column": null,
            "overflow_y": null,
            "overflow_x": null,
            "grid_auto_flow": null,
            "grid_area": null,
            "grid_template_columns": null,
            "flex": null,
            "_model_name": "LayoutModel",
            "justify_items": null,
            "grid_row": null,
            "max_height": null,
            "align_content": null,
            "visibility": null,
            "align_self": null,
            "height": null,
            "min_height": null,
            "padding": null,
            "grid_auto_rows": null,
            "grid_gap": null,
            "max_width": null,
            "order": null,
            "_view_module_version": "1.2.0",
            "grid_template_areas": null,
            "object_position": null,
            "object_fit": null,
            "grid_auto_columns": null,
            "margin": null,
            "display": null,
            "left": null
          }
        },
        "9d7cdb05c1af43bd946469c94ec81620": {
          "model_module": "@jupyter-widgets/controls",
          "model_name": "HBoxModel",
          "model_module_version": "1.5.0",
          "state": {
            "_view_name": "HBoxView",
            "_dom_classes": [],
            "_model_name": "HBoxModel",
            "_view_module": "@jupyter-widgets/controls",
            "_model_module_version": "1.5.0",
            "_view_count": null,
            "_view_module_version": "1.5.0",
            "box_style": "",
            "layout": "IPY_MODEL_1c44251e72b2405caeb76da66bbe26e3",
            "_model_module": "@jupyter-widgets/controls",
            "children": [
              "IPY_MODEL_ffa21e11bb5a4070a74d7834c8213839",
              "IPY_MODEL_43b852066e784b90b4ba5f1bd258f5f5",
              "IPY_MODEL_dba5ec0f6a6e4cabbed4b50431a49edb"
            ]
          }
        },
        "1c44251e72b2405caeb76da66bbe26e3": {
          "model_module": "@jupyter-widgets/base",
          "model_name": "LayoutModel",
          "model_module_version": "1.2.0",
          "state": {
            "_view_name": "LayoutView",
            "grid_template_rows": null,
            "right": null,
            "justify_content": null,
            "_view_module": "@jupyter-widgets/base",
            "overflow": null,
            "_model_module_version": "1.2.0",
            "_view_count": null,
            "flex_flow": null,
            "width": null,
            "min_width": null,
            "border": null,
            "align_items": null,
            "bottom": null,
            "_model_module": "@jupyter-widgets/base",
            "top": null,
            "grid_column": null,
            "overflow_y": null,
            "overflow_x": null,
            "grid_auto_flow": null,
            "grid_area": null,
            "grid_template_columns": null,
            "flex": null,
            "_model_name": "LayoutModel",
            "justify_items": null,
            "grid_row": null,
            "max_height": null,
            "align_content": null,
            "visibility": null,
            "align_self": null,
            "height": null,
            "min_height": null,
            "padding": null,
            "grid_auto_rows": null,
            "grid_gap": null,
            "max_width": null,
            "order": null,
            "_view_module_version": "1.2.0",
            "grid_template_areas": null,
            "object_position": null,
            "object_fit": null,
            "grid_auto_columns": null,
            "margin": null,
            "display": null,
            "left": null
          }
        },
        "ffa21e11bb5a4070a74d7834c8213839": {
          "model_module": "@jupyter-widgets/controls",
          "model_name": "HTMLModel",
          "model_module_version": "1.5.0",
          "state": {
            "_view_name": "HTMLView",
            "style": "IPY_MODEL_f305f9445abe462fb463ec6765ee4900",
            "_dom_classes": [],
            "description": "",
            "_model_name": "HTMLModel",
            "placeholder": "​",
            "_view_module": "@jupyter-widgets/controls",
            "_model_module_version": "1.5.0",
            "value": "Downloading: 100%",
            "_view_count": null,
            "_view_module_version": "1.5.0",
            "description_tooltip": null,
            "_model_module": "@jupyter-widgets/controls",
            "layout": "IPY_MODEL_b639d2c835dd4fa59e7dc9657a3f5eb0"
          }
        },
        "43b852066e784b90b4ba5f1bd258f5f5": {
          "model_module": "@jupyter-widgets/controls",
          "model_name": "FloatProgressModel",
          "model_module_version": "1.5.0",
          "state": {
            "_view_name": "ProgressView",
            "style": "IPY_MODEL_0c6b90d3738c4c248cdd37c4584fb23d",
            "_dom_classes": [],
            "description": "",
            "_model_name": "FloatProgressModel",
            "bar_style": "success",
            "max": 570,
            "_view_module": "@jupyter-widgets/controls",
            "_model_module_version": "1.5.0",
            "value": 570,
            "_view_count": null,
            "_view_module_version": "1.5.0",
            "orientation": "horizontal",
            "min": 0,
            "description_tooltip": null,
            "_model_module": "@jupyter-widgets/controls",
            "layout": "IPY_MODEL_4e2c273360344e56b7af6ffec2b34831"
          }
        },
        "dba5ec0f6a6e4cabbed4b50431a49edb": {
          "model_module": "@jupyter-widgets/controls",
          "model_name": "HTMLModel",
          "model_module_version": "1.5.0",
          "state": {
            "_view_name": "HTMLView",
            "style": "IPY_MODEL_c147975a10584116ace794cdeae07fe9",
            "_dom_classes": [],
            "description": "",
            "_model_name": "HTMLModel",
            "placeholder": "​",
            "_view_module": "@jupyter-widgets/controls",
            "_model_module_version": "1.5.0",
            "value": " 570/570 [00:00&lt;00:00, 14.0kB/s]",
            "_view_count": null,
            "_view_module_version": "1.5.0",
            "description_tooltip": null,
            "_model_module": "@jupyter-widgets/controls",
            "layout": "IPY_MODEL_5c26d52ca94d4eb1b743539844e62313"
          }
        },
        "f305f9445abe462fb463ec6765ee4900": {
          "model_module": "@jupyter-widgets/controls",
          "model_name": "DescriptionStyleModel",
          "model_module_version": "1.5.0",
          "state": {
            "_view_name": "StyleView",
            "_model_name": "DescriptionStyleModel",
            "description_width": "",
            "_view_module": "@jupyter-widgets/base",
            "_model_module_version": "1.5.0",
            "_view_count": null,
            "_view_module_version": "1.2.0",
            "_model_module": "@jupyter-widgets/controls"
          }
        },
        "b639d2c835dd4fa59e7dc9657a3f5eb0": {
          "model_module": "@jupyter-widgets/base",
          "model_name": "LayoutModel",
          "model_module_version": "1.2.0",
          "state": {
            "_view_name": "LayoutView",
            "grid_template_rows": null,
            "right": null,
            "justify_content": null,
            "_view_module": "@jupyter-widgets/base",
            "overflow": null,
            "_model_module_version": "1.2.0",
            "_view_count": null,
            "flex_flow": null,
            "width": null,
            "min_width": null,
            "border": null,
            "align_items": null,
            "bottom": null,
            "_model_module": "@jupyter-widgets/base",
            "top": null,
            "grid_column": null,
            "overflow_y": null,
            "overflow_x": null,
            "grid_auto_flow": null,
            "grid_area": null,
            "grid_template_columns": null,
            "flex": null,
            "_model_name": "LayoutModel",
            "justify_items": null,
            "grid_row": null,
            "max_height": null,
            "align_content": null,
            "visibility": null,
            "align_self": null,
            "height": null,
            "min_height": null,
            "padding": null,
            "grid_auto_rows": null,
            "grid_gap": null,
            "max_width": null,
            "order": null,
            "_view_module_version": "1.2.0",
            "grid_template_areas": null,
            "object_position": null,
            "object_fit": null,
            "grid_auto_columns": null,
            "margin": null,
            "display": null,
            "left": null
          }
        },
        "0c6b90d3738c4c248cdd37c4584fb23d": {
          "model_module": "@jupyter-widgets/controls",
          "model_name": "ProgressStyleModel",
          "model_module_version": "1.5.0",
          "state": {
            "_view_name": "StyleView",
            "_model_name": "ProgressStyleModel",
            "description_width": "",
            "_view_module": "@jupyter-widgets/base",
            "_model_module_version": "1.5.0",
            "_view_count": null,
            "_view_module_version": "1.2.0",
            "bar_color": null,
            "_model_module": "@jupyter-widgets/controls"
          }
        },
        "4e2c273360344e56b7af6ffec2b34831": {
          "model_module": "@jupyter-widgets/base",
          "model_name": "LayoutModel",
          "model_module_version": "1.2.0",
          "state": {
            "_view_name": "LayoutView",
            "grid_template_rows": null,
            "right": null,
            "justify_content": null,
            "_view_module": "@jupyter-widgets/base",
            "overflow": null,
            "_model_module_version": "1.2.0",
            "_view_count": null,
            "flex_flow": null,
            "width": null,
            "min_width": null,
            "border": null,
            "align_items": null,
            "bottom": null,
            "_model_module": "@jupyter-widgets/base",
            "top": null,
            "grid_column": null,
            "overflow_y": null,
            "overflow_x": null,
            "grid_auto_flow": null,
            "grid_area": null,
            "grid_template_columns": null,
            "flex": null,
            "_model_name": "LayoutModel",
            "justify_items": null,
            "grid_row": null,
            "max_height": null,
            "align_content": null,
            "visibility": null,
            "align_self": null,
            "height": null,
            "min_height": null,
            "padding": null,
            "grid_auto_rows": null,
            "grid_gap": null,
            "max_width": null,
            "order": null,
            "_view_module_version": "1.2.0",
            "grid_template_areas": null,
            "object_position": null,
            "object_fit": null,
            "grid_auto_columns": null,
            "margin": null,
            "display": null,
            "left": null
          }
        },
        "c147975a10584116ace794cdeae07fe9": {
          "model_module": "@jupyter-widgets/controls",
          "model_name": "DescriptionStyleModel",
          "model_module_version": "1.5.0",
          "state": {
            "_view_name": "StyleView",
            "_model_name": "DescriptionStyleModel",
            "description_width": "",
            "_view_module": "@jupyter-widgets/base",
            "_model_module_version": "1.5.0",
            "_view_count": null,
            "_view_module_version": "1.2.0",
            "_model_module": "@jupyter-widgets/controls"
          }
        },
        "5c26d52ca94d4eb1b743539844e62313": {
          "model_module": "@jupyter-widgets/base",
          "model_name": "LayoutModel",
          "model_module_version": "1.2.0",
          "state": {
            "_view_name": "LayoutView",
            "grid_template_rows": null,
            "right": null,
            "justify_content": null,
            "_view_module": "@jupyter-widgets/base",
            "overflow": null,
            "_model_module_version": "1.2.0",
            "_view_count": null,
            "flex_flow": null,
            "width": null,
            "min_width": null,
            "border": null,
            "align_items": null,
            "bottom": null,
            "_model_module": "@jupyter-widgets/base",
            "top": null,
            "grid_column": null,
            "overflow_y": null,
            "overflow_x": null,
            "grid_auto_flow": null,
            "grid_area": null,
            "grid_template_columns": null,
            "flex": null,
            "_model_name": "LayoutModel",
            "justify_items": null,
            "grid_row": null,
            "max_height": null,
            "align_content": null,
            "visibility": null,
            "align_self": null,
            "height": null,
            "min_height": null,
            "padding": null,
            "grid_auto_rows": null,
            "grid_gap": null,
            "max_width": null,
            "order": null,
            "_view_module_version": "1.2.0",
            "grid_template_areas": null,
            "object_position": null,
            "object_fit": null,
            "grid_auto_columns": null,
            "margin": null,
            "display": null,
            "left": null
          }
        },
        "a43bb1c911514bc9ae855f0e93b7a67d": {
          "model_module": "@jupyter-widgets/controls",
          "model_name": "HBoxModel",
          "model_module_version": "1.5.0",
          "state": {
            "_view_name": "HBoxView",
            "_dom_classes": [],
            "_model_name": "HBoxModel",
            "_view_module": "@jupyter-widgets/controls",
            "_model_module_version": "1.5.0",
            "_view_count": null,
            "_view_module_version": "1.5.0",
            "box_style": "",
            "layout": "IPY_MODEL_975368e513b7444ba4e51139acc1477b",
            "_model_module": "@jupyter-widgets/controls",
            "children": [
              "IPY_MODEL_1bd5e662f3774c7ab9c1a9279b8cea7b",
              "IPY_MODEL_55d91f91bc62413ab95282a8076f36bf",
              "IPY_MODEL_12e9a70fcca54915b8a63ee746567d27"
            ]
          }
        },
        "975368e513b7444ba4e51139acc1477b": {
          "model_module": "@jupyter-widgets/base",
          "model_name": "LayoutModel",
          "model_module_version": "1.2.0",
          "state": {
            "_view_name": "LayoutView",
            "grid_template_rows": null,
            "right": null,
            "justify_content": null,
            "_view_module": "@jupyter-widgets/base",
            "overflow": null,
            "_model_module_version": "1.2.0",
            "_view_count": null,
            "flex_flow": null,
            "width": null,
            "min_width": null,
            "border": null,
            "align_items": null,
            "bottom": null,
            "_model_module": "@jupyter-widgets/base",
            "top": null,
            "grid_column": null,
            "overflow_y": null,
            "overflow_x": null,
            "grid_auto_flow": null,
            "grid_area": null,
            "grid_template_columns": null,
            "flex": null,
            "_model_name": "LayoutModel",
            "justify_items": null,
            "grid_row": null,
            "max_height": null,
            "align_content": null,
            "visibility": null,
            "align_self": null,
            "height": null,
            "min_height": null,
            "padding": null,
            "grid_auto_rows": null,
            "grid_gap": null,
            "max_width": null,
            "order": null,
            "_view_module_version": "1.2.0",
            "grid_template_areas": null,
            "object_position": null,
            "object_fit": null,
            "grid_auto_columns": null,
            "margin": null,
            "display": null,
            "left": null
          }
        },
        "1bd5e662f3774c7ab9c1a9279b8cea7b": {
          "model_module": "@jupyter-widgets/controls",
          "model_name": "HTMLModel",
          "model_module_version": "1.5.0",
          "state": {
            "_view_name": "HTMLView",
            "style": "IPY_MODEL_a73b2309162c413d9f5e79d0c6cf1bf5",
            "_dom_classes": [],
            "description": "",
            "_model_name": "HTMLModel",
            "placeholder": "​",
            "_view_module": "@jupyter-widgets/controls",
            "_model_module_version": "1.5.0",
            "value": "Downloading: 100%",
            "_view_count": null,
            "_view_module_version": "1.5.0",
            "description_tooltip": null,
            "_model_module": "@jupyter-widgets/controls",
            "layout": "IPY_MODEL_ffef4f6f568648eda105f9731f6eac92"
          }
        },
        "55d91f91bc62413ab95282a8076f36bf": {
          "model_module": "@jupyter-widgets/controls",
          "model_name": "FloatProgressModel",
          "model_module_version": "1.5.0",
          "state": {
            "_view_name": "ProgressView",
            "style": "IPY_MODEL_189d1c52ceea408eb38e5daa59a4ebca",
            "_dom_classes": [],
            "description": "",
            "_model_name": "FloatProgressModel",
            "bar_style": "success",
            "max": 231508,
            "_view_module": "@jupyter-widgets/controls",
            "_model_module_version": "1.5.0",
            "value": 231508,
            "_view_count": null,
            "_view_module_version": "1.5.0",
            "orientation": "horizontal",
            "min": 0,
            "description_tooltip": null,
            "_model_module": "@jupyter-widgets/controls",
            "layout": "IPY_MODEL_2ade8b973af94fe984ea2bacbf557b3d"
          }
        },
        "12e9a70fcca54915b8a63ee746567d27": {
          "model_module": "@jupyter-widgets/controls",
          "model_name": "HTMLModel",
          "model_module_version": "1.5.0",
          "state": {
            "_view_name": "HTMLView",
            "style": "IPY_MODEL_32efb9c0baae4b2cba81045a3c20ac85",
            "_dom_classes": [],
            "description": "",
            "_model_name": "HTMLModel",
            "placeholder": "​",
            "_view_module": "@jupyter-widgets/controls",
            "_model_module_version": "1.5.0",
            "value": " 226k/226k [00:00&lt;00:00, 920kB/s]",
            "_view_count": null,
            "_view_module_version": "1.5.0",
            "description_tooltip": null,
            "_model_module": "@jupyter-widgets/controls",
            "layout": "IPY_MODEL_9ab54af39cf84eb095867fa31b039037"
          }
        },
        "a73b2309162c413d9f5e79d0c6cf1bf5": {
          "model_module": "@jupyter-widgets/controls",
          "model_name": "DescriptionStyleModel",
          "model_module_version": "1.5.0",
          "state": {
            "_view_name": "StyleView",
            "_model_name": "DescriptionStyleModel",
            "description_width": "",
            "_view_module": "@jupyter-widgets/base",
            "_model_module_version": "1.5.0",
            "_view_count": null,
            "_view_module_version": "1.2.0",
            "_model_module": "@jupyter-widgets/controls"
          }
        },
        "ffef4f6f568648eda105f9731f6eac92": {
          "model_module": "@jupyter-widgets/base",
          "model_name": "LayoutModel",
          "model_module_version": "1.2.0",
          "state": {
            "_view_name": "LayoutView",
            "grid_template_rows": null,
            "right": null,
            "justify_content": null,
            "_view_module": "@jupyter-widgets/base",
            "overflow": null,
            "_model_module_version": "1.2.0",
            "_view_count": null,
            "flex_flow": null,
            "width": null,
            "min_width": null,
            "border": null,
            "align_items": null,
            "bottom": null,
            "_model_module": "@jupyter-widgets/base",
            "top": null,
            "grid_column": null,
            "overflow_y": null,
            "overflow_x": null,
            "grid_auto_flow": null,
            "grid_area": null,
            "grid_template_columns": null,
            "flex": null,
            "_model_name": "LayoutModel",
            "justify_items": null,
            "grid_row": null,
            "max_height": null,
            "align_content": null,
            "visibility": null,
            "align_self": null,
            "height": null,
            "min_height": null,
            "padding": null,
            "grid_auto_rows": null,
            "grid_gap": null,
            "max_width": null,
            "order": null,
            "_view_module_version": "1.2.0",
            "grid_template_areas": null,
            "object_position": null,
            "object_fit": null,
            "grid_auto_columns": null,
            "margin": null,
            "display": null,
            "left": null
          }
        },
        "189d1c52ceea408eb38e5daa59a4ebca": {
          "model_module": "@jupyter-widgets/controls",
          "model_name": "ProgressStyleModel",
          "model_module_version": "1.5.0",
          "state": {
            "_view_name": "StyleView",
            "_model_name": "ProgressStyleModel",
            "description_width": "",
            "_view_module": "@jupyter-widgets/base",
            "_model_module_version": "1.5.0",
            "_view_count": null,
            "_view_module_version": "1.2.0",
            "bar_color": null,
            "_model_module": "@jupyter-widgets/controls"
          }
        },
        "2ade8b973af94fe984ea2bacbf557b3d": {
          "model_module": "@jupyter-widgets/base",
          "model_name": "LayoutModel",
          "model_module_version": "1.2.0",
          "state": {
            "_view_name": "LayoutView",
            "grid_template_rows": null,
            "right": null,
            "justify_content": null,
            "_view_module": "@jupyter-widgets/base",
            "overflow": null,
            "_model_module_version": "1.2.0",
            "_view_count": null,
            "flex_flow": null,
            "width": null,
            "min_width": null,
            "border": null,
            "align_items": null,
            "bottom": null,
            "_model_module": "@jupyter-widgets/base",
            "top": null,
            "grid_column": null,
            "overflow_y": null,
            "overflow_x": null,
            "grid_auto_flow": null,
            "grid_area": null,
            "grid_template_columns": null,
            "flex": null,
            "_model_name": "LayoutModel",
            "justify_items": null,
            "grid_row": null,
            "max_height": null,
            "align_content": null,
            "visibility": null,
            "align_self": null,
            "height": null,
            "min_height": null,
            "padding": null,
            "grid_auto_rows": null,
            "grid_gap": null,
            "max_width": null,
            "order": null,
            "_view_module_version": "1.2.0",
            "grid_template_areas": null,
            "object_position": null,
            "object_fit": null,
            "grid_auto_columns": null,
            "margin": null,
            "display": null,
            "left": null
          }
        },
        "32efb9c0baae4b2cba81045a3c20ac85": {
          "model_module": "@jupyter-widgets/controls",
          "model_name": "DescriptionStyleModel",
          "model_module_version": "1.5.0",
          "state": {
            "_view_name": "StyleView",
            "_model_name": "DescriptionStyleModel",
            "description_width": "",
            "_view_module": "@jupyter-widgets/base",
            "_model_module_version": "1.5.0",
            "_view_count": null,
            "_view_module_version": "1.2.0",
            "_model_module": "@jupyter-widgets/controls"
          }
        },
        "9ab54af39cf84eb095867fa31b039037": {
          "model_module": "@jupyter-widgets/base",
          "model_name": "LayoutModel",
          "model_module_version": "1.2.0",
          "state": {
            "_view_name": "LayoutView",
            "grid_template_rows": null,
            "right": null,
            "justify_content": null,
            "_view_module": "@jupyter-widgets/base",
            "overflow": null,
            "_model_module_version": "1.2.0",
            "_view_count": null,
            "flex_flow": null,
            "width": null,
            "min_width": null,
            "border": null,
            "align_items": null,
            "bottom": null,
            "_model_module": "@jupyter-widgets/base",
            "top": null,
            "grid_column": null,
            "overflow_y": null,
            "overflow_x": null,
            "grid_auto_flow": null,
            "grid_area": null,
            "grid_template_columns": null,
            "flex": null,
            "_model_name": "LayoutModel",
            "justify_items": null,
            "grid_row": null,
            "max_height": null,
            "align_content": null,
            "visibility": null,
            "align_self": null,
            "height": null,
            "min_height": null,
            "padding": null,
            "grid_auto_rows": null,
            "grid_gap": null,
            "max_width": null,
            "order": null,
            "_view_module_version": "1.2.0",
            "grid_template_areas": null,
            "object_position": null,
            "object_fit": null,
            "grid_auto_columns": null,
            "margin": null,
            "display": null,
            "left": null
          }
        },
        "e0e09c131d8c4c4f97cf8b0f5d5d333f": {
          "model_module": "@jupyter-widgets/controls",
          "model_name": "HBoxModel",
          "model_module_version": "1.5.0",
          "state": {
            "_view_name": "HBoxView",
            "_dom_classes": [],
            "_model_name": "HBoxModel",
            "_view_module": "@jupyter-widgets/controls",
            "_model_module_version": "1.5.0",
            "_view_count": null,
            "_view_module_version": "1.5.0",
            "box_style": "",
            "layout": "IPY_MODEL_a6addc800aa842739b6658b079f0daa4",
            "_model_module": "@jupyter-widgets/controls",
            "children": [
              "IPY_MODEL_d1360dd8b70343be9d015bca1a3c5eff",
              "IPY_MODEL_6839f84831514a32b599bc73db20d6ee",
              "IPY_MODEL_1761b293a44f490e9987390219aa2a98"
            ]
          }
        },
        "a6addc800aa842739b6658b079f0daa4": {
          "model_module": "@jupyter-widgets/base",
          "model_name": "LayoutModel",
          "model_module_version": "1.2.0",
          "state": {
            "_view_name": "LayoutView",
            "grid_template_rows": null,
            "right": null,
            "justify_content": null,
            "_view_module": "@jupyter-widgets/base",
            "overflow": null,
            "_model_module_version": "1.2.0",
            "_view_count": null,
            "flex_flow": null,
            "width": null,
            "min_width": null,
            "border": null,
            "align_items": null,
            "bottom": null,
            "_model_module": "@jupyter-widgets/base",
            "top": null,
            "grid_column": null,
            "overflow_y": null,
            "overflow_x": null,
            "grid_auto_flow": null,
            "grid_area": null,
            "grid_template_columns": null,
            "flex": null,
            "_model_name": "LayoutModel",
            "justify_items": null,
            "grid_row": null,
            "max_height": null,
            "align_content": null,
            "visibility": null,
            "align_self": null,
            "height": null,
            "min_height": null,
            "padding": null,
            "grid_auto_rows": null,
            "grid_gap": null,
            "max_width": null,
            "order": null,
            "_view_module_version": "1.2.0",
            "grid_template_areas": null,
            "object_position": null,
            "object_fit": null,
            "grid_auto_columns": null,
            "margin": null,
            "display": null,
            "left": null
          }
        },
        "d1360dd8b70343be9d015bca1a3c5eff": {
          "model_module": "@jupyter-widgets/controls",
          "model_name": "HTMLModel",
          "model_module_version": "1.5.0",
          "state": {
            "_view_name": "HTMLView",
            "style": "IPY_MODEL_4f873d15c9c54e7ea386eb60306672f2",
            "_dom_classes": [],
            "description": "",
            "_model_name": "HTMLModel",
            "placeholder": "​",
            "_view_module": "@jupyter-widgets/controls",
            "_model_module_version": "1.5.0",
            "value": "Downloading: 100%",
            "_view_count": null,
            "_view_module_version": "1.5.0",
            "description_tooltip": null,
            "_model_module": "@jupyter-widgets/controls",
            "layout": "IPY_MODEL_76073c555ba8429098da986b34dc1463"
          }
        },
        "6839f84831514a32b599bc73db20d6ee": {
          "model_module": "@jupyter-widgets/controls",
          "model_name": "FloatProgressModel",
          "model_module_version": "1.5.0",
          "state": {
            "_view_name": "ProgressView",
            "style": "IPY_MODEL_35244028cfc0423e851c1c9c23c040ba",
            "_dom_classes": [],
            "description": "",
            "_model_name": "FloatProgressModel",
            "bar_style": "success",
            "max": 466062,
            "_view_module": "@jupyter-widgets/controls",
            "_model_module_version": "1.5.0",
            "value": 466062,
            "_view_count": null,
            "_view_module_version": "1.5.0",
            "orientation": "horizontal",
            "min": 0,
            "description_tooltip": null,
            "_model_module": "@jupyter-widgets/controls",
            "layout": "IPY_MODEL_d1463524631040b0a072c40a946e558d"
          }
        },
        "1761b293a44f490e9987390219aa2a98": {
          "model_module": "@jupyter-widgets/controls",
          "model_name": "HTMLModel",
          "model_module_version": "1.5.0",
          "state": {
            "_view_name": "HTMLView",
            "style": "IPY_MODEL_163cc0a5ae3742a3becf9c64dd84a00b",
            "_dom_classes": [],
            "description": "",
            "_model_name": "HTMLModel",
            "placeholder": "​",
            "_view_module": "@jupyter-widgets/controls",
            "_model_module_version": "1.5.0",
            "value": " 455k/455k [00:00&lt;00:00, 892kB/s]",
            "_view_count": null,
            "_view_module_version": "1.5.0",
            "description_tooltip": null,
            "_model_module": "@jupyter-widgets/controls",
            "layout": "IPY_MODEL_6c89e7f1d2a94096aacd375dcb09f788"
          }
        },
        "4f873d15c9c54e7ea386eb60306672f2": {
          "model_module": "@jupyter-widgets/controls",
          "model_name": "DescriptionStyleModel",
          "model_module_version": "1.5.0",
          "state": {
            "_view_name": "StyleView",
            "_model_name": "DescriptionStyleModel",
            "description_width": "",
            "_view_module": "@jupyter-widgets/base",
            "_model_module_version": "1.5.0",
            "_view_count": null,
            "_view_module_version": "1.2.0",
            "_model_module": "@jupyter-widgets/controls"
          }
        },
        "76073c555ba8429098da986b34dc1463": {
          "model_module": "@jupyter-widgets/base",
          "model_name": "LayoutModel",
          "model_module_version": "1.2.0",
          "state": {
            "_view_name": "LayoutView",
            "grid_template_rows": null,
            "right": null,
            "justify_content": null,
            "_view_module": "@jupyter-widgets/base",
            "overflow": null,
            "_model_module_version": "1.2.0",
            "_view_count": null,
            "flex_flow": null,
            "width": null,
            "min_width": null,
            "border": null,
            "align_items": null,
            "bottom": null,
            "_model_module": "@jupyter-widgets/base",
            "top": null,
            "grid_column": null,
            "overflow_y": null,
            "overflow_x": null,
            "grid_auto_flow": null,
            "grid_area": null,
            "grid_template_columns": null,
            "flex": null,
            "_model_name": "LayoutModel",
            "justify_items": null,
            "grid_row": null,
            "max_height": null,
            "align_content": null,
            "visibility": null,
            "align_self": null,
            "height": null,
            "min_height": null,
            "padding": null,
            "grid_auto_rows": null,
            "grid_gap": null,
            "max_width": null,
            "order": null,
            "_view_module_version": "1.2.0",
            "grid_template_areas": null,
            "object_position": null,
            "object_fit": null,
            "grid_auto_columns": null,
            "margin": null,
            "display": null,
            "left": null
          }
        },
        "35244028cfc0423e851c1c9c23c040ba": {
          "model_module": "@jupyter-widgets/controls",
          "model_name": "ProgressStyleModel",
          "model_module_version": "1.5.0",
          "state": {
            "_view_name": "StyleView",
            "_model_name": "ProgressStyleModel",
            "description_width": "",
            "_view_module": "@jupyter-widgets/base",
            "_model_module_version": "1.5.0",
            "_view_count": null,
            "_view_module_version": "1.2.0",
            "bar_color": null,
            "_model_module": "@jupyter-widgets/controls"
          }
        },
        "d1463524631040b0a072c40a946e558d": {
          "model_module": "@jupyter-widgets/base",
          "model_name": "LayoutModel",
          "model_module_version": "1.2.0",
          "state": {
            "_view_name": "LayoutView",
            "grid_template_rows": null,
            "right": null,
            "justify_content": null,
            "_view_module": "@jupyter-widgets/base",
            "overflow": null,
            "_model_module_version": "1.2.0",
            "_view_count": null,
            "flex_flow": null,
            "width": null,
            "min_width": null,
            "border": null,
            "align_items": null,
            "bottom": null,
            "_model_module": "@jupyter-widgets/base",
            "top": null,
            "grid_column": null,
            "overflow_y": null,
            "overflow_x": null,
            "grid_auto_flow": null,
            "grid_area": null,
            "grid_template_columns": null,
            "flex": null,
            "_model_name": "LayoutModel",
            "justify_items": null,
            "grid_row": null,
            "max_height": null,
            "align_content": null,
            "visibility": null,
            "align_self": null,
            "height": null,
            "min_height": null,
            "padding": null,
            "grid_auto_rows": null,
            "grid_gap": null,
            "max_width": null,
            "order": null,
            "_view_module_version": "1.2.0",
            "grid_template_areas": null,
            "object_position": null,
            "object_fit": null,
            "grid_auto_columns": null,
            "margin": null,
            "display": null,
            "left": null
          }
        },
        "163cc0a5ae3742a3becf9c64dd84a00b": {
          "model_module": "@jupyter-widgets/controls",
          "model_name": "DescriptionStyleModel",
          "model_module_version": "1.5.0",
          "state": {
            "_view_name": "StyleView",
            "_model_name": "DescriptionStyleModel",
            "description_width": "",
            "_view_module": "@jupyter-widgets/base",
            "_model_module_version": "1.5.0",
            "_view_count": null,
            "_view_module_version": "1.2.0",
            "_model_module": "@jupyter-widgets/controls"
          }
        },
        "6c89e7f1d2a94096aacd375dcb09f788": {
          "model_module": "@jupyter-widgets/base",
          "model_name": "LayoutModel",
          "model_module_version": "1.2.0",
          "state": {
            "_view_name": "LayoutView",
            "grid_template_rows": null,
            "right": null,
            "justify_content": null,
            "_view_module": "@jupyter-widgets/base",
            "overflow": null,
            "_model_module_version": "1.2.0",
            "_view_count": null,
            "flex_flow": null,
            "width": null,
            "min_width": null,
            "border": null,
            "align_items": null,
            "bottom": null,
            "_model_module": "@jupyter-widgets/base",
            "top": null,
            "grid_column": null,
            "overflow_y": null,
            "overflow_x": null,
            "grid_auto_flow": null,
            "grid_area": null,
            "grid_template_columns": null,
            "flex": null,
            "_model_name": "LayoutModel",
            "justify_items": null,
            "grid_row": null,
            "max_height": null,
            "align_content": null,
            "visibility": null,
            "align_self": null,
            "height": null,
            "min_height": null,
            "padding": null,
            "grid_auto_rows": null,
            "grid_gap": null,
            "max_width": null,
            "order": null,
            "_view_module_version": "1.2.0",
            "grid_template_areas": null,
            "object_position": null,
            "object_fit": null,
            "grid_auto_columns": null,
            "margin": null,
            "display": null,
            "left": null
          }
        },
        "6609bd3e983e43aeb07204f3d89e0c72": {
          "model_module": "@jupyter-widgets/controls",
          "model_name": "HBoxModel",
          "model_module_version": "1.5.0",
          "state": {
            "_view_name": "HBoxView",
            "_dom_classes": [],
            "_model_name": "HBoxModel",
            "_view_module": "@jupyter-widgets/controls",
            "_model_module_version": "1.5.0",
            "_view_count": null,
            "_view_module_version": "1.5.0",
            "box_style": "",
            "layout": "IPY_MODEL_8b8329ccf1d44faaa6f8823325de8f9c",
            "_model_module": "@jupyter-widgets/controls",
            "children": [
              "IPY_MODEL_7bbdb180e73546098d2ce62449c025ef",
              "IPY_MODEL_11e67720e9c74187aeafe907e25e86c5",
              "IPY_MODEL_791e46f0cffa41d7bba42668a601b872"
            ]
          }
        },
        "8b8329ccf1d44faaa6f8823325de8f9c": {
          "model_module": "@jupyter-widgets/base",
          "model_name": "LayoutModel",
          "model_module_version": "1.2.0",
          "state": {
            "_view_name": "LayoutView",
            "grid_template_rows": null,
            "right": null,
            "justify_content": null,
            "_view_module": "@jupyter-widgets/base",
            "overflow": null,
            "_model_module_version": "1.2.0",
            "_view_count": null,
            "flex_flow": null,
            "width": null,
            "min_width": null,
            "border": null,
            "align_items": null,
            "bottom": null,
            "_model_module": "@jupyter-widgets/base",
            "top": null,
            "grid_column": null,
            "overflow_y": null,
            "overflow_x": null,
            "grid_auto_flow": null,
            "grid_area": null,
            "grid_template_columns": null,
            "flex": null,
            "_model_name": "LayoutModel",
            "justify_items": null,
            "grid_row": null,
            "max_height": null,
            "align_content": null,
            "visibility": null,
            "align_self": null,
            "height": null,
            "min_height": null,
            "padding": null,
            "grid_auto_rows": null,
            "grid_gap": null,
            "max_width": null,
            "order": null,
            "_view_module_version": "1.2.0",
            "grid_template_areas": null,
            "object_position": null,
            "object_fit": null,
            "grid_auto_columns": null,
            "margin": null,
            "display": null,
            "left": null
          }
        },
        "7bbdb180e73546098d2ce62449c025ef": {
          "model_module": "@jupyter-widgets/controls",
          "model_name": "HTMLModel",
          "model_module_version": "1.5.0",
          "state": {
            "_view_name": "HTMLView",
            "style": "IPY_MODEL_5f04c6725a9e4c38bc5c96825633111a",
            "_dom_classes": [],
            "description": "",
            "_model_name": "HTMLModel",
            "placeholder": "​",
            "_view_module": "@jupyter-widgets/controls",
            "_model_module_version": "1.5.0",
            "value": "Downloading: 100%",
            "_view_count": null,
            "_view_module_version": "1.5.0",
            "description_tooltip": null,
            "_model_module": "@jupyter-widgets/controls",
            "layout": "IPY_MODEL_befe339c44204ec890420b3a46c29c46"
          }
        },
        "11e67720e9c74187aeafe907e25e86c5": {
          "model_module": "@jupyter-widgets/controls",
          "model_name": "FloatProgressModel",
          "model_module_version": "1.5.0",
          "state": {
            "_view_name": "ProgressView",
            "style": "IPY_MODEL_40ee6139bca94572a2a682608254758a",
            "_dom_classes": [],
            "description": "",
            "_model_name": "FloatProgressModel",
            "bar_style": "success",
            "max": 536063208,
            "_view_module": "@jupyter-widgets/controls",
            "_model_module_version": "1.5.0",
            "value": 536063208,
            "_view_count": null,
            "_view_module_version": "1.5.0",
            "orientation": "horizontal",
            "min": 0,
            "description_tooltip": null,
            "_model_module": "@jupyter-widgets/controls",
            "layout": "IPY_MODEL_d1636a404793466fb1ede94548a1bf67"
          }
        },
        "791e46f0cffa41d7bba42668a601b872": {
          "model_module": "@jupyter-widgets/controls",
          "model_name": "HTMLModel",
          "model_module_version": "1.5.0",
          "state": {
            "_view_name": "HTMLView",
            "style": "IPY_MODEL_657662f4a74b42eba3af6791b24d2cd9",
            "_dom_classes": [],
            "description": "",
            "_model_name": "HTMLModel",
            "placeholder": "​",
            "_view_module": "@jupyter-widgets/controls",
            "_model_module_version": "1.5.0",
            "value": " 511M/511M [00:16&lt;00:00, 33.3MB/s]",
            "_view_count": null,
            "_view_module_version": "1.5.0",
            "description_tooltip": null,
            "_model_module": "@jupyter-widgets/controls",
            "layout": "IPY_MODEL_ad56c6e527b44ab4994b87f5069f9a55"
          }
        },
        "5f04c6725a9e4c38bc5c96825633111a": {
          "model_module": "@jupyter-widgets/controls",
          "model_name": "DescriptionStyleModel",
          "model_module_version": "1.5.0",
          "state": {
            "_view_name": "StyleView",
            "_model_name": "DescriptionStyleModel",
            "description_width": "",
            "_view_module": "@jupyter-widgets/base",
            "_model_module_version": "1.5.0",
            "_view_count": null,
            "_view_module_version": "1.2.0",
            "_model_module": "@jupyter-widgets/controls"
          }
        },
        "befe339c44204ec890420b3a46c29c46": {
          "model_module": "@jupyter-widgets/base",
          "model_name": "LayoutModel",
          "model_module_version": "1.2.0",
          "state": {
            "_view_name": "LayoutView",
            "grid_template_rows": null,
            "right": null,
            "justify_content": null,
            "_view_module": "@jupyter-widgets/base",
            "overflow": null,
            "_model_module_version": "1.2.0",
            "_view_count": null,
            "flex_flow": null,
            "width": null,
            "min_width": null,
            "border": null,
            "align_items": null,
            "bottom": null,
            "_model_module": "@jupyter-widgets/base",
            "top": null,
            "grid_column": null,
            "overflow_y": null,
            "overflow_x": null,
            "grid_auto_flow": null,
            "grid_area": null,
            "grid_template_columns": null,
            "flex": null,
            "_model_name": "LayoutModel",
            "justify_items": null,
            "grid_row": null,
            "max_height": null,
            "align_content": null,
            "visibility": null,
            "align_self": null,
            "height": null,
            "min_height": null,
            "padding": null,
            "grid_auto_rows": null,
            "grid_gap": null,
            "max_width": null,
            "order": null,
            "_view_module_version": "1.2.0",
            "grid_template_areas": null,
            "object_position": null,
            "object_fit": null,
            "grid_auto_columns": null,
            "margin": null,
            "display": null,
            "left": null
          }
        },
        "40ee6139bca94572a2a682608254758a": {
          "model_module": "@jupyter-widgets/controls",
          "model_name": "ProgressStyleModel",
          "model_module_version": "1.5.0",
          "state": {
            "_view_name": "StyleView",
            "_model_name": "ProgressStyleModel",
            "description_width": "",
            "_view_module": "@jupyter-widgets/base",
            "_model_module_version": "1.5.0",
            "_view_count": null,
            "_view_module_version": "1.2.0",
            "bar_color": null,
            "_model_module": "@jupyter-widgets/controls"
          }
        },
        "d1636a404793466fb1ede94548a1bf67": {
          "model_module": "@jupyter-widgets/base",
          "model_name": "LayoutModel",
          "model_module_version": "1.2.0",
          "state": {
            "_view_name": "LayoutView",
            "grid_template_rows": null,
            "right": null,
            "justify_content": null,
            "_view_module": "@jupyter-widgets/base",
            "overflow": null,
            "_model_module_version": "1.2.0",
            "_view_count": null,
            "flex_flow": null,
            "width": null,
            "min_width": null,
            "border": null,
            "align_items": null,
            "bottom": null,
            "_model_module": "@jupyter-widgets/base",
            "top": null,
            "grid_column": null,
            "overflow_y": null,
            "overflow_x": null,
            "grid_auto_flow": null,
            "grid_area": null,
            "grid_template_columns": null,
            "flex": null,
            "_model_name": "LayoutModel",
            "justify_items": null,
            "grid_row": null,
            "max_height": null,
            "align_content": null,
            "visibility": null,
            "align_self": null,
            "height": null,
            "min_height": null,
            "padding": null,
            "grid_auto_rows": null,
            "grid_gap": null,
            "max_width": null,
            "order": null,
            "_view_module_version": "1.2.0",
            "grid_template_areas": null,
            "object_position": null,
            "object_fit": null,
            "grid_auto_columns": null,
            "margin": null,
            "display": null,
            "left": null
          }
        },
        "657662f4a74b42eba3af6791b24d2cd9": {
          "model_module": "@jupyter-widgets/controls",
          "model_name": "DescriptionStyleModel",
          "model_module_version": "1.5.0",
          "state": {
            "_view_name": "StyleView",
            "_model_name": "DescriptionStyleModel",
            "description_width": "",
            "_view_module": "@jupyter-widgets/base",
            "_model_module_version": "1.5.0",
            "_view_count": null,
            "_view_module_version": "1.2.0",
            "_model_module": "@jupyter-widgets/controls"
          }
        },
        "ad56c6e527b44ab4994b87f5069f9a55": {
          "model_module": "@jupyter-widgets/base",
          "model_name": "LayoutModel",
          "model_module_version": "1.2.0",
          "state": {
            "_view_name": "LayoutView",
            "grid_template_rows": null,
            "right": null,
            "justify_content": null,
            "_view_module": "@jupyter-widgets/base",
            "overflow": null,
            "_model_module_version": "1.2.0",
            "_view_count": null,
            "flex_flow": null,
            "width": null,
            "min_width": null,
            "border": null,
            "align_items": null,
            "bottom": null,
            "_model_module": "@jupyter-widgets/base",
            "top": null,
            "grid_column": null,
            "overflow_y": null,
            "overflow_x": null,
            "grid_auto_flow": null,
            "grid_area": null,
            "grid_template_columns": null,
            "flex": null,
            "_model_name": "LayoutModel",
            "justify_items": null,
            "grid_row": null,
            "max_height": null,
            "align_content": null,
            "visibility": null,
            "align_self": null,
            "height": null,
            "min_height": null,
            "padding": null,
            "grid_auto_rows": null,
            "grid_gap": null,
            "max_width": null,
            "order": null,
            "_view_module_version": "1.2.0",
            "grid_template_areas": null,
            "object_position": null,
            "object_fit": null,
            "grid_auto_columns": null,
            "margin": null,
            "display": null,
            "left": null
          }
        },
        "b57206653fe54a84ae9faae4f1c86887": {
          "model_module": "@jupyter-widgets/controls",
          "model_name": "HBoxModel",
          "model_module_version": "1.5.0",
          "state": {
            "_view_name": "HBoxView",
            "_dom_classes": [],
            "_model_name": "HBoxModel",
            "_view_module": "@jupyter-widgets/controls",
            "_model_module_version": "1.5.0",
            "_view_count": null,
            "_view_module_version": "1.5.0",
            "box_style": "",
            "layout": "IPY_MODEL_d8864ed0b7644baaa1042644dd97a746",
            "_model_module": "@jupyter-widgets/controls",
            "children": [
              "IPY_MODEL_f23a7d5aef89423cad709aae2c66ae89",
              "IPY_MODEL_de52d6c39d154f3d8ee11d02dddd6394",
              "IPY_MODEL_d146f5a88dca4b4bbc7c1f47ea79088c"
            ]
          }
        },
        "d8864ed0b7644baaa1042644dd97a746": {
          "model_module": "@jupyter-widgets/base",
          "model_name": "LayoutModel",
          "model_module_version": "1.2.0",
          "state": {
            "_view_name": "LayoutView",
            "grid_template_rows": null,
            "right": null,
            "justify_content": null,
            "_view_module": "@jupyter-widgets/base",
            "overflow": null,
            "_model_module_version": "1.2.0",
            "_view_count": null,
            "flex_flow": null,
            "width": null,
            "min_width": null,
            "border": null,
            "align_items": null,
            "bottom": null,
            "_model_module": "@jupyter-widgets/base",
            "top": null,
            "grid_column": null,
            "overflow_y": null,
            "overflow_x": null,
            "grid_auto_flow": null,
            "grid_area": null,
            "grid_template_columns": null,
            "flex": null,
            "_model_name": "LayoutModel",
            "justify_items": null,
            "grid_row": null,
            "max_height": null,
            "align_content": null,
            "visibility": null,
            "align_self": null,
            "height": null,
            "min_height": null,
            "padding": null,
            "grid_auto_rows": null,
            "grid_gap": null,
            "max_width": null,
            "order": null,
            "_view_module_version": "1.2.0",
            "grid_template_areas": null,
            "object_position": null,
            "object_fit": null,
            "grid_auto_columns": null,
            "margin": null,
            "display": null,
            "left": null
          }
        },
        "f23a7d5aef89423cad709aae2c66ae89": {
          "model_module": "@jupyter-widgets/controls",
          "model_name": "HTMLModel",
          "model_module_version": "1.5.0",
          "state": {
            "_view_name": "HTMLView",
            "style": "IPY_MODEL_aad4ee76cec64a6585acc9e987bdefb3",
            "_dom_classes": [],
            "description": "",
            "_model_name": "HTMLModel",
            "placeholder": "​",
            "_view_module": "@jupyter-widgets/controls",
            "_model_module_version": "1.5.0",
            "value": "Downloading: 100%",
            "_view_count": null,
            "_view_module_version": "1.5.0",
            "description_tooltip": null,
            "_model_module": "@jupyter-widgets/controls",
            "layout": "IPY_MODEL_875c116a4e8248919d43a293ddb9c6a6"
          }
        },
        "de52d6c39d154f3d8ee11d02dddd6394": {
          "model_module": "@jupyter-widgets/controls",
          "model_name": "FloatProgressModel",
          "model_module_version": "1.5.0",
          "state": {
            "_view_name": "ProgressView",
            "style": "IPY_MODEL_2ab2fb28e8ed4089abba0504c1cadd03",
            "_dom_classes": [],
            "description": "",
            "_model_name": "FloatProgressModel",
            "bar_style": "success",
            "max": 28,
            "_view_module": "@jupyter-widgets/controls",
            "_model_module_version": "1.5.0",
            "value": 28,
            "_view_count": null,
            "_view_module_version": "1.5.0",
            "orientation": "horizontal",
            "min": 0,
            "description_tooltip": null,
            "_model_module": "@jupyter-widgets/controls",
            "layout": "IPY_MODEL_843fdb4ec29d4e75ac6f0212961d2416"
          }
        },
        "d146f5a88dca4b4bbc7c1f47ea79088c": {
          "model_module": "@jupyter-widgets/controls",
          "model_name": "HTMLModel",
          "model_module_version": "1.5.0",
          "state": {
            "_view_name": "HTMLView",
            "style": "IPY_MODEL_d2d8430cbff1408d876c1bafc64d72e8",
            "_dom_classes": [],
            "description": "",
            "_model_name": "HTMLModel",
            "placeholder": "​",
            "_view_module": "@jupyter-widgets/controls",
            "_model_module_version": "1.5.0",
            "value": " 28.0/28.0 [00:00&lt;00:00, 715B/s]",
            "_view_count": null,
            "_view_module_version": "1.5.0",
            "description_tooltip": null,
            "_model_module": "@jupyter-widgets/controls",
            "layout": "IPY_MODEL_ed88eb3517544465965c050d02a3b5d5"
          }
        },
        "aad4ee76cec64a6585acc9e987bdefb3": {
          "model_module": "@jupyter-widgets/controls",
          "model_name": "DescriptionStyleModel",
          "model_module_version": "1.5.0",
          "state": {
            "_view_name": "StyleView",
            "_model_name": "DescriptionStyleModel",
            "description_width": "",
            "_view_module": "@jupyter-widgets/base",
            "_model_module_version": "1.5.0",
            "_view_count": null,
            "_view_module_version": "1.2.0",
            "_model_module": "@jupyter-widgets/controls"
          }
        },
        "875c116a4e8248919d43a293ddb9c6a6": {
          "model_module": "@jupyter-widgets/base",
          "model_name": "LayoutModel",
          "model_module_version": "1.2.0",
          "state": {
            "_view_name": "LayoutView",
            "grid_template_rows": null,
            "right": null,
            "justify_content": null,
            "_view_module": "@jupyter-widgets/base",
            "overflow": null,
            "_model_module_version": "1.2.0",
            "_view_count": null,
            "flex_flow": null,
            "width": null,
            "min_width": null,
            "border": null,
            "align_items": null,
            "bottom": null,
            "_model_module": "@jupyter-widgets/base",
            "top": null,
            "grid_column": null,
            "overflow_y": null,
            "overflow_x": null,
            "grid_auto_flow": null,
            "grid_area": null,
            "grid_template_columns": null,
            "flex": null,
            "_model_name": "LayoutModel",
            "justify_items": null,
            "grid_row": null,
            "max_height": null,
            "align_content": null,
            "visibility": null,
            "align_self": null,
            "height": null,
            "min_height": null,
            "padding": null,
            "grid_auto_rows": null,
            "grid_gap": null,
            "max_width": null,
            "order": null,
            "_view_module_version": "1.2.0",
            "grid_template_areas": null,
            "object_position": null,
            "object_fit": null,
            "grid_auto_columns": null,
            "margin": null,
            "display": null,
            "left": null
          }
        },
        "2ab2fb28e8ed4089abba0504c1cadd03": {
          "model_module": "@jupyter-widgets/controls",
          "model_name": "ProgressStyleModel",
          "model_module_version": "1.5.0",
          "state": {
            "_view_name": "StyleView",
            "_model_name": "ProgressStyleModel",
            "description_width": "",
            "_view_module": "@jupyter-widgets/base",
            "_model_module_version": "1.5.0",
            "_view_count": null,
            "_view_module_version": "1.2.0",
            "bar_color": null,
            "_model_module": "@jupyter-widgets/controls"
          }
        },
        "843fdb4ec29d4e75ac6f0212961d2416": {
          "model_module": "@jupyter-widgets/base",
          "model_name": "LayoutModel",
          "model_module_version": "1.2.0",
          "state": {
            "_view_name": "LayoutView",
            "grid_template_rows": null,
            "right": null,
            "justify_content": null,
            "_view_module": "@jupyter-widgets/base",
            "overflow": null,
            "_model_module_version": "1.2.0",
            "_view_count": null,
            "flex_flow": null,
            "width": null,
            "min_width": null,
            "border": null,
            "align_items": null,
            "bottom": null,
            "_model_module": "@jupyter-widgets/base",
            "top": null,
            "grid_column": null,
            "overflow_y": null,
            "overflow_x": null,
            "grid_auto_flow": null,
            "grid_area": null,
            "grid_template_columns": null,
            "flex": null,
            "_model_name": "LayoutModel",
            "justify_items": null,
            "grid_row": null,
            "max_height": null,
            "align_content": null,
            "visibility": null,
            "align_self": null,
            "height": null,
            "min_height": null,
            "padding": null,
            "grid_auto_rows": null,
            "grid_gap": null,
            "max_width": null,
            "order": null,
            "_view_module_version": "1.2.0",
            "grid_template_areas": null,
            "object_position": null,
            "object_fit": null,
            "grid_auto_columns": null,
            "margin": null,
            "display": null,
            "left": null
          }
        },
        "d2d8430cbff1408d876c1bafc64d72e8": {
          "model_module": "@jupyter-widgets/controls",
          "model_name": "DescriptionStyleModel",
          "model_module_version": "1.5.0",
          "state": {
            "_view_name": "StyleView",
            "_model_name": "DescriptionStyleModel",
            "description_width": "",
            "_view_module": "@jupyter-widgets/base",
            "_model_module_version": "1.5.0",
            "_view_count": null,
            "_view_module_version": "1.2.0",
            "_model_module": "@jupyter-widgets/controls"
          }
        },
        "ed88eb3517544465965c050d02a3b5d5": {
          "model_module": "@jupyter-widgets/base",
          "model_name": "LayoutModel",
          "model_module_version": "1.2.0",
          "state": {
            "_view_name": "LayoutView",
            "grid_template_rows": null,
            "right": null,
            "justify_content": null,
            "_view_module": "@jupyter-widgets/base",
            "overflow": null,
            "_model_module_version": "1.2.0",
            "_view_count": null,
            "flex_flow": null,
            "width": null,
            "min_width": null,
            "border": null,
            "align_items": null,
            "bottom": null,
            "_model_module": "@jupyter-widgets/base",
            "top": null,
            "grid_column": null,
            "overflow_y": null,
            "overflow_x": null,
            "grid_auto_flow": null,
            "grid_area": null,
            "grid_template_columns": null,
            "flex": null,
            "_model_name": "LayoutModel",
            "justify_items": null,
            "grid_row": null,
            "max_height": null,
            "align_content": null,
            "visibility": null,
            "align_self": null,
            "height": null,
            "min_height": null,
            "padding": null,
            "grid_auto_rows": null,
            "grid_gap": null,
            "max_width": null,
            "order": null,
            "_view_module_version": "1.2.0",
            "grid_template_areas": null,
            "object_position": null,
            "object_fit": null,
            "grid_auto_columns": null,
            "margin": null,
            "display": null,
            "left": null
          }
        },
        "30cf088c147744dea96dae695da56d4f": {
          "model_module": "@jupyter-widgets/controls",
          "model_name": "HBoxModel",
          "model_module_version": "1.5.0",
          "state": {
            "_view_name": "HBoxView",
            "_dom_classes": [],
            "_model_name": "HBoxModel",
            "_view_module": "@jupyter-widgets/controls",
            "_model_module_version": "1.5.0",
            "_view_count": null,
            "_view_module_version": "1.5.0",
            "box_style": "",
            "layout": "IPY_MODEL_05e38f3c044c4520a7253f059e306148",
            "_model_module": "@jupyter-widgets/controls",
            "children": [
              "IPY_MODEL_e04b2aa7d2c44c8aad50d5f4b7dec5cb",
              "IPY_MODEL_a10eb49918eb4c63966dd533912844e3",
              "IPY_MODEL_dfd800313cf94ca494d80eea14f8c63c"
            ]
          }
        },
        "05e38f3c044c4520a7253f059e306148": {
          "model_module": "@jupyter-widgets/base",
          "model_name": "LayoutModel",
          "model_module_version": "1.2.0",
          "state": {
            "_view_name": "LayoutView",
            "grid_template_rows": null,
            "right": null,
            "justify_content": null,
            "_view_module": "@jupyter-widgets/base",
            "overflow": null,
            "_model_module_version": "1.2.0",
            "_view_count": null,
            "flex_flow": null,
            "width": null,
            "min_width": null,
            "border": null,
            "align_items": null,
            "bottom": null,
            "_model_module": "@jupyter-widgets/base",
            "top": null,
            "grid_column": null,
            "overflow_y": null,
            "overflow_x": null,
            "grid_auto_flow": null,
            "grid_area": null,
            "grid_template_columns": null,
            "flex": null,
            "_model_name": "LayoutModel",
            "justify_items": null,
            "grid_row": null,
            "max_height": null,
            "align_content": null,
            "visibility": null,
            "align_self": null,
            "height": null,
            "min_height": null,
            "padding": null,
            "grid_auto_rows": null,
            "grid_gap": null,
            "max_width": null,
            "order": null,
            "_view_module_version": "1.2.0",
            "grid_template_areas": null,
            "object_position": null,
            "object_fit": null,
            "grid_auto_columns": null,
            "margin": null,
            "display": null,
            "left": null
          }
        },
        "e04b2aa7d2c44c8aad50d5f4b7dec5cb": {
          "model_module": "@jupyter-widgets/controls",
          "model_name": "HTMLModel",
          "model_module_version": "1.5.0",
          "state": {
            "_view_name": "HTMLView",
            "style": "IPY_MODEL_85c31071c5294dab86aecc3bd1b46ae1",
            "_dom_classes": [],
            "description": "",
            "_model_name": "HTMLModel",
            "placeholder": "​",
            "_view_module": "@jupyter-widgets/controls",
            "_model_module_version": "1.5.0",
            "value": "Downloading: 100%",
            "_view_count": null,
            "_view_module_version": "1.5.0",
            "description_tooltip": null,
            "_model_module": "@jupyter-widgets/controls",
            "layout": "IPY_MODEL_9f80129937bc4c9594231a885fecbfad"
          }
        },
        "a10eb49918eb4c63966dd533912844e3": {
          "model_module": "@jupyter-widgets/controls",
          "model_name": "FloatProgressModel",
          "model_module_version": "1.5.0",
          "state": {
            "_view_name": "ProgressView",
            "style": "IPY_MODEL_cacbfe59bb8a4da3941c0f6ae0108e47",
            "_dom_classes": [],
            "description": "",
            "_model_name": "FloatProgressModel",
            "bar_style": "success",
            "max": 483,
            "_view_module": "@jupyter-widgets/controls",
            "_model_module_version": "1.5.0",
            "value": 483,
            "_view_count": null,
            "_view_module_version": "1.5.0",
            "orientation": "horizontal",
            "min": 0,
            "description_tooltip": null,
            "_model_module": "@jupyter-widgets/controls",
            "layout": "IPY_MODEL_2992922ef4334e07a3a63055756dbaec"
          }
        },
        "dfd800313cf94ca494d80eea14f8c63c": {
          "model_module": "@jupyter-widgets/controls",
          "model_name": "HTMLModel",
          "model_module_version": "1.5.0",
          "state": {
            "_view_name": "HTMLView",
            "style": "IPY_MODEL_7416d3026da544d9a64a5a07fcf4cfd2",
            "_dom_classes": [],
            "description": "",
            "_model_name": "HTMLModel",
            "placeholder": "​",
            "_view_module": "@jupyter-widgets/controls",
            "_model_module_version": "1.5.0",
            "value": " 483/483 [00:00&lt;00:00, 11.7kB/s]",
            "_view_count": null,
            "_view_module_version": "1.5.0",
            "description_tooltip": null,
            "_model_module": "@jupyter-widgets/controls",
            "layout": "IPY_MODEL_4d9eec54b67844b3810fe86e3da16db8"
          }
        },
        "85c31071c5294dab86aecc3bd1b46ae1": {
          "model_module": "@jupyter-widgets/controls",
          "model_name": "DescriptionStyleModel",
          "model_module_version": "1.5.0",
          "state": {
            "_view_name": "StyleView",
            "_model_name": "DescriptionStyleModel",
            "description_width": "",
            "_view_module": "@jupyter-widgets/base",
            "_model_module_version": "1.5.0",
            "_view_count": null,
            "_view_module_version": "1.2.0",
            "_model_module": "@jupyter-widgets/controls"
          }
        },
        "9f80129937bc4c9594231a885fecbfad": {
          "model_module": "@jupyter-widgets/base",
          "model_name": "LayoutModel",
          "model_module_version": "1.2.0",
          "state": {
            "_view_name": "LayoutView",
            "grid_template_rows": null,
            "right": null,
            "justify_content": null,
            "_view_module": "@jupyter-widgets/base",
            "overflow": null,
            "_model_module_version": "1.2.0",
            "_view_count": null,
            "flex_flow": null,
            "width": null,
            "min_width": null,
            "border": null,
            "align_items": null,
            "bottom": null,
            "_model_module": "@jupyter-widgets/base",
            "top": null,
            "grid_column": null,
            "overflow_y": null,
            "overflow_x": null,
            "grid_auto_flow": null,
            "grid_area": null,
            "grid_template_columns": null,
            "flex": null,
            "_model_name": "LayoutModel",
            "justify_items": null,
            "grid_row": null,
            "max_height": null,
            "align_content": null,
            "visibility": null,
            "align_self": null,
            "height": null,
            "min_height": null,
            "padding": null,
            "grid_auto_rows": null,
            "grid_gap": null,
            "max_width": null,
            "order": null,
            "_view_module_version": "1.2.0",
            "grid_template_areas": null,
            "object_position": null,
            "object_fit": null,
            "grid_auto_columns": null,
            "margin": null,
            "display": null,
            "left": null
          }
        },
        "cacbfe59bb8a4da3941c0f6ae0108e47": {
          "model_module": "@jupyter-widgets/controls",
          "model_name": "ProgressStyleModel",
          "model_module_version": "1.5.0",
          "state": {
            "_view_name": "StyleView",
            "_model_name": "ProgressStyleModel",
            "description_width": "",
            "_view_module": "@jupyter-widgets/base",
            "_model_module_version": "1.5.0",
            "_view_count": null,
            "_view_module_version": "1.2.0",
            "bar_color": null,
            "_model_module": "@jupyter-widgets/controls"
          }
        },
        "2992922ef4334e07a3a63055756dbaec": {
          "model_module": "@jupyter-widgets/base",
          "model_name": "LayoutModel",
          "model_module_version": "1.2.0",
          "state": {
            "_view_name": "LayoutView",
            "grid_template_rows": null,
            "right": null,
            "justify_content": null,
            "_view_module": "@jupyter-widgets/base",
            "overflow": null,
            "_model_module_version": "1.2.0",
            "_view_count": null,
            "flex_flow": null,
            "width": null,
            "min_width": null,
            "border": null,
            "align_items": null,
            "bottom": null,
            "_model_module": "@jupyter-widgets/base",
            "top": null,
            "grid_column": null,
            "overflow_y": null,
            "overflow_x": null,
            "grid_auto_flow": null,
            "grid_area": null,
            "grid_template_columns": null,
            "flex": null,
            "_model_name": "LayoutModel",
            "justify_items": null,
            "grid_row": null,
            "max_height": null,
            "align_content": null,
            "visibility": null,
            "align_self": null,
            "height": null,
            "min_height": null,
            "padding": null,
            "grid_auto_rows": null,
            "grid_gap": null,
            "max_width": null,
            "order": null,
            "_view_module_version": "1.2.0",
            "grid_template_areas": null,
            "object_position": null,
            "object_fit": null,
            "grid_auto_columns": null,
            "margin": null,
            "display": null,
            "left": null
          }
        },
        "7416d3026da544d9a64a5a07fcf4cfd2": {
          "model_module": "@jupyter-widgets/controls",
          "model_name": "DescriptionStyleModel",
          "model_module_version": "1.5.0",
          "state": {
            "_view_name": "StyleView",
            "_model_name": "DescriptionStyleModel",
            "description_width": "",
            "_view_module": "@jupyter-widgets/base",
            "_model_module_version": "1.5.0",
            "_view_count": null,
            "_view_module_version": "1.2.0",
            "_model_module": "@jupyter-widgets/controls"
          }
        },
        "4d9eec54b67844b3810fe86e3da16db8": {
          "model_module": "@jupyter-widgets/base",
          "model_name": "LayoutModel",
          "model_module_version": "1.2.0",
          "state": {
            "_view_name": "LayoutView",
            "grid_template_rows": null,
            "right": null,
            "justify_content": null,
            "_view_module": "@jupyter-widgets/base",
            "overflow": null,
            "_model_module_version": "1.2.0",
            "_view_count": null,
            "flex_flow": null,
            "width": null,
            "min_width": null,
            "border": null,
            "align_items": null,
            "bottom": null,
            "_model_module": "@jupyter-widgets/base",
            "top": null,
            "grid_column": null,
            "overflow_y": null,
            "overflow_x": null,
            "grid_auto_flow": null,
            "grid_area": null,
            "grid_template_columns": null,
            "flex": null,
            "_model_name": "LayoutModel",
            "justify_items": null,
            "grid_row": null,
            "max_height": null,
            "align_content": null,
            "visibility": null,
            "align_self": null,
            "height": null,
            "min_height": null,
            "padding": null,
            "grid_auto_rows": null,
            "grid_gap": null,
            "max_width": null,
            "order": null,
            "_view_module_version": "1.2.0",
            "grid_template_areas": null,
            "object_position": null,
            "object_fit": null,
            "grid_auto_columns": null,
            "margin": null,
            "display": null,
            "left": null
          }
        },
        "fcac223f13b543e5acbf396ff4e1ce4a": {
          "model_module": "@jupyter-widgets/controls",
          "model_name": "HBoxModel",
          "model_module_version": "1.5.0",
          "state": {
            "_view_name": "HBoxView",
            "_dom_classes": [],
            "_model_name": "HBoxModel",
            "_view_module": "@jupyter-widgets/controls",
            "_model_module_version": "1.5.0",
            "_view_count": null,
            "_view_module_version": "1.5.0",
            "box_style": "",
            "layout": "IPY_MODEL_10e01f19717346e295a77241863f8ffa",
            "_model_module": "@jupyter-widgets/controls",
            "children": [
              "IPY_MODEL_bc909713e18e4c319310bea3d36cc42a",
              "IPY_MODEL_144e0636de6d4b028430179dc37b9502",
              "IPY_MODEL_212df1768f10435cbf309c15c25d4689"
            ]
          }
        },
        "10e01f19717346e295a77241863f8ffa": {
          "model_module": "@jupyter-widgets/base",
          "model_name": "LayoutModel",
          "model_module_version": "1.2.0",
          "state": {
            "_view_name": "LayoutView",
            "grid_template_rows": null,
            "right": null,
            "justify_content": null,
            "_view_module": "@jupyter-widgets/base",
            "overflow": null,
            "_model_module_version": "1.2.0",
            "_view_count": null,
            "flex_flow": null,
            "width": null,
            "min_width": null,
            "border": null,
            "align_items": null,
            "bottom": null,
            "_model_module": "@jupyter-widgets/base",
            "top": null,
            "grid_column": null,
            "overflow_y": null,
            "overflow_x": null,
            "grid_auto_flow": null,
            "grid_area": null,
            "grid_template_columns": null,
            "flex": null,
            "_model_name": "LayoutModel",
            "justify_items": null,
            "grid_row": null,
            "max_height": null,
            "align_content": null,
            "visibility": null,
            "align_self": null,
            "height": null,
            "min_height": null,
            "padding": null,
            "grid_auto_rows": null,
            "grid_gap": null,
            "max_width": null,
            "order": null,
            "_view_module_version": "1.2.0",
            "grid_template_areas": null,
            "object_position": null,
            "object_fit": null,
            "grid_auto_columns": null,
            "margin": null,
            "display": null,
            "left": null
          }
        },
        "bc909713e18e4c319310bea3d36cc42a": {
          "model_module": "@jupyter-widgets/controls",
          "model_name": "HTMLModel",
          "model_module_version": "1.5.0",
          "state": {
            "_view_name": "HTMLView",
            "style": "IPY_MODEL_94e78a51cbac421baeead0dffc101d14",
            "_dom_classes": [],
            "description": "",
            "_model_name": "HTMLModel",
            "placeholder": "​",
            "_view_module": "@jupyter-widgets/controls",
            "_model_module_version": "1.5.0",
            "value": "Downloading: 100%",
            "_view_count": null,
            "_view_module_version": "1.5.0",
            "description_tooltip": null,
            "_model_module": "@jupyter-widgets/controls",
            "layout": "IPY_MODEL_0b19fc6c0c874566993ed74849493f55"
          }
        },
        "144e0636de6d4b028430179dc37b9502": {
          "model_module": "@jupyter-widgets/controls",
          "model_name": "FloatProgressModel",
          "model_module_version": "1.5.0",
          "state": {
            "_view_name": "ProgressView",
            "style": "IPY_MODEL_ca276478280e4a82820175c4fb7f4475",
            "_dom_classes": [],
            "description": "",
            "_model_name": "FloatProgressModel",
            "bar_style": "success",
            "max": 231508,
            "_view_module": "@jupyter-widgets/controls",
            "_model_module_version": "1.5.0",
            "value": 231508,
            "_view_count": null,
            "_view_module_version": "1.5.0",
            "orientation": "horizontal",
            "min": 0,
            "description_tooltip": null,
            "_model_module": "@jupyter-widgets/controls",
            "layout": "IPY_MODEL_4cbdc5840e4f45039ca143359dd8ba88"
          }
        },
        "212df1768f10435cbf309c15c25d4689": {
          "model_module": "@jupyter-widgets/controls",
          "model_name": "HTMLModel",
          "model_module_version": "1.5.0",
          "state": {
            "_view_name": "HTMLView",
            "style": "IPY_MODEL_accc98d388434f5d8b1b4a327c8ca563",
            "_dom_classes": [],
            "description": "",
            "_model_name": "HTMLModel",
            "placeholder": "​",
            "_view_module": "@jupyter-widgets/controls",
            "_model_module_version": "1.5.0",
            "value": " 226k/226k [00:00&lt;00:00, 859kB/s]",
            "_view_count": null,
            "_view_module_version": "1.5.0",
            "description_tooltip": null,
            "_model_module": "@jupyter-widgets/controls",
            "layout": "IPY_MODEL_03517be587be45a88ca55cfbf2205317"
          }
        },
        "94e78a51cbac421baeead0dffc101d14": {
          "model_module": "@jupyter-widgets/controls",
          "model_name": "DescriptionStyleModel",
          "model_module_version": "1.5.0",
          "state": {
            "_view_name": "StyleView",
            "_model_name": "DescriptionStyleModel",
            "description_width": "",
            "_view_module": "@jupyter-widgets/base",
            "_model_module_version": "1.5.0",
            "_view_count": null,
            "_view_module_version": "1.2.0",
            "_model_module": "@jupyter-widgets/controls"
          }
        },
        "0b19fc6c0c874566993ed74849493f55": {
          "model_module": "@jupyter-widgets/base",
          "model_name": "LayoutModel",
          "model_module_version": "1.2.0",
          "state": {
            "_view_name": "LayoutView",
            "grid_template_rows": null,
            "right": null,
            "justify_content": null,
            "_view_module": "@jupyter-widgets/base",
            "overflow": null,
            "_model_module_version": "1.2.0",
            "_view_count": null,
            "flex_flow": null,
            "width": null,
            "min_width": null,
            "border": null,
            "align_items": null,
            "bottom": null,
            "_model_module": "@jupyter-widgets/base",
            "top": null,
            "grid_column": null,
            "overflow_y": null,
            "overflow_x": null,
            "grid_auto_flow": null,
            "grid_area": null,
            "grid_template_columns": null,
            "flex": null,
            "_model_name": "LayoutModel",
            "justify_items": null,
            "grid_row": null,
            "max_height": null,
            "align_content": null,
            "visibility": null,
            "align_self": null,
            "height": null,
            "min_height": null,
            "padding": null,
            "grid_auto_rows": null,
            "grid_gap": null,
            "max_width": null,
            "order": null,
            "_view_module_version": "1.2.0",
            "grid_template_areas": null,
            "object_position": null,
            "object_fit": null,
            "grid_auto_columns": null,
            "margin": null,
            "display": null,
            "left": null
          }
        },
        "ca276478280e4a82820175c4fb7f4475": {
          "model_module": "@jupyter-widgets/controls",
          "model_name": "ProgressStyleModel",
          "model_module_version": "1.5.0",
          "state": {
            "_view_name": "StyleView",
            "_model_name": "ProgressStyleModel",
            "description_width": "",
            "_view_module": "@jupyter-widgets/base",
            "_model_module_version": "1.5.0",
            "_view_count": null,
            "_view_module_version": "1.2.0",
            "bar_color": null,
            "_model_module": "@jupyter-widgets/controls"
          }
        },
        "4cbdc5840e4f45039ca143359dd8ba88": {
          "model_module": "@jupyter-widgets/base",
          "model_name": "LayoutModel",
          "model_module_version": "1.2.0",
          "state": {
            "_view_name": "LayoutView",
            "grid_template_rows": null,
            "right": null,
            "justify_content": null,
            "_view_module": "@jupyter-widgets/base",
            "overflow": null,
            "_model_module_version": "1.2.0",
            "_view_count": null,
            "flex_flow": null,
            "width": null,
            "min_width": null,
            "border": null,
            "align_items": null,
            "bottom": null,
            "_model_module": "@jupyter-widgets/base",
            "top": null,
            "grid_column": null,
            "overflow_y": null,
            "overflow_x": null,
            "grid_auto_flow": null,
            "grid_area": null,
            "grid_template_columns": null,
            "flex": null,
            "_model_name": "LayoutModel",
            "justify_items": null,
            "grid_row": null,
            "max_height": null,
            "align_content": null,
            "visibility": null,
            "align_self": null,
            "height": null,
            "min_height": null,
            "padding": null,
            "grid_auto_rows": null,
            "grid_gap": null,
            "max_width": null,
            "order": null,
            "_view_module_version": "1.2.0",
            "grid_template_areas": null,
            "object_position": null,
            "object_fit": null,
            "grid_auto_columns": null,
            "margin": null,
            "display": null,
            "left": null
          }
        },
        "accc98d388434f5d8b1b4a327c8ca563": {
          "model_module": "@jupyter-widgets/controls",
          "model_name": "DescriptionStyleModel",
          "model_module_version": "1.5.0",
          "state": {
            "_view_name": "StyleView",
            "_model_name": "DescriptionStyleModel",
            "description_width": "",
            "_view_module": "@jupyter-widgets/base",
            "_model_module_version": "1.5.0",
            "_view_count": null,
            "_view_module_version": "1.2.0",
            "_model_module": "@jupyter-widgets/controls"
          }
        },
        "03517be587be45a88ca55cfbf2205317": {
          "model_module": "@jupyter-widgets/base",
          "model_name": "LayoutModel",
          "model_module_version": "1.2.0",
          "state": {
            "_view_name": "LayoutView",
            "grid_template_rows": null,
            "right": null,
            "justify_content": null,
            "_view_module": "@jupyter-widgets/base",
            "overflow": null,
            "_model_module_version": "1.2.0",
            "_view_count": null,
            "flex_flow": null,
            "width": null,
            "min_width": null,
            "border": null,
            "align_items": null,
            "bottom": null,
            "_model_module": "@jupyter-widgets/base",
            "top": null,
            "grid_column": null,
            "overflow_y": null,
            "overflow_x": null,
            "grid_auto_flow": null,
            "grid_area": null,
            "grid_template_columns": null,
            "flex": null,
            "_model_name": "LayoutModel",
            "justify_items": null,
            "grid_row": null,
            "max_height": null,
            "align_content": null,
            "visibility": null,
            "align_self": null,
            "height": null,
            "min_height": null,
            "padding": null,
            "grid_auto_rows": null,
            "grid_gap": null,
            "max_width": null,
            "order": null,
            "_view_module_version": "1.2.0",
            "grid_template_areas": null,
            "object_position": null,
            "object_fit": null,
            "grid_auto_columns": null,
            "margin": null,
            "display": null,
            "left": null
          }
        },
        "9b96a3f56fb34f81af75d10dd175eb3a": {
          "model_module": "@jupyter-widgets/controls",
          "model_name": "HBoxModel",
          "model_module_version": "1.5.0",
          "state": {
            "_view_name": "HBoxView",
            "_dom_classes": [],
            "_model_name": "HBoxModel",
            "_view_module": "@jupyter-widgets/controls",
            "_model_module_version": "1.5.0",
            "_view_count": null,
            "_view_module_version": "1.5.0",
            "box_style": "",
            "layout": "IPY_MODEL_b26fa25105174d43b6c45ad424400518",
            "_model_module": "@jupyter-widgets/controls",
            "children": [
              "IPY_MODEL_ce74964e8287409d9638d93e45bcb355",
              "IPY_MODEL_eec0ee2afd65420aae5168dbd13fc191",
              "IPY_MODEL_1ef24aeade4242cc838e2bbdde6b6bae"
            ]
          }
        },
        "b26fa25105174d43b6c45ad424400518": {
          "model_module": "@jupyter-widgets/base",
          "model_name": "LayoutModel",
          "model_module_version": "1.2.0",
          "state": {
            "_view_name": "LayoutView",
            "grid_template_rows": null,
            "right": null,
            "justify_content": null,
            "_view_module": "@jupyter-widgets/base",
            "overflow": null,
            "_model_module_version": "1.2.0",
            "_view_count": null,
            "flex_flow": null,
            "width": null,
            "min_width": null,
            "border": null,
            "align_items": null,
            "bottom": null,
            "_model_module": "@jupyter-widgets/base",
            "top": null,
            "grid_column": null,
            "overflow_y": null,
            "overflow_x": null,
            "grid_auto_flow": null,
            "grid_area": null,
            "grid_template_columns": null,
            "flex": null,
            "_model_name": "LayoutModel",
            "justify_items": null,
            "grid_row": null,
            "max_height": null,
            "align_content": null,
            "visibility": null,
            "align_self": null,
            "height": null,
            "min_height": null,
            "padding": null,
            "grid_auto_rows": null,
            "grid_gap": null,
            "max_width": null,
            "order": null,
            "_view_module_version": "1.2.0",
            "grid_template_areas": null,
            "object_position": null,
            "object_fit": null,
            "grid_auto_columns": null,
            "margin": null,
            "display": null,
            "left": null
          }
        },
        "ce74964e8287409d9638d93e45bcb355": {
          "model_module": "@jupyter-widgets/controls",
          "model_name": "HTMLModel",
          "model_module_version": "1.5.0",
          "state": {
            "_view_name": "HTMLView",
            "style": "IPY_MODEL_bec64743bfdf4e978ae8eabbc6995592",
            "_dom_classes": [],
            "description": "",
            "_model_name": "HTMLModel",
            "placeholder": "​",
            "_view_module": "@jupyter-widgets/controls",
            "_model_module_version": "1.5.0",
            "value": "Downloading: 100%",
            "_view_count": null,
            "_view_module_version": "1.5.0",
            "description_tooltip": null,
            "_model_module": "@jupyter-widgets/controls",
            "layout": "IPY_MODEL_2272c18e69434dc8a0d273fd2f2a4c6c"
          }
        },
        "eec0ee2afd65420aae5168dbd13fc191": {
          "model_module": "@jupyter-widgets/controls",
          "model_name": "FloatProgressModel",
          "model_module_version": "1.5.0",
          "state": {
            "_view_name": "ProgressView",
            "style": "IPY_MODEL_f7963f85afab4da2a45d391ad5ed9609",
            "_dom_classes": [],
            "description": "",
            "_model_name": "FloatProgressModel",
            "bar_style": "success",
            "max": 466062,
            "_view_module": "@jupyter-widgets/controls",
            "_model_module_version": "1.5.0",
            "value": 466062,
            "_view_count": null,
            "_view_module_version": "1.5.0",
            "orientation": "horizontal",
            "min": 0,
            "description_tooltip": null,
            "_model_module": "@jupyter-widgets/controls",
            "layout": "IPY_MODEL_6cd3eb0a2f3144d1baed243165da122c"
          }
        },
        "1ef24aeade4242cc838e2bbdde6b6bae": {
          "model_module": "@jupyter-widgets/controls",
          "model_name": "HTMLModel",
          "model_module_version": "1.5.0",
          "state": {
            "_view_name": "HTMLView",
            "style": "IPY_MODEL_e802619bef27406daf5c5fdc3fc74d99",
            "_dom_classes": [],
            "description": "",
            "_model_name": "HTMLModel",
            "placeholder": "​",
            "_view_module": "@jupyter-widgets/controls",
            "_model_module_version": "1.5.0",
            "value": " 455k/455k [00:00&lt;00:00, 904kB/s]",
            "_view_count": null,
            "_view_module_version": "1.5.0",
            "description_tooltip": null,
            "_model_module": "@jupyter-widgets/controls",
            "layout": "IPY_MODEL_b5682c0157704167a69ccd454410e326"
          }
        },
        "bec64743bfdf4e978ae8eabbc6995592": {
          "model_module": "@jupyter-widgets/controls",
          "model_name": "DescriptionStyleModel",
          "model_module_version": "1.5.0",
          "state": {
            "_view_name": "StyleView",
            "_model_name": "DescriptionStyleModel",
            "description_width": "",
            "_view_module": "@jupyter-widgets/base",
            "_model_module_version": "1.5.0",
            "_view_count": null,
            "_view_module_version": "1.2.0",
            "_model_module": "@jupyter-widgets/controls"
          }
        },
        "2272c18e69434dc8a0d273fd2f2a4c6c": {
          "model_module": "@jupyter-widgets/base",
          "model_name": "LayoutModel",
          "model_module_version": "1.2.0",
          "state": {
            "_view_name": "LayoutView",
            "grid_template_rows": null,
            "right": null,
            "justify_content": null,
            "_view_module": "@jupyter-widgets/base",
            "overflow": null,
            "_model_module_version": "1.2.0",
            "_view_count": null,
            "flex_flow": null,
            "width": null,
            "min_width": null,
            "border": null,
            "align_items": null,
            "bottom": null,
            "_model_module": "@jupyter-widgets/base",
            "top": null,
            "grid_column": null,
            "overflow_y": null,
            "overflow_x": null,
            "grid_auto_flow": null,
            "grid_area": null,
            "grid_template_columns": null,
            "flex": null,
            "_model_name": "LayoutModel",
            "justify_items": null,
            "grid_row": null,
            "max_height": null,
            "align_content": null,
            "visibility": null,
            "align_self": null,
            "height": null,
            "min_height": null,
            "padding": null,
            "grid_auto_rows": null,
            "grid_gap": null,
            "max_width": null,
            "order": null,
            "_view_module_version": "1.2.0",
            "grid_template_areas": null,
            "object_position": null,
            "object_fit": null,
            "grid_auto_columns": null,
            "margin": null,
            "display": null,
            "left": null
          }
        },
        "f7963f85afab4da2a45d391ad5ed9609": {
          "model_module": "@jupyter-widgets/controls",
          "model_name": "ProgressStyleModel",
          "model_module_version": "1.5.0",
          "state": {
            "_view_name": "StyleView",
            "_model_name": "ProgressStyleModel",
            "description_width": "",
            "_view_module": "@jupyter-widgets/base",
            "_model_module_version": "1.5.0",
            "_view_count": null,
            "_view_module_version": "1.2.0",
            "bar_color": null,
            "_model_module": "@jupyter-widgets/controls"
          }
        },
        "6cd3eb0a2f3144d1baed243165da122c": {
          "model_module": "@jupyter-widgets/base",
          "model_name": "LayoutModel",
          "model_module_version": "1.2.0",
          "state": {
            "_view_name": "LayoutView",
            "grid_template_rows": null,
            "right": null,
            "justify_content": null,
            "_view_module": "@jupyter-widgets/base",
            "overflow": null,
            "_model_module_version": "1.2.0",
            "_view_count": null,
            "flex_flow": null,
            "width": null,
            "min_width": null,
            "border": null,
            "align_items": null,
            "bottom": null,
            "_model_module": "@jupyter-widgets/base",
            "top": null,
            "grid_column": null,
            "overflow_y": null,
            "overflow_x": null,
            "grid_auto_flow": null,
            "grid_area": null,
            "grid_template_columns": null,
            "flex": null,
            "_model_name": "LayoutModel",
            "justify_items": null,
            "grid_row": null,
            "max_height": null,
            "align_content": null,
            "visibility": null,
            "align_self": null,
            "height": null,
            "min_height": null,
            "padding": null,
            "grid_auto_rows": null,
            "grid_gap": null,
            "max_width": null,
            "order": null,
            "_view_module_version": "1.2.0",
            "grid_template_areas": null,
            "object_position": null,
            "object_fit": null,
            "grid_auto_columns": null,
            "margin": null,
            "display": null,
            "left": null
          }
        },
        "e802619bef27406daf5c5fdc3fc74d99": {
          "model_module": "@jupyter-widgets/controls",
          "model_name": "DescriptionStyleModel",
          "model_module_version": "1.5.0",
          "state": {
            "_view_name": "StyleView",
            "_model_name": "DescriptionStyleModel",
            "description_width": "",
            "_view_module": "@jupyter-widgets/base",
            "_model_module_version": "1.5.0",
            "_view_count": null,
            "_view_module_version": "1.2.0",
            "_model_module": "@jupyter-widgets/controls"
          }
        },
        "b5682c0157704167a69ccd454410e326": {
          "model_module": "@jupyter-widgets/base",
          "model_name": "LayoutModel",
          "model_module_version": "1.2.0",
          "state": {
            "_view_name": "LayoutView",
            "grid_template_rows": null,
            "right": null,
            "justify_content": null,
            "_view_module": "@jupyter-widgets/base",
            "overflow": null,
            "_model_module_version": "1.2.0",
            "_view_count": null,
            "flex_flow": null,
            "width": null,
            "min_width": null,
            "border": null,
            "align_items": null,
            "bottom": null,
            "_model_module": "@jupyter-widgets/base",
            "top": null,
            "grid_column": null,
            "overflow_y": null,
            "overflow_x": null,
            "grid_auto_flow": null,
            "grid_area": null,
            "grid_template_columns": null,
            "flex": null,
            "_model_name": "LayoutModel",
            "justify_items": null,
            "grid_row": null,
            "max_height": null,
            "align_content": null,
            "visibility": null,
            "align_self": null,
            "height": null,
            "min_height": null,
            "padding": null,
            "grid_auto_rows": null,
            "grid_gap": null,
            "max_width": null,
            "order": null,
            "_view_module_version": "1.2.0",
            "grid_template_areas": null,
            "object_position": null,
            "object_fit": null,
            "grid_auto_columns": null,
            "margin": null,
            "display": null,
            "left": null
          }
        },
        "b105f2c6ead042338628901194c8fd0e": {
          "model_module": "@jupyter-widgets/controls",
          "model_name": "HBoxModel",
          "model_module_version": "1.5.0",
          "state": {
            "_view_name": "HBoxView",
            "_dom_classes": [],
            "_model_name": "HBoxModel",
            "_view_module": "@jupyter-widgets/controls",
            "_model_module_version": "1.5.0",
            "_view_count": null,
            "_view_module_version": "1.5.0",
            "box_style": "",
            "layout": "IPY_MODEL_14e8b01ce298466cbd1e060eb69322c9",
            "_model_module": "@jupyter-widgets/controls",
            "children": [
              "IPY_MODEL_fde86984f3c3491eac07888718ca87fc",
              "IPY_MODEL_0d6cec0538a545208bb99292b1fe193c",
              "IPY_MODEL_eb1ca665fdea497db1552379885a089a"
            ]
          }
        },
        "14e8b01ce298466cbd1e060eb69322c9": {
          "model_module": "@jupyter-widgets/base",
          "model_name": "LayoutModel",
          "model_module_version": "1.2.0",
          "state": {
            "_view_name": "LayoutView",
            "grid_template_rows": null,
            "right": null,
            "justify_content": null,
            "_view_module": "@jupyter-widgets/base",
            "overflow": null,
            "_model_module_version": "1.2.0",
            "_view_count": null,
            "flex_flow": null,
            "width": null,
            "min_width": null,
            "border": null,
            "align_items": null,
            "bottom": null,
            "_model_module": "@jupyter-widgets/base",
            "top": null,
            "grid_column": null,
            "overflow_y": null,
            "overflow_x": null,
            "grid_auto_flow": null,
            "grid_area": null,
            "grid_template_columns": null,
            "flex": null,
            "_model_name": "LayoutModel",
            "justify_items": null,
            "grid_row": null,
            "max_height": null,
            "align_content": null,
            "visibility": null,
            "align_self": null,
            "height": null,
            "min_height": null,
            "padding": null,
            "grid_auto_rows": null,
            "grid_gap": null,
            "max_width": null,
            "order": null,
            "_view_module_version": "1.2.0",
            "grid_template_areas": null,
            "object_position": null,
            "object_fit": null,
            "grid_auto_columns": null,
            "margin": null,
            "display": null,
            "left": null
          }
        },
        "fde86984f3c3491eac07888718ca87fc": {
          "model_module": "@jupyter-widgets/controls",
          "model_name": "HTMLModel",
          "model_module_version": "1.5.0",
          "state": {
            "_view_name": "HTMLView",
            "style": "IPY_MODEL_44be1c1c06a145898749e3f446023780",
            "_dom_classes": [],
            "description": "",
            "_model_name": "HTMLModel",
            "placeholder": "​",
            "_view_module": "@jupyter-widgets/controls",
            "_model_module_version": "1.5.0",
            "value": "Downloading: 100%",
            "_view_count": null,
            "_view_module_version": "1.5.0",
            "description_tooltip": null,
            "_model_module": "@jupyter-widgets/controls",
            "layout": "IPY_MODEL_b0ce8972f88b4a43ac983a4de45e9d42"
          }
        },
        "0d6cec0538a545208bb99292b1fe193c": {
          "model_module": "@jupyter-widgets/controls",
          "model_name": "FloatProgressModel",
          "model_module_version": "1.5.0",
          "state": {
            "_view_name": "ProgressView",
            "style": "IPY_MODEL_c2f3c8daccaf447d9238907a80ce926c",
            "_dom_classes": [],
            "description": "",
            "_model_name": "FloatProgressModel",
            "bar_style": "success",
            "max": 363423424,
            "_view_module": "@jupyter-widgets/controls",
            "_model_module_version": "1.5.0",
            "value": 363423424,
            "_view_count": null,
            "_view_module_version": "1.5.0",
            "orientation": "horizontal",
            "min": 0,
            "description_tooltip": null,
            "_model_module": "@jupyter-widgets/controls",
            "layout": "IPY_MODEL_aac9f02d98334e6984b73beb588bcba5"
          }
        },
        "eb1ca665fdea497db1552379885a089a": {
          "model_module": "@jupyter-widgets/controls",
          "model_name": "HTMLModel",
          "model_module_version": "1.5.0",
          "state": {
            "_view_name": "HTMLView",
            "style": "IPY_MODEL_6737f8761c784c9f8410f228659a31e2",
            "_dom_classes": [],
            "description": "",
            "_model_name": "HTMLModel",
            "placeholder": "​",
            "_view_module": "@jupyter-widgets/controls",
            "_model_module_version": "1.5.0",
            "value": " 347M/347M [00:11&lt;00:00, 32.1MB/s]",
            "_view_count": null,
            "_view_module_version": "1.5.0",
            "description_tooltip": null,
            "_model_module": "@jupyter-widgets/controls",
            "layout": "IPY_MODEL_95cc508c51d84f46a8ed4025df82780c"
          }
        },
        "44be1c1c06a145898749e3f446023780": {
          "model_module": "@jupyter-widgets/controls",
          "model_name": "DescriptionStyleModel",
          "model_module_version": "1.5.0",
          "state": {
            "_view_name": "StyleView",
            "_model_name": "DescriptionStyleModel",
            "description_width": "",
            "_view_module": "@jupyter-widgets/base",
            "_model_module_version": "1.5.0",
            "_view_count": null,
            "_view_module_version": "1.2.0",
            "_model_module": "@jupyter-widgets/controls"
          }
        },
        "b0ce8972f88b4a43ac983a4de45e9d42": {
          "model_module": "@jupyter-widgets/base",
          "model_name": "LayoutModel",
          "model_module_version": "1.2.0",
          "state": {
            "_view_name": "LayoutView",
            "grid_template_rows": null,
            "right": null,
            "justify_content": null,
            "_view_module": "@jupyter-widgets/base",
            "overflow": null,
            "_model_module_version": "1.2.0",
            "_view_count": null,
            "flex_flow": null,
            "width": null,
            "min_width": null,
            "border": null,
            "align_items": null,
            "bottom": null,
            "_model_module": "@jupyter-widgets/base",
            "top": null,
            "grid_column": null,
            "overflow_y": null,
            "overflow_x": null,
            "grid_auto_flow": null,
            "grid_area": null,
            "grid_template_columns": null,
            "flex": null,
            "_model_name": "LayoutModel",
            "justify_items": null,
            "grid_row": null,
            "max_height": null,
            "align_content": null,
            "visibility": null,
            "align_self": null,
            "height": null,
            "min_height": null,
            "padding": null,
            "grid_auto_rows": null,
            "grid_gap": null,
            "max_width": null,
            "order": null,
            "_view_module_version": "1.2.0",
            "grid_template_areas": null,
            "object_position": null,
            "object_fit": null,
            "grid_auto_columns": null,
            "margin": null,
            "display": null,
            "left": null
          }
        },
        "c2f3c8daccaf447d9238907a80ce926c": {
          "model_module": "@jupyter-widgets/controls",
          "model_name": "ProgressStyleModel",
          "model_module_version": "1.5.0",
          "state": {
            "_view_name": "StyleView",
            "_model_name": "ProgressStyleModel",
            "description_width": "",
            "_view_module": "@jupyter-widgets/base",
            "_model_module_version": "1.5.0",
            "_view_count": null,
            "_view_module_version": "1.2.0",
            "bar_color": null,
            "_model_module": "@jupyter-widgets/controls"
          }
        },
        "aac9f02d98334e6984b73beb588bcba5": {
          "model_module": "@jupyter-widgets/base",
          "model_name": "LayoutModel",
          "model_module_version": "1.2.0",
          "state": {
            "_view_name": "LayoutView",
            "grid_template_rows": null,
            "right": null,
            "justify_content": null,
            "_view_module": "@jupyter-widgets/base",
            "overflow": null,
            "_model_module_version": "1.2.0",
            "_view_count": null,
            "flex_flow": null,
            "width": null,
            "min_width": null,
            "border": null,
            "align_items": null,
            "bottom": null,
            "_model_module": "@jupyter-widgets/base",
            "top": null,
            "grid_column": null,
            "overflow_y": null,
            "overflow_x": null,
            "grid_auto_flow": null,
            "grid_area": null,
            "grid_template_columns": null,
            "flex": null,
            "_model_name": "LayoutModel",
            "justify_items": null,
            "grid_row": null,
            "max_height": null,
            "align_content": null,
            "visibility": null,
            "align_self": null,
            "height": null,
            "min_height": null,
            "padding": null,
            "grid_auto_rows": null,
            "grid_gap": null,
            "max_width": null,
            "order": null,
            "_view_module_version": "1.2.0",
            "grid_template_areas": null,
            "object_position": null,
            "object_fit": null,
            "grid_auto_columns": null,
            "margin": null,
            "display": null,
            "left": null
          }
        },
        "6737f8761c784c9f8410f228659a31e2": {
          "model_module": "@jupyter-widgets/controls",
          "model_name": "DescriptionStyleModel",
          "model_module_version": "1.5.0",
          "state": {
            "_view_name": "StyleView",
            "_model_name": "DescriptionStyleModel",
            "description_width": "",
            "_view_module": "@jupyter-widgets/base",
            "_model_module_version": "1.5.0",
            "_view_count": null,
            "_view_module_version": "1.2.0",
            "_model_module": "@jupyter-widgets/controls"
          }
        },
        "95cc508c51d84f46a8ed4025df82780c": {
          "model_module": "@jupyter-widgets/base",
          "model_name": "LayoutModel",
          "model_module_version": "1.2.0",
          "state": {
            "_view_name": "LayoutView",
            "grid_template_rows": null,
            "right": null,
            "justify_content": null,
            "_view_module": "@jupyter-widgets/base",
            "overflow": null,
            "_model_module_version": "1.2.0",
            "_view_count": null,
            "flex_flow": null,
            "width": null,
            "min_width": null,
            "border": null,
            "align_items": null,
            "bottom": null,
            "_model_module": "@jupyter-widgets/base",
            "top": null,
            "grid_column": null,
            "overflow_y": null,
            "overflow_x": null,
            "grid_auto_flow": null,
            "grid_area": null,
            "grid_template_columns": null,
            "flex": null,
            "_model_name": "LayoutModel",
            "justify_items": null,
            "grid_row": null,
            "max_height": null,
            "align_content": null,
            "visibility": null,
            "align_self": null,
            "height": null,
            "min_height": null,
            "padding": null,
            "grid_auto_rows": null,
            "grid_gap": null,
            "max_width": null,
            "order": null,
            "_view_module_version": "1.2.0",
            "grid_template_areas": null,
            "object_position": null,
            "object_fit": null,
            "grid_auto_columns": null,
            "margin": null,
            "display": null,
            "left": null
          }
        },
        "ec8838cc8b0243c59f5af2eb583b66e3": {
          "model_module": "@jupyter-widgets/controls",
          "model_name": "HBoxModel",
          "model_module_version": "1.5.0",
          "state": {
            "_view_name": "HBoxView",
            "_dom_classes": [],
            "_model_name": "HBoxModel",
            "_view_module": "@jupyter-widgets/controls",
            "_model_module_version": "1.5.0",
            "_view_count": null,
            "_view_module_version": "1.5.0",
            "box_style": "",
            "layout": "IPY_MODEL_74fe8496be0643678c4d25a8eea68517",
            "_model_module": "@jupyter-widgets/controls",
            "children": [
              "IPY_MODEL_dcff4e2d574a45d7a5227c18102aad8f",
              "IPY_MODEL_c636f617659e4f89be7f2f5c0a31f0b7",
              "IPY_MODEL_9c6963b7b07c4b70843c343d31c0c4df"
            ]
          }
        },
        "74fe8496be0643678c4d25a8eea68517": {
          "model_module": "@jupyter-widgets/base",
          "model_name": "LayoutModel",
          "model_module_version": "1.2.0",
          "state": {
            "_view_name": "LayoutView",
            "grid_template_rows": null,
            "right": null,
            "justify_content": null,
            "_view_module": "@jupyter-widgets/base",
            "overflow": null,
            "_model_module_version": "1.2.0",
            "_view_count": null,
            "flex_flow": null,
            "width": null,
            "min_width": null,
            "border": null,
            "align_items": null,
            "bottom": null,
            "_model_module": "@jupyter-widgets/base",
            "top": null,
            "grid_column": null,
            "overflow_y": null,
            "overflow_x": null,
            "grid_auto_flow": null,
            "grid_area": null,
            "grid_template_columns": null,
            "flex": null,
            "_model_name": "LayoutModel",
            "justify_items": null,
            "grid_row": null,
            "max_height": null,
            "align_content": null,
            "visibility": null,
            "align_self": null,
            "height": null,
            "min_height": null,
            "padding": null,
            "grid_auto_rows": null,
            "grid_gap": null,
            "max_width": null,
            "order": null,
            "_view_module_version": "1.2.0",
            "grid_template_areas": null,
            "object_position": null,
            "object_fit": null,
            "grid_auto_columns": null,
            "margin": null,
            "display": null,
            "left": null
          }
        },
        "dcff4e2d574a45d7a5227c18102aad8f": {
          "model_module": "@jupyter-widgets/controls",
          "model_name": "HTMLModel",
          "model_module_version": "1.5.0",
          "state": {
            "_view_name": "HTMLView",
            "style": "IPY_MODEL_e7a78c68f2054fbe888b925b5920ae2d",
            "_dom_classes": [],
            "description": "",
            "_model_name": "HTMLModel",
            "placeholder": "​",
            "_view_module": "@jupyter-widgets/controls",
            "_model_module_version": "1.5.0",
            "value": "Downloading: 100%",
            "_view_count": null,
            "_view_module_version": "1.5.0",
            "description_tooltip": null,
            "_model_module": "@jupyter-widgets/controls",
            "layout": "IPY_MODEL_662dca74d1184a34ba95112e27096ea0"
          }
        },
        "c636f617659e4f89be7f2f5c0a31f0b7": {
          "model_module": "@jupyter-widgets/controls",
          "model_name": "FloatProgressModel",
          "model_module_version": "1.5.0",
          "state": {
            "_view_name": "ProgressView",
            "style": "IPY_MODEL_b4dbe369866d4347b811effccc5512a4",
            "_dom_classes": [],
            "description": "",
            "_model_name": "FloatProgressModel",
            "bar_style": "success",
            "max": 29,
            "_view_module": "@jupyter-widgets/controls",
            "_model_module_version": "1.5.0",
            "value": 29,
            "_view_count": null,
            "_view_module_version": "1.5.0",
            "orientation": "horizontal",
            "min": 0,
            "description_tooltip": null,
            "_model_module": "@jupyter-widgets/controls",
            "layout": "IPY_MODEL_b588a2d2e1f942a3b8e88c7c857408ba"
          }
        },
        "9c6963b7b07c4b70843c343d31c0c4df": {
          "model_module": "@jupyter-widgets/controls",
          "model_name": "HTMLModel",
          "model_module_version": "1.5.0",
          "state": {
            "_view_name": "HTMLView",
            "style": "IPY_MODEL_acf90c80a3e6488c9dcf98acb3b33499",
            "_dom_classes": [],
            "description": "",
            "_model_name": "HTMLModel",
            "placeholder": "​",
            "_view_module": "@jupyter-widgets/controls",
            "_model_module_version": "1.5.0",
            "value": " 29.0/29.0 [00:00&lt;00:00, 702B/s]",
            "_view_count": null,
            "_view_module_version": "1.5.0",
            "description_tooltip": null,
            "_model_module": "@jupyter-widgets/controls",
            "layout": "IPY_MODEL_b7b18dfd49b541daaec63e3c6ffa2a40"
          }
        },
        "e7a78c68f2054fbe888b925b5920ae2d": {
          "model_module": "@jupyter-widgets/controls",
          "model_name": "DescriptionStyleModel",
          "model_module_version": "1.5.0",
          "state": {
            "_view_name": "StyleView",
            "_model_name": "DescriptionStyleModel",
            "description_width": "",
            "_view_module": "@jupyter-widgets/base",
            "_model_module_version": "1.5.0",
            "_view_count": null,
            "_view_module_version": "1.2.0",
            "_model_module": "@jupyter-widgets/controls"
          }
        },
        "662dca74d1184a34ba95112e27096ea0": {
          "model_module": "@jupyter-widgets/base",
          "model_name": "LayoutModel",
          "model_module_version": "1.2.0",
          "state": {
            "_view_name": "LayoutView",
            "grid_template_rows": null,
            "right": null,
            "justify_content": null,
            "_view_module": "@jupyter-widgets/base",
            "overflow": null,
            "_model_module_version": "1.2.0",
            "_view_count": null,
            "flex_flow": null,
            "width": null,
            "min_width": null,
            "border": null,
            "align_items": null,
            "bottom": null,
            "_model_module": "@jupyter-widgets/base",
            "top": null,
            "grid_column": null,
            "overflow_y": null,
            "overflow_x": null,
            "grid_auto_flow": null,
            "grid_area": null,
            "grid_template_columns": null,
            "flex": null,
            "_model_name": "LayoutModel",
            "justify_items": null,
            "grid_row": null,
            "max_height": null,
            "align_content": null,
            "visibility": null,
            "align_self": null,
            "height": null,
            "min_height": null,
            "padding": null,
            "grid_auto_rows": null,
            "grid_gap": null,
            "max_width": null,
            "order": null,
            "_view_module_version": "1.2.0",
            "grid_template_areas": null,
            "object_position": null,
            "object_fit": null,
            "grid_auto_columns": null,
            "margin": null,
            "display": null,
            "left": null
          }
        },
        "b4dbe369866d4347b811effccc5512a4": {
          "model_module": "@jupyter-widgets/controls",
          "model_name": "ProgressStyleModel",
          "model_module_version": "1.5.0",
          "state": {
            "_view_name": "StyleView",
            "_model_name": "ProgressStyleModel",
            "description_width": "",
            "_view_module": "@jupyter-widgets/base",
            "_model_module_version": "1.5.0",
            "_view_count": null,
            "_view_module_version": "1.2.0",
            "bar_color": null,
            "_model_module": "@jupyter-widgets/controls"
          }
        },
        "b588a2d2e1f942a3b8e88c7c857408ba": {
          "model_module": "@jupyter-widgets/base",
          "model_name": "LayoutModel",
          "model_module_version": "1.2.0",
          "state": {
            "_view_name": "LayoutView",
            "grid_template_rows": null,
            "right": null,
            "justify_content": null,
            "_view_module": "@jupyter-widgets/base",
            "overflow": null,
            "_model_module_version": "1.2.0",
            "_view_count": null,
            "flex_flow": null,
            "width": null,
            "min_width": null,
            "border": null,
            "align_items": null,
            "bottom": null,
            "_model_module": "@jupyter-widgets/base",
            "top": null,
            "grid_column": null,
            "overflow_y": null,
            "overflow_x": null,
            "grid_auto_flow": null,
            "grid_area": null,
            "grid_template_columns": null,
            "flex": null,
            "_model_name": "LayoutModel",
            "justify_items": null,
            "grid_row": null,
            "max_height": null,
            "align_content": null,
            "visibility": null,
            "align_self": null,
            "height": null,
            "min_height": null,
            "padding": null,
            "grid_auto_rows": null,
            "grid_gap": null,
            "max_width": null,
            "order": null,
            "_view_module_version": "1.2.0",
            "grid_template_areas": null,
            "object_position": null,
            "object_fit": null,
            "grid_auto_columns": null,
            "margin": null,
            "display": null,
            "left": null
          }
        },
        "acf90c80a3e6488c9dcf98acb3b33499": {
          "model_module": "@jupyter-widgets/controls",
          "model_name": "DescriptionStyleModel",
          "model_module_version": "1.5.0",
          "state": {
            "_view_name": "StyleView",
            "_model_name": "DescriptionStyleModel",
            "description_width": "",
            "_view_module": "@jupyter-widgets/base",
            "_model_module_version": "1.5.0",
            "_view_count": null,
            "_view_module_version": "1.2.0",
            "_model_module": "@jupyter-widgets/controls"
          }
        },
        "b7b18dfd49b541daaec63e3c6ffa2a40": {
          "model_module": "@jupyter-widgets/base",
          "model_name": "LayoutModel",
          "model_module_version": "1.2.0",
          "state": {
            "_view_name": "LayoutView",
            "grid_template_rows": null,
            "right": null,
            "justify_content": null,
            "_view_module": "@jupyter-widgets/base",
            "overflow": null,
            "_model_module_version": "1.2.0",
            "_view_count": null,
            "flex_flow": null,
            "width": null,
            "min_width": null,
            "border": null,
            "align_items": null,
            "bottom": null,
            "_model_module": "@jupyter-widgets/base",
            "top": null,
            "grid_column": null,
            "overflow_y": null,
            "overflow_x": null,
            "grid_auto_flow": null,
            "grid_area": null,
            "grid_template_columns": null,
            "flex": null,
            "_model_name": "LayoutModel",
            "justify_items": null,
            "grid_row": null,
            "max_height": null,
            "align_content": null,
            "visibility": null,
            "align_self": null,
            "height": null,
            "min_height": null,
            "padding": null,
            "grid_auto_rows": null,
            "grid_gap": null,
            "max_width": null,
            "order": null,
            "_view_module_version": "1.2.0",
            "grid_template_areas": null,
            "object_position": null,
            "object_fit": null,
            "grid_auto_columns": null,
            "margin": null,
            "display": null,
            "left": null
          }
        },
        "4d13df183e3f43ec9e0c16e9c9288b81": {
          "model_module": "@jupyter-widgets/controls",
          "model_name": "HBoxModel",
          "model_module_version": "1.5.0",
          "state": {
            "_view_name": "HBoxView",
            "_dom_classes": [],
            "_model_name": "HBoxModel",
            "_view_module": "@jupyter-widgets/controls",
            "_model_module_version": "1.5.0",
            "_view_count": null,
            "_view_module_version": "1.5.0",
            "box_style": "",
            "layout": "IPY_MODEL_1d382b99aa7e42c2b98f2da524dfb2df",
            "_model_module": "@jupyter-widgets/controls",
            "children": [
              "IPY_MODEL_567c9b65a38e4884a09de0b165a3526a",
              "IPY_MODEL_ea9b25182ee74ad6ae92f3c2d62c7e16",
              "IPY_MODEL_dc55e7c27b424fcebc86613a8b2eaee2"
            ]
          }
        },
        "1d382b99aa7e42c2b98f2da524dfb2df": {
          "model_module": "@jupyter-widgets/base",
          "model_name": "LayoutModel",
          "model_module_version": "1.2.0",
          "state": {
            "_view_name": "LayoutView",
            "grid_template_rows": null,
            "right": null,
            "justify_content": null,
            "_view_module": "@jupyter-widgets/base",
            "overflow": null,
            "_model_module_version": "1.2.0",
            "_view_count": null,
            "flex_flow": null,
            "width": null,
            "min_width": null,
            "border": null,
            "align_items": null,
            "bottom": null,
            "_model_module": "@jupyter-widgets/base",
            "top": null,
            "grid_column": null,
            "overflow_y": null,
            "overflow_x": null,
            "grid_auto_flow": null,
            "grid_area": null,
            "grid_template_columns": null,
            "flex": null,
            "_model_name": "LayoutModel",
            "justify_items": null,
            "grid_row": null,
            "max_height": null,
            "align_content": null,
            "visibility": null,
            "align_self": null,
            "height": null,
            "min_height": null,
            "padding": null,
            "grid_auto_rows": null,
            "grid_gap": null,
            "max_width": null,
            "order": null,
            "_view_module_version": "1.2.0",
            "grid_template_areas": null,
            "object_position": null,
            "object_fit": null,
            "grid_auto_columns": null,
            "margin": null,
            "display": null,
            "left": null
          }
        },
        "567c9b65a38e4884a09de0b165a3526a": {
          "model_module": "@jupyter-widgets/controls",
          "model_name": "HTMLModel",
          "model_module_version": "1.5.0",
          "state": {
            "_view_name": "HTMLView",
            "style": "IPY_MODEL_c3c01a612af44860a292490f9f48a876",
            "_dom_classes": [],
            "description": "",
            "_model_name": "HTMLModel",
            "placeholder": "​",
            "_view_module": "@jupyter-widgets/controls",
            "_model_module_version": "1.5.0",
            "value": "Downloading: 100%",
            "_view_count": null,
            "_view_module_version": "1.5.0",
            "description_tooltip": null,
            "_model_module": "@jupyter-widgets/controls",
            "layout": "IPY_MODEL_da3fb540b82b4b35b30bb7ff315df0bb"
          }
        },
        "ea9b25182ee74ad6ae92f3c2d62c7e16": {
          "model_module": "@jupyter-widgets/controls",
          "model_name": "FloatProgressModel",
          "model_module_version": "1.5.0",
          "state": {
            "_view_name": "ProgressView",
            "style": "IPY_MODEL_0f90b296df694f41895753d42fc8ae54",
            "_dom_classes": [],
            "description": "",
            "_model_name": "FloatProgressModel",
            "bar_style": "success",
            "max": 665,
            "_view_module": "@jupyter-widgets/controls",
            "_model_module_version": "1.5.0",
            "value": 665,
            "_view_count": null,
            "_view_module_version": "1.5.0",
            "orientation": "horizontal",
            "min": 0,
            "description_tooltip": null,
            "_model_module": "@jupyter-widgets/controls",
            "layout": "IPY_MODEL_a93566ae70c243b29ed6a3355b4a6838"
          }
        },
        "dc55e7c27b424fcebc86613a8b2eaee2": {
          "model_module": "@jupyter-widgets/controls",
          "model_name": "HTMLModel",
          "model_module_version": "1.5.0",
          "state": {
            "_view_name": "HTMLView",
            "style": "IPY_MODEL_46c2f5fa966146dca893cb7b0a0f16ac",
            "_dom_classes": [],
            "description": "",
            "_model_name": "HTMLModel",
            "placeholder": "​",
            "_view_module": "@jupyter-widgets/controls",
            "_model_module_version": "1.5.0",
            "value": " 665/665 [00:00&lt;00:00, 13.7kB/s]",
            "_view_count": null,
            "_view_module_version": "1.5.0",
            "description_tooltip": null,
            "_model_module": "@jupyter-widgets/controls",
            "layout": "IPY_MODEL_359e706f9fbe4d9198ab704c679fceae"
          }
        },
        "c3c01a612af44860a292490f9f48a876": {
          "model_module": "@jupyter-widgets/controls",
          "model_name": "DescriptionStyleModel",
          "model_module_version": "1.5.0",
          "state": {
            "_view_name": "StyleView",
            "_model_name": "DescriptionStyleModel",
            "description_width": "",
            "_view_module": "@jupyter-widgets/base",
            "_model_module_version": "1.5.0",
            "_view_count": null,
            "_view_module_version": "1.2.0",
            "_model_module": "@jupyter-widgets/controls"
          }
        },
        "da3fb540b82b4b35b30bb7ff315df0bb": {
          "model_module": "@jupyter-widgets/base",
          "model_name": "LayoutModel",
          "model_module_version": "1.2.0",
          "state": {
            "_view_name": "LayoutView",
            "grid_template_rows": null,
            "right": null,
            "justify_content": null,
            "_view_module": "@jupyter-widgets/base",
            "overflow": null,
            "_model_module_version": "1.2.0",
            "_view_count": null,
            "flex_flow": null,
            "width": null,
            "min_width": null,
            "border": null,
            "align_items": null,
            "bottom": null,
            "_model_module": "@jupyter-widgets/base",
            "top": null,
            "grid_column": null,
            "overflow_y": null,
            "overflow_x": null,
            "grid_auto_flow": null,
            "grid_area": null,
            "grid_template_columns": null,
            "flex": null,
            "_model_name": "LayoutModel",
            "justify_items": null,
            "grid_row": null,
            "max_height": null,
            "align_content": null,
            "visibility": null,
            "align_self": null,
            "height": null,
            "min_height": null,
            "padding": null,
            "grid_auto_rows": null,
            "grid_gap": null,
            "max_width": null,
            "order": null,
            "_view_module_version": "1.2.0",
            "grid_template_areas": null,
            "object_position": null,
            "object_fit": null,
            "grid_auto_columns": null,
            "margin": null,
            "display": null,
            "left": null
          }
        },
        "0f90b296df694f41895753d42fc8ae54": {
          "model_module": "@jupyter-widgets/controls",
          "model_name": "ProgressStyleModel",
          "model_module_version": "1.5.0",
          "state": {
            "_view_name": "StyleView",
            "_model_name": "ProgressStyleModel",
            "description_width": "",
            "_view_module": "@jupyter-widgets/base",
            "_model_module_version": "1.5.0",
            "_view_count": null,
            "_view_module_version": "1.2.0",
            "bar_color": null,
            "_model_module": "@jupyter-widgets/controls"
          }
        },
        "a93566ae70c243b29ed6a3355b4a6838": {
          "model_module": "@jupyter-widgets/base",
          "model_name": "LayoutModel",
          "model_module_version": "1.2.0",
          "state": {
            "_view_name": "LayoutView",
            "grid_template_rows": null,
            "right": null,
            "justify_content": null,
            "_view_module": "@jupyter-widgets/base",
            "overflow": null,
            "_model_module_version": "1.2.0",
            "_view_count": null,
            "flex_flow": null,
            "width": null,
            "min_width": null,
            "border": null,
            "align_items": null,
            "bottom": null,
            "_model_module": "@jupyter-widgets/base",
            "top": null,
            "grid_column": null,
            "overflow_y": null,
            "overflow_x": null,
            "grid_auto_flow": null,
            "grid_area": null,
            "grid_template_columns": null,
            "flex": null,
            "_model_name": "LayoutModel",
            "justify_items": null,
            "grid_row": null,
            "max_height": null,
            "align_content": null,
            "visibility": null,
            "align_self": null,
            "height": null,
            "min_height": null,
            "padding": null,
            "grid_auto_rows": null,
            "grid_gap": null,
            "max_width": null,
            "order": null,
            "_view_module_version": "1.2.0",
            "grid_template_areas": null,
            "object_position": null,
            "object_fit": null,
            "grid_auto_columns": null,
            "margin": null,
            "display": null,
            "left": null
          }
        },
        "46c2f5fa966146dca893cb7b0a0f16ac": {
          "model_module": "@jupyter-widgets/controls",
          "model_name": "DescriptionStyleModel",
          "model_module_version": "1.5.0",
          "state": {
            "_view_name": "StyleView",
            "_model_name": "DescriptionStyleModel",
            "description_width": "",
            "_view_module": "@jupyter-widgets/base",
            "_model_module_version": "1.5.0",
            "_view_count": null,
            "_view_module_version": "1.2.0",
            "_model_module": "@jupyter-widgets/controls"
          }
        },
        "359e706f9fbe4d9198ab704c679fceae": {
          "model_module": "@jupyter-widgets/base",
          "model_name": "LayoutModel",
          "model_module_version": "1.2.0",
          "state": {
            "_view_name": "LayoutView",
            "grid_template_rows": null,
            "right": null,
            "justify_content": null,
            "_view_module": "@jupyter-widgets/base",
            "overflow": null,
            "_model_module_version": "1.2.0",
            "_view_count": null,
            "flex_flow": null,
            "width": null,
            "min_width": null,
            "border": null,
            "align_items": null,
            "bottom": null,
            "_model_module": "@jupyter-widgets/base",
            "top": null,
            "grid_column": null,
            "overflow_y": null,
            "overflow_x": null,
            "grid_auto_flow": null,
            "grid_area": null,
            "grid_template_columns": null,
            "flex": null,
            "_model_name": "LayoutModel",
            "justify_items": null,
            "grid_row": null,
            "max_height": null,
            "align_content": null,
            "visibility": null,
            "align_self": null,
            "height": null,
            "min_height": null,
            "padding": null,
            "grid_auto_rows": null,
            "grid_gap": null,
            "max_width": null,
            "order": null,
            "_view_module_version": "1.2.0",
            "grid_template_areas": null,
            "object_position": null,
            "object_fit": null,
            "grid_auto_columns": null,
            "margin": null,
            "display": null,
            "left": null
          }
        },
        "8c26760a3b154456adc1fe453cd8ecd2": {
          "model_module": "@jupyter-widgets/controls",
          "model_name": "HBoxModel",
          "model_module_version": "1.5.0",
          "state": {
            "_view_name": "HBoxView",
            "_dom_classes": [],
            "_model_name": "HBoxModel",
            "_view_module": "@jupyter-widgets/controls",
            "_model_module_version": "1.5.0",
            "_view_count": null,
            "_view_module_version": "1.5.0",
            "box_style": "",
            "layout": "IPY_MODEL_7b14584c6e174c5a85dc0a4842513033",
            "_model_module": "@jupyter-widgets/controls",
            "children": [
              "IPY_MODEL_85722868a3a64f1ba4299cf25b6ee6d6",
              "IPY_MODEL_b3ff24a710414634bd0813b68faa71e1",
              "IPY_MODEL_c14b2ce38fbf490a95fc5e75b052e858"
            ]
          }
        },
        "7b14584c6e174c5a85dc0a4842513033": {
          "model_module": "@jupyter-widgets/base",
          "model_name": "LayoutModel",
          "model_module_version": "1.2.0",
          "state": {
            "_view_name": "LayoutView",
            "grid_template_rows": null,
            "right": null,
            "justify_content": null,
            "_view_module": "@jupyter-widgets/base",
            "overflow": null,
            "_model_module_version": "1.2.0",
            "_view_count": null,
            "flex_flow": null,
            "width": null,
            "min_width": null,
            "border": null,
            "align_items": null,
            "bottom": null,
            "_model_module": "@jupyter-widgets/base",
            "top": null,
            "grid_column": null,
            "overflow_y": null,
            "overflow_x": null,
            "grid_auto_flow": null,
            "grid_area": null,
            "grid_template_columns": null,
            "flex": null,
            "_model_name": "LayoutModel",
            "justify_items": null,
            "grid_row": null,
            "max_height": null,
            "align_content": null,
            "visibility": null,
            "align_self": null,
            "height": null,
            "min_height": null,
            "padding": null,
            "grid_auto_rows": null,
            "grid_gap": null,
            "max_width": null,
            "order": null,
            "_view_module_version": "1.2.0",
            "grid_template_areas": null,
            "object_position": null,
            "object_fit": null,
            "grid_auto_columns": null,
            "margin": null,
            "display": null,
            "left": null
          }
        },
        "85722868a3a64f1ba4299cf25b6ee6d6": {
          "model_module": "@jupyter-widgets/controls",
          "model_name": "HTMLModel",
          "model_module_version": "1.5.0",
          "state": {
            "_view_name": "HTMLView",
            "style": "IPY_MODEL_d0d39e9aec5a43f8bdcc61a9cce0d6b1",
            "_dom_classes": [],
            "description": "",
            "_model_name": "HTMLModel",
            "placeholder": "​",
            "_view_module": "@jupyter-widgets/controls",
            "_model_module_version": "1.5.0",
            "value": "Downloading: 100%",
            "_view_count": null,
            "_view_module_version": "1.5.0",
            "description_tooltip": null,
            "_model_module": "@jupyter-widgets/controls",
            "layout": "IPY_MODEL_ff84440f6d7b430ca000a149da87c7b4"
          }
        },
        "b3ff24a710414634bd0813b68faa71e1": {
          "model_module": "@jupyter-widgets/controls",
          "model_name": "FloatProgressModel",
          "model_module_version": "1.5.0",
          "state": {
            "_view_name": "ProgressView",
            "style": "IPY_MODEL_b3baef500af8412d84bd5f360834a4e1",
            "_dom_classes": [],
            "description": "",
            "_model_name": "FloatProgressModel",
            "bar_style": "success",
            "max": 231508,
            "_view_module": "@jupyter-widgets/controls",
            "_model_module_version": "1.5.0",
            "value": 231508,
            "_view_count": null,
            "_view_module_version": "1.5.0",
            "orientation": "horizontal",
            "min": 0,
            "description_tooltip": null,
            "_model_module": "@jupyter-widgets/controls",
            "layout": "IPY_MODEL_6b751ab7957d445eb56a47467610a1db"
          }
        },
        "c14b2ce38fbf490a95fc5e75b052e858": {
          "model_module": "@jupyter-widgets/controls",
          "model_name": "HTMLModel",
          "model_module_version": "1.5.0",
          "state": {
            "_view_name": "HTMLView",
            "style": "IPY_MODEL_b66bd83e6f184279a374ebe491a99318",
            "_dom_classes": [],
            "description": "",
            "_model_name": "HTMLModel",
            "placeholder": "​",
            "_view_module": "@jupyter-widgets/controls",
            "_model_module_version": "1.5.0",
            "value": " 226k/226k [00:00&lt;00:00, 920kB/s]",
            "_view_count": null,
            "_view_module_version": "1.5.0",
            "description_tooltip": null,
            "_model_module": "@jupyter-widgets/controls",
            "layout": "IPY_MODEL_086a9f345a8140fcaf207a02ad60f9e7"
          }
        },
        "d0d39e9aec5a43f8bdcc61a9cce0d6b1": {
          "model_module": "@jupyter-widgets/controls",
          "model_name": "DescriptionStyleModel",
          "model_module_version": "1.5.0",
          "state": {
            "_view_name": "StyleView",
            "_model_name": "DescriptionStyleModel",
            "description_width": "",
            "_view_module": "@jupyter-widgets/base",
            "_model_module_version": "1.5.0",
            "_view_count": null,
            "_view_module_version": "1.2.0",
            "_model_module": "@jupyter-widgets/controls"
          }
        },
        "ff84440f6d7b430ca000a149da87c7b4": {
          "model_module": "@jupyter-widgets/base",
          "model_name": "LayoutModel",
          "model_module_version": "1.2.0",
          "state": {
            "_view_name": "LayoutView",
            "grid_template_rows": null,
            "right": null,
            "justify_content": null,
            "_view_module": "@jupyter-widgets/base",
            "overflow": null,
            "_model_module_version": "1.2.0",
            "_view_count": null,
            "flex_flow": null,
            "width": null,
            "min_width": null,
            "border": null,
            "align_items": null,
            "bottom": null,
            "_model_module": "@jupyter-widgets/base",
            "top": null,
            "grid_column": null,
            "overflow_y": null,
            "overflow_x": null,
            "grid_auto_flow": null,
            "grid_area": null,
            "grid_template_columns": null,
            "flex": null,
            "_model_name": "LayoutModel",
            "justify_items": null,
            "grid_row": null,
            "max_height": null,
            "align_content": null,
            "visibility": null,
            "align_self": null,
            "height": null,
            "min_height": null,
            "padding": null,
            "grid_auto_rows": null,
            "grid_gap": null,
            "max_width": null,
            "order": null,
            "_view_module_version": "1.2.0",
            "grid_template_areas": null,
            "object_position": null,
            "object_fit": null,
            "grid_auto_columns": null,
            "margin": null,
            "display": null,
            "left": null
          }
        },
        "b3baef500af8412d84bd5f360834a4e1": {
          "model_module": "@jupyter-widgets/controls",
          "model_name": "ProgressStyleModel",
          "model_module_version": "1.5.0",
          "state": {
            "_view_name": "StyleView",
            "_model_name": "ProgressStyleModel",
            "description_width": "",
            "_view_module": "@jupyter-widgets/base",
            "_model_module_version": "1.5.0",
            "_view_count": null,
            "_view_module_version": "1.2.0",
            "bar_color": null,
            "_model_module": "@jupyter-widgets/controls"
          }
        },
        "6b751ab7957d445eb56a47467610a1db": {
          "model_module": "@jupyter-widgets/base",
          "model_name": "LayoutModel",
          "model_module_version": "1.2.0",
          "state": {
            "_view_name": "LayoutView",
            "grid_template_rows": null,
            "right": null,
            "justify_content": null,
            "_view_module": "@jupyter-widgets/base",
            "overflow": null,
            "_model_module_version": "1.2.0",
            "_view_count": null,
            "flex_flow": null,
            "width": null,
            "min_width": null,
            "border": null,
            "align_items": null,
            "bottom": null,
            "_model_module": "@jupyter-widgets/base",
            "top": null,
            "grid_column": null,
            "overflow_y": null,
            "overflow_x": null,
            "grid_auto_flow": null,
            "grid_area": null,
            "grid_template_columns": null,
            "flex": null,
            "_model_name": "LayoutModel",
            "justify_items": null,
            "grid_row": null,
            "max_height": null,
            "align_content": null,
            "visibility": null,
            "align_self": null,
            "height": null,
            "min_height": null,
            "padding": null,
            "grid_auto_rows": null,
            "grid_gap": null,
            "max_width": null,
            "order": null,
            "_view_module_version": "1.2.0",
            "grid_template_areas": null,
            "object_position": null,
            "object_fit": null,
            "grid_auto_columns": null,
            "margin": null,
            "display": null,
            "left": null
          }
        },
        "b66bd83e6f184279a374ebe491a99318": {
          "model_module": "@jupyter-widgets/controls",
          "model_name": "DescriptionStyleModel",
          "model_module_version": "1.5.0",
          "state": {
            "_view_name": "StyleView",
            "_model_name": "DescriptionStyleModel",
            "description_width": "",
            "_view_module": "@jupyter-widgets/base",
            "_model_module_version": "1.5.0",
            "_view_count": null,
            "_view_module_version": "1.2.0",
            "_model_module": "@jupyter-widgets/controls"
          }
        },
        "086a9f345a8140fcaf207a02ad60f9e7": {
          "model_module": "@jupyter-widgets/base",
          "model_name": "LayoutModel",
          "model_module_version": "1.2.0",
          "state": {
            "_view_name": "LayoutView",
            "grid_template_rows": null,
            "right": null,
            "justify_content": null,
            "_view_module": "@jupyter-widgets/base",
            "overflow": null,
            "_model_module_version": "1.2.0",
            "_view_count": null,
            "flex_flow": null,
            "width": null,
            "min_width": null,
            "border": null,
            "align_items": null,
            "bottom": null,
            "_model_module": "@jupyter-widgets/base",
            "top": null,
            "grid_column": null,
            "overflow_y": null,
            "overflow_x": null,
            "grid_auto_flow": null,
            "grid_area": null,
            "grid_template_columns": null,
            "flex": null,
            "_model_name": "LayoutModel",
            "justify_items": null,
            "grid_row": null,
            "max_height": null,
            "align_content": null,
            "visibility": null,
            "align_self": null,
            "height": null,
            "min_height": null,
            "padding": null,
            "grid_auto_rows": null,
            "grid_gap": null,
            "max_width": null,
            "order": null,
            "_view_module_version": "1.2.0",
            "grid_template_areas": null,
            "object_position": null,
            "object_fit": null,
            "grid_auto_columns": null,
            "margin": null,
            "display": null,
            "left": null
          }
        },
        "6b7bbf5faf464a3b847e785c4f319352": {
          "model_module": "@jupyter-widgets/controls",
          "model_name": "HBoxModel",
          "model_module_version": "1.5.0",
          "state": {
            "_view_name": "HBoxView",
            "_dom_classes": [],
            "_model_name": "HBoxModel",
            "_view_module": "@jupyter-widgets/controls",
            "_model_module_version": "1.5.0",
            "_view_count": null,
            "_view_module_version": "1.5.0",
            "box_style": "",
            "layout": "IPY_MODEL_f65267bd5169493f9016f4483a0cf1a2",
            "_model_module": "@jupyter-widgets/controls",
            "children": [
              "IPY_MODEL_3f31dcea953249fb9a099ce5ca4455ab",
              "IPY_MODEL_42649e59b9b044ef971657fa30256f44",
              "IPY_MODEL_e8e1b8783a2849019ea50c1022851aba"
            ]
          }
        },
        "f65267bd5169493f9016f4483a0cf1a2": {
          "model_module": "@jupyter-widgets/base",
          "model_name": "LayoutModel",
          "model_module_version": "1.2.0",
          "state": {
            "_view_name": "LayoutView",
            "grid_template_rows": null,
            "right": null,
            "justify_content": null,
            "_view_module": "@jupyter-widgets/base",
            "overflow": null,
            "_model_module_version": "1.2.0",
            "_view_count": null,
            "flex_flow": null,
            "width": null,
            "min_width": null,
            "border": null,
            "align_items": null,
            "bottom": null,
            "_model_module": "@jupyter-widgets/base",
            "top": null,
            "grid_column": null,
            "overflow_y": null,
            "overflow_x": null,
            "grid_auto_flow": null,
            "grid_area": null,
            "grid_template_columns": null,
            "flex": null,
            "_model_name": "LayoutModel",
            "justify_items": null,
            "grid_row": null,
            "max_height": null,
            "align_content": null,
            "visibility": null,
            "align_self": null,
            "height": null,
            "min_height": null,
            "padding": null,
            "grid_auto_rows": null,
            "grid_gap": null,
            "max_width": null,
            "order": null,
            "_view_module_version": "1.2.0",
            "grid_template_areas": null,
            "object_position": null,
            "object_fit": null,
            "grid_auto_columns": null,
            "margin": null,
            "display": null,
            "left": null
          }
        },
        "3f31dcea953249fb9a099ce5ca4455ab": {
          "model_module": "@jupyter-widgets/controls",
          "model_name": "HTMLModel",
          "model_module_version": "1.5.0",
          "state": {
            "_view_name": "HTMLView",
            "style": "IPY_MODEL_d4298985689a4aec860c6fd5bbed8cd0",
            "_dom_classes": [],
            "description": "",
            "_model_name": "HTMLModel",
            "placeholder": "​",
            "_view_module": "@jupyter-widgets/controls",
            "_model_module_version": "1.5.0",
            "value": "Downloading: 100%",
            "_view_count": null,
            "_view_module_version": "1.5.0",
            "description_tooltip": null,
            "_model_module": "@jupyter-widgets/controls",
            "layout": "IPY_MODEL_daeed34fce294286b96c103f8ac32e1a"
          }
        },
        "42649e59b9b044ef971657fa30256f44": {
          "model_module": "@jupyter-widgets/controls",
          "model_name": "FloatProgressModel",
          "model_module_version": "1.5.0",
          "state": {
            "_view_name": "ProgressView",
            "style": "IPY_MODEL_f7768dbc113848ffa73f0561cfaafd59",
            "_dom_classes": [],
            "description": "",
            "_model_name": "FloatProgressModel",
            "bar_style": "success",
            "max": 466062,
            "_view_module": "@jupyter-widgets/controls",
            "_model_module_version": "1.5.0",
            "value": 466062,
            "_view_count": null,
            "_view_module_version": "1.5.0",
            "orientation": "horizontal",
            "min": 0,
            "description_tooltip": null,
            "_model_module": "@jupyter-widgets/controls",
            "layout": "IPY_MODEL_c33b285876c3474cba5dfc6eee5cccef"
          }
        },
        "e8e1b8783a2849019ea50c1022851aba": {
          "model_module": "@jupyter-widgets/controls",
          "model_name": "HTMLModel",
          "model_module_version": "1.5.0",
          "state": {
            "_view_name": "HTMLView",
            "style": "IPY_MODEL_f8f89339bc054a168e7ea34b97615d87",
            "_dom_classes": [],
            "description": "",
            "_model_name": "HTMLModel",
            "placeholder": "​",
            "_view_module": "@jupyter-widgets/controls",
            "_model_module_version": "1.5.0",
            "value": " 455k/455k [00:00&lt;00:00, 807kB/s]",
            "_view_count": null,
            "_view_module_version": "1.5.0",
            "description_tooltip": null,
            "_model_module": "@jupyter-widgets/controls",
            "layout": "IPY_MODEL_e046e69811ba42fc92421e50ad8b7b8d"
          }
        },
        "d4298985689a4aec860c6fd5bbed8cd0": {
          "model_module": "@jupyter-widgets/controls",
          "model_name": "DescriptionStyleModel",
          "model_module_version": "1.5.0",
          "state": {
            "_view_name": "StyleView",
            "_model_name": "DescriptionStyleModel",
            "description_width": "",
            "_view_module": "@jupyter-widgets/base",
            "_model_module_version": "1.5.0",
            "_view_count": null,
            "_view_module_version": "1.2.0",
            "_model_module": "@jupyter-widgets/controls"
          }
        },
        "daeed34fce294286b96c103f8ac32e1a": {
          "model_module": "@jupyter-widgets/base",
          "model_name": "LayoutModel",
          "model_module_version": "1.2.0",
          "state": {
            "_view_name": "LayoutView",
            "grid_template_rows": null,
            "right": null,
            "justify_content": null,
            "_view_module": "@jupyter-widgets/base",
            "overflow": null,
            "_model_module_version": "1.2.0",
            "_view_count": null,
            "flex_flow": null,
            "width": null,
            "min_width": null,
            "border": null,
            "align_items": null,
            "bottom": null,
            "_model_module": "@jupyter-widgets/base",
            "top": null,
            "grid_column": null,
            "overflow_y": null,
            "overflow_x": null,
            "grid_auto_flow": null,
            "grid_area": null,
            "grid_template_columns": null,
            "flex": null,
            "_model_name": "LayoutModel",
            "justify_items": null,
            "grid_row": null,
            "max_height": null,
            "align_content": null,
            "visibility": null,
            "align_self": null,
            "height": null,
            "min_height": null,
            "padding": null,
            "grid_auto_rows": null,
            "grid_gap": null,
            "max_width": null,
            "order": null,
            "_view_module_version": "1.2.0",
            "grid_template_areas": null,
            "object_position": null,
            "object_fit": null,
            "grid_auto_columns": null,
            "margin": null,
            "display": null,
            "left": null
          }
        },
        "f7768dbc113848ffa73f0561cfaafd59": {
          "model_module": "@jupyter-widgets/controls",
          "model_name": "ProgressStyleModel",
          "model_module_version": "1.5.0",
          "state": {
            "_view_name": "StyleView",
            "_model_name": "ProgressStyleModel",
            "description_width": "",
            "_view_module": "@jupyter-widgets/base",
            "_model_module_version": "1.5.0",
            "_view_count": null,
            "_view_module_version": "1.2.0",
            "bar_color": null,
            "_model_module": "@jupyter-widgets/controls"
          }
        },
        "c33b285876c3474cba5dfc6eee5cccef": {
          "model_module": "@jupyter-widgets/base",
          "model_name": "LayoutModel",
          "model_module_version": "1.2.0",
          "state": {
            "_view_name": "LayoutView",
            "grid_template_rows": null,
            "right": null,
            "justify_content": null,
            "_view_module": "@jupyter-widgets/base",
            "overflow": null,
            "_model_module_version": "1.2.0",
            "_view_count": null,
            "flex_flow": null,
            "width": null,
            "min_width": null,
            "border": null,
            "align_items": null,
            "bottom": null,
            "_model_module": "@jupyter-widgets/base",
            "top": null,
            "grid_column": null,
            "overflow_y": null,
            "overflow_x": null,
            "grid_auto_flow": null,
            "grid_area": null,
            "grid_template_columns": null,
            "flex": null,
            "_model_name": "LayoutModel",
            "justify_items": null,
            "grid_row": null,
            "max_height": null,
            "align_content": null,
            "visibility": null,
            "align_self": null,
            "height": null,
            "min_height": null,
            "padding": null,
            "grid_auto_rows": null,
            "grid_gap": null,
            "max_width": null,
            "order": null,
            "_view_module_version": "1.2.0",
            "grid_template_areas": null,
            "object_position": null,
            "object_fit": null,
            "grid_auto_columns": null,
            "margin": null,
            "display": null,
            "left": null
          }
        },
        "f8f89339bc054a168e7ea34b97615d87": {
          "model_module": "@jupyter-widgets/controls",
          "model_name": "DescriptionStyleModel",
          "model_module_version": "1.5.0",
          "state": {
            "_view_name": "StyleView",
            "_model_name": "DescriptionStyleModel",
            "description_width": "",
            "_view_module": "@jupyter-widgets/base",
            "_model_module_version": "1.5.0",
            "_view_count": null,
            "_view_module_version": "1.2.0",
            "_model_module": "@jupyter-widgets/controls"
          }
        },
        "e046e69811ba42fc92421e50ad8b7b8d": {
          "model_module": "@jupyter-widgets/base",
          "model_name": "LayoutModel",
          "model_module_version": "1.2.0",
          "state": {
            "_view_name": "LayoutView",
            "grid_template_rows": null,
            "right": null,
            "justify_content": null,
            "_view_module": "@jupyter-widgets/base",
            "overflow": null,
            "_model_module_version": "1.2.0",
            "_view_count": null,
            "flex_flow": null,
            "width": null,
            "min_width": null,
            "border": null,
            "align_items": null,
            "bottom": null,
            "_model_module": "@jupyter-widgets/base",
            "top": null,
            "grid_column": null,
            "overflow_y": null,
            "overflow_x": null,
            "grid_auto_flow": null,
            "grid_area": null,
            "grid_template_columns": null,
            "flex": null,
            "_model_name": "LayoutModel",
            "justify_items": null,
            "grid_row": null,
            "max_height": null,
            "align_content": null,
            "visibility": null,
            "align_self": null,
            "height": null,
            "min_height": null,
            "padding": null,
            "grid_auto_rows": null,
            "grid_gap": null,
            "max_width": null,
            "order": null,
            "_view_module_version": "1.2.0",
            "grid_template_areas": null,
            "object_position": null,
            "object_fit": null,
            "grid_auto_columns": null,
            "margin": null,
            "display": null,
            "left": null
          }
        },
        "be4e02f7fe184adab03614280a2ed67f": {
          "model_module": "@jupyter-widgets/controls",
          "model_name": "HBoxModel",
          "model_module_version": "1.5.0",
          "state": {
            "_view_name": "HBoxView",
            "_dom_classes": [],
            "_model_name": "HBoxModel",
            "_view_module": "@jupyter-widgets/controls",
            "_model_module_version": "1.5.0",
            "_view_count": null,
            "_view_module_version": "1.5.0",
            "box_style": "",
            "layout": "IPY_MODEL_3675cf7adfc34833b75e716c171bb2e7",
            "_model_module": "@jupyter-widgets/controls",
            "children": [
              "IPY_MODEL_0c8003d8308d4bf985084cc90d7f7ccb",
              "IPY_MODEL_d2d1d17f553141cfaf3227cb84621193",
              "IPY_MODEL_744d8a30b8ed4bc6b0402771f383a60e"
            ]
          }
        },
        "3675cf7adfc34833b75e716c171bb2e7": {
          "model_module": "@jupyter-widgets/base",
          "model_name": "LayoutModel",
          "model_module_version": "1.2.0",
          "state": {
            "_view_name": "LayoutView",
            "grid_template_rows": null,
            "right": null,
            "justify_content": null,
            "_view_module": "@jupyter-widgets/base",
            "overflow": null,
            "_model_module_version": "1.2.0",
            "_view_count": null,
            "flex_flow": null,
            "width": null,
            "min_width": null,
            "border": null,
            "align_items": null,
            "bottom": null,
            "_model_module": "@jupyter-widgets/base",
            "top": null,
            "grid_column": null,
            "overflow_y": null,
            "overflow_x": null,
            "grid_auto_flow": null,
            "grid_area": null,
            "grid_template_columns": null,
            "flex": null,
            "_model_name": "LayoutModel",
            "justify_items": null,
            "grid_row": null,
            "max_height": null,
            "align_content": null,
            "visibility": null,
            "align_self": null,
            "height": null,
            "min_height": null,
            "padding": null,
            "grid_auto_rows": null,
            "grid_gap": null,
            "max_width": null,
            "order": null,
            "_view_module_version": "1.2.0",
            "grid_template_areas": null,
            "object_position": null,
            "object_fit": null,
            "grid_auto_columns": null,
            "margin": null,
            "display": null,
            "left": null
          }
        },
        "0c8003d8308d4bf985084cc90d7f7ccb": {
          "model_module": "@jupyter-widgets/controls",
          "model_name": "HTMLModel",
          "model_module_version": "1.5.0",
          "state": {
            "_view_name": "HTMLView",
            "style": "IPY_MODEL_e9d26c2e3bd1468bb9ac95dabf731a99",
            "_dom_classes": [],
            "description": "",
            "_model_name": "HTMLModel",
            "placeholder": "​",
            "_view_module": "@jupyter-widgets/controls",
            "_model_module_version": "1.5.0",
            "value": "Downloading: 100%",
            "_view_count": null,
            "_view_module_version": "1.5.0",
            "description_tooltip": null,
            "_model_module": "@jupyter-widgets/controls",
            "layout": "IPY_MODEL_0136cbd7d1e94c5b9f6966806d7a0c93"
          }
        },
        "d2d1d17f553141cfaf3227cb84621193": {
          "model_module": "@jupyter-widgets/controls",
          "model_name": "FloatProgressModel",
          "model_module_version": "1.5.0",
          "state": {
            "_view_name": "ProgressView",
            "style": "IPY_MODEL_d1874a462a9c4ec8babe7a08d2ffef4c",
            "_dom_classes": [],
            "description": "",
            "_model_name": "FloatProgressModel",
            "bar_style": "success",
            "max": 54466044,
            "_view_module": "@jupyter-widgets/controls",
            "_model_module_version": "1.5.0",
            "value": 54466044,
            "_view_count": null,
            "_view_module_version": "1.5.0",
            "orientation": "horizontal",
            "min": 0,
            "description_tooltip": null,
            "_model_module": "@jupyter-widgets/controls",
            "layout": "IPY_MODEL_c8ce9d889e0a4cfb99a2f245b976346b"
          }
        },
        "744d8a30b8ed4bc6b0402771f383a60e": {
          "model_module": "@jupyter-widgets/controls",
          "model_name": "HTMLModel",
          "model_module_version": "1.5.0",
          "state": {
            "_view_name": "HTMLView",
            "style": "IPY_MODEL_f5a743a524cd46aa98ba26af3fdb36e7",
            "_dom_classes": [],
            "description": "",
            "_model_name": "HTMLModel",
            "placeholder": "​",
            "_view_module": "@jupyter-widgets/controls",
            "_model_module_version": "1.5.0",
            "value": " 51.9M/51.9M [00:04&lt;00:00, 7.52MB/s]",
            "_view_count": null,
            "_view_module_version": "1.5.0",
            "description_tooltip": null,
            "_model_module": "@jupyter-widgets/controls",
            "layout": "IPY_MODEL_77e6e2270c764abbb2e0c1dab9499194"
          }
        },
        "e9d26c2e3bd1468bb9ac95dabf731a99": {
          "model_module": "@jupyter-widgets/controls",
          "model_name": "DescriptionStyleModel",
          "model_module_version": "1.5.0",
          "state": {
            "_view_name": "StyleView",
            "_model_name": "DescriptionStyleModel",
            "description_width": "",
            "_view_module": "@jupyter-widgets/base",
            "_model_module_version": "1.5.0",
            "_view_count": null,
            "_view_module_version": "1.2.0",
            "_model_module": "@jupyter-widgets/controls"
          }
        },
        "0136cbd7d1e94c5b9f6966806d7a0c93": {
          "model_module": "@jupyter-widgets/base",
          "model_name": "LayoutModel",
          "model_module_version": "1.2.0",
          "state": {
            "_view_name": "LayoutView",
            "grid_template_rows": null,
            "right": null,
            "justify_content": null,
            "_view_module": "@jupyter-widgets/base",
            "overflow": null,
            "_model_module_version": "1.2.0",
            "_view_count": null,
            "flex_flow": null,
            "width": null,
            "min_width": null,
            "border": null,
            "align_items": null,
            "bottom": null,
            "_model_module": "@jupyter-widgets/base",
            "top": null,
            "grid_column": null,
            "overflow_y": null,
            "overflow_x": null,
            "grid_auto_flow": null,
            "grid_area": null,
            "grid_template_columns": null,
            "flex": null,
            "_model_name": "LayoutModel",
            "justify_items": null,
            "grid_row": null,
            "max_height": null,
            "align_content": null,
            "visibility": null,
            "align_self": null,
            "height": null,
            "min_height": null,
            "padding": null,
            "grid_auto_rows": null,
            "grid_gap": null,
            "max_width": null,
            "order": null,
            "_view_module_version": "1.2.0",
            "grid_template_areas": null,
            "object_position": null,
            "object_fit": null,
            "grid_auto_columns": null,
            "margin": null,
            "display": null,
            "left": null
          }
        },
        "d1874a462a9c4ec8babe7a08d2ffef4c": {
          "model_module": "@jupyter-widgets/controls",
          "model_name": "ProgressStyleModel",
          "model_module_version": "1.5.0",
          "state": {
            "_view_name": "StyleView",
            "_model_name": "ProgressStyleModel",
            "description_width": "",
            "_view_module": "@jupyter-widgets/base",
            "_model_module_version": "1.5.0",
            "_view_count": null,
            "_view_module_version": "1.2.0",
            "bar_color": null,
            "_model_module": "@jupyter-widgets/controls"
          }
        },
        "c8ce9d889e0a4cfb99a2f245b976346b": {
          "model_module": "@jupyter-widgets/base",
          "model_name": "LayoutModel",
          "model_module_version": "1.2.0",
          "state": {
            "_view_name": "LayoutView",
            "grid_template_rows": null,
            "right": null,
            "justify_content": null,
            "_view_module": "@jupyter-widgets/base",
            "overflow": null,
            "_model_module_version": "1.2.0",
            "_view_count": null,
            "flex_flow": null,
            "width": null,
            "min_width": null,
            "border": null,
            "align_items": null,
            "bottom": null,
            "_model_module": "@jupyter-widgets/base",
            "top": null,
            "grid_column": null,
            "overflow_y": null,
            "overflow_x": null,
            "grid_auto_flow": null,
            "grid_area": null,
            "grid_template_columns": null,
            "flex": null,
            "_model_name": "LayoutModel",
            "justify_items": null,
            "grid_row": null,
            "max_height": null,
            "align_content": null,
            "visibility": null,
            "align_self": null,
            "height": null,
            "min_height": null,
            "padding": null,
            "grid_auto_rows": null,
            "grid_gap": null,
            "max_width": null,
            "order": null,
            "_view_module_version": "1.2.0",
            "grid_template_areas": null,
            "object_position": null,
            "object_fit": null,
            "grid_auto_columns": null,
            "margin": null,
            "display": null,
            "left": null
          }
        },
        "f5a743a524cd46aa98ba26af3fdb36e7": {
          "model_module": "@jupyter-widgets/controls",
          "model_name": "DescriptionStyleModel",
          "model_module_version": "1.5.0",
          "state": {
            "_view_name": "StyleView",
            "_model_name": "DescriptionStyleModel",
            "description_width": "",
            "_view_module": "@jupyter-widgets/base",
            "_model_module_version": "1.5.0",
            "_view_count": null,
            "_view_module_version": "1.2.0",
            "_model_module": "@jupyter-widgets/controls"
          }
        },
        "77e6e2270c764abbb2e0c1dab9499194": {
          "model_module": "@jupyter-widgets/base",
          "model_name": "LayoutModel",
          "model_module_version": "1.2.0",
          "state": {
            "_view_name": "LayoutView",
            "grid_template_rows": null,
            "right": null,
            "justify_content": null,
            "_view_module": "@jupyter-widgets/base",
            "overflow": null,
            "_model_module_version": "1.2.0",
            "_view_count": null,
            "flex_flow": null,
            "width": null,
            "min_width": null,
            "border": null,
            "align_items": null,
            "bottom": null,
            "_model_module": "@jupyter-widgets/base",
            "top": null,
            "grid_column": null,
            "overflow_y": null,
            "overflow_x": null,
            "grid_auto_flow": null,
            "grid_area": null,
            "grid_template_columns": null,
            "flex": null,
            "_model_name": "LayoutModel",
            "justify_items": null,
            "grid_row": null,
            "max_height": null,
            "align_content": null,
            "visibility": null,
            "align_self": null,
            "height": null,
            "min_height": null,
            "padding": null,
            "grid_auto_rows": null,
            "grid_gap": null,
            "max_width": null,
            "order": null,
            "_view_module_version": "1.2.0",
            "grid_template_areas": null,
            "object_position": null,
            "object_fit": null,
            "grid_auto_columns": null,
            "margin": null,
            "display": null,
            "left": null
          }
        }
      }
    }
  },
  "cells": [
    {
      "cell_type": "markdown",
      "metadata": {
        "id": "Yl9Ht2uggCQw"
      },
      "source": [
        "# **Required Downloads**"
      ]
    },
    {
      "cell_type": "code",
      "metadata": {
        "id": "JNdlEs3mgCQz"
      },
      "source": [
        "!pip install -q transformers\n",
        "!pip install -q contractions\n",
        "!pip install -q autocorrect\n",
        "!pip install -q tensorflow"
      ],
      "execution_count": 1,
      "outputs": []
    },
    {
      "cell_type": "markdown",
      "metadata": {
        "id": "hwMqdpb2gCQ2"
      },
      "source": [
        "# **Required Imports**"
      ]
    },
    {
      "cell_type": "code",
      "metadata": {
        "id": "adjxCh2igCQ3"
      },
      "source": [
        "\n",
        "from transformers import BertTokenizer, TFBertForSequenceClassification\n",
        "from transformers import DistilBertTokenizer, TFDistilBertForSequenceClassification\n",
        "from transformers import RobertaTokenizer,TFRobertaForSequenceClassification\n",
        "from transformers import XLNetTokenizer, TFXLNetForSequenceClassification\n",
        "from transformers import ElectraTokenizer,TFElectraForSequenceClassification\n",
        "from transformers import AutoTokenizer, TFAutoModelForSequenceClassification,TFPreTrainedModel\n",
        "\n",
        "import time\n",
        "\n",
        "from matplotlib import pyplot as plt\n",
        "from sklearn.metrics import confusion_matrix , classification_report\n",
        "import pandas as pd\n",
        "import seaborn as sns\n",
        "\n",
        "import tensorflow as tf\n",
        "import json\n",
        "\n",
        "import numpy as np\n",
        "import pandas as pd\n",
        "\n",
        "\n",
        "import os\n",
        "import re\n",
        "\n",
        "from nltk.stem import WordNetLemmatizer\n",
        "from nltk.tokenize import sent_tokenize\n",
        "\n",
        "import contractions\n",
        "from textblob import TextBlob\n",
        "from sklearn.feature_extraction.text import CountVectorizer, TfidfVectorizer\n",
        "from sklearn.metrics import f1_score\n",
        "from autocorrect import Speller\n",
        "\n"
      ],
      "execution_count": 2,
      "outputs": []
    },
    {
      "cell_type": "markdown",
      "metadata": {
        "id": "47pKS2lxhB3C"
      },
      "source": [
        "# **Data Prepration**"
      ]
    },
    {
      "cell_type": "markdown",
      "source": [
        "## Getting Data\n",
        "- Importing Data\n",
        "- Loading Data"
      ],
      "metadata": {
        "id": "NHoJTNuaNvY6"
      }
    },
    {
      "cell_type": "markdown",
      "metadata": {
        "id": "Bz-Rx6FJokN-"
      },
      "source": [
        "### Importing Data \n",
        "- The following cell is importing data from google drive and storing the files to /home/Emotiondata directory.\n",
        "- Data Source: \n",
        "> https://www.kaggle.com/praveengovi/emotions-dataset-for-nlp"
      ]
    },
    {
      "cell_type": "code",
      "metadata": {
        "colab": {
          "base_uri": "https://localhost:8080/"
        },
        "id": "DAEtK1AGhGD7",
        "outputId": "e3b2cf40-728f-41eb-e9f9-f72138072aba"
      },
      "source": [
        "from google.colab import drive\n",
        "drive.mount('/content/drive')"
      ],
      "execution_count": 3,
      "outputs": [
        {
          "output_type": "stream",
          "name": "stdout",
          "text": [
            "Drive already mounted at /content/drive; to attempt to forcibly remount, call drive.mount(\"/content/drive\", force_remount=True).\n"
          ]
        }
      ]
    },
    {
      "cell_type": "code",
      "metadata": {
        "colab": {
          "base_uri": "https://localhost:8080/"
        },
        "id": "szJKMtjzqqah",
        "outputId": "af4196f6-f8eb-4407-97fd-530130e7e4d3"
      },
      "source": [
        "DataDir = '/home/EmotionData/'\n",
        "!mkdir /home/EmotionData\n",
        "!unzip /content/drive/MyDrive/archive.zip \n",
        "!mv /content/*.txt /home/EmotionData"
      ],
      "execution_count": 4,
      "outputs": [
        {
          "output_type": "stream",
          "name": "stdout",
          "text": [
            "mkdir: cannot create directory ‘/home/EmotionData’: File exists\n",
            "Archive:  /content/drive/MyDrive/archive.zip\n",
            "  inflating: test.txt                \n",
            "  inflating: train.txt               \n",
            "  inflating: val.txt                 \n"
          ]
        }
      ]
    },
    {
      "cell_type": "markdown",
      "metadata": {
        "id": "Qx8Kr2o-sWO-"
      },
      "source": [
        "### Loading Data\n",
        "- The Following cell loads train, validation and test data to variables \n",
        "- Shows how the data looks from reading the file.\n",
        "- Used Sources: \n",
        ">https://stackoverflow.com/questions/21546739/load-data-from-txt-with-pandas"
      ]
    },
    {
      "cell_type": "code",
      "metadata": {
        "colab": {
          "base_uri": "https://localhost:8080/",
          "height": 206
        },
        "id": "ZedJaw-rsZ16",
        "outputId": "a939c062-9470-4566-ab57-f7c22d9ad274"
      },
      "source": [
        "def readDataEmotionData1(dataPath):\n",
        "  data = pd.read_csv(DataDir+dataPath, sep=\";\", header=None, names = ['Text','Label'])\n",
        "  return data;\n",
        "\n",
        "trainData = readDataEmotionData1('train.txt')\n",
        "valData = readDataEmotionData1('val.txt')\n",
        "testData = readDataEmotionData1('test.txt')\n",
        "# Shows how the data looks in the padas DataFrame after loading \n",
        "trainData.head()"
      ],
      "execution_count": 5,
      "outputs": [
        {
          "output_type": "execute_result",
          "data": {
            "text/html": [
              "<div>\n",
              "<style scoped>\n",
              "    .dataframe tbody tr th:only-of-type {\n",
              "        vertical-align: middle;\n",
              "    }\n",
              "\n",
              "    .dataframe tbody tr th {\n",
              "        vertical-align: top;\n",
              "    }\n",
              "\n",
              "    .dataframe thead th {\n",
              "        text-align: right;\n",
              "    }\n",
              "</style>\n",
              "<table border=\"1\" class=\"dataframe\">\n",
              "  <thead>\n",
              "    <tr style=\"text-align: right;\">\n",
              "      <th></th>\n",
              "      <th>Text</th>\n",
              "      <th>Label</th>\n",
              "    </tr>\n",
              "  </thead>\n",
              "  <tbody>\n",
              "    <tr>\n",
              "      <th>0</th>\n",
              "      <td>i didnt feel humiliated</td>\n",
              "      <td>sadness</td>\n",
              "    </tr>\n",
              "    <tr>\n",
              "      <th>1</th>\n",
              "      <td>i can go from feeling so hopeless to so damned...</td>\n",
              "      <td>sadness</td>\n",
              "    </tr>\n",
              "    <tr>\n",
              "      <th>2</th>\n",
              "      <td>im grabbing a minute to post i feel greedy wrong</td>\n",
              "      <td>anger</td>\n",
              "    </tr>\n",
              "    <tr>\n",
              "      <th>3</th>\n",
              "      <td>i am ever feeling nostalgic about the fireplac...</td>\n",
              "      <td>love</td>\n",
              "    </tr>\n",
              "    <tr>\n",
              "      <th>4</th>\n",
              "      <td>i am feeling grouchy</td>\n",
              "      <td>anger</td>\n",
              "    </tr>\n",
              "  </tbody>\n",
              "</table>\n",
              "</div>"
            ],
            "text/plain": [
              "                                                Text    Label\n",
              "0                            i didnt feel humiliated  sadness\n",
              "1  i can go from feeling so hopeless to so damned...  sadness\n",
              "2   im grabbing a minute to post i feel greedy wrong    anger\n",
              "3  i am ever feeling nostalgic about the fireplac...     love\n",
              "4                               i am feeling grouchy    anger"
            ]
          },
          "metadata": {},
          "execution_count": 5
        }
      ]
    },
    {
      "cell_type": "markdown",
      "metadata": {
        "id": "M_p5AhGUxSXz"
      },
      "source": [
        "## Exploring Data\n"
      ]
    },
    {
      "cell_type": "code",
      "metadata": {
        "colab": {
          "base_uri": "https://localhost:8080/",
          "height": 206
        },
        "id": "_XbCgkxK0HOV",
        "outputId": "5f3f3f46-5a3e-46d0-e71b-eeefda3b3ca0"
      },
      "source": [
        "# The following function adds length coloum to pandas Dataframe\n",
        "def addTextLength(dataFrame):\n",
        "  lengthData = []\n",
        "  for i in dataFrame['Text']:\n",
        "    lengthData.append(len(i))\n",
        "  dataFrame=dataFrame.assign(Length=lengthData)\n",
        "  return dataFrame\n",
        "trainData = addTextLength(trainData)\n",
        "valData = addTextLength(valData)\n",
        "testData = addTextLength(testData)\n",
        "valData.head()"
      ],
      "execution_count": 6,
      "outputs": [
        {
          "output_type": "execute_result",
          "data": {
            "text/html": [
              "<div>\n",
              "<style scoped>\n",
              "    .dataframe tbody tr th:only-of-type {\n",
              "        vertical-align: middle;\n",
              "    }\n",
              "\n",
              "    .dataframe tbody tr th {\n",
              "        vertical-align: top;\n",
              "    }\n",
              "\n",
              "    .dataframe thead th {\n",
              "        text-align: right;\n",
              "    }\n",
              "</style>\n",
              "<table border=\"1\" class=\"dataframe\">\n",
              "  <thead>\n",
              "    <tr style=\"text-align: right;\">\n",
              "      <th></th>\n",
              "      <th>Text</th>\n",
              "      <th>Label</th>\n",
              "      <th>Length</th>\n",
              "    </tr>\n",
              "  </thead>\n",
              "  <tbody>\n",
              "    <tr>\n",
              "      <th>0</th>\n",
              "      <td>im feeling quite sad and sorry for myself but ...</td>\n",
              "      <td>sadness</td>\n",
              "      <td>69</td>\n",
              "    </tr>\n",
              "    <tr>\n",
              "      <th>1</th>\n",
              "      <td>i feel like i am still looking at a blank canv...</td>\n",
              "      <td>sadness</td>\n",
              "      <td>70</td>\n",
              "    </tr>\n",
              "    <tr>\n",
              "      <th>2</th>\n",
              "      <td>i feel like a faithful servant</td>\n",
              "      <td>love</td>\n",
              "      <td>30</td>\n",
              "    </tr>\n",
              "    <tr>\n",
              "      <th>3</th>\n",
              "      <td>i am just feeling cranky and blue</td>\n",
              "      <td>anger</td>\n",
              "      <td>33</td>\n",
              "    </tr>\n",
              "    <tr>\n",
              "      <th>4</th>\n",
              "      <td>i can have for a treat or if i am feeling festive</td>\n",
              "      <td>joy</td>\n",
              "      <td>49</td>\n",
              "    </tr>\n",
              "  </tbody>\n",
              "</table>\n",
              "</div>"
            ],
            "text/plain": [
              "                                                Text    Label  Length\n",
              "0  im feeling quite sad and sorry for myself but ...  sadness      69\n",
              "1  i feel like i am still looking at a blank canv...  sadness      70\n",
              "2                     i feel like a faithful servant     love      30\n",
              "3                  i am just feeling cranky and blue    anger      33\n",
              "4  i can have for a treat or if i am feeling festive      joy      49"
            ]
          },
          "metadata": {},
          "execution_count": 6
        }
      ]
    },
    {
      "cell_type": "code",
      "metadata": {
        "colab": {
          "base_uri": "https://localhost:8080/",
          "height": 407
        },
        "id": "Ac0ziLoN3NBV",
        "outputId": "f44696b9-1bcf-4e3a-e57b-e1abeebda3bf"
      },
      "source": [
        "# This shows the distrubution of the number of characters length of the Text.\n",
        "def plotDestrubrition(data,name):\n",
        "  sns.set_style('darkgrid')\n",
        "  plt.figure(figsize=(5,5))\n",
        "  plt.title(name)\n",
        "  sns.distplot(data)\n",
        "  # plt.savefig('/models/Stats/TrainDataDestrubrition.eps',format='eps',dpi=1200)\n",
        "\n",
        "plotDestrubrition(trainData['Length'],'Train Data')"
      ],
      "execution_count": 94,
      "outputs": [
        {
          "output_type": "stream",
          "name": "stderr",
          "text": [
            "/usr/local/lib/python3.7/dist-packages/seaborn/distributions.py:2619: FutureWarning: `distplot` is a deprecated function and will be removed in a future version. Please adapt your code to use either `displot` (a figure-level function with similar flexibility) or `histplot` (an axes-level function for histograms).\n",
            "  warnings.warn(msg, FutureWarning)\n"
          ]
        },
        {
          "output_type": "display_data",
          "data": {
            "image/png": "[encoded data removed]",
            "text/plain": [
              "<Figure size 360x360 with 1 Axes>"
            ]
          },
          "metadata": {}
        }
      ]
    },
    {
      "cell_type": "code",
      "metadata": {
        "colab": {
          "base_uri": "https://localhost:8080/",
          "height": 300
        },
        "id": "dfWMCFyR6bjQ",
        "outputId": "26bea41b-9723-42c9-a0f6-c57467eea619"
      },
      "source": [
        "maxSentanceLength = 300\n",
        "trainData.describe()"
      ],
      "execution_count": 8,
      "outputs": [
        {
          "output_type": "execute_result",
          "data": {
            "text/html": [
              "<div>\n",
              "<style scoped>\n",
              "    .dataframe tbody tr th:only-of-type {\n",
              "        vertical-align: middle;\n",
              "    }\n",
              "\n",
              "    .dataframe tbody tr th {\n",
              "        vertical-align: top;\n",
              "    }\n",
              "\n",
              "    .dataframe thead th {\n",
              "        text-align: right;\n",
              "    }\n",
              "</style>\n",
              "<table border=\"1\" class=\"dataframe\">\n",
              "  <thead>\n",
              "    <tr style=\"text-align: right;\">\n",
              "      <th></th>\n",
              "      <th>Length</th>\n",
              "    </tr>\n",
              "  </thead>\n",
              "  <tbody>\n",
              "    <tr>\n",
              "      <th>count</th>\n",
              "      <td>16000.000000</td>\n",
              "    </tr>\n",
              "    <tr>\n",
              "      <th>mean</th>\n",
              "      <td>96.845812</td>\n",
              "    </tr>\n",
              "    <tr>\n",
              "      <th>std</th>\n",
              "      <td>55.904953</td>\n",
              "    </tr>\n",
              "    <tr>\n",
              "      <th>min</th>\n",
              "      <td>7.000000</td>\n",
              "    </tr>\n",
              "    <tr>\n",
              "      <th>25%</th>\n",
              "      <td>53.000000</td>\n",
              "    </tr>\n",
              "    <tr>\n",
              "      <th>50%</th>\n",
              "      <td>86.000000</td>\n",
              "    </tr>\n",
              "    <tr>\n",
              "      <th>75%</th>\n",
              "      <td>129.000000</td>\n",
              "    </tr>\n",
              "    <tr>\n",
              "      <th>max</th>\n",
              "      <td>300.000000</td>\n",
              "    </tr>\n",
              "  </tbody>\n",
              "</table>\n",
              "</div>"
            ],
            "text/plain": [
              "             Length\n",
              "count  16000.000000\n",
              "mean      96.845812\n",
              "std       55.904953\n",
              "min        7.000000\n",
              "25%       53.000000\n",
              "50%       86.000000\n",
              "75%      129.000000\n",
              "max      300.000000"
            ]
          },
          "metadata": {},
          "execution_count": 8
        }
      ]
    },
    {
      "cell_type": "markdown",
      "metadata": {
        "id": "ZJpbHnHp70gU"
      },
      "source": [
        "## Text Pre-Processing\n",
        "- Decontraction\n",
        "- Spell check\n"
      ]
    },
    {
      "cell_type": "markdown",
      "source": [
        "### Decontraction \n",
        "- Having contractions tends to drop vowels from words in English. By Decotracting words in the text, it standardizas the text which could be very useful while traning Text Classfication Model.\n",
        "\n",
        "- Source:  \n",
        "`https://www.geeksforgeeks.org/nlp-expand-contractions-in-text-processing/`<br />\n",
        "`https://medium.com/analytics-vidhya/natural-language-processing-for-developers-912ee0fda979`\n",
        "\n",
        "\n",
        "\n"
      ],
      "metadata": {
        "id": "Pn4N7CAQsT30"
      }
    },
    {
      "cell_type": "code",
      "metadata": {
        "colab": {
          "base_uri": "https://localhost:8080/"
        },
        "id": "fyCHlYHO76Ya",
        "outputId": "7f686eca-1ff5-4feb-a1c2-41f3057c2845"
      },
      "source": [
        "# This requries  contractions package.\n",
        "# This Function accepts a Pandas Data Frame with sentences in column titled 'Text'.\n",
        "def Decontracted(DataFrame):\n",
        "  # This loop enumerates, giving 'i' being the index of the sentence which is denoted by 'text'.\n",
        "  for i, text in enumerate(DataFrame['Text']):\n",
        "    DataFrame['Text'][i] = contractions.fix(text)\n",
        "  return DataFrame\n",
        "\n",
        "# Calling Decontracted function on all three Datasets\n",
        "trainData = Decontracted(trainData)\n",
        "valData = Decontracted(valData)\n",
        "testData = Decontracted(testData)"
      ],
      "execution_count": 9,
      "outputs": [
        {
          "output_type": "stream",
          "name": "stderr",
          "text": [
            "/usr/local/lib/python3.7/dist-packages/ipykernel_launcher.py:6: SettingWithCopyWarning: \n",
            "A value is trying to be set on a copy of a slice from a DataFrame\n",
            "\n",
            "See the caveats in the documentation: https://pandas.pydata.org/pandas-docs/stable/user_guide/indexing.html#returning-a-view-versus-a-copy\n",
            "  \n"
          ]
        }
      ]
    },
    {
      "cell_type": "markdown",
      "source": [
        "### Checking Spelling \n",
        "\n",
        "- Training and Validation text containing misspelled words might not help the model recognize a pattern since a different token would be assigned during tokenization.\n",
        "> **Note**: This will take really long time, remove or comment it if needed."
      ],
      "metadata": {
        "id": "vNngeJzfzv4j"
      }
    },
    {
      "cell_type": "code",
      "metadata": {
        "id": "2rcM-5tCHYYk"
      },
      "source": [
        "# This requires autocorrect package as Speller.\n",
        "# This Function accepts a Pandas Data Frame with sentences in column titled 'Text'.\n",
        "def SpellCheck(DataFrame):\n",
        "  spell = Speller(lang='en')\n",
        "  for i, text in enumerate(DataFrame['Text']):\n",
        "      DataFrame['Text'][i] = str(spell(text))\n",
        "  return DataFrame\n",
        "\n",
        "# Calling SpellCheck function on all three Datasets\n",
        "trainData = SpellCheck(trainData)\n",
        "valData = SpellCheck(valData)\n",
        "testData = SpellCheck(testData)"
      ],
      "execution_count": 10,
      "outputs": []
    },
    {
      "cell_type": "markdown",
      "source": [
        "## Text Processing\n",
        "- Labels Enconding\n",
        "- Text Tokenization\n"
      ],
      "metadata": {
        "id": "TloZyzQKCgKv"
      }
    },
    {
      "cell_type": "markdown",
      "source": [
        "### Label Encoding\n",
        "- When making this model, we tried two methods for label encoding, those being one-hot encoding, and assigning an arbitrary integer value to each of the text classifiers.\n",
        "\n",
        "- While training and testing the model, we found out that there was no substantial difference in accuracy. Therefore, we choose the second method with assigning an arbitrary integer value.\n",
        "\n",
        "- In the dataset we are using there are following 6 classifiers and the corresponding listed below. <br />\n",
        "` Anger: 0 \n",
        "  Fear: 1\n",
        "  Joy: 2\n",
        "  Love: 3\n",
        "  Sadness: 4\n",
        "  Surprise: 5`\n",
        "> **Note**: If you would like to use one-hot encoding instead of what we were using, return 'LabelsNames' instead of 'labels' in the LabelEncoding function. You may also need to change the loss function from SparseCategoricalCrossentropy to CategoricalCrossentropy in the model architecture."
      ],
      "metadata": {
        "id": "m_zhreMH9mIp"
      }
    },
    {
      "cell_type": "code",
      "metadata": {
        "colab": {
          "base_uri": "https://localhost:8080/"
        },
        "id": "h5eELCHFPqCg",
        "outputId": "89b3284d-56bc-4e19-9422-1c021c5eb489"
      },
      "source": [
        "# If one-hot encoding is being used requires CountVectorizer and TfidfVectorizer packages from sklearner.\n",
        "# This Function accepts a Pandas Data Frame with sentences classifications in column titled 'Label'\n",
        "def LabelEncoding(DataFrame):\n",
        "  labels = []\n",
        "  encodeVectorizer = CountVectorizer(analyzer = \"word\", tokenizer = None,lowercase=True, preprocessor = None, stop_words = None)\n",
        "  encodedLabels = encodeVectorizer.fit_transform(DataFrame['Label']).toarray()\n",
        "  LabelsNames = list(encodeVectorizer.get_feature_names())\n",
        "  for i in DataFrame['Label']:\n",
        "    labels.append((list(LabelsNames).index(i)))\n",
        "  return labels,LabelsNames\n",
        "\n",
        "# Calling LabelEncoding function on all three Datasets\n",
        "encodedTrainLabels,TrainLabelFeatureNames = LabelEncoding(trainData)\n",
        "encodedValLabels,ValLabelFeatureNames = LabelEncoding(valData)\n",
        "encodedTestLabels,TestLabelFeatureNames = LabelEncoding(testData)"
      ],
      "execution_count": 11,
      "outputs": [
        {
          "output_type": "stream",
          "name": "stderr",
          "text": [
            "/usr/local/lib/python3.7/dist-packages/sklearn/utils/deprecation.py:87: FutureWarning: Function get_feature_names is deprecated; get_feature_names is deprecated in 1.0 and will be removed in 1.2. Please use get_feature_names_out instead.\n",
            "  warnings.warn(msg, category=FutureWarning)\n"
          ]
        }
      ]
    },
    {
      "cell_type": "markdown",
      "source": [
        "### Text Tokenization\n",
        "- With the use of AutoTokenizer from hugging face's python package called transformers, we are able to tokenize list of text sentences using the pretrained tokens from a given transformer model.\n",
        "- The Hugging face's tokenizer has parameters for custom padding length which we used while making this model.\n",
        "- The TextEncoding Function returns a tensor_slices dataset containing text encodings and their corresponding labels as in a format tensorflow requires with a custom tranning batch size.\n",
        "\n",
        "> **Note**: Tokenization could be accomplished also using pre-trained model specfic tokenizer insted of AutoTokenizer, ex. AutoTokenizer.from_pretrained('bert-base-uncased') which return the same tokenizer as BertTokenizer.from_pretrained('bert-base-uncased')\n"
      ],
      "metadata": {
        "id": "V_fQ3Vt4DPfw"
      }
    },
    {
      "cell_type": "code",
      "metadata": {
        "id": "1_ri2vPcjaa8"
      },
      "source": [
        "# This Function requires AutoTokenizer packages from transformers and import tensorflow as tf.\n",
        "def TextEncoding(\n",
        "                 # The model specific tokenizer ex. 'bert-base-uncased'\n",
        "                 tokenizerType,\n",
        "                 # The list of data containing Text \n",
        "                 dataTextList, \n",
        "                 # The list of Corresponding Classification of dataTextList in one-hot or other encoding\n",
        "                 LabelList, \n",
        "                 # The Traing Batch Size.\n",
        "                 batchSize,\n",
        "                 # The Shuffling Parameter\n",
        "                 shufflingParameter,\n",
        "                 # The Padding Length\n",
        "                 maxLen):\n",
        "  tokenizer = AutoTokenizer.from_pretrained(tokenizerType)\n",
        "  \n",
        "  textEncodings = tokenizer(dataTextList,\n",
        "                            truncation=True, \n",
        "                            max_length = maxLen,\n",
        "                            padding=\"max_length\")\n",
        "  \n",
        "  dataset = tf.data.Dataset.from_tensor_slices((\n",
        "    dict(textEncodings),\n",
        "    LabelList\n",
        "    ))\n",
        "  dataset = dataset.shuffle(shufflingParameter).batch(batchSize)\n",
        "  return dataset,tokenizer"
      ],
      "execution_count": 12,
      "outputs": []
    },
    {
      "cell_type": "markdown",
      "metadata": {
        "id": "8dN3hq8nn3IJ"
      },
      "source": [
        "# **Model Bulding and Training**\n",
        "- Requried Entities\n",
        "- Model Building\n",
        "- Model Tranning \n",
        "- Model Saving"
      ]
    },
    {
      "cell_type": "markdown",
      "source": [
        "## Requried Entities\n",
        "- Google Cloud Authorization\n",
        "- Requried Directories\n",
        "- Other Required Variables\n"
      ],
      "metadata": {
        "id": "JMWNcfmP66Fl"
      }
    },
    {
      "cell_type": "markdown",
      "source": [
        "### Google Cloud Authorization\n",
        "- This contains cloud authorization to our project for transfer data from to google storage buckets\n"
      ],
      "metadata": {
        "id": "ZT-pN55d7b-Z"
      }
    },
    {
      "cell_type": "code",
      "source": [
        "!gcloud auth login\n",
        "!gcloud config set project oval-tuner-326314"
      ],
      "metadata": {
        "colab": {
          "base_uri": "https://localhost:8080/"
        },
        "id": "IxzFGznF1iUT",
        "outputId": "ee35b0eb-25e9-4311-91ac-8cdc3522429f"
      },
      "execution_count": 15,
      "outputs": [
        {
          "output_type": "stream",
          "name": "stdout",
          "text": [
            "Go to the following link in your browser:\n",
            "\n",
            "    https://accounts.google.com/o/oauth2/auth?response_type=code&client_id=32555940559.apps.googleusercontent.com&redirect_uri=urn%3Aietf%3Awg%3Aoauth%3A2.0%3Aoob&scope=openid+https%3A%2F%2Fwww.googleapis.com%2Fauth%2Fuserinfo.email+https%3A%2F%2Fwww.googleapis.com%2Fauth%2Fcloud-platform+https%3A%2F%2Fwww.googleapis.com%2Fauth%2Fappengine.admin+https%3A%2F%2Fwww.googleapis.com%2Fauth%2Fcompute+https%3A%2F%2Fwww.googleapis.com%2Fauth%2Faccounts.reauth&state=wcCFp4XZTEetU5TtOvNMXqcbx3a67g&prompt=consent&access_type=offline&code_challenge=eoZuDMirZT5r-OxKeMzsEA_wqBHQYAGrXJKLIs85nzc&code_challenge_method=S256\n",
            "\n",
            "Enter verification code: 4/1AX4XfWikTJ3gSZjbNt2ReCSkNkgshPdd787Rwu6zIL-qLLTAZ9HI3R0zbOc\n",
            "\n",
            "You are now logged in as [anirudhovn@gmail.com].\n",
            "Your current project is [None].  You can change this setting by running:\n",
            "  $ gcloud config set project PROJECT_ID\n",
            "Updated property [core/project].\n"
          ]
        }
      ]
    },
    {
      "cell_type": "markdown",
      "source": [
        "### Requried Directories\n",
        "- This contains requried directories to save models and data after tranning."
      ],
      "metadata": {
        "id": "VoNaERJN7yhY"
      }
    },
    {
      "cell_type": "code",
      "source": [
        "!mkdir /models/\n",
        "!mkdir /models/Stats/\n",
        "\n",
        "!mkdir /models/Bert\n",
        "!mkdir /models/Bert/BertPreTrainedModel/\n",
        "!mkdir /models/Bert/BertTokenizer/\n",
        "\n",
        "!mkdir /models/DistilBert\n",
        "!mkdir /models/DistilBert/DistilBertPreTrainedModel/\n",
        "!mkdir /models/DistilBert/DistilBertTokenizer/\n",
        "\n",
        "!mkdir /models/Roberta\n",
        "!mkdir /models/Roberta/RobertaPreTrainedModel/\n",
        "!mkdir /models/Roberta/RobertaTokenizer/\n",
        "\n",
        "!mkdir /models/Electra\n",
        "!mkdir /models/Electra/ElectraPreTrainedModel/\n",
        "!mkdir /models/Electra/ElectraTokenizer/\n",
        "\n",
        "!mkdir /models/MobileBert\n",
        "!mkdir /models/MobileBert/MobileBertPreTrainedModel/\n",
        "!mkdir /models/MobileBert/MobileBertTokenizer/\n"
      ],
      "metadata": {
        "colab": {
          "base_uri": "https://localhost:8080/"
        },
        "id": "ljLol0PyWwrC",
        "outputId": "9baa30ca-e081-47a2-c24d-aa990670df2f"
      },
      "execution_count": 20,
      "outputs": [
        {
          "output_type": "stream",
          "name": "stdout",
          "text": [
            "mkdir: cannot create directory ‘/models/’: File exists\n",
            "mkdir: cannot create directory ‘/models/Stats/’: File exists\n",
            "mkdir: cannot create directory ‘/models/Roberta’: File exists\n",
            "mkdir: cannot create directory ‘/models/Roberta/RobertaPreTrainedModel/’: File exists\n",
            "mkdir: cannot create directory ‘/models/Roberta/RobertaTokenizer/’: File exists\n"
          ]
        }
      ]
    },
    {
      "cell_type": "markdown",
      "source": [
        "### Other Required Variables\n",
        "- This contains other requried variables for model building and tranning."
      ],
      "metadata": {
        "id": "06ZnuAxa8PRw"
      }
    },
    {
      "cell_type": "code",
      "source": [
        "# This is used to save excuation times.\n",
        "timeData = pd.DataFrame(columns= ['Training(min) ', 'Evalution(min)']).rename_axis('Models', axis=1)"
      ],
      "metadata": {
        "id": "tE52wIhX6hA5"
      },
      "execution_count": null,
      "outputs": []
    },
    {
      "cell_type": "markdown",
      "source": [
        "## Model Building\n",
        "- Model Architecture\n",
        "- Plotting Epochs\n",
        "- F1-Marco \n",
        "- Model Tranning Function \n",
        "- Model Saving(Colab)\n",
        "- Sources: <br />\n",
        " - https://www.youtube.com/watch?v=qFJeN9V1ZsI <br />\n",
        " - https://www.youtube.com/watch?v=tPYj3fFJGjk <br /> \n",
        " - https://www.youtube.com/watch?v=urlkrueSXpI <br />\n",
        " - https://www.youtube.com/watch?v=hOCDJyZ6quA <br />\n",
        " - https://www.youtube.com/watch?v=xI0HHN5XKDo <br />\n",
        " - https://www.youtube.com/watch?v=TQQlZhbC5ps <br />\n",
        " - https://www.youtube.com/watch?v=GSt00_-0ncQ <br />\n",
        " - https://www.youtube.com/watch?v=V1-Hm2rNkik <br />\n",
        " - https://www.youtube.com/watch?v=HzwM0ClAmOM <br />\n",
        " - https://huggingface.co/docs/transformers/master/model_doc/bert <br />\n",
        " - https://huggingface.co/docs/transformers/master/model_doc/electra <br />\n",
        " - https://scikit-learn.org/stable/modules/generated/sklearn.metrics.f1_score.html <br />\n",
        "> **Note**: We had no prior knowledge in ML or Neurl Networks, so we watched some paritially or fully the videos listed above."
      ],
      "metadata": {
        "id": "mD_y2pku8lya"
      }
    },
    {
      "cell_type": "markdown",
      "source": [
        "### Model Architecture\n",
        "- We edited the model architecture while monitoring accuracy and loss per epoch.\n",
        "- Pre-Trained Transformer Seq to Seq model accepts input_ids and attention mask as input layer. Where the shap of both input_ids and attention mask is the padding length, we choose(275).\n",
        "- Then the output embeddings of the pre-trained transformer model is passed to Dense layer which consist of 1000 nodes with relu activation function.\n",
        "- Having an a BatchNormalization layer after 1000 node Dense layer, we obsurved an increase in accuracy and no change to loss.\n",
        "- We attempted adding more layers after BatchNormalization layer, but we noticed increase in loss. Therefore, we added an output Dense layer consists of 6 nodes where each representing one emotion and used softmax activation function."
      ],
      "metadata": {
        "id": "LnKOuNeIHyfG"
      }
    },
    {
      "cell_type": "code",
      "metadata": {
        "id": "fFYHDS4vozRo"
      },
      "source": [
        "def CreateModel(\n",
        "                # Pre Trained Model Name from Transformers api, ex. 'bert-base-uncased'\n",
        "                model,\n",
        "                # The number of Text Classifiers\n",
        "                numLabels,\n",
        "                # The padding length\n",
        "                maxSentanceLength,\n",
        "                # The Input Input_id layer\n",
        "                input_ids,\n",
        "                # The Attention mask layer\n",
        "                mask):\n",
        "  embeddings = model(input_ids,mask)[0]\n",
        "  layer = tf.keras.layers.Dense(1000,activation='relu')(embeddings)\n",
        "  layer = tf.keras.layers.BatchNormalization()(layer)\n",
        "  outputLayer = tf.keras.layers.Dense(6,activation='softmax',name='outputs')(layer)\n",
        "  testModel = tf.keras.Model(inputs=[input_ids,mask],outputs=outputLayer)\n",
        "  return testModel"
      ],
      "execution_count": 13,
      "outputs": []
    },
    {
      "cell_type": "markdown",
      "source": [
        "### Plotting Epochs\n",
        "- Plots epochs of a given fitting model variable(hist) and fits keys.\n",
        "- Saves if the savePlotPath is set else just plots the graph.\n"
      ],
      "metadata": {
        "id": "5LH5bVFGSsyH"
      }
    },
    {
      "cell_type": "code",
      "metadata": {
        "id": "bIyUN9F8SY1U"
      },
      "source": [
        "def plotEpochs(hist,\n",
        "               histKeys,\n",
        "               Title,\n",
        "               Ylabel,\n",
        "               Xlabel = \"Epochs\",\n",
        "               savePlotPath = \"\"):\n",
        "  legends = []\n",
        "  for i in histKeys:\n",
        "    plt.plot(hist.history[i])\n",
        "    legends.append(i)\n",
        "  plt.title(Title)\n",
        "  plt.ylabel(Ylabel)\n",
        "  plt.xlabel(Xlabel)\n",
        "  plt.legend(legends)\n",
        "  if len(savePlotPath) > 0:\n",
        "    plt.savefig(savePlotPath,format='eps',dpi=1200)\n",
        "  plt.show()\n"
      ],
      "execution_count": 14,
      "outputs": []
    },
    {
      "cell_type": "markdown",
      "source": [
        "### F1-Marco\n",
        "- While Trying make custom matrices, I found this post in which they have coded what I was attempting.\n",
        "- This F1-score is not same from sklearner. We noticed about 12% difference from sklearner.\n",
        "> **Note**: I changed the definition name for my own purpose <br />\n",
        "\n",
        "Source: https://datascience.stackexchange.com/questions/45165/how-to-get-accuracy-f1-precision-and-recall-for-a-keras-model "
      ],
      "metadata": {
        "id": "lcnAYJmuUIcx"
      }
    },
    {
      "cell_type": "code",
      "metadata": {
        "id": "GKbbulHOm5-9"
      },
      "source": [
        "\n",
        "from keras import backend as K\n",
        "\n",
        "def Recalls(y_true, y_pred):\n",
        "    true_positives = K.sum(K.round(K.clip(y_true * y_pred, 0, 1)))\n",
        "    possible_positives = K.sum(K.round(K.clip(y_true, 0, 1)))\n",
        "    recall = true_positives / (possible_positives + K.epsilon())\n",
        "    return recall\n",
        "\n",
        "def Precision_Marco(y_true, y_pred):\n",
        "    true_positives = K.sum(K.round(K.clip(y_true * y_pred, 0, 1)))\n",
        "    predicted_positives = K.sum(K.round(K.clip(y_pred, 0, 1)))\n",
        "    precision = true_positives / (predicted_positives + K.epsilon())\n",
        "    return precision\n",
        "\n",
        "def F1_Macro(y_true, y_pred):\n",
        "    precision = Precision_Marco(y_true, y_pred)\n",
        "    recall = Recalls(y_true, y_pred)\n",
        "    return 2*((precision*recall)/(precision+recall+K.epsilon()))"
      ],
      "execution_count": 15,
      "outputs": []
    },
    {
      "cell_type": "markdown",
      "source": [
        "### Model Tranning Function\n",
        "- Train Model Function\n"
      ],
      "metadata": {
        "id": "SxVryF0ZaWNm"
      }
    },
    {
      "cell_type": "markdown",
      "source": [
        "#### Train Model Function \n",
        "- This Function mainly handles everything for trainning such as tokenization for a given model, creating a model architecture and recording the total tranning time.\n",
        "- It returns a tuple of tokenizer,history for graphing epochs,model,PreTrianed to save,TrainingTime.\n"
      ],
      "metadata": {
        "id": "1BbmRICDcF_N"
      }
    },
    {
      "cell_type": "code",
      "metadata": {
        "id": "RFsyOOkxTRTL"
      },
      "source": [
        "def trainModel(\n",
        "    # Default Parameters\n",
        "    maxSentanceLength = 275,\n",
        "    # Tranning Batch Size \n",
        "    BatchSize = 16,\n",
        "    # shufflingParameter \n",
        "    shufflingParameter = 1000,\n",
        "    # Learning Rate\n",
        "    Learning_rate=5e-5,\n",
        "    # Number of Epochs\n",
        "    Epochs=4,\n",
        "    # The total number of labels\n",
        "    numLabels = len(encodedTrainLabels),\n",
        "    # The Default Model if not specified \n",
        "    ModelName = 'bert-base-uncased',\n",
        "    # The Default Metrics \n",
        "    ModelMetrics = ['accuracy'],\n",
        "    optimizer = tf.keras.optimizers.Adam(learning_rate=5e-5),\n",
        "    # The Default optimizer, if you are using one-hot encoding change this to  tf.keras.losses.CategoricalCrossentropy()\n",
        "    loss = tf.keras.losses.SparseCategoricalCrossentropy(),\n",
        "    # The Default trainData\n",
        "    ModelTrainData = list(trainData['Text']),\n",
        "    # The Default train Data Labels\n",
        "    TrainLabels = encodedTrainLabels,\n",
        "    # The Default Val Data\n",
        "    ModelValData = list(valData['Text']),\n",
        "    # The Default Val Data Labels\n",
        "    ValLabels = encodedValLabels):\n",
        "  # Calling tokenizer function from Text Processing\n",
        "  valDataSet,tokenizer = TextEncoding(ModelName,\n",
        "                                      ModelValData,\n",
        "                                      ValLabels,\n",
        "                                      BatchSize,\n",
        "                                      shufflingParameter,\n",
        "                                      maxSentanceLength)\n",
        "  # Calling tokenizer function from Text Processing\n",
        "  trainDataSet,tokenizer = TextEncoding(ModelName,\n",
        "                                        ModelTrainData,\n",
        "                                        TrainLabels,\n",
        "                                        BatchSize,\n",
        "                                        shufflingParameter,\n",
        "                                        maxSentanceLength)\n",
        "\n",
        "  # The Input id layer\n",
        "  input_ids = tf.keras.layers.Input(shape=(maxSentanceLength,),name=\"input_ids\", dtype='int32')\n",
        "  # The Attention Mask layer\n",
        "  mask = tf.keras.layers.Input(shape=(maxSentanceLength,),name=\"attention_mask\",dtype='int32')\n",
        "  # The Pre-Trained Transformer Model\n",
        "  modelPreTrianed = TFAutoModelForSequenceClassification.from_pretrained(ModelName,\n",
        "                                                               num_labels=6)\n",
        "  # Creating Model Architecture\n",
        "  model = CreateModel(modelPreTrianed,\n",
        "                      numLabels,\n",
        "                      maxSentanceLength,\n",
        "                      input_ids = input_ids,\n",
        "                      mask = mask)\n",
        "  \n",
        "  # Model Compile Architecture\n",
        "  model.compile(optimizer=optimizer, \n",
        "                loss=loss, \n",
        "                metrics=ModelMetrics)\n",
        "  # Start Training Time\n",
        "  StartTime = time.time()\n",
        "  # Fitting the model\n",
        "  hist = model.fit(trainDataSet,\n",
        "          epochs=Epochs,\n",
        "          batch_size=BatchSize,\n",
        "          validation_data =valDataSet)\n",
        "  # End Training Time\n",
        "  EndTime = time.time()\n",
        "  # Training Time in min\n",
        "  TrainingTime = (EndTime-StartTime)/60\n",
        "  return tokenizer,hist,model, modelPreTrianed,TrainingTime\n",
        "\n"
      ],
      "execution_count": 16,
      "outputs": []
    },
    {
      "cell_type": "markdown",
      "source": [
        "### Model Saving(Colab)\n",
        "- The functions in the following cell saves trained model weights, tokenizer and Pre Trained Transformer Model to local machine from a given path."
      ],
      "metadata": {
        "id": "i7_teAZFhjEi"
      }
    },
    {
      "cell_type": "code",
      "source": [
        "def saveModelWeights(model,\n",
        "                     path):\n",
        "  model.save_weights(path)\n",
        "  print('The Model Saved')\n",
        "\n",
        "def saveTrasformerTokenizer(tokenizer,\n",
        "                            path):\n",
        "  tokenizer.save_pretrained(path)\n",
        "  print('The Tokenizer Saved')\n",
        "\n",
        "def savePreTrainedTransformerModel(model,\n",
        "                                   path):\n",
        "  model.save_pretrained(path)\n",
        "  print('The PreTrained Transformer Model Saved')\n",
        "\n",
        "  "
      ],
      "metadata": {
        "id": "dIZFVT8wN2Tl"
      },
      "execution_count": 18,
      "outputs": []
    },
    {
      "cell_type": "markdown",
      "source": [
        "## Model Tranning\n",
        "- Do Trainning Model\n",
        "- Bert\n",
        "- DistilBert\n",
        "- Roberta\n",
        "- Electra\n",
        "- MobileBert\n",
        "- Saving Everything to Google Storage Bucket\n",
        "\n",
        "**Note**: During at any training if the accuracy does not increase at rapid pase restart runtime during the beginning at the 1st epoch, Runtime-> Restart Runtime"
      ],
      "metadata": {
        "id": "j7ObkgvT-s5N"
      }
    },
    {
      "cell_type": "markdown",
      "source": [
        "### Do Trainning Model\n",
        "- This accpects name of the model and type of model('bert-base-uncased') \n",
        "- Calls the trainModel function from Model Building\n",
        "- Plots Epochs and save the plots to model's folder\n",
        "- Saves model weights, used tokenizer and pretrained Transformer Model to model's folder\n",
        "- Records Excution Time in timeData pandas dataframe and saves it to /models/Stats/TimeData.csv file. "
      ],
      "metadata": {
        "id": "ym0fsoC-kNBg"
      }
    },
    {
      "cell_type": "code",
      "source": [
        "def doTrainningModel(ModelName,\n",
        "                     ModelType):\n",
        "  Tokenizer,history,model,PreTrainedModel,TrainningTime = trainModel(ModelMetrics = ['accuracy',F1_Macro],\n",
        "                                                                     ModelName=ModelType)\n",
        "  plotEpochs(hist = history,\n",
        "            histKeys = ['accuracy','val_accuracy','F1_Macro','val_F1_Macro'],\n",
        "            Title = ModelName +\" Accuracy Graph\",\n",
        "            Ylabel = \"Accuracy\",\n",
        "            savePlotPath = '/models/'+ModelName+'/Accuracy.epi')\n",
        "  plotEpochs(hist = history,\n",
        "            histKeys = ['loss','val_loss'],\n",
        "            Title = ModelName+ \"Loss Graph\",\n",
        "            Ylabel = \"Loss\",\n",
        "            savePlotPath = \"/models/\"+ModelName+\"/Loss.epi\" )\n",
        "  saveModelWeights(model,\n",
        "                  '/models/'+ModelName+'/'+ModelName+'Weights.h5')\n",
        "\n",
        "  savePreTrainedTransformerModel(PreTrainedModel,\n",
        "                                '/models/'+ModelName+'/'+ModelName+'PreTrainedModel')\n",
        "  saveTrasformerTokenizer(Tokenizer,\n",
        "                          '/models/'+ModelName+'/'+ModelName+'Tokenizer/')\n",
        "  timeData.loc[ModelName] = [TrainningTime,'NaN']\n",
        "  timeData.to_csv('/models/Stats/TimeData.csv',index=True,index_label='Models')\n",
        "  model.summary()"
      ],
      "metadata": {
        "id": "-onZTe8VO0wE"
      },
      "execution_count": 17,
      "outputs": []
    },
    {
      "cell_type": "markdown",
      "source": [
        "### Bert"
      ],
      "metadata": {
        "id": "gfKT6kPFlidi"
      }
    },
    {
      "cell_type": "code",
      "metadata": {
        "id": "DZtHUx3MkBdj",
        "colab": {
          "base_uri": "https://localhost:8080/",
          "height": 0,
          "referenced_widgets": [
            "c07519c2eb8041c6bbda71b63d600093",
            "2fb3c00694874500a8de08ebdfcdf128",
            "143d4df31b8d465ea5029dcd00274962",
            "0e38c7a0a9b749f2abdd7cbf7e2c17f4",
            "1b53d90a6e0144729106e216e1c1fbba",
            "b88542fa616640629af676a9210b9f19",
            "4c63c1494ebb4861b5676e5fb7dc62bd",
            "93d106f207b74683b7e14bc7e0db1af3",
            "603b05e109904d098b82d2e8311adcb5",
            "fa73f35eac8641b8b74665f966393092",
            "d786dc9e47a144e0b171cd2cf55bbb69",
            "9d7cdb05c1af43bd946469c94ec81620",
            "1c44251e72b2405caeb76da66bbe26e3",
            "ffa21e11bb5a4070a74d7834c8213839",
            "43b852066e784b90b4ba5f1bd258f5f5",
            "dba5ec0f6a6e4cabbed4b50431a49edb",
            "f305f9445abe462fb463ec6765ee4900",
            "b639d2c835dd4fa59e7dc9657a3f5eb0",
            "0c6b90d3738c4c248cdd37c4584fb23d",
            "4e2c273360344e56b7af6ffec2b34831",
            "c147975a10584116ace794cdeae07fe9",
            "5c26d52ca94d4eb1b743539844e62313",
            "a43bb1c911514bc9ae855f0e93b7a67d",
            "975368e513b7444ba4e51139acc1477b",
            "1bd5e662f3774c7ab9c1a9279b8cea7b",
            "55d91f91bc62413ab95282a8076f36bf",
            "12e9a70fcca54915b8a63ee746567d27",
            "a73b2309162c413d9f5e79d0c6cf1bf5",
            "ffef4f6f568648eda105f9731f6eac92",
            "189d1c52ceea408eb38e5daa59a4ebca",
            "2ade8b973af94fe984ea2bacbf557b3d",
            "32efb9c0baae4b2cba81045a3c20ac85",
            "9ab54af39cf84eb095867fa31b039037",
            "e0e09c131d8c4c4f97cf8b0f5d5d333f",
            "a6addc800aa842739b6658b079f0daa4",
            "d1360dd8b70343be9d015bca1a3c5eff",
            "6839f84831514a32b599bc73db20d6ee",
            "1761b293a44f490e9987390219aa2a98",
            "4f873d15c9c54e7ea386eb60306672f2",
            "76073c555ba8429098da986b34dc1463",
            "35244028cfc0423e851c1c9c23c040ba",
            "d1463524631040b0a072c40a946e558d",
            "163cc0a5ae3742a3becf9c64dd84a00b",
            "6c89e7f1d2a94096aacd375dcb09f788",
            "6609bd3e983e43aeb07204f3d89e0c72",
            "8b8329ccf1d44faaa6f8823325de8f9c",
            "7bbdb180e73546098d2ce62449c025ef",
            "11e67720e9c74187aeafe907e25e86c5",
            "791e46f0cffa41d7bba42668a601b872",
            "5f04c6725a9e4c38bc5c96825633111a",
            "befe339c44204ec890420b3a46c29c46",
            "40ee6139bca94572a2a682608254758a",
            "d1636a404793466fb1ede94548a1bf67",
            "657662f4a74b42eba3af6791b24d2cd9",
            "ad56c6e527b44ab4994b87f5069f9a55"
          ]
        },
        "outputId": "991644a5-af84-4557-f4b8-1948d8fd6800"
      },
      "source": [
        "# Bert Model\n",
        "doTrainningModel('Bert',\n",
        "                 'bert-base-uncased')"
      ],
      "execution_count": 282,
      "outputs": [
        {
          "output_type": "display_data",
          "data": {
            "application/vnd.jupyter.widget-view+json": {
              "model_id": "c07519c2eb8041c6bbda71b63d600093",
              "version_minor": 0,
              "version_major": 2
            },
            "text/plain": [
              "Downloading:   0%|          | 0.00/28.0 [00:00<?, ?B/s]"
            ]
          },
          "metadata": {}
        },
        {
          "output_type": "display_data",
          "data": {
            "application/vnd.jupyter.widget-view+json": {
              "model_id": "9d7cdb05c1af43bd946469c94ec81620",
              "version_minor": 0,
              "version_major": 2
            },
            "text/plain": [
              "Downloading:   0%|          | 0.00/570 [00:00<?, ?B/s]"
            ]
          },
          "metadata": {}
        },
        {
          "output_type": "display_data",
          "data": {
            "application/vnd.jupyter.widget-view+json": {
              "model_id": "a43bb1c911514bc9ae855f0e93b7a67d",
              "version_minor": 0,
              "version_major": 2
            },
            "text/plain": [
              "Downloading:   0%|          | 0.00/226k [00:00<?, ?B/s]"
            ]
          },
          "metadata": {}
        },
        {
          "output_type": "display_data",
          "data": {
            "application/vnd.jupyter.widget-view+json": {
              "model_id": "e0e09c131d8c4c4f97cf8b0f5d5d333f",
              "version_minor": 0,
              "version_major": 2
            },
            "text/plain": [
              "Downloading:   0%|          | 0.00/455k [00:00<?, ?B/s]"
            ]
          },
          "metadata": {}
        },
        {
          "output_type": "display_data",
          "data": {
            "application/vnd.jupyter.widget-view+json": {
              "model_id": "6609bd3e983e43aeb07204f3d89e0c72",
              "version_minor": 0,
              "version_major": 2
            },
            "text/plain": [
              "Downloading:   0%|          | 0.00/511M [00:00<?, ?B/s]"
            ]
          },
          "metadata": {}
        },
        {
          "output_type": "stream",
          "name": "stderr",
          "text": [
            "All model checkpoint layers were used when initializing TFBertForSequenceClassification.\n",
            "\n",
            "Some layers of TFBertForSequenceClassification were not initialized from the model checkpoint at bert-base-uncased and are newly initialized: ['classifier']\n",
            "You should probably TRAIN this model on a down-stream task to be able to use it for predictions and inference.\n"
          ]
        },
        {
          "output_type": "stream",
          "name": "stdout",
          "text": [
            "Epoch 1/4\n"
          ]
        },
        {
          "output_type": "stream",
          "name": "stderr",
          "text": [
            "/usr/local/lib/python3.7/dist-packages/keras/engine/functional.py:559: UserWarning: Input dict contained keys ['token_type_ids'] which did not match any model input. They will be ignored by the model.\n",
            "  inputs = self._flatten_to_reference_inputs(inputs)\n"
          ]
        },
        {
          "output_type": "stream",
          "name": "stdout",
          "text": [
            "1000/1000 [==============================] - 607s 587ms/step - loss: 0.4636 - accuracy: 0.8475 - F1_Macro: 1.2438 - val_loss: 0.3323 - val_accuracy: 0.9090 - val_F1_Macro: 1.0184\n",
            "Epoch 2/4\n",
            "1000/1000 [==============================] - 583s 583ms/step - loss: 0.1834 - accuracy: 0.9333 - F1_Macro: 1.0020 - val_loss: 0.1687 - val_accuracy: 0.9295 - val_F1_Macro: 0.9983\n",
            "Epoch 3/4\n",
            "1000/1000 [==============================] - 583s 583ms/step - loss: 0.1479 - accuracy: 0.9423 - F1_Macro: 0.9943 - val_loss: 0.1744 - val_accuracy: 0.9350 - val_F1_Macro: 0.9993\n",
            "Epoch 4/4\n",
            "1000/1000 [==============================] - 582s 582ms/step - loss: 0.1355 - accuracy: 0.9466 - F1_Macro: 0.9912 - val_loss: 0.2098 - val_accuracy: 0.9300 - val_F1_Macro: 0.9886\n"
          ]
        },
        {
          "output_type": "stream",
          "name": "stderr",
          "text": [
            "The PostScript backend does not support transparency; partially transparent artists will be rendered opaque.\n",
            "The PostScript backend does not support transparency; partially transparent artists will be rendered opaque.\n"
          ]
        },
        {
          "output_type": "display_data",
          "data": {
            "image/png": "[encoded data removed]",
            "text/plain": [
              "<Figure size 432x288 with 1 Axes>"
            ]
          },
          "metadata": {}
        },
        {
          "output_type": "stream",
          "name": "stderr",
          "text": [
            "The PostScript backend does not support transparency; partially transparent artists will be rendered opaque.\n",
            "The PostScript backend does not support transparency; partially transparent artists will be rendered opaque.\n"
          ]
        },
        {
          "output_type": "display_data",
          "data": {
            "image/png": "[encoded data removed]",
            "text/plain": [
              "<Figure size 432x288 with 1 Axes>"
            ]
          },
          "metadata": {}
        },
        {
          "output_type": "stream",
          "name": "stdout",
          "text": [
            "The Model Saved\n",
            "The PreTrained Transformer Model Saved\n",
            "The Tokenizer Saved\n",
            "Model: \"model_24\"\n",
            "__________________________________________________________________________________________________\n",
            " Layer (type)                   Output Shape         Param #     Connected to                     \n",
            "==================================================================================================\n",
            " input_ids (InputLayer)         [(None, 275)]        0           []                               \n",
            "                                                                                                  \n",
            " attention_mask (InputLayer)    [(None, 275)]        0           []                               \n",
            "                                                                                                  \n",
            " tf_bert_for_sequence_classific  TFSequenceClassifie  109486854  ['input_ids[0][0]',              \n",
            " ation_14 (TFBertForSequenceCla  rOutput(loss=None,               'attention_mask[0][0]']         \n",
            " ssification)                   logits=(None, 6),                                                 \n",
            "                                 hidden_states=None                                               \n",
            "                                , attentions=None)                                                \n",
            "                                                                                                  \n",
            " dense_24 (Dense)               (None, 1000)         7000        ['tf_bert_for_sequence_classifica\n",
            "                                                                 tion_14[0][0]']                  \n",
            "                                                                                                  \n",
            " batch_normalization_24 (BatchN  (None, 1000)        4000        ['dense_24[0][0]']               \n",
            " ormalization)                                                                                    \n",
            "                                                                                                  \n",
            " outputs (Dense)                (None, 6)            6006        ['batch_normalization_24[0][0]'] \n",
            "                                                                                                  \n",
            "==================================================================================================\n",
            "Total params: 109,503,860\n",
            "Trainable params: 109,501,860\n",
            "Non-trainable params: 2,000\n",
            "__________________________________________________________________________________________________\n"
          ]
        }
      ]
    },
    {
      "cell_type": "code",
      "source": [
        "timeData = pd.read_csv('/models/Stats/TimeData.csv',index_col=0)\n",
        "timeData"
      ],
      "metadata": {
        "colab": {
          "base_uri": "https://localhost:8080/",
          "height": 0
        },
        "id": "WABXqcC4Cyey",
        "outputId": "86533ec1-84c2-4e48-ecec-924840fe2d82"
      },
      "execution_count": 283,
      "outputs": [
        {
          "output_type": "execute_result",
          "data": {
            "text/html": [
              "<div>\n",
              "<style scoped>\n",
              "    .dataframe tbody tr th:only-of-type {\n",
              "        vertical-align: middle;\n",
              "    }\n",
              "\n",
              "    .dataframe tbody tr th {\n",
              "        vertical-align: top;\n",
              "    }\n",
              "\n",
              "    .dataframe thead th {\n",
              "        text-align: right;\n",
              "    }\n",
              "</style>\n",
              "<table border=\"1\" class=\"dataframe\">\n",
              "  <thead>\n",
              "    <tr style=\"text-align: right;\">\n",
              "      <th></th>\n",
              "      <th>Training(min)</th>\n",
              "      <th>Evalution(min)</th>\n",
              "    </tr>\n",
              "    <tr>\n",
              "      <th>Models</th>\n",
              "      <th></th>\n",
              "      <th></th>\n",
              "    </tr>\n",
              "  </thead>\n",
              "  <tbody>\n",
              "    <tr>\n",
              "      <th>Bert</th>\n",
              "      <td>39.898933</td>\n",
              "      <td>NaN</td>\n",
              "    </tr>\n",
              "  </tbody>\n",
              "</table>\n",
              "</div>"
            ],
            "text/plain": [
              "        Training(min)   Evalution(min)\n",
              "Models                                \n",
              "Bert         39.898933             NaN"
            ]
          },
          "metadata": {},
          "execution_count": 283
        }
      ]
    },
    {
      "cell_type": "markdown",
      "source": [
        "### DistilBert"
      ],
      "metadata": {
        "id": "RMVpLs3rlmzT"
      }
    },
    {
      "cell_type": "code",
      "metadata": {
        "id": "DYtpPU4368a6",
        "outputId": "680c68fa-e494-41cb-eb6f-73c1b5770227",
        "colab": {
          "base_uri": "https://localhost:8080/",
          "height": 0,
          "referenced_widgets": [
            "b57206653fe54a84ae9faae4f1c86887",
            "d8864ed0b7644baaa1042644dd97a746",
            "f23a7d5aef89423cad709aae2c66ae89",
            "de52d6c39d154f3d8ee11d02dddd6394",
            "d146f5a88dca4b4bbc7c1f47ea79088c",
            "aad4ee76cec64a6585acc9e987bdefb3",
            "875c116a4e8248919d43a293ddb9c6a6",
            "2ab2fb28e8ed4089abba0504c1cadd03",
            "843fdb4ec29d4e75ac6f0212961d2416",
            "d2d8430cbff1408d876c1bafc64d72e8",
            "ed88eb3517544465965c050d02a3b5d5",
            "30cf088c147744dea96dae695da56d4f",
            "05e38f3c044c4520a7253f059e306148",
            "e04b2aa7d2c44c8aad50d5f4b7dec5cb",
            "a10eb49918eb4c63966dd533912844e3",
            "dfd800313cf94ca494d80eea14f8c63c",
            "85c31071c5294dab86aecc3bd1b46ae1",
            "9f80129937bc4c9594231a885fecbfad",
            "cacbfe59bb8a4da3941c0f6ae0108e47",
            "2992922ef4334e07a3a63055756dbaec",
            "7416d3026da544d9a64a5a07fcf4cfd2",
            "4d9eec54b67844b3810fe86e3da16db8",
            "fcac223f13b543e5acbf396ff4e1ce4a",
            "10e01f19717346e295a77241863f8ffa",
            "bc909713e18e4c319310bea3d36cc42a",
            "144e0636de6d4b028430179dc37b9502",
            "212df1768f10435cbf309c15c25d4689",
            "94e78a51cbac421baeead0dffc101d14",
            "0b19fc6c0c874566993ed74849493f55",
            "ca276478280e4a82820175c4fb7f4475",
            "4cbdc5840e4f45039ca143359dd8ba88",
            "accc98d388434f5d8b1b4a327c8ca563",
            "03517be587be45a88ca55cfbf2205317",
            "9b96a3f56fb34f81af75d10dd175eb3a",
            "b26fa25105174d43b6c45ad424400518",
            "ce74964e8287409d9638d93e45bcb355",
            "eec0ee2afd65420aae5168dbd13fc191",
            "1ef24aeade4242cc838e2bbdde6b6bae",
            "bec64743bfdf4e978ae8eabbc6995592",
            "2272c18e69434dc8a0d273fd2f2a4c6c",
            "f7963f85afab4da2a45d391ad5ed9609",
            "6cd3eb0a2f3144d1baed243165da122c",
            "e802619bef27406daf5c5fdc3fc74d99",
            "b5682c0157704167a69ccd454410e326",
            "b105f2c6ead042338628901194c8fd0e",
            "14e8b01ce298466cbd1e060eb69322c9",
            "fde86984f3c3491eac07888718ca87fc",
            "0d6cec0538a545208bb99292b1fe193c",
            "eb1ca665fdea497db1552379885a089a",
            "44be1c1c06a145898749e3f446023780",
            "b0ce8972f88b4a43ac983a4de45e9d42",
            "c2f3c8daccaf447d9238907a80ce926c",
            "aac9f02d98334e6984b73beb588bcba5",
            "6737f8761c784c9f8410f228659a31e2",
            "95cc508c51d84f46a8ed4025df82780c"
          ]
        }
      },
      "source": [
        "# DistilBert Model\n",
        "\n",
        "doTrainningModel('DistilBert',\n",
        "                 'distilbert-base-uncased')"
      ],
      "execution_count": 284,
      "outputs": [
        {
          "output_type": "display_data",
          "data": {
            "application/vnd.jupyter.widget-view+json": {
              "model_id": "b57206653fe54a84ae9faae4f1c86887",
              "version_minor": 0,
              "version_major": 2
            },
            "text/plain": [
              "Downloading:   0%|          | 0.00/28.0 [00:00<?, ?B/s]"
            ]
          },
          "metadata": {}
        },
        {
          "output_type": "display_data",
          "data": {
            "application/vnd.jupyter.widget-view+json": {
              "model_id": "30cf088c147744dea96dae695da56d4f",
              "version_minor": 0,
              "version_major": 2
            },
            "text/plain": [
              "Downloading:   0%|          | 0.00/483 [00:00<?, ?B/s]"
            ]
          },
          "metadata": {}
        },
        {
          "output_type": "display_data",
          "data": {
            "application/vnd.jupyter.widget-view+json": {
              "model_id": "fcac223f13b543e5acbf396ff4e1ce4a",
              "version_minor": 0,
              "version_major": 2
            },
            "text/plain": [
              "Downloading:   0%|          | 0.00/226k [00:00<?, ?B/s]"
            ]
          },
          "metadata": {}
        },
        {
          "output_type": "display_data",
          "data": {
            "application/vnd.jupyter.widget-view+json": {
              "model_id": "9b96a3f56fb34f81af75d10dd175eb3a",
              "version_minor": 0,
              "version_major": 2
            },
            "text/plain": [
              "Downloading:   0%|          | 0.00/455k [00:00<?, ?B/s]"
            ]
          },
          "metadata": {}
        },
        {
          "output_type": "display_data",
          "data": {
            "application/vnd.jupyter.widget-view+json": {
              "model_id": "b105f2c6ead042338628901194c8fd0e",
              "version_minor": 0,
              "version_major": 2
            },
            "text/plain": [
              "Downloading:   0%|          | 0.00/347M [00:00<?, ?B/s]"
            ]
          },
          "metadata": {}
        },
        {
          "output_type": "stream",
          "name": "stderr",
          "text": [
            "Some layers from the model checkpoint at distilbert-base-uncased were not used when initializing TFDistilBertForSequenceClassification: ['vocab_layer_norm', 'vocab_transform', 'activation_13', 'vocab_projector']\n",
            "- This IS expected if you are initializing TFDistilBertForSequenceClassification from the checkpoint of a model trained on another task or with another architecture (e.g. initializing a BertForSequenceClassification model from a BertForPreTraining model).\n",
            "- This IS NOT expected if you are initializing TFDistilBertForSequenceClassification from the checkpoint of a model that you expect to be exactly identical (initializing a BertForSequenceClassification model from a BertForSequenceClassification model).\n",
            "Some layers of TFDistilBertForSequenceClassification were not initialized from the model checkpoint at distilbert-base-uncased and are newly initialized: ['pre_classifier', 'classifier', 'dropout_989']\n",
            "You should probably TRAIN this model on a down-stream task to be able to use it for predictions and inference.\n"
          ]
        },
        {
          "output_type": "stream",
          "name": "stdout",
          "text": [
            "Epoch 1/4\n",
            "1000/1000 [==============================] - 307s 297ms/step - loss: 0.5544 - accuracy: 0.8157 - F1_Macro: 1.3235 - val_loss: 0.2269 - val_accuracy: 0.9170 - val_F1_Macro: 1.0097\n",
            "Epoch 2/4\n",
            "1000/1000 [==============================] - 296s 296ms/step - loss: 0.1930 - accuracy: 0.9327 - F1_Macro: 1.0113 - val_loss: 0.2084 - val_accuracy: 0.9300 - val_F1_Macro: 0.9935\n",
            "Epoch 3/4\n",
            "1000/1000 [==============================] - 296s 296ms/step - loss: 0.1389 - accuracy: 0.9458 - F1_Macro: 0.9931 - val_loss: 0.1865 - val_accuracy: 0.9315 - val_F1_Macro: 0.9956\n",
            "Epoch 4/4\n",
            "1000/1000 [==============================] - 296s 296ms/step - loss: 0.1115 - accuracy: 0.9582 - F1_Macro: 0.9807 - val_loss: 0.2091 - val_accuracy: 0.9300 - val_F1_Macro: 0.9928\n"
          ]
        },
        {
          "output_type": "stream",
          "name": "stderr",
          "text": [
            "The PostScript backend does not support transparency; partially transparent artists will be rendered opaque.\n",
            "The PostScript backend does not support transparency; partially transparent artists will be rendered opaque.\n"
          ]
        },
        {
          "output_type": "display_data",
          "data": {
            "image/png": "[encoded data removed]",
            "text/plain": [
              "<Figure size 432x288 with 1 Axes>"
            ]
          },
          "metadata": {}
        },
        {
          "output_type": "stream",
          "name": "stderr",
          "text": [
            "The PostScript backend does not support transparency; partially transparent artists will be rendered opaque.\n",
            "The PostScript backend does not support transparency; partially transparent artists will be rendered opaque.\n"
          ]
        },
        {
          "output_type": "display_data",
          "data": {
            "image/png": "[encoded data removed]",
            "text/plain": [
              "<Figure size 432x288 with 1 Axes>"
            ]
          },
          "metadata": {}
        },
        {
          "output_type": "stream",
          "name": "stdout",
          "text": [
            "The Model Saved\n",
            "The PreTrained Transformer Model Saved\n",
            "The Tokenizer Saved\n",
            "Model: \"model_25\"\n",
            "__________________________________________________________________________________________________\n",
            " Layer (type)                   Output Shape         Param #     Connected to                     \n",
            "==================================================================================================\n",
            " input_ids (InputLayer)         [(None, 275)]        0           []                               \n",
            "                                                                                                  \n",
            " attention_mask (InputLayer)    [(None, 275)]        0           []                               \n",
            "                                                                                                  \n",
            " tf_distil_bert_for_sequence_cl  TFSequenceClassifie  66958086   ['input_ids[0][0]',              \n",
            " assification_3 (TFDistilBertFo  rOutput(loss=None,               'attention_mask[0][0]']         \n",
            " rSequenceClassification)       logits=(None, 6),                                                 \n",
            "                                 hidden_states=None                                               \n",
            "                                , attentions=None)                                                \n",
            "                                                                                                  \n",
            " dense_25 (Dense)               (None, 1000)         7000        ['tf_distil_bert_for_sequence_cla\n",
            "                                                                 ssification_3[0][0]']            \n",
            "                                                                                                  \n",
            " batch_normalization_25 (BatchN  (None, 1000)        4000        ['dense_25[0][0]']               \n",
            " ormalization)                                                                                    \n",
            "                                                                                                  \n",
            " outputs (Dense)                (None, 6)            6006        ['batch_normalization_25[0][0]'] \n",
            "                                                                                                  \n",
            "==================================================================================================\n",
            "Total params: 66,975,092\n",
            "Trainable params: 66,973,092\n",
            "Non-trainable params: 2,000\n",
            "__________________________________________________________________________________________________\n"
          ]
        }
      ]
    },
    {
      "cell_type": "code",
      "source": [
        "timeData = pd.read_csv('/models/Stats/TimeData.csv',index_col=0)\n",
        "timeData"
      ],
      "metadata": {
        "colab": {
          "base_uri": "https://localhost:8080/",
          "height": 0
        },
        "id": "hCWuhpNCjiEQ",
        "outputId": "41a6425c-68a1-412d-8cb5-256af6fc9e80"
      },
      "execution_count": 19,
      "outputs": [
        {
          "output_type": "execute_result",
          "data": {
            "text/html": [
              "<div>\n",
              "<style scoped>\n",
              "    .dataframe tbody tr th:only-of-type {\n",
              "        vertical-align: middle;\n",
              "    }\n",
              "\n",
              "    .dataframe tbody tr th {\n",
              "        vertical-align: top;\n",
              "    }\n",
              "\n",
              "    .dataframe thead th {\n",
              "        text-align: right;\n",
              "    }\n",
              "</style>\n",
              "<table border=\"1\" class=\"dataframe\">\n",
              "  <thead>\n",
              "    <tr style=\"text-align: right;\">\n",
              "      <th></th>\n",
              "      <th>Training(min)</th>\n",
              "      <th>Evalution(min)</th>\n",
              "    </tr>\n",
              "    <tr>\n",
              "      <th>Models</th>\n",
              "      <th></th>\n",
              "      <th></th>\n",
              "    </tr>\n",
              "  </thead>\n",
              "  <tbody>\n",
              "    <tr>\n",
              "      <th>Bert</th>\n",
              "      <td>39.898933</td>\n",
              "      <td>NaN</td>\n",
              "    </tr>\n",
              "    <tr>\n",
              "      <th>DistilBert</th>\n",
              "      <td>20.787233</td>\n",
              "      <td>NaN</td>\n",
              "    </tr>\n",
              "  </tbody>\n",
              "</table>\n",
              "</div>"
            ],
            "text/plain": [
              "            Training(min)   Evalution(min)\n",
              "Models                                    \n",
              "Bert             39.898933             NaN\n",
              "DistilBert       20.787233             NaN"
            ]
          },
          "metadata": {},
          "execution_count": 19
        }
      ]
    },
    {
      "cell_type": "markdown",
      "source": [
        "### Roberta"
      ],
      "metadata": {
        "id": "Fg68yj5Llrjt"
      }
    },
    {
      "cell_type": "code",
      "source": [
        "# Roberta Model\n",
        "\n",
        "doTrainningModel('Roberta',\n",
        "                 'roberta-base')"
      ],
      "metadata": {
        "id": "dk5TXWKPwGTG",
        "colab": {
          "base_uri": "https://localhost:8080/",
          "height": 0
        },
        "outputId": "1840eeb9-e0c4-4527-94d0-738af5f85a22"
      },
      "execution_count": 20,
      "outputs": [
        {
          "output_type": "stream",
          "name": "stderr",
          "text": [
            "All model checkpoint layers were used when initializing TFRobertaForSequenceClassification.\n",
            "\n",
            "Some layers of TFRobertaForSequenceClassification were not initialized from the model checkpoint at roberta-base and are newly initialized: ['classifier']\n",
            "You should probably TRAIN this model on a down-stream task to be able to use it for predictions and inference.\n"
          ]
        },
        {
          "output_type": "stream",
          "name": "stdout",
          "text": [
            "Epoch 1/4\n",
            "1000/1000 [==============================] - 610s 589ms/step - loss: 0.5201 - accuracy: 0.8290 - F1_Macro: 1.2747 - val_loss: 0.2330 - val_accuracy: 0.9155 - val_F1_Macro: 0.9998\n",
            "Epoch 2/4\n",
            "1000/1000 [==============================] - 585s 585ms/step - loss: 0.2390 - accuracy: 0.9193 - F1_Macro: 1.0232 - val_loss: 0.1515 - val_accuracy: 0.9325 - val_F1_Macro: 1.0100\n",
            "Epoch 3/4\n",
            "1000/1000 [==============================] - 585s 585ms/step - loss: 0.1758 - accuracy: 0.9338 - F1_Macro: 1.0049 - val_loss: 0.1402 - val_accuracy: 0.9430 - val_F1_Macro: 1.0108\n",
            "Epoch 4/4\n",
            "1000/1000 [==============================] - 585s 585ms/step - loss: 0.1630 - accuracy: 0.9364 - F1_Macro: 1.0033 - val_loss: 0.1869 - val_accuracy: 0.9365 - val_F1_Macro: 0.9707\n"
          ]
        },
        {
          "output_type": "stream",
          "name": "stderr",
          "text": [
            "The PostScript backend does not support transparency; partially transparent artists will be rendered opaque.\n",
            "The PostScript backend does not support transparency; partially transparent artists will be rendered opaque.\n"
          ]
        },
        {
          "output_type": "display_data",
          "data": {
            "image/png": "[encoded data removed]",
            "text/plain": [
              "<Figure size 432x288 with 1 Axes>"
            ]
          },
          "metadata": {}
        },
        {
          "output_type": "stream",
          "name": "stderr",
          "text": [
            "The PostScript backend does not support transparency; partially transparent artists will be rendered opaque.\n",
            "The PostScript backend does not support transparency; partially transparent artists will be rendered opaque.\n"
          ]
        },
        {
          "output_type": "display_data",
          "data": {
            "image/png": "[encoded data removed]",
            "text/plain": [
              "<Figure size 432x288 with 1 Axes>"
            ]
          },
          "metadata": {}
        },
        {
          "output_type": "stream",
          "name": "stdout",
          "text": [
            "The Model Saved\n",
            "The PreTrained Transformer Model Saved\n",
            "The Tokenizer Saved\n",
            "Model: \"model\"\n",
            "__________________________________________________________________________________________________\n",
            " Layer (type)                   Output Shape         Param #     Connected to                     \n",
            "==================================================================================================\n",
            " input_ids (InputLayer)         [(None, 275)]        0           []                               \n",
            "                                                                                                  \n",
            " attention_mask (InputLayer)    [(None, 275)]        0           []                               \n",
            "                                                                                                  \n",
            " tf_roberta_for_sequence_classi  TFSequenceClassifie  124650246  ['input_ids[0][0]',              \n",
            " fication (TFRobertaForSequence  rOutput(loss=None,               'attention_mask[0][0]']         \n",
            " Classification)                logits=(None, 6),                                                 \n",
            "                                 hidden_states=None                                               \n",
            "                                , attentions=None)                                                \n",
            "                                                                                                  \n",
            " dense (Dense)                  (None, 1000)         7000        ['tf_roberta_for_sequence_classif\n",
            "                                                                 ication[0][0]']                  \n",
            "                                                                                                  \n",
            " batch_normalization (BatchNorm  (None, 1000)        4000        ['dense[0][0]']                  \n",
            " alization)                                                                                       \n",
            "                                                                                                  \n",
            " outputs (Dense)                (None, 6)            6006        ['batch_normalization[0][0]']    \n",
            "                                                                                                  \n",
            "==================================================================================================\n",
            "Total params: 124,667,252\n",
            "Trainable params: 124,665,252\n",
            "Non-trainable params: 2,000\n",
            "__________________________________________________________________________________________________\n"
          ]
        }
      ]
    },
    {
      "cell_type": "code",
      "source": [
        "timeData = pd.read_csv('/models/Stats/TimeData.csv',index_col=0)\n",
        "timeData"
      ],
      "metadata": {
        "colab": {
          "base_uri": "https://localhost:8080/",
          "height": 0
        },
        "id": "X_ONS_f3u0D4",
        "outputId": "40e26c84-64ab-4960-bb58-2dfb2ca2f23d"
      },
      "execution_count": 21,
      "outputs": [
        {
          "output_type": "execute_result",
          "data": {
            "text/html": [
              "<div>\n",
              "<style scoped>\n",
              "    .dataframe tbody tr th:only-of-type {\n",
              "        vertical-align: middle;\n",
              "    }\n",
              "\n",
              "    .dataframe tbody tr th {\n",
              "        vertical-align: top;\n",
              "    }\n",
              "\n",
              "    .dataframe thead th {\n",
              "        text-align: right;\n",
              "    }\n",
              "</style>\n",
              "<table border=\"1\" class=\"dataframe\">\n",
              "  <thead>\n",
              "    <tr style=\"text-align: right;\">\n",
              "      <th></th>\n",
              "      <th>Training(min)</th>\n",
              "      <th>Evalution(min)</th>\n",
              "    </tr>\n",
              "    <tr>\n",
              "      <th>Models</th>\n",
              "      <th></th>\n",
              "      <th></th>\n",
              "    </tr>\n",
              "  </thead>\n",
              "  <tbody>\n",
              "    <tr>\n",
              "      <th>Bert</th>\n",
              "      <td>39.898933</td>\n",
              "      <td>NaN</td>\n",
              "    </tr>\n",
              "    <tr>\n",
              "      <th>DistilBert</th>\n",
              "      <td>20.787233</td>\n",
              "      <td>NaN</td>\n",
              "    </tr>\n",
              "    <tr>\n",
              "      <th>Roberta</th>\n",
              "      <td>40.637583</td>\n",
              "      <td>NaN</td>\n",
              "    </tr>\n",
              "  </tbody>\n",
              "</table>\n",
              "</div>"
            ],
            "text/plain": [
              "            Training(min)   Evalution(min)\n",
              "Models                                    \n",
              "Bert             39.898933             NaN\n",
              "DistilBert       20.787233             NaN\n",
              "Roberta          40.637583             NaN"
            ]
          },
          "metadata": {},
          "execution_count": 21
        }
      ]
    },
    {
      "cell_type": "markdown",
      "source": [
        "### Electra"
      ],
      "metadata": {
        "id": "rpbO5FjXluAH"
      }
    },
    {
      "cell_type": "code",
      "metadata": {
        "id": "aZ2DbmV44TJN",
        "outputId": "28615e37-054e-4a1b-b0eb-6eed8544da16",
        "colab": {
          "base_uri": "https://localhost:8080/",
          "height": 0,
          "referenced_widgets": [
            "ec8838cc8b0243c59f5af2eb583b66e3",
            "74fe8496be0643678c4d25a8eea68517",
            "dcff4e2d574a45d7a5227c18102aad8f",
            "c636f617659e4f89be7f2f5c0a31f0b7",
            "9c6963b7b07c4b70843c343d31c0c4df",
            "e7a78c68f2054fbe888b925b5920ae2d",
            "662dca74d1184a34ba95112e27096ea0",
            "b4dbe369866d4347b811effccc5512a4",
            "b588a2d2e1f942a3b8e88c7c857408ba",
            "acf90c80a3e6488c9dcf98acb3b33499",
            "b7b18dfd49b541daaec63e3c6ffa2a40",
            "4d13df183e3f43ec9e0c16e9c9288b81",
            "1d382b99aa7e42c2b98f2da524dfb2df",
            "567c9b65a38e4884a09de0b165a3526a",
            "ea9b25182ee74ad6ae92f3c2d62c7e16",
            "dc55e7c27b424fcebc86613a8b2eaee2",
            "c3c01a612af44860a292490f9f48a876",
            "da3fb540b82b4b35b30bb7ff315df0bb",
            "0f90b296df694f41895753d42fc8ae54",
            "a93566ae70c243b29ed6a3355b4a6838",
            "46c2f5fa966146dca893cb7b0a0f16ac",
            "359e706f9fbe4d9198ab704c679fceae",
            "8c26760a3b154456adc1fe453cd8ecd2",
            "7b14584c6e174c5a85dc0a4842513033",
            "85722868a3a64f1ba4299cf25b6ee6d6",
            "b3ff24a710414634bd0813b68faa71e1",
            "c14b2ce38fbf490a95fc5e75b052e858",
            "d0d39e9aec5a43f8bdcc61a9cce0d6b1",
            "ff84440f6d7b430ca000a149da87c7b4",
            "b3baef500af8412d84bd5f360834a4e1",
            "6b751ab7957d445eb56a47467610a1db",
            "b66bd83e6f184279a374ebe491a99318",
            "086a9f345a8140fcaf207a02ad60f9e7",
            "6b7bbf5faf464a3b847e785c4f319352",
            "f65267bd5169493f9016f4483a0cf1a2",
            "3f31dcea953249fb9a099ce5ca4455ab",
            "42649e59b9b044ef971657fa30256f44",
            "e8e1b8783a2849019ea50c1022851aba",
            "d4298985689a4aec860c6fd5bbed8cd0",
            "daeed34fce294286b96c103f8ac32e1a",
            "f7768dbc113848ffa73f0561cfaafd59",
            "c33b285876c3474cba5dfc6eee5cccef",
            "f8f89339bc054a168e7ea34b97615d87",
            "e046e69811ba42fc92421e50ad8b7b8d",
            "be4e02f7fe184adab03614280a2ed67f",
            "3675cf7adfc34833b75e716c171bb2e7",
            "0c8003d8308d4bf985084cc90d7f7ccb",
            "d2d1d17f553141cfaf3227cb84621193",
            "744d8a30b8ed4bc6b0402771f383a60e",
            "e9d26c2e3bd1468bb9ac95dabf731a99",
            "0136cbd7d1e94c5b9f6966806d7a0c93",
            "d1874a462a9c4ec8babe7a08d2ffef4c",
            "c8ce9d889e0a4cfb99a2f245b976346b",
            "f5a743a524cd46aa98ba26af3fdb36e7",
            "77e6e2270c764abbb2e0c1dab9499194"
          ]
        }
      },
      "source": [
        "# Electra Model\n",
        "\n",
        "doTrainningModel('Electra',\n",
        "                 'google/electra-small-discriminator')"
      ],
      "execution_count": 22,
      "outputs": [
        {
          "output_type": "display_data",
          "data": {
            "application/vnd.jupyter.widget-view+json": {
              "model_id": "ec8838cc8b0243c59f5af2eb583b66e3",
              "version_minor": 0,
              "version_major": 2
            },
            "text/plain": [
              "Downloading:   0%|          | 0.00/29.0 [00:00<?, ?B/s]"
            ]
          },
          "metadata": {}
        },
        {
          "output_type": "display_data",
          "data": {
            "application/vnd.jupyter.widget-view+json": {
              "model_id": "4d13df183e3f43ec9e0c16e9c9288b81",
              "version_minor": 0,
              "version_major": 2
            },
            "text/plain": [
              "Downloading:   0%|          | 0.00/665 [00:00<?, ?B/s]"
            ]
          },
          "metadata": {}
        },
        {
          "output_type": "display_data",
          "data": {
            "application/vnd.jupyter.widget-view+json": {
              "model_id": "8c26760a3b154456adc1fe453cd8ecd2",
              "version_minor": 0,
              "version_major": 2
            },
            "text/plain": [
              "Downloading:   0%|          | 0.00/226k [00:00<?, ?B/s]"
            ]
          },
          "metadata": {}
        },
        {
          "output_type": "display_data",
          "data": {
            "application/vnd.jupyter.widget-view+json": {
              "model_id": "6b7bbf5faf464a3b847e785c4f319352",
              "version_minor": 0,
              "version_major": 2
            },
            "text/plain": [
              "Downloading:   0%|          | 0.00/455k [00:00<?, ?B/s]"
            ]
          },
          "metadata": {}
        },
        {
          "output_type": "display_data",
          "data": {
            "application/vnd.jupyter.widget-view+json": {
              "model_id": "be4e02f7fe184adab03614280a2ed67f",
              "version_minor": 0,
              "version_major": 2
            },
            "text/plain": [
              "Downloading:   0%|          | 0.00/51.9M [00:00<?, ?B/s]"
            ]
          },
          "metadata": {}
        },
        {
          "output_type": "stream",
          "name": "stderr",
          "text": [
            "Some layers from the model checkpoint at google/electra-small-discriminator were not used when initializing TFElectraForSequenceClassification: ['discriminator_predictions']\n",
            "- This IS expected if you are initializing TFElectraForSequenceClassification from the checkpoint of a model trained on another task or with another architecture (e.g. initializing a BertForSequenceClassification model from a BertForPreTraining model).\n",
            "- This IS NOT expected if you are initializing TFElectraForSequenceClassification from the checkpoint of a model that you expect to be exactly identical (initializing a BertForSequenceClassification model from a BertForSequenceClassification model).\n",
            "Some layers of TFElectraForSequenceClassification were not initialized from the model checkpoint at google/electra-small-discriminator and are newly initialized: ['classifier']\n",
            "You should probably TRAIN this model on a down-stream task to be able to use it for predictions and inference.\n"
          ]
        },
        {
          "output_type": "stream",
          "name": "stdout",
          "text": [
            "Epoch 1/4\n"
          ]
        },
        {
          "output_type": "stream",
          "name": "stderr",
          "text": [
            "/usr/local/lib/python3.7/dist-packages/keras/engine/functional.py:559: UserWarning: Input dict contained keys ['token_type_ids'] which did not match any model input. They will be ignored by the model.\n",
            "  inputs = self._flatten_to_reference_inputs(inputs)\n"
          ]
        },
        {
          "output_type": "stream",
          "name": "stdout",
          "text": [
            "1000/1000 [==============================] - 192s 171ms/step - loss: 0.8632 - accuracy: 0.6904 - F1_Macro: 1.7548 - val_loss: 0.3566 - val_accuracy: 0.8910 - val_F1_Macro: 1.0103\n",
            "Epoch 2/4\n",
            "1000/1000 [==============================] - 167s 167ms/step - loss: 0.3143 - accuracy: 0.8971 - F1_Macro: 1.0646 - val_loss: 0.2111 - val_accuracy: 0.9265 - val_F1_Macro: 0.9778\n",
            "Epoch 3/4\n",
            "1000/1000 [==============================] - 168s 168ms/step - loss: 0.1940 - accuracy: 0.9268 - F1_Macro: 1.0175 - val_loss: 0.1863 - val_accuracy: 0.9360 - val_F1_Macro: 0.9942\n",
            "Epoch 4/4\n",
            "1000/1000 [==============================] - 168s 168ms/step - loss: 0.1712 - accuracy: 0.9332 - F1_Macro: 1.0082 - val_loss: 0.1732 - val_accuracy: 0.9315 - val_F1_Macro: 0.9947\n"
          ]
        },
        {
          "output_type": "stream",
          "name": "stderr",
          "text": [
            "The PostScript backend does not support transparency; partially transparent artists will be rendered opaque.\n",
            "The PostScript backend does not support transparency; partially transparent artists will be rendered opaque.\n"
          ]
        },
        {
          "output_type": "display_data",
          "data": {
            "image/png": "[encoded data removed]",
            "text/plain": [
              "<Figure size 432x288 with 1 Axes>"
            ]
          },
          "metadata": {}
        },
        {
          "output_type": "stream",
          "name": "stderr",
          "text": [
            "The PostScript backend does not support transparency; partially transparent artists will be rendered opaque.\n",
            "The PostScript backend does not support transparency; partially transparent artists will be rendered opaque.\n"
          ]
        },
        {
          "output_type": "display_data",
          "data": {
            "image/png": "[encoded data removed]",
            "text/plain": [
              "<Figure size 432x288 with 1 Axes>"
            ]
          },
          "metadata": {}
        },
        {
          "output_type": "stream",
          "name": "stdout",
          "text": [
            "The Model Saved\n",
            "The PreTrained Transformer Model Saved\n",
            "The Tokenizer Saved\n",
            "Model: \"model_1\"\n",
            "__________________________________________________________________________________________________\n",
            " Layer (type)                   Output Shape         Param #     Connected to                     \n",
            "==================================================================================================\n",
            " input_ids (InputLayer)         [(None, 275)]        0           []                               \n",
            "                                                                                                  \n",
            " attention_mask (InputLayer)    [(None, 275)]        0           []                               \n",
            "                                                                                                  \n",
            " tf_electra_for_sequence_classi  TFSequenceClassifie  13550342   ['input_ids[0][0]',              \n",
            " fication (TFElectraForSequence  rOutput(loss=None,               'attention_mask[0][0]']         \n",
            " Classification)                logits=(None, 6),                                                 \n",
            "                                 hidden_states=None                                               \n",
            "                                , attentions=None)                                                \n",
            "                                                                                                  \n",
            " dense_1 (Dense)                (None, 1000)         7000        ['tf_electra_for_sequence_classif\n",
            "                                                                 ication[0][0]']                  \n",
            "                                                                                                  \n",
            " batch_normalization_1 (BatchNo  (None, 1000)        4000        ['dense_1[0][0]']                \n",
            " rmalization)                                                                                     \n",
            "                                                                                                  \n",
            " outputs (Dense)                (None, 6)            6006        ['batch_normalization_1[0][0]']  \n",
            "                                                                                                  \n",
            "==================================================================================================\n",
            "Total params: 13,567,348\n",
            "Trainable params: 13,565,348\n",
            "Non-trainable params: 2,000\n",
            "__________________________________________________________________________________________________\n"
          ]
        }
      ]
    },
    {
      "cell_type": "code",
      "source": [
        "timeData = pd.read_csv('/models/Stats/TimeData.csv',index_col=0)\n",
        "timeData"
      ],
      "metadata": {
        "id": "EGBp-v_pxKsP",
        "outputId": "69e10894-259c-44e0-e7a0-72d1c1f0e34b",
        "colab": {
          "base_uri": "https://localhost:8080/",
          "height": 0
        }
      },
      "execution_count": 19,
      "outputs": [
        {
          "output_type": "execute_result",
          "data": {
            "text/html": [
              "<div>\n",
              "<style scoped>\n",
              "    .dataframe tbody tr th:only-of-type {\n",
              "        vertical-align: middle;\n",
              "    }\n",
              "\n",
              "    .dataframe tbody tr th {\n",
              "        vertical-align: top;\n",
              "    }\n",
              "\n",
              "    .dataframe thead th {\n",
              "        text-align: right;\n",
              "    }\n",
              "</style>\n",
              "<table border=\"1\" class=\"dataframe\">\n",
              "  <thead>\n",
              "    <tr style=\"text-align: right;\">\n",
              "      <th></th>\n",
              "      <th>Training(min)</th>\n",
              "      <th>Evalution(min)</th>\n",
              "    </tr>\n",
              "    <tr>\n",
              "      <th>Models</th>\n",
              "      <th></th>\n",
              "      <th></th>\n",
              "    </tr>\n",
              "  </thead>\n",
              "  <tbody>\n",
              "    <tr>\n",
              "      <th>Bert</th>\n",
              "      <td>39.898933</td>\n",
              "      <td>NaN</td>\n",
              "    </tr>\n",
              "    <tr>\n",
              "      <th>DistilBert</th>\n",
              "      <td>20.787233</td>\n",
              "      <td>NaN</td>\n",
              "    </tr>\n",
              "    <tr>\n",
              "      <th>Roberta</th>\n",
              "      <td>40.637583</td>\n",
              "      <td>NaN</td>\n",
              "    </tr>\n",
              "    <tr>\n",
              "      <th>Electra</th>\n",
              "      <td>12.080952</td>\n",
              "      <td>NaN</td>\n",
              "    </tr>\n",
              "  </tbody>\n",
              "</table>\n",
              "</div>"
            ],
            "text/plain": [
              "            Training(min)   Evalution(min)\n",
              "Models                                    \n",
              "Bert             39.898933             NaN\n",
              "DistilBert       20.787233             NaN\n",
              "Roberta          40.637583             NaN\n",
              "Electra          12.080952             NaN"
            ]
          },
          "metadata": {},
          "execution_count": 19
        }
      ]
    },
    {
      "cell_type": "markdown",
      "source": [
        "### MobileBert"
      ],
      "metadata": {
        "id": "C4KZ6Daflx87"
      }
    },
    {
      "cell_type": "code",
      "source": [
        "# MobileBert Model\n",
        "doTrainningModel('MobileBert',\n",
        "                 'google/mobilebert-uncased')"
      ],
      "metadata": {
        "id": "ifDb6Tqyymt-",
        "outputId": "051e751d-ab1f-4ab6-c914-6de20c7944a1",
        "colab": {
          "base_uri": "https://localhost:8080/",
          "height": 0
        }
      },
      "execution_count": 20,
      "outputs": [
        {
          "output_type": "stream",
          "name": "stderr",
          "text": [
            "All model checkpoint layers were used when initializing TFMobileBertForSequenceClassification.\n",
            "\n",
            "Some layers of TFMobileBertForSequenceClassification were not initialized from the model checkpoint at google/mobilebert-uncased and are newly initialized: ['classifier']\n",
            "You should probably TRAIN this model on a down-stream task to be able to use it for predictions and inference.\n"
          ]
        },
        {
          "output_type": "stream",
          "name": "stdout",
          "text": [
            "Epoch 1/4\n"
          ]
        },
        {
          "output_type": "stream",
          "name": "stderr",
          "text": [
            "/usr/local/lib/python3.7/dist-packages/keras/engine/functional.py:559: UserWarning: Input dict contained keys ['token_type_ids'] which did not match any model input. They will be ignored by the model.\n",
            "  inputs = self._flatten_to_reference_inputs(inputs)\n"
          ]
        },
        {
          "output_type": "stream",
          "name": "stdout",
          "text": [
            "1000/1000 [==============================] - 498s 433ms/step - loss: 1.0766 - accuracy: 0.5811 - F1_Macro: 2.3875 - val_loss: 0.5534 - val_accuracy: 0.8065 - val_F1_Macro: 1.0851\n",
            "Epoch 2/4\n",
            "1000/1000 [==============================] - 418s 418ms/step - loss: 0.3581 - accuracy: 0.8839 - F1_Macro: 1.1343 - val_loss: 0.2609 - val_accuracy: 0.9130 - val_F1_Macro: 1.0765\n",
            "Epoch 3/4\n",
            "1000/1000 [==============================] - 417s 417ms/step - loss: 0.2585 - accuracy: 0.9204 - F1_Macro: 1.0484 - val_loss: 0.3970 - val_accuracy: 0.9115 - val_F1_Macro: 1.2860\n",
            "Epoch 4/4\n",
            "1000/1000 [==============================] - 417s 417ms/step - loss: 0.2419 - accuracy: 0.9246 - F1_Macro: 1.0384 - val_loss: 0.2130 - val_accuracy: 0.9335 - val_F1_Macro: 1.0104\n"
          ]
        },
        {
          "output_type": "stream",
          "name": "stderr",
          "text": [
            "The PostScript backend does not support transparency; partially transparent artists will be rendered opaque.\n",
            "The PostScript backend does not support transparency; partially transparent artists will be rendered opaque.\n"
          ]
        },
        {
          "output_type": "display_data",
          "data": {
            "image/png": "[encoded data removed]",
            "text/plain": [
              "<Figure size 432x288 with 1 Axes>"
            ]
          },
          "metadata": {}
        },
        {
          "output_type": "stream",
          "name": "stderr",
          "text": [
            "The PostScript backend does not support transparency; partially transparent artists will be rendered opaque.\n",
            "The PostScript backend does not support transparency; partially transparent artists will be rendered opaque.\n"
          ]
        },
        {
          "output_type": "display_data",
          "data": {
            "image/png": "[encoded data removed]",
            "text/plain": [
              "<Figure size 432x288 with 1 Axes>"
            ]
          },
          "metadata": {}
        },
        {
          "output_type": "stream",
          "name": "stdout",
          "text": [
            "The Model Saved\n",
            "The PreTrained Transformer Model Saved\n",
            "The Tokenizer Saved\n",
            "Model: \"model\"\n",
            "__________________________________________________________________________________________________\n",
            " Layer (type)                   Output Shape         Param #     Connected to                     \n",
            "==================================================================================================\n",
            " input_ids (InputLayer)         [(None, 275)]        0           []                               \n",
            "                                                                                                  \n",
            " attention_mask (InputLayer)    [(None, 275)]        0           []                               \n",
            "                                                                                                  \n",
            " tf_mobile_bert_for_sequence_cl  TFSequenceClassifie  24584966   ['input_ids[0][0]',              \n",
            " assification (TFMobileBertForS  rOutput(loss=None,               'attention_mask[0][0]']         \n",
            " equenceClassification)         logits=(None, 6),                                                 \n",
            "                                 hidden_states=None                                               \n",
            "                                , attentions=None)                                                \n",
            "                                                                                                  \n",
            " dense (Dense)                  (None, 1000)         7000        ['tf_mobile_bert_for_sequence_cla\n",
            "                                                                 ssification[0][0]']              \n",
            "                                                                                                  \n",
            " batch_normalization (BatchNorm  (None, 1000)        4000        ['dense[0][0]']                  \n",
            " alization)                                                                                       \n",
            "                                                                                                  \n",
            " outputs (Dense)                (None, 6)            6006        ['batch_normalization[0][0]']    \n",
            "                                                                                                  \n",
            "==================================================================================================\n",
            "Total params: 24,601,972\n",
            "Trainable params: 24,599,972\n",
            "Non-trainable params: 2,000\n",
            "__________________________________________________________________________________________________\n"
          ]
        }
      ]
    },
    {
      "cell_type": "code",
      "source": [
        "timeData = pd.read_csv('/models/Stats/TimeData.csv',index_col=0)\n",
        "timeData"
      ],
      "metadata": {
        "colab": {
          "base_uri": "https://localhost:8080/",
          "height": 0
        },
        "id": "62sNdToUPXxB",
        "outputId": "1b70fb7d-db7a-4641-ca4b-5a2e94214a5f"
      },
      "execution_count": 21,
      "outputs": [
        {
          "output_type": "execute_result",
          "data": {
            "text/html": [
              "<div>\n",
              "<style scoped>\n",
              "    .dataframe tbody tr th:only-of-type {\n",
              "        vertical-align: middle;\n",
              "    }\n",
              "\n",
              "    .dataframe tbody tr th {\n",
              "        vertical-align: top;\n",
              "    }\n",
              "\n",
              "    .dataframe thead th {\n",
              "        text-align: right;\n",
              "    }\n",
              "</style>\n",
              "<table border=\"1\" class=\"dataframe\">\n",
              "  <thead>\n",
              "    <tr style=\"text-align: right;\">\n",
              "      <th></th>\n",
              "      <th>Training(min)</th>\n",
              "      <th>Evalution(min)</th>\n",
              "    </tr>\n",
              "    <tr>\n",
              "      <th>Models</th>\n",
              "      <th></th>\n",
              "      <th></th>\n",
              "    </tr>\n",
              "  </thead>\n",
              "  <tbody>\n",
              "    <tr>\n",
              "      <th>Bert</th>\n",
              "      <td>39.898933</td>\n",
              "      <td>NaN</td>\n",
              "    </tr>\n",
              "    <tr>\n",
              "      <th>DistilBert</th>\n",
              "      <td>20.787233</td>\n",
              "      <td>NaN</td>\n",
              "    </tr>\n",
              "    <tr>\n",
              "      <th>Roberta</th>\n",
              "      <td>40.637583</td>\n",
              "      <td>NaN</td>\n",
              "    </tr>\n",
              "    <tr>\n",
              "      <th>Electra</th>\n",
              "      <td>12.080952</td>\n",
              "      <td>NaN</td>\n",
              "    </tr>\n",
              "    <tr>\n",
              "      <th>MobileBert</th>\n",
              "      <td>30.145858</td>\n",
              "      <td>NaN</td>\n",
              "    </tr>\n",
              "  </tbody>\n",
              "</table>\n",
              "</div>"
            ],
            "text/plain": [
              "            Training(min)   Evalution(min)\n",
              "Models                                    \n",
              "Bert             39.898933             NaN\n",
              "DistilBert       20.787233             NaN\n",
              "Roberta          40.637583             NaN\n",
              "Electra          12.080952             NaN\n",
              "MobileBert       30.145858             NaN"
            ]
          },
          "metadata": {},
          "execution_count": 21
        }
      ]
    },
    {
      "cell_type": "markdown",
      "source": [
        "### Saving Everything to Google Storage Bucket"
      ],
      "metadata": {
        "id": "OmGpWh56l3yF"
      }
    },
    {
      "cell_type": "code",
      "source": [
        "!gsutil cp -r /models/Bert gs://emotion-models/\n",
        "!gsutil cp -r /models/DistilBert gs://emotion-models/\n",
        "!gsutil cp -r /models/Electra gs://emotion-models/\n",
        "!gsutil cp -r /models/MobileBert gs://emotion-models/\n",
        "!gsutil cp -r /models/Roberta gs://emotion-models/\n",
        "!gsutil cp -r /models/Stats gs://emotion-models/\n"
      ],
      "metadata": {
        "id": "tgjbLf-aUrDM"
      },
      "execution_count": null,
      "outputs": []
    },
    {
      "cell_type": "markdown",
      "source": [
        "# **Model Validation**\n",
        "- Getting Models From Cloud Storage\n",
        "- Predict Emotion\n",
        "- Requried Entites \n",
        "- Thresholds \n",
        "- Model Evalution"
      ],
      "metadata": {
        "id": "vR8LtfSPy7k0"
      }
    },
    {
      "cell_type": "markdown",
      "source": [
        "### Getting Models From Cloud Storage\n",
        "- Imported all trained model weights, tokenizer and PreTrainedModels from the cloud.\n"
      ],
      "metadata": {
        "id": "bl_Bx1pN-ow1"
      }
    },
    {
      "cell_type": "code",
      "source": [
        "!gsutil cp -r gs://emotion-models/* /models/"
      ],
      "metadata": {
        "id": "gjEdDMKLmSsa"
      },
      "execution_count": null,
      "outputs": []
    },
    {
      "cell_type": "markdown",
      "source": [
        "## Predict Emotion\n",
        "- PredictEmotion Class\n",
        "- PredictEmotion TestData\n"
      ],
      "metadata": {
        "id": "unwgdKyg_04D"
      }
    },
    {
      "cell_type": "code",
      "metadata": {
        "id": "CKD8bHS57tSr"
      },
      "source": [
        "class PredictEmotion:\n",
        "  def __init__(self,\n",
        "               # The Name of the model\n",
        "               modelName, \n",
        "               # The Path of trained model weights \n",
        "               modelPath,\n",
        "               # The Path of Pre-trained Transformers model\n",
        "               modelPreTrainedPath,\n",
        "               # The number of Classification Labels\n",
        "               numLabels = 6,\n",
        "               # The probability threshold,\n",
        "               thrushHold = 0.3):\n",
        "    self.modelPreTrainedPath = modelPreTrainedPath\n",
        "    self.modelName = modelName\n",
        "    self.modelPath = modelPath\n",
        "    self.numLabels = numLabels\n",
        "    self.model = self.MakeModelArchitecture()\n",
        "    self.loadModelWeights()\n",
        "    self.tokenizer = self.makeTokenizer()\n",
        "    self.spell = Speller(lang='en')\n",
        "    # The six emotion labels and other when probality is lower than threshold\n",
        "    self.emotionTypes = ['anger', 'fear', 'joy', 'love', 'sadness', 'surprise','other']\n",
        "    self.thrushHold = thrushHold\n",
        "  # Since we were saving weights, we needed to remake the model architecture to read in the weights.\n",
        "  def MakeModelArchitecture(self):\n",
        "    model = TFAutoModelForSequenceClassification.from_pretrained(self.modelPreTrainedPath, \n",
        "                                                                 local_files_only=True)\n",
        "    input_ids = tf.keras.layers.Input(shape=(200,),name=\"input_ids\", dtype='int32')\n",
        "    mask = tf.keras.layers.Input(shape=(200,),name=\"attention_mask\",dtype='int32')\n",
        "    embeddings = model(input_ids,attention_mask=mask)[0]\n",
        "    layer = tf.keras.layers.Dense(1000,activation='relu')(embeddings)\n",
        "    layer = tf.keras.layers.BatchNormalization()(layer)\n",
        "    outputLayer = tf.keras.layers.Dense(6,activation='softmax',name='outputs')(layer)\n",
        "    ModelArchitecture = tf.keras.Model(inputs=[input_ids,mask],outputs=outputLayer)\n",
        "    return ModelArchitecture\n",
        "  # Using the model from the MakeModelArchitecture to read in trained weights.  \n",
        "  def loadModelWeights(self):\n",
        "    self.model.load_weights(self.modelPath)\n",
        "  # Tokenizer to convert inputs to encodings\n",
        "  def makeTokenizer(self):\n",
        "    return AutoTokenizer.from_pretrained(self.modelName)\n",
        "  # Prepareing the Text as seen before and returning in the format of input_ids and attention_mask .\n",
        "  def TextPrepration(self,text):\n",
        "    DecontractedText = contractions.fix(text)\n",
        "    SpelledText = str(self.spell(DecontractedText))\n",
        "    textEncodings = self.tokenizer(SpelledText,\n",
        "                            truncation=True, \n",
        "                            max_length = 200,\n",
        "                            padding=\"max_length\", \n",
        "                            return_tensors='tf')\n",
        "    return {\n",
        "      'input_ids': tf.cast(textEncodings['input_ids'],tf.int32),\n",
        "      'attention_mask': tf.cast(textEncodings['attention_mask'],tf.int32)}\n",
        "  # Predicting Text emotion, if the argmax probablity is higher than the threshold, return emotion and probality else returns 'other' and threshold\n",
        "  def PredictTextEmotion(self,text):\n",
        "    prepratedText = self.TextPrepration(text)\n",
        "    emotion = self.model.predict(prepratedText) \n",
        "    predictedEmotion = np.argmax(emotion)\n",
        "    highestProb = emotion[0][predictedEmotion]\n",
        "    if highestProb < self.thrushHold:\n",
        "      return self.emotionTypes[len(self.emotionTypes)-1], self.thrushHold\n",
        "    else:\n",
        "      return self.emotionTypes[predictedEmotion],highestProb\n"
      ],
      "execution_count": 24,
      "outputs": []
    },
    {
      "cell_type": "code",
      "metadata": {
        "id": "j_6MFVJZ_z4B"
      },
      "source": [
        "# This function takes in inilizied PredictEmotion class as 'predict' and testData as 'testDataSet'\n",
        "# Returns total time it took for completing the predictions and the predictedLabels \n",
        "\n",
        "def predictEmotionTestData(predict,testDataSet):\n",
        "  predictedLabels = []\n",
        "  startTime = time.time()\n",
        "  for i in testDataSet:\n",
        "    emotion,prob = predict.PredictTextEmotion(i)\n",
        "    predictedLabels.append(emotion)\n",
        "  endTime = time.time()\n",
        "  elapasedTime = (endTime-startTime)/60\n",
        "  return elapasedTime,predictedLabels\n"
      ],
      "execution_count": 25,
      "outputs": []
    },
    {
      "cell_type": "code",
      "source": [
        "# This Function Calculats and appends F1-Scores to a pandas DataFrame.\n",
        "# Takes in trueEmotionLabels and predictedEmotionLabels for data wise. \n",
        "# Takes an existing F1ScoresDataFrame and AppendingModelName to set the scores of the model in the data frame\n",
        "def appendF1ModelScores(trueEmotionLabels,\n",
        "                        predictedEmotionLabels,\n",
        "                        F1ScoresDataFrame,\n",
        "                        AppendingModelName):\n",
        "  f1Report = classification_report(trueEmotionLabels, predictedEmotionLabels,output_dict=True)\n",
        "  f1_scores = pd.DataFrame(f1Report).transpose()\n",
        "  f1_scores = f1_scores.loc[:,['f1-score']]\n",
        "  if len(list(f1_scores['f1-score'][:])) == 10:\n",
        "    scores = np.delete((list(f1_scores['f1-score'][:])),4)\n",
        "  else:\n",
        "    scores = list(f1_scores['f1-score'][:])\n",
        "  F1ScoresDataFrame[AppendingModelName] = scores\n",
        "  return F1ScoresDataFrame"
      ],
      "metadata": {
        "id": "Y9MIIA-ld0av"
      },
      "execution_count": 26,
      "outputs": []
    },
    {
      "cell_type": "code",
      "source": [
        "# Source code credit for this function: https://gist.github.com/shaypal5/94c53d765083101efc0240d776a23823\n",
        "def print_confusion_matrix(confusion_matrix, \n",
        "                           class_names,\n",
        "                           ModelTitle,\n",
        "                           savePath = \"\" ,\n",
        "                           figsize = (10,7), \n",
        "                           fontsize=14):\n",
        "    \"\"\"Prints a confusion matrix, as returned by sklearn.metrics.confusion_matrix, as a heatmap.\n",
        "    \n",
        "    Arguments\n",
        "    ---------\n",
        "    confusion_matrix: numpy.ndarray\n",
        "        The numpy.ndarray object returned from a call to sklearn.metrics.confusion_matrix. \n",
        "        Similarly constructed ndarrays can also be used.\n",
        "    class_names: list\n",
        "        An ordered list of class names, in the order they index the given confusion matrix.\n",
        "    figsize: tuple\n",
        "        A 2-long tuple, the first value determining the horizontal size of the ouputted figure,\n",
        "        the second determining the vertical size. Defaults to (10,7).\n",
        "    fontsize: int\n",
        "        Font size for axes labels. Defaults to 14.\n",
        "        \n",
        "    Returns\n",
        "    -------\n",
        "    matplotlib.figure.Figure\n",
        "        The resulting confusion matrix figure\n",
        "    \"\"\"\n",
        "    df_cm = pd.DataFrame(\n",
        "        confusion_matrix, index=class_names, columns=class_names, \n",
        "    )\n",
        "    fig = plt.figure(figsize=figsize)\n",
        "    heatmap = sns.heatmap(df_cm, annot=True,cmap='coolwarm', linecolor='white', fmt=\"d\")\n",
        "    heatmap.yaxis.set_ticklabels(heatmap.yaxis.get_ticklabels(), rotation=0, ha='right', fontsize=fontsize)\n",
        "    heatmap.xaxis.set_ticklabels(heatmap.xaxis.get_ticklabels(), rotation=45, ha='right', fontsize=fontsize)\n",
        "    plt.ylabel('Truth')\n",
        "    plt.xlabel('Prediction')\n",
        "    plt.title(ModelTitle)\n",
        "    plt.savefig(savePath,format='eps')\n"
      ],
      "metadata": {
        "id": "XFW8CCKfGSql"
      },
      "execution_count": 27,
      "outputs": []
    },
    {
      "cell_type": "markdown",
      "source": [
        "## Requried Entities \n"
      ],
      "metadata": {
        "id": "Bwwa3j-uNRzA"
      }
    },
    {
      "cell_type": "code",
      "source": [
        "# Pandas DataFrame torecord f1-scores . \n",
        "F1ModelScores = pd.DataFrame(index=['anger', 'fear', 'joy', 'love' ,'sadness', 'surprise', 'accuracy',\n",
        "       'macro avg', 'weighted avg']).rename_axis('Emotion', axis=1)"
      ],
      "metadata": {
        "id": "130Mf55ZYMtY"
      },
      "execution_count": 39,
      "outputs": []
    },
    {
      "cell_type": "code",
      "source": [
        "# The 6 emotion Labels\n",
        "labels = ['anger', 'fear', 'joy', 'love', 'sadness', 'surprise']\n",
        "# The Test True Labels\n",
        "testLabels = list(testData['Label'])"
      ],
      "metadata": {
        "id": "NuY6xu6zPXwN"
      },
      "execution_count": 40,
      "outputs": []
    },
    {
      "cell_type": "code",
      "source": [
        "# Pandas DataFrame to contain all f1-scores for different thresholds for all models\n",
        "threshHoldStats = pd.DataFrame(index=['30%','50%','70%']).rename_axis('Threshold', axis=1)"
      ],
      "metadata": {
        "id": "MN2DeDiBBqtn"
      },
      "execution_count": 41,
      "outputs": []
    },
    {
      "cell_type": "markdown",
      "source": [
        "## Thresholds\n",
        "- Function called doThesholds, takes testData with true labels with a modelName('bert-base-uncased') and threshold.\n",
        "- Returns elapasedTime,predVal(predicted Labels),f1Score(Marco)"
      ],
      "metadata": {
        "id": "Tm4StU8CIhS2"
      }
    },
    {
      "cell_type": "code",
      "source": [
        "def doThresholds(modelName,\n",
        "                 testData,\n",
        "                 testDataTrueLabels,\n",
        "                 Threshold):\n",
        "  predictClass = PredictEmotion('/models/'+modelName+'/'+modelName+'Tokenizer/',\n",
        "                              '/models/'+modelName+'/'+modelName+'Weights.h5',\n",
        "                              '/models/'+modelName+'/'+modelName+'PreTrainedModel/',\n",
        "                               thrushHold = Threshold)\n",
        "  elapasedTime,predVal = predictEmotionTestData(predictClass,testData)\n",
        "  f1Score = f1_score(testDataTrueLabels, predVal, average='macro')\n",
        "  return elapasedTime,predVal,f1Score\n",
        "  "
      ],
      "metadata": {
        "id": "q7owamU5CCWz"
      },
      "execution_count": 37,
      "outputs": []
    },
    {
      "cell_type": "markdown",
      "source": [
        "### Finding F1-Scores Thresholds \n",
        "- In the Exploring Transformers in Emotion Recognition: a comparison of\n",
        "BERT, DistillBERT, RoBERTa, XLNet and ELECTRA  paper, they used 0.7 threshold. To get the most performance, I am tring different Thresholds to get highest f1-scores \n",
        "- Thresholds =  {0.3,0.5,0.7}. \n"
      ],
      "metadata": {
        "id": "3EPMG-uxJ8Xk"
      }
    },
    {
      "cell_type": "code",
      "source": [
        "# Bert\n",
        "Bert_elapasedTime_30,Bert_predVal_30,Bert_f1Score_30= doThresholds('Bert',\n",
        "             list(testData['Text']),\n",
        "             list(testData['Label']),\n",
        "             0.3);\n",
        "Bert_elapasedTime_50,Bert_predVal_50,Bert_f1Score_50= doThresholds('Bert',\n",
        "             list(testData['Text']),\n",
        "             list(testData['Label']),\n",
        "             0.5);\n",
        "Bert_elapasedTime_70,Bert_predVal_70,Bert_f1Score_70= doThresholds('Bert',\n",
        "             list(testData['Text']),\n",
        "             list(testData['Label']),\n",
        "             0.7);\n",
        "#DistilBert\n",
        "\n",
        "DistilBert_elapasedTime_30,DistilBert_predVal_30,DistilBert_f1Score_30= doThresholds('DistilBert',\n",
        "             list(testData['Text']),\n",
        "             list(testData['Label']),\n",
        "             0.3);\n",
        "DistilBert_elapasedTime_50,DistilBert_predVal_50,DistilBert_f1Score_50= doThresholds('DistilBert',\n",
        "             list(testData['Text']),\n",
        "             list(testData['Label']),\n",
        "             0.5);\n",
        "DistilBert_elapasedTime_70,DistilBert_predVal_70,DistilBert_f1Score_70= doThresholds('DistilBert',\n",
        "             list(testData['Text']),\n",
        "             list(testData['Label']),\n",
        "             0.7);\n",
        "#Roberta\n",
        "\n",
        "Roberta_elapasedTime_30,Roberta_predVal_30,Roberta_f1Score_30= doThresholds('Roberta',\n",
        "             list(testData['Text']),\n",
        "             list(testData['Label']),\n",
        "             0.3);\n",
        "Roberta_elapasedTime_50,Roberta_predVal_50,Roberta_f1Score_50= doThresholds('Roberta',\n",
        "             list(testData['Text']),\n",
        "             list(testData['Label']),\n",
        "             0.5);\n",
        "Roberta_elapasedTime_70,Roberta_predVal_70,Roberta_f1Score_70= doThresholds('Roberta',\n",
        "             list(testData['Text']),\n",
        "             list(testData['Label']),\n",
        "             0.7);\n",
        "# MobileBert\n",
        "\n",
        "MobileBert_elapasedTime_30,MobileBert_predVal_30,MobileBert_f1Score_30= doThresholds('MobileBert',\n",
        "             list(testData['Text']),\n",
        "             list(testData['Label']),\n",
        "             0.3);\n",
        "MobileBert_elapasedTime_50,MobileBert_predVal_50,MobileBert_f1Score_50= doThresholds('MobileBert',\n",
        "             list(testData['Text']),\n",
        "             list(testData['Label']),\n",
        "             0.5);\n",
        "MobileBert_elapasedTime_70,MobileBert_predVal_70,MobileBert_f1Score_70= doThresholds('MobileBert',\n",
        "             list(testData['Text']),\n",
        "             list(testData['Label']),\n",
        "             0.7);\n",
        "\n",
        "# Electra\n",
        "\n",
        "Electra_elapasedTime_30,Electra_predVal_30,Electra_f1Score_30= doThresholds('Electra',\n",
        "             list(testData['Text']),\n",
        "             list(testData['Label']),\n",
        "             0.3);\n",
        "Electra_elapasedTime_50,Electra_predVal_50,Electra_f1Score_50= doThresholds('Electra',\n",
        "             list(testData['Text']),\n",
        "             list(testData['Label']),\n",
        "         0.5);\n",
        "Electra_elapasedTime_70,Electra_predVal_70,Electra_f1Score_70= doThresholds('Electra',\n",
        "             list(testData['Text']),\n",
        "             list(testData['Label']),\n",
        "             0.7);\n"
      ],
      "metadata": {
        "id": "7EnjPHRJGZGD"
      },
      "execution_count": null,
      "outputs": []
    },
    {
      "cell_type": "code",
      "source": [
        "# Setting f1-scores by thresholds into threshHoldStats\n",
        "threshHoldStats.loc['30%',['Bert']] = Bert_f1Score_30\n",
        "threshHoldStats.loc['50%',['Bert']] = Bert_f1Score_50\n",
        "threshHoldStats.loc['70%',['Bert']] = Bert_f1Score_70 \n",
        "\n",
        "\n",
        "threshHoldStats.loc['30%',['DistilBert']] = DistilBert_f1Score_30\n",
        "threshHoldStats.loc['50%',['DistilBert']] = DistilBert_f1Score_50\n",
        "threshHoldStats.loc['70%',['DistilBert']] = DistilBert_f1Score_70 \n",
        "\n",
        "threshHoldStats.loc['30%',['Roberta']] = Roberta_f1Score_30\n",
        "threshHoldStats.loc['50%',['Roberta']] = Roberta_f1Score_50\n",
        "threshHoldStats.loc['70%',['Roberta']] = Roberta_f1Score_70 \n",
        "\n",
        "threshHoldStats.loc['30%',['MobileBert']] = MobileBert_f1Score_30\n",
        "threshHoldStats.loc['50%',['MobileBert']] = MobileBert_f1Score_50\n",
        "threshHoldStats.loc['70%',['MobileBert']] = MobileBert_f1Score_70 \n",
        "\n",
        "threshHoldStats.loc['30%',['Electra']] = Electra_f1Score_30\n",
        "threshHoldStats.loc['50%',['Electra']] = Electra_f1Score_50\n",
        "threshHoldStats.loc['70%',['Electra']] = Electra_f1Score_70 \n",
        "\n",
        "threshHoldStats"
      ],
      "metadata": {
        "colab": {
          "base_uri": "https://localhost:8080/",
          "height": 143
        },
        "id": "0XyTYgRSWXn7",
        "outputId": "a1eaee9a-9fbf-46a9-d9b5-36d86f020c38"
      },
      "execution_count": 57,
      "outputs": [
        {
          "output_type": "execute_result",
          "data": {
            "text/html": [
              "<div>\n",
              "<style scoped>\n",
              "    .dataframe tbody tr th:only-of-type {\n",
              "        vertical-align: middle;\n",
              "    }\n",
              "\n",
              "    .dataframe tbody tr th {\n",
              "        vertical-align: top;\n",
              "    }\n",
              "\n",
              "    .dataframe thead th {\n",
              "        text-align: right;\n",
              "    }\n",
              "</style>\n",
              "<table border=\"1\" class=\"dataframe\">\n",
              "  <thead>\n",
              "    <tr style=\"text-align: right;\">\n",
              "      <th>Threshold</th>\n",
              "      <th>Bert</th>\n",
              "      <th>DistilBert</th>\n",
              "      <th>Roberta</th>\n",
              "      <th>MobileBert</th>\n",
              "      <th>Electra</th>\n",
              "    </tr>\n",
              "  </thead>\n",
              "  <tbody>\n",
              "    <tr>\n",
              "      <th>30%</th>\n",
              "      <td>0.873612</td>\n",
              "      <td>0.873829</td>\n",
              "      <td>0.875230</td>\n",
              "      <td>0.880193</td>\n",
              "      <td>0.879371</td>\n",
              "    </tr>\n",
              "    <tr>\n",
              "      <th>50%</th>\n",
              "      <td>0.750838</td>\n",
              "      <td>0.747587</td>\n",
              "      <td>0.750026</td>\n",
              "      <td>0.753920</td>\n",
              "      <td>0.753539</td>\n",
              "    </tr>\n",
              "    <tr>\n",
              "      <th>70%</th>\n",
              "      <td>0.740324</td>\n",
              "      <td>0.749658</td>\n",
              "      <td>0.740497</td>\n",
              "      <td>0.744177</td>\n",
              "      <td>0.746670</td>\n",
              "    </tr>\n",
              "  </tbody>\n",
              "</table>\n",
              "</div>"
            ],
            "text/plain": [
              "Threshold      Bert  DistilBert   Roberta  MobileBert   Electra\n",
              "30%        0.873612    0.873829  0.875230    0.880193  0.879371\n",
              "50%        0.750838    0.747587  0.750026    0.753920  0.753539\n",
              "70%        0.740324    0.749658  0.740497    0.744177  0.746670"
            ]
          },
          "metadata": {},
          "execution_count": 57
        }
      ]
    },
    {
      "cell_type": "markdown",
      "source": [
        "## Model Evalutions\n",
        "- Since 30% gave the highest f1-scores amoungest all models, I will be using 30% as my threshold.\n",
        "- Bert Evalution\n",
        "- DistilBert Evalution\n",
        "- Roberta Evalution\n",
        "- Electra Evalution\n",
        "- MobileBert Evalution"
      ],
      "metadata": {
        "id": "kh7Z7zdDLo9L"
      }
    },
    {
      "cell_type": "markdown",
      "source": [
        "#### Bert Evalution"
      ],
      "metadata": {
        "id": "zh25XFPVMaAW"
      }
    },
    {
      "cell_type": "code",
      "metadata": {
        "id": "MXpiTn_kBgqW",
        "outputId": "643b5e7c-25c3-4b07-f18c-9d14b9182718",
        "colab": {
          "base_uri": "https://localhost:8080/",
          "height": 499
        }
      },
      "source": [
        "# Bert Evalution\n",
        "timeData['Evalution(min)']['Bert'] = Bert_elapasedTime_30\n",
        "F1ModelScores = appendF1ModelScores(testLabels,\n",
        "                    Bert_predVal_30,\n",
        "                    F1ModelScores,\n",
        "                    'Bert')\n",
        "BertConfusionMatrix = confusion_matrix(testLabels,Bert_predVal_30) \n",
        "print_confusion_matrix(BertConfusionMatrix,labels,'Bert Model Confusion Matrix','/models/Stats/BertConfusionMatrix.eps')\n"
      ],
      "execution_count": 45,
      "outputs": [
        {
          "output_type": "display_data",
          "data": {
            "image/png": "[encoded data removed]",
            "text/plain": [
              "<Figure size 720x504 with 2 Axes>"
            ]
          },
          "metadata": {}
        }
      ]
    },
    {
      "cell_type": "markdown",
      "source": [
        "#### DistilBert Evalution"
      ],
      "metadata": {
        "id": "-1G8losQMf9s"
      }
    },
    {
      "cell_type": "code",
      "source": [
        "# DistilBert Evalution\n",
        "timeData['Evalution(min)']['DistilBert'] = DistilBert_elapasedTime_30\n",
        "F1ModelScores = appendF1ModelScores(list(testData['Label']),\n",
        "                    DistilBert_predVal_30,\n",
        "                    F1ModelScores,\n",
        "                    'DistilBert')\n",
        "DistilBertConfusionMatrix = confusion_matrix(testLabels,DistilBert_predVal_30) \n",
        "print_confusion_matrix(DistilBertConfusionMatrix,labels,'DistilBert Model Confusion Matrix','/models/Stats/DistilBertConfusionMatrix.eps')"
      ],
      "metadata": {
        "colab": {
          "base_uri": "https://localhost:8080/",
          "height": 499
        },
        "id": "5Q7h1nuFuS93",
        "outputId": "27a7c913-efcf-4ec1-bb48-45acad8c07c9"
      },
      "execution_count": 48,
      "outputs": [
        {
          "output_type": "display_data",
          "data": {
            "image/png": "[encoded data removed]",
            "text/plain": [
              "<Figure size 720x504 with 2 Axes>"
            ]
          },
          "metadata": {}
        }
      ]
    },
    {
      "cell_type": "markdown",
      "source": [
        "#### Electra Evalution"
      ],
      "metadata": {
        "id": "__9C8Ho7MnQl"
      }
    },
    {
      "cell_type": "code",
      "source": [
        "# Electra Evalution\n",
        "timeData['Evalution(min)']['Electra'] = Electra_elapasedTime_30\n",
        "F1ModelScores = appendF1ModelScores(list(testData['Label']),\n",
        "                    Electra_predVal_30,\n",
        "                    F1ModelScores,\n",
        "                    'Electra')\n",
        "ElectraConfusionMatrix = confusion_matrix(testLabels,Electra_predVal_30) \n",
        "print_confusion_matrix(ElectraConfusionMatrix,labels,\n",
        "                       'Electra Model Confusion Matrix',\n",
        "                       '/models/Stats/ElectraConfusionMatrix.eps')\n"
      ],
      "metadata": {
        "colab": {
          "base_uri": "https://localhost:8080/",
          "height": 499
        },
        "id": "nXcV30ucfxUN",
        "outputId": "f9f38775-15cf-485d-8ecd-8bc911262194"
      },
      "execution_count": 49,
      "outputs": [
        {
          "output_type": "display_data",
          "data": {
            "image/png": "[encoded data removed]",
            "text/plain": [
              "<Figure size 720x504 with 2 Axes>"
            ]
          },
          "metadata": {}
        }
      ]
    },
    {
      "cell_type": "markdown",
      "source": [
        "#### Roberta Evalution"
      ],
      "metadata": {
        "id": "c0KNulGuMtzc"
      }
    },
    {
      "cell_type": "code",
      "source": [
        "# Roberta Evalution\n",
        "timeData['Evalution(min)']['Roberta'] = Roberta_elapasedTime_30\n",
        "F1ModelScores = appendF1ModelScores(list(testData['Label']),\n",
        "                    Roberta_predVal_30,\n",
        "                    F1ModelScores,\n",
        "                    'Roberta')\n",
        "RobertaConfusionMatrix = confusion_matrix(testLabels,Roberta_predVal_30) \n",
        "print_confusion_matrix(RobertaConfusionMatrix,labels,\n",
        "                       'Roberta Model Confusion Matrix',\n",
        "                       '/models/Stats/RobertaConfusionMatrix.eps')"
      ],
      "metadata": {
        "colab": {
          "base_uri": "https://localhost:8080/",
          "height": 499
        },
        "id": "ysDuyxZzgiQR",
        "outputId": "3ce2a756-74e0-4cf1-ea87-6d7bf3a687dc"
      },
      "execution_count": 50,
      "outputs": [
        {
          "output_type": "display_data",
          "data": {
            "image/png": "[encoded data removed]",
            "text/plain": [
              "<Figure size 720x504 with 2 Axes>"
            ]
          },
          "metadata": {}
        }
      ]
    },
    {
      "cell_type": "markdown",
      "source": [
        "#### MobileBert Evalution"
      ],
      "metadata": {
        "id": "3xHMMb-hMzm6"
      }
    },
    {
      "cell_type": "code",
      "source": [
        "# MobileBert Evalution\n",
        "timeData['Evalution(min)']['MobileBert'] = MobileBert_elapasedTime_30\n",
        "F1ModelScores = appendF1ModelScores(list(testData['Label']),\n",
        "                    MobileBert_predVal_30,\n",
        "                    F1ModelScores,\n",
        "                    'MobileBert')\n",
        "MobileBertConfusionMatrix = confusion_matrix(testLabels,MobileBert_predVal_30) \n",
        "print_confusion_matrix(MobileBertConfusionMatrix,labels,\n",
        "                       'MobileBert Model Confusion Matrix',\n",
        "                       '/models/Stats/MobileBertConfusionMatrix.eps')"
      ],
      "metadata": {
        "colab": {
          "base_uri": "https://localhost:8080/",
          "height": 499
        },
        "id": "dVI_e0z1hfFX",
        "outputId": "1aadd738-9486-47cf-f281-10ef769af221"
      },
      "execution_count": 51,
      "outputs": [
        {
          "output_type": "display_data",
          "data": {
            "image/png": "[encoded data removed]",
            "text/plain": [
              "<Figure size 720x504 with 2 Axes>"
            ]
          },
          "metadata": {}
        }
      ]
    },
    {
      "cell_type": "markdown",
      "source": [
        "## About Time Data "
      ],
      "metadata": {
        "id": "7zMZ-ShxRMzV"
      }
    },
    {
      "cell_type": "code",
      "source": [
        "## TestDataSet Contains 2000 labels, 1 min = 60, Evalution(msg/s) = (Evalution(min)*60)/len(TestDataSet)\n",
        "timeData['Evalution(msg/s)']= [timeData.loc['Bert','Evalution(min)']*60/2000,\n",
        "                                 timeData.loc['DistilBert','Evalution(min)']*60/2000,\n",
        "                                 timeData.loc['Electra','Evalution(min)']*60/2000,\n",
        "                                 timeData.loc['Roberta','Evalution(min)']*60/2000,\n",
        "                                 timeData.loc['MobileBert','Evalution(min)']*60/2000]\n",
        "timeData "
      ],
      "metadata": {
        "colab": {
          "base_uri": "https://localhost:8080/",
          "height": 238
        },
        "id": "jAky5lyPoZ68",
        "outputId": "e939d0e2-27b6-425b-cc70-2082de19cbbf"
      },
      "execution_count": 87,
      "outputs": [
        {
          "output_type": "execute_result",
          "data": {
            "text/html": [
              "<div>\n",
              "<style scoped>\n",
              "    .dataframe tbody tr th:only-of-type {\n",
              "        vertical-align: middle;\n",
              "    }\n",
              "\n",
              "    .dataframe tbody tr th {\n",
              "        vertical-align: top;\n",
              "    }\n",
              "\n",
              "    .dataframe thead th {\n",
              "        text-align: right;\n",
              "    }\n",
              "</style>\n",
              "<table border=\"1\" class=\"dataframe\">\n",
              "  <thead>\n",
              "    <tr style=\"text-align: right;\">\n",
              "      <th></th>\n",
              "      <th>Training(min)</th>\n",
              "      <th>Evalution(min)</th>\n",
              "      <th>Evalution(msg/s)</th>\n",
              "    </tr>\n",
              "    <tr>\n",
              "      <th>Models</th>\n",
              "      <th></th>\n",
              "      <th></th>\n",
              "      <th></th>\n",
              "    </tr>\n",
              "  </thead>\n",
              "  <tbody>\n",
              "    <tr>\n",
              "      <th>Bert</th>\n",
              "      <td>39.898933</td>\n",
              "      <td>3.108629</td>\n",
              "      <td>0.093259</td>\n",
              "    </tr>\n",
              "    <tr>\n",
              "      <th>DistilBert</th>\n",
              "      <td>20.787233</td>\n",
              "      <td>2.533360</td>\n",
              "      <td>0.076001</td>\n",
              "    </tr>\n",
              "    <tr>\n",
              "      <th>Roberta</th>\n",
              "      <td>40.637583</td>\n",
              "      <td>3.122908</td>\n",
              "      <td>0.089810</td>\n",
              "    </tr>\n",
              "    <tr>\n",
              "      <th>Electra</th>\n",
              "      <td>12.080952</td>\n",
              "      <td>2.993671</td>\n",
              "      <td>0.093687</td>\n",
              "    </tr>\n",
              "    <tr>\n",
              "      <th>MobileBert</th>\n",
              "      <td>30.145858</td>\n",
              "      <td>7.588735</td>\n",
              "      <td>0.227662</td>\n",
              "    </tr>\n",
              "  </tbody>\n",
              "</table>\n",
              "</div>"
            ],
            "text/plain": [
              "            Training(min)   Evalution(min)  Evalution(msg/s)\n",
              "Models                                                      \n",
              "Bert             39.898933        3.108629          0.093259\n",
              "DistilBert       20.787233        2.533360          0.076001\n",
              "Roberta          40.637583        3.122908          0.089810\n",
              "Electra          12.080952        2.993671          0.093687\n",
              "MobileBert       30.145858        7.588735          0.227662"
            ]
          },
          "metadata": {},
          "execution_count": 87
        }
      ]
    },
    {
      "cell_type": "markdown",
      "source": [
        "## About Model F1-Scores"
      ],
      "metadata": {
        "id": "fbcfa9nQRctn"
      }
    },
    {
      "cell_type": "code",
      "source": [
        "F1ModelScores"
      ],
      "metadata": {
        "colab": {
          "base_uri": "https://localhost:8080/",
          "height": 332
        },
        "id": "QcHnRl76ogQX",
        "outputId": "e0d085bb-fb3f-4500-8e1e-94d92f47706a"
      },
      "execution_count": 86,
      "outputs": [
        {
          "output_type": "execute_result",
          "data": {
            "text/html": [
              "<div>\n",
              "<style scoped>\n",
              "    .dataframe tbody tr th:only-of-type {\n",
              "        vertical-align: middle;\n",
              "    }\n",
              "\n",
              "    .dataframe tbody tr th {\n",
              "        vertical-align: top;\n",
              "    }\n",
              "\n",
              "    .dataframe thead th {\n",
              "        text-align: right;\n",
              "    }\n",
              "</style>\n",
              "<table border=\"1\" class=\"dataframe\">\n",
              "  <thead>\n",
              "    <tr style=\"text-align: right;\">\n",
              "      <th>Emotion</th>\n",
              "      <th>Bert</th>\n",
              "      <th>DistilBert</th>\n",
              "      <th>Electra</th>\n",
              "      <th>Roberta</th>\n",
              "      <th>MobileBert</th>\n",
              "    </tr>\n",
              "  </thead>\n",
              "  <tbody>\n",
              "    <tr>\n",
              "      <th>anger</th>\n",
              "      <td>0.894632</td>\n",
              "      <td>0.927007</td>\n",
              "      <td>0.925714</td>\n",
              "      <td>0.911972</td>\n",
              "      <td>0.906526</td>\n",
              "    </tr>\n",
              "    <tr>\n",
              "      <th>fear</th>\n",
              "      <td>0.887417</td>\n",
              "      <td>0.868778</td>\n",
              "      <td>0.887931</td>\n",
              "      <td>0.871671</td>\n",
              "      <td>0.908686</td>\n",
              "    </tr>\n",
              "    <tr>\n",
              "      <th>joy</th>\n",
              "      <td>0.944649</td>\n",
              "      <td>0.944803</td>\n",
              "      <td>0.943369</td>\n",
              "      <td>0.947589</td>\n",
              "      <td>0.950181</td>\n",
              "    </tr>\n",
              "    <tr>\n",
              "      <th>love</th>\n",
              "      <td>0.824798</td>\n",
              "      <td>0.795987</td>\n",
              "      <td>0.812698</td>\n",
              "      <td>0.804428</td>\n",
              "      <td>0.849398</td>\n",
              "    </tr>\n",
              "    <tr>\n",
              "      <th>sadness</th>\n",
              "      <td>0.962901</td>\n",
              "      <td>0.961571</td>\n",
              "      <td>0.962712</td>\n",
              "      <td>0.964041</td>\n",
              "      <td>0.963668</td>\n",
              "    </tr>\n",
              "    <tr>\n",
              "      <th>surprise</th>\n",
              "      <td>0.727273</td>\n",
              "      <td>0.744828</td>\n",
              "      <td>0.743802</td>\n",
              "      <td>0.751678</td>\n",
              "      <td>0.702703</td>\n",
              "    </tr>\n",
              "    <tr>\n",
              "      <th>accuracy</th>\n",
              "      <td>0.919000</td>\n",
              "      <td>0.920500</td>\n",
              "      <td>0.924000</td>\n",
              "      <td>0.922500</td>\n",
              "      <td>0.928000</td>\n",
              "    </tr>\n",
              "    <tr>\n",
              "      <th>macro avg</th>\n",
              "      <td>0.873612</td>\n",
              "      <td>0.873829</td>\n",
              "      <td>0.879371</td>\n",
              "      <td>0.875230</td>\n",
              "      <td>0.880193</td>\n",
              "    </tr>\n",
              "    <tr>\n",
              "      <th>weighted avg</th>\n",
              "      <td>0.919962</td>\n",
              "      <td>0.920282</td>\n",
              "      <td>0.923378</td>\n",
              "      <td>0.921122</td>\n",
              "      <td>0.927270</td>\n",
              "    </tr>\n",
              "  </tbody>\n",
              "</table>\n",
              "</div>"
            ],
            "text/plain": [
              "Emotion           Bert  DistilBert   Electra   Roberta  MobileBert\n",
              "anger         0.894632    0.927007  0.925714  0.911972    0.906526\n",
              "fear          0.887417    0.868778  0.887931  0.871671    0.908686\n",
              "joy           0.944649    0.944803  0.943369  0.947589    0.950181\n",
              "love          0.824798    0.795987  0.812698  0.804428    0.849398\n",
              "sadness       0.962901    0.961571  0.962712  0.964041    0.963668\n",
              "surprise      0.727273    0.744828  0.743802  0.751678    0.702703\n",
              "accuracy      0.919000    0.920500  0.924000  0.922500    0.928000\n",
              "macro avg     0.873612    0.873829  0.879371  0.875230    0.880193\n",
              "weighted avg  0.919962    0.920282  0.923378  0.921122    0.927270"
            ]
          },
          "metadata": {},
          "execution_count": 86
        }
      ]
    },
    {
      "cell_type": "code",
      "metadata": {
        "id": "4VzLO6qPErKP"
      },
      "source": [
        "F1ModelScores.to_csv('/models/Stats/ModelPerformance.csv',index=True,index_label='Emotion')\n",
        "timeData.to_csv('/models/Stats/TimeData.csv',index=True,index_label='Models')\n",
        "threshHoldStats.to_csv('/models/Stats/ThreshHoldStats.csv',index=True,index_label='Threshold')"
      ],
      "execution_count": 88,
      "outputs": []
    },
    {
      "cell_type": "code",
      "metadata": {
        "id": "8O1Z4PZ8_zED",
        "outputId": "7ac6b1fd-0d99-4631-88ac-369a4a2a7546",
        "colab": {
          "base_uri": "https://localhost:8080/"
        }
      },
      "source": [
        "!gsutil cp -r /models/Stats/ gs://emotion-models/"
      ],
      "execution_count": 93,
      "outputs": [
        {
          "output_type": "stream",
          "name": "stdout",
          "text": [
            "Copying file:///models/Stats/DistilBertConfusionMatrix.eps [Content-Type=application/postscript]...\n",
            "Copying file:///models/Stats/TimeData.csv [Content-Type=text/csv]...\n",
            "Copying file:///models/Stats/RobertaConfusionMatrix.eps [Content-Type=application/postscript]...\n",
            "Copying file:///models/Stats/BertConfusionMatrix.eps [Content-Type=application/postscript]...\n",
            "- [4 files][225.8 KiB/225.8 KiB]                                                \n",
            "==> NOTE: You are performing a sequence of gsutil operations that may\n",
            "run significantly faster if you instead use gsutil -m cp ... Please\n",
            "see the -m section under \"gsutil help options\" for further information\n",
            "about when gsutil -m can be advantageous.\n",
            "\n",
            "Copying file:///models/Stats/TrainDataDestrubrition.eps [Content-Type=application/postscript]...\n",
            "Copying file:///models/Stats/ElectraConfusionMatrix.eps [Content-Type=application/postscript]...\n",
            "Copying file:///models/Stats/MobileBertConfusionMatrix.eps [Content-Type=application/postscript]...\n",
            "Copying file:///models/Stats/ThreshHoldStats.csv [Content-Type=text/csv]...\n",
            "Copying file:///models/Stats/ModelPerformance.csv [Content-Type=text/csv]...\n",
            "|\n",
            "Operation completed over 9 objects/404.9 KiB.                                    \n"
          ]
        }
      ]
    }
  ]
}