{
  "nbformat": 4,
  "nbformat_minor": 0,
  "metadata": {
    "orig_nbformat": 4,
    "colab": {
      "name": "EmotionModels.ipynb",
      "provenance": [],
      "toc_visible": true
    },
    "language_info": {
      "name": "python"
    },
    "kernelspec": {
      "name": "python3",
      "display_name": "Python 3"
    }
  },
  "cells": [
    {
      "cell_type": "markdown",
      "metadata": {
        "id": "Yl9Ht2uggCQw"
      },
      "source": [
        "# **Required Downloads**"
      ]
    },
    {
      "cell_type": "code",
      "metadata": {
        "id": "JNdlEs3mgCQz"
      },
      "source": [
        "!pip install -q transformers\n",
        "!pip install -q contractions\n",
        "!pip install -q autocorrect"
      ],
      "execution_count": 23,
      "outputs": []
    },
    {
      "cell_type": "markdown",
      "metadata": {
        "id": "hwMqdpb2gCQ2"
      },
      "source": [
        "# **Required Imports**"
      ]
    },
    {
      "cell_type": "code",
      "metadata": {
        "id": "adjxCh2igCQ3"
      },
      "source": [
        "\n",
        "from transformers import BertTokenizer, TFBertForSequenceClassification\n",
        "from transformers import DistilBertTokenizer, TFDistilBertForSequenceClassification\n",
        "from transformers import RobertaTokenizer,TFRobertaForSequenceClassification\n",
        "from transformers import XLNetTokenizer, TFXLNetForSequenceClassification\n",
        "from transformers import ElectraTokenizer,TFElectraForSequenceClassification\n",
        "from transformers import GPT2Tokenizer,TFGPT2ForSequenceClassification\n",
        "from transformers import AutoTokenizer, TFAutoModelForSequenceClassification,TFPreTrainedModel\n",
        "\n",
        "import time\n",
        "\n",
        "from matplotlib import pyplot as plt\n",
        "from sklearn.metrics import confusion_matrix , classification_report\n",
        "import pandas as pd\n",
        "import seaborn as sns\n",
        "\n",
        "import tensorflow as tf\n",
        "import json\n",
        "\n",
        "import numpy as np\n",
        "import pandas as pd\n",
        "\n",
        "\n",
        "import os\n",
        "import re\n",
        "\n",
        "from nltk.stem import WordNetLemmatizer\n",
        "from nltk.tokenize import sent_tokenize\n",
        "\n",
        "import contractions\n",
        "from textblob import TextBlob\n",
        "from sklearn.feature_extraction.text import CountVectorizer, TfidfVectorizer\n",
        "from sklearn.metrics import f1_score\n",
        "from autocorrect import Speller\n",
        "\n"
      ],
      "execution_count": 151,
      "outputs": []
    },
    {
      "cell_type": "markdown",
      "metadata": {
        "id": "47pKS2lxhB3C"
      },
      "source": [
        "# **Data Prepration**"
      ]
    },
    {
      "cell_type": "markdown",
      "metadata": {
        "id": "Bz-Rx6FJokN-"
      },
      "source": [
        "## Importing Data \n",
        "- The following cell is importing data from google drive and storing the files to /home/Emotiondata directory.\n",
        "- Data Source: \n",
        "> https://www.kaggle.com/praveengovi/emotions-dataset-for-nlp"
      ]
    },
    {
      "cell_type": "code",
      "metadata": {
        "colab": {
          "base_uri": "https://localhost:8080/"
        },
        "id": "DAEtK1AGhGD7",
        "outputId": "d1a4676d-afed-482e-c49b-0dd4c1f27d22"
      },
      "source": [
        "from google.colab import drive\n",
        "drive.mount('/content/drive')"
      ],
      "execution_count": 35,
      "outputs": [
        {
          "output_type": "stream",
          "name": "stdout",
          "text": [
            "Drive already mounted at /content/drive; to attempt to forcibly remount, call drive.mount(\"/content/drive\", force_remount=True).\n"
          ]
        }
      ]
    },
    {
      "cell_type": "code",
      "metadata": {
        "colab": {
          "base_uri": "https://localhost:8080/"
        },
        "id": "szJKMtjzqqah",
        "outputId": "becc9f37-ab9b-4a9b-ae2b-ebe27a24d91e"
      },
      "source": [
        "DataDir = '/home/EmotionData/'\n",
        "!mkdir /home/EmotionData\n",
        "!unzip /content/drive/MyDrive/archive.zip \n",
        "!mv /content/*.txt /home/EmotionData"
      ],
      "execution_count": 36,
      "outputs": [
        {
          "output_type": "stream",
          "name": "stdout",
          "text": [
            "mkdir: cannot create directory ‘/home/EmotionData’: File exists\n",
            "Archive:  /content/drive/MyDrive/archive.zip\n",
            "  inflating: test.txt                \n",
            "  inflating: train.txt               \n",
            "  inflating: val.txt                 \n"
          ]
        }
      ]
    },
    {
      "cell_type": "markdown",
      "metadata": {
        "id": "Qx8Kr2o-sWO-"
      },
      "source": [
        "## Loading Data\n",
        "- The Following cell loads train, validation and test data to variables \n",
        "- Used Sources: \n",
        ">https://stackoverflow.com/questions/21546739/load-data-from-txt-with-pandas"
      ]
    },
    {
      "cell_type": "code",
      "metadata": {
        "colab": {
          "base_uri": "https://localhost:8080/",
          "height": 0
        },
        "id": "ZedJaw-rsZ16",
        "outputId": "498056c3-eae1-4402-b2f3-8636a052d855"
      },
      "source": [
        "def readDataEmotionData1(dataPath):\n",
        "  data = pd.read_csv(DataDir+dataPath, sep=\";\", header=None, names = ['Text','Label'])\n",
        "  return data;\n",
        "\n",
        "trainData = readDataEmotionData1('train.txt')\n",
        "valData = readDataEmotionData1('val.txt')\n",
        "testData = readDataEmotionData1('test.txt')\n",
        "# Shows how the data looks in the padas DataFrame after loading \n",
        "trainData.head()"
      ],
      "execution_count": 37,
      "outputs": [
        {
          "output_type": "execute_result",
          "data": {
            "text/html": [
              "<div>\n",
              "<style scoped>\n",
              "    .dataframe tbody tr th:only-of-type {\n",
              "        vertical-align: middle;\n",
              "    }\n",
              "\n",
              "    .dataframe tbody tr th {\n",
              "        vertical-align: top;\n",
              "    }\n",
              "\n",
              "    .dataframe thead th {\n",
              "        text-align: right;\n",
              "    }\n",
              "</style>\n",
              "<table border=\"1\" class=\"dataframe\">\n",
              "  <thead>\n",
              "    <tr style=\"text-align: right;\">\n",
              "      <th></th>\n",
              "      <th>Text</th>\n",
              "      <th>Label</th>\n",
              "    </tr>\n",
              "  </thead>\n",
              "  <tbody>\n",
              "    <tr>\n",
              "      <th>0</th>\n",
              "      <td>i didnt feel humiliated</td>\n",
              "      <td>sadness</td>\n",
              "    </tr>\n",
              "    <tr>\n",
              "      <th>1</th>\n",
              "      <td>i can go from feeling so hopeless to so damned...</td>\n",
              "      <td>sadness</td>\n",
              "    </tr>\n",
              "    <tr>\n",
              "      <th>2</th>\n",
              "      <td>im grabbing a minute to post i feel greedy wrong</td>\n",
              "      <td>anger</td>\n",
              "    </tr>\n",
              "    <tr>\n",
              "      <th>3</th>\n",
              "      <td>i am ever feeling nostalgic about the fireplac...</td>\n",
              "      <td>love</td>\n",
              "    </tr>\n",
              "    <tr>\n",
              "      <th>4</th>\n",
              "      <td>i am feeling grouchy</td>\n",
              "      <td>anger</td>\n",
              "    </tr>\n",
              "  </tbody>\n",
              "</table>\n",
              "</div>"
            ],
            "text/plain": [
              "                                                Text    Label\n",
              "0                            i didnt feel humiliated  sadness\n",
              "1  i can go from feeling so hopeless to so damned...  sadness\n",
              "2   im grabbing a minute to post i feel greedy wrong    anger\n",
              "3  i am ever feeling nostalgic about the fireplac...     love\n",
              "4                               i am feeling grouchy    anger"
            ]
          },
          "metadata": {},
          "execution_count": 37
        }
      ]
    },
    {
      "cell_type": "markdown",
      "metadata": {
        "id": "M_p5AhGUxSXz"
      },
      "source": [
        "## About the Data\n"
      ]
    },
    {
      "cell_type": "code",
      "metadata": {
        "colab": {
          "base_uri": "https://localhost:8080/",
          "height": 0
        },
        "id": "_XbCgkxK0HOV",
        "outputId": "a6bc2f68-5e06-4cf5-ce4c-1dfda6a2e308"
      },
      "source": [
        "# The following function adds length coloum to pandas Dataframe\n",
        "def addTextLength(dataFrame):\n",
        "  lengthData = []\n",
        "  for i in dataFrame['Text']:\n",
        "    lengthData.append(len(i))\n",
        "  dataFrame=dataFrame.assign(Length=lengthData)\n",
        "  return dataFrame\n",
        "trainData = addTextLength(trainData)\n",
        "valData = addTextLength(valData)\n",
        "testData = addTextLength(testData)\n",
        "valData.head()"
      ],
      "execution_count": 38,
      "outputs": [
        {
          "output_type": "execute_result",
          "data": {
            "text/html": [
              "<div>\n",
              "<style scoped>\n",
              "    .dataframe tbody tr th:only-of-type {\n",
              "        vertical-align: middle;\n",
              "    }\n",
              "\n",
              "    .dataframe tbody tr th {\n",
              "        vertical-align: top;\n",
              "    }\n",
              "\n",
              "    .dataframe thead th {\n",
              "        text-align: right;\n",
              "    }\n",
              "</style>\n",
              "<table border=\"1\" class=\"dataframe\">\n",
              "  <thead>\n",
              "    <tr style=\"text-align: right;\">\n",
              "      <th></th>\n",
              "      <th>Text</th>\n",
              "      <th>Label</th>\n",
              "      <th>Length</th>\n",
              "    </tr>\n",
              "  </thead>\n",
              "  <tbody>\n",
              "    <tr>\n",
              "      <th>0</th>\n",
              "      <td>im feeling quite sad and sorry for myself but ...</td>\n",
              "      <td>sadness</td>\n",
              "      <td>69</td>\n",
              "    </tr>\n",
              "    <tr>\n",
              "      <th>1</th>\n",
              "      <td>i feel like i am still looking at a blank canv...</td>\n",
              "      <td>sadness</td>\n",
              "      <td>70</td>\n",
              "    </tr>\n",
              "    <tr>\n",
              "      <th>2</th>\n",
              "      <td>i feel like a faithful servant</td>\n",
              "      <td>love</td>\n",
              "      <td>30</td>\n",
              "    </tr>\n",
              "    <tr>\n",
              "      <th>3</th>\n",
              "      <td>i am just feeling cranky and blue</td>\n",
              "      <td>anger</td>\n",
              "      <td>33</td>\n",
              "    </tr>\n",
              "    <tr>\n",
              "      <th>4</th>\n",
              "      <td>i can have for a treat or if i am feeling festive</td>\n",
              "      <td>joy</td>\n",
              "      <td>49</td>\n",
              "    </tr>\n",
              "  </tbody>\n",
              "</table>\n",
              "</div>"
            ],
            "text/plain": [
              "                                                Text    Label  Length\n",
              "0  im feeling quite sad and sorry for myself but ...  sadness      69\n",
              "1  i feel like i am still looking at a blank canv...  sadness      70\n",
              "2                     i feel like a faithful servant     love      30\n",
              "3                  i am just feeling cranky and blue    anger      33\n",
              "4  i can have for a treat or if i am feeling festive      joy      49"
            ]
          },
          "metadata": {},
          "execution_count": 38
        }
      ]
    },
    {
      "cell_type": "code",
      "metadata": {
        "colab": {
          "base_uri": "https://localhost:8080/",
          "height": 0
        },
        "id": "Ac0ziLoN3NBV",
        "outputId": "3fde20a6-a912-4dc5-e275-61bd1b970b2a"
      },
      "source": [
        "# This shows the distrubution of the number of characters length of the Text.\n",
        "def plotDestrubrition(data,name):\n",
        "  sns.set_style('darkgrid')\n",
        "  plt.figure(figsize=(5,5))\n",
        "  plt.title(name)\n",
        "  sns.distplot(data)\n",
        "plotDestrubrition(trainData['Length'],'Train Data')"
      ],
      "execution_count": 39,
      "outputs": [
        {
          "output_type": "stream",
          "name": "stderr",
          "text": [
            "/usr/local/lib/python3.7/dist-packages/seaborn/distributions.py:2619: FutureWarning: `distplot` is a deprecated function and will be removed in a future version. Please adapt your code to use either `displot` (a figure-level function with similar flexibility) or `histplot` (an axes-level function for histograms).\n",
            "  warnings.warn(msg, FutureWarning)\n"
          ]
        },
        {
          "output_type": "display_data",
          "data": {
            "image/png": "[encoded data removed]",
            "text/plain": [
              "<Figure size 360x360 with 1 Axes>"
            ]
          },
          "metadata": {}
        }
      ]
    },
    {
      "cell_type": "code",
      "metadata": {
        "colab": {
          "base_uri": "https://localhost:8080/",
          "height": 0
        },
        "id": "dfWMCFyR6bjQ",
        "outputId": "63f23533-6ba5-4884-ea2e-8410d615f02a"
      },
      "source": [
        "maxSentanceLength = 300\n",
        "trainData.describe()"
      ],
      "execution_count": 40,
      "outputs": [
        {
          "output_type": "execute_result",
          "data": {
            "text/html": [
              "<div>\n",
              "<style scoped>\n",
              "    .dataframe tbody tr th:only-of-type {\n",
              "        vertical-align: middle;\n",
              "    }\n",
              "\n",
              "    .dataframe tbody tr th {\n",
              "        vertical-align: top;\n",
              "    }\n",
              "\n",
              "    .dataframe thead th {\n",
              "        text-align: right;\n",
              "    }\n",
              "</style>\n",
              "<table border=\"1\" class=\"dataframe\">\n",
              "  <thead>\n",
              "    <tr style=\"text-align: right;\">\n",
              "      <th></th>\n",
              "      <th>Length</th>\n",
              "    </tr>\n",
              "  </thead>\n",
              "  <tbody>\n",
              "    <tr>\n",
              "      <th>count</th>\n",
              "      <td>16000.000000</td>\n",
              "    </tr>\n",
              "    <tr>\n",
              "      <th>mean</th>\n",
              "      <td>96.845812</td>\n",
              "    </tr>\n",
              "    <tr>\n",
              "      <th>std</th>\n",
              "      <td>55.904953</td>\n",
              "    </tr>\n",
              "    <tr>\n",
              "      <th>min</th>\n",
              "      <td>7.000000</td>\n",
              "    </tr>\n",
              "    <tr>\n",
              "      <th>25%</th>\n",
              "      <td>53.000000</td>\n",
              "    </tr>\n",
              "    <tr>\n",
              "      <th>50%</th>\n",
              "      <td>86.000000</td>\n",
              "    </tr>\n",
              "    <tr>\n",
              "      <th>75%</th>\n",
              "      <td>129.000000</td>\n",
              "    </tr>\n",
              "    <tr>\n",
              "      <th>max</th>\n",
              "      <td>300.000000</td>\n",
              "    </tr>\n",
              "  </tbody>\n",
              "</table>\n",
              "</div>"
            ],
            "text/plain": [
              "             Length\n",
              "count  16000.000000\n",
              "mean      96.845812\n",
              "std       55.904953\n",
              "min        7.000000\n",
              "25%       53.000000\n",
              "50%       86.000000\n",
              "75%      129.000000\n",
              "max      300.000000"
            ]
          },
          "metadata": {},
          "execution_count": 40
        }
      ]
    },
    {
      "cell_type": "markdown",
      "metadata": {
        "id": "ZJpbHnHp70gU"
      },
      "source": [
        "## Text Pre-Prepration\n",
        "- Decontraction\n",
        "- Spell check\n",
        "- Labels Enconding\n"
      ]
    },
    {
      "cell_type": "markdown",
      "source": [
        "### Decontraction \n",
        "- Having contractions tends to drop vowels from words in English. By Decotracting words in the text, it standardizas the text which could be very useful while traning Text Classfication Model.\n",
        "\n",
        "- Source:  \n",
        "`https://www.geeksforgeeks.org/nlp-expand-contractions-in-text-processing/`<br />\n",
        "`https://medium.com/analytics-vidhya/natural-language-processing-for-developers-912ee0fda979`\n",
        "\n",
        "\n",
        "\n"
      ],
      "metadata": {
        "id": "Pn4N7CAQsT30"
      }
    },
    {
      "cell_type": "code",
      "metadata": {
        "colab": {
          "base_uri": "https://localhost:8080/"
        },
        "id": "fyCHlYHO76Ya",
        "outputId": "1b7bb607-6e69-4957-82ad-70164fd58a90"
      },
      "source": [
        "# This requries  contractions package.\n",
        "# This Function accepts a Pandas Data Frame with sentences in column titled 'Text'.\n",
        "def Decontracted(DataFrame):\n",
        "  # This loop enumerates, giving 'i' being the index of the sentence which is denoted by 'text'.\n",
        "  for i, text in enumerate(DataFrame['Text']):\n",
        "    DataFrame['Text'][i] = contractions.fix(text)\n",
        "  return DataFrame\n",
        "\n",
        "# Calling Decontracted function on all three Datasets\n",
        "trainData = Decontracted(trainData)\n",
        "valData = Decontracted(valData)\n",
        "testData = Decontracted(testData)"
      ],
      "execution_count": 41,
      "outputs": [
        {
          "output_type": "stream",
          "name": "stderr",
          "text": [
            "/usr/local/lib/python3.7/dist-packages/ipykernel_launcher.py:3: SettingWithCopyWarning: \n",
            "A value is trying to be set on a copy of a slice from a DataFrame\n",
            "\n",
            "See the caveats in the documentation: https://pandas.pydata.org/pandas-docs/stable/user_guide/indexing.html#returning-a-view-versus-a-copy\n",
            "  This is separate from the ipykernel package so we can avoid doing imports until\n"
          ]
        }
      ]
    },
    {
      "cell_type": "markdown",
      "source": [
        "### Checking Spelling \n",
        "\n",
        "- Training and Validation text containing misspelled words might not help the model recognize a pattern since a different token would be assigned during tokenization.\n",
        "> **Note**: This will take really long time, remove or comment it if needed."
      ],
      "metadata": {
        "id": "vNngeJzfzv4j"
      }
    },
    {
      "cell_type": "code",
      "metadata": {
        "id": "2rcM-5tCHYYk"
      },
      "source": [
        "# This requires autocorrect package as Speller.\n",
        "# This Function accepts a Pandas Data Frame with sentences in column titled 'Text'.\n",
        "def SpellCheck(DataFrame):\n",
        "  spell = Speller(lang='en')\n",
        "  for i, text in enumerate(DataFrame['Text']):\n",
        "      DataFrame['Text'][i] = str(spell(text))\n",
        "  return DataFrame\n",
        "\n",
        "# Calling SpellCheck function on all three Datasets\n",
        "trainData = SpellCheck(trainData)\n",
        "valData = SpellCheck(valData)\n",
        "testData = SpellCheck(testData)"
      ],
      "execution_count": 42,
      "outputs": []
    },
    {
      "cell_type": "markdown",
      "source": [
        "### Label Encoding\n",
        "- Each of the text classifiers is assigned an arbitrary integer value.\n",
        "- In the dataset we are using there and following 6 classifiers and the corresponding listed below. <br />\n",
        "` Anger: 0 \n",
        "  Fear: 1\n",
        "  Joy: 2\n",
        "  Love: 3\n",
        "  Sadness: 4\n",
        "  Surprise: 5`"
      ],
      "metadata": {
        "id": "m_zhreMH9mIp"
      }
    },
    {
      "cell_type": "code",
      "metadata": {
        "colab": {
          "base_uri": "https://localhost:8080/"
        },
        "id": "h5eELCHFPqCg",
        "outputId": "2530adab-aac5-4c19-edd4-428b97d872ce"
      },
      "source": [
        "def LabelEncoding(DataFrame):\n",
        "  labels = []\n",
        "  encodeVectorizer = CountVectorizer(analyzer = \"word\", tokenizer = None,lowercase=True, preprocessor = None, stop_words = None)\n",
        "  encodedLabels = encodeVectorizer.fit_transform(DataFrame['Label']).toarray()\n",
        "  LabelsNames = list(encodeVectorizer.get_feature_names())\n",
        "  for i in DataFrame['Label']:\n",
        "    labels.append((list(LabelsNames).index(i)))\n",
        "  return labels,LabelsNames\n",
        "encodedTrainLabels,TrainLabelFeatureNames = LabelEncoding(trainData)\n",
        "encodedValLabels,ValLabelFeatureNames = LabelEncoding(valData)\n",
        "encodedTestLabels,TestLabelFeatureNames = LabelEncoding(testData)"
      ],
      "execution_count": 43,
      "outputs": [
        {
          "output_type": "stream",
          "name": "stderr",
          "text": [
            "/usr/local/lib/python3.7/dist-packages/sklearn/utils/deprecation.py:87: FutureWarning: Function get_feature_names is deprecated; get_feature_names is deprecated in 1.0 and will be removed in 1.2. Please use get_feature_names_out instead.\n",
            "  warnings.warn(msg, category=FutureWarning)\n"
          ]
        }
      ]
    },
    {
      "cell_type": "code",
      "metadata": {
        "id": "1_ri2vPcjaa8"
      },
      "source": [
        "def TextEncoding(tokenizerType,\n",
        "                 dataTextList, \n",
        "                 LabelList, \n",
        "                 batchSize,\n",
        "                 shufflingParameter,\n",
        "                 maxLen):\n",
        "  tokenizer = AutoTokenizer.from_pretrained(tokenizerType)\n",
        "  \n",
        "  textEncodings = tokenizer(dataTextList,\n",
        "                            truncation=True, \n",
        "                            max_length = maxLen,\n",
        "                            padding=\"max_length\")\n",
        "  \n",
        "  dataset = tf.data.Dataset.from_tensor_slices((\n",
        "    dict(textEncodings),\n",
        "    LabelList\n",
        "    ))\n",
        "  dataset = dataset.shuffle(shufflingParameter).batch(batchSize)\n",
        "  return dataset,tokenizer"
      ],
      "execution_count": 44,
      "outputs": []
    },
    {
      "cell_type": "markdown",
      "metadata": {
        "id": "8dN3hq8nn3IJ"
      },
      "source": [
        "# **Model Bulding and Training**"
      ]
    },
    {
      "cell_type": "code",
      "source": [
        "!mkdir /models/\n",
        "!mkdir /models/Stats/\n",
        "timeData = pd.DataFrame(columns= ['Training(min) ', 'Evalution(min)']).rename_axis('Models', axis=1)\n"
      ],
      "metadata": {
        "colab": {
          "base_uri": "https://localhost:8080/"
        },
        "id": "ljLol0PyWwrC",
        "outputId": "d5e0a2d2-982a-4f72-e11b-7fc80eff02a1"
      },
      "execution_count": 13,
      "outputs": [
        {
          "output_type": "stream",
          "name": "stdout",
          "text": [
            "mkdir: cannot create directory ‘/models/’: File exists\n",
            "mkdir: cannot create directory ‘/models/Stats/’: File exists\n"
          ]
        }
      ]
    },
    {
      "cell_type": "code",
      "metadata": {
        "id": "fFYHDS4vozRo"
      },
      "source": [
        "def CreateModel(model,\n",
        "                numLabels,\n",
        "                maxSentanceLength,\n",
        "                input_ids,\n",
        "                mask):\n",
        "  embeddings = model(input_ids,mask)[0]\n",
        "  layer = tf.keras.layers.Dense(1000,activation='relu')(embeddings)\n",
        "  layer = tf.keras.layers.BatchNormalization()(layer)\n",
        "  outputLayer = tf.keras.layers.Dense(6,activation='softmax',name='outputs')(layer)\n",
        "  testModel = tf.keras.Model(inputs=[input_ids,mask],outputs=outputLayer)\n",
        "  return testModel"
      ],
      "execution_count": 13,
      "outputs": []
    },
    {
      "cell_type": "code",
      "metadata": {
        "id": "bIyUN9F8SY1U"
      },
      "source": [
        "def plotEpochs(hist,\n",
        "               histKeys,\n",
        "               Title,\n",
        "               Ylabel,\n",
        "               Xlabel = \"Epochs\",\n",
        "               savePlotPath = \"\"):\n",
        "  legends = []\n",
        "  for i in histKeys:\n",
        "    plt.plot(hist.history[i])\n",
        "    legends.append(i)\n",
        "  plt.title(Title)\n",
        "  plt.ylabel(Ylabel)\n",
        "  plt.xlabel(Xlabel)\n",
        "  plt.legend(legends)\n",
        "  if len(savePlotPath) > 0:\n",
        "    plt.savefig(savePlotPath,format='eps',dpi=1200)\n",
        "  plt.show()\n",
        "\n"
      ],
      "execution_count": 14,
      "outputs": []
    },
    {
      "cell_type": "code",
      "metadata": {
        "id": "GKbbulHOm5-9"
      },
      "source": [
        "'''\n",
        "While Trying make custom matrices, I found this post in which they have coded what I was attempting.\n",
        "**Note** I changed the definition name for my own purpose\n",
        "Source: https://datascience.stackexchange.com/questions/45165/how-to-get-accuracy-f1-precision-and-recall-for-a-keras-model \n",
        "'''\n",
        "from keras import backend as K\n",
        "\n",
        "def Recalls(y_true, y_pred):\n",
        "    true_positives = K.sum(K.round(K.clip(y_true * y_pred, 0, 1)))\n",
        "    possible_positives = K.sum(K.round(K.clip(y_true, 0, 1)))\n",
        "    recall = true_positives / (possible_positives + K.epsilon())\n",
        "    return recall\n",
        "\n",
        "def Precision_Marco(y_true, y_pred):\n",
        "    true_positives = K.sum(K.round(K.clip(y_true * y_pred, 0, 1)))\n",
        "    predicted_positives = K.sum(K.round(K.clip(y_pred, 0, 1)))\n",
        "    precision = true_positives / (predicted_positives + K.epsilon())\n",
        "    return precision\n",
        "\n",
        "def F1_Macro(y_true, y_pred):\n",
        "    precision = Precision_Marco(y_true, y_pred)\n",
        "    recall = Recalls(y_true, y_pred)\n",
        "    return 2*((precision*recall)/(precision+recall+K.epsilon()))"
      ],
      "execution_count": 15,
      "outputs": []
    },
    {
      "cell_type": "code",
      "metadata": {
        "id": "RFsyOOkxTRTL"
      },
      "source": [
        "def trainModel(\n",
        "    # Default Parameters\n",
        "    maxSentanceLength = 275,\n",
        "    BatchSize = 16,\n",
        "    shufflingParameter = 1000,\n",
        "    Learning_rate=5e-5,\n",
        "    Epochs=4,\n",
        "    numLabels = len(encodedTrainLabels),\n",
        "    ModelName = 'bert-base-uncased',\n",
        "    ModelMetrics = ['accuracy'],\n",
        "    optimizer = tf.keras.optimizers.Adam(learning_rate=5e-5),\n",
        "    loss = tf.keras.losses.SparseCategoricalCrossentropy(),\n",
        "    ModelTrainData = list(trainData['Text']),\n",
        "    TrainLabels = encodedTrainLabels,\n",
        "    ModelValData = list(valData['Text']),\n",
        "    ValLabels = encodedValLabels):\n",
        "  valDataSet,tokenizer = TextEncoding(ModelName,\n",
        "                                      ModelValData,\n",
        "                                      ValLabels,\n",
        "                                      BatchSize,\n",
        "                                      shufflingParameter,\n",
        "                                      maxSentanceLength)\n",
        "  \n",
        "  trainDataSet,tokenizer = TextEncoding(ModelName,\n",
        "                                        ModelTrainData,\n",
        "                                        TrainLabels,\n",
        "                                        BatchSize,\n",
        "                                        shufflingParameter,\n",
        "                                        maxSentanceLength)\n",
        "\n",
        "  \n",
        "  input_ids = tf.keras.layers.Input(shape=(maxSentanceLength,),name=\"input_ids\", dtype='int32')\n",
        "  mask = tf.keras.layers.Input(shape=(maxSentanceLength,),name=\"attention_mask\",dtype='int32')\n",
        "  tokenIds = tf.keras.layers.Input(shape=(maxSentanceLength,),name=\"token_ids\",dtype='int32')\n",
        "\n",
        "  modelPreTrianed = TFAutoModelForSequenceClassification.from_pretrained(ModelName,\n",
        "                                                               num_labels=6)\n",
        "  model = CreateModel(modelPreTrianed,\n",
        "                      numLabels,\n",
        "                      maxSentanceLength,\n",
        "                      input_ids = input_ids,\n",
        "                      mask = mask)\n",
        "  model.compile(optimizer=optimizer, \n",
        "                loss=loss, \n",
        "                metrics=ModelMetrics)\n",
        "  StartTime = time.time()\n",
        "  hist = model.fit(trainDataSet,\n",
        "          epochs=Epochs,\n",
        "          batch_size=BatchSize,\n",
        "          validation_data =valDataSet)\n",
        "  EndTime = time.time()\n",
        "  TrainingTime = (EndTime-StartTime)/60\n",
        "  return tokenizer,hist,model, modelPreTrianed,TrainingTime\n",
        "\n"
      ],
      "execution_count": 16,
      "outputs": []
    },
    {
      "cell_type": "code",
      "source": [
        "def saveModelWeights(model,\n",
        "                     path):\n",
        "  model.save_weights(path)\n",
        "  print('The Model Saved')\n",
        "\n",
        "def saveTrasformerTokenizer(tokenizer,\n",
        "                            path):\n",
        "  tokenizer.save_pretrained(path)\n",
        "  print('The Tokenizer Saved')\n",
        "\n",
        "def savePreTrainedTransformerModel(model,\n",
        "                                   path):\n",
        "  model.save_pretrained(path)\n",
        "  print('The PreTrained Transformer Model Saved')\n",
        "\n",
        "  "
      ],
      "metadata": {
        "id": "dIZFVT8wN2Tl"
      },
      "execution_count": 17,
      "outputs": []
    },
    {
      "cell_type": "code",
      "source": [
        "def doTrainningModel(ModelName,\n",
        "                     ModelType):\n",
        "  Tokenizer,history,model,PreTrainedModel,TrainningTime = trainModel(ModelMetrics = ['accuracy',F1_Macro],\n",
        "                                                                     ModelName=ModelType)\n",
        "  plotEpochs(hist = history,\n",
        "            histKeys = ['accuracy','val_accuracy','F1_Macro','val_F1_Macro'],\n",
        "            Title = ModelName +\" Accuracy Graph\",\n",
        "            Ylabel = \"Accuracy\",\n",
        "            savePlotPath = '/models/'+ModelName+'/Accuracy.epi')\n",
        "  plotEpochs(hist = history,\n",
        "            histKeys = ['loss','val_loss'],\n",
        "            Title = ModelName+ \"Loss Graph\",\n",
        "            Ylabel = \"Loss\",\n",
        "            savePlotPath = \"/models/\"+ModelName+\"/Loss.epi\" )\n",
        "  saveModelWeights(model,\n",
        "                  '/models/'+ModelName+'/'+ModelName+'Weights.h5')\n",
        "\n",
        "  savePreTrainedTransformerModel(PreTrainedModel,\n",
        "                                '/models/'+ModelName+'/'+ModelName+'PreTrainedModel')\n",
        "  saveTrasformerTokenizer(Tokenizer,\n",
        "                          '/models/'+ModelName+'/'+ModelName+'Tokenizer/')\n",
        "  timeData.loc[ModelName] = [TrainningTime,'NaN']\n",
        "  timeData.to_csv('/models/Stats/TimeData.csv',index=True,index_label='Models')\n",
        "  model.summary()"
      ],
      "metadata": {
        "id": "-onZTe8VO0wE"
      },
      "execution_count": 18,
      "outputs": []
    },
    {
      "cell_type": "code",
      "metadata": {
        "id": "DZtHUx3MkBdj"
      },
      "source": [
        "# Bert Model\n",
        "!mkdir /models/Bert\n",
        "!mkdir /models/Bert/BertPreTrainedModel/\n",
        "!mkdir /models/Bert/BertTokenizer/\n",
        "\n",
        "doTrainningModel('Bert',\n",
        "                 'bert-base-uncased')"
      ],
      "execution_count": null,
      "outputs": []
    },
    {
      "cell_type": "code",
      "source": [
        "timeData = pd.read_csv('/models/Stats/TimeData.csv',index_col=0)\n",
        "timeData"
      ],
      "metadata": {
        "colab": {
          "base_uri": "https://localhost:8080/",
          "height": 142
        },
        "id": "WABXqcC4Cyey",
        "outputId": "fea150d1-cf78-41f9-f612-4b61c2549b12"
      },
      "execution_count": null,
      "outputs": [
        {
          "output_type": "execute_result",
          "data": {
            "text/html": [
              "<div>\n",
              "<style scoped>\n",
              "    .dataframe tbody tr th:only-of-type {\n",
              "        vertical-align: middle;\n",
              "    }\n",
              "\n",
              "    .dataframe tbody tr th {\n",
              "        vertical-align: top;\n",
              "    }\n",
              "\n",
              "    .dataframe thead th {\n",
              "        text-align: right;\n",
              "    }\n",
              "</style>\n",
              "<table border=\"1\" class=\"dataframe\">\n",
              "  <thead>\n",
              "    <tr style=\"text-align: right;\">\n",
              "      <th></th>\n",
              "      <th>Training(min)</th>\n",
              "      <th>Evalution(min)</th>\n",
              "    </tr>\n",
              "    <tr>\n",
              "      <th>Models</th>\n",
              "      <th></th>\n",
              "      <th></th>\n",
              "    </tr>\n",
              "  </thead>\n",
              "  <tbody>\n",
              "    <tr>\n",
              "      <th>Bert</th>\n",
              "      <td>40.030757</td>\n",
              "      <td>NaN</td>\n",
              "    </tr>\n",
              "    <tr>\n",
              "      <th>DistilBert</th>\n",
              "      <td>20.504260</td>\n",
              "      <td>NaN</td>\n",
              "    </tr>\n",
              "  </tbody>\n",
              "</table>\n",
              "</div>"
            ],
            "text/plain": [
              "            Training(min)   Evalution(min)\n",
              "Models                                    \n",
              "Bert             40.030757             NaN\n",
              "DistilBert       20.504260             NaN"
            ]
          },
          "metadata": {},
          "execution_count": 19
        }
      ]
    },
    {
      "cell_type": "code",
      "metadata": {
        "id": "DYtpPU4368a6",
        "outputId": "f7c809e9-edbf-44da-caf3-148ffee8ef07",
        "colab": {
          "base_uri": "https://localhost:8080/",
          "height": 1000
        }
      },
      "source": [
        "# DistilBert Model\n",
        "!mkdir /models/DistilBert\n",
        "!mkdir /models/DistilBert/DistilBertPreTrainedModel/\n",
        "!mkdir /models/DistilBert/DistilBertTokenizer/\n",
        "\n",
        "doTrainningModel('DistilBert',\n",
        "                 'distilbert-base-uncased')"
      ],
      "execution_count": null,
      "outputs": [
        {
          "output_type": "stream",
          "name": "stdout",
          "text": [
            "mkdir: cannot create directory ‘/models/DistilBert’: File exists\n",
            "mkdir: cannot create directory ‘/models/DistilBert/DistilBertPreTrainedModel/’: File exists\n",
            "mkdir: cannot create directory ‘/models/DistilBert/DistilBertTokenizer/’: File exists\n"
          ]
        },
        {
          "output_type": "stream",
          "name": "stderr",
          "text": [
            "Some layers from the model checkpoint at distilbert-base-uncased were not used when initializing TFDistilBertForSequenceClassification: ['vocab_projector', 'activation_13', 'vocab_transform', 'vocab_layer_norm']\n",
            "- This IS expected if you are initializing TFDistilBertForSequenceClassification from the checkpoint of a model trained on another task or with another architecture (e.g. initializing a BertForSequenceClassification model from a BertForPreTraining model).\n",
            "- This IS NOT expected if you are initializing TFDistilBertForSequenceClassification from the checkpoint of a model that you expect to be exactly identical (initializing a BertForSequenceClassification model from a BertForSequenceClassification model).\n",
            "Some layers of TFDistilBertForSequenceClassification were not initialized from the model checkpoint at distilbert-base-uncased and are newly initialized: ['dropout_57', 'pre_classifier', 'classifier']\n",
            "You should probably TRAIN this model on a down-stream task to be able to use it for predictions and inference.\n"
          ]
        },
        {
          "output_type": "stream",
          "name": "stdout",
          "text": [
            "Epoch 1/4\n",
            "1000/1000 [==============================] - 298s 290ms/step - loss: 0.4336 - accuracy: 0.8568 - F1_Macro: 1.2003 - val_loss: 0.1924 - val_accuracy: 0.9290 - val_F1_Macro: 1.0101\n",
            "Epoch 2/4\n",
            "1000/1000 [==============================] - 288s 288ms/step - loss: 0.1663 - accuracy: 0.9358 - F1_Macro: 1.0021 - val_loss: 0.1908 - val_accuracy: 0.9295 - val_F1_Macro: 0.9933\n",
            "Epoch 3/4\n",
            "1000/1000 [==============================] - 288s 288ms/step - loss: 0.1300 - accuracy: 0.9488 - F1_Macro: 0.9858 - val_loss: 0.1638 - val_accuracy: 0.9405 - val_F1_Macro: 0.9824\n",
            "Epoch 4/4\n",
            "1000/1000 [==============================] - 289s 289ms/step - loss: 0.0976 - accuracy: 0.9645 - F1_Macro: 0.9716 - val_loss: 0.2338 - val_accuracy: 0.9370 - val_F1_Macro: 0.9595\n"
          ]
        },
        {
          "output_type": "display_data",
          "data": {
            "image/png": "[encoded data removed]",
            "text/plain": [
              "<Figure size 432x288 with 1 Axes>"
            ]
          },
          "metadata": {}
        },
        {
          "output_type": "display_data",
          "data": {
            "image/png": "[encoded data removed]",
            "text/plain": [
              "<Figure size 432x288 with 1 Axes>"
            ]
          },
          "metadata": {}
        },
        {
          "output_type": "stream",
          "name": "stdout",
          "text": [
            "The Model Saved\n",
            "The PreTrained Transformer Model Saved\n",
            "The Tokenizer Saved\n",
            "Model: \"model_1\"\n",
            "__________________________________________________________________________________________________\n",
            " Layer (type)                   Output Shape         Param #     Connected to                     \n",
            "==================================================================================================\n",
            " input_ids (InputLayer)         [(None, 275)]        0           []                               \n",
            "                                                                                                  \n",
            " attention_mask (InputLayer)    [(None, 275)]        0           []                               \n",
            "                                                                                                  \n",
            " tf_distil_bert_for_sequence_cl  TFSequenceClassifie  66958086   ['input_ids[0][0]',              \n",
            " assification (TFDistilBertForS  rOutput(loss=None,               'attention_mask[0][0]']         \n",
            " equenceClassification)         logits=(None, 6),                                                 \n",
            "                                 hidden_states=None                                               \n",
            "                                , attentions=None)                                                \n",
            "                                                                                                  \n",
            " dense_1 (Dense)                (None, 1000)         7000        ['tf_distil_bert_for_sequence_cla\n",
            "                                                                 ssification[0][0]']              \n",
            "                                                                                                  \n",
            " batch_normalization_1 (BatchNo  (None, 1000)        4000        ['dense_1[0][0]']                \n",
            " rmalization)                                                                                     \n",
            "                                                                                                  \n",
            " outputs (Dense)                (None, 6)            6006        ['batch_normalization_1[0][0]']  \n",
            "                                                                                                  \n",
            "==================================================================================================\n",
            "Total params: 66,975,092\n",
            "Trainable params: 66,973,092\n",
            "Non-trainable params: 2,000\n",
            "__________________________________________________________________________________________________\n"
          ]
        },
        {
          "output_type": "display_data",
          "data": {
            "text/plain": [
              "<Figure size 432x288 with 0 Axes>"
            ]
          },
          "metadata": {}
        }
      ]
    },
    {
      "cell_type": "code",
      "source": [
        "timeData = pd.read_csv('/models/Stats/TimeData.csv',index_col=0)\n",
        "timeData"
      ],
      "metadata": {
        "colab": {
          "base_uri": "https://localhost:8080/",
          "height": 142
        },
        "id": "hCWuhpNCjiEQ",
        "outputId": "862634cf-c62c-42b6-9afd-8e1c0dd403e3"
      },
      "execution_count": null,
      "outputs": [
        {
          "output_type": "execute_result",
          "data": {
            "text/html": [
              "<div>\n",
              "<style scoped>\n",
              "    .dataframe tbody tr th:only-of-type {\n",
              "        vertical-align: middle;\n",
              "    }\n",
              "\n",
              "    .dataframe tbody tr th {\n",
              "        vertical-align: top;\n",
              "    }\n",
              "\n",
              "    .dataframe thead th {\n",
              "        text-align: right;\n",
              "    }\n",
              "</style>\n",
              "<table border=\"1\" class=\"dataframe\">\n",
              "  <thead>\n",
              "    <tr style=\"text-align: right;\">\n",
              "      <th></th>\n",
              "      <th>Training(min)</th>\n",
              "      <th>Evalution(min)</th>\n",
              "    </tr>\n",
              "    <tr>\n",
              "      <th>Models</th>\n",
              "      <th></th>\n",
              "      <th></th>\n",
              "    </tr>\n",
              "  </thead>\n",
              "  <tbody>\n",
              "    <tr>\n",
              "      <th>Bert</th>\n",
              "      <td>40.030757</td>\n",
              "      <td>NaN</td>\n",
              "    </tr>\n",
              "    <tr>\n",
              "      <th>DistilBert</th>\n",
              "      <td>20.504260</td>\n",
              "      <td>NaN</td>\n",
              "    </tr>\n",
              "  </tbody>\n",
              "</table>\n",
              "</div>"
            ],
            "text/plain": [
              "            Training(min)   Evalution(min)\n",
              "Models                                    \n",
              "Bert             40.030757             NaN\n",
              "DistilBert       20.504260             NaN"
            ]
          },
          "metadata": {},
          "execution_count": 20
        }
      ]
    },
    {
      "cell_type": "code",
      "source": [
        "# Roberta Model\n",
        "!mkdir /models/Roberta\n",
        "!mkdir /models/Roberta/RobertaPreTrainedModel/\n",
        "!mkdir /models/Roberta/RobertaTokenizer/\n",
        "\n",
        "doTrainningModel('Roberta',\n",
        "                 'roberta-base')"
      ],
      "metadata": {
        "id": "dk5TXWKPwGTG",
        "colab": {
          "base_uri": "https://localhost:8080/",
          "height": 1000
        },
        "outputId": "70e43492-9777-4354-b2f8-78daca45acc2"
      },
      "execution_count": null,
      "outputs": [
        {
          "output_type": "stream",
          "name": "stdout",
          "text": [
            "mkdir: cannot create directory ‘/models/Roberta’: File exists\n",
            "mkdir: cannot create directory ‘/models/Roberta/RobertaPreTrainedModel/’: File exists\n",
            "mkdir: cannot create directory ‘/models/Roberta/RobertaTokenizer/’: File exists\n"
          ]
        },
        {
          "output_type": "stream",
          "name": "stderr",
          "text": [
            "All model checkpoint layers were used when initializing TFRobertaForSequenceClassification.\n",
            "\n",
            "Some layers of TFRobertaForSequenceClassification were not initialized from the model checkpoint at roberta-base and are newly initialized: ['classifier']\n",
            "You should probably TRAIN this model on a down-stream task to be able to use it for predictions and inference.\n"
          ]
        },
        {
          "output_type": "stream",
          "name": "stdout",
          "text": [
            "Epoch 1/4\n",
            "1000/1000 [==============================] - 591s 576ms/step - loss: 0.5070 - accuracy: 0.8296 - F1_Macro: 1.3149 - val_loss: 0.2440 - val_accuracy: 0.9225 - val_F1_Macro: 0.9707\n",
            "Epoch 2/4\n",
            "1000/1000 [==============================] - 573s 573ms/step - loss: 0.2215 - accuracy: 0.9231 - F1_Macro: 1.0128 - val_loss: 0.1571 - val_accuracy: 0.9380 - val_F1_Macro: 0.9870\n",
            "Epoch 3/4\n",
            "1000/1000 [==============================] - 574s 574ms/step - loss: 0.1805 - accuracy: 0.9306 - F1_Macro: 1.0063 - val_loss: 0.1637 - val_accuracy: 0.9335 - val_F1_Macro: 0.9935\n",
            "Epoch 4/4\n",
            "1000/1000 [==============================] - 574s 574ms/step - loss: 0.1630 - accuracy: 0.9357 - F1_Macro: 1.0041 - val_loss: 0.1965 - val_accuracy: 0.9260 - val_F1_Macro: 1.0111\n"
          ]
        },
        {
          "output_type": "display_data",
          "data": {
            "image/png": "[encoded data removed]",
            "text/plain": [
              "<Figure size 432x288 with 1 Axes>"
            ]
          },
          "metadata": {}
        },
        {
          "output_type": "display_data",
          "data": {
            "image/png": "[encoded data removed]",
            "text/plain": [
              "<Figure size 432x288 with 1 Axes>"
            ]
          },
          "metadata": {}
        },
        {
          "output_type": "stream",
          "name": "stdout",
          "text": [
            "The Model Saved\n",
            "The PreTrained Transformer Model Saved\n",
            "The Tokenizer Saved\n",
            "Model: \"model\"\n",
            "__________________________________________________________________________________________________\n",
            " Layer (type)                   Output Shape         Param #     Connected to                     \n",
            "==================================================================================================\n",
            " input_ids (InputLayer)         [(None, 275)]        0           []                               \n",
            "                                                                                                  \n",
            " attention_mask (InputLayer)    [(None, 275)]        0           []                               \n",
            "                                                                                                  \n",
            " tf_roberta_for_sequence_classi  TFSequenceClassifie  124650246  ['input_ids[0][0]',              \n",
            " fication (TFRobertaForSequence  rOutput(loss=None,               'attention_mask[0][0]']         \n",
            " Classification)                logits=(None, 6),                                                 \n",
            "                                 hidden_states=None                                               \n",
            "                                , attentions=None)                                                \n",
            "                                                                                                  \n",
            " dense (Dense)                  (None, 1000)         7000        ['tf_roberta_for_sequence_classif\n",
            "                                                                 ication[0][0]']                  \n",
            "                                                                                                  \n",
            " batch_normalization (BatchNorm  (None, 1000)        4000        ['dense[0][0]']                  \n",
            " alization)                                                                                       \n",
            "                                                                                                  \n",
            " outputs (Dense)                (None, 6)            6006        ['batch_normalization[0][0]']    \n",
            "                                                                                                  \n",
            "==================================================================================================\n",
            "Total params: 124,667,252\n",
            "Trainable params: 124,665,252\n",
            "Non-trainable params: 2,000\n",
            "__________________________________________________________________________________________________\n"
          ]
        },
        {
          "output_type": "display_data",
          "data": {
            "text/plain": [
              "<Figure size 432x288 with 0 Axes>"
            ]
          },
          "metadata": {}
        }
      ]
    },
    {
      "cell_type": "code",
      "source": [
        "timeData = pd.read_csv('/models/Stats/TimeData.csv',index_col=0)\n",
        "timeData"
      ],
      "metadata": {
        "colab": {
          "base_uri": "https://localhost:8080/",
          "height": 173
        },
        "id": "X_ONS_f3u0D4",
        "outputId": "f5f00b4f-40d2-4124-f44f-bc3cb8095849"
      },
      "execution_count": null,
      "outputs": [
        {
          "output_type": "execute_result",
          "data": {
            "text/html": [
              "<div>\n",
              "<style scoped>\n",
              "    .dataframe tbody tr th:only-of-type {\n",
              "        vertical-align: middle;\n",
              "    }\n",
              "\n",
              "    .dataframe tbody tr th {\n",
              "        vertical-align: top;\n",
              "    }\n",
              "\n",
              "    .dataframe thead th {\n",
              "        text-align: right;\n",
              "    }\n",
              "</style>\n",
              "<table border=\"1\" class=\"dataframe\">\n",
              "  <thead>\n",
              "    <tr style=\"text-align: right;\">\n",
              "      <th></th>\n",
              "      <th>Training(min)</th>\n",
              "      <th>Evalution(min)</th>\n",
              "    </tr>\n",
              "    <tr>\n",
              "      <th>Models</th>\n",
              "      <th></th>\n",
              "      <th></th>\n",
              "    </tr>\n",
              "  </thead>\n",
              "  <tbody>\n",
              "    <tr>\n",
              "      <th>Bert</th>\n",
              "      <td>40.030757</td>\n",
              "      <td>NaN</td>\n",
              "    </tr>\n",
              "    <tr>\n",
              "      <th>DistilBert</th>\n",
              "      <td>20.504260</td>\n",
              "      <td>NaN</td>\n",
              "    </tr>\n",
              "    <tr>\n",
              "      <th>Roberta</th>\n",
              "      <td>39.350323</td>\n",
              "      <td>NaN</td>\n",
              "    </tr>\n",
              "  </tbody>\n",
              "</table>\n",
              "</div>"
            ],
            "text/plain": [
              "            Training(min)   Evalution(min)\n",
              "Models                                    \n",
              "Bert             40.030757             NaN\n",
              "DistilBert       20.504260             NaN\n",
              "Roberta          39.350323             NaN"
            ]
          },
          "metadata": {},
          "execution_count": 19
        }
      ]
    },
    {
      "cell_type": "code",
      "metadata": {
        "id": "aZ2DbmV44TJN",
        "outputId": "2db120b7-ae17-4cba-bab4-4fd5be45a7ba",
        "colab": {
          "base_uri": "https://localhost:8080/"
        }
      },
      "source": [
        "# Electra Model\n",
        "!mkdir /models/Electra\n",
        "!mkdir /models/Electra/ElectraPreTrainedModel/\n",
        "!mkdir /models/Electra/ElectraTokenizer/\n",
        "\n",
        "doTrainningModel('Electra',\n",
        "                 'google/electra-small-discriminator')"
      ],
      "execution_count": null,
      "outputs": [
        {
          "output_type": "stream",
          "name": "stdout",
          "text": [
            "mkdir: cannot create directory ‘/models/Electra’: File exists\n",
            "mkdir: cannot create directory ‘/models/Electra/ElectraPreTrainedModel/’: File exists\n",
            "mkdir: cannot create directory ‘/models/Electra/ElectraTokenizer/’: File exists\n"
          ]
        },
        {
          "output_type": "stream",
          "name": "stderr",
          "text": [
            "Some layers from the model checkpoint at google/electra-small-discriminator were not used when initializing TFElectraForSequenceClassification: ['discriminator_predictions']\n",
            "- This IS expected if you are initializing TFElectraForSequenceClassification from the checkpoint of a model trained on another task or with another architecture (e.g. initializing a BertForSequenceClassification model from a BertForPreTraining model).\n",
            "- This IS NOT expected if you are initializing TFElectraForSequenceClassification from the checkpoint of a model that you expect to be exactly identical (initializing a BertForSequenceClassification model from a BertForSequenceClassification model).\n",
            "Some layers of TFElectraForSequenceClassification were not initialized from the model checkpoint at google/electra-small-discriminator and are newly initialized: ['classifier']\n",
            "You should probably TRAIN this model on a down-stream task to be able to use it for predictions and inference.\n"
          ]
        },
        {
          "output_type": "stream",
          "name": "stdout",
          "text": [
            "Epoch 1/4\n"
          ]
        },
        {
          "output_type": "stream",
          "name": "stderr",
          "text": [
            "/usr/local/lib/python3.7/dist-packages/keras/engine/functional.py:559: UserWarning: Input dict contained keys ['token_type_ids'] which did not match any model input. They will be ignored by the model.\n",
            "  inputs = self._flatten_to_reference_inputs(inputs)\n"
          ]
        },
        {
          "output_type": "stream",
          "name": "stdout",
          "text": [
            " 367/1000 [==========>...................] - ETA: 1:34 - loss: 1.6393 - accuracy: 0.3324 - F1_Macro: 4.3515"
          ]
        }
      ]
    },
    {
      "cell_type": "code",
      "source": [
        "timeData = pd.read_csv('/models/Stats/TimeData.csv',index_col=0)\n",
        "timeData"
      ],
      "metadata": {
        "id": "EGBp-v_pxKsP",
        "outputId": "d3a30153-44b5-432d-be1b-8a3612e462a6",
        "colab": {
          "base_uri": "https://localhost:8080/",
          "height": 238
        }
      },
      "execution_count": 50,
      "outputs": [
        {
          "output_type": "execute_result",
          "data": {
            "text/html": [
              "<div>\n",
              "<style scoped>\n",
              "    .dataframe tbody tr th:only-of-type {\n",
              "        vertical-align: middle;\n",
              "    }\n",
              "\n",
              "    .dataframe tbody tr th {\n",
              "        vertical-align: top;\n",
              "    }\n",
              "\n",
              "    .dataframe thead th {\n",
              "        text-align: right;\n",
              "    }\n",
              "</style>\n",
              "<table border=\"1\" class=\"dataframe\">\n",
              "  <thead>\n",
              "    <tr style=\"text-align: right;\">\n",
              "      <th></th>\n",
              "      <th>Training(min)</th>\n",
              "      <th>Evalution(min)</th>\n",
              "    </tr>\n",
              "    <tr>\n",
              "      <th>Models</th>\n",
              "      <th></th>\n",
              "      <th></th>\n",
              "    </tr>\n",
              "  </thead>\n",
              "  <tbody>\n",
              "    <tr>\n",
              "      <th>Bert</th>\n",
              "      <td>40.030757</td>\n",
              "      <td>2.429614</td>\n",
              "    </tr>\n",
              "    <tr>\n",
              "      <th>DistilBert</th>\n",
              "      <td>20.504260</td>\n",
              "      <td>1.976462</td>\n",
              "    </tr>\n",
              "    <tr>\n",
              "      <th>Roberta</th>\n",
              "      <td>39.350323</td>\n",
              "      <td>2.440891</td>\n",
              "    </tr>\n",
              "    <tr>\n",
              "      <th>Electra</th>\n",
              "      <td>11.444869</td>\n",
              "      <td>2.254161</td>\n",
              "    </tr>\n",
              "    <tr>\n",
              "      <th>MobileBert</th>\n",
              "      <td>27.126497</td>\n",
              "      <td>5.608185</td>\n",
              "    </tr>\n",
              "  </tbody>\n",
              "</table>\n",
              "</div>"
            ],
            "text/plain": [
              "            Training(min)   Evalution(min)\n",
              "Models                                    \n",
              "Bert             40.030757        2.429614\n",
              "DistilBert       20.504260        1.976462\n",
              "Roberta          39.350323        2.440891\n",
              "Electra          11.444869        2.254161\n",
              "MobileBert       27.126497        5.608185"
            ]
          },
          "metadata": {},
          "execution_count": 50
        }
      ]
    },
    {
      "cell_type": "code",
      "source": [
        "# MobileBert Model\n",
        "!mkdir /models/MobileBert\n",
        "!mkdir /models/MobileBert/MobileBertPreTrainedModel/\n",
        "!mkdir /models/MobileBert/MobileBertTokenizer/\n",
        "\n",
        "doTrainningModel('MobileBert',\n",
        "                 'google/mobilebert-uncased')"
      ],
      "metadata": {
        "id": "ifDb6Tqyymt-",
        "outputId": "15069fab-5396-4325-f103-d8511a6ad841",
        "colab": {
          "base_uri": "https://localhost:8080/",
          "height": 1000
        }
      },
      "execution_count": null,
      "outputs": [
        {
          "output_type": "stream",
          "name": "stdout",
          "text": [
            "mkdir: cannot create directory ‘/models/MobileBert’: File exists\n",
            "mkdir: cannot create directory ‘/models/MobileBert/MobileBertPreTrainedModel/’: File exists\n",
            "mkdir: cannot create directory ‘/models/MobileBert/MobileBertTokenizer/’: File exists\n"
          ]
        },
        {
          "output_type": "stream",
          "name": "stderr",
          "text": [
            "All model checkpoint layers were used when initializing TFMobileBertForSequenceClassification.\n",
            "\n",
            "Some layers of TFMobileBertForSequenceClassification were not initialized from the model checkpoint at google/mobilebert-uncased and are newly initialized: ['classifier']\n",
            "You should probably TRAIN this model on a down-stream task to be able to use it for predictions and inference.\n"
          ]
        },
        {
          "output_type": "stream",
          "name": "stdout",
          "text": [
            "Epoch 1/4\n"
          ]
        },
        {
          "output_type": "stream",
          "name": "stderr",
          "text": [
            "/usr/local/lib/python3.7/dist-packages/keras/engine/functional.py:559: UserWarning: Input dict contained keys ['token_type_ids'] which did not match any model input. They will be ignored by the model.\n",
            "  inputs = self._flatten_to_reference_inputs(inputs)\n"
          ]
        },
        {
          "output_type": "stream",
          "name": "stdout",
          "text": [
            "1000/1000 [==============================] - 436s 385ms/step - loss: 0.9735 - accuracy: 0.6456 - F1_Macro: 1.9570 - val_loss: 0.6256 - val_accuracy: 0.7680 - val_F1_Macro: 1.4507\n",
            "Epoch 2/4\n",
            "1000/1000 [==============================] - 373s 373ms/step - loss: 0.3724 - accuracy: 0.8788 - F1_Macro: 1.1663 - val_loss: 0.2573 - val_accuracy: 0.8970 - val_F1_Macro: 1.0505\n",
            "Epoch 3/4\n",
            "1000/1000 [==============================] - 373s 373ms/step - loss: 0.2677 - accuracy: 0.9158 - F1_Macro: 1.0627 - val_loss: 0.2862 - val_accuracy: 0.9085 - val_F1_Macro: 1.0535\n",
            "Epoch 4/4\n",
            "1000/1000 [==============================] - 371s 371ms/step - loss: 0.2358 - accuracy: 0.9237 - F1_Macro: 1.0628 - val_loss: 0.2362 - val_accuracy: 0.9190 - val_F1_Macro: 1.0267\n"
          ]
        },
        {
          "output_type": "display_data",
          "data": {
            "image/png": "[encoded data removed]",
            "text/plain": [
              "<Figure size 432x288 with 1 Axes>"
            ]
          },
          "metadata": {}
        },
        {
          "output_type": "display_data",
          "data": {
            "image/png": "[encoded data removed]",
            "text/plain": [
              "<Figure size 432x288 with 1 Axes>"
            ]
          },
          "metadata": {}
        },
        {
          "output_type": "stream",
          "name": "stdout",
          "text": [
            "The Model Saved\n",
            "The PreTrained Transformer Model Saved\n",
            "The Tokenizer Saved\n",
            "Model: \"model\"\n",
            "__________________________________________________________________________________________________\n",
            " Layer (type)                   Output Shape         Param #     Connected to                     \n",
            "==================================================================================================\n",
            " input_ids (InputLayer)         [(None, 275)]        0           []                               \n",
            "                                                                                                  \n",
            " attention_mask (InputLayer)    [(None, 275)]        0           []                               \n",
            "                                                                                                  \n",
            " tf_mobile_bert_for_sequence_cl  TFSequenceClassifie  24584966   ['input_ids[0][0]',              \n",
            " assification (TFMobileBertForS  rOutput(loss=None,               'attention_mask[0][0]']         \n",
            " equenceClassification)         logits=(None, 6),                                                 \n",
            "                                 hidden_states=None                                               \n",
            "                                , attentions=None)                                                \n",
            "                                                                                                  \n",
            " dense (Dense)                  (None, 1000)         7000        ['tf_mobile_bert_for_sequence_cla\n",
            "                                                                 ssification[0][0]']              \n",
            "                                                                                                  \n",
            " batch_normalization (BatchNorm  (None, 1000)        4000        ['dense[0][0]']                  \n",
            " alization)                                                                                       \n",
            "                                                                                                  \n",
            " outputs (Dense)                (None, 6)            6006        ['batch_normalization[0][0]']    \n",
            "                                                                                                  \n",
            "==================================================================================================\n",
            "Total params: 24,601,972\n",
            "Trainable params: 24,599,972\n",
            "Non-trainable params: 2,000\n",
            "__________________________________________________________________________________________________\n"
          ]
        },
        {
          "output_type": "display_data",
          "data": {
            "text/plain": [
              "<Figure size 432x288 with 0 Axes>"
            ]
          },
          "metadata": {}
        }
      ]
    },
    {
      "cell_type": "markdown",
      "source": [
        "# **Model Validation**"
      ],
      "metadata": {
        "id": "vR8LtfSPy7k0"
      }
    },
    {
      "cell_type": "code",
      "source": [
        "# !gcloud auth login\n",
        "# !gcloud config set project oval-tuner-326314\n",
        "!gsutil cp -r gs://emotion-models/* /models/\n"
      ],
      "metadata": {
        "id": "gjEdDMKLmSsa"
      },
      "execution_count": null,
      "outputs": []
    },
    {
      "cell_type": "code",
      "metadata": {
        "id": "CKD8bHS57tSr"
      },
      "source": [
        "class PredictEmotion:\n",
        "  def __init__(self,\n",
        "               modelName, \n",
        "               modelPath,\n",
        "               modelPreTrainedPath,\n",
        "               isTokenizerFast = False, \n",
        "               numLabels = 6,\n",
        "               thrushHold = 0.3):\n",
        "    self.modelPreTrainedPath = modelPreTrainedPath\n",
        "    self.modelName = modelName\n",
        "    self.modelPath = modelPath\n",
        "    self.isTokenizerFast = isTokenizerFast\n",
        "    self.numLabels = numLabels\n",
        "    self.model = self.MakeModelArchitecture()\n",
        "    self.loadModelWeights()\n",
        "    self.tokenizer = self.makeTokenizer()\n",
        "    self.spell = Speller(lang='en')\n",
        "    self.emotionTypes = ['anger', 'fear', 'joy', 'love', 'sadness', 'surprise','other']\n",
        "    self.thrushHold = thrushHold\n",
        "\n",
        "  def MakeModelArchitecture(self):\n",
        "    model = TFAutoModelForSequenceClassification.from_pretrained(self.modelPreTrainedPath, \n",
        "                                                                 local_files_only=True)\n",
        "\n",
        "    input_ids = tf.keras.layers.Input(shape=(200,),name=\"input_ids\", dtype='int32')\n",
        "    mask = tf.keras.layers.Input(shape=(200,),name=\"attention_mask\",dtype='int32')\n",
        "    embeddings = model(input_ids,attention_mask=mask)[0]\n",
        "    layer = tf.keras.layers.Dense(1000,activation='relu')(embeddings)\n",
        "    layer = tf.keras.layers.BatchNormalization()(layer)\n",
        "    outputLayer = tf.keras.layers.Dense(6,activation='softmax',name='outputs')(layer)\n",
        "    ModelArchitecture = tf.keras.Model(inputs=[input_ids,mask],outputs=outputLayer)\n",
        "    return ModelArchitecture\n",
        "\n",
        "  def loadModelWeights(self):\n",
        "    self.model.load_weights(self.modelPath)\n",
        "  \n",
        "  def makeTokenizer(self):\n",
        "    return AutoTokenizer.from_pretrained(self.modelName)\n",
        "  \n",
        "  def TextPrepration(self,text):\n",
        "    DecontractedText = contractions.fix(text)\n",
        "    # SpelledText = str(self.spell(DecontractedText))\n",
        "    textEncodings = self.tokenizer(DecontractedText,\n",
        "                            truncation=True, \n",
        "                            max_length = 200,\n",
        "                            padding=\"max_length\", \n",
        "                            return_tensors='tf')\n",
        "    return {\n",
        "      'input_ids': tf.cast(textEncodings['input_ids'],tf.int32),\n",
        "      'attention_mask': tf.cast(textEncodings['attention_mask'],tf.int32)}\n",
        "\n",
        "  def PredictTextEmotion(self,text):\n",
        "    prepratedText = self.TextPrepration(text)\n",
        "    emotion = self.model.predict(prepratedText) \n",
        "    predictedEmotion = np.argmax(emotion)\n",
        "    highestProb = emotion[0][predictedEmotion]\n",
        "    if highestProb < self.thrushHold:\n",
        "      return self.emotionTypes[len(self.emotionTypes)-1], self.thrushHold\n",
        "    else:\n",
        "      return self.emotionTypes[predictedEmotion],highestProb\n"
      ],
      "execution_count": 138,
      "outputs": []
    },
    {
      "cell_type": "code",
      "metadata": {
        "id": "j_6MFVJZ_z4B"
      },
      "source": [
        "def predictEmotionTestData(predict,testDataSet):\n",
        "  predictedLabels = []\n",
        "  startTime = time.time()\n",
        "  for i in testDataSet:\n",
        "    # print(i)\n",
        "    emotion,prob = predict.PredictTextEmotion(i)\n",
        "    predictedLabels.append(emotion)\n",
        "  endTime = time.time()\n",
        "  elapasedTime = (endTime-startTime)/60\n",
        "  return elapasedTime,predictedLabels\n"
      ],
      "execution_count": 52,
      "outputs": []
    },
    {
      "cell_type": "code",
      "source": [
        "def appendF1ModelScores(trueEmotionLabels,\n",
        "                        predictedEmotionLabels,\n",
        "                        F1ScoresDataFrame,\n",
        "                        AppendingModelName):\n",
        "  f1Report = classification_report(trueEmotionLabels, predictedEmotionLabels,output_dict=True)\n",
        "  f1_scores = pd.DataFrame(f1Report).transpose()\n",
        "  f1_scores = f1_scores.loc[:,['f1-score']]\n",
        "  if len(list(f1_scores['f1-score'][:])) == 10:\n",
        "    scores = np.delete((list(f1_scores['f1-score'][:])),4)\n",
        "  else:\n",
        "    scores = list(f1_scores['f1-score'][:])\n",
        "  F1ScoresDataFrame[AppendingModelName] = scores\n",
        "  return F1ScoresDataFrame"
      ],
      "metadata": {
        "id": "Y9MIIA-ld0av"
      },
      "execution_count": 246,
      "outputs": []
    },
    {
      "cell_type": "code",
      "source": [
        "# Source code credit for this function: https://gist.github.com/shaypal5/94c53d765083101efc0240d776a23823\n",
        "def print_confusion_matrix(confusion_matrix, \n",
        "                           class_names,\n",
        "                           ModelTitle,\n",
        "                           savePath = \"\" ,\n",
        "                           figsize = (10,7), \n",
        "                           fontsize=14):\n",
        "    \"\"\"Prints a confusion matrix, as returned by sklearn.metrics.confusion_matrix, as a heatmap.\n",
        "    \n",
        "    Arguments\n",
        "    ---------\n",
        "    confusion_matrix: numpy.ndarray\n",
        "        The numpy.ndarray object returned from a call to sklearn.metrics.confusion_matrix. \n",
        "        Similarly constructed ndarrays can also be used.\n",
        "    class_names: list\n",
        "        An ordered list of class names, in the order they index the given confusion matrix.\n",
        "    figsize: tuple\n",
        "        A 2-long tuple, the first value determining the horizontal size of the ouputted figure,\n",
        "        the second determining the vertical size. Defaults to (10,7).\n",
        "    fontsize: int\n",
        "        Font size for axes labels. Defaults to 14.\n",
        "        \n",
        "    Returns\n",
        "    -------\n",
        "    matplotlib.figure.Figure\n",
        "        The resulting confusion matrix figure\n",
        "    \"\"\"\n",
        "    df_cm = pd.DataFrame(\n",
        "        confusion_matrix, index=class_names, columns=class_names, \n",
        "    )\n",
        "    fig = plt.figure(figsize=figsize)\n",
        "    heatmap = sns.heatmap(df_cm, annot=True,cmap='coolwarm', linecolor='white', fmt=\"d\")\n",
        "    heatmap.yaxis.set_ticklabels(heatmap.yaxis.get_ticklabels(), rotation=0, ha='right', fontsize=fontsize)\n",
        "    heatmap.xaxis.set_ticklabels(heatmap.xaxis.get_ticklabels(), rotation=45, ha='right', fontsize=fontsize)\n",
        "    plt.ylabel('Truth')\n",
        "    plt.xlabel('Prediction')\n",
        "    plt.title(ModelTitle)\n",
        "    plt.savefig(savePath,format='eps')\n"
      ],
      "metadata": {
        "id": "XFW8CCKfGSql"
      },
      "execution_count": 103,
      "outputs": []
    },
    {
      "cell_type": "code",
      "source": [
        "F1ModelScores = pd.DataFrame(index=['anger', 'fear', 'joy', 'love' ,'sadness', 'surprise', 'accuracy',\n",
        "       'macro avg', 'weighted avg']).rename_axis('Emotion', axis=1)"
      ],
      "metadata": {
        "id": "130Mf55ZYMtY"
      },
      "execution_count": 184,
      "outputs": []
    },
    {
      "cell_type": "code",
      "source": [
        "labels = ['anger', 'fear', 'joy', 'love', 'sadness', 'surprise']\n",
        "testLabels = list(testData['Label'])"
      ],
      "metadata": {
        "id": "NuY6xu6zPXwN"
      },
      "execution_count": 188,
      "outputs": []
    },
    {
      "cell_type": "code",
      "source": [
        "threshHoldStats = pd.DataFrame(index=['30%','50%','70%']).rename_axis('Threshold', axis=1)"
      ],
      "metadata": {
        "id": "MN2DeDiBBqtn"
      },
      "execution_count": 162,
      "outputs": []
    },
    {
      "cell_type": "code",
      "source": [
        "def doThresholds(modelName,\n",
        "                 testData,\n",
        "                 testDataTrueLabels,\n",
        "                 Threshold):\n",
        "  predictClass = PredictEmotion('/models/'+modelName+'/'+modelName+'Tokenizer/',\n",
        "                              '/models/'+modelName+'/'+modelName+'Weights.h5',\n",
        "                              '/models/'+modelName+'/'+modelName+'PreTrainedModel/',\n",
        "                               thrushHold = Threshold)\n",
        "  elapasedTime,predVal = predictEmotionTestData(predictClass,testData)\n",
        "  f1Score = f1_score(testDataTrueLabels, predVal, average='macro')\n",
        "  return elapasedTime,predVal,f1Score\n",
        "  "
      ],
      "metadata": {
        "id": "q7owamU5CCWz"
      },
      "execution_count": 181,
      "outputs": []
    },
    {
      "cell_type": "code",
      "source": [
        "# Bert\n",
        "Bert_elapasedTime_30,Bert_predVal_30,Bert_f1Score_30= doThresholds('Bert',\n",
        "             list(testData['Text']),\n",
        "             list(testData['Label']),\n",
        "             0.3);\n",
        "Bert_elapasedTime_50,Bert_predVal_50,Bert_f1Score_50= doThresholds('Bert',\n",
        "             list(testData['Text']),\n",
        "             list(testData['Label']),\n",
        "             0.5);\n",
        "Bert_elapasedTime_70,Bert_predVal_70,Bert_f1Score_70= doThresholds('Bert',\n",
        "             list(testData['Text']),\n",
        "             list(testData['Label']),\n",
        "             0.7);\n",
        "#DistilBert\n",
        "\n",
        "DistilBert_elapasedTime_30,DistilBert_predVal_30,DistilBert_f1Score_30= doThresholds('DistilBert',\n",
        "             list(testData['Text']),\n",
        "             list(testData['Label']),\n",
        "             0.3);\n",
        "DistilBert_elapasedTime_50,DistilBert_predVal_50,DistilBert_f1Score_50= doThresholds('DistilBert',\n",
        "             list(testData['Text']),\n",
        "             list(testData['Label']),\n",
        "             0.5);\n",
        "DistilBert_elapasedTime_70,DistilBert_predVal_70,DistilBert_f1Score_70= doThresholds('DistilBert',\n",
        "             list(testData['Text']),\n",
        "             list(testData['Label']),\n",
        "             0.7);\n",
        "#Roberta\n",
        "\n",
        "Roberta_elapasedTime_30,Roberta_predVal_30,Roberta_f1Score_30= doThresholds('Roberta',\n",
        "             list(testData['Text']),\n",
        "             list(testData['Label']),\n",
        "             0.3);\n",
        "Roberta_elapasedTime_50,Roberta_predVal_50,Roberta_f1Score_50= doThresholds('Roberta',\n",
        "             list(testData['Text']),\n",
        "             list(testData['Label']),\n",
        "             0.5);\n",
        "Roberta_elapasedTime_70,Roberta_predVal_70,Roberta_f1Score_70= doThresholds('Roberta',\n",
        "             list(testData['Text']),\n",
        "             list(testData['Label']),\n",
        "             0.7);\n",
        "# MobileBert\n",
        "\n",
        "MobileBert_elapasedTime_30,MobileBert_predVal_30,MobileBert_f1Score_30= doThresholds('MobileBert',\n",
        "             list(testData['Text']),\n",
        "             list(testData['Label']),\n",
        "             0.3);\n",
        "MobileBert_elapasedTime_50,MobileBert_predVal_50,MobileBert_f1Score_50= doThresholds('MobileBert',\n",
        "             list(testData['Text']),\n",
        "             list(testData['Label']),\n",
        "             0.5);\n",
        "MobileBert_elapasedTime_70,MobileBert_predVal_70,MobileBert_f1Score_70= doThresholds('MobileBert',\n",
        "             list(testData['Text']),\n",
        "             list(testData['Label']),\n",
        "             0.7);\n",
        "\n",
        "# Electra\n",
        "\n",
        "Electra_elapasedTime_30,Electra_predVal_30,Electra_f1Score_30= doThresholds('Electra',\n",
        "             list(testData['Text']),\n",
        "             0.3);\n",
        "Electra_elapasedTime_50,Electra_predVal_50,Electra_f1Score_50= doThresholds('Electra',\n",
        "         list(testData['Text']),\n",
        "         0.5);\n",
        "Electra_elapasedTime_70,Electra_predVal_70,Electra_f1Score_70= doThresholds('Electra',\n",
        "             list(testData['Text']),\n",
        "             0.7);\n"
      ],
      "metadata": {
        "id": "7EnjPHRJGZGD"
      },
      "execution_count": null,
      "outputs": []
    },
    {
      "cell_type": "code",
      "source": [
        "threshHoldStats.loc['30%',['Bert']] = Bert_f1Score_30\n",
        "threshHoldStats.loc['50%',['Bert']] = Bert_f1Score_50\n",
        "threshHoldStats.loc['70%',['Bert']] = Bert_f1Score_70 \n",
        "\n",
        "\n",
        "threshHoldStats.loc['30%',['DistilBert']] = DistilBert_f1Score_30\n",
        "threshHoldStats.loc['50%',['DistilBert']] = DistilBert_f1Score_50\n",
        "threshHoldStats.loc['70%',['DistilBert']] = DistilBert_f1Score_70 \n",
        "\n",
        "threshHoldStats.loc['30%',['Roberta']] = Roberta_f1Score_30\n",
        "threshHoldStats.loc['50%',['Roberta']] = Roberta_f1Score_50\n",
        "threshHoldStats.loc['70%',['Roberta']] = Roberta_f1Score_70 \n",
        "\n",
        "threshHoldStats.loc['30%',['MobileBert']] = MobileBert_f1Score_30\n",
        "threshHoldStats.loc['50%',['MobileBert']] = MobileBert_f1Score_50\n",
        "threshHoldStats.loc['70%',['MobileBert']] = MobileBert_f1Score_70 \n",
        "\n",
        "threshHoldStats.loc['30%',['Electra']] = Electra_f1Score_30\n",
        "threshHoldStats.loc['50%',['Electra']] = Electra_f1Score_50\n",
        "threshHoldStats.loc['70%',['Electra']] = Electra_f1Score_70 \n",
        "\n",
        "threshHoldStats"
      ],
      "metadata": {
        "id": "0XyTYgRSWXn7",
        "outputId": "662b8feb-fb53-4e4f-d89a-2513d4e2fc82",
        "colab": {
          "base_uri": "https://localhost:8080/",
          "height": 143
        }
      },
      "execution_count": 180,
      "outputs": [
        {
          "output_type": "execute_result",
          "data": {
            "text/html": [
              "<div>\n",
              "<style scoped>\n",
              "    .dataframe tbody tr th:only-of-type {\n",
              "        vertical-align: middle;\n",
              "    }\n",
              "\n",
              "    .dataframe tbody tr th {\n",
              "        vertical-align: top;\n",
              "    }\n",
              "\n",
              "    .dataframe thead th {\n",
              "        text-align: right;\n",
              "    }\n",
              "</style>\n",
              "<table border=\"1\" class=\"dataframe\">\n",
              "  <thead>\n",
              "    <tr style=\"text-align: right;\">\n",
              "      <th>Threshold</th>\n",
              "      <th>Bert</th>\n",
              "      <th>DistilBert</th>\n",
              "      <th>Roberta</th>\n",
              "      <th>MobileBert</th>\n",
              "      <th>Electra</th>\n",
              "    </tr>\n",
              "  </thead>\n",
              "  <tbody>\n",
              "    <tr>\n",
              "      <th>30%</th>\n",
              "      <td>0.876667</td>\n",
              "      <td>0.762458</td>\n",
              "      <td>0.885596</td>\n",
              "      <td>0.843646</td>\n",
              "      <td>0.884108</td>\n",
              "    </tr>\n",
              "    <tr>\n",
              "      <th>50%</th>\n",
              "      <td>0.751766</td>\n",
              "      <td>0.763603</td>\n",
              "      <td>0.759902</td>\n",
              "      <td>0.722416</td>\n",
              "      <td>0.758544</td>\n",
              "    </tr>\n",
              "    <tr>\n",
              "      <th>70%</th>\n",
              "      <td>0.755193</td>\n",
              "      <td>0.759809</td>\n",
              "      <td>0.741410</td>\n",
              "      <td>0.653818</td>\n",
              "      <td>0.750997</td>\n",
              "    </tr>\n",
              "  </tbody>\n",
              "</table>\n",
              "</div>"
            ],
            "text/plain": [
              "Threshold      Bert  DistilBert   Roberta  MobileBert   Electra\n",
              "30%        0.876667    0.762458  0.885596    0.843646  0.884108\n",
              "50%        0.751766    0.763603  0.759902    0.722416  0.758544\n",
              "70%        0.755193    0.759809  0.741410    0.653818  0.750997"
            ]
          },
          "metadata": {},
          "execution_count": 180
        }
      ]
    },
    {
      "cell_type": "code",
      "metadata": {
        "id": "MXpiTn_kBgqW",
        "outputId": "2361fe24-c65d-49eb-d014-0c61f73412c9",
        "colab": {
          "base_uri": "https://localhost:8080/",
          "height": 499
        }
      },
      "source": [
        "# Bert Evalution\n",
        "timeData['Evalution(min)']['Bert'] = Bert_elapasedTime_30\n",
        "F1ModelScores = appendF1ModelScores(testLabels,\n",
        "                    Bert_predVal_30,\n",
        "                    F1ModelScores,\n",
        "                    'Bert')\n",
        "BertConfusionMatrix = confusion_matrix(testLabels,Bert_predVal_30) \n",
        "print_confusion_matrix(val,labels,'Bert Model Confusion Matrix','/models/Stats/BertConfusionMatrix.eps')\n"
      ],
      "execution_count": 214,
      "outputs": [
        {
          "output_type": "display_data",
          "data": {
            "image/png": "[encoded data removed]",
            "text/plain": [
              "<Figure size 720x504 with 2 Axes>"
            ]
          },
          "metadata": {}
        }
      ]
    },
    {
      "cell_type": "code",
      "source": [
        "# DistilBert Evalution\n",
        "timeData['Evalution(min)']['DistilBert'] = DistilBert_elapasedTime_30\n",
        "F1ModelScores = appendF1ModelScores(list(testData['Label']),\n",
        "                    DistilBert_predVal_30,\n",
        "                    F1ModelScores,\n",
        "                    'DistilBert')\n",
        "DistilBertConfusionMatrix = confusion_matrix(testLabels,DistilBert_predVal_30) \n",
        "print_confusion_matrix(DistilBertConfusionMatrix,labels[0:4]+['other']+[labels[4]]+[labels[5]],'DistilBert Model Confusion Matrix','/models/Stats/DistilBertConfusionMatrix.eps')"
      ],
      "metadata": {
        "id": "5Q7h1nuFuS93",
        "outputId": "6bab2d33-8931-47b7-d338-02d00116dcab",
        "colab": {
          "base_uri": "https://localhost:8080/",
          "height": 629
        }
      },
      "execution_count": 248,
      "outputs": [
        {
          "output_type": "stream",
          "name": "stderr",
          "text": [
            "/usr/local/lib/python3.7/dist-packages/sklearn/metrics/_classification.py:1308: UndefinedMetricWarning: Recall and F-score are ill-defined and being set to 0.0 in labels with no true samples. Use `zero_division` parameter to control this behavior.\n",
            "  _warn_prf(average, modifier, msg_start, len(result))\n",
            "/usr/local/lib/python3.7/dist-packages/sklearn/metrics/_classification.py:1308: UndefinedMetricWarning: Recall and F-score are ill-defined and being set to 0.0 in labels with no true samples. Use `zero_division` parameter to control this behavior.\n",
            "  _warn_prf(average, modifier, msg_start, len(result))\n",
            "/usr/local/lib/python3.7/dist-packages/sklearn/metrics/_classification.py:1308: UndefinedMetricWarning: Recall and F-score are ill-defined and being set to 0.0 in labels with no true samples. Use `zero_division` parameter to control this behavior.\n",
            "  _warn_prf(average, modifier, msg_start, len(result))\n"
          ]
        },
        {
          "output_type": "display_data",
          "data": {
            "image/png": "[encoded data removed]",
            "text/plain": [
              "<Figure size 720x504 with 2 Axes>"
            ]
          },
          "metadata": {}
        }
      ]
    },
    {
      "cell_type": "code",
      "source": [
        "# Electra Evalution\n",
        "timeData['Evalution(min)']['Electra'] = Electra_elapasedTime_30\n",
        "F1ModelScores = appendF1ModelScores(list(testData['Label']),\n",
        "                    Electra_predVal_30,\n",
        "                    F1ModelScores,\n",
        "                    'Electra')\n",
        "ElectraConfusionMatrix = confusion_matrix(testLabels,Electra_predVal_30) \n",
        "print_confusion_matrix(ElectraConfusionMatrix,labels,\n",
        "                       'Electra Model Confusion Matrix',\n",
        "                       '/models/Stats/ElectraConfusionMatrix.eps')\n"
      ],
      "metadata": {
        "colab": {
          "base_uri": "https://localhost:8080/",
          "height": 499
        },
        "id": "nXcV30ucfxUN",
        "outputId": "45ca45ca-1f73-4bba-8749-dac51be12496"
      },
      "execution_count": 249,
      "outputs": [
        {
          "output_type": "display_data",
          "data": {
            "image/png": "[encoded data removed]",
            "text/plain": [
              "<Figure size 720x504 with 2 Axes>"
            ]
          },
          "metadata": {}
        }
      ]
    },
    {
      "cell_type": "code",
      "source": [
        "# Roberta Evalution\n",
        "timeData['Evalution(min)']['Roberta'] = Roberta_elapasedTime_30\n",
        "F1ModelScores = appendF1ModelScores(list(testData['Label']),\n",
        "                    Roberta_predVal_30,\n",
        "                    F1ModelScores,\n",
        "                    'Roberta')\n",
        "RobertaConfusionMatrix = confusion_matrix(testLabels,Roberta_predVal_30) \n",
        "print_confusion_matrix(RobertaConfusionMatrix,labels,\n",
        "                       'Roberta Model Confusion Matrix',\n",
        "                       '/models/Stats/RobertaConfusionMatrix.eps')"
      ],
      "metadata": {
        "colab": {
          "base_uri": "https://localhost:8080/",
          "height": 499
        },
        "id": "ysDuyxZzgiQR",
        "outputId": "786ff966-ac77-41a1-f948-4bd3e958c2f4"
      },
      "execution_count": 250,
      "outputs": [
        {
          "output_type": "display_data",
          "data": {
            "image/png": "[encoded data removed]",
            "text/plain": [
              "<Figure size 720x504 with 2 Axes>"
            ]
          },
          "metadata": {}
        }
      ]
    },
    {
      "cell_type": "code",
      "source": [
        "# MobileBert Evalution\n",
        "timeData['Evalution(min)']['MobileBert'] = MobileBert_elapasedTime_30\n",
        "F1ModelScores = appendF1ModelScores(list(testData['Label']),\n",
        "                    MobileBert_predVal_30,\n",
        "                    F1ModelScores,\n",
        "                    'MobileBert')\n",
        "MobileBertConfusionMatrix = confusion_matrix(testLabels,MobileBert_predVal_30) \n",
        "print_confusion_matrix(MobileBertConfusionMatrix,labels,\n",
        "                       'MobileBert Model Confusion Matrix',\n",
        "                       '/models/Stats/MobileBertConfusionMatrix.eps')"
      ],
      "metadata": {
        "colab": {
          "base_uri": "https://localhost:8080/",
          "height": 499
        },
        "id": "dVI_e0z1hfFX",
        "outputId": "3723992a-0580-4ef2-abc6-319191bf1ded"
      },
      "execution_count": 251,
      "outputs": [
        {
          "output_type": "display_data",
          "data": {
            "image/png": "[encoded data removed]",
            "text/plain": [
              "<Figure size 720x504 with 2 Axes>"
            ]
          },
          "metadata": {}
        }
      ]
    },
    {
      "cell_type": "code",
      "source": [
        "timeData"
      ],
      "metadata": {
        "id": "jAky5lyPoZ68",
        "outputId": "857cffe4-2a21-46bb-c0a9-2c77976ac1fa",
        "colab": {
          "base_uri": "https://localhost:8080/",
          "height": 238
        }
      },
      "execution_count": 252,
      "outputs": [
        {
          "output_type": "execute_result",
          "data": {
            "text/html": [
              "<div>\n",
              "<style scoped>\n",
              "    .dataframe tbody tr th:only-of-type {\n",
              "        vertical-align: middle;\n",
              "    }\n",
              "\n",
              "    .dataframe tbody tr th {\n",
              "        vertical-align: top;\n",
              "    }\n",
              "\n",
              "    .dataframe thead th {\n",
              "        text-align: right;\n",
              "    }\n",
              "</style>\n",
              "<table border=\"1\" class=\"dataframe\">\n",
              "  <thead>\n",
              "    <tr style=\"text-align: right;\">\n",
              "      <th></th>\n",
              "      <th>Training(min)</th>\n",
              "      <th>Evalution(min)</th>\n",
              "    </tr>\n",
              "    <tr>\n",
              "      <th>Models</th>\n",
              "      <th></th>\n",
              "      <th></th>\n",
              "    </tr>\n",
              "  </thead>\n",
              "  <tbody>\n",
              "    <tr>\n",
              "      <th>Bert</th>\n",
              "      <td>40.030757</td>\n",
              "      <td>2.950655</td>\n",
              "    </tr>\n",
              "    <tr>\n",
              "      <th>DistilBert</th>\n",
              "      <td>20.504260</td>\n",
              "      <td>2.414329</td>\n",
              "    </tr>\n",
              "    <tr>\n",
              "      <th>Roberta</th>\n",
              "      <td>39.350323</td>\n",
              "      <td>2.994889</td>\n",
              "    </tr>\n",
              "    <tr>\n",
              "      <th>Electra</th>\n",
              "      <td>11.444869</td>\n",
              "      <td>2.974098</td>\n",
              "    </tr>\n",
              "    <tr>\n",
              "      <th>MobileBert</th>\n",
              "      <td>27.126497</td>\n",
              "      <td>7.924470</td>\n",
              "    </tr>\n",
              "  </tbody>\n",
              "</table>\n",
              "</div>"
            ],
            "text/plain": [
              "            Training(min)   Evalution(min)\n",
              "Models                                    \n",
              "Bert             40.030757        2.950655\n",
              "DistilBert       20.504260        2.414329\n",
              "Roberta          39.350323        2.994889\n",
              "Electra          11.444869        2.974098\n",
              "MobileBert       27.126497        7.924470"
            ]
          },
          "metadata": {},
          "execution_count": 252
        }
      ]
    },
    {
      "cell_type": "code",
      "source": [
        "F1ModelScores"
      ],
      "metadata": {
        "id": "QcHnRl76ogQX",
        "outputId": "e9ab39c7-ad2e-479d-f2eb-084dc2140864",
        "colab": {
          "base_uri": "https://localhost:8080/",
          "height": 332
        }
      },
      "execution_count": 253,
      "outputs": [
        {
          "output_type": "execute_result",
          "data": {
            "text/html": [
              "<div>\n",
              "<style scoped>\n",
              "    .dataframe tbody tr th:only-of-type {\n",
              "        vertical-align: middle;\n",
              "    }\n",
              "\n",
              "    .dataframe tbody tr th {\n",
              "        vertical-align: top;\n",
              "    }\n",
              "\n",
              "    .dataframe thead th {\n",
              "        text-align: right;\n",
              "    }\n",
              "</style>\n",
              "<table border=\"1\" class=\"dataframe\">\n",
              "  <thead>\n",
              "    <tr style=\"text-align: right;\">\n",
              "      <th>Emotion</th>\n",
              "      <th>Bert</th>\n",
              "      <th>DistilBert</th>\n",
              "      <th>Electra</th>\n",
              "      <th>Roberta</th>\n",
              "      <th>MobileBert</th>\n",
              "    </tr>\n",
              "  </thead>\n",
              "  <tbody>\n",
              "    <tr>\n",
              "      <th>anger</th>\n",
              "      <td>0.933566</td>\n",
              "      <td>0.927757</td>\n",
              "      <td>0.934708</td>\n",
              "      <td>0.914485</td>\n",
              "      <td>0.917563</td>\n",
              "    </tr>\n",
              "    <tr>\n",
              "      <th>fear</th>\n",
              "      <td>0.869159</td>\n",
              "      <td>0.918239</td>\n",
              "      <td>0.887872</td>\n",
              "      <td>0.892523</td>\n",
              "      <td>0.892704</td>\n",
              "    </tr>\n",
              "    <tr>\n",
              "      <th>joy</th>\n",
              "      <td>0.949202</td>\n",
              "      <td>0.949610</td>\n",
              "      <td>0.944611</td>\n",
              "      <td>0.935178</td>\n",
              "      <td>0.947961</td>\n",
              "    </tr>\n",
              "    <tr>\n",
              "      <th>love</th>\n",
              "      <td>0.825301</td>\n",
              "      <td>0.791809</td>\n",
              "      <td>0.842105</td>\n",
              "      <td>0.848315</td>\n",
              "      <td>0.767677</td>\n",
              "    </tr>\n",
              "    <tr>\n",
              "      <th>sadness</th>\n",
              "      <td>0.969486</td>\n",
              "      <td>0.963466</td>\n",
              "      <td>0.966783</td>\n",
              "      <td>0.948879</td>\n",
              "      <td>0.955326</td>\n",
              "    </tr>\n",
              "    <tr>\n",
              "      <th>surprise</th>\n",
              "      <td>0.713287</td>\n",
              "      <td>0.786325</td>\n",
              "      <td>0.728571</td>\n",
              "      <td>0.774194</td>\n",
              "      <td>0.580645</td>\n",
              "    </tr>\n",
              "    <tr>\n",
              "      <th>accuracy</th>\n",
              "      <td>0.925500</td>\n",
              "      <td>0.930500</td>\n",
              "      <td>0.926500</td>\n",
              "      <td>0.917500</td>\n",
              "      <td>0.917500</td>\n",
              "    </tr>\n",
              "    <tr>\n",
              "      <th>macro avg</th>\n",
              "      <td>0.876667</td>\n",
              "      <td>0.762458</td>\n",
              "      <td>0.884108</td>\n",
              "      <td>0.885596</td>\n",
              "      <td>0.843646</td>\n",
              "    </tr>\n",
              "    <tr>\n",
              "      <th>weighted avg</th>\n",
              "      <td>0.926344</td>\n",
              "      <td>0.929183</td>\n",
              "      <td>0.928057</td>\n",
              "      <td>0.919318</td>\n",
              "      <td>0.913278</td>\n",
              "    </tr>\n",
              "  </tbody>\n",
              "</table>\n",
              "</div>"
            ],
            "text/plain": [
              "Emotion           Bert  DistilBert   Electra   Roberta  MobileBert\n",
              "anger         0.933566    0.927757  0.934708  0.914485    0.917563\n",
              "fear          0.869159    0.918239  0.887872  0.892523    0.892704\n",
              "joy           0.949202    0.949610  0.944611  0.935178    0.947961\n",
              "love          0.825301    0.791809  0.842105  0.848315    0.767677\n",
              "sadness       0.969486    0.963466  0.966783  0.948879    0.955326\n",
              "surprise      0.713287    0.786325  0.728571  0.774194    0.580645\n",
              "accuracy      0.925500    0.930500  0.926500  0.917500    0.917500\n",
              "macro avg     0.876667    0.762458  0.884108  0.885596    0.843646\n",
              "weighted avg  0.926344    0.929183  0.928057  0.919318    0.913278"
            ]
          },
          "metadata": {},
          "execution_count": 253
        }
      ]
    },
    {
      "cell_type": "code",
      "source": [
        "F1ModelScores"
      ],
      "metadata": {
        "id": "5ofOgAhmnJMv",
        "outputId": "d6712565-4a13-4561-c6e7-1507448c3dfe",
        "colab": {
          "base_uri": "https://localhost:8080/",
          "height": 332
        }
      },
      "execution_count": 30,
      "outputs": [
        {
          "output_type": "execute_result",
          "data": {
            "text/html": [
              "<div>\n",
              "<style scoped>\n",
              "    .dataframe tbody tr th:only-of-type {\n",
              "        vertical-align: middle;\n",
              "    }\n",
              "\n",
              "    .dataframe tbody tr th {\n",
              "        vertical-align: top;\n",
              "    }\n",
              "\n",
              "    .dataframe thead th {\n",
              "        text-align: right;\n",
              "    }\n",
              "</style>\n",
              "<table border=\"1\" class=\"dataframe\">\n",
              "  <thead>\n",
              "    <tr style=\"text-align: right;\">\n",
              "      <th>Emotion</th>\n",
              "      <th>Bert</th>\n",
              "    </tr>\n",
              "  </thead>\n",
              "  <tbody>\n",
              "    <tr>\n",
              "      <th>anger</th>\n",
              "      <td>0.933566</td>\n",
              "    </tr>\n",
              "    <tr>\n",
              "      <th>fear</th>\n",
              "      <td>0.869159</td>\n",
              "    </tr>\n",
              "    <tr>\n",
              "      <th>joy</th>\n",
              "      <td>0.949202</td>\n",
              "    </tr>\n",
              "    <tr>\n",
              "      <th>love</th>\n",
              "      <td>0.825301</td>\n",
              "    </tr>\n",
              "    <tr>\n",
              "      <th>sadness</th>\n",
              "      <td>0.969486</td>\n",
              "    </tr>\n",
              "    <tr>\n",
              "      <th>surprise</th>\n",
              "      <td>0.713287</td>\n",
              "    </tr>\n",
              "    <tr>\n",
              "      <th>accuracy</th>\n",
              "      <td>0.925500</td>\n",
              "    </tr>\n",
              "    <tr>\n",
              "      <th>macro avg</th>\n",
              "      <td>0.876667</td>\n",
              "    </tr>\n",
              "    <tr>\n",
              "      <th>weighted avg</th>\n",
              "      <td>0.926344</td>\n",
              "    </tr>\n",
              "  </tbody>\n",
              "</table>\n",
              "</div>"
            ],
            "text/plain": [
              "Emotion           Bert\n",
              "anger         0.933566\n",
              "fear          0.869159\n",
              "joy           0.949202\n",
              "love          0.825301\n",
              "sadness       0.969486\n",
              "surprise      0.713287\n",
              "accuracy      0.925500\n",
              "macro avg     0.876667\n",
              "weighted avg  0.926344"
            ]
          },
          "metadata": {},
          "execution_count": 30
        }
      ]
    },
    {
      "cell_type": "code",
      "metadata": {
        "id": "4VzLO6qPErKP"
      },
      "source": [
        "F1ModelScores.to_csv('/models/Stats/ModelPerformance.csv',index=True,index_label='Emotion')\n",
        "timeData.to_csv('/models/Stats/TimeData.csv',index=True,index_label='Models')\n",
        "threshHoldStats.to_csv('/models/Stats/ThreshHoldStats.csv',index=True,index_label='Threshold')"
      ],
      "execution_count": 254,
      "outputs": []
    },
    {
      "cell_type": "code",
      "source": [
        "timeData\n",
        "13550342-124650246"
      ],
      "metadata": {
        "id": "qQNDb5u6nKxx",
        "outputId": "91fa6343-06a7-42d3-f82b-efaf9e40ef46",
        "colab": {
          "base_uri": "https://localhost:8080/"
        }
      },
      "execution_count": 40,
      "outputs": [
        {
          "output_type": "execute_result",
          "data": {
            "text/plain": [
              "-111099904"
            ]
          },
          "metadata": {},
          "execution_count": 40
        }
      ]
    },
    {
      "cell_type": "code",
      "metadata": {
        "id": "8O1Z4PZ8_zED",
        "outputId": "924060eb-bc56-43bd-ed78-4b2475b8b01b",
        "colab": {
          "base_uri": "https://localhost:8080/"
        }
      },
      "source": [
        "!gsutil cp -r /models/Stats/* gs://emotion-models/Stats/"
      ],
      "execution_count": null,
      "outputs": [
        {
          "output_type": "stream",
          "name": "stdout",
          "text": [
            "Copying file:///models/Stats/ModelPerformance.csv [Content-Type=text/csv]...\n",
            "Copying file:///models/Stats/TimeData.csv [Content-Type=text/csv]...\n",
            "/ [2 files][  1.2 KiB/  1.2 KiB]                                                \n",
            "Operation completed over 2 objects/1.2 KiB.                                      \n"
          ]
        }
      ]
    }
  ]
}