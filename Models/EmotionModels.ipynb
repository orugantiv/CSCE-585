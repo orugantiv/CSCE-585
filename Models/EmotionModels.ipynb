{
  "nbformat": 4,
  "nbformat_minor": 0,
  "metadata": {
    "orig_nbformat": 4,
    "colab": {
      "name": "EmotionModels.ipynb",
      "provenance": []
    },
    "language_info": {
      "name": "python"
    },
    "kernelspec": {
      "name": "python3",
      "display_name": "Python 3"
    },
    "accelerator": "GPU",
    "widgets": {
      "application/vnd.jupyter.widget-state+json": {
        "368a9849d1f245a49738a2bcc2dcd4e2": {
          "model_module": "@jupyter-widgets/controls",
          "model_name": "HBoxModel",
          "model_module_version": "1.5.0",
          "state": {
            "_view_name": "HBoxView",
            "_dom_classes": [],
            "_model_name": "HBoxModel",
            "_view_module": "@jupyter-widgets/controls",
            "_model_module_version": "1.5.0",
            "_view_count": null,
            "_view_module_version": "1.5.0",
            "box_style": "",
            "layout": "IPY_MODEL_089afe9b928341b5bfcdac855c57a11d",
            "_model_module": "@jupyter-widgets/controls",
            "children": [
              "IPY_MODEL_f1e3704cb00040e38b9eee9ffbba47a4",
              "IPY_MODEL_ad97462c4e9843e188022c669388efc2",
              "IPY_MODEL_081c7ea5aefe4f6eb78534ef8bb3a101"
            ]
          }
        },
        "089afe9b928341b5bfcdac855c57a11d": {
          "model_module": "@jupyter-widgets/base",
          "model_name": "LayoutModel",
          "model_module_version": "1.2.0",
          "state": {
            "_view_name": "LayoutView",
            "grid_template_rows": null,
            "right": null,
            "justify_content": null,
            "_view_module": "@jupyter-widgets/base",
            "overflow": null,
            "_model_module_version": "1.2.0",
            "_view_count": null,
            "flex_flow": null,
            "width": null,
            "min_width": null,
            "border": null,
            "align_items": null,
            "bottom": null,
            "_model_module": "@jupyter-widgets/base",
            "top": null,
            "grid_column": null,
            "overflow_y": null,
            "overflow_x": null,
            "grid_auto_flow": null,
            "grid_area": null,
            "grid_template_columns": null,
            "flex": null,
            "_model_name": "LayoutModel",
            "justify_items": null,
            "grid_row": null,
            "max_height": null,
            "align_content": null,
            "visibility": null,
            "align_self": null,
            "height": null,
            "min_height": null,
            "padding": null,
            "grid_auto_rows": null,
            "grid_gap": null,
            "max_width": null,
            "order": null,
            "_view_module_version": "1.2.0",
            "grid_template_areas": null,
            "object_position": null,
            "object_fit": null,
            "grid_auto_columns": null,
            "margin": null,
            "display": null,
            "left": null
          }
        },
        "f1e3704cb00040e38b9eee9ffbba47a4": {
          "model_module": "@jupyter-widgets/controls",
          "model_name": "HTMLModel",
          "model_module_version": "1.5.0",
          "state": {
            "_view_name": "HTMLView",
            "style": "IPY_MODEL_8e58d80f7cec440abe4c16f4018d5f66",
            "_dom_classes": [],
            "description": "",
            "_model_name": "HTMLModel",
            "placeholder": "​",
            "_view_module": "@jupyter-widgets/controls",
            "_model_module_version": "1.5.0",
            "value": "Downloading: 100%",
            "_view_count": null,
            "_view_module_version": "1.5.0",
            "description_tooltip": null,
            "_model_module": "@jupyter-widgets/controls",
            "layout": "IPY_MODEL_487ecfc8b1f54328b9a932acfb288cd8"
          }
        },
        "ad97462c4e9843e188022c669388efc2": {
          "model_module": "@jupyter-widgets/controls",
          "model_name": "FloatProgressModel",
          "model_module_version": "1.5.0",
          "state": {
            "_view_name": "ProgressView",
            "style": "IPY_MODEL_e658143e1520462eb391b826d900f0f6",
            "_dom_classes": [],
            "description": "",
            "_model_name": "FloatProgressModel",
            "bar_style": "success",
            "max": 28,
            "_view_module": "@jupyter-widgets/controls",
            "_model_module_version": "1.5.0",
            "value": 28,
            "_view_count": null,
            "_view_module_version": "1.5.0",
            "orientation": "horizontal",
            "min": 0,
            "description_tooltip": null,
            "_model_module": "@jupyter-widgets/controls",
            "layout": "IPY_MODEL_5e5fc0e350654a129db5c400c836dd71"
          }
        },
        "081c7ea5aefe4f6eb78534ef8bb3a101": {
          "model_module": "@jupyter-widgets/controls",
          "model_name": "HTMLModel",
          "model_module_version": "1.5.0",
          "state": {
            "_view_name": "HTMLView",
            "style": "IPY_MODEL_4f4074e9d4cf4ea9a2663bdba9dece33",
            "_dom_classes": [],
            "description": "",
            "_model_name": "HTMLModel",
            "placeholder": "​",
            "_view_module": "@jupyter-widgets/controls",
            "_model_module_version": "1.5.0",
            "value": " 28.0/28.0 [00:00&lt;00:00, 523B/s]",
            "_view_count": null,
            "_view_module_version": "1.5.0",
            "description_tooltip": null,
            "_model_module": "@jupyter-widgets/controls",
            "layout": "IPY_MODEL_6d4eaa4d3da84beca5a3652cd285667d"
          }
        },
        "8e58d80f7cec440abe4c16f4018d5f66": {
          "model_module": "@jupyter-widgets/controls",
          "model_name": "DescriptionStyleModel",
          "model_module_version": "1.5.0",
          "state": {
            "_view_name": "StyleView",
            "_model_name": "DescriptionStyleModel",
            "description_width": "",
            "_view_module": "@jupyter-widgets/base",
            "_model_module_version": "1.5.0",
            "_view_count": null,
            "_view_module_version": "1.2.0",
            "_model_module": "@jupyter-widgets/controls"
          }
        },
        "487ecfc8b1f54328b9a932acfb288cd8": {
          "model_module": "@jupyter-widgets/base",
          "model_name": "LayoutModel",
          "model_module_version": "1.2.0",
          "state": {
            "_view_name": "LayoutView",
            "grid_template_rows": null,
            "right": null,
            "justify_content": null,
            "_view_module": "@jupyter-widgets/base",
            "overflow": null,
            "_model_module_version": "1.2.0",
            "_view_count": null,
            "flex_flow": null,
            "width": null,
            "min_width": null,
            "border": null,
            "align_items": null,
            "bottom": null,
            "_model_module": "@jupyter-widgets/base",
            "top": null,
            "grid_column": null,
            "overflow_y": null,
            "overflow_x": null,
            "grid_auto_flow": null,
            "grid_area": null,
            "grid_template_columns": null,
            "flex": null,
            "_model_name": "LayoutModel",
            "justify_items": null,
            "grid_row": null,
            "max_height": null,
            "align_content": null,
            "visibility": null,
            "align_self": null,
            "height": null,
            "min_height": null,
            "padding": null,
            "grid_auto_rows": null,
            "grid_gap": null,
            "max_width": null,
            "order": null,
            "_view_module_version": "1.2.0",
            "grid_template_areas": null,
            "object_position": null,
            "object_fit": null,
            "grid_auto_columns": null,
            "margin": null,
            "display": null,
            "left": null
          }
        },
        "e658143e1520462eb391b826d900f0f6": {
          "model_module": "@jupyter-widgets/controls",
          "model_name": "ProgressStyleModel",
          "model_module_version": "1.5.0",
          "state": {
            "_view_name": "StyleView",
            "_model_name": "ProgressStyleModel",
            "description_width": "",
            "_view_module": "@jupyter-widgets/base",
            "_model_module_version": "1.5.0",
            "_view_count": null,
            "_view_module_version": "1.2.0",
            "bar_color": null,
            "_model_module": "@jupyter-widgets/controls"
          }
        },
        "5e5fc0e350654a129db5c400c836dd71": {
          "model_module": "@jupyter-widgets/base",
          "model_name": "LayoutModel",
          "model_module_version": "1.2.0",
          "state": {
            "_view_name": "LayoutView",
            "grid_template_rows": null,
            "right": null,
            "justify_content": null,
            "_view_module": "@jupyter-widgets/base",
            "overflow": null,
            "_model_module_version": "1.2.0",
            "_view_count": null,
            "flex_flow": null,
            "width": null,
            "min_width": null,
            "border": null,
            "align_items": null,
            "bottom": null,
            "_model_module": "@jupyter-widgets/base",
            "top": null,
            "grid_column": null,
            "overflow_y": null,
            "overflow_x": null,
            "grid_auto_flow": null,
            "grid_area": null,
            "grid_template_columns": null,
            "flex": null,
            "_model_name": "LayoutModel",
            "justify_items": null,
            "grid_row": null,
            "max_height": null,
            "align_content": null,
            "visibility": null,
            "align_self": null,
            "height": null,
            "min_height": null,
            "padding": null,
            "grid_auto_rows": null,
            "grid_gap": null,
            "max_width": null,
            "order": null,
            "_view_module_version": "1.2.0",
            "grid_template_areas": null,
            "object_position": null,
            "object_fit": null,
            "grid_auto_columns": null,
            "margin": null,
            "display": null,
            "left": null
          }
        },
        "4f4074e9d4cf4ea9a2663bdba9dece33": {
          "model_module": "@jupyter-widgets/controls",
          "model_name": "DescriptionStyleModel",
          "model_module_version": "1.5.0",
          "state": {
            "_view_name": "StyleView",
            "_model_name": "DescriptionStyleModel",
            "description_width": "",
            "_view_module": "@jupyter-widgets/base",
            "_model_module_version": "1.5.0",
            "_view_count": null,
            "_view_module_version": "1.2.0",
            "_model_module": "@jupyter-widgets/controls"
          }
        },
        "6d4eaa4d3da84beca5a3652cd285667d": {
          "model_module": "@jupyter-widgets/base",
          "model_name": "LayoutModel",
          "model_module_version": "1.2.0",
          "state": {
            "_view_name": "LayoutView",
            "grid_template_rows": null,
            "right": null,
            "justify_content": null,
            "_view_module": "@jupyter-widgets/base",
            "overflow": null,
            "_model_module_version": "1.2.0",
            "_view_count": null,
            "flex_flow": null,
            "width": null,
            "min_width": null,
            "border": null,
            "align_items": null,
            "bottom": null,
            "_model_module": "@jupyter-widgets/base",
            "top": null,
            "grid_column": null,
            "overflow_y": null,
            "overflow_x": null,
            "grid_auto_flow": null,
            "grid_area": null,
            "grid_template_columns": null,
            "flex": null,
            "_model_name": "LayoutModel",
            "justify_items": null,
            "grid_row": null,
            "max_height": null,
            "align_content": null,
            "visibility": null,
            "align_self": null,
            "height": null,
            "min_height": null,
            "padding": null,
            "grid_auto_rows": null,
            "grid_gap": null,
            "max_width": null,
            "order": null,
            "_view_module_version": "1.2.0",
            "grid_template_areas": null,
            "object_position": null,
            "object_fit": null,
            "grid_auto_columns": null,
            "margin": null,
            "display": null,
            "left": null
          }
        },
        "26ab4e6f5f434d8aa8565e4c69206ec1": {
          "model_module": "@jupyter-widgets/controls",
          "model_name": "HBoxModel",
          "model_module_version": "1.5.0",
          "state": {
            "_view_name": "HBoxView",
            "_dom_classes": [],
            "_model_name": "HBoxModel",
            "_view_module": "@jupyter-widgets/controls",
            "_model_module_version": "1.5.0",
            "_view_count": null,
            "_view_module_version": "1.5.0",
            "box_style": "",
            "layout": "IPY_MODEL_fc0d172764cb45ef90922b77e164a96c",
            "_model_module": "@jupyter-widgets/controls",
            "children": [
              "IPY_MODEL_7e641590ccaa4613b5479f980bf51984",
              "IPY_MODEL_df657f929c1b4cafb09ad8fbf7edafb6",
              "IPY_MODEL_a4c5787ceda645638c8d2cffb264cd1d"
            ]
          }
        },
        "fc0d172764cb45ef90922b77e164a96c": {
          "model_module": "@jupyter-widgets/base",
          "model_name": "LayoutModel",
          "model_module_version": "1.2.0",
          "state": {
            "_view_name": "LayoutView",
            "grid_template_rows": null,
            "right": null,
            "justify_content": null,
            "_view_module": "@jupyter-widgets/base",
            "overflow": null,
            "_model_module_version": "1.2.0",
            "_view_count": null,
            "flex_flow": null,
            "width": null,
            "min_width": null,
            "border": null,
            "align_items": null,
            "bottom": null,
            "_model_module": "@jupyter-widgets/base",
            "top": null,
            "grid_column": null,
            "overflow_y": null,
            "overflow_x": null,
            "grid_auto_flow": null,
            "grid_area": null,
            "grid_template_columns": null,
            "flex": null,
            "_model_name": "LayoutModel",
            "justify_items": null,
            "grid_row": null,
            "max_height": null,
            "align_content": null,
            "visibility": null,
            "align_self": null,
            "height": null,
            "min_height": null,
            "padding": null,
            "grid_auto_rows": null,
            "grid_gap": null,
            "max_width": null,
            "order": null,
            "_view_module_version": "1.2.0",
            "grid_template_areas": null,
            "object_position": null,
            "object_fit": null,
            "grid_auto_columns": null,
            "margin": null,
            "display": null,
            "left": null
          }
        },
        "7e641590ccaa4613b5479f980bf51984": {
          "model_module": "@jupyter-widgets/controls",
          "model_name": "HTMLModel",
          "model_module_version": "1.5.0",
          "state": {
            "_view_name": "HTMLView",
            "style": "IPY_MODEL_beac918577374f4d91815f7ece6214e5",
            "_dom_classes": [],
            "description": "",
            "_model_name": "HTMLModel",
            "placeholder": "​",
            "_view_module": "@jupyter-widgets/controls",
            "_model_module_version": "1.5.0",
            "value": "Downloading: 100%",
            "_view_count": null,
            "_view_module_version": "1.5.0",
            "description_tooltip": null,
            "_model_module": "@jupyter-widgets/controls",
            "layout": "IPY_MODEL_fe47d3a8734f496ea7e0a0a4417fb11d"
          }
        },
        "df657f929c1b4cafb09ad8fbf7edafb6": {
          "model_module": "@jupyter-widgets/controls",
          "model_name": "FloatProgressModel",
          "model_module_version": "1.5.0",
          "state": {
            "_view_name": "ProgressView",
            "style": "IPY_MODEL_d6715c511dcc46a58d03953971a99f00",
            "_dom_classes": [],
            "description": "",
            "_model_name": "FloatProgressModel",
            "bar_style": "success",
            "max": 483,
            "_view_module": "@jupyter-widgets/controls",
            "_model_module_version": "1.5.0",
            "value": 483,
            "_view_count": null,
            "_view_module_version": "1.5.0",
            "orientation": "horizontal",
            "min": 0,
            "description_tooltip": null,
            "_model_module": "@jupyter-widgets/controls",
            "layout": "IPY_MODEL_e7a0410846894f38beff7b1842ed38c3"
          }
        },
        "a4c5787ceda645638c8d2cffb264cd1d": {
          "model_module": "@jupyter-widgets/controls",
          "model_name": "HTMLModel",
          "model_module_version": "1.5.0",
          "state": {
            "_view_name": "HTMLView",
            "style": "IPY_MODEL_12ff639593c743b79be3d663cf629c17",
            "_dom_classes": [],
            "description": "",
            "_model_name": "HTMLModel",
            "placeholder": "​",
            "_view_module": "@jupyter-widgets/controls",
            "_model_module_version": "1.5.0",
            "value": " 483/483 [00:00&lt;00:00, 12.7kB/s]",
            "_view_count": null,
            "_view_module_version": "1.5.0",
            "description_tooltip": null,
            "_model_module": "@jupyter-widgets/controls",
            "layout": "IPY_MODEL_6c33c94da79342ee85e82eb72b0751b0"
          }
        },
        "beac918577374f4d91815f7ece6214e5": {
          "model_module": "@jupyter-widgets/controls",
          "model_name": "DescriptionStyleModel",
          "model_module_version": "1.5.0",
          "state": {
            "_view_name": "StyleView",
            "_model_name": "DescriptionStyleModel",
            "description_width": "",
            "_view_module": "@jupyter-widgets/base",
            "_model_module_version": "1.5.0",
            "_view_count": null,
            "_view_module_version": "1.2.0",
            "_model_module": "@jupyter-widgets/controls"
          }
        },
        "fe47d3a8734f496ea7e0a0a4417fb11d": {
          "model_module": "@jupyter-widgets/base",
          "model_name": "LayoutModel",
          "model_module_version": "1.2.0",
          "state": {
            "_view_name": "LayoutView",
            "grid_template_rows": null,
            "right": null,
            "justify_content": null,
            "_view_module": "@jupyter-widgets/base",
            "overflow": null,
            "_model_module_version": "1.2.0",
            "_view_count": null,
            "flex_flow": null,
            "width": null,
            "min_width": null,
            "border": null,
            "align_items": null,
            "bottom": null,
            "_model_module": "@jupyter-widgets/base",
            "top": null,
            "grid_column": null,
            "overflow_y": null,
            "overflow_x": null,
            "grid_auto_flow": null,
            "grid_area": null,
            "grid_template_columns": null,
            "flex": null,
            "_model_name": "LayoutModel",
            "justify_items": null,
            "grid_row": null,
            "max_height": null,
            "align_content": null,
            "visibility": null,
            "align_self": null,
            "height": null,
            "min_height": null,
            "padding": null,
            "grid_auto_rows": null,
            "grid_gap": null,
            "max_width": null,
            "order": null,
            "_view_module_version": "1.2.0",
            "grid_template_areas": null,
            "object_position": null,
            "object_fit": null,
            "grid_auto_columns": null,
            "margin": null,
            "display": null,
            "left": null
          }
        },
        "d6715c511dcc46a58d03953971a99f00": {
          "model_module": "@jupyter-widgets/controls",
          "model_name": "ProgressStyleModel",
          "model_module_version": "1.5.0",
          "state": {
            "_view_name": "StyleView",
            "_model_name": "ProgressStyleModel",
            "description_width": "",
            "_view_module": "@jupyter-widgets/base",
            "_model_module_version": "1.5.0",
            "_view_count": null,
            "_view_module_version": "1.2.0",
            "bar_color": null,
            "_model_module": "@jupyter-widgets/controls"
          }
        },
        "e7a0410846894f38beff7b1842ed38c3": {
          "model_module": "@jupyter-widgets/base",
          "model_name": "LayoutModel",
          "model_module_version": "1.2.0",
          "state": {
            "_view_name": "LayoutView",
            "grid_template_rows": null,
            "right": null,
            "justify_content": null,
            "_view_module": "@jupyter-widgets/base",
            "overflow": null,
            "_model_module_version": "1.2.0",
            "_view_count": null,
            "flex_flow": null,
            "width": null,
            "min_width": null,
            "border": null,
            "align_items": null,
            "bottom": null,
            "_model_module": "@jupyter-widgets/base",
            "top": null,
            "grid_column": null,
            "overflow_y": null,
            "overflow_x": null,
            "grid_auto_flow": null,
            "grid_area": null,
            "grid_template_columns": null,
            "flex": null,
            "_model_name": "LayoutModel",
            "justify_items": null,
            "grid_row": null,
            "max_height": null,
            "align_content": null,
            "visibility": null,
            "align_self": null,
            "height": null,
            "min_height": null,
            "padding": null,
            "grid_auto_rows": null,
            "grid_gap": null,
            "max_width": null,
            "order": null,
            "_view_module_version": "1.2.0",
            "grid_template_areas": null,
            "object_position": null,
            "object_fit": null,
            "grid_auto_columns": null,
            "margin": null,
            "display": null,
            "left": null
          }
        },
        "12ff639593c743b79be3d663cf629c17": {
          "model_module": "@jupyter-widgets/controls",
          "model_name": "DescriptionStyleModel",
          "model_module_version": "1.5.0",
          "state": {
            "_view_name": "StyleView",
            "_model_name": "DescriptionStyleModel",
            "description_width": "",
            "_view_module": "@jupyter-widgets/base",
            "_model_module_version": "1.5.0",
            "_view_count": null,
            "_view_module_version": "1.2.0",
            "_model_module": "@jupyter-widgets/controls"
          }
        },
        "6c33c94da79342ee85e82eb72b0751b0": {
          "model_module": "@jupyter-widgets/base",
          "model_name": "LayoutModel",
          "model_module_version": "1.2.0",
          "state": {
            "_view_name": "LayoutView",
            "grid_template_rows": null,
            "right": null,
            "justify_content": null,
            "_view_module": "@jupyter-widgets/base",
            "overflow": null,
            "_model_module_version": "1.2.0",
            "_view_count": null,
            "flex_flow": null,
            "width": null,
            "min_width": null,
            "border": null,
            "align_items": null,
            "bottom": null,
            "_model_module": "@jupyter-widgets/base",
            "top": null,
            "grid_column": null,
            "overflow_y": null,
            "overflow_x": null,
            "grid_auto_flow": null,
            "grid_area": null,
            "grid_template_columns": null,
            "flex": null,
            "_model_name": "LayoutModel",
            "justify_items": null,
            "grid_row": null,
            "max_height": null,
            "align_content": null,
            "visibility": null,
            "align_self": null,
            "height": null,
            "min_height": null,
            "padding": null,
            "grid_auto_rows": null,
            "grid_gap": null,
            "max_width": null,
            "order": null,
            "_view_module_version": "1.2.0",
            "grid_template_areas": null,
            "object_position": null,
            "object_fit": null,
            "grid_auto_columns": null,
            "margin": null,
            "display": null,
            "left": null
          }
        },
        "c48c3915a08f49109dfe967117133379": {
          "model_module": "@jupyter-widgets/controls",
          "model_name": "HBoxModel",
          "model_module_version": "1.5.0",
          "state": {
            "_view_name": "HBoxView",
            "_dom_classes": [],
            "_model_name": "HBoxModel",
            "_view_module": "@jupyter-widgets/controls",
            "_model_module_version": "1.5.0",
            "_view_count": null,
            "_view_module_version": "1.5.0",
            "box_style": "",
            "layout": "IPY_MODEL_a4e2a5f38c074228917cc9350bad3e84",
            "_model_module": "@jupyter-widgets/controls",
            "children": [
              "IPY_MODEL_4c6c1eb02f9a4c18904f701ca3bc50f5",
              "IPY_MODEL_e022d4bcb2b946cd8c212de23914450c",
              "IPY_MODEL_f9baa45099754c9a84ef2538329481a9"
            ]
          }
        },
        "a4e2a5f38c074228917cc9350bad3e84": {
          "model_module": "@jupyter-widgets/base",
          "model_name": "LayoutModel",
          "model_module_version": "1.2.0",
          "state": {
            "_view_name": "LayoutView",
            "grid_template_rows": null,
            "right": null,
            "justify_content": null,
            "_view_module": "@jupyter-widgets/base",
            "overflow": null,
            "_model_module_version": "1.2.0",
            "_view_count": null,
            "flex_flow": null,
            "width": null,
            "min_width": null,
            "border": null,
            "align_items": null,
            "bottom": null,
            "_model_module": "@jupyter-widgets/base",
            "top": null,
            "grid_column": null,
            "overflow_y": null,
            "overflow_x": null,
            "grid_auto_flow": null,
            "grid_area": null,
            "grid_template_columns": null,
            "flex": null,
            "_model_name": "LayoutModel",
            "justify_items": null,
            "grid_row": null,
            "max_height": null,
            "align_content": null,
            "visibility": null,
            "align_self": null,
            "height": null,
            "min_height": null,
            "padding": null,
            "grid_auto_rows": null,
            "grid_gap": null,
            "max_width": null,
            "order": null,
            "_view_module_version": "1.2.0",
            "grid_template_areas": null,
            "object_position": null,
            "object_fit": null,
            "grid_auto_columns": null,
            "margin": null,
            "display": null,
            "left": null
          }
        },
        "4c6c1eb02f9a4c18904f701ca3bc50f5": {
          "model_module": "@jupyter-widgets/controls",
          "model_name": "HTMLModel",
          "model_module_version": "1.5.0",
          "state": {
            "_view_name": "HTMLView",
            "style": "IPY_MODEL_eb1733b1b367453992db998f59ee547d",
            "_dom_classes": [],
            "description": "",
            "_model_name": "HTMLModel",
            "placeholder": "​",
            "_view_module": "@jupyter-widgets/controls",
            "_model_module_version": "1.5.0",
            "value": "Downloading: 100%",
            "_view_count": null,
            "_view_module_version": "1.5.0",
            "description_tooltip": null,
            "_model_module": "@jupyter-widgets/controls",
            "layout": "IPY_MODEL_c1831b6a2a21442ebc33f73123743395"
          }
        },
        "e022d4bcb2b946cd8c212de23914450c": {
          "model_module": "@jupyter-widgets/controls",
          "model_name": "FloatProgressModel",
          "model_module_version": "1.5.0",
          "state": {
            "_view_name": "ProgressView",
            "style": "IPY_MODEL_ea8588f512d04b038b9d6cf5f2f294aa",
            "_dom_classes": [],
            "description": "",
            "_model_name": "FloatProgressModel",
            "bar_style": "success",
            "max": 231508,
            "_view_module": "@jupyter-widgets/controls",
            "_model_module_version": "1.5.0",
            "value": 231508,
            "_view_count": null,
            "_view_module_version": "1.5.0",
            "orientation": "horizontal",
            "min": 0,
            "description_tooltip": null,
            "_model_module": "@jupyter-widgets/controls",
            "layout": "IPY_MODEL_61abfd6e09f742f38b07f7f58502e51a"
          }
        },
        "f9baa45099754c9a84ef2538329481a9": {
          "model_module": "@jupyter-widgets/controls",
          "model_name": "HTMLModel",
          "model_module_version": "1.5.0",
          "state": {
            "_view_name": "HTMLView",
            "style": "IPY_MODEL_4b5844f566814034b6f305140590c419",
            "_dom_classes": [],
            "description": "",
            "_model_name": "HTMLModel",
            "placeholder": "​",
            "_view_module": "@jupyter-widgets/controls",
            "_model_module_version": "1.5.0",
            "value": " 226k/226k [00:00&lt;00:00, 721kB/s]",
            "_view_count": null,
            "_view_module_version": "1.5.0",
            "description_tooltip": null,
            "_model_module": "@jupyter-widgets/controls",
            "layout": "IPY_MODEL_fa908468c81f4f4896f0b236aba45cf7"
          }
        },
        "eb1733b1b367453992db998f59ee547d": {
          "model_module": "@jupyter-widgets/controls",
          "model_name": "DescriptionStyleModel",
          "model_module_version": "1.5.0",
          "state": {
            "_view_name": "StyleView",
            "_model_name": "DescriptionStyleModel",
            "description_width": "",
            "_view_module": "@jupyter-widgets/base",
            "_model_module_version": "1.5.0",
            "_view_count": null,
            "_view_module_version": "1.2.0",
            "_model_module": "@jupyter-widgets/controls"
          }
        },
        "c1831b6a2a21442ebc33f73123743395": {
          "model_module": "@jupyter-widgets/base",
          "model_name": "LayoutModel",
          "model_module_version": "1.2.0",
          "state": {
            "_view_name": "LayoutView",
            "grid_template_rows": null,
            "right": null,
            "justify_content": null,
            "_view_module": "@jupyter-widgets/base",
            "overflow": null,
            "_model_module_version": "1.2.0",
            "_view_count": null,
            "flex_flow": null,
            "width": null,
            "min_width": null,
            "border": null,
            "align_items": null,
            "bottom": null,
            "_model_module": "@jupyter-widgets/base",
            "top": null,
            "grid_column": null,
            "overflow_y": null,
            "overflow_x": null,
            "grid_auto_flow": null,
            "grid_area": null,
            "grid_template_columns": null,
            "flex": null,
            "_model_name": "LayoutModel",
            "justify_items": null,
            "grid_row": null,
            "max_height": null,
            "align_content": null,
            "visibility": null,
            "align_self": null,
            "height": null,
            "min_height": null,
            "padding": null,
            "grid_auto_rows": null,
            "grid_gap": null,
            "max_width": null,
            "order": null,
            "_view_module_version": "1.2.0",
            "grid_template_areas": null,
            "object_position": null,
            "object_fit": null,
            "grid_auto_columns": null,
            "margin": null,
            "display": null,
            "left": null
          }
        },
        "ea8588f512d04b038b9d6cf5f2f294aa": {
          "model_module": "@jupyter-widgets/controls",
          "model_name": "ProgressStyleModel",
          "model_module_version": "1.5.0",
          "state": {
            "_view_name": "StyleView",
            "_model_name": "ProgressStyleModel",
            "description_width": "",
            "_view_module": "@jupyter-widgets/base",
            "_model_module_version": "1.5.0",
            "_view_count": null,
            "_view_module_version": "1.2.0",
            "bar_color": null,
            "_model_module": "@jupyter-widgets/controls"
          }
        },
        "61abfd6e09f742f38b07f7f58502e51a": {
          "model_module": "@jupyter-widgets/base",
          "model_name": "LayoutModel",
          "model_module_version": "1.2.0",
          "state": {
            "_view_name": "LayoutView",
            "grid_template_rows": null,
            "right": null,
            "justify_content": null,
            "_view_module": "@jupyter-widgets/base",
            "overflow": null,
            "_model_module_version": "1.2.0",
            "_view_count": null,
            "flex_flow": null,
            "width": null,
            "min_width": null,
            "border": null,
            "align_items": null,
            "bottom": null,
            "_model_module": "@jupyter-widgets/base",
            "top": null,
            "grid_column": null,
            "overflow_y": null,
            "overflow_x": null,
            "grid_auto_flow": null,
            "grid_area": null,
            "grid_template_columns": null,
            "flex": null,
            "_model_name": "LayoutModel",
            "justify_items": null,
            "grid_row": null,
            "max_height": null,
            "align_content": null,
            "visibility": null,
            "align_self": null,
            "height": null,
            "min_height": null,
            "padding": null,
            "grid_auto_rows": null,
            "grid_gap": null,
            "max_width": null,
            "order": null,
            "_view_module_version": "1.2.0",
            "grid_template_areas": null,
            "object_position": null,
            "object_fit": null,
            "grid_auto_columns": null,
            "margin": null,
            "display": null,
            "left": null
          }
        },
        "4b5844f566814034b6f305140590c419": {
          "model_module": "@jupyter-widgets/controls",
          "model_name": "DescriptionStyleModel",
          "model_module_version": "1.5.0",
          "state": {
            "_view_name": "StyleView",
            "_model_name": "DescriptionStyleModel",
            "description_width": "",
            "_view_module": "@jupyter-widgets/base",
            "_model_module_version": "1.5.0",
            "_view_count": null,
            "_view_module_version": "1.2.0",
            "_model_module": "@jupyter-widgets/controls"
          }
        },
        "fa908468c81f4f4896f0b236aba45cf7": {
          "model_module": "@jupyter-widgets/base",
          "model_name": "LayoutModel",
          "model_module_version": "1.2.0",
          "state": {
            "_view_name": "LayoutView",
            "grid_template_rows": null,
            "right": null,
            "justify_content": null,
            "_view_module": "@jupyter-widgets/base",
            "overflow": null,
            "_model_module_version": "1.2.0",
            "_view_count": null,
            "flex_flow": null,
            "width": null,
            "min_width": null,
            "border": null,
            "align_items": null,
            "bottom": null,
            "_model_module": "@jupyter-widgets/base",
            "top": null,
            "grid_column": null,
            "overflow_y": null,
            "overflow_x": null,
            "grid_auto_flow": null,
            "grid_area": null,
            "grid_template_columns": null,
            "flex": null,
            "_model_name": "LayoutModel",
            "justify_items": null,
            "grid_row": null,
            "max_height": null,
            "align_content": null,
            "visibility": null,
            "align_self": null,
            "height": null,
            "min_height": null,
            "padding": null,
            "grid_auto_rows": null,
            "grid_gap": null,
            "max_width": null,
            "order": null,
            "_view_module_version": "1.2.0",
            "grid_template_areas": null,
            "object_position": null,
            "object_fit": null,
            "grid_auto_columns": null,
            "margin": null,
            "display": null,
            "left": null
          }
        },
        "e02cd6fa9ea246fda8b9bdbc7a2caa9f": {
          "model_module": "@jupyter-widgets/controls",
          "model_name": "HBoxModel",
          "model_module_version": "1.5.0",
          "state": {
            "_view_name": "HBoxView",
            "_dom_classes": [],
            "_model_name": "HBoxModel",
            "_view_module": "@jupyter-widgets/controls",
            "_model_module_version": "1.5.0",
            "_view_count": null,
            "_view_module_version": "1.5.0",
            "box_style": "",
            "layout": "IPY_MODEL_8a23b3391b304272ad250958aa00da40",
            "_model_module": "@jupyter-widgets/controls",
            "children": [
              "IPY_MODEL_0549c56c53be47af80f5a5dc1ab7dd9a",
              "IPY_MODEL_ae0b77472c77430bb84fc0ef611d8aa7",
              "IPY_MODEL_f59ceae8fa3a496ba58ae6033ef3c880"
            ]
          }
        },
        "8a23b3391b304272ad250958aa00da40": {
          "model_module": "@jupyter-widgets/base",
          "model_name": "LayoutModel",
          "model_module_version": "1.2.0",
          "state": {
            "_view_name": "LayoutView",
            "grid_template_rows": null,
            "right": null,
            "justify_content": null,
            "_view_module": "@jupyter-widgets/base",
            "overflow": null,
            "_model_module_version": "1.2.0",
            "_view_count": null,
            "flex_flow": null,
            "width": null,
            "min_width": null,
            "border": null,
            "align_items": null,
            "bottom": null,
            "_model_module": "@jupyter-widgets/base",
            "top": null,
            "grid_column": null,
            "overflow_y": null,
            "overflow_x": null,
            "grid_auto_flow": null,
            "grid_area": null,
            "grid_template_columns": null,
            "flex": null,
            "_model_name": "LayoutModel",
            "justify_items": null,
            "grid_row": null,
            "max_height": null,
            "align_content": null,
            "visibility": null,
            "align_self": null,
            "height": null,
            "min_height": null,
            "padding": null,
            "grid_auto_rows": null,
            "grid_gap": null,
            "max_width": null,
            "order": null,
            "_view_module_version": "1.2.0",
            "grid_template_areas": null,
            "object_position": null,
            "object_fit": null,
            "grid_auto_columns": null,
            "margin": null,
            "display": null,
            "left": null
          }
        },
        "0549c56c53be47af80f5a5dc1ab7dd9a": {
          "model_module": "@jupyter-widgets/controls",
          "model_name": "HTMLModel",
          "model_module_version": "1.5.0",
          "state": {
            "_view_name": "HTMLView",
            "style": "IPY_MODEL_99c33cb9956c41f2a80d1ff09852812f",
            "_dom_classes": [],
            "description": "",
            "_model_name": "HTMLModel",
            "placeholder": "​",
            "_view_module": "@jupyter-widgets/controls",
            "_model_module_version": "1.5.0",
            "value": "Downloading: 100%",
            "_view_count": null,
            "_view_module_version": "1.5.0",
            "description_tooltip": null,
            "_model_module": "@jupyter-widgets/controls",
            "layout": "IPY_MODEL_81141375b4de40d3bbb9acbe33eabc28"
          }
        },
        "ae0b77472c77430bb84fc0ef611d8aa7": {
          "model_module": "@jupyter-widgets/controls",
          "model_name": "FloatProgressModel",
          "model_module_version": "1.5.0",
          "state": {
            "_view_name": "ProgressView",
            "style": "IPY_MODEL_e4bd30d007a7403c87e06ca77c078df4",
            "_dom_classes": [],
            "description": "",
            "_model_name": "FloatProgressModel",
            "bar_style": "success",
            "max": 466062,
            "_view_module": "@jupyter-widgets/controls",
            "_model_module_version": "1.5.0",
            "value": 466062,
            "_view_count": null,
            "_view_module_version": "1.5.0",
            "orientation": "horizontal",
            "min": 0,
            "description_tooltip": null,
            "_model_module": "@jupyter-widgets/controls",
            "layout": "IPY_MODEL_0715f3146f2542c7946001a069254d0a"
          }
        },
        "f59ceae8fa3a496ba58ae6033ef3c880": {
          "model_module": "@jupyter-widgets/controls",
          "model_name": "HTMLModel",
          "model_module_version": "1.5.0",
          "state": {
            "_view_name": "HTMLView",
            "style": "IPY_MODEL_445394955ce4410e9251517a103d59f5",
            "_dom_classes": [],
            "description": "",
            "_model_name": "HTMLModel",
            "placeholder": "​",
            "_view_module": "@jupyter-widgets/controls",
            "_model_module_version": "1.5.0",
            "value": " 455k/455k [00:00&lt;00:00, 686kB/s]",
            "_view_count": null,
            "_view_module_version": "1.5.0",
            "description_tooltip": null,
            "_model_module": "@jupyter-widgets/controls",
            "layout": "IPY_MODEL_98dfda93314142bdbfc85e5eae16d17f"
          }
        },
        "99c33cb9956c41f2a80d1ff09852812f": {
          "model_module": "@jupyter-widgets/controls",
          "model_name": "DescriptionStyleModel",
          "model_module_version": "1.5.0",
          "state": {
            "_view_name": "StyleView",
            "_model_name": "DescriptionStyleModel",
            "description_width": "",
            "_view_module": "@jupyter-widgets/base",
            "_model_module_version": "1.5.0",
            "_view_count": null,
            "_view_module_version": "1.2.0",
            "_model_module": "@jupyter-widgets/controls"
          }
        },
        "81141375b4de40d3bbb9acbe33eabc28": {
          "model_module": "@jupyter-widgets/base",
          "model_name": "LayoutModel",
          "model_module_version": "1.2.0",
          "state": {
            "_view_name": "LayoutView",
            "grid_template_rows": null,
            "right": null,
            "justify_content": null,
            "_view_module": "@jupyter-widgets/base",
            "overflow": null,
            "_model_module_version": "1.2.0",
            "_view_count": null,
            "flex_flow": null,
            "width": null,
            "min_width": null,
            "border": null,
            "align_items": null,
            "bottom": null,
            "_model_module": "@jupyter-widgets/base",
            "top": null,
            "grid_column": null,
            "overflow_y": null,
            "overflow_x": null,
            "grid_auto_flow": null,
            "grid_area": null,
            "grid_template_columns": null,
            "flex": null,
            "_model_name": "LayoutModel",
            "justify_items": null,
            "grid_row": null,
            "max_height": null,
            "align_content": null,
            "visibility": null,
            "align_self": null,
            "height": null,
            "min_height": null,
            "padding": null,
            "grid_auto_rows": null,
            "grid_gap": null,
            "max_width": null,
            "order": null,
            "_view_module_version": "1.2.0",
            "grid_template_areas": null,
            "object_position": null,
            "object_fit": null,
            "grid_auto_columns": null,
            "margin": null,
            "display": null,
            "left": null
          }
        },
        "e4bd30d007a7403c87e06ca77c078df4": {
          "model_module": "@jupyter-widgets/controls",
          "model_name": "ProgressStyleModel",
          "model_module_version": "1.5.0",
          "state": {
            "_view_name": "StyleView",
            "_model_name": "ProgressStyleModel",
            "description_width": "",
            "_view_module": "@jupyter-widgets/base",
            "_model_module_version": "1.5.0",
            "_view_count": null,
            "_view_module_version": "1.2.0",
            "bar_color": null,
            "_model_module": "@jupyter-widgets/controls"
          }
        },
        "0715f3146f2542c7946001a069254d0a": {
          "model_module": "@jupyter-widgets/base",
          "model_name": "LayoutModel",
          "model_module_version": "1.2.0",
          "state": {
            "_view_name": "LayoutView",
            "grid_template_rows": null,
            "right": null,
            "justify_content": null,
            "_view_module": "@jupyter-widgets/base",
            "overflow": null,
            "_model_module_version": "1.2.0",
            "_view_count": null,
            "flex_flow": null,
            "width": null,
            "min_width": null,
            "border": null,
            "align_items": null,
            "bottom": null,
            "_model_module": "@jupyter-widgets/base",
            "top": null,
            "grid_column": null,
            "overflow_y": null,
            "overflow_x": null,
            "grid_auto_flow": null,
            "grid_area": null,
            "grid_template_columns": null,
            "flex": null,
            "_model_name": "LayoutModel",
            "justify_items": null,
            "grid_row": null,
            "max_height": null,
            "align_content": null,
            "visibility": null,
            "align_self": null,
            "height": null,
            "min_height": null,
            "padding": null,
            "grid_auto_rows": null,
            "grid_gap": null,
            "max_width": null,
            "order": null,
            "_view_module_version": "1.2.0",
            "grid_template_areas": null,
            "object_position": null,
            "object_fit": null,
            "grid_auto_columns": null,
            "margin": null,
            "display": null,
            "left": null
          }
        },
        "445394955ce4410e9251517a103d59f5": {
          "model_module": "@jupyter-widgets/controls",
          "model_name": "DescriptionStyleModel",
          "model_module_version": "1.5.0",
          "state": {
            "_view_name": "StyleView",
            "_model_name": "DescriptionStyleModel",
            "description_width": "",
            "_view_module": "@jupyter-widgets/base",
            "_model_module_version": "1.5.0",
            "_view_count": null,
            "_view_module_version": "1.2.0",
            "_model_module": "@jupyter-widgets/controls"
          }
        },
        "98dfda93314142bdbfc85e5eae16d17f": {
          "model_module": "@jupyter-widgets/base",
          "model_name": "LayoutModel",
          "model_module_version": "1.2.0",
          "state": {
            "_view_name": "LayoutView",
            "grid_template_rows": null,
            "right": null,
            "justify_content": null,
            "_view_module": "@jupyter-widgets/base",
            "overflow": null,
            "_model_module_version": "1.2.0",
            "_view_count": null,
            "flex_flow": null,
            "width": null,
            "min_width": null,
            "border": null,
            "align_items": null,
            "bottom": null,
            "_model_module": "@jupyter-widgets/base",
            "top": null,
            "grid_column": null,
            "overflow_y": null,
            "overflow_x": null,
            "grid_auto_flow": null,
            "grid_area": null,
            "grid_template_columns": null,
            "flex": null,
            "_model_name": "LayoutModel",
            "justify_items": null,
            "grid_row": null,
            "max_height": null,
            "align_content": null,
            "visibility": null,
            "align_self": null,
            "height": null,
            "min_height": null,
            "padding": null,
            "grid_auto_rows": null,
            "grid_gap": null,
            "max_width": null,
            "order": null,
            "_view_module_version": "1.2.0",
            "grid_template_areas": null,
            "object_position": null,
            "object_fit": null,
            "grid_auto_columns": null,
            "margin": null,
            "display": null,
            "left": null
          }
        },
        "7c4ce3757e4e4a6485fa50372d414ea8": {
          "model_module": "@jupyter-widgets/controls",
          "model_name": "HBoxModel",
          "model_module_version": "1.5.0",
          "state": {
            "_view_name": "HBoxView",
            "_dom_classes": [],
            "_model_name": "HBoxModel",
            "_view_module": "@jupyter-widgets/controls",
            "_model_module_version": "1.5.0",
            "_view_count": null,
            "_view_module_version": "1.5.0",
            "box_style": "",
            "layout": "IPY_MODEL_8cd35b98e3d64bb1b563c6019d266dc9",
            "_model_module": "@jupyter-widgets/controls",
            "children": [
              "IPY_MODEL_1f718192e1ac4e5ab25f57326fc937d4",
              "IPY_MODEL_0d38073d25734cf38e6db484f1ffac09",
              "IPY_MODEL_02a8852a344d4c748420491725556c36"
            ]
          }
        },
        "8cd35b98e3d64bb1b563c6019d266dc9": {
          "model_module": "@jupyter-widgets/base",
          "model_name": "LayoutModel",
          "model_module_version": "1.2.0",
          "state": {
            "_view_name": "LayoutView",
            "grid_template_rows": null,
            "right": null,
            "justify_content": null,
            "_view_module": "@jupyter-widgets/base",
            "overflow": null,
            "_model_module_version": "1.2.0",
            "_view_count": null,
            "flex_flow": null,
            "width": null,
            "min_width": null,
            "border": null,
            "align_items": null,
            "bottom": null,
            "_model_module": "@jupyter-widgets/base",
            "top": null,
            "grid_column": null,
            "overflow_y": null,
            "overflow_x": null,
            "grid_auto_flow": null,
            "grid_area": null,
            "grid_template_columns": null,
            "flex": null,
            "_model_name": "LayoutModel",
            "justify_items": null,
            "grid_row": null,
            "max_height": null,
            "align_content": null,
            "visibility": null,
            "align_self": null,
            "height": null,
            "min_height": null,
            "padding": null,
            "grid_auto_rows": null,
            "grid_gap": null,
            "max_width": null,
            "order": null,
            "_view_module_version": "1.2.0",
            "grid_template_areas": null,
            "object_position": null,
            "object_fit": null,
            "grid_auto_columns": null,
            "margin": null,
            "display": null,
            "left": null
          }
        },
        "1f718192e1ac4e5ab25f57326fc937d4": {
          "model_module": "@jupyter-widgets/controls",
          "model_name": "HTMLModel",
          "model_module_version": "1.5.0",
          "state": {
            "_view_name": "HTMLView",
            "style": "IPY_MODEL_96ca6fb3ba9c42dcaae80a59ce8b25b6",
            "_dom_classes": [],
            "description": "",
            "_model_name": "HTMLModel",
            "placeholder": "​",
            "_view_module": "@jupyter-widgets/controls",
            "_model_module_version": "1.5.0",
            "value": "Downloading: 100%",
            "_view_count": null,
            "_view_module_version": "1.5.0",
            "description_tooltip": null,
            "_model_module": "@jupyter-widgets/controls",
            "layout": "IPY_MODEL_0932910990b24f8299310edd0658a0cb"
          }
        },
        "0d38073d25734cf38e6db484f1ffac09": {
          "model_module": "@jupyter-widgets/controls",
          "model_name": "FloatProgressModel",
          "model_module_version": "1.5.0",
          "state": {
            "_view_name": "ProgressView",
            "style": "IPY_MODEL_5cc9adaf3f8b41a6bc150ce01f964b26",
            "_dom_classes": [],
            "description": "",
            "_model_name": "FloatProgressModel",
            "bar_style": "success",
            "max": 363423424,
            "_view_module": "@jupyter-widgets/controls",
            "_model_module_version": "1.5.0",
            "value": 363423424,
            "_view_count": null,
            "_view_module_version": "1.5.0",
            "orientation": "horizontal",
            "min": 0,
            "description_tooltip": null,
            "_model_module": "@jupyter-widgets/controls",
            "layout": "IPY_MODEL_155f389f172b4b318a6d867c494e516b"
          }
        },
        "02a8852a344d4c748420491725556c36": {
          "model_module": "@jupyter-widgets/controls",
          "model_name": "HTMLModel",
          "model_module_version": "1.5.0",
          "state": {
            "_view_name": "HTMLView",
            "style": "IPY_MODEL_72738f4de57e45bb87763f66884a2180",
            "_dom_classes": [],
            "description": "",
            "_model_name": "HTMLModel",
            "placeholder": "​",
            "_view_module": "@jupyter-widgets/controls",
            "_model_module_version": "1.5.0",
            "value": " 347M/347M [00:23&lt;00:00, 29.6MB/s]",
            "_view_count": null,
            "_view_module_version": "1.5.0",
            "description_tooltip": null,
            "_model_module": "@jupyter-widgets/controls",
            "layout": "IPY_MODEL_ef9c8891b3c2463db47e833edc228e51"
          }
        },
        "96ca6fb3ba9c42dcaae80a59ce8b25b6": {
          "model_module": "@jupyter-widgets/controls",
          "model_name": "DescriptionStyleModel",
          "model_module_version": "1.5.0",
          "state": {
            "_view_name": "StyleView",
            "_model_name": "DescriptionStyleModel",
            "description_width": "",
            "_view_module": "@jupyter-widgets/base",
            "_model_module_version": "1.5.0",
            "_view_count": null,
            "_view_module_version": "1.2.0",
            "_model_module": "@jupyter-widgets/controls"
          }
        },
        "0932910990b24f8299310edd0658a0cb": {
          "model_module": "@jupyter-widgets/base",
          "model_name": "LayoutModel",
          "model_module_version": "1.2.0",
          "state": {
            "_view_name": "LayoutView",
            "grid_template_rows": null,
            "right": null,
            "justify_content": null,
            "_view_module": "@jupyter-widgets/base",
            "overflow": null,
            "_model_module_version": "1.2.0",
            "_view_count": null,
            "flex_flow": null,
            "width": null,
            "min_width": null,
            "border": null,
            "align_items": null,
            "bottom": null,
            "_model_module": "@jupyter-widgets/base",
            "top": null,
            "grid_column": null,
            "overflow_y": null,
            "overflow_x": null,
            "grid_auto_flow": null,
            "grid_area": null,
            "grid_template_columns": null,
            "flex": null,
            "_model_name": "LayoutModel",
            "justify_items": null,
            "grid_row": null,
            "max_height": null,
            "align_content": null,
            "visibility": null,
            "align_self": null,
            "height": null,
            "min_height": null,
            "padding": null,
            "grid_auto_rows": null,
            "grid_gap": null,
            "max_width": null,
            "order": null,
            "_view_module_version": "1.2.0",
            "grid_template_areas": null,
            "object_position": null,
            "object_fit": null,
            "grid_auto_columns": null,
            "margin": null,
            "display": null,
            "left": null
          }
        },
        "5cc9adaf3f8b41a6bc150ce01f964b26": {
          "model_module": "@jupyter-widgets/controls",
          "model_name": "ProgressStyleModel",
          "model_module_version": "1.5.0",
          "state": {
            "_view_name": "StyleView",
            "_model_name": "ProgressStyleModel",
            "description_width": "",
            "_view_module": "@jupyter-widgets/base",
            "_model_module_version": "1.5.0",
            "_view_count": null,
            "_view_module_version": "1.2.0",
            "bar_color": null,
            "_model_module": "@jupyter-widgets/controls"
          }
        },
        "155f389f172b4b318a6d867c494e516b": {
          "model_module": "@jupyter-widgets/base",
          "model_name": "LayoutModel",
          "model_module_version": "1.2.0",
          "state": {
            "_view_name": "LayoutView",
            "grid_template_rows": null,
            "right": null,
            "justify_content": null,
            "_view_module": "@jupyter-widgets/base",
            "overflow": null,
            "_model_module_version": "1.2.0",
            "_view_count": null,
            "flex_flow": null,
            "width": null,
            "min_width": null,
            "border": null,
            "align_items": null,
            "bottom": null,
            "_model_module": "@jupyter-widgets/base",
            "top": null,
            "grid_column": null,
            "overflow_y": null,
            "overflow_x": null,
            "grid_auto_flow": null,
            "grid_area": null,
            "grid_template_columns": null,
            "flex": null,
            "_model_name": "LayoutModel",
            "justify_items": null,
            "grid_row": null,
            "max_height": null,
            "align_content": null,
            "visibility": null,
            "align_self": null,
            "height": null,
            "min_height": null,
            "padding": null,
            "grid_auto_rows": null,
            "grid_gap": null,
            "max_width": null,
            "order": null,
            "_view_module_version": "1.2.0",
            "grid_template_areas": null,
            "object_position": null,
            "object_fit": null,
            "grid_auto_columns": null,
            "margin": null,
            "display": null,
            "left": null
          }
        },
        "72738f4de57e45bb87763f66884a2180": {
          "model_module": "@jupyter-widgets/controls",
          "model_name": "DescriptionStyleModel",
          "model_module_version": "1.5.0",
          "state": {
            "_view_name": "StyleView",
            "_model_name": "DescriptionStyleModel",
            "description_width": "",
            "_view_module": "@jupyter-widgets/base",
            "_model_module_version": "1.5.0",
            "_view_count": null,
            "_view_module_version": "1.2.0",
            "_model_module": "@jupyter-widgets/controls"
          }
        },
        "ef9c8891b3c2463db47e833edc228e51": {
          "model_module": "@jupyter-widgets/base",
          "model_name": "LayoutModel",
          "model_module_version": "1.2.0",
          "state": {
            "_view_name": "LayoutView",
            "grid_template_rows": null,
            "right": null,
            "justify_content": null,
            "_view_module": "@jupyter-widgets/base",
            "overflow": null,
            "_model_module_version": "1.2.0",
            "_view_count": null,
            "flex_flow": null,
            "width": null,
            "min_width": null,
            "border": null,
            "align_items": null,
            "bottom": null,
            "_model_module": "@jupyter-widgets/base",
            "top": null,
            "grid_column": null,
            "overflow_y": null,
            "overflow_x": null,
            "grid_auto_flow": null,
            "grid_area": null,
            "grid_template_columns": null,
            "flex": null,
            "_model_name": "LayoutModel",
            "justify_items": null,
            "grid_row": null,
            "max_height": null,
            "align_content": null,
            "visibility": null,
            "align_self": null,
            "height": null,
            "min_height": null,
            "padding": null,
            "grid_auto_rows": null,
            "grid_gap": null,
            "max_width": null,
            "order": null,
            "_view_module_version": "1.2.0",
            "grid_template_areas": null,
            "object_position": null,
            "object_fit": null,
            "grid_auto_columns": null,
            "margin": null,
            "display": null,
            "left": null
          }
        }
      }
    }
  },
  "cells": [
    {
      "cell_type": "markdown",
      "metadata": {
        "id": "Yl9Ht2uggCQw"
      },
      "source": [
        "# **Required Downloads**"
      ]
    },
    {
      "cell_type": "code",
      "metadata": {
        "id": "JNdlEs3mgCQz"
      },
      "source": [
        "!pip install -q transformers\n",
        "!pip install -q contractions\n",
        "!pip install -q autocorrect"
      ],
      "execution_count": 2,
      "outputs": []
    },
    {
      "cell_type": "markdown",
      "metadata": {
        "id": "hwMqdpb2gCQ2"
      },
      "source": [
        "# **Required Imports**"
      ]
    },
    {
      "cell_type": "code",
      "metadata": {
        "id": "adjxCh2igCQ3"
      },
      "source": [
        "\n",
        "from transformers import BertTokenizer, TFBertForSequenceClassification\n",
        "from transformers import DistilBertTokenizer, TFDistilBertForSequenceClassification\n",
        "from transformers import RobertaTokenizer,TFRobertaForSequenceClassification\n",
        "from transformers import XLNetTokenizer, TFXLNetForSequenceClassification\n",
        "from transformers import ElectraTokenizer,TFElectraForSequenceClassification\n",
        "from transformers import GPT2Tokenizer,TFGPT2ForSequenceClassification\n",
        "from transformers import AutoTokenizer, TFAutoModelForSequenceClassification,TFPreTrainedModel\n",
        "\n",
        "import time\n",
        "\n",
        "from matplotlib import pyplot as plt\n",
        "from sklearn.metrics import confusion_matrix , classification_report\n",
        "import pandas as pd\n",
        "import seaborn as sns\n",
        "\n",
        "import tensorflow as tf\n",
        "import json\n",
        "\n",
        "import numpy as np\n",
        "import pandas as pd\n",
        "\n",
        "\n",
        "import os\n",
        "import re\n",
        "\n",
        "from nltk.stem import WordNetLemmatizer\n",
        "from nltk.tokenize import sent_tokenize\n",
        "\n",
        "import contractions\n",
        "from textblob import TextBlob\n",
        "from sklearn.feature_extraction.text import CountVectorizer, TfidfVectorizer\n",
        "from autocorrect import Speller\n",
        "\n"
      ],
      "execution_count": 3,
      "outputs": []
    },
    {
      "cell_type": "markdown",
      "metadata": {
        "id": "47pKS2lxhB3C"
      },
      "source": [
        "# **Data Prepration**"
      ]
    },
    {
      "cell_type": "markdown",
      "metadata": {
        "id": "Bz-Rx6FJokN-"
      },
      "source": [
        "## Importing Data\n",
        "- The following cell is importing data from google drive and storing the files to /home/Emotiondata directory.\n",
        "- Data Source: \n",
        "> https://www.kaggle.com/praveengovi/emotions-dataset-for-nlp"
      ]
    },
    {
      "cell_type": "code",
      "metadata": {
        "colab": {
          "base_uri": "https://localhost:8080/"
        },
        "id": "DAEtK1AGhGD7",
        "outputId": "466927a5-08ff-4b8b-97e7-a07f5e28f1f9"
      },
      "source": [
        "from google.colab import drive\n",
        "drive.mount('/content/drive')"
      ],
      "execution_count": 4,
      "outputs": [
        {
          "output_type": "stream",
          "name": "stdout",
          "text": [
            "Drive already mounted at /content/drive; to attempt to forcibly remount, call drive.mount(\"/content/drive\", force_remount=True).\n"
          ]
        }
      ]
    },
    {
      "cell_type": "code",
      "metadata": {
        "colab": {
          "base_uri": "https://localhost:8080/"
        },
        "id": "szJKMtjzqqah",
        "outputId": "9aa7256c-218e-4b65-8b8d-4ea165519d44"
      },
      "source": [
        "DataDir = '/home/EmotionData/'\n",
        "!mkdir /home/EmotionData\n",
        "!unzip /content/drive/MyDrive/archive.zip \n",
        "!mv /content/*.txt /home/EmotionData"
      ],
      "execution_count": 5,
      "outputs": [
        {
          "output_type": "stream",
          "name": "stdout",
          "text": [
            "mkdir: cannot create directory ‘/home/EmotionData’: File exists\n",
            "Archive:  /content/drive/MyDrive/archive.zip\n",
            "  inflating: test.txt                \n",
            "  inflating: train.txt               \n",
            "  inflating: val.txt                 \n"
          ]
        }
      ]
    },
    {
      "cell_type": "markdown",
      "metadata": {
        "id": "Qx8Kr2o-sWO-"
      },
      "source": [
        "## Loading Data\n",
        "- The Following cell loads train, validation and test data to variables \n",
        "- Used Sources: \n",
        ">https://stackoverflow.com/questions/21546739/load-data-from-txt-with-pandas"
      ]
    },
    {
      "cell_type": "code",
      "metadata": {
        "colab": {
          "base_uri": "https://localhost:8080/",
          "height": 0
        },
        "id": "ZedJaw-rsZ16",
        "outputId": "512b7c92-62cb-4f43-e002-7827b6cc0356"
      },
      "source": [
        "def readDataEmotionData1(dataPath):\n",
        "  data = pd.read_csv(DataDir+dataPath, sep=\";\", header=None, names = ['Text','Label'])\n",
        "  return data;\n",
        "\n",
        "trainData = readDataEmotionData1('train.txt')\n",
        "valData = readDataEmotionData1('val.txt')\n",
        "testData = readDataEmotionData1('test.txt')\n",
        "# Shows how the data looks in the padas DataFrame after loading \n",
        "trainData.head()"
      ],
      "execution_count": 6,
      "outputs": [
        {
          "output_type": "execute_result",
          "data": {
            "text/html": [
              "<div>\n",
              "<style scoped>\n",
              "    .dataframe tbody tr th:only-of-type {\n",
              "        vertical-align: middle;\n",
              "    }\n",
              "\n",
              "    .dataframe tbody tr th {\n",
              "        vertical-align: top;\n",
              "    }\n",
              "\n",
              "    .dataframe thead th {\n",
              "        text-align: right;\n",
              "    }\n",
              "</style>\n",
              "<table border=\"1\" class=\"dataframe\">\n",
              "  <thead>\n",
              "    <tr style=\"text-align: right;\">\n",
              "      <th></th>\n",
              "      <th>Text</th>\n",
              "      <th>Label</th>\n",
              "    </tr>\n",
              "  </thead>\n",
              "  <tbody>\n",
              "    <tr>\n",
              "      <th>0</th>\n",
              "      <td>i didnt feel humiliated</td>\n",
              "      <td>sadness</td>\n",
              "    </tr>\n",
              "    <tr>\n",
              "      <th>1</th>\n",
              "      <td>i can go from feeling so hopeless to so damned...</td>\n",
              "      <td>sadness</td>\n",
              "    </tr>\n",
              "    <tr>\n",
              "      <th>2</th>\n",
              "      <td>im grabbing a minute to post i feel greedy wrong</td>\n",
              "      <td>anger</td>\n",
              "    </tr>\n",
              "    <tr>\n",
              "      <th>3</th>\n",
              "      <td>i am ever feeling nostalgic about the fireplac...</td>\n",
              "      <td>love</td>\n",
              "    </tr>\n",
              "    <tr>\n",
              "      <th>4</th>\n",
              "      <td>i am feeling grouchy</td>\n",
              "      <td>anger</td>\n",
              "    </tr>\n",
              "  </tbody>\n",
              "</table>\n",
              "</div>"
            ],
            "text/plain": [
              "                                                Text    Label\n",
              "0                            i didnt feel humiliated  sadness\n",
              "1  i can go from feeling so hopeless to so damned...  sadness\n",
              "2   im grabbing a minute to post i feel greedy wrong    anger\n",
              "3  i am ever feeling nostalgic about the fireplac...     love\n",
              "4                               i am feeling grouchy    anger"
            ]
          },
          "metadata": {},
          "execution_count": 6
        }
      ]
    },
    {
      "cell_type": "markdown",
      "metadata": {
        "id": "M_p5AhGUxSXz"
      },
      "source": [
        "## About the Data\n"
      ]
    },
    {
      "cell_type": "code",
      "metadata": {
        "colab": {
          "base_uri": "https://localhost:8080/",
          "height": 0
        },
        "id": "_XbCgkxK0HOV",
        "outputId": "f3a8b88e-c7f2-4c28-dddc-243697a421fb"
      },
      "source": [
        "# The following function adds length coloum to pandas Dataframe\n",
        "def addTextLength(dataFrame):\n",
        "  lengthData = []\n",
        "  for i in dataFrame['Text']:\n",
        "    lengthData.append(len(i))\n",
        "  dataFrame=dataFrame.assign(Length=lengthData)\n",
        "  return dataFrame\n",
        "trainData = addTextLength(trainData)\n",
        "valData = addTextLength(valData)\n",
        "testData = addTextLength(testData)\n",
        "valData.head()"
      ],
      "execution_count": 7,
      "outputs": [
        {
          "output_type": "execute_result",
          "data": {
            "text/html": [
              "<div>\n",
              "<style scoped>\n",
              "    .dataframe tbody tr th:only-of-type {\n",
              "        vertical-align: middle;\n",
              "    }\n",
              "\n",
              "    .dataframe tbody tr th {\n",
              "        vertical-align: top;\n",
              "    }\n",
              "\n",
              "    .dataframe thead th {\n",
              "        text-align: right;\n",
              "    }\n",
              "</style>\n",
              "<table border=\"1\" class=\"dataframe\">\n",
              "  <thead>\n",
              "    <tr style=\"text-align: right;\">\n",
              "      <th></th>\n",
              "      <th>Text</th>\n",
              "      <th>Label</th>\n",
              "      <th>Length</th>\n",
              "    </tr>\n",
              "  </thead>\n",
              "  <tbody>\n",
              "    <tr>\n",
              "      <th>0</th>\n",
              "      <td>im feeling quite sad and sorry for myself but ...</td>\n",
              "      <td>sadness</td>\n",
              "      <td>69</td>\n",
              "    </tr>\n",
              "    <tr>\n",
              "      <th>1</th>\n",
              "      <td>i feel like i am still looking at a blank canv...</td>\n",
              "      <td>sadness</td>\n",
              "      <td>70</td>\n",
              "    </tr>\n",
              "    <tr>\n",
              "      <th>2</th>\n",
              "      <td>i feel like a faithful servant</td>\n",
              "      <td>love</td>\n",
              "      <td>30</td>\n",
              "    </tr>\n",
              "    <tr>\n",
              "      <th>3</th>\n",
              "      <td>i am just feeling cranky and blue</td>\n",
              "      <td>anger</td>\n",
              "      <td>33</td>\n",
              "    </tr>\n",
              "    <tr>\n",
              "      <th>4</th>\n",
              "      <td>i can have for a treat or if i am feeling festive</td>\n",
              "      <td>joy</td>\n",
              "      <td>49</td>\n",
              "    </tr>\n",
              "  </tbody>\n",
              "</table>\n",
              "</div>"
            ],
            "text/plain": [
              "                                                Text    Label  Length\n",
              "0  im feeling quite sad and sorry for myself but ...  sadness      69\n",
              "1  i feel like i am still looking at a blank canv...  sadness      70\n",
              "2                     i feel like a faithful servant     love      30\n",
              "3                  i am just feeling cranky and blue    anger      33\n",
              "4  i can have for a treat or if i am feeling festive      joy      49"
            ]
          },
          "metadata": {},
          "execution_count": 7
        }
      ]
    },
    {
      "cell_type": "code",
      "metadata": {
        "colab": {
          "base_uri": "https://localhost:8080/",
          "height": 0
        },
        "id": "Ac0ziLoN3NBV",
        "outputId": "583bf0eb-6ca6-4cee-b318-cc61e26371f2"
      },
      "source": [
        "# This shows the distrubution of the number of characters length of the Text.\n",
        "def plotDestrubrition(data,name):\n",
        "  sns.set_style('darkgrid')\n",
        "  plt.figure(figsize=(5,5))\n",
        "  plt.title(name)\n",
        "  sns.distplot(data)\n",
        "plotDestrubrition(trainData['Length'],'Train Data')"
      ],
      "execution_count": 8,
      "outputs": [
        {
          "output_type": "stream",
          "name": "stderr",
          "text": [
            "/usr/local/lib/python3.7/dist-packages/seaborn/distributions.py:2619: FutureWarning: `distplot` is a deprecated function and will be removed in a future version. Please adapt your code to use either `displot` (a figure-level function with similar flexibility) or `histplot` (an axes-level function for histograms).\n",
            "  warnings.warn(msg, FutureWarning)\n"
          ]
        },
        {
          "output_type": "display_data",
          "data": {
            "image/png": "[encoded data removed]",
            "text/plain": [
              "<Figure size 360x360 with 1 Axes>"
            ]
          },
          "metadata": {}
        }
      ]
    },
    {
      "cell_type": "code",
      "metadata": {
        "colab": {
          "base_uri": "https://localhost:8080/",
          "height": 0
        },
        "id": "dfWMCFyR6bjQ",
        "outputId": "dda07f79-7e92-4787-c04e-1f8db5f96d60"
      },
      "source": [
        "maxSentanceLength = 300\n",
        "trainData.describe()"
      ],
      "execution_count": 9,
      "outputs": [
        {
          "output_type": "execute_result",
          "data": {
            "text/html": [
              "<div>\n",
              "<style scoped>\n",
              "    .dataframe tbody tr th:only-of-type {\n",
              "        vertical-align: middle;\n",
              "    }\n",
              "\n",
              "    .dataframe tbody tr th {\n",
              "        vertical-align: top;\n",
              "    }\n",
              "\n",
              "    .dataframe thead th {\n",
              "        text-align: right;\n",
              "    }\n",
              "</style>\n",
              "<table border=\"1\" class=\"dataframe\">\n",
              "  <thead>\n",
              "    <tr style=\"text-align: right;\">\n",
              "      <th></th>\n",
              "      <th>Length</th>\n",
              "    </tr>\n",
              "  </thead>\n",
              "  <tbody>\n",
              "    <tr>\n",
              "      <th>count</th>\n",
              "      <td>16000.000000</td>\n",
              "    </tr>\n",
              "    <tr>\n",
              "      <th>mean</th>\n",
              "      <td>96.845812</td>\n",
              "    </tr>\n",
              "    <tr>\n",
              "      <th>std</th>\n",
              "      <td>55.904953</td>\n",
              "    </tr>\n",
              "    <tr>\n",
              "      <th>min</th>\n",
              "      <td>7.000000</td>\n",
              "    </tr>\n",
              "    <tr>\n",
              "      <th>25%</th>\n",
              "      <td>53.000000</td>\n",
              "    </tr>\n",
              "    <tr>\n",
              "      <th>50%</th>\n",
              "      <td>86.000000</td>\n",
              "    </tr>\n",
              "    <tr>\n",
              "      <th>75%</th>\n",
              "      <td>129.000000</td>\n",
              "    </tr>\n",
              "    <tr>\n",
              "      <th>max</th>\n",
              "      <td>300.000000</td>\n",
              "    </tr>\n",
              "  </tbody>\n",
              "</table>\n",
              "</div>"
            ],
            "text/plain": [
              "             Length\n",
              "count  16000.000000\n",
              "mean      96.845812\n",
              "std       55.904953\n",
              "min        7.000000\n",
              "25%       53.000000\n",
              "50%       86.000000\n",
              "75%      129.000000\n",
              "max      300.000000"
            ]
          },
          "metadata": {},
          "execution_count": 9
        }
      ]
    },
    {
      "cell_type": "markdown",
      "metadata": {
        "id": "ZJpbHnHp70gU"
      },
      "source": [
        "## Text Prepration\n",
        "- Decontracted: https://www.geeksforgeeks.org/nlp-expand-contractions-in-text-processing/\n",
        "- Spell check\n",
        "- About Formatted Data\n",
        "- Labels One hot enconding\n",
        "- Text Enconding using Model specific, ex. BertTokenizer, RobertaTokenizer,etc."
      ]
    },
    {
      "cell_type": "code",
      "metadata": {
        "colab": {
          "base_uri": "https://localhost:8080/"
        },
        "id": "fyCHlYHO76Ya",
        "outputId": "8727869e-3620-4659-c60a-959cc65fd02a"
      },
      "source": [
        "def Decontracted(DataFrame):\n",
        "  for i, text in enumerate(DataFrame['Text']):\n",
        "    DataFrame['Text'][i] = contractions.fix(text)\n",
        "  return DataFrame\n",
        "trainData = Decontracted(trainData)\n",
        "valData = Decontracted(valData)\n",
        "testData = Decontracted(testData)"
      ],
      "execution_count": 10,
      "outputs": [
        {
          "output_type": "stream",
          "name": "stderr",
          "text": [
            "/usr/local/lib/python3.7/dist-packages/ipykernel_launcher.py:3: SettingWithCopyWarning: \n",
            "A value is trying to be set on a copy of a slice from a DataFrame\n",
            "\n",
            "See the caveats in the documentation: https://pandas.pydata.org/pandas-docs/stable/user_guide/indexing.html#returning-a-view-versus-a-copy\n",
            "  This is separate from the ipykernel package so we can avoid doing imports until\n"
          ]
        }
      ]
    },
    {
      "cell_type": "code",
      "metadata": {
        "id": "2rcM-5tCHYYk"
      },
      "source": [
        "# from autocorrect import Speller\n",
        "# def SpellCheck(DataFrame):\n",
        "#   spell = Speller(lang='en')\n",
        "#   for i, text in enumerate(DataFrame['Text']):\n",
        "#       DataFrame['Text'][i] = str(spell(text))\n",
        "#   return DataFrame\n",
        "\n",
        "# trainData = SpellCheck(trainData)\n",
        "# valData = SpellCheck(valData)\n",
        "# testData = SpellCheck(testData)"
      ],
      "execution_count": 11,
      "outputs": []
    },
    {
      "cell_type": "code",
      "metadata": {
        "colab": {
          "base_uri": "https://localhost:8080/"
        },
        "id": "h5eELCHFPqCg",
        "outputId": "1e4f9bf6-8001-443d-d360-4fcd2380307a"
      },
      "source": [
        "def LabelEncoding(DataFrame):\n",
        "  labels = []\n",
        "  encodeVectorizer = CountVectorizer(analyzer = \"word\", tokenizer = None,lowercase=True, preprocessor = None, stop_words = None)\n",
        "  encodedLabels = encodeVectorizer.fit_transform(DataFrame['Label']).toarray()\n",
        "  LabelsNames = list(encodeVectorizer.get_feature_names())\n",
        "  for i in DataFrame['Label']:\n",
        "    labels.append((list(LabelsNames).index(i)))\n",
        "  return labels,LabelsNames\n",
        "encodedTrainLabels,TrainLabelFeatureNames = LabelEncoding(trainData)\n",
        "encodedValLabels,ValLabelFeatureNames = LabelEncoding(valData)\n",
        "encodedTestLabels,TestLabelFeatureNames = LabelEncoding(testData)"
      ],
      "execution_count": 12,
      "outputs": [
        {
          "output_type": "stream",
          "name": "stderr",
          "text": [
            "/usr/local/lib/python3.7/dist-packages/sklearn/utils/deprecation.py:87: FutureWarning: Function get_feature_names is deprecated; get_feature_names is deprecated in 1.0 and will be removed in 1.2. Please use get_feature_names_out instead.\n",
            "  warnings.warn(msg, category=FutureWarning)\n"
          ]
        }
      ]
    },
    {
      "cell_type": "code",
      "metadata": {
        "id": "1_ri2vPcjaa8"
      },
      "source": [
        "def TextEncoding(tokenizerType,\n",
        "                 dataTextList, \n",
        "                 LabelList, \n",
        "                 batchSize,\n",
        "                 shufflingParameter,\n",
        "                 maxLen):\n",
        "  tokenizer = AutoTokenizer.from_pretrained(tokenizerType)\n",
        "  textEncodings = tokenizer(dataTextList,\n",
        "                            truncation=True, \n",
        "                            max_length = maxLen,\n",
        "                            padding=\"max_length\")\n",
        "  \n",
        "  dataset = tf.data.Dataset.from_tensor_slices((\n",
        "    dict(textEncodings),\n",
        "    LabelList\n",
        "    ))\n",
        "  dataset = dataset.shuffle(shufflingParameter).batch(batchSize)\n",
        "  return dataset,tokenizer"
      ],
      "execution_count": 13,
      "outputs": []
    },
    {
      "cell_type": "markdown",
      "metadata": {
        "id": "8dN3hq8nn3IJ"
      },
      "source": [
        "# **Model Bulding and Training**"
      ]
    },
    {
      "cell_type": "code",
      "source": [
        "timeData = pd.DataFrame(columns= ['Trainning Time (min) ', 'Evalution (min)'])\n"
      ],
      "metadata": {
        "id": "ljLol0PyWwrC"
      },
      "execution_count": 62,
      "outputs": []
    },
    {
      "cell_type": "code",
      "metadata": {
        "id": "fFYHDS4vozRo"
      },
      "source": [
        "def CreateModel(model,\n",
        "                numLabels,\n",
        "                maxSentanceLength,\n",
        "                input_ids,\n",
        "                mask):\n",
        "  embeddings = model(input_ids,mask)[0]\n",
        "  layer = tf.keras.layers.Dense(1000,activation='relu')(embeddings)\n",
        "  layer = tf.keras.layers.BatchNormalization()(layer)\n",
        "  outputLayer = tf.keras.layers.Dense(6,activation='softmax',name='outputs')(layer)\n",
        "  testModel = tf.keras.Model(inputs=[input_ids,mask],outputs=outputLayer)\n",
        "  return testModel"
      ],
      "execution_count": 65,
      "outputs": []
    },
    {
      "cell_type": "code",
      "metadata": {
        "id": "bIyUN9F8SY1U"
      },
      "source": [
        "def plotEpochs(hist,\n",
        "               histKeys,\n",
        "               Title,\n",
        "               Ylabel,\n",
        "               Xlabel = \"Epochs\",\n",
        "               savePlotPath = \"\"):\n",
        "  legends = []\n",
        "  for i in histKeys:\n",
        "    plt.plot(hist.history[i])\n",
        "    legends.append(i)\n",
        "  plt.title(Title)\n",
        "  plt.ylabel(Ylabel)\n",
        "  plt.xlabel(Xlabel)\n",
        "  plt.legend(legends)\n",
        "  plt.show()\n",
        "  if len(savePlotPath) > 0:\n",
        "    plt.savefig(savePlotPath, format=\"svg\")\n"
      ],
      "execution_count": 15,
      "outputs": []
    },
    {
      "cell_type": "code",
      "metadata": {
        "id": "GKbbulHOm5-9"
      },
      "source": [
        "'''\n",
        "While Trying make custom matrices, I found this post in which they have coded what I was attempting.\n",
        "**Note** I changed the definition name for my own purpose\n",
        "Source: https://datascience.stackexchange.com/questions/45165/how-to-get-accuracy-f1-precision-and-recall-for-a-keras-model \n",
        "'''\n",
        "from keras import backend as K\n",
        "\n",
        "def Recalls(y_true, y_pred):\n",
        "    true_positives = K.sum(K.round(K.clip(y_true * y_pred, 0, 1)))\n",
        "    possible_positives = K.sum(K.round(K.clip(y_true, 0, 1)))\n",
        "    recall = true_positives / (possible_positives + K.epsilon())\n",
        "    return recall\n",
        "\n",
        "def Precision_Marco(y_true, y_pred):\n",
        "    true_positives = K.sum(K.round(K.clip(y_true * y_pred, 0, 1)))\n",
        "    predicted_positives = K.sum(K.round(K.clip(y_pred, 0, 1)))\n",
        "    precision = true_positives / (predicted_positives + K.epsilon())\n",
        "    return precision\n",
        "\n",
        "def F1_Macro(y_true, y_pred):\n",
        "    precision = Precision_Marco(y_true, y_pred)\n",
        "    recall = Recalls(y_true, y_pred)\n",
        "    return 2*((precision*recall)/(precision+recall+K.epsilon()))"
      ],
      "execution_count": 16,
      "outputs": []
    },
    {
      "cell_type": "code",
      "metadata": {
        "id": "RFsyOOkxTRTL"
      },
      "source": [
        "def trainModel(\n",
        "    # Default Parameters\n",
        "    maxSentanceLength = 200,\n",
        "    BatchSize = 16,\n",
        "    shufflingParameter = 1000,\n",
        "    Learning_rate=5e-5,\n",
        "    Epochs=4,\n",
        "    numLabels = len(encodedTrainLabels),\n",
        "    ModelName = 'bert-base-uncased',\n",
        "    ModelMetrics = ['accuracy'],\n",
        "    optimizer = tf.keras.optimizers.Adam(learning_rate=5e-5),\n",
        "    loss = tf.keras.losses.SparseCategoricalCrossentropy(),\n",
        "    ModelTrainData = list(trainData['Text']),\n",
        "    TrainLabels = encodedTrainLabels,\n",
        "    ModelValData = list(valData['Text']),\n",
        "    ValLabels = encodedValLabels):\n",
        "  \n",
        "  trainDataSet,tokenizer = TextEncoding(ModelName,\n",
        "                                        ModelTrainData,\n",
        "                                        TrainLabels,\n",
        "                                        BatchSize,\n",
        "                                        shufflingParameter,\n",
        "                                        maxSentanceLength)\n",
        "  valDataSet,tokenizer = TextEncoding(ModelName,\n",
        "                                      ModelValData,\n",
        "                                      ValLabels,\n",
        "                                      BatchSize,\n",
        "                                      shufflingParameter,\n",
        "                                      maxSentanceLength)\n",
        "  \n",
        "  input_ids = tf.keras.layers.Input(shape=(maxSentanceLength,),name=\"input_ids\", dtype='int32')\n",
        "  mask = tf.keras.layers.Input(shape=(maxSentanceLength,),name=\"attention_mask\",dtype='int32')\n",
        "  tokenIds = tf.keras.layers.Input(shape=(maxSentanceLength,),name=\"token_ids\",dtype='int32')\n",
        "\n",
        "  modelPreTrianed = TFAutoModelForSequenceClassification.from_pretrained(ModelName,\n",
        "                                                               num_labels=6)\n",
        "  model = CreateModel(modelPreTrianed,\n",
        "                      numLabels,\n",
        "                      maxSentanceLength,\n",
        "                      input_ids = input_ids,\n",
        "                      mask = mask)\n",
        "  model.compile(optimizer=optimizer, \n",
        "                loss=loss, \n",
        "                metrics=ModelMetrics)\n",
        "  StartTime = time.time()\n",
        "  hist = model.fit(trainDataSet,\n",
        "          epochs=Epochs,\n",
        "          batch_size=BatchSize,\n",
        "          validation_data =valDataSet)\n",
        "  EndTime = time.time()\n",
        "  TrainingTime = (EndTime-StartTime)/60\n",
        "  return tokenizer,hist,model, modelPreTrianed,TrainingTime\n",
        "\n"
      ],
      "execution_count": 66,
      "outputs": []
    },
    {
      "cell_type": "code",
      "source": [
        "def saveModelWeights(model,\n",
        "                     path):\n",
        "  model.save_weights(path)\n",
        "  print('The Model Saved')\n",
        "\n",
        "def saveTrasformerTokenizer(tokenizer,\n",
        "                            path):\n",
        "  tokenizer.save_pretrained(path)\n",
        "  print('The Tokenizer Saved')\n",
        "\n",
        "def savePreTrainedTransformerModel(model,\n",
        "                                   path):\n",
        "  model.save_pretrained(path)\n",
        "  print('The PreTrained Transformer Model Saved')\n",
        "\n",
        "  "
      ],
      "metadata": {
        "id": "dIZFVT8wN2Tl"
      },
      "execution_count": 67,
      "outputs": []
    },
    {
      "cell_type": "code",
      "metadata": {
        "id": "DZtHUx3MkBdj",
        "colab": {
          "base_uri": "https://localhost:8080/",
          "height": 675
        },
        "outputId": "9cc3c3b7-b860-4d02-d900-2acaae76f8d7"
      },
      "source": [
        "# Bert Model\n",
        "BertTokenizer,history,model,BertPreTrainedModel,BertTrainningTime = trainModel(ModelMetrics = ['accuracy',F1_Macro])\n",
        "plotEpochs(hist = history,\n",
        "           histKeys = ['accuracy','val_accuracy','F1_Macro','val_F1_Macro'],\n",
        "           Title = \"Bert Accuracy Graph\",\n",
        "           Ylabel = \"Loss\",\n",
        "           savePlotPath = \"/echos.svg\" )\n",
        "\n",
        "!mkdir /models/Bert\n",
        "saveModelWeights(model,\n",
        "                 '/models/Bert/BertWeights.h5')\n",
        "savePreTrainedTransformerModel(BertPreTrainedModel,\n",
        "                               '/models/Bert/BertPreTrainedModel')\n",
        "!mkdir /models/Bert/BertTokenizer\n",
        "saveTrasformerTokenizer(BertTokenizer,\n",
        "                        '/models/Bert/BertTokenizer/')\n",
        "timeData.loc['Bert'] = [BertTrainningTime,'NaN']"
      ],
      "execution_count": 68,
      "outputs": [
        {
          "output_type": "stream",
          "name": "stderr",
          "text": [
            "All model checkpoint layers were used when initializing TFBertForSequenceClassification.\n",
            "\n",
            "Some layers of TFBertForSequenceClassification were not initialized from the model checkpoint at bert-base-uncased and are newly initialized: ['classifier']\n",
            "You should probably TRAIN this model on a down-stream task to be able to use it for predictions and inference.\n"
          ]
        },
        {
          "output_type": "stream",
          "name": "stdout",
          "text": [
            "Epoch 1/4\n"
          ]
        },
        {
          "output_type": "stream",
          "name": "stderr",
          "text": [
            "/usr/local/lib/python3.7/dist-packages/keras/engine/functional.py:559: UserWarning: Input dict contained keys ['token_type_ids'] which did not match any model input. They will be ignored by the model.\n",
            "  inputs = self._flatten_to_reference_inputs(inputs)\n"
          ]
        },
        {
          "output_type": "stream",
          "name": "stdout",
          "text": [
            "1000/1000 [==============================] - 459s 438ms/step - loss: 0.4549 - accuracy: 0.8471 - F1_Macro: 1.2453 - val_loss: 0.2238 - val_accuracy: 0.9245 - val_F1_Macro: 0.9847\n",
            "Epoch 2/4\n",
            "1000/1000 [==============================] - 435s 435ms/step - loss: 0.1716 - accuracy: 0.9337 - F1_Macro: 0.9987 - val_loss: 0.1586 - val_accuracy: 0.9335 - val_F1_Macro: 1.0001\n",
            "Epoch 3/4\n",
            "1000/1000 [==============================] - 435s 435ms/step - loss: 0.1329 - accuracy: 0.9457 - F1_Macro: 0.9934 - val_loss: 0.2450 - val_accuracy: 0.9365 - val_F1_Macro: 0.9824\n",
            "Epoch 4/4\n",
            "1000/1000 [==============================] - 435s 435ms/step - loss: 0.1372 - accuracy: 0.9445 - F1_Macro: 0.9937 - val_loss: 0.1907 - val_accuracy: 0.9320 - val_F1_Macro: 0.9992\n"
          ]
        },
        {
          "output_type": "display_data",
          "data": {
            "image/png": "[encoded data removed]",
            "text/plain": [
              "<Figure size 432x288 with 1 Axes>"
            ]
          },
          "metadata": {}
        },
        {
          "output_type": "stream",
          "name": "stdout",
          "text": [
            "mkdir: cannot create directory ‘/models/Bert’: File exists\n",
            "The Model Saved\n",
            "The PreTrained Transformer Model Saved\n",
            "mkdir: cannot create directory ‘/models/Bert/BertTokenizer’: File exists\n",
            "The Tokenizer Saved\n"
          ]
        },
        {
          "output_type": "display_data",
          "data": {
            "text/plain": [
              "<Figure size 432x288 with 0 Axes>"
            ]
          },
          "metadata": {}
        }
      ]
    },
    {
      "cell_type": "code",
      "source": [
        "# # !mkdir /home/Bert\n",
        "# # model.save('/test/bert',include_optimizer=False,save_format='tf')\n",
        "# # model.save_weights('/home/Bert/')\n",
        "# # # !gcloud auth login\n",
        "# # !gsutil cp -r /home/Bert/ gs://emotion-models/\n",
        "# # plotEpochs(hist, 'Bert')\n",
        "\n"
      ],
      "metadata": {
        "id": "61c7WkpYFT61",
        "outputId": "f71ed1c6-27ef-4603-a5ff-2462728d3448",
        "colab": {
          "base_uri": "https://localhost:8080/"
        }
      },
      "execution_count": 47,
      "outputs": [
        {
          "output_type": "stream",
          "name": "stderr",
          "text": [
            "WARNING:absl:Found untraced functions such as embeddings_layer_call_fn, embeddings_layer_call_and_return_conditional_losses, encoder_layer_call_fn, encoder_layer_call_and_return_conditional_losses, pooler_layer_call_fn while saving (showing 5 of 1055). These functions will not be directly callable after loading.\n"
          ]
        },
        {
          "output_type": "stream",
          "name": "stdout",
          "text": [
            "INFO:tensorflow:Assets written to: /test/bert/assets\n"
          ]
        },
        {
          "output_type": "stream",
          "name": "stderr",
          "text": [
            "INFO:tensorflow:Assets written to: /test/bert/assets\n",
            "/usr/local/lib/python3.7/dist-packages/keras/saving/saved_model/layer_serialization.py:112: CustomMaskWarning: Custom mask layers require a config and must override get_config. When loading, the custom mask layer must be passed to the custom_objects argument.\n",
            "  return generic_utils.serialize_keras_object(obj)\n"
          ]
        }
      ]
    },
    {
      "cell_type": "code",
      "metadata": {
        "id": "DYtpPU4368a6",
        "outputId": "733ffb53-41e6-4771-92f1-4d702b09f846",
        "colab": {
          "base_uri": "https://localhost:8080/",
          "height": 809,
          "referenced_widgets": [
            "368a9849d1f245a49738a2bcc2dcd4e2",
            "089afe9b928341b5bfcdac855c57a11d",
            "f1e3704cb00040e38b9eee9ffbba47a4",
            "ad97462c4e9843e188022c669388efc2",
            "081c7ea5aefe4f6eb78534ef8bb3a101",
            "8e58d80f7cec440abe4c16f4018d5f66",
            "487ecfc8b1f54328b9a932acfb288cd8",
            "e658143e1520462eb391b826d900f0f6",
            "5e5fc0e350654a129db5c400c836dd71",
            "4f4074e9d4cf4ea9a2663bdba9dece33",
            "6d4eaa4d3da84beca5a3652cd285667d",
            "26ab4e6f5f434d8aa8565e4c69206ec1",
            "fc0d172764cb45ef90922b77e164a96c",
            "7e641590ccaa4613b5479f980bf51984",
            "df657f929c1b4cafb09ad8fbf7edafb6",
            "a4c5787ceda645638c8d2cffb264cd1d",
            "beac918577374f4d91815f7ece6214e5",
            "fe47d3a8734f496ea7e0a0a4417fb11d",
            "d6715c511dcc46a58d03953971a99f00",
            "e7a0410846894f38beff7b1842ed38c3",
            "12ff639593c743b79be3d663cf629c17",
            "6c33c94da79342ee85e82eb72b0751b0",
            "c48c3915a08f49109dfe967117133379",
            "a4e2a5f38c074228917cc9350bad3e84",
            "4c6c1eb02f9a4c18904f701ca3bc50f5",
            "e022d4bcb2b946cd8c212de23914450c",
            "f9baa45099754c9a84ef2538329481a9",
            "eb1733b1b367453992db998f59ee547d",
            "c1831b6a2a21442ebc33f73123743395",
            "ea8588f512d04b038b9d6cf5f2f294aa",
            "61abfd6e09f742f38b07f7f58502e51a",
            "4b5844f566814034b6f305140590c419",
            "fa908468c81f4f4896f0b236aba45cf7",
            "e02cd6fa9ea246fda8b9bdbc7a2caa9f",
            "8a23b3391b304272ad250958aa00da40",
            "0549c56c53be47af80f5a5dc1ab7dd9a",
            "ae0b77472c77430bb84fc0ef611d8aa7",
            "f59ceae8fa3a496ba58ae6033ef3c880",
            "99c33cb9956c41f2a80d1ff09852812f",
            "81141375b4de40d3bbb9acbe33eabc28",
            "e4bd30d007a7403c87e06ca77c078df4",
            "0715f3146f2542c7946001a069254d0a",
            "445394955ce4410e9251517a103d59f5",
            "98dfda93314142bdbfc85e5eae16d17f",
            "7c4ce3757e4e4a6485fa50372d414ea8",
            "8cd35b98e3d64bb1b563c6019d266dc9",
            "1f718192e1ac4e5ab25f57326fc937d4",
            "0d38073d25734cf38e6db484f1ffac09",
            "02a8852a344d4c748420491725556c36",
            "96ca6fb3ba9c42dcaae80a59ce8b25b6",
            "0932910990b24f8299310edd0658a0cb",
            "5cc9adaf3f8b41a6bc150ce01f964b26",
            "155f389f172b4b318a6d867c494e516b",
            "72738f4de57e45bb87763f66884a2180",
            "ef9c8891b3c2463db47e833edc228e51"
          ]
        }
      },
      "source": [
        "# DistilBert Model\n",
        "DistilBertTokenizer,history,model,DistilBertPreTrainedModel,DistilBertTrainningTime = trainModel(ModelMetrics = ['accuracy',F1_Macro],\n",
        "                                                                               ModelName = 'distilbert-base-uncased')\n",
        "plotEpochs(hist = history,\n",
        "           histKeys = ['accuracy','val_accuracy','F1_Macro','val_F1_Macro'],\n",
        "           Title = \"DistilBert Accuracy Graph\",\n",
        "           Ylabel = \"Accuracy\",\n",
        "           savePlotPath = \"/echos.svg\" )\n",
        "\n",
        "!mkdir /models/DistilBert\n",
        "saveModelWeights(model,\n",
        "                 '/models/DistilBert/DistilBertWeights.h5')\n",
        "savePreTrainedTransformerModel(BertPreTrainedModel,\n",
        "                               '/models/DistilBert/DistilBertPreTrainedModel')\n",
        "!mkdir /models/DistilBert/DistilBertTokenizer\n",
        "saveTrasformerTokenizer(BertTokenizer,\n",
        "                        '/models/DistilBert/DistilBertTokenizer/')\n",
        "timeData.loc['DistilBert'] = [DistilBertTrainningTime,'NaN']"
      ],
      "execution_count": 69,
      "outputs": [
        {
          "output_type": "display_data",
          "data": {
            "application/vnd.jupyter.widget-view+json": {
              "model_id": "368a9849d1f245a49738a2bcc2dcd4e2",
              "version_minor": 0,
              "version_major": 2
            },
            "text/plain": [
              "Downloading:   0%|          | 0.00/28.0 [00:00<?, ?B/s]"
            ]
          },
          "metadata": {}
        },
        {
          "output_type": "display_data",
          "data": {
            "application/vnd.jupyter.widget-view+json": {
              "model_id": "26ab4e6f5f434d8aa8565e4c69206ec1",
              "version_minor": 0,
              "version_major": 2
            },
            "text/plain": [
              "Downloading:   0%|          | 0.00/483 [00:00<?, ?B/s]"
            ]
          },
          "metadata": {}
        },
        {
          "output_type": "display_data",
          "data": {
            "application/vnd.jupyter.widget-view+json": {
              "model_id": "c48c3915a08f49109dfe967117133379",
              "version_minor": 0,
              "version_major": 2
            },
            "text/plain": [
              "Downloading:   0%|          | 0.00/226k [00:00<?, ?B/s]"
            ]
          },
          "metadata": {}
        },
        {
          "output_type": "display_data",
          "data": {
            "application/vnd.jupyter.widget-view+json": {
              "model_id": "e02cd6fa9ea246fda8b9bdbc7a2caa9f",
              "version_minor": 0,
              "version_major": 2
            },
            "text/plain": [
              "Downloading:   0%|          | 0.00/455k [00:00<?, ?B/s]"
            ]
          },
          "metadata": {}
        },
        {
          "output_type": "display_data",
          "data": {
            "application/vnd.jupyter.widget-view+json": {
              "model_id": "7c4ce3757e4e4a6485fa50372d414ea8",
              "version_minor": 0,
              "version_major": 2
            },
            "text/plain": [
              "Downloading:   0%|          | 0.00/347M [00:00<?, ?B/s]"
            ]
          },
          "metadata": {}
        },
        {
          "output_type": "stream",
          "name": "stderr",
          "text": [
            "Some layers from the model checkpoint at distilbert-base-uncased were not used when initializing TFDistilBertForSequenceClassification: ['activation_13', 'vocab_layer_norm', 'vocab_transform', 'vocab_projector']\n",
            "- This IS expected if you are initializing TFDistilBertForSequenceClassification from the checkpoint of a model trained on another task or with another architecture (e.g. initializing a BertForSequenceClassification model from a BertForPreTraining model).\n",
            "- This IS NOT expected if you are initializing TFDistilBertForSequenceClassification from the checkpoint of a model that you expect to be exactly identical (initializing a BertForSequenceClassification model from a BertForSequenceClassification model).\n",
            "Some layers of TFDistilBertForSequenceClassification were not initialized from the model checkpoint at distilbert-base-uncased and are newly initialized: ['classifier', 'dropout_247', 'pre_classifier']\n",
            "You should probably TRAIN this model on a down-stream task to be able to use it for predictions and inference.\n"
          ]
        },
        {
          "output_type": "stream",
          "name": "stdout",
          "text": [
            "Epoch 1/4\n",
            "1000/1000 [==============================] - 237s 226ms/step - loss: 0.4915 - accuracy: 0.8391 - F1_Macro: 1.2227 - val_loss: 0.2993 - val_accuracy: 0.8980 - val_F1_Macro: 0.9832\n",
            "Epoch 2/4\n",
            "1000/1000 [==============================] - 223s 223ms/step - loss: 0.2001 - accuracy: 0.9283 - F1_Macro: 1.0056 - val_loss: 0.1889 - val_accuracy: 0.9260 - val_F1_Macro: 1.0113\n",
            "Epoch 3/4\n",
            "1000/1000 [==============================] - 223s 223ms/step - loss: 0.1460 - accuracy: 0.9427 - F1_Macro: 0.9943 - val_loss: 0.2100 - val_accuracy: 0.9290 - val_F1_Macro: 0.9836\n",
            "Epoch 4/4\n",
            "1000/1000 [==============================] - 223s 223ms/step - loss: 0.1254 - accuracy: 0.9531 - F1_Macro: 0.9839 - val_loss: 0.2176 - val_accuracy: 0.9310 - val_F1_Macro: 0.9867\n"
          ]
        },
        {
          "output_type": "display_data",
          "data": {
            "image/png": "[encoded data removed]",
            "text/plain": [
              "<Figure size 432x288 with 1 Axes>"
            ]
          },
          "metadata": {}
        },
        {
          "output_type": "stream",
          "name": "stdout",
          "text": [
            "The Model Saved\n",
            "The PreTrained Transformer Model Saved\n",
            "The Tokenizer Saved\n"
          ]
        },
        {
          "output_type": "display_data",
          "data": {
            "text/plain": [
              "<Figure size 432x288 with 0 Axes>"
            ]
          },
          "metadata": {}
        }
      ]
    },
    {
      "cell_type": "code",
      "source": [
        "# Roberta Model\n",
        "trainDataSet,tokenizer = TextEncoding('roberta-base',list(trainData['Text']),encodedTrainLabels,BatchSize,shufflingParameter,maxSentanceLength)\n",
        "valDataSet,tokenizer = TextEncoding('roberta-base',list(valData['Text']),encodedValLabels,BatchSize,shufflingParameter,maxSentanceLength)\n",
        "model = TFAutoModelForSequenceClassification.from_pretrained('roberta-base',num_labels=6)\n",
        "model = CreateModel(model,numLabels,maxSentanceLength)\n",
        "model.compile(optimizer=tf.keras.optimizers.Adam(learning_rate=5e-5), loss=tf.keras.losses.SparseCategoricalCrossentropy(), \n",
        "              metrics=['accuracy',\n",
        "                       f1_m])\n",
        "hist = model.fit(trainDataSet.batch(16),\n",
        "          epochs=4,\n",
        "          batch_size=16,\n",
        "          validation_data =valDataSet.batch(16))\n",
        "model.save_weights('/model/Roberta.h5')\n",
        "plotEpochs(hist, 'Roberta')"
      ],
      "metadata": {
        "id": "dk5TXWKPwGTG"
      },
      "execution_count": null,
      "outputs": []
    },
    {
      "cell_type": "code",
      "metadata": {
        "id": "aZ2DbmV44TJN"
      },
      "source": [
        "# XLnet Model\n",
        "trainDataSet,tokenizer = TextEncoding('xlnet-base-cased',list(trainData['Text']),encodedTrainLabels,BatchSize,shufflingParameter,maxSentanceLength)\n",
        "valDataSet,tokenizer = TextEncoding('xlnet-base-cased',list(valData['Text']),encodedValLabels,BatchSize,shufflingParameter,maxSentanceLength)\n",
        "model = TFAutoModelForSequenceClassification.from_pretrained('xlnet-base-cased',num_labels=6)\n",
        "model = CreateModel(model,numLabels,maxSentanceLength)\n",
        "model.compile(optimizer=tf.keras.optimizers.Adam(learning_rate=5e-5), loss=tf.keras.losses.SparseCategoricalCrossentropy(), \n",
        "              metrics=['accuracy',\n",
        "                       f1_m])\n",
        "hist = model.fit(trainDataSet.batch(16),\n",
        "          epochs=4,\n",
        "          batch_size=16,\n",
        "          validation_data =valDataSet.batch(16))\n",
        "model.save_weights('/model/XLnet.h5')\n",
        "plotEpochs(hist, 'XLnet')"
      ],
      "execution_count": null,
      "outputs": []
    },
    {
      "cell_type": "code",
      "source": [
        "# Electra Model\n",
        "trainDataSet,tokenizer = TextEncoding('google/electra-small-discriminator',list(trainData['Text']),encodedTrainLabels,BatchSize,shufflingParameter,maxSentanceLength)\n",
        "valDataSet,tokenizer = TextEncoding('google/electra-small-discriminator',list(valData['Text']),encodedValLabels,BatchSize,shufflingParameter,maxSentanceLength)\n",
        "model = TFAutoModelForSequenceClassification.from_pretrained('google/electra-small-discriminator',num_labels=6)\n",
        "model = CreateModel(model,numLabels,maxSentanceLength)\n",
        "model.compile(optimizer=tf.keras.optimizers.Adam(learning_rate=5e-5), loss=tf.keras.losses.SparseCategoricalCrossentropy(), \n",
        "              metrics=['accuracy',\n",
        "                       f1_m])\n",
        "hist = model.fit(trainDataSet.batch(16),\n",
        "          epochs=4,\n",
        "          batch_size=16,\n",
        "          validation_data =valDataSet.batch(16))\n",
        "model.save_weights('/model/Electra.h5')\n",
        "plotEpochs(hist, 'Electra')"
      ],
      "metadata": {
        "id": "EGBp-v_pxKsP"
      },
      "execution_count": null,
      "outputs": []
    },
    {
      "cell_type": "code",
      "source": [
        "# GPT2 Model\n",
        "trainDataSet,tokenizer = TextEncoding('microsoft/DialogRPT-updown',list(trainData['Text']),encodedTrainLabels,BatchSize,shufflingParameter,maxSentanceLength)\n",
        "valDataSet,tokenizer = TextEncoding('microsoft/DialogRPT-updown',list(valData['Text']),encodedValLabels,BatchSize,shufflingParameter,maxSentanceLength)\n",
        "model = TFAutoModelForSequenceClassification.from_pretrained('microsoft/DialogRPT-updown',num_labels=6)\n",
        "model = CreateModel(model,numLabels,maxSentanceLength)\n",
        "model.compile(optimizer=tf.keras.optimizers.Adam(learning_rate=5e-5), loss=tf.keras.losses.SparseCategoricalCrossentropy(), \n",
        "              metrics=['accuracy',\n",
        "                       f1_m])\n",
        "hist = model.fit(trainDataSet.batch(16),\n",
        "          epochs=4,\n",
        "          batch_size=16,\n",
        "          validation_data =valDataSet.batch(16))\n",
        "model.save_weights('/model/GPT2.h5')\n",
        "plotEpochs(hist, 'GPT2')"
      ],
      "metadata": {
        "id": "ifDb6Tqyymt-",
        "outputId": "79c14b82-1b51-4f62-e799-1bc9abb1955b",
        "colab": {
          "base_uri": "https://localhost:8080/",
          "height": 244
        }
      },
      "execution_count": null,
      "outputs": [
        {
          "output_type": "error",
          "ename": "NameError",
          "evalue": "ignored",
          "traceback": [
            "\u001b[0;31m---------------------------------------------------------------------------\u001b[0m",
            "\u001b[0;31mNameError\u001b[0m                                 Traceback (most recent call last)",
            "\u001b[0;32m<ipython-input-2-194fd3d1e771>\u001b[0m in \u001b[0;36m<module>\u001b[0;34m()\u001b[0m\n\u001b[1;32m      1\u001b[0m \u001b[0;31m# GPT2 Model\u001b[0m\u001b[0;34m\u001b[0m\u001b[0;34m\u001b[0m\u001b[0;34m\u001b[0m\u001b[0m\n\u001b[0;32m----> 2\u001b[0;31m \u001b[0mtrainDataSet\u001b[0m\u001b[0;34m,\u001b[0m\u001b[0mtokenizer\u001b[0m \u001b[0;34m=\u001b[0m \u001b[0mTextEncoding\u001b[0m\u001b[0;34m(\u001b[0m\u001b[0;34m'microsoft/DialogRPT-updown'\u001b[0m\u001b[0;34m,\u001b[0m\u001b[0mlist\u001b[0m\u001b[0;34m(\u001b[0m\u001b[0mtrainData\u001b[0m\u001b[0;34m[\u001b[0m\u001b[0;34m'Text'\u001b[0m\u001b[0;34m]\u001b[0m\u001b[0;34m)\u001b[0m\u001b[0;34m,\u001b[0m\u001b[0mencodedTrainLabels\u001b[0m\u001b[0;34m,\u001b[0m\u001b[0mBatchSize\u001b[0m\u001b[0;34m,\u001b[0m\u001b[0mshufflingParameter\u001b[0m\u001b[0;34m,\u001b[0m\u001b[0mmaxSentanceLength\u001b[0m\u001b[0;34m)\u001b[0m\u001b[0;34m\u001b[0m\u001b[0;34m\u001b[0m\u001b[0m\n\u001b[0m\u001b[1;32m      3\u001b[0m \u001b[0mvalDataSet\u001b[0m\u001b[0;34m,\u001b[0m\u001b[0mtokenizer\u001b[0m \u001b[0;34m=\u001b[0m \u001b[0mTextEncoding\u001b[0m\u001b[0;34m(\u001b[0m\u001b[0;34m'microsoft/DialogRPT-updown'\u001b[0m\u001b[0;34m,\u001b[0m\u001b[0mlist\u001b[0m\u001b[0;34m(\u001b[0m\u001b[0mvalData\u001b[0m\u001b[0;34m[\u001b[0m\u001b[0;34m'Text'\u001b[0m\u001b[0;34m]\u001b[0m\u001b[0;34m)\u001b[0m\u001b[0;34m,\u001b[0m\u001b[0mencodedValLabels\u001b[0m\u001b[0;34m,\u001b[0m\u001b[0mBatchSize\u001b[0m\u001b[0;34m,\u001b[0m\u001b[0mshufflingParameter\u001b[0m\u001b[0;34m,\u001b[0m\u001b[0mmaxSentanceLength\u001b[0m\u001b[0;34m)\u001b[0m\u001b[0;34m\u001b[0m\u001b[0;34m\u001b[0m\u001b[0m\n\u001b[1;32m      4\u001b[0m \u001b[0mmodel\u001b[0m \u001b[0;34m=\u001b[0m \u001b[0mTFAutoModelForSequenceClassification\u001b[0m\u001b[0;34m.\u001b[0m\u001b[0mfrom_pretrained\u001b[0m\u001b[0;34m(\u001b[0m\u001b[0;34m'microsoft/DialogRPT-updown'\u001b[0m\u001b[0;34m,\u001b[0m\u001b[0mnum_labels\u001b[0m\u001b[0;34m=\u001b[0m\u001b[0;36m6\u001b[0m\u001b[0;34m)\u001b[0m\u001b[0;34m\u001b[0m\u001b[0;34m\u001b[0m\u001b[0m\n\u001b[1;32m      5\u001b[0m \u001b[0mmodel\u001b[0m \u001b[0;34m=\u001b[0m \u001b[0mCreateModel\u001b[0m\u001b[0;34m(\u001b[0m\u001b[0mmodel\u001b[0m\u001b[0;34m,\u001b[0m\u001b[0mnumLabels\u001b[0m\u001b[0;34m,\u001b[0m\u001b[0mmaxSentanceLength\u001b[0m\u001b[0;34m)\u001b[0m\u001b[0;34m\u001b[0m\u001b[0;34m\u001b[0m\u001b[0m\n",
            "\u001b[0;31mNameError\u001b[0m: name 'TextEncoding' is not defined"
          ]
        }
      ]
    },
    {
      "cell_type": "code",
      "source": [
        "!gcloud auth login\n",
        "# !gcloud rm -rf gs://emotion-models/\n",
        "!gsutil cp -r /models/* gs://emotion-models/"
      ],
      "metadata": {
        "id": "gjEdDMKLmSsa",
        "outputId": "964456d5-a88b-4f96-c38c-7271e046257b",
        "colab": {
          "base_uri": "https://localhost:8080/"
        }
      },
      "execution_count": 72,
      "outputs": [
        {
          "output_type": "stream",
          "name": "stdout",
          "text": [
            "Go to the following link in your browser:\n",
            "\n",
            "    https://accounts.google.com/o/oauth2/auth?response_type=code&client_id=32555940559.apps.googleusercontent.com&redirect_uri=urn%3Aietf%3Awg%3Aoauth%3A2.0%3Aoob&scope=openid+https%3A%2F%2Fwww.googleapis.com%2Fauth%2Fuserinfo.email+https%3A%2F%2Fwww.googleapis.com%2Fauth%2Fcloud-platform+https%3A%2F%2Fwww.googleapis.com%2Fauth%2Fappengine.admin+https%3A%2F%2Fwww.googleapis.com%2Fauth%2Fcompute+https%3A%2F%2Fwww.googleapis.com%2Fauth%2Faccounts.reauth&state=mXt3s1b97bGCProttrHMsfL2bLlpqA&prompt=consent&access_type=offline&code_challenge=KD-0KhxihN72Ud9k6ehtkpHXs-XGk1eNuCYJ89GJkn8&code_challenge_method=S256\n",
            "\n",
            "Enter verification code: 4/1AX4XfWjfjCzB5RemassW4RtUBFoHfQ7CNf16iOO6RB2hT_TnTN7ctbD_J0Y\n",
            "\n",
            "You are now logged in as [anirudhovn@gmail.com].\n",
            "Your current project is [None].  You can change this setting by running:\n",
            "  $ gcloud config set project PROJECT_ID\n",
            "Copying file:///models/Bert/BertWeights.h5 [Content-Type=application/octet-stream]...\n",
            "==> NOTE: You are uploading one or more large file(s), which would run\n",
            "significantly faster if you enable parallel composite uploads. This\n",
            "feature can be enabled by editing the\n",
            "\"parallel_composite_upload_threshold\" value in your .boto\n",
            "configuration file. However, note that if you do this large files will\n",
            "be uploaded as `composite objects\n",
            "<https://cloud.google.com/storage/docs/composite-objects>`_,which\n",
            "means that any user who downloads such objects will need to have a\n",
            "compiled crcmod installed (see \"gsutil help crcmod\"). This is because\n",
            "without a compiled crcmod, computing checksums on composite objects is\n",
            "so slow that gsutil disables downloads of composite objects.\n",
            "\n",
            "Copying file:///models/Bert/BertTokenizer/tokenizer_config.json [Content-Type=application/json]...\n",
            "Copying file:///models/Bert/BertTokenizer/vocab.txt [Content-Type=text/plain]...\n",
            "Copying file:///models/Bert/BertTokenizer/tokenizer.json [Content-Type=application/json]...\n",
            "| [4 files][418.7 MiB/418.7 MiB]    9.3 MiB/s                                   \n",
            "==> NOTE: You are performing a sequence of gsutil operations that may\n",
            "run significantly faster if you instead use gsutil -m cp ... Please\n",
            "see the -m section under \"gsutil help options\" for further information\n",
            "about when gsutil -m can be advantageous.\n",
            "\n",
            "Copying file:///models/Bert/BertTokenizer/special_tokens_map.json [Content-Type=application/json]...\n",
            "Copying file:///models/Bert/BertTokenizer2/tokenizer_config.json [Content-Type=application/json]...\n",
            "Copying file:///models/Bert/BertTokenizer2/vocab.txt [Content-Type=text/plain]...\n",
            "Copying file:///models/Bert/BertTokenizer2/tokenizer.json [Content-Type=application/json]...\n",
            "Copying file:///models/Bert/BertTokenizer2/special_tokens_map.json [Content-Type=application/json]...\n",
            "Copying file:///models/Bert/BertPreTrainedModel/config.json [Content-Type=application/json]...\n",
            "Copying file:///models/Bert/BertPreTrainedModel/tf_model.h5 [Content-Type=application/octet-stream]...\n",
            "Copying file:///models/DistilBert/DistilBertWeights.h5 [Content-Type=application/octet-stream]...\n",
            "Copying file:///models/DistilBert/DistilBertPreTrainedModel/config.json [Content-Type=application/json]...\n",
            "Copying file:///models/DistilBert/DistilBertPreTrainedModel/tf_model.h5 [Content-Type=application/octet-stream]...\n",
            "Copying file:///models/DistilBert/DistilBertTokenizer/tokenizer_config.json [Content-Type=application/json]...\n",
            "Copying file:///models/DistilBert/DistilBertTokenizer/vocab.txt [Content-Type=text/plain]...\n",
            "Copying file:///models/DistilBert/DistilBertTokenizer/tokenizer.json [Content-Type=application/json]...\n",
            "Copying file:///models/DistilBert/DistilBertTokenizer/special_tokens_map.json [Content-Type=application/json]...\n",
            "|\n",
            "Operation completed over 18 objects/1.5 GiB.                                     \n"
          ]
        }
      ]
    },
    {
      "cell_type": "markdown",
      "source": [
        "# **Model Validation**"
      ],
      "metadata": {
        "id": "vR8LtfSPy7k0"
      }
    },
    {
      "cell_type": "code",
      "metadata": {
        "id": "CKD8bHS57tSr"
      },
      "source": [
        "class PredictEmotion:\n",
        "  \n",
        "  def __init__(self,\n",
        "               modelName, \n",
        "               modelPath,\n",
        "               modelPreTrainedPath,\n",
        "               isTokenizerFast = False, \n",
        "               numLabels = 6):\n",
        "    self.modelPreTrainedPath = modelPreTrainedPath\n",
        "    self.modelName = modelName\n",
        "    self.modelPath = modelPath\n",
        "    self.isTokenizerFast = isTokenizerFast\n",
        "    self.numLabels = numLabels\n",
        "    self.model = self.MakeModelArchitecture()\n",
        "    self.loadModelWeights()\n",
        "    self.tokenizer = self.makeTokenizer()\n",
        "    self.spell = Speller(lang='en')\n",
        "    self.emotionTypes = ['anger', 'fear', 'joy', 'love', 'sadness', 'surprise']\n",
        "\n",
        "  def MakeModelArchitecture(self):\n",
        "    model = TFAutoModelForSequenceClassification.from_pretrained(self.modelPreTrainedPath, \n",
        "                                                                 local_files_only=True)\n",
        "\n",
        "\n",
        "    input_ids = tf.keras.layers.Input(shape=(200,),name=\"input_ids\", dtype='int32')\n",
        "    mask = tf.keras.layers.Input(shape=(200,),name=\"attention_mask\",dtype='int32')\n",
        "    embeddings = model(input_ids,attention_mask=mask)[0]\n",
        "    layer = tf.keras.layers.Dense(1000,activation='relu')(embeddings)\n",
        "    #layer = tf.keras.layers.BatchNormalization()(layer)\n",
        "    outputLayer = tf.keras.layers.Dense(6,activation='softmax',name='outputs')(layer)\n",
        "    ModelArchitecture = tf.keras.Model(inputs=[input_ids,mask],outputs=outputLayer)\n",
        "    return ModelArchitecture\n",
        "\n",
        "  def loadModelWeights(self):\n",
        "    self.model.load_weights(self.modelPath)\n",
        "  \n",
        "  def makeTokenizer(self):\n",
        "    return AutoTokenizer.from_pretrained(self.modelName)\n",
        "  \n",
        "  def TextPrepration(self,text):\n",
        "    DecontractedText = contractions.fix(text)\n",
        "    # SpelledText = str(self.spell(DecontractedText))\n",
        "    textEncodings = self.tokenizer(DecontractedText,\n",
        "                            truncation=True, \n",
        "                            max_length = 200,\n",
        "                            padding=\"max_length\", \n",
        "                            return_tensors='tf')\n",
        "    return {\n",
        "      'input_ids': tf.cast(textEncodings['input_ids'],tf.int32),\n",
        "      'attention_mask': tf.cast(textEncodings['attention_mask'],tf.int32)}\n",
        "\n",
        "  def PredictTextEmotion(self,text):\n",
        "    prepratedText = self.TextPrepration(text)\n",
        "    emotion = self.model.predict(prepratedText) \n",
        "    predictedEmotion = np.argmax(emotion)\n",
        "    highestProb = emotion[0][predictedEmotion]\n",
        "    return self.emotionTypes[predictedEmotion],highestProb\n"
      ],
      "execution_count": 28,
      "outputs": []
    },
    {
      "cell_type": "code",
      "metadata": {
        "id": "j_6MFVJZ_z4B"
      },
      "source": [
        "def predictEmotionTestData(predict,testDataSet):\n",
        "  # startTime = time.time()\n",
        "  predictedLabels = []\n",
        "  for i in testDataSet:\n",
        "    # print(i)\n",
        "    emotion,prob = predict.PredictTextEmotion(i)\n",
        "    predictedLabels.append(emotion)\n",
        "  # endTime = time.time()\n",
        "  # elapasedTime = (startTime-endTime)/60\n",
        "  return predictedLabels\n"
      ],
      "execution_count": 29,
      "outputs": []
    },
    {
      "cell_type": "code",
      "metadata": {
        "id": "MXpiTn_kBgqW",
        "outputId": "c6c71629-3243-4489-c57f-a7969943158b",
        "colab": {
          "base_uri": "https://localhost:8080/"
        }
      },
      "source": [
        "# !gcloud auth login\n",
        "# !gsutil cp -r gs://emotion-models/Bert.h5 /home/\n",
        "\n",
        "predictClass = PredictEmotion('bert-base-uncased',\n",
        "                              '/models/Bert/BertWeights.h5',\n",
        "                              '/models/Bert/BertPreTrainedModel/')\n",
        "startTime = time.time()\n",
        "predVal = predictEmotionTestData(predictClass,list(testData['Text']))\n",
        "endTime=time.time()\n",
        "from sklearn.metrics import f1_score\n",
        "# f1_score(true_output, pimport matplotlib.pyplot as pltredict_output, average='macro')\n"
      ],
      "execution_count": 30,
      "outputs": [
        {
          "output_type": "stream",
          "name": "stderr",
          "text": [
            "Some layers from the model checkpoint at /models/Bert/BertPreTrainedModel/ were not used when initializing TFBertForSequenceClassification: ['dropout_37']\n",
            "- This IS expected if you are initializing TFBertForSequenceClassification from the checkpoint of a model trained on another task or with another architecture (e.g. initializing a BertForSequenceClassification model from a BertForPreTraining model).\n",
            "- This IS NOT expected if you are initializing TFBertForSequenceClassification from the checkpoint of a model that you expect to be exactly identical (initializing a BertForSequenceClassification model from a BertForSequenceClassification model).\n",
            "All the layers of TFBertForSequenceClassification were initialized from the model checkpoint at /models/Bert/BertPreTrainedModel/.\n",
            "If your task is similar to the task the model of the checkpoint was trained on, you can already use TFBertForSequenceClassification for predictions without further training.\n"
          ]
        }
      ]
    },
    {
      "cell_type": "code",
      "source": [
        "print(predictClass.PredictTextEmotion('I love cats soo much that I would do anything for them even though it might be hard for me'))\n"
      ],
      "metadata": {
        "colab": {
          "base_uri": "https://localhost:8080/"
        },
        "id": "byBoZMwl8hMw",
        "outputId": "747ffcce-ad1e-4742-8da4-fbf847650bbc"
      },
      "execution_count": 31,
      "outputs": [
        {
          "output_type": "stream",
          "name": "stdout",
          "text": [
            "('sadness', 0.9370546)\n"
          ]
        }
      ]
    },
    {
      "cell_type": "code",
      "metadata": {
        "id": "4VzLO6qPErKP",
        "outputId": "70235884-421d-4dd5-d1ff-5f4b259ca539",
        "colab": {
          "base_uri": "https://localhost:8080/"
        }
      },
      "source": [
        "print(classification_report(list(testData['Label']), predVal))\n",
        "print((endTime-startTime)/60)"
      ],
      "execution_count": 32,
      "outputs": [
        {
          "output_type": "stream",
          "name": "stdout",
          "text": [
            "              precision    recall  f1-score   support\n",
            "\n",
            "       anger       0.94      0.91      0.92       275\n",
            "        fear       0.89      0.90      0.90       224\n",
            "         joy       0.97      0.91      0.94       695\n",
            "        love       0.77      0.89      0.82       159\n",
            "     sadness       0.91      0.98      0.95       581\n",
            "    surprise       0.90      0.68      0.78        66\n",
            "\n",
            "    accuracy                           0.92      2000\n",
            "   macro avg       0.90      0.88      0.88      2000\n",
            "weighted avg       0.92      0.92      0.92      2000\n",
            "\n",
            "3.1199239333470663\n"
          ]
        }
      ]
    },
    {
      "cell_type": "code",
      "metadata": {
        "id": "8O1Z4PZ8_zED",
        "outputId": "67b6f5d3-0d70-422f-c13b-70f464404264",
        "colab": {
          "base_uri": "https://localhost:8080/"
        }
      },
      "source": [
        "\n",
        "sent = 'im feeling quite sad and sorry for myself but ill snap out of it soon'"
      ],
      "execution_count": null,
      "outputs": [
        {
          "output_type": "stream",
          "name": "stderr",
          "text": [
            "All model checkpoint layers were used when initializing TFBertForSequenceClassification.\n",
            "\n",
            "Some layers of TFBertForSequenceClassification were not initialized from the model checkpoint at bert-base-uncased and are newly initialized: ['classifier']\n",
            "You should probably TRAIN this model on a down-stream task to be able to use it for predictions and inference.\n"
          ]
        }
      ]
    },
    {
      "cell_type": "code",
      "metadata": {
        "id": "LoiZMlLIA-yO",
        "colab": {
          "base_uri": "https://localhost:8080/"
        },
        "outputId": "0925ef91-91ea-4cb7-dad3-176d24b2b655"
      },
      "source": [
        "print(test.PredictTextEmotion('i feel so embarrassed'))\n"
      ],
      "execution_count": null,
      "outputs": [
        {
          "output_type": "stream",
          "name": "stdout",
          "text": [
            "('sadness', 0.99991584, array([[1.1669124e-06, 7.5490807e-06, 8.7241139e-09, 2.7825772e-05,\n",
            "        9.9991584e-01, 4.7542060e-05]], dtype=float32))\n"
          ]
        }
      ]
    },
    {
      "cell_type": "code",
      "metadata": {
        "id": "CYcFqh8RBJuQ",
        "colab": {
          "base_uri": "https://localhost:8080/"
        },
        "outputId": "a4375caf-6b05-49a5-b4fa-5bfb253ac719"
      },
      "source": [
        "TrainLabelFeatureNames\n"
      ],
      "execution_count": 124,
      "outputs": [
        {
          "output_type": "execute_result",
          "data": {
            "text/plain": [
              "['anger', 'fear', 'joy', 'love', 'sadness', 'surprise']"
            ]
          },
          "metadata": {},
          "execution_count": 124
        }
      ]
    }
  ]
}