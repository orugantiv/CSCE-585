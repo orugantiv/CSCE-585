{
  "nbformat": 4,
  "nbformat_minor": 0,
  "metadata": {
    "orig_nbformat": 4,
    "colab": {
      "name": "EmotionModels.ipynb",
      "provenance": [],
      "machine_shape": "hm"
    },
    "language_info": {
      "name": "python"
    },
    "kernelspec": {
      "name": "python3",
      "display_name": "Python 3"
    },
    "accelerator": "GPU"
  },
  "cells": [
    {
      "cell_type": "markdown",
      "metadata": {
        "id": "Yl9Ht2uggCQw"
      },
      "source": [
        "# **Required Downloads**"
      ]
    },
    {
      "cell_type": "code",
      "metadata": {
        "id": "JNdlEs3mgCQz",
        "outputId": "4f34f1f2-843c-4959-883f-386734e9a1fd",
        "colab": {
          "base_uri": "https://localhost:8080/"
        }
      },
      "source": [
        "!pip install -q transformers\n",
        "!pip install -q contractions\n",
        "!pip install -q autocorrect"
      ],
      "execution_count": 2,
      "outputs": [
        {
          "output_type": "stream",
          "name": "stdout",
          "text": [
            "\u001b[K     |████████████████████████████████| 3.1 MB 8.3 MB/s \n",
            "\u001b[K     |████████████████████████████████| 895 kB 58.8 MB/s \n",
            "\u001b[K     |████████████████████████████████| 3.3 MB 48.3 MB/s \n",
            "\u001b[K     |████████████████████████████████| 61 kB 478 kB/s \n",
            "\u001b[K     |████████████████████████████████| 596 kB 80.6 MB/s \n",
            "\u001b[K     |████████████████████████████████| 321 kB 11.4 MB/s \n",
            "\u001b[K     |████████████████████████████████| 284 kB 67.1 MB/s \n",
            "\u001b[?25h  Building wheel for pyahocorasick (setup.py) ... \u001b[?25l\u001b[?25hdone\n",
            "\u001b[K     |████████████████████████████████| 622 kB 9.1 MB/s \n",
            "\u001b[?25h  Building wheel for autocorrect (setup.py) ... \u001b[?25l\u001b[?25hdone\n"
          ]
        }
      ]
    },
    {
      "cell_type": "markdown",
      "metadata": {
        "id": "hwMqdpb2gCQ2"
      },
      "source": [
        "# **Required Imports**"
      ]
    },
    {
      "cell_type": "code",
      "metadata": {
        "id": "adjxCh2igCQ3"
      },
      "source": [
        "\n",
        "from transformers import BertTokenizer, TFBertForSequenceClassification\n",
        "from transformers import DistilBertTokenizer, TFDistilBertForSequenceClassification\n",
        "from transformers import RobertaTokenizer,TFRobertaForSequenceClassification\n",
        "from transformers import XLNetTokenizer, TFXLNetForSequenceClassification\n",
        "from transformers import ElectraTokenizer,TFElectraForSequenceClassification\n",
        "from transformers import GPT2Tokenizer,TFGPT2ForSequenceClassification\n",
        "from transformers import FlaubertTokenizer,TFFlaubertForSequenceClassification\n",
        "from transformers import DebertaTokenizer,TFDebertaForSequenceClassification\n",
        "from transformers import AutoTokenizer, TFAutoModelForSequenceClassification,TFPreTrainedModel\n",
        "\n",
        "import time\n",
        "\n",
        "from matplotlib import pyplot as plt\n",
        "from sklearn.metrics import confusion_matrix , classification_report\n",
        "import pandas as pd\n",
        "import seaborn as sns\n",
        "\n",
        "import tensorflow as tf\n",
        "import json\n",
        "\n",
        "import numpy as np\n",
        "import pandas as pd\n",
        "\n",
        "\n",
        "import os\n",
        "import re\n",
        "\n",
        "from nltk.stem import WordNetLemmatizer\n",
        "from nltk.tokenize import sent_tokenize\n",
        "\n",
        "import contractions\n",
        "from textblob import TextBlob\n",
        "from sklearn.feature_extraction.text import CountVectorizer, TfidfVectorizer\n",
        "from autocorrect import Speller\n",
        "\n"
      ],
      "execution_count": 149,
      "outputs": []
    },
    {
      "cell_type": "markdown",
      "metadata": {
        "id": "47pKS2lxhB3C"
      },
      "source": [
        "# **Data Prepration**"
      ]
    },
    {
      "cell_type": "markdown",
      "metadata": {
        "id": "Bz-Rx6FJokN-"
      },
      "source": [
        "## Importing Data\n",
        "- The following cell is importing data from google drive and storing the files to /home/Emotiondata directory.\n",
        "- Data Source: \n",
        "> https://www.kaggle.com/praveengovi/emotions-dataset-for-nlp"
      ]
    },
    {
      "cell_type": "code",
      "metadata": {
        "colab": {
          "base_uri": "https://localhost:8080/"
        },
        "id": "DAEtK1AGhGD7",
        "outputId": "77a45474-da25-4474-8ede-25952a60f2f3"
      },
      "source": [
        "from google.colab import drive\n",
        "drive.mount('/content/drive')"
      ],
      "execution_count": 4,
      "outputs": [
        {
          "output_type": "stream",
          "name": "stdout",
          "text": [
            "Mounted at /content/drive\n"
          ]
        }
      ]
    },
    {
      "cell_type": "code",
      "metadata": {
        "colab": {
          "base_uri": "https://localhost:8080/"
        },
        "id": "szJKMtjzqqah",
        "outputId": "edf9cc1f-f508-418a-9854-b5d26bfe5796"
      },
      "source": [
        "DataDir = '/home/EmotionData/'\n",
        "!mkdir /home/EmotionData\n",
        "!unzip /content/drive/MyDrive/archive.zip \n",
        "!mv /content/*.txt /home/EmotionData"
      ],
      "execution_count": 98,
      "outputs": [
        {
          "output_type": "stream",
          "name": "stdout",
          "text": [
            "Archive:  /content/drive/MyDrive/archive.zip\n",
            "  inflating: test.txt                \n",
            "  inflating: train.txt               \n",
            "  inflating: val.txt                 \n"
          ]
        }
      ]
    },
    {
      "cell_type": "markdown",
      "metadata": {
        "id": "Qx8Kr2o-sWO-"
      },
      "source": [
        "## Loading Data\n",
        "- The Following cell loads train, validation and test data to variables \n",
        "- Used Sources: \n",
        ">https://stackoverflow.com/questions/21546739/load-data-from-txt-with-pandas"
      ]
    },
    {
      "cell_type": "code",
      "metadata": {
        "colab": {
          "base_uri": "https://localhost:8080/",
          "height": 204
        },
        "id": "ZedJaw-rsZ16",
        "outputId": "c3edf9a6-3028-447a-ca38-228cd6f22620"
      },
      "source": [
        "def readDataEmotionData1(dataPath):\n",
        "  data = pd.read_csv(DataDir+dataPath, sep=\";\", header=None, names = ['Text','Label'])\n",
        "  return data;\n",
        "\n",
        "trainData = readDataEmotionData1('train.txt')\n",
        "valData = readDataEmotionData1('val.txt')\n",
        "testData = readDataEmotionData1('test.txt')\n",
        "# Shows how the data looks in the padas DataFrame after loading \n",
        "trainData.head()"
      ],
      "execution_count": 6,
      "outputs": [
        {
          "output_type": "execute_result",
          "data": {
            "text/html": [
              "<div>\n",
              "<style scoped>\n",
              "    .dataframe tbody tr th:only-of-type {\n",
              "        vertical-align: middle;\n",
              "    }\n",
              "\n",
              "    .dataframe tbody tr th {\n",
              "        vertical-align: top;\n",
              "    }\n",
              "\n",
              "    .dataframe thead th {\n",
              "        text-align: right;\n",
              "    }\n",
              "</style>\n",
              "<table border=\"1\" class=\"dataframe\">\n",
              "  <thead>\n",
              "    <tr style=\"text-align: right;\">\n",
              "      <th></th>\n",
              "      <th>Text</th>\n",
              "      <th>Label</th>\n",
              "    </tr>\n",
              "  </thead>\n",
              "  <tbody>\n",
              "    <tr>\n",
              "      <th>0</th>\n",
              "      <td>i didnt feel humiliated</td>\n",
              "      <td>sadness</td>\n",
              "    </tr>\n",
              "    <tr>\n",
              "      <th>1</th>\n",
              "      <td>i can go from feeling so hopeless to so damned...</td>\n",
              "      <td>sadness</td>\n",
              "    </tr>\n",
              "    <tr>\n",
              "      <th>2</th>\n",
              "      <td>im grabbing a minute to post i feel greedy wrong</td>\n",
              "      <td>anger</td>\n",
              "    </tr>\n",
              "    <tr>\n",
              "      <th>3</th>\n",
              "      <td>i am ever feeling nostalgic about the fireplac...</td>\n",
              "      <td>love</td>\n",
              "    </tr>\n",
              "    <tr>\n",
              "      <th>4</th>\n",
              "      <td>i am feeling grouchy</td>\n",
              "      <td>anger</td>\n",
              "    </tr>\n",
              "  </tbody>\n",
              "</table>\n",
              "</div>"
            ],
            "text/plain": [
              "                                                Text    Label\n",
              "0                            i didnt feel humiliated  sadness\n",
              "1  i can go from feeling so hopeless to so damned...  sadness\n",
              "2   im grabbing a minute to post i feel greedy wrong    anger\n",
              "3  i am ever feeling nostalgic about the fireplac...     love\n",
              "4                               i am feeling grouchy    anger"
            ]
          },
          "metadata": {},
          "execution_count": 6
        }
      ]
    },
    {
      "cell_type": "markdown",
      "metadata": {
        "id": "M_p5AhGUxSXz"
      },
      "source": [
        "## About the Data\n"
      ]
    },
    {
      "cell_type": "code",
      "metadata": {
        "colab": {
          "base_uri": "https://localhost:8080/",
          "height": 0
        },
        "id": "_XbCgkxK0HOV",
        "outputId": "4a60e4f1-460d-46e8-b6c1-24fe1c77ab9b"
      },
      "source": [
        "# The following function adds length coloum to pandas Dataframe\n",
        "def addTextLength(dataFrame):\n",
        "  lengthData = []\n",
        "  for i in dataFrame['Text']:\n",
        "    lengthData.append(len(i))\n",
        "  dataFrame=dataFrame.assign(Length=lengthData)\n",
        "  return dataFrame\n",
        "trainData = addTextLength(trainData)\n",
        "valData = addTextLength(valData)\n",
        "testData = addTextLength(testData)\n",
        "valData.head()"
      ],
      "execution_count": 7,
      "outputs": [
        {
          "output_type": "execute_result",
          "data": {
            "text/html": [
              "<div>\n",
              "<style scoped>\n",
              "    .dataframe tbody tr th:only-of-type {\n",
              "        vertical-align: middle;\n",
              "    }\n",
              "\n",
              "    .dataframe tbody tr th {\n",
              "        vertical-align: top;\n",
              "    }\n",
              "\n",
              "    .dataframe thead th {\n",
              "        text-align: right;\n",
              "    }\n",
              "</style>\n",
              "<table border=\"1\" class=\"dataframe\">\n",
              "  <thead>\n",
              "    <tr style=\"text-align: right;\">\n",
              "      <th></th>\n",
              "      <th>Text</th>\n",
              "      <th>Label</th>\n",
              "      <th>Length</th>\n",
              "    </tr>\n",
              "  </thead>\n",
              "  <tbody>\n",
              "    <tr>\n",
              "      <th>0</th>\n",
              "      <td>im feeling quite sad and sorry for myself but ...</td>\n",
              "      <td>sadness</td>\n",
              "      <td>69</td>\n",
              "    </tr>\n",
              "    <tr>\n",
              "      <th>1</th>\n",
              "      <td>i feel like i am still looking at a blank canv...</td>\n",
              "      <td>sadness</td>\n",
              "      <td>70</td>\n",
              "    </tr>\n",
              "    <tr>\n",
              "      <th>2</th>\n",
              "      <td>i feel like a faithful servant</td>\n",
              "      <td>love</td>\n",
              "      <td>30</td>\n",
              "    </tr>\n",
              "    <tr>\n",
              "      <th>3</th>\n",
              "      <td>i am just feeling cranky and blue</td>\n",
              "      <td>anger</td>\n",
              "      <td>33</td>\n",
              "    </tr>\n",
              "    <tr>\n",
              "      <th>4</th>\n",
              "      <td>i can have for a treat or if i am feeling festive</td>\n",
              "      <td>joy</td>\n",
              "      <td>49</td>\n",
              "    </tr>\n",
              "  </tbody>\n",
              "</table>\n",
              "</div>"
            ],
            "text/plain": [
              "                                                Text    Label  Length\n",
              "0  im feeling quite sad and sorry for myself but ...  sadness      69\n",
              "1  i feel like i am still looking at a blank canv...  sadness      70\n",
              "2                     i feel like a faithful servant     love      30\n",
              "3                  i am just feeling cranky and blue    anger      33\n",
              "4  i can have for a treat or if i am feeling festive      joy      49"
            ]
          },
          "metadata": {},
          "execution_count": 7
        }
      ]
    },
    {
      "cell_type": "code",
      "metadata": {
        "colab": {
          "base_uri": "https://localhost:8080/",
          "height": 0
        },
        "id": "Ac0ziLoN3NBV",
        "outputId": "79fa72d7-f1c1-4047-c80f-4acc164c8457"
      },
      "source": [
        "# This shows the distrubution of the number of characters length of the Text.\n",
        "def plotDestrubrition(data,name):\n",
        "  sns.set_style('darkgrid')\n",
        "  plt.figure(figsize=(5,5))\n",
        "  plt.title(name)\n",
        "  sns.distplot(data)\n",
        "plotDestrubrition(trainData['Length'],'Train Data')"
      ],
      "execution_count": 8,
      "outputs": [
        {
          "output_type": "stream",
          "name": "stderr",
          "text": [
            "/usr/local/lib/python3.7/dist-packages/seaborn/distributions.py:2619: FutureWarning: `distplot` is a deprecated function and will be removed in a future version. Please adapt your code to use either `displot` (a figure-level function with similar flexibility) or `histplot` (an axes-level function for histograms).\n",
            "  warnings.warn(msg, FutureWarning)\n"
          ]
        },
        {
          "output_type": "display_data",
          "data": {
            "image/png": "[encoded data removed]",
            "text/plain": [
              "<Figure size 360x360 with 1 Axes>"
            ]
          },
          "metadata": {}
        }
      ]
    },
    {
      "cell_type": "code",
      "metadata": {
        "colab": {
          "base_uri": "https://localhost:8080/",
          "height": 0
        },
        "id": "dfWMCFyR6bjQ",
        "outputId": "b6d5d810-29d0-4941-a879-34655de241eb"
      },
      "source": [
        "maxSentanceLength = 300\n",
        "trainData.describe()"
      ],
      "execution_count": 9,
      "outputs": [
        {
          "output_type": "execute_result",
          "data": {
            "text/html": [
              "<div>\n",
              "<style scoped>\n",
              "    .dataframe tbody tr th:only-of-type {\n",
              "        vertical-align: middle;\n",
              "    }\n",
              "\n",
              "    .dataframe tbody tr th {\n",
              "        vertical-align: top;\n",
              "    }\n",
              "\n",
              "    .dataframe thead th {\n",
              "        text-align: right;\n",
              "    }\n",
              "</style>\n",
              "<table border=\"1\" class=\"dataframe\">\n",
              "  <thead>\n",
              "    <tr style=\"text-align: right;\">\n",
              "      <th></th>\n",
              "      <th>Length</th>\n",
              "    </tr>\n",
              "  </thead>\n",
              "  <tbody>\n",
              "    <tr>\n",
              "      <th>count</th>\n",
              "      <td>16000.000000</td>\n",
              "    </tr>\n",
              "    <tr>\n",
              "      <th>mean</th>\n",
              "      <td>96.845812</td>\n",
              "    </tr>\n",
              "    <tr>\n",
              "      <th>std</th>\n",
              "      <td>55.904953</td>\n",
              "    </tr>\n",
              "    <tr>\n",
              "      <th>min</th>\n",
              "      <td>7.000000</td>\n",
              "    </tr>\n",
              "    <tr>\n",
              "      <th>25%</th>\n",
              "      <td>53.000000</td>\n",
              "    </tr>\n",
              "    <tr>\n",
              "      <th>50%</th>\n",
              "      <td>86.000000</td>\n",
              "    </tr>\n",
              "    <tr>\n",
              "      <th>75%</th>\n",
              "      <td>129.000000</td>\n",
              "    </tr>\n",
              "    <tr>\n",
              "      <th>max</th>\n",
              "      <td>300.000000</td>\n",
              "    </tr>\n",
              "  </tbody>\n",
              "</table>\n",
              "</div>"
            ],
            "text/plain": [
              "             Length\n",
              "count  16000.000000\n",
              "mean      96.845812\n",
              "std       55.904953\n",
              "min        7.000000\n",
              "25%       53.000000\n",
              "50%       86.000000\n",
              "75%      129.000000\n",
              "max      300.000000"
            ]
          },
          "metadata": {},
          "execution_count": 9
        }
      ]
    },
    {
      "cell_type": "markdown",
      "metadata": {
        "id": "ZJpbHnHp70gU"
      },
      "source": [
        "## Text Prepration\n",
        "- Decontracted: https://www.geeksforgeeks.org/nlp-expand-contractions-in-text-processing/\n",
        "- Spell check\n",
        "- About Formatted Data\n",
        "- Labels One hot enconding\n",
        "- Text Enconding using Model specific, ex. BertTokenizer, RobertaTokenizer,etc."
      ]
    },
    {
      "cell_type": "code",
      "metadata": {
        "colab": {
          "base_uri": "https://localhost:8080/"
        },
        "id": "fyCHlYHO76Ya",
        "outputId": "647da043-5372-492c-b012-8df1ecf0483e"
      },
      "source": [
        "def Decontracted(DataFrame):\n",
        "  for i, text in enumerate(DataFrame['Text']):\n",
        "    DataFrame['Text'][i] = contractions.fix(text)\n",
        "  return DataFrame\n",
        "trainData = Decontracted(trainData)\n",
        "valData = Decontracted(valData)\n",
        "testData = Decontracted(testData)"
      ],
      "execution_count": 10,
      "outputs": [
        {
          "output_type": "stream",
          "name": "stderr",
          "text": [
            "/usr/local/lib/python3.7/dist-packages/ipykernel_launcher.py:3: SettingWithCopyWarning: \n",
            "A value is trying to be set on a copy of a slice from a DataFrame\n",
            "\n",
            "See the caveats in the documentation: https://pandas.pydata.org/pandas-docs/stable/user_guide/indexing.html#returning-a-view-versus-a-copy\n",
            "  This is separate from the ipykernel package so we can avoid doing imports until\n"
          ]
        }
      ]
    },
    {
      "cell_type": "code",
      "metadata": {
        "id": "2rcM-5tCHYYk"
      },
      "source": [
        "# from autocorrect import Speller\n",
        "# def SpellCheck(DataFrame):\n",
        "#   spell = Speller(lang='en')\n",
        "#   for i, text in enumerate(DataFrame['Text']):\n",
        "#       DataFrame['Text'][i] = str(spell(text))\n",
        "#   return DataFrame\n",
        "\n",
        "# trainData = SpellCheck(trainData)\n",
        "# valData = SpellCheck(valData)\n",
        "# testData = SpellCheck(testData)"
      ],
      "execution_count": 11,
      "outputs": []
    },
    {
      "cell_type": "code",
      "metadata": {
        "colab": {
          "base_uri": "https://localhost:8080/"
        },
        "id": "h5eELCHFPqCg",
        "outputId": "09b08192-ccac-4648-9fc8-75a5712f2bcf"
      },
      "source": [
        "def LabelEncoding(DataFrame):\n",
        "  labels = []\n",
        "  encodeVectorizer = CountVectorizer(analyzer = \"word\", tokenizer = None,lowercase=True, preprocessor = None, stop_words = None)\n",
        "  encodedLabels = encodeVectorizer.fit_transform(DataFrame['Label']).toarray()\n",
        "  LabelsNames = list(encodeVectorizer.get_feature_names())\n",
        "  for i in DataFrame['Label']:\n",
        "    labels.append((list(LabelsNames).index(i)))\n",
        "  return labels,LabelsNames\n",
        "encodedTrainLabels,TrainLabelFeatureNames = LabelEncoding(trainData)\n",
        "encodedValLabels,ValLabelFeatureNames = LabelEncoding(valData)\n",
        "encodedTestLabels,TestLabelFeatureNames = LabelEncoding(testData)"
      ],
      "execution_count": 12,
      "outputs": [
        {
          "output_type": "stream",
          "name": "stderr",
          "text": [
            "/usr/local/lib/python3.7/dist-packages/sklearn/utils/deprecation.py:87: FutureWarning: Function get_feature_names is deprecated; get_feature_names is deprecated in 1.0 and will be removed in 1.2. Please use get_feature_names_out instead.\n",
            "  warnings.warn(msg, category=FutureWarning)\n"
          ]
        }
      ]
    },
    {
      "cell_type": "code",
      "metadata": {
        "id": "1_ri2vPcjaa8"
      },
      "source": [
        "def TextEncoding(tokenizerType,\n",
        "                 dataTextList, \n",
        "                 LabelList, \n",
        "                 batchSize,\n",
        "                 shufflingParameter,\n",
        "                 maxLen):\n",
        "  tokenizer = AutoTokenizer.from_pretrained(tokenizerType)\n",
        "  textEncodings = tokenizer(dataTextList,\n",
        "                            truncation=True, \n",
        "                            max_length = maxLen,\n",
        "                            padding=\"max_length\")\n",
        "  \n",
        "  dataset = tf.data.Dataset.from_tensor_slices((\n",
        "    dict(textEncodings),\n",
        "    LabelList\n",
        "    ))\n",
        "  # dataset = dataset.shuffle(shufflingParameter).batch(batchSize)\n",
        "  return dataset,tokenizer"
      ],
      "execution_count": 13,
      "outputs": []
    },
    {
      "cell_type": "markdown",
      "metadata": {
        "id": "8dN3hq8nn3IJ"
      },
      "source": [
        "# **Model Bulding and Training**"
      ]
    },
    {
      "cell_type": "code",
      "metadata": {
        "id": "fFYHDS4vozRo"
      },
      "source": [
        "def CreateModel(model,\n",
        "                numLabels,\n",
        "                maxSentanceLength):\n",
        "  input_ids = tf.keras.layers.Input(shape=(200,),name=\"input_ids\", dtype='int32')\n",
        "  mask = tf.keras.layers.Input(shape=(200,),name=\"attention_mask\",dtype='int32')\n",
        "  embeddings = model(input_ids,attention_mask=mask)[0]\n",
        "  layer = tf.keras.layers.Dense(600,activation='relu')(embeddings)\n",
        "  layer = tf.keras.layers.BatchNormalization()(layer)\n",
        "  layer = tf.keras.layers.Dense(60,activation='relu')(layer)\n",
        "  layer = tf.keras.layers.Dropout(0.1)(layer)\n",
        "  outputLayer = tf.keras.layers.Dense(6,activation='softmax',name='outputs')(layer)\n",
        "  testModel = tf.keras.Model(inputs=[input_ids,mask],outputs=outputLayer)\n",
        "  return testModel"
      ],
      "execution_count": 101,
      "outputs": []
    },
    {
      "cell_type": "code",
      "metadata": {
        "id": "bIyUN9F8SY1U"
      },
      "source": [
        "def plotEpochs(his, modelName):\n",
        "  legends = []\n",
        "  for i in hist.history.keys():\n",
        "    plt.plot(hist.history[i])\n",
        "    legends.append(i)\n",
        "  plt.title(modelName + ' model accuracy')\n",
        "  plt.ylabel('accuracy')\n",
        "  plt.xlabel('epoch')\n",
        "  plt.legend(legends, loc='right')\n",
        "  plt.show()\n"
      ],
      "execution_count": 102,
      "outputs": []
    },
    {
      "cell_type": "code",
      "metadata": {
        "id": "GKbbulHOm5-9"
      },
      "source": [
        "from keras import backend as K\n",
        "\n",
        "def recall_m(y_true, y_pred):\n",
        "    true_positives = K.sum(K.round(K.clip(y_true * y_pred, 0, 1)))\n",
        "    possible_positives = K.sum(K.round(K.clip(y_true, 0, 1)))\n",
        "    recall = true_positives / (possible_positives + K.epsilon())\n",
        "    return recall\n",
        "\n",
        "def precision_m(y_true, y_pred):\n",
        "    true_positives = K.sum(K.round(K.clip(y_true * y_pred, 0, 1)))\n",
        "    predicted_positives = K.sum(K.round(K.clip(y_pred, 0, 1)))\n",
        "    precision = true_positives / (predicted_positives + K.epsilon())\n",
        "    return precision\n",
        "\n",
        "def f1_m(y_true, y_pred):\n",
        "    precision = precision_m(y_true, y_pred)\n",
        "    recall = recall_m(y_true, y_pred)\n",
        "    return 2*((precision*recall)/(precision+recall+K.epsilon()))"
      ],
      "execution_count": 103,
      "outputs": []
    },
    {
      "cell_type": "code",
      "metadata": {
        "id": "RFsyOOkxTRTL"
      },
      "source": [
        "#Train Parameters\n",
        "maxSentanceLength = 200\n",
        "BatchSize = 16\n",
        "shufflingParameter = 1000\n",
        "Learning_rate=5e-5\n",
        "Epochs=4\n",
        "numLabels = len(encodedTrainLabels)"
      ],
      "execution_count": 104,
      "outputs": []
    },
    {
      "cell_type": "code",
      "metadata": {
        "id": "r9io9paZQFuy"
      },
      "source": [
        "# Roberta Model\n",
        "trainDataSet,tokenizer = TextEncoding('bert-base-uncased',list(trainData['Text']),encodedTrainLabels,BatchSize,shufflingParameter,maxSentanceLength)\n",
        "valDataSet,tokenizer = TextEncoding('bert-base-uncased',list(valData['Text']),encodedValLabels,BatchSize,shufflingParameter,maxSentanceLength)\n",
        "testDataSet,tokenizer = TextEncoding('bert-base-uncased',list(testData['Text']),encodedTestLabels,BatchSize,shufflingParameter,maxSentanceLength)"
      ],
      "execution_count": 105,
      "outputs": []
    },
    {
      "cell_type": "code",
      "metadata": {
        "id": "DZtHUx3MkBdj",
        "colab": {
          "base_uri": "https://localhost:8080/"
        },
        "outputId": "3c441605-8c78-4ad7-c0f6-b1e01a35ebf5"
      },
      "source": [
        "model = TFBertForSequenceClassification.from_pretrained('bert-base-uncased',num_labels=6)\n",
        "model = CreateModel(model,numLabels,maxSentanceLength)\n",
        "model.compile(optimizer=tf.keras.optimizers.Adam(learning_rate=5e-5), loss=tf.keras.losses.SparseCategoricalCrossentropy(), \n",
        "              metrics=['accuracy'])\n",
        "hist = model.fit(trainDataSet.batch(16),\n",
        "          epochs=3,\n",
        "          batch_size=16,\n",
        "          validation_data =valDataSet.batch(16))"
      ],
      "execution_count": 107,
      "outputs": [
        {
          "output_type": "stream",
          "name": "stderr",
          "text": [
            "All model checkpoint layers were used when initializing TFBertForSequenceClassification.\n",
            "\n",
            "Some layers of TFBertForSequenceClassification were not initialized from the model checkpoint at bert-base-uncased and are newly initialized: ['classifier']\n",
            "You should probably TRAIN this model on a down-stream task to be able to use it for predictions and inference.\n"
          ]
        },
        {
          "output_type": "stream",
          "name": "stdout",
          "text": [
            "Epoch 1/3\n"
          ]
        },
        {
          "output_type": "stream",
          "name": "stderr",
          "text": [
            "/usr/local/lib/python3.7/dist-packages/keras/engine/functional.py:559: UserWarning: Input dict contained keys ['token_type_ids'] which did not match any model input. They will be ignored by the model.\n",
            "  inputs = self._flatten_to_reference_inputs(inputs)\n"
          ]
        },
        {
          "output_type": "stream",
          "name": "stdout",
          "text": [
            "1000/1000 [==============================] - 434s 419ms/step - loss: 0.5482 - accuracy: 0.8156 - val_loss: 0.2325 - val_accuracy: 0.9330\n",
            "Epoch 2/3\n",
            "1000/1000 [==============================] - 416s 416ms/step - loss: 0.1893 - accuracy: 0.9329 - val_loss: 0.1508 - val_accuracy: 0.9420\n",
            "Epoch 3/3\n",
            "1000/1000 [==============================] - 416s 416ms/step - loss: 0.1553 - accuracy: 0.9389 - val_loss: 0.1548 - val_accuracy: 0.9365\n"
          ]
        }
      ]
    },
    {
      "cell_type": "code",
      "metadata": {
        "id": "DYtpPU4368a6"
      },
      "source": [
        "!rm -rf /home/*\n",
        "model.save_weights('/home/Bert-Base-Trained.h5')"
      ],
      "execution_count": 108,
      "outputs": []
    },
    {
      "cell_type": "code",
      "metadata": {
        "id": "aZ2DbmV44TJN",
        "outputId": "001dd323-8cc8-4d73-dffa-2e29a19ee27c",
        "colab": {
          "base_uri": "https://localhost:8080/",
          "height": 295
        }
      },
      "source": [
        "plotEpochs(hist, 'Bert')"
      ],
      "execution_count": 109,
      "outputs": [
        {
          "output_type": "display_data",
          "data": {
            "image/png": "[encoded data removed]",
            "text/plain": [
              "<Figure size 432x288 with 1 Axes>"
            ]
          },
          "metadata": {}
        }
      ]
    },
    {
      "cell_type": "code",
      "metadata": {
        "id": "G-CQ9-rn7M7D",
        "colab": {
          "base_uri": "https://localhost:8080/"
        },
        "outputId": "15a01340-4131-4f6c-8a88-b73150216aa4"
      },
      "source": [
        "model = TFRobertaForSequenceClassification.from_pretrained('roberta-base',num_labels=6)\n",
        "model = CreateModel(model,6,100)\n",
        "model.load_weights('/home/Roberta-Trained2.h5')\n",
        "# new_moedl = tf.keras.models.load_model(\n",
        "#     \"/home/Roberta-Trained4\"\n",
        "# )"
      ],
      "execution_count": 48,
      "outputs": [
        {
          "output_type": "stream",
          "name": "stderr",
          "text": [
            "All model checkpoint layers were used when initializing TFRobertaForSequenceClassification.\n",
            "\n",
            "Some layers of TFRobertaForSequenceClassification were not initialized from the model checkpoint at roberta-base and are newly initialized: ['classifier']\n",
            "You should probably TRAIN this model on a down-stream task to be able to use it for predictions and inference.\n"
          ]
        }
      ]
    },
    {
      "cell_type": "code",
      "metadata": {
        "id": "CKD8bHS57tSr"
      },
      "source": [
        "class PredictEmotion:\n",
        "  \n",
        "  def __init__(self,\n",
        "               modelName, \n",
        "               modelPath,\n",
        "               isTokenizerFast = False, \n",
        "               numLabels = 6):\n",
        "    \n",
        "    self.modelName = modelName\n",
        "    self.modelPath = modelPath\n",
        "    self.isTokenizerFast = isTokenizerFast\n",
        "    self.numLabels = numLabels\n",
        "    self.model = self.MakeModelArchitecture()\n",
        "    self.loadModelWeights()\n",
        "    self.tokenizer = self.makeTokenizer()\n",
        "    self.spell = Speller(lang='en')\n",
        "    self.emotionTypes = ['anger', 'fear', 'joy', 'love', 'sadness', 'surprise','other']\n",
        "\n",
        "  def MakeModelArchitecture(self):\n",
        "    model = TFAutoModelForSequenceClassification.from_pretrained(self.modelName,\n",
        "                                                                 num_labels =6)\n",
        "    input_ids = tf.keras.layers.Input(shape=(200,),name=\"input_ids\", dtype='int32')\n",
        "    mask = tf.keras.layers.Input(shape=(200,),name=\"attention_mask\",dtype='int32')\n",
        "    embeddings = model(input_ids,attention_mask=mask)[0]\n",
        "    layer = tf.keras.layers.Dense(600,activation='relu')(embeddings)\n",
        "    layer = tf.keras.layers.BatchNormalization()(layer)\n",
        "    layer = tf.keras.layers.Dense(60,activation='relu')(layer)\n",
        "    layer = tf.keras.layers.Dropout(0.1)(layer)\n",
        "    outputLayer = tf.keras.layers.Dense(6,activation='softmax',name='outputs')(layer)\n",
        "    ModelArchitecture = tf.keras.Model(inputs=[input_ids,mask],outputs=outputLayer)\n",
        "    return ModelArchitecture\n",
        "\n",
        "  def loadModelWeights(self):\n",
        "    self.model.load_weights(self.modelPath)\n",
        "  \n",
        "  def makeTokenizer(self):\n",
        "    return AutoTokenizer.from_pretrained(self.modelName)\n",
        "  \n",
        "  def TextPrepration(self,text):\n",
        "    DecontractedText = contractions.fix(text)\n",
        "    # SpelledText = str(self.spell(DecontractedText))\n",
        "    textEncodings = tokenizer(DecontractedText,\n",
        "                            truncation=True, \n",
        "                            max_length = 200,\n",
        "                            padding=\"max_length\", \n",
        "                            return_tensors='tf')\n",
        "    return {\n",
        "      'input_ids': tf.cast(textEncodings['input_ids'],tf.int32),\n",
        "      'attention_mask': tf.cast(textEncodings['attention_mask'],tf.int32)}\n",
        "\n",
        "  def PredictTextEmotion(self,text):\n",
        "    prepratedText = self.TextPrepration(text)\n",
        "    emotion = model.predict(prepratedText) \n",
        "    predictedEmotion = np.argmax(emotion)\n",
        "    highestProb = emotion[0][predictedEmotion]\n",
        "    if (highestProb<0.7):\n",
        "      return self.emotionTypes[len(self.emotionTypes)-1],0.7\n",
        "    else:\n",
        "      return self.emotionTypes[predictedEmotion],highestProb\n"
      ],
      "execution_count": 168,
      "outputs": []
    },
    {
      "cell_type": "code",
      "metadata": {
        "id": "j_6MFVJZ_z4B"
      },
      "source": [
        "def predictEmotionTestData(predict,testDataSet):\n",
        "  # startTime = time.time()\n",
        "  predictedLabels = []\n",
        "  for i in testDataSet:\n",
        "    # print(i)\n",
        "    emotion,prob = predict.PredictTextEmotion(i)\n",
        "    predictedLabels.append(emotion)\n",
        "  # endTime = time.time()\n",
        "  # elapasedTime = (startTime-endTime)/60\n",
        "  return predictedLabels\n"
      ],
      "execution_count": 164,
      "outputs": []
    },
    {
      "cell_type": "code",
      "metadata": {
        "id": "MXpiTn_kBgqW",
        "outputId": "a3e7f31e-0cd5-476c-89c5-61a7b38df8fb",
        "colab": {
          "base_uri": "https://localhost:8080/"
        }
      },
      "source": [
        "predictClass = PredictEmotion('bert-base-uncased','/home/Bert-Base-Trained.h5')\n",
        "predVal = predictEmotionTestData(predictClass,list(testData['Text']))\n",
        "from sklearn.metrics import f1_score\n",
        "# f1_score(true_output, pimport matplotlib.pyplot as pltredict_output, average='macro')\n"
      ],
      "execution_count": 169,
      "outputs": [
        {
          "output_type": "stream",
          "name": "stderr",
          "text": [
            "All model checkpoint layers were used when initializing TFBertForSequenceClassification.\n",
            "\n",
            "Some layers of TFBertForSequenceClassification were not initialized from the model checkpoint at bert-base-uncased and are newly initialized: ['classifier']\n",
            "You should probably TRAIN this model on a down-stream task to be able to use it for predictions and inference.\n"
          ]
        }
      ]
    },
    {
      "cell_type": "code",
      "metadata": {
        "id": "4VzLO6qPErKP",
        "outputId": "e5c0644c-2a91-4bbf-a8ae-fda15299b611",
        "colab": {
          "base_uri": "https://localhost:8080/"
        }
      },
      "source": [
        "print(classification_report(list(testData['Label']), predVal))\n"
      ],
      "execution_count": 172,
      "outputs": [
        {
          "output_type": "stream",
          "name": "stdout",
          "text": [
            "              precision    recall  f1-score   support\n",
            "\n",
            "       anger       0.97      0.91      0.94       275\n",
            "        fear       0.96      0.82      0.88       224\n",
            "         joy       0.99      0.91      0.95       695\n",
            "        love       1.00      0.66      0.80       159\n",
            "       other       0.00      0.00      0.00         0\n",
            "     sadness       0.98      0.96      0.97       581\n",
            "    surprise       0.87      0.68      0.76        66\n",
            "\n",
            "    accuracy                           0.89      2000\n",
            "   macro avg       0.82      0.71      0.76      2000\n",
            "weighted avg       0.98      0.89      0.93      2000\n",
            "\n"
          ]
        },
        {
          "output_type": "stream",
          "name": "stderr",
          "text": [
            "/usr/local/lib/python3.7/dist-packages/sklearn/metrics/_classification.py:1308: UndefinedMetricWarning: Recall and F-score are ill-defined and being set to 0.0 in labels with no true samples. Use `zero_division` parameter to control this behavior.\n",
            "  _warn_prf(average, modifier, msg_start, len(result))\n",
            "/usr/local/lib/python3.7/dist-packages/sklearn/metrics/_classification.py:1308: UndefinedMetricWarning: Recall and F-score are ill-defined and being set to 0.0 in labels with no true samples. Use `zero_division` parameter to control this behavior.\n",
            "  _warn_prf(average, modifier, msg_start, len(result))\n",
            "/usr/local/lib/python3.7/dist-packages/sklearn/metrics/_classification.py:1308: UndefinedMetricWarning: Recall and F-score are ill-defined and being set to 0.0 in labels with no true samples. Use `zero_division` parameter to control this behavior.\n",
            "  _warn_prf(average, modifier, msg_start, len(result))\n"
          ]
        }
      ]
    },
    {
      "cell_type": "code",
      "metadata": {
        "id": "8O1Z4PZ8_zED",
        "outputId": "67b6f5d3-0d70-422f-c13b-70f464404264",
        "colab": {
          "base_uri": "https://localhost:8080/"
        }
      },
      "source": [
        "\n",
        "sent = 'im feeling quite sad and sorry for myself but ill snap out of it soon'"
      ],
      "execution_count": 133,
      "outputs": [
        {
          "output_type": "stream",
          "name": "stderr",
          "text": [
            "All model checkpoint layers were used when initializing TFBertForSequenceClassification.\n",
            "\n",
            "Some layers of TFBertForSequenceClassification were not initialized from the model checkpoint at bert-base-uncased and are newly initialized: ['classifier']\n",
            "You should probably TRAIN this model on a down-stream task to be able to use it for predictions and inference.\n"
          ]
        }
      ]
    },
    {
      "cell_type": "code",
      "metadata": {
        "id": "LoiZMlLIA-yO",
        "colab": {
          "base_uri": "https://localhost:8080/"
        },
        "outputId": "0925ef91-91ea-4cb7-dad3-176d24b2b655"
      },
      "source": [
        "print(test.PredictTextEmotion('i feel so embarrassed'))\n"
      ],
      "execution_count": 140,
      "outputs": [
        {
          "output_type": "stream",
          "name": "stdout",
          "text": [
            "('sadness', 0.99991584, array([[1.1669124e-06, 7.5490807e-06, 8.7241139e-09, 2.7825772e-05,\n",
            "        9.9991584e-01, 4.7542060e-05]], dtype=float32))\n"
          ]
        }
      ]
    },
    {
      "cell_type": "code",
      "metadata": {
        "id": "CYcFqh8RBJuQ",
        "colab": {
          "base_uri": "https://localhost:8080/"
        },
        "outputId": "e8e35ff5-3bcb-4585-f936-239d0cc45aba"
      },
      "source": [
        "TrainLabelFeatureNames\n"
      ],
      "execution_count": 68,
      "outputs": [
        {
          "output_type": "execute_result",
          "data": {
            "text/plain": [
              "['anger', 'fear', 'joy', 'love', 'sadness', 'surprise']"
            ]
          },
          "metadata": {},
          "execution_count": 68
        }
      ]
    }
  ]
}